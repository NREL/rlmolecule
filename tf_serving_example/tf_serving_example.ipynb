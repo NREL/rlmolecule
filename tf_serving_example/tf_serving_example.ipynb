{
 "cells": [
  {
   "cell_type": "markdown",
   "metadata": {},
   "source": [
    "# Getting tensorflow-serving working on eagle\n",
    "\n",
    "First, built a tensorflow-serving docker container in /projects/rlmolecule/pstjohn/containers with\n",
    "```bash\n",
    "singularity build /projects/rlmolecule/pstjohn/containers/tensorflow-serving.simg docker://tensorflow/serving\n",
    "singularity build /projects/rlmolecule/pstjohn/containers/tensorflow-serving-gpu.simg docker://tensorflow/serving:latest-gpu\n",
    "```\n",
    "\n",
    "*NOTE:* I apparently didn't build a GPU-capable image; that will probably have to happen following these instructions https://www.tensorflow.org/tfx/serving/docker#running_a_gpu_serving_image"
   ]
  },
  {
   "cell_type": "code",
   "execution_count": 1,
   "metadata": {},
   "outputs": [
    {
     "name": "stdout",
     "output_type": "stream",
     "text": [
      "[PhysicalDevice(name='/physical_device:GPU:0', device_type='GPU')]\n"
     ]
    }
   ],
   "source": [
    "# Be a good citizen when running this on a shared DAV node\n",
    "import tensorflow as tf\n",
    "gpus = tf.config.experimental.list_physical_devices('GPU')\n",
    "print(gpus)\n",
    "tf.config.experimental.set_memory_growth(gpus[0], True)\n",
    "import nfp"
   ]
  },
  {
   "cell_type": "code",
   "execution_count": 8,
   "metadata": {},
   "outputs": [
    {
     "data": {
      "text/html": [
       "<div>\n",
       "<style scoped>\n",
       "    .dataframe tbody tr th:only-of-type {\n",
       "        vertical-align: middle;\n",
       "    }\n",
       "\n",
       "    .dataframe tbody tr th {\n",
       "        vertical-align: top;\n",
       "    }\n",
       "\n",
       "    .dataframe thead th {\n",
       "        text-align: right;\n",
       "    }\n",
       "</style>\n",
       "<table border=\"1\" class=\"dataframe\">\n",
       "  <thead>\n",
       "    <tr style=\"text-align: right;\">\n",
       "      <th></th>\n",
       "      <th>Species</th>\n",
       "      <th>YSI</th>\n",
       "      <th>SMILES</th>\n",
       "      <th>CAS</th>\n",
       "      <th>Formula</th>\n",
       "      <th>Ref</th>\n",
       "      <th>Type</th>\n",
       "      <th>YSI_err</th>\n",
       "    </tr>\n",
       "  </thead>\n",
       "  <tbody>\n",
       "    <tr>\n",
       "      <th>0</th>\n",
       "      <td>2-~{tert}-butylfuran</td>\n",
       "      <td>107.5</td>\n",
       "      <td>CC(C)(C)c1ccco1</td>\n",
       "      <td>NaN</td>\n",
       "      <td>NaN</td>\n",
       "      <td>NaN</td>\n",
       "      <td>NaN</td>\n",
       "      <td>5.375</td>\n",
       "    </tr>\n",
       "    <tr>\n",
       "      <th>1</th>\n",
       "      <td>hex-2-yne</td>\n",
       "      <td>66.9</td>\n",
       "      <td>CC#CCCC</td>\n",
       "      <td>764-35-2</td>\n",
       "      <td>NaN</td>\n",
       "      <td>NaN</td>\n",
       "      <td>NaN</td>\n",
       "      <td>3.345</td>\n",
       "    </tr>\n",
       "    <tr>\n",
       "      <th>2</th>\n",
       "      <td>hept-2-yne</td>\n",
       "      <td>75.2</td>\n",
       "      <td>CC#CCCCC</td>\n",
       "      <td>1119-65-9</td>\n",
       "      <td>NaN</td>\n",
       "      <td>NaN</td>\n",
       "      <td>NaN</td>\n",
       "      <td>3.760</td>\n",
       "    </tr>\n",
       "    <tr>\n",
       "      <th>3</th>\n",
       "      <td>oct-2-yne</td>\n",
       "      <td>81.2</td>\n",
       "      <td>CC#CCCCCC</td>\n",
       "      <td>2809-67-8</td>\n",
       "      <td>NaN</td>\n",
       "      <td>NaN</td>\n",
       "      <td>NaN</td>\n",
       "      <td>4.060</td>\n",
       "    </tr>\n",
       "    <tr>\n",
       "      <th>4</th>\n",
       "      <td>2,6,10-trimethyldodecane</td>\n",
       "      <td>109.8</td>\n",
       "      <td>CCC(C)CCCC(C)CCCC(C)C</td>\n",
       "      <td>3891-98-3</td>\n",
       "      <td>NaN</td>\n",
       "      <td>NaN</td>\n",
       "      <td>NaN</td>\n",
       "      <td>5.490</td>\n",
       "    </tr>\n",
       "  </tbody>\n",
       "</table>\n",
       "</div>"
      ],
      "text/plain": [
       "                    Species    YSI                 SMILES        CAS Formula  \\\n",
       "0      2-~{tert}-butylfuran  107.5        CC(C)(C)c1ccco1        NaN     NaN   \n",
       "1                 hex-2-yne   66.9                CC#CCCC   764-35-2     NaN   \n",
       "2                hept-2-yne   75.2               CC#CCCCC  1119-65-9     NaN   \n",
       "3                 oct-2-yne   81.2              CC#CCCCCC  2809-67-8     NaN   \n",
       "4  2,6,10-trimethyldodecane  109.8  CCC(C)CCCC(C)CCCC(C)C  3891-98-3     NaN   \n",
       "\n",
       "   Ref Type  YSI_err  \n",
       "0  NaN  NaN    5.375  \n",
       "1  NaN  NaN    3.345  \n",
       "2  NaN  NaN    3.760  \n",
       "3  NaN  NaN    4.060  \n",
       "4  NaN  NaN    5.490  "
      ]
     },
     "execution_count": 8,
     "metadata": {},
     "output_type": "execute_result"
    }
   ],
   "source": [
    "# Load up the data we'll be fitting, in this case Yield Sooting Index (10.1016/j.combustflame.2017.12.005)\n",
    "import pandas as pd\n",
    "data = pd.read_csv('ysi.csv', index_col=0)\n",
    "data.head()"
   ]
  },
  {
   "cell_type": "code",
   "execution_count": 10,
   "metadata": {},
   "outputs": [],
   "source": [
    "train = data.sample(frac=.8)\n",
    "valid = data[~data.index.isin(train)]"
   ]
  },
  {
   "cell_type": "markdown",
   "metadata": {},
   "source": [
    "Load NFP and construct the tensorflow inputs"
   ]
  },
  {
   "cell_type": "code",
   "execution_count": 77,
   "metadata": {},
   "outputs": [],
   "source": [
    "import nfp\n",
    "from tensorflow.keras import layers\n",
    "from layers import NodeUpdate, EdgeUpdate, GlobalSumPooling1D\n",
    "\n",
    "preprocessor = nfp.SmilesPreprocessor()\n",
    "\n",
    "train_inputs = [preprocessor.construct_feature_matrices(smiles, train=True) for smiles in train.SMILES]\n",
    "valid_inputs = [preprocessor.construct_feature_matrices(smiles, train=False) for smiles in valid.SMILES]\n",
    "\n",
    "def create_dataset(inputs, targets):\n",
    "    \"\"\" This process is still a bit of a pain. This does the padded batch operation\n",
    "    for the above inputs to handle batching and variable-sized molecules \"\"\"\n",
    "    return tf.data.Dataset.from_generator(\n",
    "        lambda: ((x, t) for x, t in zip(inputs, targets)),\n",
    "        output_types=(preprocessor.output_types, tf.float32),\n",
    "        output_shapes=(preprocessor.output_shapes, []))\\\n",
    "        .padded_batch(batch_size=16, \n",
    "                      padded_shapes=(preprocessor.padded_shapes(), []),\n",
    "                      padding_values=(preprocessor.padding_values, 0.))\\\n",
    "        .prefetch(tf.data.experimental.AUTOTUNE)    \n",
    "\n",
    "\n",
    "train_dataset = create_dataset(train_inputs, train.YSI).shuffle(500)\n",
    "valid_dataset = create_dataset(valid_inputs, valid.YSI)"
   ]
  },
  {
   "cell_type": "markdown",
   "metadata": {},
   "source": [
    "Specify and train a fairly simple GNN"
   ]
  },
  {
   "cell_type": "code",
   "execution_count": 79,
   "metadata": {},
   "outputs": [
    {
     "name": "stdout",
     "output_type": "stream",
     "text": [
      "Model: \"model_13\"\n",
      "__________________________________________________________________________________________________\n",
      "Layer (type)                    Output Shape         Param #     Connected to                     \n",
      "==================================================================================================\n",
      "atom (InputLayer)               [(None, None)]       0                                            \n",
      "__________________________________________________________________________________________________\n",
      "bond (InputLayer)               [(None, None)]       0                                            \n",
      "__________________________________________________________________________________________________\n",
      "atom_embedding (Embedding)      (None, None, 16)     288         atom[0][0]                       \n",
      "__________________________________________________________________________________________________\n",
      "bond_embedding (Embedding)      (None, None, 16)     624         bond[0][0]                       \n",
      "__________________________________________________________________________________________________\n",
      "connectivity (InputLayer)       [(None, None, 2)]    0                                            \n",
      "__________________________________________________________________________________________________\n",
      "edge_update_51 (EdgeUpdate)     (None, None, 16)     2096        atom_embedding[0][0]             \n",
      "                                                                 bond_embedding[0][0]             \n",
      "                                                                 connectivity[0][0]               \n",
      "__________________________________________________________________________________________________\n",
      "node_update_51 (NodeUpdate)     (None, None, 16)     2656        atom_embedding[0][0]             \n",
      "                                                                 edge_update_51[0][0]             \n",
      "                                                                 connectivity[0][0]               \n",
      "__________________________________________________________________________________________________\n",
      "edge_update_52 (EdgeUpdate)     (None, None, 16)     2096        node_update_51[0][0]             \n",
      "                                                                 edge_update_51[0][0]             \n",
      "                                                                 connectivity[0][0]               \n",
      "__________________________________________________________________________________________________\n",
      "node_update_52 (NodeUpdate)     (None, None, 16)     2656        node_update_51[0][0]             \n",
      "                                                                 edge_update_52[0][0]             \n",
      "                                                                 connectivity[0][0]               \n",
      "__________________________________________________________________________________________________\n",
      "edge_update_53 (EdgeUpdate)     (None, None, 16)     2096        node_update_52[0][0]             \n",
      "                                                                 edge_update_52[0][0]             \n",
      "                                                                 connectivity[0][0]               \n",
      "__________________________________________________________________________________________________\n",
      "node_update_53 (NodeUpdate)     (None, None, 16)     2656        node_update_52[0][0]             \n",
      "                                                                 edge_update_53[0][0]             \n",
      "                                                                 connectivity[0][0]               \n",
      "__________________________________________________________________________________________________\n",
      "dense_17 (Dense)                (None, None, 1)      17          node_update_53[0][0]             \n",
      "__________________________________________________________________________________________________\n",
      "atom_mean (Embedding)           (None, None, 1)      18          atom[0][0]                       \n",
      "__________________________________________________________________________________________________\n",
      "add_7 (Add)                     (None, None, 1)      0           dense_17[0][0]                   \n",
      "                                                                 atom_mean[0][0]                  \n",
      "__________________________________________________________________________________________________\n",
      "global_sum_pooling1d_10 (Global (None, 1)            0           add_7[0][0]                      \n",
      "==================================================================================================\n",
      "Total params: 15,203\n",
      "Trainable params: 15,203\n",
      "Non-trainable params: 0\n",
      "__________________________________________________________________________________________________\n"
     ]
    }
   ],
   "source": [
    "atom_class = layers.Input(shape=[None], dtype=tf.int64, name='atom')\n",
    "bond_class = layers.Input(shape=[None], dtype=tf.int64, name='bond')\n",
    "connectivity = layers.Input(shape=[None, 2], dtype=tf.int64, name='connectivity')\n",
    "\n",
    "# Initialize the atom states\n",
    "atom_state = layers.Embedding(preprocessor.atom_classes, 16,\n",
    "                              name='atom_embedding', mask_zero=True)(atom_class)\n",
    "\n",
    "# This serves as a bias\n",
    "atom_mean = layers.Embedding(preprocessor.atom_classes, 1,\n",
    "                             name='atom_mean', mask_zero=True)(atom_class)\n",
    "\n",
    "# Initialize the bond states\n",
    "bond_state = layers.Embedding(preprocessor.bond_classes, 16,\n",
    "                              name='bond_embedding', mask_zero=True)(bond_class)\n",
    "\n",
    "for _ in range(3):\n",
    "    bond_state = EdgeUpdate()([atom_state, bond_state, connectivity])\n",
    "    atom_state = NodeUpdate()([atom_state, bond_state, connectivity])\n",
    "    \n",
    "out = layers.Dense(1)(atom_state)\n",
    "out = layers.Add()([out, atom_mean])\n",
    "out = GlobalSumPooling1D()(out)\n",
    "\n",
    "model = tf.keras.Model([atom_class, bond_class, connectivity], out)\n",
    "model.compile(loss=tf.keras.losses.MeanSquaredLogarithmicError(), optimizer=tf.keras.optimizers.Adam(1E-3))\n",
    "model.summary()"
   ]
  },
  {
   "cell_type": "code",
   "execution_count": 80,
   "metadata": {},
   "outputs": [
    {
     "name": "stdout",
     "output_type": "stream",
     "text": [
      "Epoch 1/50\n",
      "29/29 - 1s - loss: 3.4942 - val_loss: 1.2878\n",
      "Epoch 2/50\n",
      "29/29 - 1s - loss: 1.0596 - val_loss: 0.8795\n",
      "Epoch 3/50\n",
      "29/29 - 1s - loss: 0.7246 - val_loss: 0.5038\n",
      "Epoch 4/50\n",
      "29/29 - 0s - loss: 0.3275 - val_loss: 0.1967\n",
      "Epoch 5/50\n",
      "29/29 - 0s - loss: 0.1843 - val_loss: 0.1638\n",
      "Epoch 6/50\n",
      "29/29 - 0s - loss: 0.1584 - val_loss: 0.1439\n",
      "Epoch 7/50\n",
      "29/29 - 0s - loss: 0.1472 - val_loss: 0.1391\n",
      "Epoch 8/50\n",
      "29/29 - 0s - loss: 0.1403 - val_loss: 0.1284\n",
      "Epoch 9/50\n",
      "29/29 - 0s - loss: 0.1304 - val_loss: 0.1237\n",
      "Epoch 10/50\n",
      "29/29 - 0s - loss: 0.1240 - val_loss: 0.1168\n",
      "Epoch 11/50\n",
      "29/29 - 0s - loss: 0.1187 - val_loss: 0.1128\n",
      "Epoch 12/50\n",
      "29/29 - 0s - loss: 0.1125 - val_loss: 0.1070\n",
      "Epoch 13/50\n",
      "29/29 - 0s - loss: 0.1087 - val_loss: 0.1052\n",
      "Epoch 14/50\n",
      "29/29 - 0s - loss: 0.1064 - val_loss: 0.1085\n",
      "Epoch 15/50\n",
      "29/29 - 1s - loss: 0.0974 - val_loss: 0.0880\n",
      "Epoch 16/50\n",
      "29/29 - 0s - loss: 0.0881 - val_loss: 0.0861\n",
      "Epoch 17/50\n",
      "29/29 - 0s - loss: 0.0866 - val_loss: 0.0841\n",
      "Epoch 18/50\n",
      "29/29 - 0s - loss: 0.0754 - val_loss: 0.0697\n",
      "Epoch 19/50\n",
      "29/29 - 0s - loss: 0.0713 - val_loss: 0.0699\n",
      "Epoch 20/50\n",
      "29/29 - 0s - loss: 0.0664 - val_loss: 0.0672\n",
      "Epoch 21/50\n",
      "29/29 - 0s - loss: 0.0666 - val_loss: 0.0541\n",
      "Epoch 22/50\n",
      "29/29 - 0s - loss: 0.0569 - val_loss: 0.0555\n",
      "Epoch 23/50\n",
      "29/29 - 0s - loss: 0.0526 - val_loss: 0.0498\n",
      "Epoch 24/50\n",
      "29/29 - 0s - loss: 0.0500 - val_loss: 0.0703\n",
      "Epoch 25/50\n",
      "29/29 - 0s - loss: 0.0535 - val_loss: 0.0459\n",
      "Epoch 26/50\n",
      "29/29 - 0s - loss: 0.0424 - val_loss: 0.0355\n",
      "Epoch 27/50\n",
      "29/29 - 0s - loss: 0.0364 - val_loss: 0.0535\n",
      "Epoch 28/50\n",
      "29/29 - 0s - loss: 0.0435 - val_loss: 0.0500\n",
      "Epoch 29/50\n",
      "29/29 - 0s - loss: 0.0445 - val_loss: 0.0537\n",
      "Epoch 30/50\n",
      "29/29 - 0s - loss: 0.0381 - val_loss: 0.0328\n",
      "Epoch 31/50\n",
      "29/29 - 0s - loss: 0.0350 - val_loss: 0.0362\n",
      "Epoch 32/50\n",
      "29/29 - 0s - loss: 0.0314 - val_loss: 0.0337\n",
      "Epoch 33/50\n",
      "29/29 - 0s - loss: 0.0321 - val_loss: 0.0287\n",
      "Epoch 34/50\n",
      "29/29 - 0s - loss: 0.0324 - val_loss: 0.0265\n",
      "Epoch 35/50\n",
      "29/29 - 0s - loss: 0.0297 - val_loss: 0.0267\n",
      "Epoch 36/50\n",
      "29/29 - 0s - loss: 0.0285 - val_loss: 0.0593\n",
      "Epoch 37/50\n",
      "29/29 - 0s - loss: 0.0333 - val_loss: 0.0381\n",
      "Epoch 38/50\n",
      "29/29 - 0s - loss: 0.0284 - val_loss: 0.0243\n",
      "Epoch 39/50\n",
      "29/29 - 0s - loss: 0.0262 - val_loss: 0.0378\n",
      "Epoch 40/50\n",
      "29/29 - 0s - loss: 0.0296 - val_loss: 0.0261\n",
      "Epoch 41/50\n",
      "29/29 - 0s - loss: 0.0230 - val_loss: 0.0232\n",
      "Epoch 42/50\n",
      "29/29 - 0s - loss: 0.0231 - val_loss: 0.0301\n",
      "Epoch 43/50\n",
      "29/29 - 0s - loss: 0.0302 - val_loss: 0.0243\n",
      "Epoch 44/50\n",
      "29/29 - 0s - loss: 0.0229 - val_loss: 0.0209\n",
      "Epoch 45/50\n",
      "29/29 - 0s - loss: 0.0220 - val_loss: 0.0217\n",
      "Epoch 46/50\n",
      "29/29 - 0s - loss: 0.0227 - val_loss: 0.0217\n",
      "Epoch 47/50\n",
      "29/29 - 0s - loss: 0.0238 - val_loss: 0.0222\n",
      "Epoch 48/50\n",
      "29/29 - 0s - loss: 0.0216 - val_loss: 0.0229\n",
      "Epoch 49/50\n",
      "29/29 - 1s - loss: 0.0297 - val_loss: 0.0253\n",
      "Epoch 50/50\n",
      "29/29 - 0s - loss: 0.0228 - val_loss: 0.0350\n"
     ]
    },
    {
     "data": {
      "text/plain": [
       "<tensorflow.python.keras.callbacks.History at 0x7ef90f566ed0>"
      ]
     },
     "execution_count": 80,
     "metadata": {},
     "output_type": "execute_result"
    }
   ],
   "source": [
    "model.fit(train_dataset, validation_data=valid_dataset, epochs=50, verbose=2)"
   ]
  },
  {
   "cell_type": "code",
   "execution_count": 84,
   "metadata": {},
   "outputs": [],
   "source": [
    "import matplotlib.pyplot as plt\n",
    "import seaborn as sns\n",
    "sns.set(context='talk', style='ticks',\n",
    "        color_codes=True, rc={'legend.frameon': False})\n",
    "\n",
    "%matplotlib inline"
   ]
  },
  {
   "cell_type": "code",
   "execution_count": 88,
   "metadata": {},
   "outputs": [
    {
     "data": {
      "text/plain": [
       "[<matplotlib.lines.Line2D at 0x7ef90783a910>]"
      ]
     },
     "execution_count": 88,
     "metadata": {},
     "output_type": "execute_result"
    },
    {
     "data": {
      "image/png": "[encoded data removed]",
      "text/plain": [
       "<Figure size 288x288 with 1 Axes>"
      ]
     },
     "metadata": {
      "needs_background": "light"
     },
     "output_type": "display_data"
    }
   ],
   "source": [
    "plt.figure(figsize=(4,4))\n",
    "plt.loglog(valid.YSI, model.predict(valid_dataset), '.', ms=5)"
   ]
  },
  {
   "cell_type": "code",
   "execution_count": 99,
   "metadata": {},
   "outputs": [
    {
     "name": "stdout",
     "output_type": "stream",
     "text": [
      "export_path = ysi_model/1\n",
      "\n",
      "INFO:tensorflow:Assets written to: ysi_model/1/assets\n"
     ]
    }
   ],
   "source": [
    "# Following https://www.tensorflow.org/tfx/tutorials/serving/rest_simple\n",
    "\n",
    "# Fetch the Keras session and save the model\n",
    "# The signature definition is defined by the input and output tensors,\n",
    "# and stored with the default serving key\n",
    "import tempfile\n",
    "import os\n",
    "\n",
    "MODEL_DIR = 'ysi_model'\n",
    "version = 1\n",
    "export_path = os.path.join(MODEL_DIR, str(version))\n",
    "print('export_path = {}\\n'.format(export_path))\n",
    "\n",
    "tf.keras.models.save_model(\n",
    "    model,\n",
    "    export_path,\n",
    "    overwrite=True,\n",
    "    include_optimizer=True,\n",
    "    save_format=None,\n",
    "    signatures=None,\n",
    "    options=None\n",
    ")"
   ]
  },
  {
   "cell_type": "markdown",
   "metadata": {},
   "source": [
    "### Running tensorflow serving\n",
    "\n",
    "run_tf_serving.sh launches the tensorflow serving container with\n",
    "```bash\n",
    "SINGULARITYENV_MODEL_NAME=ysi_model singularity exec -B ./ysi_model:/models/ysi_model /projects/rlmolecule/pstjohn/containers/tensorflow-serving.simg tf_serving_entrypoint.sh\n",
    "```"
   ]
  },
  {
   "cell_type": "code",
   "execution_count": 145,
   "metadata": {},
   "outputs": [],
   "source": [
    "# Here's how we prepare the data on the worker nodes and serialize it to a json\n",
    "\n",
    "import json\n",
    "from json import JSONEncoder\n",
    "import numpy\n",
    "\n",
    "class NumpyArrayEncoder(JSONEncoder):\n",
    "    def default(self, obj):\n",
    "        if isinstance(obj, numpy.ndarray):\n",
    "            return obj.tolist()\n",
    "        return JSONEncoder.default(self, obj)\n",
    "\n",
    "def trim_input(inputs):\n",
    "    \"\"\" The default SmilesPreprocessor returns some extra info we dont\n",
    "    use in the simple model above, so we have to strip it down \"\"\"\n",
    "    return {key: val for key, val in inputs.items() \n",
    "            if key in ['atom', 'bond', 'connectivity']}\n",
    "\n",
    "test_input = trim_input(train_inputs[0])\n",
    "data = json.dumps({'instances': [test_input,]}, cls=NumpyArrayEncoder)"
   ]
  },
  {
   "cell_type": "code",
   "execution_count": 146,
   "metadata": {},
   "outputs": [],
   "source": [
    "# We use requests to ping the TF serving model and get a response\n",
    "\n",
    "import requests\n",
    "headers = {\"content-type\": \"application/json\"}\n",
    "json_response = requests.post('http://localhost:8501/v1/models/ysi_model:predict', data=data, headers=headers)\n",
    "predictions = json.loads(json_response.text)['predictions']"
   ]
  },
  {
   "cell_type": "code",
   "execution_count": 147,
   "metadata": {},
   "outputs": [
    {
     "data": {
      "text/plain": [
       "[[30.1468697]]"
      ]
     },
     "execution_count": 147,
     "metadata": {},
     "output_type": "execute_result"
    }
   ],
   "source": [
    "predictions"
   ]
  },
  {
   "cell_type": "code",
   "execution_count": 149,
   "metadata": {},
   "outputs": [
    {
     "data": {
      "text/plain": [
       "<tf.Tensor: shape=(1, 1), dtype=float32, numpy=array([[30.14687]], dtype=float32)>"
      ]
     },
     "execution_count": 149,
     "metadata": {},
     "output_type": "execute_result"
    }
   ],
   "source": [
    "# Validate it's the same prediction we get from the local model\n",
    "model({key: numpy.expand_dims(val, 0) for key, val in \n",
    "       test_input.items()})"
   ]
  },
  {
   "cell_type": "markdown",
   "metadata": {},
   "source": [
    "Great!, So, still todo:\n",
    "\n",
    "1) make sure this can work on a GPU (note, the singularity call changes slightly to expose the GPU binaries... I hope this works on Eagle. I've played around a bit with this, but I can't remember if it worked)\n",
    "\n",
    "2) Correctly configure the batching behavior on the TF serving side\n",
    "\n",
    "3) Verify that calling and waiting for the GPU result is actually faster than just evaluating on the worker CPUs :). This would require a production-scale model though"
   ]
  }
 ],
 "metadata": {
  "kernelspec": {
   "display_name": "Python 3",
   "language": "python",
   "name": "python3"
  },
  "language_info": {
   "codemirror_mode": {
    "name": "ipython",
    "version": 3
   },
   "file_extension": ".py",
   "mimetype": "text/x-python",
   "name": "python",
   "nbconvert_exporter": "python",
   "pygments_lexer": "ipython3",
   "version": "3.7.8"
  }
 },
 "nbformat": 4,
 "nbformat_minor": 4
}
