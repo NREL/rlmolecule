{
 "cells": [
  {
   "cell_type": "markdown",
   "metadata": {},
   "source": [
    "## Code to start on Q2 RL milestone\n",
    "*Milestone text:* Developed a trainable reinforcement learning strategy for building organic molecules. Leveraged existing radical database to train a generative model that results in at least 50 novel molecules with high similarity to the training database. Novelty was assessed computationally using RDKit’s SMILES canonicalization procedure, and similarity was validated using Tanimoto similarity of molecular fingerprints, ensuring all molecules have a similarity of at least 0.7 to existing calculations."
   ]
  },
  {
   "cell_type": "code",
   "execution_count": 1,
   "metadata": {},
   "outputs": [
    {
     "name": "stderr",
     "output_type": "stream",
     "text": [
      "/projects/rlmolecule/pstjohn/envs/tf2_gpu/lib/python3.7/site-packages/tqdm/std.py:668: FutureWarning: The Panel class is removed from pandas. Accessing it from the top-level namespace will also be removed in the next version\n",
      "  from pandas import Panel\n"
     ]
    }
   ],
   "source": [
    "import pandas as pd\n",
    "\n",
    "import rdkit\n",
    "from rdkit import Chem\n",
    "from rdkit import DataStructs\n",
    "\n",
    "import numpy as np\n",
    "from tqdm import tqdm\n",
    "\n",
    "rng = np.random.default_rng(1)\n",
    "tqdm.pandas()"
   ]
  },
  {
   "cell_type": "code",
   "execution_count": 2,
   "metadata": {},
   "outputs": [
    {
     "data": {
      "text/plain": [
       "68598     CC[C@](C)([C]=O)C(N)=O\n",
       "305427      CNC[C@H]([O])c1ccco1\n",
       "385745        [O]c1ccc(F)c(Br)c1\n",
       "384181         OC1=CCc2c[c]ccc21\n",
       "23909      Cc1[c]c[nH]c(=O)c1C#N\n",
       "Name: 0, dtype: object"
      ]
     },
     "execution_count": 2,
     "metadata": {},
     "output_type": "execute_result"
    }
   ],
   "source": [
    "radicals = pd.read_csv('radicals.csv.gz')['0']\n",
    "radicals.sample(5)"
   ]
  },
  {
   "cell_type": "code",
   "execution_count": 3,
   "metadata": {},
   "outputs": [
    {
     "data": {
      "text/plain": [
       "(425725,)"
      ]
     },
     "execution_count": 3,
     "metadata": {},
     "output_type": "execute_result"
    }
   ],
   "source": [
    "radicals.shape"
   ]
  },
  {
   "cell_type": "markdown",
   "metadata": {},
   "source": [
    "We don't need this, but if we wanted to filter out a given element from the process we could check the elements in each radical with the following code:"
   ]
  },
  {
   "cell_type": "code",
   "execution_count": 4,
   "metadata": {},
   "outputs": [],
   "source": [
    "# from collections import Counter\n",
    "\n",
    "# def get_elems(smiles):\n",
    "#     return pd.Series(Counter((\n",
    "#         atom.GetSymbol() for atom in \n",
    "#         Chem.MolFromSmiles(smiles).GetAtoms())))\n",
    "\n",
    "# elems = radicals.progress_apply(get_elems).fillna(0).astype(int)"
   ]
  },
  {
   "cell_type": "code",
   "execution_count": 5,
   "metadata": {},
   "outputs": [],
   "source": [
    "import sys\n",
    "sys.path.append('../molecule_builder')\n",
    "from molecule_builder import build_molecules, get_free_valence, shuffle"
   ]
  },
  {
   "cell_type": "code",
   "execution_count": 6,
   "metadata": {},
   "outputs": [],
   "source": [
    "def make_radical(starting_mol):\n",
    "    \"\"\" For a given starting molecule, select atom randomly to make a\n",
    "    radical where stereochem allows \"\"\"\n",
    "    for i, atom in shuffle(enumerate(starting_mol.GetAtoms())):\n",
    "        if get_free_valence(atom) > 0:\n",
    "            rw_mol = Chem.RWMol(starting_mol)\n",
    "            rw_mol.GetAtomWithIdx(3).SetNumRadicalElectrons(1)\n",
    "            yield rw_mol   \n",
    "\n",
    "            \n",
    "def build_radical(mol, num):\n",
    "    \"\"\" Just builds a large molecule \"\"\"\n",
    "    for mol in build_molecules(\n",
    "        mol, stereoisomers=False,\n",
    "        atom_additions=('Br', 'C', 'N', 'O', 'S', 'P', 'Cl', 'F')):\n",
    "        \n",
    "        if num == 1:  # num counts down, this is the final molecule\n",
    "            yield from make_radical(mol)\n",
    "            \n",
    "        else:\n",
    "            yield from build_radical(mol, num=num-1)\n",
    "\n",
    "            \n",
    "def build_random(low, high):\n",
    "    return next(build_radical(rdkit.Chem.MolFromSmiles('C'),\n",
    "                              rng.integers(low=low, high=high, endpoint=True)))"
   ]
  },
  {
   "cell_type": "code",
   "execution_count": 7,
   "metadata": {},
   "outputs": [
    {
     "name": "stderr",
     "output_type": "stream",
     "text": [
      "  3%|▎         | 11843/425725 [00:03<01:59, 3475.63it/s]RDKit WARNING: [18:19:32] Conflicting single bond directions around double bond at index 1.\n",
      "RDKit WARNING: [18:19:32]   BondStereo set to STEREONONE and single bond directions set to NONE.\n",
      "RDKit WARNING: [18:19:32] Conflicting single bond directions around double bond at index 1.\n",
      "RDKit WARNING: [18:19:32]   BondStereo set to STEREONONE and single bond directions set to NONE.\n",
      "RDKit WARNING: [18:19:32] Conflicting single bond directions around double bond at index 1.\n",
      "RDKit WARNING: [18:19:32]   BondStereo set to STEREONONE and single bond directions set to NONE.\n",
      "RDKit WARNING: [18:19:32] Conflicting single bond directions around double bond at index 1.\n",
      "RDKit WARNING: [18:19:32]   BondStereo set to STEREONONE and single bond directions set to NONE.\n",
      " 74%|███████▎  | 313585/425725 [00:45<00:13, 8298.70it/s] RDKit WARNING: [18:20:14] Conflicting single bond directions around double bond at index 2.\n",
      "RDKit WARNING: [18:20:14]   BondStereo set to STEREONONE and single bond directions set to NONE.\n",
      "RDKit WARNING: [18:20:14] Conflicting single bond directions around double bond at index 2.\n",
      "RDKit WARNING: [18:20:14]   BondStereo set to STEREONONE and single bond directions set to NONE.\n",
      "RDKit WARNING: [18:20:14] Conflicting single bond directions around double bond at index 2.\n",
      "RDKit WARNING: [18:20:14]   BondStereo set to STEREONONE and single bond directions set to NONE.\n",
      "RDKit WARNING: [18:20:14] Conflicting single bond directions around double bond at index 2.\n",
      "RDKit WARNING: [18:20:14]   BondStereo set to STEREONONE and single bond directions set to NONE.\n",
      "RDKit WARNING: [18:20:14] Conflicting single bond directions around double bond at index 2.\n",
      "RDKit WARNING: [18:20:14]   BondStereo set to STEREONONE and single bond directions set to NONE.\n",
      "RDKit WARNING: [18:20:14] Conflicting single bond directions around double bond at index 2.\n",
      "RDKit WARNING: [18:20:14]   BondStereo set to STEREONONE and single bond directions set to NONE.\n",
      "RDKit WARNING: [18:20:14] Conflicting single bond directions around double bond at index 2.\n",
      "RDKit WARNING: [18:20:14]   BondStereo set to STEREONONE and single bond directions set to NONE.\n",
      " 82%|████████▏ | 347785/425725 [00:50<00:13, 5747.42it/s]RDKit WARNING: [18:20:19] WARNING: not removing hydrogen atom without neighbors\n",
      " 90%|█████████ | 384564/425725 [00:56<00:09, 4343.38it/s]RDKit WARNING: [18:20:25] Conflicting single bond directions around double bond at index 1.\n",
      "RDKit WARNING: [18:20:25]   BondStereo set to STEREONONE and single bond directions set to NONE.\n",
      " 93%|█████████▎| 394444/425725 [00:58<00:07, 4341.93it/s]RDKit WARNING: [18:20:27] Conflicting single bond directions around double bond at index 2.\n",
      "RDKit WARNING: [18:20:27]   BondStereo set to STEREONONE and single bond directions set to NONE.\n",
      "RDKit WARNING: [18:20:27] Conflicting single bond directions around double bond at index 2.\n",
      "RDKit WARNING: [18:20:27]   BondStereo set to STEREONONE and single bond directions set to NONE.\n",
      "100%|██████████| 425725/425725 [01:02<00:00, 6766.60it/s]\n"
     ]
    }
   ],
   "source": [
    "# This step, pre-calculating fingerprints for the radical database,\n",
    "# is slow but only has to be done once per evaluation\n",
    "radical_fps = radicals.progress_apply(lambda x: Chem.RDKFingerprint(Chem.MolFromSmiles(x)))"
   ]
  },
  {
   "cell_type": "code",
   "execution_count": 8,
   "metadata": {},
   "outputs": [],
   "source": [
    "radical_set = set(radicals)\n",
    "\n",
    "def evaluate_max_similarity(target_mol):\n",
    "    \"\"\" This is the function we'll need to maximize. At least find new molecules\n",
    "    that are < 1; but greater than 0.7 \"\"\"\n",
    "    \n",
    "    if target_mol in radical_set:\n",
    "        return 1.  \n",
    "        # zero? We don't want this necessarily, but at the same time\n",
    "        # don't want to penalize building realistic molecules\n",
    "    \n",
    "    # Precalculate the fingerprint for the target molecule\n",
    "    target_fp = Chem.RDKFingerprint(target_mol)\n",
    "\n",
    "    # This is surprisingly fast, ~1 second on an Eagle node. I tried\n",
    "    # multiprocessing.pool, but we'd likely want to batch the fingerprints\n",
    "    # since the overhead is likely higher than the gains from parallelizing\n",
    "    # individually\n",
    "    max_similarity = radical_fps.apply(\n",
    "        lambda x: DataStructs.FingerprintSimilarity(x, target_fp)).max()\n",
    "    \n",
    "    return max_similarity"
   ]
  },
  {
   "cell_type": "code",
   "execution_count": 10,
   "metadata": {},
   "outputs": [
    {
     "name": "stdout",
     "output_type": "stream",
     "text": [
      "925 ms ± 7.06 ms per loop (mean ± std. dev. of 7 runs, 1 loop each)\n"
     ]
    }
   ],
   "source": [
    "%timeit evaluate_max_similarity(next(build_radical(rdkit.Chem.MolFromSmiles('C'), 5)))"
   ]
  },
  {
   "cell_type": "code",
   "execution_count": 11,
   "metadata": {},
   "outputs": [],
   "source": [
    "import matplotlib.pyplot as plt\n",
    "import seaborn as sns\n",
    "sns.set(context='talk', style='ticks',\n",
    "        color_codes=True, rc={'legend.frameon': False})\n",
    "\n",
    "%matplotlib inline"
   ]
  },
  {
   "cell_type": "markdown",
   "metadata": {},
   "source": [
    "Here I just take a look at the distribution in similarities from some randomly built molecules"
   ]
  },
  {
   "cell_type": "code",
   "execution_count": 12,
   "metadata": {},
   "outputs": [
    {
     "name": "stderr",
     "output_type": "stream",
     "text": [
      "100%|██████████| 200/200 [03:06<00:00,  1.07it/s]\n"
     ]
    },
    {
     "data": {
      "text/plain": [
       "<matplotlib.lines.Line2D at 0x7f0c4c852ad0>"
      ]
     },
     "execution_count": 12,
     "metadata": {},
     "output_type": "execute_result"
    },
    {
     "data": {
      "image/png": "[encoded data removed]",
      "text/plain": [
       "<Figure size 432x288 with 1 Axes>"
      ]
     },
     "metadata": {
      "needs_background": "light"
     },
     "output_type": "display_data"
    }
   ],
   "source": [
    "similarities = [evaluate_max_similarity(build_random(4, 8)) for _ in tqdm(range(200))]\n",
    "\n",
    "plt.hist(np.array(similarities), bins=20)\n",
    "plt.axvline(x=0.7, ls='--', color='r')"
   ]
  },
  {
   "cell_type": "markdown",
   "metadata": {},
   "source": [
    "We may not have to much better than random guessing to find our 50. Would also be cool to include some of Rob's synthetic accessibility scores in these assessments as well, since I'm sure these molecules are garbage (just thrown together atoms, only respecting valency rules)"
   ]
  }
 ],
 "metadata": {
  "kernelspec": {
   "display_name": "Python 3",
   "language": "python",
   "name": "python3"
  },
  "language_info": {
   "codemirror_mode": {
    "name": "ipython",
    "version": 3
   },
   "file_extension": ".py",
   "mimetype": "text/x-python",
   "name": "python",
   "nbconvert_exporter": "python",
   "pygments_lexer": "ipython3",
   "version": "3.7.8"
  }
 },
 "nbformat": 4,
 "nbformat_minor": 4
}
