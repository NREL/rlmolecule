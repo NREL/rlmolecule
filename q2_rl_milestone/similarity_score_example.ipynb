{
 "cells": [
  {
   "cell_type": "markdown",
   "metadata": {},
   "source": [
    "## Code to start on Q2 RL milestone\n",
    "*Milestone text:* Developed a trainable reinforcement learning strategy for building organic molecules. Leveraged existing radical database to train a generative model that results in at least 50 novel molecules with high similarity to the training database. Novelty was assessed computationally using RDKit’s SMILES canonicalization procedure, and similarity was validated using Tanimoto similarity of molecular fingerprints, ensuring all molecules have a similarity of at least 0.7 to existing calculations."
   ]
  },
  {
   "cell_type": "code",
   "execution_count": 1,
   "metadata": {},
   "outputs": [
    {
     "name": "stderr",
     "output_type": "stream",
     "text": [
      "/projects/rlmolecule/pstjohn/envs/tf2_gpu/lib/python3.7/site-packages/tqdm/std.py:668: FutureWarning: The Panel class is removed from pandas. Accessing it from the top-level namespace will also be removed in the next version\n",
      "  from pandas import Panel\n"
     ]
    }
   ],
   "source": [
    "import pandas as pd\n",
    "\n",
    "import rdkit\n",
    "from rdkit import Chem\n",
    "from rdkit import DataStructs\n",
    "\n",
    "import numpy as np\n",
    "from tqdm import tqdm\n",
    "\n",
    "rng = np.random.default_rng(1)\n",
    "tqdm.pandas()"
   ]
  },
  {
   "cell_type": "code",
   "execution_count": 2,
   "metadata": {},
   "outputs": [
    {
     "data": {
      "text/plain": [
       "215356              [CH2]C/C=C/C=C\\CCO\n",
       "249884           [CH2]C/N=C(\\C)CC(C)=O\n",
       "152427                  C[CH]CONC(C)=O\n",
       "284699    [CH](CC[C@@H]1CO1)[C@@H]1CO1\n",
       "261743     [CH2]N1[C@@H](C(C)C)[C@H]1C\n",
       "Name: 0, dtype: object"
      ]
     },
     "execution_count": 2,
     "metadata": {},
     "output_type": "execute_result"
    }
   ],
   "source": [
    "radicals = pd.read_csv('radicals.csv.gz')['0']\n",
    "radicals.sample(5)"
   ]
  },
  {
   "cell_type": "code",
   "execution_count": 3,
   "metadata": {},
   "outputs": [
    {
     "data": {
      "text/plain": [
       "(425725,)"
      ]
     },
     "execution_count": 3,
     "metadata": {},
     "output_type": "execute_result"
    }
   ],
   "source": [
    "radicals.shape"
   ]
  },
  {
   "cell_type": "markdown",
   "metadata": {},
   "source": [
    "We don't need this, but if we wanted to filter out a given element from the process we could check the elements in each radical with the following code:"
   ]
  },
  {
   "cell_type": "code",
   "execution_count": 4,
   "metadata": {},
   "outputs": [
    {
     "name": "stderr",
     "output_type": "stream",
     "text": [
      "  3%|▎         | 11788/425725 [00:03<02:01, 3410.43it/s]RDKit WARNING: [15:20:51] Conflicting single bond directions around double bond at index 1.\n",
      "RDKit WARNING: [15:20:51]   BondStereo set to STEREONONE and single bond directions set to NONE.\n",
      "RDKit WARNING: [15:20:51] Conflicting single bond directions around double bond at index 1.\n",
      "RDKit WARNING: [15:20:51]   BondStereo set to STEREONONE and single bond directions set to NONE.\n",
      "RDKit WARNING: [15:20:51] Conflicting single bond directions around double bond at index 1.\n",
      "RDKit WARNING: [15:20:51]   BondStereo set to STEREONONE and single bond directions set to NONE.\n",
      "RDKit WARNING: [15:20:51] Conflicting single bond directions around double bond at index 1.\n",
      "RDKit WARNING: [15:20:51]   BondStereo set to STEREONONE and single bond directions set to NONE.\n",
      " 74%|███████▍  | 314101/425725 [00:45<00:23, 4751.78it/s] RDKit WARNING: [15:21:33] Conflicting single bond directions around double bond at index 2.\n",
      "RDKit WARNING: [15:21:33]   BondStereo set to STEREONONE and single bond directions set to NONE.\n",
      "RDKit WARNING: [15:21:33] Conflicting single bond directions around double bond at index 2.\n",
      "RDKit WARNING: [15:21:33]   BondStereo set to STEREONONE and single bond directions set to NONE.\n",
      "RDKit WARNING: [15:21:33] Conflicting single bond directions around double bond at index 2.\n",
      "RDKit WARNING: [15:21:33]   BondStereo set to STEREONONE and single bond directions set to NONE.\n",
      "RDKit WARNING: [15:21:33] Conflicting single bond directions around double bond at index 2.\n",
      "RDKit WARNING: [15:21:33]   BondStereo set to STEREONONE and single bond directions set to NONE.\n",
      "RDKit WARNING: [15:21:33] Conflicting single bond directions around double bond at index 2.\n",
      "RDKit WARNING: [15:21:33]   BondStereo set to STEREONONE and single bond directions set to NONE.\n",
      "RDKit WARNING: [15:21:33] Conflicting single bond directions around double bond at index 2.\n",
      "RDKit WARNING: [15:21:33]   BondStereo set to STEREONONE and single bond directions set to NONE.\n",
      "RDKit WARNING: [15:21:33] Conflicting single bond directions around double bond at index 2.\n",
      "RDKit WARNING: [15:21:33]   BondStereo set to STEREONONE and single bond directions set to NONE.\n",
      " 82%|████████▏ | 347758/425725 [00:50<00:13, 5577.70it/s]RDKit WARNING: [15:21:38] WARNING: not removing hydrogen atom without neighbors\n",
      " 90%|█████████ | 384507/425725 [00:56<00:09, 4324.46it/s]RDKit WARNING: [15:21:44] Conflicting single bond directions around double bond at index 1.\n",
      "RDKit WARNING: [15:21:44]   BondStereo set to STEREONONE and single bond directions set to NONE.\n",
      " 93%|█████████▎| 394271/425725 [00:58<00:07, 4315.53it/s]RDKit WARNING: [15:21:46] Conflicting single bond directions around double bond at index 2.\n",
      "RDKit WARNING: [15:21:46]   BondStereo set to STEREONONE and single bond directions set to NONE.\n",
      "RDKit WARNING: [15:21:46] Conflicting single bond directions around double bond at index 2.\n",
      "RDKit WARNING: [15:21:46]   BondStereo set to STEREONONE and single bond directions set to NONE.\n",
      "100%|██████████| 425725/425725 [01:03<00:00, 6717.51it/s]\n"
     ]
    }
   ],
   "source": [
    "# This step, pre-calculating fingerprints for the radical database,\n",
    "# is slow but only has to be done once per evaluation\n",
    "radical_fps = radicals.progress_apply(lambda x: Chem.RDKFingerprint(Chem.MolFromSmiles(x)))"
   ]
  },
  {
   "cell_type": "code",
   "execution_count": 5,
   "metadata": {},
   "outputs": [
    {
     "name": "stderr",
     "output_type": "stream",
     "text": [
      "100%|██████████| 425725/425725 [00:26<00:00, 15911.58it/s]\n"
     ]
    }
   ],
   "source": [
    "# There's a bit of an issue with RDKit's fingerprint duplication detection, so this is a more\n",
    "# reliable way of checking for duplicates. This cuts computational time down by ~75%, which is great.\n",
    "hashes = radical_fps.progress_apply(lambda x: hash(tuple(x.GetOnBits())))\n",
    "radical_fps = radical_fps[~hashes.duplicated()]"
   ]
  },
  {
   "cell_type": "code",
   "execution_count": 6,
   "metadata": {},
   "outputs": [],
   "source": [
    "import sys\n",
    "sys.path.append('../molecule_builder')\n",
    "from molecule_builder import build_molecules, get_free_valence, shuffle"
   ]
  },
  {
   "cell_type": "code",
   "execution_count": 7,
   "metadata": {},
   "outputs": [],
   "source": [
    "def make_radical(starting_mol):\n",
    "    \"\"\" For a given starting molecule, select atom randomly to make a\n",
    "    radical where stereochem allows \"\"\"\n",
    "    for i, atom in shuffle(enumerate(starting_mol.GetAtoms())):\n",
    "        if get_free_valence(atom) > 0:\n",
    "            rw_mol = Chem.RWMol(starting_mol)\n",
    "            rw_mol.GetAtomWithIdx(i).SetNumRadicalElectrons(1)\n",
    "            yield rw_mol   \n",
    "\n",
    "            \n",
    "def build_radical(mol, num):\n",
    "    \"\"\" Just builds a large molecule \"\"\"\n",
    "    for mol in build_molecules(\n",
    "        mol, stereoisomers=False,\n",
    "        atom_additions=('Br', 'C', 'N', 'O', 'S', 'P', 'Cl', 'F')):\n",
    "        \n",
    "        if num == 1:  # num counts down, this is the final molecule\n",
    "            yield from make_radical(mol)\n",
    "            \n",
    "        else:\n",
    "            yield from build_radical(mol, num=num-1)\n",
    "\n",
    "            \n",
    "def build_random(low, high):\n",
    "    return next(build_radical(rdkit.Chem.MolFromSmiles('C'),\n",
    "                              rng.integers(low=low, high=high, endpoint=True)))"
   ]
  },
  {
   "cell_type": "code",
   "execution_count": 8,
   "metadata": {},
   "outputs": [],
   "source": [
    "radical_test = radicals[~hashes.duplicated()].sample(200)\n",
    "radicals = radicals[~radicals.isin(radical_test)]\n",
    "radical_fps = radical_fps[~radical_fps.index.isin(radical_test.index)]"
   ]
  },
  {
   "cell_type": "code",
   "execution_count": 9,
   "metadata": {},
   "outputs": [],
   "source": [
    "radical_set = set(radicals)\n",
    "\n",
    "def evaluate_max_similarity(target_mol):\n",
    "    \"\"\" This is the function we'll need to maximize. At least find new molecules\n",
    "    tindex are < 1; but greater than 0.7 \"\"\"\n",
    "    \n",
    "    if target_mol in radical_set:\n",
    "        return 1.  \n",
    "        # zero? We don't want this necessarily, but at the same time\n",
    "        # don't want to penalize building realistic molecules\n",
    "    \n",
    "    # Precalculate the fingerprint for the target molecule\n",
    "    target_fp = Chem.RDKFingerprint(target_mol)\n",
    "\n",
    "    # This is surprisingly fast, ~1 second on an Eagle node. I tried\n",
    "    # multiprocessing.pool, but we'd likely want to batch the fingerprints\n",
    "    # since the overhead is likely higher than the gains from parallelizing\n",
    "    # individually **EDIT:** Of cource there was an RDKit function for bulk \n",
    "    # processing.... this is super fast\n",
    "    max_similarity = max(DataStructs.BulkTanimotoSimilarity(target_fp, radical_fps.values))\n",
    "    \n",
    "    return max_similarity"
   ]
  },
  {
   "cell_type": "code",
   "execution_count": 10,
   "metadata": {},
   "outputs": [
    {
     "name": "stdout",
     "output_type": "stream",
     "text": [
      "44.3 ms ± 1.68 ms per loop (mean ± std. dev. of 7 runs, 10 loops each)\n"
     ]
    }
   ],
   "source": [
    "%timeit evaluate_max_similarity(next(build_radical(rdkit.Chem.MolFromSmiles('C'), 5)))"
   ]
  },
  {
   "cell_type": "code",
   "execution_count": 11,
   "metadata": {},
   "outputs": [],
   "source": [
    "import matplotlib.pyplot as plt\n",
    "import seaborn as sns\n",
    "sns.set(context='talk', style='ticks',\n",
    "        color_codes=True, rc={'legend.frameon': False})\n",
    "\n",
    "%matplotlib inline"
   ]
  },
  {
   "cell_type": "markdown",
   "metadata": {},
   "source": [
    "Here I just take a look at the distribution in similarities from some randomly built molecules"
   ]
  },
  {
   "cell_type": "code",
   "execution_count": 12,
   "metadata": {},
   "outputs": [
    {
     "name": "stderr",
     "output_type": "stream",
     "text": [
      " 57%|█████▋    | 114/200 [00:04<00:03, 22.49it/s]RDKit WARNING: [15:22:27] Conflicting single bond directions around double bond at index 1.\n",
      "RDKit WARNING: [15:22:27]   BondStereo set to STEREONONE and single bond directions set to NONE.\n",
      "100%|██████████| 200/200 [00:08<00:00, 22.68it/s]\n",
      "100%|██████████| 1000/1000 [00:42<00:00, 23.69it/s]\n"
     ]
    }
   ],
   "source": [
    "similarities_test = [evaluate_max_similarity(Chem.MolFromSmiles(radical))\n",
    "                     for radical in tqdm(radical_test.head(200))]\n",
    "similarities_random = [evaluate_max_similarity(build_random(4, 8)) for _ in tqdm(range(1000))]"
   ]
  },
  {
   "cell_type": "code",
   "execution_count": 13,
   "metadata": {},
   "outputs": [
    {
     "data": {
      "text/plain": [
       "<matplotlib.legend.Legend at 0x7f8d8885e7d0>"
      ]
     },
     "execution_count": 13,
     "metadata": {},
     "output_type": "execute_result"
    },
    {
     "data": {
      "image/png": "[encoded data removed]",
      "text/plain": [
       "<Figure size 432x288 with 1 Axes>"
      ]
     },
     "metadata": {
      "needs_background": "light"
     },
     "output_type": "display_data"
    }
   ],
   "source": [
    "plt.hist(np.array(similarities_random), bins=20, range=(0, 1), zorder=2, label='Random Radicals', density=True)\n",
    "plt.hist(np.array(similarities_test), bins=20, range=(0, 1), label='Withheld Radicals', density=True)\n",
    "\n",
    "plt.axvline(x=0.7, ls='--', color='r')\n",
    "plt.legend(loc='upper center')"
   ]
  },
  {
   "cell_type": "markdown",
   "metadata": {},
   "source": [
    "We may not have to much better than random guessing to find our 50; but in general these randomly-built molecules look a lot different than a held-out set of real compounds\n",
    "Would also be cool to include some of Rob's synthetic accessibility scores in these assessments as well, since I'm sure these molecules are garbage (just thrown together atoms, only respecting valency rules)"
   ]
  },
  {
   "cell_type": "code",
   "execution_count": 16,
   "metadata": {},
   "outputs": [],
   "source": [
    "import psycopg2\n",
    "\n",
    "dbparams = {\n",
    "    'dbname': 'bde',\n",
    "    'port': 5432,\n",
    "    'host': 'yuma.hpc.nrel.gov',\n",
    "    'user': 'rlops',\n",
    "    'password': 'jTeL85L!',\n",
    "    'options': f'-c search_path=rl',\n",
    "}\n",
    "\n",
    "with psycopg2.connect(**dbparams) as conn:\n",
    "    rewards = pd.read_sql_query('SELECT * FROM Q2Reward', con=conn)"
   ]
  },
  {
   "cell_type": "code",
   "execution_count": 28,
   "metadata": {},
   "outputs": [
    {
     "data": {
      "text/plain": [
       "0       0.171429\n",
       "1       0.600000\n",
       "2       0.500000\n",
       "3       0.750000\n",
       "4       0.750000\n",
       "          ...   \n",
       "1010    0.684211\n",
       "1011    0.619048\n",
       "1012    0.684211\n",
       "1013    0.619048\n",
       "1014    0.318182\n",
       "Name: reward, Length: 1015, dtype: float64"
      ]
     },
     "execution_count": 28,
     "metadata": {},
     "output_type": "execute_result"
    }
   ],
   "source": []
  },
  {
   "cell_type": "code",
   "execution_count": 62,
   "metadata": {},
   "outputs": [
    {
     "data": {
      "text/plain": [
       "<matplotlib.legend.Legend at 0x7f8d5be054d0>"
      ]
     },
     "execution_count": 62,
     "metadata": {},
     "output_type": "execute_result"
    },
    {
     "data": {
      "image/png": "[encoded data removed]",
      "text/plain": [
       "<Figure size 432x288 with 1 Axes>"
      ]
     },
     "metadata": {
      "needs_background": "light"
     },
     "output_type": "display_data"
    }
   ],
   "source": [
    "plt.hist(np.array(similarities_test), bins=20, range=(0, 1), label='Real radicals (withheld)', density=True, color='.7')\n",
    "sns.kdeplot(np.array(similarities_random), zorder=2, label='Random radicals', clip=(0., 1.))\n",
    "sns.kdeplot(rewards.reward, zorder=2, label='MCTS-generated radicals', clip=(0., 1.), color='r')\n",
    "\n",
    "\n",
    "plt.axvline(x=0.7, ls='--', color='g')\n",
    "plt.ylabel('Frequency')\n",
    "plt.xlabel('Tanimoto Similarity')\n",
    "plt.tight_layout()\n",
    "plt.xlim([0, 1])\n",
    "sns.despine(trim=True, offset=10)\n",
    "\n",
    "plt.legend(loc='lower center', bbox_to_anchor=(.5, 1.))\n"
   ]
  },
  {
   "cell_type": "code",
   "execution_count": 60,
   "metadata": {},
   "outputs": [
    {
     "data": {
      "text/plain": [
       "(1015, 4)"
      ]
     },
     "execution_count": 60,
     "metadata": {},
     "output_type": "execute_result"
    }
   ],
   "source": [
    "rewards.shape"
   ]
  },
  {
   "cell_type": "code",
   "execution_count": 59,
   "metadata": {},
   "outputs": [
    {
     "data": {
      "text/plain": [
       "(286, 4)"
      ]
     },
     "execution_count": 59,
     "metadata": {},
     "output_type": "execute_result"
    }
   ],
   "source": [
    "rewards[rewards.reward > 0.7].shape"
   ]
  },
  {
   "cell_type": "code",
   "execution_count": 51,
   "metadata": {},
   "outputs": [],
   "source": [
    "mols = [rdkit.Chem.MolFromSmiles(smiles) for smiles in rewards[rewards.reward > 0.7].sample(frac=1., random_state=1).smiles]"
   ]
  },
  {
   "cell_type": "code",
   "execution_count": 57,
   "metadata": {},
   "outputs": [],
   "source": [
    "from rdkit import Chem\n",
    "from rdkit.Chem import Draw\n",
    "from rdkit.Chem.Draw import rdMolDraw2D\n",
    "from rdkit.Chem import rdDepictor\n",
    "from IPython.display import SVG\n",
    "\n",
    "d2d = rdMolDraw2D.MolDraw2DCairo(1000,1000,200,200)\n",
    "\n",
    "\n",
    "d2d.DrawMolecules(mols[:25])\n",
    "d2d.FinishDrawing()\n",
    "with open('example_rads.png', 'wb') as f:\n",
    "    f.write(d2d.GetDrawingText())"
   ]
  },
  {
   "cell_type": "code",
   "execution_count": 14,
   "metadata": {},
   "outputs": [],
   "source": [
    "# radical_fps_binary = radical_fps.apply(DataStructs.BitVectToBinaryText)\n",
    "# radical_fps_binary.to_pickle('binary_fps.p.gz')"
   ]
  },
  {
   "cell_type": "code",
   "execution_count": 15,
   "metadata": {},
   "outputs": [
    {
     "ename": "FileNotFoundError",
     "evalue": "[Errno 2] No such file or directory: 'binary_fps.p.gz'",
     "output_type": "error",
     "traceback": [
      "\u001b[0;31m---------------------------------------------------------------------------\u001b[0m",
      "\u001b[0;31mFileNotFoundError\u001b[0m                         Traceback (most recent call last)",
      "\u001b[0;32m<ipython-input-15-4777ee2f73cc>\u001b[0m in \u001b[0;36m<module>\u001b[0;34m\u001b[0m\n\u001b[1;32m      1\u001b[0m \u001b[0;31m# This is likely how we'll want to modularize this; this is a fairly quick import\u001b[0m\u001b[0;34m\u001b[0m\u001b[0;34m\u001b[0m\u001b[0;34m\u001b[0m\u001b[0m\n\u001b[1;32m      2\u001b[0m \u001b[0;31m# that could then go in a similarity.py script to provide a generic SMILES to score function.\u001b[0m\u001b[0;34m\u001b[0m\u001b[0;34m\u001b[0m\u001b[0;34m\u001b[0m\u001b[0m\n\u001b[0;32m----> 3\u001b[0;31m \u001b[0mpd\u001b[0m\u001b[0;34m.\u001b[0m\u001b[0mread_pickle\u001b[0m\u001b[0;34m(\u001b[0m\u001b[0;34m'binary_fps.p.gz'\u001b[0m\u001b[0;34m)\u001b[0m\u001b[0;34m.\u001b[0m\u001b[0mapply\u001b[0m\u001b[0;34m(\u001b[0m\u001b[0mDataStructs\u001b[0m\u001b[0;34m.\u001b[0m\u001b[0mCreateFromBinaryText\u001b[0m\u001b[0;34m)\u001b[0m\u001b[0;34m\u001b[0m\u001b[0;34m\u001b[0m\u001b[0m\n\u001b[0m",
      "\u001b[0;32m/projects/rlmolecule/pstjohn/envs/tf2_gpu/lib/python3.7/site-packages/pandas/io/pickle.py\u001b[0m in \u001b[0;36mread_pickle\u001b[0;34m(filepath_or_buffer, compression)\u001b[0m\n\u001b[1;32m    167\u001b[0m     \u001b[0;32mif\u001b[0m \u001b[0;32mnot\u001b[0m \u001b[0misinstance\u001b[0m\u001b[0;34m(\u001b[0m\u001b[0mfp_or_buf\u001b[0m\u001b[0;34m,\u001b[0m \u001b[0mstr\u001b[0m\u001b[0;34m)\u001b[0m \u001b[0;32mand\u001b[0m \u001b[0mcompression\u001b[0m \u001b[0;34m==\u001b[0m \u001b[0;34m\"infer\"\u001b[0m\u001b[0;34m:\u001b[0m\u001b[0;34m\u001b[0m\u001b[0;34m\u001b[0m\u001b[0m\n\u001b[1;32m    168\u001b[0m         \u001b[0mcompression\u001b[0m \u001b[0;34m=\u001b[0m \u001b[0;32mNone\u001b[0m\u001b[0;34m\u001b[0m\u001b[0;34m\u001b[0m\u001b[0m\n\u001b[0;32m--> 169\u001b[0;31m     \u001b[0mf\u001b[0m\u001b[0;34m,\u001b[0m \u001b[0mfh\u001b[0m \u001b[0;34m=\u001b[0m \u001b[0mget_handle\u001b[0m\u001b[0;34m(\u001b[0m\u001b[0mfp_or_buf\u001b[0m\u001b[0;34m,\u001b[0m \u001b[0;34m\"rb\"\u001b[0m\u001b[0;34m,\u001b[0m \u001b[0mcompression\u001b[0m\u001b[0;34m=\u001b[0m\u001b[0mcompression\u001b[0m\u001b[0;34m,\u001b[0m \u001b[0mis_text\u001b[0m\u001b[0;34m=\u001b[0m\u001b[0;32mFalse\u001b[0m\u001b[0;34m)\u001b[0m\u001b[0;34m\u001b[0m\u001b[0;34m\u001b[0m\u001b[0m\n\u001b[0m\u001b[1;32m    170\u001b[0m \u001b[0;34m\u001b[0m\u001b[0m\n\u001b[1;32m    171\u001b[0m     \u001b[0;31m# 1) try standard library Pickle\u001b[0m\u001b[0;34m\u001b[0m\u001b[0;34m\u001b[0m\u001b[0;34m\u001b[0m\u001b[0m\n",
      "\u001b[0;32m/projects/rlmolecule/pstjohn/envs/tf2_gpu/lib/python3.7/site-packages/pandas/io/common.py\u001b[0m in \u001b[0;36mget_handle\u001b[0;34m(path_or_buf, mode, encoding, compression, memory_map, is_text, errors)\u001b[0m\n\u001b[1;32m    442\u001b[0m             \u001b[0;32mif\u001b[0m \u001b[0mis_path\u001b[0m\u001b[0;34m:\u001b[0m\u001b[0;34m\u001b[0m\u001b[0;34m\u001b[0m\u001b[0m\n\u001b[1;32m    443\u001b[0m                 f = gzip.open(\n\u001b[0;32m--> 444\u001b[0;31m                     \u001b[0mpath_or_buf\u001b[0m\u001b[0;34m,\u001b[0m \u001b[0mmode\u001b[0m\u001b[0;34m,\u001b[0m \u001b[0;34m**\u001b[0m\u001b[0mcompression_args\u001b[0m  \u001b[0;31m# type: ignore\u001b[0m\u001b[0;34m\u001b[0m\u001b[0;34m\u001b[0m\u001b[0m\n\u001b[0m\u001b[1;32m    445\u001b[0m                 )\n\u001b[1;32m    446\u001b[0m             \u001b[0;32melse\u001b[0m\u001b[0;34m:\u001b[0m\u001b[0;34m\u001b[0m\u001b[0;34m\u001b[0m\u001b[0m\n",
      "\u001b[0;32m/projects/rlmolecule/pstjohn/envs/tf2_gpu/lib/python3.7/gzip.py\u001b[0m in \u001b[0;36mopen\u001b[0;34m(filename, mode, compresslevel, encoding, errors, newline)\u001b[0m\n\u001b[1;32m     56\u001b[0m     \u001b[0mgz_mode\u001b[0m \u001b[0;34m=\u001b[0m \u001b[0mmode\u001b[0m\u001b[0;34m.\u001b[0m\u001b[0mreplace\u001b[0m\u001b[0;34m(\u001b[0m\u001b[0;34m\"t\"\u001b[0m\u001b[0;34m,\u001b[0m \u001b[0;34m\"\"\u001b[0m\u001b[0;34m)\u001b[0m\u001b[0;34m\u001b[0m\u001b[0;34m\u001b[0m\u001b[0m\n\u001b[1;32m     57\u001b[0m     \u001b[0;32mif\u001b[0m \u001b[0misinstance\u001b[0m\u001b[0;34m(\u001b[0m\u001b[0mfilename\u001b[0m\u001b[0;34m,\u001b[0m \u001b[0;34m(\u001b[0m\u001b[0mstr\u001b[0m\u001b[0;34m,\u001b[0m \u001b[0mbytes\u001b[0m\u001b[0;34m,\u001b[0m \u001b[0mos\u001b[0m\u001b[0;34m.\u001b[0m\u001b[0mPathLike\u001b[0m\u001b[0;34m)\u001b[0m\u001b[0;34m)\u001b[0m\u001b[0;34m:\u001b[0m\u001b[0;34m\u001b[0m\u001b[0;34m\u001b[0m\u001b[0m\n\u001b[0;32m---> 58\u001b[0;31m         \u001b[0mbinary_file\u001b[0m \u001b[0;34m=\u001b[0m \u001b[0mGzipFile\u001b[0m\u001b[0;34m(\u001b[0m\u001b[0mfilename\u001b[0m\u001b[0;34m,\u001b[0m \u001b[0mgz_mode\u001b[0m\u001b[0;34m,\u001b[0m \u001b[0mcompresslevel\u001b[0m\u001b[0;34m)\u001b[0m\u001b[0;34m\u001b[0m\u001b[0;34m\u001b[0m\u001b[0m\n\u001b[0m\u001b[1;32m     59\u001b[0m     \u001b[0;32melif\u001b[0m \u001b[0mhasattr\u001b[0m\u001b[0;34m(\u001b[0m\u001b[0mfilename\u001b[0m\u001b[0;34m,\u001b[0m \u001b[0;34m\"read\"\u001b[0m\u001b[0;34m)\u001b[0m \u001b[0;32mor\u001b[0m \u001b[0mhasattr\u001b[0m\u001b[0;34m(\u001b[0m\u001b[0mfilename\u001b[0m\u001b[0;34m,\u001b[0m \u001b[0;34m\"write\"\u001b[0m\u001b[0;34m)\u001b[0m\u001b[0;34m:\u001b[0m\u001b[0;34m\u001b[0m\u001b[0;34m\u001b[0m\u001b[0m\n\u001b[1;32m     60\u001b[0m         \u001b[0mbinary_file\u001b[0m \u001b[0;34m=\u001b[0m \u001b[0mGzipFile\u001b[0m\u001b[0;34m(\u001b[0m\u001b[0;32mNone\u001b[0m\u001b[0;34m,\u001b[0m \u001b[0mgz_mode\u001b[0m\u001b[0;34m,\u001b[0m \u001b[0mcompresslevel\u001b[0m\u001b[0;34m,\u001b[0m \u001b[0mfilename\u001b[0m\u001b[0;34m)\u001b[0m\u001b[0;34m\u001b[0m\u001b[0;34m\u001b[0m\u001b[0m\n",
      "\u001b[0;32m/projects/rlmolecule/pstjohn/envs/tf2_gpu/lib/python3.7/gzip.py\u001b[0m in \u001b[0;36m__init__\u001b[0;34m(self, filename, mode, compresslevel, fileobj, mtime)\u001b[0m\n\u001b[1;32m    166\u001b[0m             \u001b[0mmode\u001b[0m \u001b[0;34m+=\u001b[0m \u001b[0;34m'b'\u001b[0m\u001b[0;34m\u001b[0m\u001b[0;34m\u001b[0m\u001b[0m\n\u001b[1;32m    167\u001b[0m         \u001b[0;32mif\u001b[0m \u001b[0mfileobj\u001b[0m \u001b[0;32mis\u001b[0m \u001b[0;32mNone\u001b[0m\u001b[0;34m:\u001b[0m\u001b[0;34m\u001b[0m\u001b[0;34m\u001b[0m\u001b[0m\n\u001b[0;32m--> 168\u001b[0;31m             \u001b[0mfileobj\u001b[0m \u001b[0;34m=\u001b[0m \u001b[0mself\u001b[0m\u001b[0;34m.\u001b[0m\u001b[0mmyfileobj\u001b[0m \u001b[0;34m=\u001b[0m \u001b[0mbuiltins\u001b[0m\u001b[0;34m.\u001b[0m\u001b[0mopen\u001b[0m\u001b[0;34m(\u001b[0m\u001b[0mfilename\u001b[0m\u001b[0;34m,\u001b[0m \u001b[0mmode\u001b[0m \u001b[0;32mor\u001b[0m \u001b[0;34m'rb'\u001b[0m\u001b[0;34m)\u001b[0m\u001b[0;34m\u001b[0m\u001b[0;34m\u001b[0m\u001b[0m\n\u001b[0m\u001b[1;32m    169\u001b[0m         \u001b[0;32mif\u001b[0m \u001b[0mfilename\u001b[0m \u001b[0;32mis\u001b[0m \u001b[0;32mNone\u001b[0m\u001b[0;34m:\u001b[0m\u001b[0;34m\u001b[0m\u001b[0;34m\u001b[0m\u001b[0m\n\u001b[1;32m    170\u001b[0m             \u001b[0mfilename\u001b[0m \u001b[0;34m=\u001b[0m \u001b[0mgetattr\u001b[0m\u001b[0;34m(\u001b[0m\u001b[0mfileobj\u001b[0m\u001b[0;34m,\u001b[0m \u001b[0;34m'name'\u001b[0m\u001b[0;34m,\u001b[0m \u001b[0;34m''\u001b[0m\u001b[0;34m)\u001b[0m\u001b[0;34m\u001b[0m\u001b[0;34m\u001b[0m\u001b[0m\n",
      "\u001b[0;31mFileNotFoundError\u001b[0m: [Errno 2] No such file or directory: 'binary_fps.p.gz'"
     ]
    }
   ],
   "source": [
    "# # This is likely how we'll want to modularize this; this is a fairly quick import \n",
    "# # that could then go in a similarity.py script to provide a generic SMILES to score function.\n",
    "# pd.read_pickle('binary_fps.p.gz').apply(DataStructs.CreateFromBinaryText)"
   ]
  },
  {
   "cell_type": "code",
   "execution_count": 64,
   "metadata": {},
   "outputs": [],
   "source": [
    "from sklearn.metrics import log_loss"
   ]
  },
  {
   "cell_type": "code",
   "execution_count": 78,
   "metadata": {},
   "outputs": [],
   "source": [
    "y_true = np.random.binomial(1, .1, size=100).astype(float)\n",
    "y_pred = np.random.binomial(1, .1, size=100).astype(float)"
   ]
  },
  {
   "cell_type": "code",
   "execution_count": 79,
   "metadata": {},
   "outputs": [],
   "source": [
    "import tensorflow as tf"
   ]
  },
  {
   "cell_type": "code",
   "execution_count": 91,
   "metadata": {},
   "outputs": [
    {
     "data": {
      "text/plain": [
       "<tf.Tensor: shape=(), dtype=float64, numpy=1.23399587763187>"
      ]
     },
     "execution_count": 91,
     "metadata": {},
     "output_type": "execute_result"
    }
   ],
   "source": [
    "tf.keras.losses.binary_crossentropy(y_true, np.zeros(100))"
   ]
  },
  {
   "cell_type": "code",
   "execution_count": null,
   "metadata": {},
   "outputs": [],
   "source": []
  }
 ],
 "metadata": {
  "kernelspec": {
   "display_name": "Python 3",
   "language": "python",
   "name": "python3"
  },
  "language_info": {
   "codemirror_mode": {
    "name": "ipython",
    "version": 3
   },
   "file_extension": ".py",
   "mimetype": "text/x-python",
   "name": "python",
   "nbconvert_exporter": "python",
   "pygments_lexer": "ipython3",
   "version": "3.7.8"
  }
 },
 "nbformat": 4,
 "nbformat_minor": 4
}
