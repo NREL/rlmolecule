{
 "cells": [
  {
   "cell_type": "markdown",
   "metadata": {},
   "source": [
    "## Code to start on Q2 RL milestone\n",
    "*Milestone text:* Developed a trainable reinforcement learning strategy for building organic molecules. Leveraged existing radical database to train a generative model that results in at least 50 novel molecules with high similarity to the training database. Novelty was assessed computationally using RDKit’s SMILES canonicalization procedure, and similarity was validated using Tanimoto similarity of molecular fingerprints, ensuring all molecules have a similarity of at least 0.7 to existing calculations."
   ]
  },
  {
   "cell_type": "code",
   "execution_count": 1,
   "metadata": {},
   "outputs": [
    {
     "name": "stderr",
     "output_type": "stream",
     "text": [
      "/projects/rlmolecule/pstjohn/envs/tf2_gpu/lib/python3.7/site-packages/tqdm/std.py:668: FutureWarning: The Panel class is removed from pandas. Accessing it from the top-level namespace will also be removed in the next version\n",
      "  from pandas import Panel\n"
     ]
    }
   ],
   "source": [
    "import pandas as pd\n",
    "\n",
    "import rdkit\n",
    "from rdkit import Chem\n",
    "from rdkit import DataStructs\n",
    "\n",
    "import numpy as np\n",
    "from tqdm import tqdm\n",
    "\n",
    "rng = np.random.default_rng(1)\n",
    "tqdm.pandas()"
   ]
  },
  {
   "cell_type": "code",
   "execution_count": 2,
   "metadata": {},
   "outputs": [
    {
     "data": {
      "text/plain": [
       "31918          CC1=C([O])C(=O)CCO1\n",
       "148321    C[CH][C@H](F)C(=O)OC1CC1\n",
       "239373       [CH2][C@H](CCCO)N(C)C\n",
       "184042      C[C@](O)([CH]O)C(=O)CO\n",
       "419931             O/N=C\\c1cc[c]o1\n",
       "Name: 0, dtype: object"
      ]
     },
     "execution_count": 2,
     "metadata": {},
     "output_type": "execute_result"
    }
   ],
   "source": [
    "radicals = pd.read_csv('radicals.csv.gz')['0']\n",
    "radicals.sample(5)"
   ]
  },
  {
   "cell_type": "code",
   "execution_count": 3,
   "metadata": {},
   "outputs": [
    {
     "data": {
      "text/plain": [
       "(425725,)"
      ]
     },
     "execution_count": 3,
     "metadata": {},
     "output_type": "execute_result"
    }
   ],
   "source": [
    "radicals.shape"
   ]
  },
  {
   "cell_type": "markdown",
   "metadata": {},
   "source": [
    "We don't need this, but if we wanted to filter out a given element from the process we could check the elements in each radical with the following code:"
   ]
  },
  {
   "cell_type": "code",
   "execution_count": 4,
   "metadata": {},
   "outputs": [
    {
     "name": "stderr",
     "output_type": "stream",
     "text": [
      "  3%|▎         | 11783/425725 [00:03<02:01, 3418.54it/s]RDKit WARNING: [20:24:54] Conflicting single bond directions around double bond at index 1.\n",
      "RDKit WARNING: [20:24:54]   BondStereo set to STEREONONE and single bond directions set to NONE.\n",
      "RDKit WARNING: [20:24:54] Conflicting single bond directions around double bond at index 1.\n",
      "RDKit WARNING: [20:24:54]   BondStereo set to STEREONONE and single bond directions set to NONE.\n",
      "RDKit WARNING: [20:24:54] Conflicting single bond directions around double bond at index 1.\n",
      "RDKit WARNING: [20:24:54]   BondStereo set to STEREONONE and single bond directions set to NONE.\n",
      "RDKit WARNING: [20:24:54] Conflicting single bond directions around double bond at index 1.\n",
      "RDKit WARNING: [20:24:54]   BondStereo set to STEREONONE and single bond directions set to NONE.\n",
      " 74%|███████▎  | 313904/425725 [00:44<00:16, 6917.75it/s] RDKit WARNING: [20:25:36] Conflicting single bond directions around double bond at index 2.\n",
      "RDKit WARNING: [20:25:36]   BondStereo set to STEREONONE and single bond directions set to NONE.\n",
      "RDKit WARNING: [20:25:36] Conflicting single bond directions around double bond at index 2.\n",
      "RDKit WARNING: [20:25:36]   BondStereo set to STEREONONE and single bond directions set to NONE.\n",
      "RDKit WARNING: [20:25:36] Conflicting single bond directions around double bond at index 2.\n",
      "RDKit WARNING: [20:25:36]   BondStereo set to STEREONONE and single bond directions set to NONE.\n",
      "RDKit WARNING: [20:25:36] Conflicting single bond directions around double bond at index 2.\n",
      "RDKit WARNING: [20:25:36]   BondStereo set to STEREONONE and single bond directions set to NONE.\n",
      "RDKit WARNING: [20:25:36] Conflicting single bond directions around double bond at index 2.\n",
      "RDKit WARNING: [20:25:36]   BondStereo set to STEREONONE and single bond directions set to NONE.\n",
      "RDKit WARNING: [20:25:36] Conflicting single bond directions around double bond at index 2.\n",
      "RDKit WARNING: [20:25:36]   BondStereo set to STEREONONE and single bond directions set to NONE.\n",
      "RDKit WARNING: [20:25:36] Conflicting single bond directions around double bond at index 2.\n",
      "RDKit WARNING: [20:25:36]   BondStereo set to STEREONONE and single bond directions set to NONE.\n",
      " 82%|████████▏ | 347795/425725 [00:50<00:13, 5754.08it/s]RDKit WARNING: [20:25:41] WARNING: not removing hydrogen atom without neighbors\n",
      " 90%|█████████ | 384549/425725 [00:56<00:09, 4372.65it/s]RDKit WARNING: [20:25:47] Conflicting single bond directions around double bond at index 1.\n",
      "RDKit WARNING: [20:25:47]   BondStereo set to STEREONONE and single bond directions set to NONE.\n",
      " 93%|█████████▎| 394388/425725 [00:58<00:07, 4362.25it/s]RDKit WARNING: [20:25:49] Conflicting single bond directions around double bond at index 2.\n",
      "RDKit WARNING: [20:25:49]   BondStereo set to STEREONONE and single bond directions set to NONE.\n",
      "RDKit WARNING: [20:25:49] Conflicting single bond directions around double bond at index 2.\n",
      "RDKit WARNING: [20:25:49]   BondStereo set to STEREONONE and single bond directions set to NONE.\n",
      "100%|██████████| 425725/425725 [01:02<00:00, 6780.12it/s]\n"
     ]
    }
   ],
   "source": [
    "# This step, pre-calculating fingerprints for the radical database,\n",
    "# is slow but only has to be done once per evaluation\n",
    "radical_fps = radicals.progress_apply(lambda x: Chem.RDKFingerprint(Chem.MolFromSmiles(x)))"
   ]
  },
  {
   "cell_type": "code",
   "execution_count": 5,
   "metadata": {},
   "outputs": [
    {
     "name": "stderr",
     "output_type": "stream",
     "text": [
      "100%|██████████| 425725/425725 [00:25<00:00, 16522.30it/s]\n"
     ]
    }
   ],
   "source": [
    "# There's a bit of an issue with RDKit's fingerprint duplication detection, so this is a more\n",
    "# reliable way of checking for duplicates. This cuts computational time down by ~75%, which is great.\n",
    "hashes = radical_fps.progress_apply(lambda x: hash(tuple(x.GetOnBits())))\n",
    "radical_fps = radical_fps[~hashes.duplicated()]"
   ]
  },
  {
   "cell_type": "code",
   "execution_count": 6,
   "metadata": {},
   "outputs": [],
   "source": [
    "import sys\n",
    "sys.path.append('../molecule_builder')\n",
    "from molecule_builder import build_molecules, get_free_valence, shuffle"
   ]
  },
  {
   "cell_type": "code",
   "execution_count": 7,
   "metadata": {},
   "outputs": [],
   "source": [
    "def make_radical(starting_mol):\n",
    "    \"\"\" For a given starting molecule, select atom randomly to make a\n",
    "    radical where stereochem allows \"\"\"\n",
    "    for i, atom in shuffle(enumerate(starting_mol.GetAtoms())):\n",
    "        if get_free_valence(atom) > 0:\n",
    "            rw_mol = Chem.RWMol(starting_mol)\n",
    "            rw_mol.GetAtomWithIdx(i).SetNumRadicalElectrons(1)\n",
    "            yield rw_mol   \n",
    "\n",
    "            \n",
    "def build_radical(mol, num):\n",
    "    \"\"\" Just builds a large molecule \"\"\"\n",
    "    for mol in build_molecules(\n",
    "        mol, stereoisomers=False,\n",
    "        atom_additions=('Br', 'C', 'N', 'O', 'S', 'P', 'Cl', 'F')):\n",
    "        \n",
    "        if num == 1:  # num counts down, this is the final molecule\n",
    "            yield from make_radical(mol)\n",
    "            \n",
    "        else:\n",
    "            yield from build_radical(mol, num=num-1)\n",
    "\n",
    "            \n",
    "def build_random(low, high):\n",
    "    return next(build_radical(rdkit.Chem.MolFromSmiles('C'),\n",
    "                              rng.integers(low=low, high=high, endpoint=True)))"
   ]
  },
  {
   "cell_type": "code",
   "execution_count": 8,
   "metadata": {},
   "outputs": [],
   "source": [
    "radical_test = radicals[~hashes.duplicated()].sample(200)\n",
    "radicals = radicals[~radicals.isin(radical_test)]\n",
    "radical_fps = radical_fps[~radical_fps.index.isin(radical_test.index)]"
   ]
  },
  {
   "cell_type": "code",
   "execution_count": 9,
   "metadata": {},
   "outputs": [],
   "source": [
    "radical_set = set(radicals)\n",
    "\n",
    "def evaluate_max_similarity(target_mol):\n",
    "    \"\"\" This is the function we'll need to maximize. At least find new molecules\n",
    "    tindex are < 1; but greater than 0.7 \"\"\"\n",
    "    \n",
    "    if target_mol in radical_set:\n",
    "        return 1.  \n",
    "        # zero? We don't want this necessarily, but at the same time\n",
    "        # don't want to penalize building realistic molecules\n",
    "    \n",
    "    # Precalculate the fingerprint for the target molecule\n",
    "    target_fp = Chem.RDKFingerprint(target_mol)\n",
    "\n",
    "    # This is surprisingly fast, ~1 second on an Eagle node. I tried\n",
    "    # multiprocessing.pool, but we'd likely want to batch the fingerprints\n",
    "    # since the overhead is likely higher than the gains from parallelizing\n",
    "    # individually **EDIT:** Of cource there was an RDKit function for bulk \n",
    "    # processing.... this is super fast\n",
    "    max_similarity = max(DataStructs.BulkTanimotoSimilarity(target_fp, radical_fps.values))\n",
    "    \n",
    "    return max_similarity"
   ]
  },
  {
   "cell_type": "code",
   "execution_count": 10,
   "metadata": {},
   "outputs": [
    {
     "name": "stdout",
     "output_type": "stream",
     "text": [
      "45.6 ms ± 2.79 ms per loop (mean ± std. dev. of 7 runs, 10 loops each)\n"
     ]
    }
   ],
   "source": [
    "%timeit evaluate_max_similarity(next(build_radical(rdkit.Chem.MolFromSmiles('C'), 5)))"
   ]
  },
  {
   "cell_type": "code",
   "execution_count": 11,
   "metadata": {},
   "outputs": [],
   "source": [
    "import matplotlib.pyplot as plt\n",
    "import seaborn as sns\n",
    "sns.set(context='talk', style='ticks',\n",
    "        color_codes=True, rc={'legend.frameon': False})\n",
    "\n",
    "%matplotlib inline"
   ]
  },
  {
   "cell_type": "markdown",
   "metadata": {},
   "source": [
    "Here I just take a look at the distribution in similarities from some randomly built molecules"
   ]
  },
  {
   "cell_type": "code",
   "execution_count": 12,
   "metadata": {},
   "outputs": [
    {
     "name": "stderr",
     "output_type": "stream",
     "text": [
      "100%|██████████| 200/200 [00:07<00:00, 25.40it/s]\n",
      "100%|██████████| 1000/1000 [00:42<00:00, 23.26it/s]\n"
     ]
    }
   ],
   "source": [
    "similarities_test = [evaluate_max_similarity(Chem.MolFromSmiles(radical))\n",
    "                     for radical in tqdm(radical_test.head(200))]\n",
    "similarities_random = [evaluate_max_similarity(build_random(4, 8)) for _ in tqdm(range(1000))]"
   ]
  },
  {
   "cell_type": "code",
   "execution_count": 14,
   "metadata": {},
   "outputs": [
    {
     "data": {
      "text/plain": [
       "<matplotlib.legend.Legend at 0x7fdfbf178c10>"
      ]
     },
     "execution_count": 14,
     "metadata": {},
     "output_type": "execute_result"
    },
    {
     "data": {
      "image/png": "[encoded data removed]",
      "text/plain": [
       "<Figure size 432x288 with 1 Axes>"
      ]
     },
     "metadata": {
      "needs_background": "light"
     },
     "output_type": "display_data"
    }
   ],
   "source": [
    "plt.hist(np.array(similarities_random), bins=20, range=(0, 1), zorder=2, label='Random Radicals', density=True)\n",
    "plt.hist(np.array(similarities_test), bins=20, range=(0, 1), label='Withheld Radicals', density=True)\n",
    "\n",
    "plt.axvline(x=0.7, ls='--', color='r')\n",
    "plt.legend(loc='upper center')"
   ]
  },
  {
   "cell_type": "markdown",
   "metadata": {},
   "source": [
    "We may not have to much better than random guessing to find our 50; but in general these randomly-built molecules look a lot different than a held-out set of real compounds\n",
    "Would also be cool to include some of Rob's synthetic accessibility scores in these assessments as well, since I'm sure these molecules are garbage (just thrown together atoms, only respecting valency rules)"
   ]
  },
  {
   "cell_type": "code",
   "execution_count": 28,
   "metadata": {},
   "outputs": [],
   "source": [
    "radical_fps_binary = radical_fps.apply(DataStructs.BitVectToBinaryText)\n",
    "radical_fps_binary.to_pickle('binary_fps.p.gz')"
   ]
  },
  {
   "cell_type": "code",
   "execution_count": 33,
   "metadata": {},
   "outputs": [
    {
     "data": {
      "text/plain": [
       "0         [0, 0, 0, 0, 0, 0, 0, 0, 0, 0, 0, 0, 0, 0, 0, ...\n",
       "1         [0, 1, 0, 0, 0, 0, 0, 0, 0, 0, 0, 0, 0, 0, 0, ...\n",
       "2         [0, 0, 0, 0, 0, 0, 0, 0, 0, 0, 0, 0, 0, 0, 0, ...\n",
       "3         [0, 0, 0, 0, 0, 0, 0, 0, 0, 0, 0, 0, 0, 0, 0, ...\n",
       "4         [0, 0, 0, 0, 0, 0, 0, 0, 0, 0, 0, 0, 0, 0, 0, ...\n",
       "                                ...                        \n",
       "425709    [0, 0, 0, 0, 0, 0, 0, 0, 0, 0, 0, 0, 0, 0, 0, ...\n",
       "425710    [0, 0, 0, 0, 0, 0, 0, 0, 0, 0, 0, 0, 0, 0, 0, ...\n",
       "425714    [0, 0, 0, 0, 0, 0, 0, 0, 0, 0, 0, 0, 0, 0, 0, ...\n",
       "425722    [0, 0, 0, 0, 0, 0, 0, 0, 0, 0, 0, 0, 0, 0, 0, ...\n",
       "425724    [0, 0, 0, 0, 0, 0, 0, 0, 0, 0, 0, 0, 0, 0, 0, ...\n",
       "Name: 0, Length: 111781, dtype: object"
      ]
     },
     "execution_count": 33,
     "metadata": {},
     "output_type": "execute_result"
    }
   ],
   "source": [
    "# This is likely how we'll want to modularize this; this is a fairly quick import \n",
    "# that could then go in a similarity.py script to provide a generic SMILES to score function.\n",
    "pd.read_pickle('binary_fps.p.gz').apply(DataStructs.CreateFromBinaryText)"
   ]
  },
  {
   "cell_type": "code",
   "execution_count": null,
   "metadata": {},
   "outputs": [],
   "source": []
  }
 ],
 "metadata": {
  "kernelspec": {
   "display_name": "Python 3",
   "language": "python",
   "name": "python3"
  },
  "language_info": {
   "codemirror_mode": {
    "name": "ipython",
    "version": 3
   },
   "file_extension": ".py",
   "mimetype": "text/x-python",
   "name": "python",
   "nbconvert_exporter": "python",
   "pygments_lexer": "ipython3",
   "version": "3.7.8"
  }
 },
 "nbformat": 4,
 "nbformat_minor": 4
}
