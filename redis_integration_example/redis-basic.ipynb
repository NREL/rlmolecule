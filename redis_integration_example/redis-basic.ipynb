{
 "cells": [
  {
   "cell_type": "markdown",
   "metadata": {},
   "source": [
    "#### Notebook demonstrating GET, SET, DEL, KEYS, and use of namespaces in Redis"
   ]
  },
  {
   "cell_type": "code",
   "execution_count": 1,
   "metadata": {},
   "outputs": [],
   "source": [
    "import json\n",
    "import pandas as pd\n",
    "import random\n",
    "import re\n",
    "import redis\n",
    "import uuid "
   ]
  },
  {
   "cell_type": "code",
   "execution_count": 2,
   "metadata": {},
   "outputs": [
    {
     "name": "stdout",
     "output_type": "stream",
     "text": [
      "{'__info__': 'Details needed to connect a Redis instance', 'host': 'app-test', 'port': 6378, 'namespace': 'rlmol'}\n"
     ]
    }
   ],
   "source": [
    "with open('redis.json', 'r') as f:\n",
    "    config = json.load(f)\n",
    "print(config)"
   ]
  },
  {
   "cell_type": "code",
   "execution_count": 3,
   "metadata": {},
   "outputs": [
    {
     "data": {
      "text/plain": [
       "[]"
      ]
     },
     "execution_count": 3,
     "metadata": {},
     "output_type": "execute_result"
    }
   ],
   "source": [
    "# Connect to Redis and print out keys under the namespace specified in redis.json\n",
    "\n",
    "rconn = redis.Redis(host=config[\"host\"], port=config[\"port\"])\n",
    "rconn.keys(\"%s:*\" % config[\"namespace\"])"
   ]
  },
  {
   "cell_type": "code",
   "execution_count": 4,
   "metadata": {},
   "outputs": [],
   "source": [
    "# Generate and save a bunch of random keys/values \n",
    "\n",
    "for _ in range(1000):\n",
    "    key = uuid.uuid1() \n",
    "    value = random.uniform(0.0, 1.0)\n",
    "    \n",
    "    rconn.set(\"%s:%s\" % (config[\"namespace\"], key), value)"
   ]
  },
  {
   "cell_type": "code",
   "execution_count": 5,
   "metadata": {},
   "outputs": [
    {
     "data": {
      "text/html": [
       "<div>\n",
       "<style scoped>\n",
       "    .dataframe tbody tr th:only-of-type {\n",
       "        vertical-align: middle;\n",
       "    }\n",
       "\n",
       "    .dataframe tbody tr th {\n",
       "        vertical-align: top;\n",
       "    }\n",
       "\n",
       "    .dataframe thead th {\n",
       "        text-align: right;\n",
       "    }\n",
       "</style>\n",
       "<table border=\"1\" class=\"dataframe\">\n",
       "  <thead>\n",
       "    <tr style=\"text-align: right;\">\n",
       "      <th></th>\n",
       "      <th>value</th>\n",
       "    </tr>\n",
       "  </thead>\n",
       "  <tbody>\n",
       "    <tr>\n",
       "      <th>556fddc4-ecc4-11ea-9eac-2000110dfec0</th>\n",
       "      <td>0.997808</td>\n",
       "    </tr>\n",
       "    <tr>\n",
       "      <th>557983c4-ecc4-11ea-9eac-2000110dfec0</th>\n",
       "      <td>0.997604</td>\n",
       "    </tr>\n",
       "    <tr>\n",
       "      <th>5571533e-ecc4-11ea-9eac-2000110dfec0</th>\n",
       "      <td>0.997491</td>\n",
       "    </tr>\n",
       "    <tr>\n",
       "      <th>556dad1a-ecc4-11ea-9eac-2000110dfec0</th>\n",
       "      <td>0.995721</td>\n",
       "    </tr>\n",
       "    <tr>\n",
       "      <th>55700baa-ecc4-11ea-9eac-2000110dfec0</th>\n",
       "      <td>0.994555</td>\n",
       "    </tr>\n",
       "    <tr>\n",
       "      <th>5578a152-ecc4-11ea-9eac-2000110dfec0</th>\n",
       "      <td>0.994448</td>\n",
       "    </tr>\n",
       "    <tr>\n",
       "      <th>55798e00-ecc4-11ea-9eac-2000110dfec0</th>\n",
       "      <td>0.993108</td>\n",
       "    </tr>\n",
       "    <tr>\n",
       "      <th>5570d4c2-ecc4-11ea-9eac-2000110dfec0</th>\n",
       "      <td>0.993016</td>\n",
       "    </tr>\n",
       "    <tr>\n",
       "      <th>5564eedc-ecc4-11ea-9eac-2000110dfec0</th>\n",
       "      <td>0.992657</td>\n",
       "    </tr>\n",
       "    <tr>\n",
       "      <th>5573c696-ecc4-11ea-9eac-2000110dfec0</th>\n",
       "      <td>0.991293</td>\n",
       "    </tr>\n",
       "  </tbody>\n",
       "</table>\n",
       "</div>"
      ],
      "text/plain": [
       "                                         value\n",
       "556fddc4-ecc4-11ea-9eac-2000110dfec0  0.997808\n",
       "557983c4-ecc4-11ea-9eac-2000110dfec0  0.997604\n",
       "5571533e-ecc4-11ea-9eac-2000110dfec0  0.997491\n",
       "556dad1a-ecc4-11ea-9eac-2000110dfec0  0.995721\n",
       "55700baa-ecc4-11ea-9eac-2000110dfec0  0.994555\n",
       "5578a152-ecc4-11ea-9eac-2000110dfec0  0.994448\n",
       "55798e00-ecc4-11ea-9eac-2000110dfec0  0.993108\n",
       "5570d4c2-ecc4-11ea-9eac-2000110dfec0  0.993016\n",
       "5564eedc-ecc4-11ea-9eac-2000110dfec0  0.992657\n",
       "5573c696-ecc4-11ea-9eac-2000110dfec0  0.991293"
      ]
     },
     "metadata": {},
     "output_type": "display_data"
    }
   ],
   "source": [
    "# As an example of simple analysis, pull out all keys with numerical values, sort them, and output top 10\n",
    "\n",
    "numerical_keys = {}\n",
    "for key in rconn.keys(\"%s:*\" % config[\"namespace\"]):\n",
    "    try:\n",
    "        value = float(rconn.get(key))\n",
    "    except:\n",
    "        continue\n",
    "    \n",
    "    # Convert byte string to regular string & remove namespace to keep the output concise\n",
    "    key_clean = re.sub(\"%s:\" % config[\"namespace\"], \"\", key.decode('utf-8'))\n",
    "    numerical_keys[key_clean] = value\n",
    "    \n",
    "all_values = pd.DataFrame({\"value\": list(numerical_keys.values())}, index=numerical_keys.keys())\n",
    "display(all_values.sort_values(\"value\", ascending=False)[:10])"
   ]
  },
  {
   "cell_type": "code",
   "execution_count": 6,
   "metadata": {},
   "outputs": [
    {
     "name": "stdout",
     "output_type": "stream",
     "text": [
      "[]\n"
     ]
    }
   ],
   "source": [
    "# Clean up -- drop all keys in the namespace\n",
    "for key in rconn.keys(\"%s:*\" % config[\"namespace\"]):\n",
    "    rconn.delete(key)\n",
    "    \n",
    "print(rconn.keys(\"%s:*\" % config[\"namespace\"]))"
   ]
  },
  {
   "cell_type": "code",
   "execution_count": null,
   "metadata": {},
   "outputs": [],
   "source": []
  }
 ],
 "metadata": {
  "kernelspec": {
   "display_name": "Python 3",
   "language": "python",
   "name": "python3"
  },
  "language_info": {
   "codemirror_mode": {
    "name": "ipython",
    "version": 3
   },
   "file_extension": ".py",
   "mimetype": "text/x-python",
   "name": "python",
   "nbconvert_exporter": "python",
   "pygments_lexer": "ipython3",
   "version": "3.8.5"
  }
 },
 "nbformat": 4,
 "nbformat_minor": 4
}
