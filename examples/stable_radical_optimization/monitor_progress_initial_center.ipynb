{
 "cells": [
  {
   "cell_type": "code",
   "execution_count": 19,
   "metadata": {},
   "outputs": [],
   "source": [
    "import os\n",
    "import sys\n",
    "import numpy as np\n",
    "# import psycopg2\n",
    "import sqlalchemy\n",
    "import pandas as pd\n",
    "\n",
    "import matplotlib.pyplot as plt\n",
    "import seaborn as sns\n",
    "sns.set(\n",
    "#     context='paper',\n",
    "#     font_scale=8/8.8,\n",
    "    context=\"talk\",\n",
    "    style='ticks',\n",
    "    color_codes=True,\n",
    "    rc={'legend.frameon': False})\n",
    "\n",
    "plt.rcParams['svg.fonttype'] = 'none'\n",
    "\n",
    "%matplotlib inline"
   ]
  },
  {
   "cell_type": "code",
   "execution_count": 20,
   "metadata": {},
   "outputs": [
    {
     "name": "stdout",
     "output_type": "stream",
     "text": [
      "/home/pstjohn/Research/rlmolecule/examples/stable_radical_optimization\n"
     ]
    }
   ],
   "source": [
    "print(os.getcwd())\n",
    "sys.path.append('../../')\n",
    "import rlmolecule"
   ]
  },
  {
   "cell_type": "code",
   "execution_count": 21,
   "metadata": {},
   "outputs": [],
   "source": [
    "# connect to the db\n",
    "dbname = \"bde\"\n",
    "port = \"5432\"\n",
    "host = \"yuma.hpc.nrel.gov\"\n",
    "user = \"rlops\"\n",
    "# read the password from a file\n",
    "passwd_file = '/projects/rlmolecule/rlops_pass'\n",
    "with open(passwd_file, 'r') as f:\n",
    "    passwd = f.read().strip()\n",
    "\n",
    "drivername = \"postgresql+psycopg2\"\n",
    "engine_str = f'{drivername}://{user}:{passwd}@{host}:{port}/{dbname}'\n",
    "engine = sqlalchemy.create_engine(engine_str, execution_options={\"isolation_level\": \"AUTOCOMMIT\"})"
   ]
  },
  {
   "cell_type": "markdown",
   "metadata": {},
   "source": [
    "# Initial Results\n",
    "Eagle is really backed up, so these results are from multiple runs on the debug queue (which has a 1 hr time limit)"
   ]
  },
  {
   "cell_type": "code",
   "execution_count": 22,
   "metadata": {},
   "outputs": [],
   "source": [
    "# run_id = 'stable_radical_optimization'\n",
    "run_id = 'stable_radical_optimization_psj_NO_l'"
   ]
  },
  {
   "cell_type": "code",
   "execution_count": 23,
   "metadata": {},
   "outputs": [
    {
     "data": {
      "text/html": [
       "<div>\n",
       "<style scoped>\n",
       "    .dataframe tbody tr th:only-of-type {\n",
       "        vertical-align: middle;\n",
       "    }\n",
       "\n",
       "    .dataframe tbody tr th {\n",
       "        vertical-align: top;\n",
       "    }\n",
       "\n",
       "    .dataframe thead th {\n",
       "        text-align: right;\n",
       "    }\n",
       "</style>\n",
       "<table border=\"1\" class=\"dataframe\">\n",
       "  <thead>\n",
       "    <tr style=\"text-align: right;\">\n",
       "      <th></th>\n",
       "      <th>id</th>\n",
       "      <th>run_id</th>\n",
       "      <th>time</th>\n",
       "      <th>raw_reward</th>\n",
       "      <th>scaled_reward</th>\n",
       "      <th>search_statistics</th>\n",
       "      <th>execution_statistics</th>\n",
       "      <th>time_hours</th>\n",
       "    </tr>\n",
       "  </thead>\n",
       "  <tbody>\n",
       "    <tr>\n",
       "      <th>0</th>\n",
       "      <td>51b65d31-b7ad-4d02-8594-6d76e43647a9</td>\n",
       "      <td>stable_radical_optimization_psj_NO_l</td>\n",
       "      <td>2021-05-19 18:13:20.519138</td>\n",
       "      <td>0.0</td>\n",
       "      <td>1.0</td>\n",
       "      <td>[[e805dccd5d534ff72f16593078454cb91f6f4d11845b...</td>\n",
       "      <td>{'execution_time': {'get_next_actions': 1.6374...</td>\n",
       "      <td>0.000000</td>\n",
       "    </tr>\n",
       "    <tr>\n",
       "      <th>1</th>\n",
       "      <td>00d0c971-f4f9-4923-afac-0020b29edf6d</td>\n",
       "      <td>stable_radical_optimization_psj_NO_l</td>\n",
       "      <td>2021-05-19 18:13:21.429483</td>\n",
       "      <td>0.0</td>\n",
       "      <td>0.0</td>\n",
       "      <td>[[e805dccd5d534ff72f16593078454cb91f6f4d11845b...</td>\n",
       "      <td>{'execution_time': {'get_next_actions': 1.7221...</td>\n",
       "      <td>0.000253</td>\n",
       "    </tr>\n",
       "    <tr>\n",
       "      <th>2</th>\n",
       "      <td>fc14c932-1dce-43dd-889d-c77365cddfa2</td>\n",
       "      <td>stable_radical_optimization_psj_NO_l</td>\n",
       "      <td>2021-05-19 18:13:21.541676</td>\n",
       "      <td>0.0</td>\n",
       "      <td>0.0</td>\n",
       "      <td>[[e805dccd5d534ff72f16593078454cb91f6f4d11845b...</td>\n",
       "      <td>{'execution_time': {'get_next_actions': 1.7824...</td>\n",
       "      <td>0.000284</td>\n",
       "    </tr>\n",
       "    <tr>\n",
       "      <th>3</th>\n",
       "      <td>730e0395-9fea-4446-8ed9-9c8125f654d5</td>\n",
       "      <td>stable_radical_optimization_psj_NO_l</td>\n",
       "      <td>2021-05-19 18:13:21.652818</td>\n",
       "      <td>0.0</td>\n",
       "      <td>1.0</td>\n",
       "      <td>[[e805dccd5d534ff72f16593078454cb91f6f4d11845b...</td>\n",
       "      <td>{'execution_time': {'get_next_actions': 1.3054...</td>\n",
       "      <td>0.000315</td>\n",
       "    </tr>\n",
       "    <tr>\n",
       "      <th>4</th>\n",
       "      <td>124d1ae4-9bee-476c-9449-af781dfc96c8</td>\n",
       "      <td>stable_radical_optimization_psj_NO_l</td>\n",
       "      <td>2021-05-19 18:13:21.869984</td>\n",
       "      <td>0.0</td>\n",
       "      <td>1.0</td>\n",
       "      <td>[[e805dccd5d534ff72f16593078454cb91f6f4d11845b...</td>\n",
       "      <td>{'execution_time': {'get_next_actions': 2.0843...</td>\n",
       "      <td>0.000375</td>\n",
       "    </tr>\n",
       "  </tbody>\n",
       "</table>\n",
       "</div>"
      ],
      "text/plain": [
       "                                     id                                run_id  \\\n",
       "0  51b65d31-b7ad-4d02-8594-6d76e43647a9  stable_radical_optimization_psj_NO_l   \n",
       "1  00d0c971-f4f9-4923-afac-0020b29edf6d  stable_radical_optimization_psj_NO_l   \n",
       "2  fc14c932-1dce-43dd-889d-c77365cddfa2  stable_radical_optimization_psj_NO_l   \n",
       "3  730e0395-9fea-4446-8ed9-9c8125f654d5  stable_radical_optimization_psj_NO_l   \n",
       "4  124d1ae4-9bee-476c-9449-af781dfc96c8  stable_radical_optimization_psj_NO_l   \n",
       "\n",
       "                        time  raw_reward  scaled_reward  \\\n",
       "0 2021-05-19 18:13:20.519138         0.0            1.0   \n",
       "1 2021-05-19 18:13:21.429483         0.0            0.0   \n",
       "2 2021-05-19 18:13:21.541676         0.0            0.0   \n",
       "3 2021-05-19 18:13:21.652818         0.0            1.0   \n",
       "4 2021-05-19 18:13:21.869984         0.0            1.0   \n",
       "\n",
       "                                   search_statistics  \\\n",
       "0  [[e805dccd5d534ff72f16593078454cb91f6f4d11845b...   \n",
       "1  [[e805dccd5d534ff72f16593078454cb91f6f4d11845b...   \n",
       "2  [[e805dccd5d534ff72f16593078454cb91f6f4d11845b...   \n",
       "3  [[e805dccd5d534ff72f16593078454cb91f6f4d11845b...   \n",
       "4  [[e805dccd5d534ff72f16593078454cb91f6f4d11845b...   \n",
       "\n",
       "                                execution_statistics  time_hours  \n",
       "0  {'execution_time': {'get_next_actions': 1.6374...    0.000000  \n",
       "1  {'execution_time': {'get_next_actions': 1.7221...    0.000253  \n",
       "2  {'execution_time': {'get_next_actions': 1.7824...    0.000284  \n",
       "3  {'execution_time': {'get_next_actions': 1.3054...    0.000315  \n",
       "4  {'execution_time': {'get_next_actions': 2.0843...    0.000375  "
      ]
     },
     "execution_count": 23,
     "metadata": {},
     "output_type": "execute_result"
    }
   ],
   "source": [
    "# load the games played\n",
    "from rlmolecule.sql import Base, Session\n",
    "from rlmolecule.sql.tables import GameStore, RewardStore, StateStore\n",
    "Session.configure(bind=engine)\n",
    "session = Session()\n",
    "df = pd.read_sql(session.query(GameStore).filter_by(run_id=run_id).statement, session.bind)\n",
    "\n",
    "df['time_hours'] = (df.time - df.time.min()).apply(lambda x: x.total_seconds() / 3600)\n",
    "df = df.sort_values('time_hours')\n",
    "df_games = df\n",
    "df_games.reset_index(drop=True, inplace=True)\n",
    "df_games.head()"
   ]
  },
  {
   "cell_type": "code",
   "execution_count": 55,
   "metadata": {},
   "outputs": [
    {
     "data": {
      "text/plain": [
       "<matplotlib.legend.Legend at 0x7fd2ba8845b0>"
      ]
     },
     "execution_count": 55,
     "metadata": {},
     "output_type": "execute_result"
    },
    {
     "data": {
      "image/png": "[encoded data removed]",
      "text/plain": [
       "<Figure size 360x432 with 2 Axes>"
      ]
     },
     "metadata": {
      "needs_background": "light"
     },
     "output_type": "display_data"
    }
   ],
   "source": [
    "df = pd.read_sql(session.query(GameStore).filter_by(run_id=run_id).statement, session.bind)\n",
    "df['time_hours'] = (df.time - df.time.min()).apply(lambda x: x.total_seconds() / 3600)\n",
    "df = df.sort_values('time_hours')\n",
    "\n",
    "log = pd.read_csv(f\"policy_checkpoints/{run_id}/log.csv\")\n",
    "log['time'] = pd.to_datetime(log.time) - df.time.min()\n",
    "log['time_hours'] = (log.time).apply(lambda x: x.total_seconds() / 3600)\n",
    "\n",
    "f, ax = plt.subplots(nrows=2, sharex=True, figsize=(5,6))\n",
    "\n",
    "ax[0].plot(df.time_hours, df.raw_reward, '.', ms=.75, label='games')\n",
    "ax[0].set_ylabel(\"raw_reward\")\n",
    "\n",
    "ax[1].plot(log.time_hours, log.policy_wrapper_loss, label='value loss')\n",
    "ax[1].plot(log.time_hours, log.policy_wrapper_1_loss, label='prior loss')\n",
    "# ax.set_xlabel(\"Epoch\")\n",
    "plt.legend()"
   ]
  },
  {
   "cell_type": "code",
   "execution_count": 56,
   "metadata": {},
   "outputs": [
    {
     "data": {
      "text/html": [
       "<div>\n",
       "<style scoped>\n",
       "    .dataframe tbody tr th:only-of-type {\n",
       "        vertical-align: middle;\n",
       "    }\n",
       "\n",
       "    .dataframe tbody tr th {\n",
       "        vertical-align: top;\n",
       "    }\n",
       "\n",
       "    .dataframe thead th {\n",
       "        text-align: right;\n",
       "    }\n",
       "</style>\n",
       "<table border=\"1\" class=\"dataframe\">\n",
       "  <thead>\n",
       "    <tr style=\"text-align: right;\">\n",
       "      <th></th>\n",
       "      <th>execution_time</th>\n",
       "      <th>execution_count</th>\n",
       "    </tr>\n",
       "    <tr>\n",
       "      <th>index</th>\n",
       "      <th></th>\n",
       "      <th></th>\n",
       "    </tr>\n",
       "  </thead>\n",
       "  <tbody>\n",
       "    <tr>\n",
       "      <th>calc_reward</th>\n",
       "      <td>2.084193e+04</td>\n",
       "      <td>1320766</td>\n",
       "    </tr>\n",
       "    <tr>\n",
       "      <th>get_next_actions</th>\n",
       "      <td>2.190212e+06</td>\n",
       "      <td>29763370</td>\n",
       "    </tr>\n",
       "  </tbody>\n",
       "</table>\n",
       "</div>"
      ],
      "text/plain": [
       "                  execution_time  execution_count\n",
       "index                                            \n",
       "calc_reward         2.084193e+04          1320766\n",
       "get_next_actions    2.190212e+06         29763370"
      ]
     },
     "execution_count": 56,
     "metadata": {},
     "output_type": "execute_result"
    }
   ],
   "source": [
    "calc_times = pd.concat(df.execution_statistics.apply(pd.DataFrame.from_dict).tolist()).reset_index().groupby('index').sum()\n",
    "calc_times"
   ]
  },
  {
   "cell_type": "code",
   "execution_count": 57,
   "metadata": {},
   "outputs": [
    {
     "data": {
      "text/plain": [
       "execution_time     105.086785\n",
       "execution_count     22.534930\n",
       "dtype: float64"
      ]
     },
     "execution_count": 57,
     "metadata": {},
     "output_type": "execute_result"
    }
   ],
   "source": [
    "calc_times.iloc[1] / calc_times.iloc[0]"
   ]
  },
  {
   "cell_type": "code",
   "execution_count": 58,
   "metadata": {},
   "outputs": [
    {
     "data": {
      "text/plain": [
       "index\n",
       "calc_reward           5.789426\n",
       "get_next_actions    608.392124\n",
       "Name: execution_time, dtype: float64"
      ]
     },
     "execution_count": 58,
     "metadata": {},
     "output_type": "execute_result"
    }
   ],
   "source": [
    "calc_times['execution_time'] / 3600"
   ]
  },
  {
   "cell_type": "code",
   "execution_count": 59,
   "metadata": {},
   "outputs": [
    {
     "data": {
      "text/plain": [
       "index\n",
       "calc_reward         0.015780\n",
       "get_next_actions    0.073587\n",
       "dtype: float64"
      ]
     },
     "execution_count": 59,
     "metadata": {},
     "output_type": "execute_result"
    }
   ],
   "source": [
    "calc_times['execution_time'] / calc_times['execution_count']"
   ]
  },
  {
   "cell_type": "markdown",
   "metadata": {},
   "source": [
    "# Measure the spin, buried volume, and draw the molecule\n",
    "\n",
    "TODO: Need to join the tables, and unpickle the state to get the smile strings from the state"
   ]
  },
  {
   "cell_type": "code",
   "execution_count": 60,
   "metadata": {},
   "outputs": [
    {
     "data": {
      "text/plain": [
       "'stable_radical_optimization_psj_NO_l'"
      ]
     },
     "execution_count": 60,
     "metadata": {},
     "output_type": "execute_result"
    }
   ],
   "source": [
    "run_id"
   ]
  },
  {
   "cell_type": "code",
   "execution_count": 61,
   "metadata": {},
   "outputs": [],
   "source": [
    "# look at some of the top rewards\n",
    "df_rewards = pd.read_sql(session.query(RewardStore).filter_by(run_id=run_id).order_by(RewardStore.reward.desc()).limit(1000).statement,\n",
    "                 session.bind)\n",
    "\n",
    "# df_states = pd.read_sql(session.query(StateStore).filter(StateStore.hash.in_(df_rewards.hash)).statement, session.bind)"
   ]
  },
  {
   "cell_type": "code",
   "execution_count": 62,
   "metadata": {},
   "outputs": [
    {
     "data": {
      "text/html": [
       "<div>\n",
       "<style scoped>\n",
       "    .dataframe tbody tr th:only-of-type {\n",
       "        vertical-align: middle;\n",
       "    }\n",
       "\n",
       "    .dataframe tbody tr th {\n",
       "        vertical-align: top;\n",
       "    }\n",
       "\n",
       "    .dataframe thead th {\n",
       "        text-align: right;\n",
       "    }\n",
       "</style>\n",
       "<table border=\"1\" class=\"dataframe\">\n",
       "  <thead>\n",
       "    <tr style=\"text-align: right;\">\n",
       "      <th></th>\n",
       "      <th>digest</th>\n",
       "      <th>hash</th>\n",
       "      <th>run_id</th>\n",
       "      <th>time</th>\n",
       "      <th>reward</th>\n",
       "      <th>data</th>\n",
       "      <th>smiles</th>\n",
       "    </tr>\n",
       "  </thead>\n",
       "  <tbody>\n",
       "    <tr>\n",
       "      <th>0</th>\n",
       "      <td>60f58846cfbd32d573f0838b92f35dabbde3a6885ee060...</td>\n",
       "      <td>6424014419325574291</td>\n",
       "      <td>stable_radical_optimization_psj_NO_l</td>\n",
       "      <td>2021-05-19 18:53:02.641642</td>\n",
       "      <td>210.531085</td>\n",
       "      <td>{'max_spin': '0.29404962', 'spin_buried_vol': ...</td>\n",
       "      <td>CCN(C(=S)C=O)N([O])C(C)(CC)CC</td>\n",
       "    </tr>\n",
       "    <tr>\n",
       "      <th>1</th>\n",
       "      <td>dbf7a371f2a382de6e8256ff9d750983fe7698f5ff0f40...</td>\n",
       "      <td>7127729622647439707</td>\n",
       "      <td>stable_radical_optimization_psj_NO_l</td>\n",
       "      <td>2021-05-19 19:09:03.205221</td>\n",
       "      <td>207.691283</td>\n",
       "      <td>{'max_spin': '0.3083704', 'spin_buried_vol': '...</td>\n",
       "      <td>CCC(C)(C)N([O])N(C(=S)C=O)C(C)C</td>\n",
       "    </tr>\n",
       "    <tr>\n",
       "      <th>2</th>\n",
       "      <td>397699182f46ac60163489ace621058e11f03177683c30...</td>\n",
       "      <td>6216493483947925451</td>\n",
       "      <td>stable_radical_optimization_psj_NO_l</td>\n",
       "      <td>2021-05-19 18:25:00.438326</td>\n",
       "      <td>207.660778</td>\n",
       "      <td>{'max_spin': '0.31217217', 'spin_buried_vol': ...</td>\n",
       "      <td>C/C(N)=C(\\CCO)C(C)(C)C(=S)N(C)[O]</td>\n",
       "    </tr>\n",
       "    <tr>\n",
       "      <th>3</th>\n",
       "      <td>5a33af773f13d067585fa9d2dd71f04b6d3563763adb5d...</td>\n",
       "      <td>6507984297694852467</td>\n",
       "      <td>stable_radical_optimization_psj_NO_l</td>\n",
       "      <td>2021-05-19 19:10:31.369179</td>\n",
       "      <td>206.853209</td>\n",
       "      <td>{'max_spin': '0.31898624', 'spin_buried_vol': ...</td>\n",
       "      <td>CCN(C(=S)C=O)N([O])C(C)(C)C(C)C</td>\n",
       "    </tr>\n",
       "    <tr>\n",
       "      <th>4</th>\n",
       "      <td>0b066b250d9df18a14628a49a96cdb64bf19f51e74664c...</td>\n",
       "      <td>364189375220351321</td>\n",
       "      <td>stable_radical_optimization_psj_NO_l</td>\n",
       "      <td>2021-05-19 19:04:55.014969</td>\n",
       "      <td>206.794387</td>\n",
       "      <td>{'max_spin': '0.29598895', 'spin_buried_vol': ...</td>\n",
       "      <td>CCCC(C)(C)N([O])N(CC)C(=S)C=O</td>\n",
       "    </tr>\n",
       "  </tbody>\n",
       "</table>\n",
       "</div>"
      ],
      "text/plain": [
       "                                              digest                 hash  \\\n",
       "0  60f58846cfbd32d573f0838b92f35dabbde3a6885ee060...  6424014419325574291   \n",
       "1  dbf7a371f2a382de6e8256ff9d750983fe7698f5ff0f40...  7127729622647439707   \n",
       "2  397699182f46ac60163489ace621058e11f03177683c30...  6216493483947925451   \n",
       "3  5a33af773f13d067585fa9d2dd71f04b6d3563763adb5d...  6507984297694852467   \n",
       "4  0b066b250d9df18a14628a49a96cdb64bf19f51e74664c...   364189375220351321   \n",
       "\n",
       "                                 run_id                       time  \\\n",
       "0  stable_radical_optimization_psj_NO_l 2021-05-19 18:53:02.641642   \n",
       "1  stable_radical_optimization_psj_NO_l 2021-05-19 19:09:03.205221   \n",
       "2  stable_radical_optimization_psj_NO_l 2021-05-19 18:25:00.438326   \n",
       "3  stable_radical_optimization_psj_NO_l 2021-05-19 19:10:31.369179   \n",
       "4  stable_radical_optimization_psj_NO_l 2021-05-19 19:04:55.014969   \n",
       "\n",
       "       reward                                               data  \\\n",
       "0  210.531085  {'max_spin': '0.29404962', 'spin_buried_vol': ...   \n",
       "1  207.691283  {'max_spin': '0.3083704', 'spin_buried_vol': '...   \n",
       "2  207.660778  {'max_spin': '0.31217217', 'spin_buried_vol': ...   \n",
       "3  206.853209  {'max_spin': '0.31898624', 'spin_buried_vol': ...   \n",
       "4  206.794387  {'max_spin': '0.29598895', 'spin_buried_vol': ...   \n",
       "\n",
       "                              smiles  \n",
       "0      CCN(C(=S)C=O)N([O])C(C)(CC)CC  \n",
       "1    CCC(C)(C)N([O])N(C(=S)C=O)C(C)C  \n",
       "2  C/C(N)=C(\\CCO)C(C)(C)C(=S)N(C)[O]  \n",
       "3    CCN(C(=S)C=O)N([O])C(C)(C)C(C)C  \n",
       "4      CCCC(C)(C)N([O])N(CC)C(=S)C=O  "
      ]
     },
     "execution_count": 62,
     "metadata": {},
     "output_type": "execute_result"
    }
   ],
   "source": [
    "df_rewards['smiles'] = df_rewards.data.apply(lambda x: x['smiles'])\n",
    "df_rewards.head()"
   ]
  },
  {
   "cell_type": "code",
   "execution_count": 63,
   "metadata": {},
   "outputs": [
    {
     "data": {
      "text/plain": [
       "(1000, 7)"
      ]
     },
     "execution_count": 63,
     "metadata": {},
     "output_type": "execute_result"
    }
   ],
   "source": [
    "df_rewards.shape"
   ]
  },
  {
   "cell_type": "code",
   "execution_count": 64,
   "metadata": {},
   "outputs": [
    {
     "data": {
      "image/png": "[encoded data removed]",
      "text/plain": [
       "<IPython.core.display.Image object>"
      ]
     },
     "execution_count": 64,
     "metadata": {},
     "output_type": "execute_result"
    }
   ],
   "source": [
    "import rdkit\n",
    "from rdkit.Chem.Draw import MolsToGridImage\n",
    "\n",
    "mols = df_rewards[df_rewards.reward > 200].smiles.apply(rdkit.Chem.MolFromSmiles)\n",
    "MolsToGridImage(mols[:9], subImgSize=(250,250))"
   ]
  },
  {
   "cell_type": "code",
   "execution_count": 46,
   "metadata": {},
   "outputs": [
    {
     "data": {
      "image/png": "[encoded data removed]",
      "text/plain": [
       "<rdkit.Chem.rdchem.Mol at 0x7fd2a4c3b820>"
      ]
     },
     "execution_count": 46,
     "metadata": {},
     "output_type": "execute_result"
    }
   ],
   "source": [
    "mols[8]"
   ]
  },
  {
   "cell_type": "code",
   "execution_count": 49,
   "metadata": {},
   "outputs": [
    {
     "data": {
      "text/plain": [
       "digest    5b30333c54455874c63afd1d3e9ad4c102a8fc3097b0ec...\n",
       "hash                                    6085149740507800563\n",
       "run_id                 stable_radical_optimization_psj_NO_l\n",
       "time                             2021-05-19 18:27:47.224522\n",
       "reward                                           203.860452\n",
       "data      {'max_spin': '0.22799496', 'spin_buried_vol': ...\n",
       "smiles                     CC1(C)C=CC(O)=C(N=O)C(C)(C)N1[O]\n",
       "Name: 8, dtype: object"
      ]
     },
     "execution_count": 49,
     "metadata": {},
     "output_type": "execute_result"
    }
   ],
   "source": [
    "df_rewards.iloc[8]"
   ]
  },
  {
   "cell_type": "code",
   "execution_count": null,
   "metadata": {},
   "outputs": [],
   "source": [
    "# Code for raster image drawing\n",
    "import rdkit\n",
    "\n",
    "from rdkit import Chem\n",
    "from rdkit.Chem import Draw\n",
    "from rdkit.Chem.Draw import rdMolDraw2D\n",
    "from rdkit.Chem.Draw import SimilarityMaps\n",
    "from rdkit.Chem import rdDepictor\n",
    "from IPython.display import SVG"
   ]
  },
  {
   "cell_type": "code",
   "execution_count": null,
   "metadata": {},
   "outputs": [],
   "source": [
    "# row = pass_gng.sample(1, random_state=5).iloc[0]\n",
    "# mol = Chem.MolFromSmiles(row.smiles)\n",
    "\n",
    "d = rdMolDraw2D.MolDraw2DSVG(400, 400)\n",
    "SimilarityMaps.GetSimilarityMapFromWeights(mol, [float(i) for i in pred_spins(mol)], draw2d=d)\n",
    "d.FinishDrawing()\n",
    "SVG(d.GetDrawingText())"
   ]
  },
  {
   "cell_type": "markdown",
   "metadata": {},
   "source": [
    "# Leftover code from augmenting_reward branch:"
   ]
  },
  {
   "cell_type": "code",
   "execution_count": null,
   "metadata": {},
   "outputs": [],
   "source": [
    "with psycopg2.connect(**config.dbparams) as conn:\n",
    "    experiment_ids = pd.read_sql_query(\"select distinct experiment_id from {}_game\".format(config.sql_basename), conn)\n",
    "    \n",
    "experiment_ids"
   ]
  },
  {
   "cell_type": "code",
   "execution_count": null,
   "metadata": {},
   "outputs": [],
   "source": [
    "fig, axs = plt.subplots(nrows=1, ncols=4, figsize=(13, 3), sharex=True, sharey=True)\n",
    "\n",
    "optimal = []\n",
    "for ax, atom in zip(axs, ['C', 'N', 'O', 'S']):\n",
    "    \n",
    "    ax.plot(rew_df[rew_df.atom_type == atom]['max_spin'],\n",
    "            rew_df[rew_df.atom_type == atom]['buried_vol'], '.', ms=1, alpha=.1, label='All radicals')\n",
    "    \n",
    "    ax.plot(stable_max_spin[stable_max_spin['atom-sym'] == atom]['fractional_spin'],\n",
    "            stable_max_spin[stable_max_spin['atom-sym'] == atom]['bur-vol'],\n",
    "            '.', label='Experimentally stable')\n",
    "    \n",
    "    ax.plot(pass_gng[pass_gng.atom_type == atom]['max_spin'],\n",
    "            pass_gng[pass_gng.atom_type == atom]['buried_vol'], '.', ms=1, label='Pass GNG')\n",
    "    \n",
    "    ax.set_title(atom)\n",
    "    \n",
    "axs[1].set_xlabel('Max Fractional Spin')\n",
    "axs[0].set_ylabel('Buried volume\\nat max spin')\n",
    "\n",
    "axs[-1].legend(loc='upper left', fontsize=12, markerscale=2)\n",
    "sns.despine()    "
   ]
  },
  {
   "cell_type": "code",
   "execution_count": null,
   "metadata": {},
   "outputs": [],
   "source": [
    "from matplotlib.patches import Polygon\n",
    "\n",
    "fig = plt.figure(figsize=(4,4))\n",
    "ax = fig.add_subplot(111, aspect='equal')\n",
    "\n",
    "ax.plot(rew_df['ea'], rew_df['ie'], '.', ms=1, alpha=.1)\n",
    "ax.plot(pass_gng['ea'], pass_gng['ie'], '.', ms=1, color='g')\n",
    "\n",
    "ax.add_patch(Polygon(np.array([(-.5, 1.2), (-.5, 0.5), (.2, 1.2)]), facecolor='none', zorder=5, edgecolor='r', lw=3, ls='--'))\n",
    "ax.set_xlim([-1.5, 1.5])\n",
    "ax.set_ylim([-1, 2])\n",
    "\n",
    "ax.axvspan(-.5, .2, facecolor='.8', edgecolor='none')\n",
    "ax.axhspan(.5, 1.2, facecolor='.8', edgecolor='none')\n",
    "\n",
    "ax.set_xlabel(r'$E_{1/2}^o$, EA (V)')\n",
    "ax.set_ylabel(r'$E_{1/2}^o$, IE (V)')"
   ]
  },
  {
   "cell_type": "code",
   "execution_count": null,
   "metadata": {},
   "outputs": [],
   "source": [
    "fig = plt.figure(figsize=(4,4))\n",
    "ax = fig.add_subplot(111)\n",
    "\n",
    "sns.kdeplot(rew_df.bde, label='All radicals')\n",
    "sns.kdeplot(pass_gng.bde, label='Pass GNG', color='g')\n",
    "plt.xlabel('BDE')\n",
    "plt.ylabel('Frequency')"
   ]
  },
  {
   "cell_type": "code",
   "execution_count": null,
   "metadata": {},
   "outputs": [],
   "source": [
    "df = rew_df[~rew_df.index.isin(pass_gng.index)].sort_values('real_reward', ascending=False)"
   ]
  },
  {
   "cell_type": "code",
   "execution_count": null,
   "metadata": {},
   "outputs": [],
   "source": [
    "pass_gng.sample(10)"
   ]
  },
  {
   "cell_type": "code",
   "execution_count": null,
   "metadata": {},
   "outputs": [],
   "source": [
    "rew_df[rew_df.real_reward > 200]"
   ]
  },
  {
   "cell_type": "code",
   "execution_count": null,
   "metadata": {},
   "outputs": [],
   "source": [
    "rew_df.real_reward.max()"
   ]
  },
  {
   "cell_type": "code",
   "execution_count": null,
   "metadata": {},
   "outputs": [],
   "source": [
    "plt.hist(rew_df.ie - rew_df.ea, bins=20)"
   ]
  },
  {
   "cell_type": "code",
   "execution_count": null,
   "metadata": {},
   "outputs": [],
   "source": [
    "fig = plt.figure(figsize=(4,4))\n",
    "ax = fig.add_subplot(111)\n",
    "\n",
    "plt.hist(rew_df.real_reward, label='All radicals', range=(0, 225))\n",
    "plt.hist(pass_gng.real_reward, label='Pass GNG', color='g', range=(0, 225))\n",
    "plt.xlabel('Reward')\n",
    "plt.ylabel('Frequency')"
   ]
  },
  {
   "cell_type": "code",
   "execution_count": null,
   "metadata": {},
   "outputs": [],
   "source": [
    "import tensorflow as tf\n",
    "gpus = tf.config.experimental.list_physical_devices('GPU')\n",
    "if gpus:\n",
    "    # Currently, memory growth needs to be the same across GPUs\n",
    "    for gpu in gpus:\n",
    "        tf.config.experimental.set_memory_growth(gpu, True)\n",
    "import nfp"
   ]
  },
  {
   "cell_type": "code",
   "execution_count": null,
   "metadata": {},
   "outputs": [],
   "source": [
    "from reward import predict, stability_model\n",
    "from alphazero.node import Node\n",
    "\n",
    "def pred_spins(mol):\n",
    "    spins, _ = predict(stability_model, \n",
    "        {key: tf.constant(np.expand_dims(val, 0))\n",
    "         for key, val in Node(mol).policy_inputs.items()})\n",
    "    \n",
    "    return spins.numpy().flatten()"
   ]
  },
  {
   "cell_type": "code",
   "execution_count": null,
   "metadata": {},
   "outputs": [],
   "source": [
    "# Load the game buffer\n",
    "with psycopg2.connect(**config.dbparams) as conn:\n",
    "    df = pd.read_sql_query(\"select * from {}_game where experiment_id = %s\".format(\n",
    "        config.sql_basename), conn, params=(config.experiment_id,))\n",
    "    \n",
    "# Load the policy training history\n",
    "try:\n",
    "    log = pd.read_csv(os.path.join(config.checkpoint_filepath, 'log.csv'))\n",
    "    log['time'] = pd.to_datetime(log.time)\n",
    "except Exception:\n",
    "    log = None\n",
    "\n",
    "df['time_hours'] = (df.time - df.time.min()).apply(lambda x: x.total_seconds() / 3600)\n",
    "\n",
    "if log is not None:\n",
    "    log['time_hours'] = (log.time - df.time.min()).apply(lambda x: x.total_seconds() / 3600)\n",
    "\n",
    "df = df.sort_values('time_hours')\n",
    "\n",
    "fig, axs = plt.subplots(sharex=True, nrows=2, figsize=(2.75, 2.5), dpi=150)\n",
    "\n",
    "axs[0].plot(df.time_hours, df.real_reward, '.', ms=.75, label='games')\n",
    "axs[0].plot(df.time_hours, df.real_reward.rolling(250, min_periods=50).quantile(.75), label='$r_{75}$')\n",
    "\n",
    "if log is not None:\n",
    "    axs[1].plot(log.time_hours, log.policy_wrapper_loss, label='value loss')\n",
    "    axs[1].plot(log.time_hours, log.policy_wrapper_1_loss, label='prior loss')\n",
    "\n",
    "axs[0].legend(loc='upper right', ncol=2, borderpad=0, borderaxespad=0.3, bbox_to_anchor=(1., 1.1), markerscale=10)\n",
    "axs[1].legend(ncol=2, borderpad=0, borderaxespad=0.3)\n",
    "\n",
    "axs[0].set_ylim([0, 250])\n",
    "\n",
    "axs[0].set_ylabel('Reward')\n",
    "axs[1].set_ylabel('Policy Training')\n",
    "axs[1].set_xlabel('Time (hours)')\n",
    "\n",
    "axs[1].set_ylim([0, .7])\n",
    "axs[1].set_xlim([-.01, 4])\n",
    "\n",
    "plt.tight_layout()\n",
    "sns.despine(offset=5, trim=True)\n",
    "# plt.savefig('20210204_policy_loss.svg')"
   ]
  },
  {
   "cell_type": "code",
   "execution_count": null,
   "metadata": {},
   "outputs": [],
   "source": [
    "with psycopg2.connect(**config.dbparams) as conn:\n",
    "    experiment_ids = pd.read_sql_query(\"select distinct experiment_id from {}_game\".format(config.sql_basename), conn)\n",
    "    \n",
    "experiment_ids"
   ]
  },
  {
   "cell_type": "code",
   "execution_count": null,
   "metadata": {},
   "outputs": [],
   "source": [
    "# Load the reward buffer to plot the optimal molecules\n",
    "with psycopg2.connect(**config.dbparams) as conn:\n",
    "    rew_df = pd.read_sql_query(\"select * from {}_reward\".format(config.sql_basename), conn)\n",
    "\n",
    "rew_df.shape"
   ]
  },
  {
   "cell_type": "code",
   "execution_count": null,
   "metadata": {},
   "outputs": [],
   "source": [
    "rew_df.sort_values('real_reward', ascending=False).head(20)"
   ]
  },
  {
   "cell_type": "code",
   "execution_count": null,
   "metadata": {},
   "outputs": [],
   "source": [
    "stable_df = pd.read_csv('/home/pstjohn/Research/20200608_redox_calculations/stable_radicals/spin-charges-bur-vol-stable-radicals-all-atoms-with-smi.csv')\n",
    "\n",
    "stable_df_noH = stable_df[~stable_df['atom-sym-idx'].str.startswith('H')]\n",
    "stable_df['fractional_spin'] = stable_df_noH.groupby('File')['spin-density'].transform(lambda x: x.abs() / x.abs().sum())\n",
    "\n",
    "stable_idx_max_spin = stable_df.groupby('File').fractional_spin.idxmax()\n",
    "stable_max_spin = stable_df.loc[stable_idx_max_spin]"
   ]
  },
  {
   "cell_type": "code",
   "execution_count": null,
   "metadata": {},
   "outputs": [],
   "source": [
    "from rdkit import Chem"
   ]
  },
  {
   "cell_type": "code",
   "execution_count": null,
   "metadata": {},
   "outputs": [],
   "source": [
    "stable_df['smiles'] = stable_df.Smiles.apply(lambda x: Chem.MolToSmiles(Chem.MolFromSmiles(x)))"
   ]
  },
  {
   "cell_type": "code",
   "execution_count": null,
   "metadata": {},
   "outputs": [],
   "source": [
    "rew_df[rew_df.smiles.isin(stable_df.smiles)]"
   ]
  },
  {
   "cell_type": "code",
   "execution_count": null,
   "metadata": {},
   "outputs": [],
   "source": [
    "pass_gng = rew_df[(rew_df.bde < 80) & (rew_df.bde > 60) &\n",
    "                  (rew_df.ie < 1.2) & (rew_df.ea > -.5) &\n",
    "                  ((rew_df.ie - rew_df.ea) > 1) &\n",
    "                  ((rew_df.buried_vol + 50 * (1 - rew_df.max_spin)) > 100.)]"
   ]
  },
  {
   "cell_type": "code",
   "execution_count": null,
   "metadata": {},
   "outputs": [],
   "source": [
    "pass_gng.shape"
   ]
  },
  {
   "cell_type": "code",
   "execution_count": null,
   "metadata": {},
   "outputs": [],
   "source": [
    "pass_gng.to_csv('20210109_gng_radicals.csv.gz', compression='gzip')"
   ]
  },
  {
   "cell_type": "code",
   "execution_count": null,
   "metadata": {},
   "outputs": [],
   "source": [
    "from reward import redox_model, predict"
   ]
  },
  {
   "cell_type": "code",
   "execution_count": null,
   "metadata": {},
   "outputs": [],
   "source": [
    "from alphazero.node import Node"
   ]
  },
  {
   "cell_type": "code",
   "execution_count": null,
   "metadata": {},
   "outputs": [],
   "source": [
    "import tensorflow as tf"
   ]
  },
  {
   "cell_type": "code",
   "execution_count": null,
   "metadata": {},
   "outputs": [],
   "source": [
    "def pred_redox(smiles):\n",
    "    return predict(redox_model,\n",
    "        {key: tf.constant(np.expand_dims(val, 0))\n",
    "         for key, val in Node(rdkit.Chem.MolFromSmiles(smiles)).policy_inputs.items()}).numpy().flatten()"
   ]
  },
  {
   "cell_type": "code",
   "execution_count": null,
   "metadata": {},
   "outputs": [],
   "source": [
    "from tqdm import tqdm\n",
    "tqdm.pandas()"
   ]
  },
  {
   "cell_type": "code",
   "execution_count": null,
   "metadata": {},
   "outputs": [],
   "source": [
    "redox = pass_gng.smiles.progress_apply(pred_redox)"
   ]
  },
  {
   "cell_type": "code",
   "execution_count": null,
   "metadata": {},
   "outputs": [],
   "source": [
    "plt.plot(np.vstack(redox.values)[:, 0], pass_gng.ie, '.')"
   ]
  },
  {
   "cell_type": "code",
   "execution_count": null,
   "metadata": {},
   "outputs": [],
   "source": [
    "(pass_gng.ie - np.vstack(redox.values)[:, 0]).abs().mean()"
   ]
  },
  {
   "cell_type": "code",
   "execution_count": null,
   "metadata": {},
   "outputs": [],
   "source": [
    "Node(rdkit.Chem.MolFromSmiles('CC(=S)C1=C(C)[CH]CCC1(C)C')).policy_inputs"
   ]
  },
  {
   "cell_type": "code",
   "execution_count": null,
   "metadata": {},
   "outputs": [],
   "source": []
  },
  {
   "cell_type": "code",
   "execution_count": null,
   "metadata": {},
   "outputs": [],
   "source": [
    "fig, axs = plt.subplots(nrows=1, ncols=4, figsize=(13, 3), sharex=True, sharey=True)\n",
    "\n",
    "optimal = []\n",
    "for ax, atom in zip(axs, ['C', 'N', 'O', 'S']):\n",
    "    \n",
    "    ax.plot(rew_df[rew_df.atom_type == atom]['max_spin'],\n",
    "            rew_df[rew_df.atom_type == atom]['buried_vol'], '.', ms=1, alpha=.1, label='All radicals')\n",
    "    \n",
    "    ax.plot(stable_max_spin[stable_max_spin['atom-sym'] == atom]['fractional_spin'],\n",
    "            stable_max_spin[stable_max_spin['atom-sym'] == atom]['bur-vol'],\n",
    "            '.', label='Experimentally stable')\n",
    "    \n",
    "    ax.plot(pass_gng[pass_gng.atom_type == atom]['max_spin'],\n",
    "            pass_gng[pass_gng.atom_type == atom]['buried_vol'], '.', ms=1, label='Pass GNG')\n",
    "    \n",
    "    ax.set_title(atom)\n",
    "    \n",
    "axs[1].set_xlabel('Max Fractional Spin')\n",
    "axs[0].set_ylabel('Buried volume\\nat max spin')\n",
    "\n",
    "axs[-1].legend(loc='upper left', fontsize=12, markerscale=2)\n",
    "sns.despine()    "
   ]
  },
  {
   "cell_type": "code",
   "execution_count": null,
   "metadata": {},
   "outputs": [],
   "source": [
    "from matplotlib.patches import Polygon\n",
    "\n",
    "fig = plt.figure(figsize=(4,4))\n",
    "ax = fig.add_subplot(111, aspect='equal')\n",
    "\n",
    "ax.plot(rew_df['ea'], rew_df['ie'], '.', ms=1, alpha=.1)\n",
    "ax.plot(pass_gng['ea'], pass_gng['ie'], '.', ms=1, color='g')\n",
    "\n",
    "ax.add_patch(Polygon(np.array([(-.5, 1.2), (-.5, 0.5), (.2, 1.2)]), facecolor='none', zorder=5, edgecolor='r', lw=3, ls='--'))\n",
    "ax.set_xlim([-1.5, 1.5])\n",
    "ax.set_ylim([-1, 2])\n",
    "\n",
    "ax.axvspan(-.5, .2, facecolor='.8', edgecolor='none')\n",
    "ax.axhspan(.5, 1.2, facecolor='.8', edgecolor='none')\n",
    "\n",
    "ax.set_xlabel(r'$E_{1/2}^o$, EA (V)')\n",
    "ax.set_ylabel(r'$E_{1/2}^o$, IE (V)')"
   ]
  },
  {
   "cell_type": "code",
   "execution_count": null,
   "metadata": {},
   "outputs": [],
   "source": [
    "fig = plt.figure(figsize=(4,4))\n",
    "ax = fig.add_subplot(111)\n",
    "\n",
    "sns.kdeplot(rew_df.bde, label='All radicals')\n",
    "sns.kdeplot(pass_gng.bde, label='Pass GNG', color='g')\n",
    "plt.xlabel('BDE')\n",
    "plt.ylabel('Frequency')"
   ]
  },
  {
   "cell_type": "code",
   "execution_count": null,
   "metadata": {},
   "outputs": [],
   "source": [
    "df = rew_df[~rew_df.index.isin(pass_gng.index)].sort_values('real_reward', ascending=False)"
   ]
  },
  {
   "cell_type": "code",
   "execution_count": null,
   "metadata": {},
   "outputs": [],
   "source": [
    "pass_gng.sample(10)"
   ]
  },
  {
   "cell_type": "code",
   "execution_count": null,
   "metadata": {},
   "outputs": [],
   "source": [
    "rew_df[rew_df.real_reward > 200]"
   ]
  },
  {
   "cell_type": "code",
   "execution_count": null,
   "metadata": {},
   "outputs": [],
   "source": [
    "rew_df.real_reward.max()"
   ]
  },
  {
   "cell_type": "code",
   "execution_count": null,
   "metadata": {},
   "outputs": [],
   "source": [
    "plt.hist(rew_df.ie - rew_df.ea, bins=20)"
   ]
  },
  {
   "cell_type": "code",
   "execution_count": null,
   "metadata": {},
   "outputs": [],
   "source": [
    "fig = plt.figure(figsize=(4,4))\n",
    "ax = fig.add_subplot(111)\n",
    "\n",
    "plt.hist(rew_df.real_reward, label='All radicals', range=(0, 225))\n",
    "plt.hist(pass_gng.real_reward, label='Pass GNG', color='g', range=(0, 225))\n",
    "plt.xlabel('Reward')\n",
    "plt.ylabel('Frequency')"
   ]
  },
  {
   "cell_type": "code",
   "execution_count": null,
   "metadata": {},
   "outputs": [],
   "source": [
    "import tensorflow as tf\n",
    "gpus = tf.config.experimental.list_physical_devices('GPU')\n",
    "if gpus:\n",
    "    # Currently, memory growth needs to be the same across GPUs\n",
    "    for gpu in gpus:\n",
    "        tf.config.experimental.set_memory_growth(gpu, True)\n",
    "import nfp"
   ]
  },
  {
   "cell_type": "code",
   "execution_count": null,
   "metadata": {},
   "outputs": [],
   "source": [
    "from reward import predict, stability_model\n",
    "from alphazero.node import Node\n",
    "\n",
    "def pred_spins(mol):\n",
    "    spins, _ = predict(stability_model, \n",
    "        {key: tf.constant(np.expand_dims(val, 0))\n",
    "         for key, val in Node(mol).policy_inputs.items()})\n",
    "    \n",
    "    return spins.numpy().flatten()"
   ]
  },
  {
   "cell_type": "code",
   "execution_count": null,
   "metadata": {},
   "outputs": [],
   "source": [
    "# Code for raster image drawing\n",
    "import rdkit\n",
    "\n",
    "from rdkit import Chem\n",
    "from rdkit.Chem import Draw\n",
    "from rdkit.Chem.Draw import rdMolDraw2D\n",
    "from rdkit.Chem.Draw import SimilarityMaps\n",
    "from rdkit.Chem import rdDepictor\n",
    "from IPython.display import SVG"
   ]
  },
  {
   "cell_type": "code",
   "execution_count": null,
   "metadata": {},
   "outputs": [],
   "source": [
    "row = pass_gng.sample(1, random_state=5).iloc[0]\n",
    "mol = Chem.MolFromSmiles(row.smiles)\n",
    "\n",
    "d = rdMolDraw2D.MolDraw2DSVG(400, 400)\n",
    "SimilarityMaps.GetSimilarityMapFromWeights(mol, [float(i) for i in pred_spins(mol)], draw2d=d)\n",
    "d.FinishDrawing()\n",
    "SVG(d.GetDrawingText())"
   ]
  }
 ],
 "metadata": {
  "kernelspec": {
   "display_name": "Python 3",
   "language": "python",
   "name": "python3"
  },
  "language_info": {
   "codemirror_mode": {
    "name": "ipython",
    "version": 3
   },
   "file_extension": ".py",
   "mimetype": "text/x-python",
   "name": "python",
   "nbconvert_exporter": "python",
   "pygments_lexer": "ipython3",
   "version": "3.8.10"
  }
 },
 "nbformat": 4,
 "nbformat_minor": 4
}
