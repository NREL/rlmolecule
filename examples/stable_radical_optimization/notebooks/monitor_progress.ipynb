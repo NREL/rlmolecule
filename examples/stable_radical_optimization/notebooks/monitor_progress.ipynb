{
 "cells": [
  {
   "cell_type": "code",
   "execution_count": 2,
   "metadata": {},
   "outputs": [],
   "source": [
    "import os\n",
    "import sys\n",
    "import numpy as np\n",
    "# import psycopg2\n",
    "import sqlalchemy\n",
    "import pandas as pd\n",
    "\n",
    "import matplotlib.pyplot as plt\n",
    "import seaborn as sns\n",
    "sns.set(\n",
    "#     context='paper',\n",
    "#     font_scale=8/8.8,\n",
    "    context=\"talk\",\n",
    "    style='ticks',\n",
    "    color_codes=True,\n",
    "    rc={'legend.frameon': False})\n",
    "\n",
    "plt.rcParams['svg.fonttype'] = 'none'\n",
    "\n",
    "%matplotlib inline"
   ]
  },
  {
   "cell_type": "code",
   "execution_count": 3,
   "metadata": {},
   "outputs": [
    {
     "name": "stdout",
     "output_type": "stream",
     "text": [
      "/home/pstjohn/Research/rlmolecule/examples/stable_radical_optimization/notebooks\n"
     ]
    }
   ],
   "source": [
    "print(os.getcwd())\n",
    "sys.path.append('../../')\n",
    "import rlmolecule"
   ]
  },
  {
   "cell_type": "markdown",
   "metadata": {},
   "source": [
    "# Initial Results\n",
    "Eagle is really backed up, so these results are from multiple runs on the debug queue (which has a 1 hr time limit)"
   ]
  },
  {
   "cell_type": "code",
   "execution_count": 4,
   "metadata": {},
   "outputs": [],
   "source": [
    "import rdkit"
   ]
  },
  {
   "cell_type": "code",
   "execution_count": 5,
   "metadata": {},
   "outputs": [
    {
     "data": {
      "text/plain": [
       "'stable_rad_c_tautomers_noembed2'"
      ]
     },
     "execution_count": 5,
     "metadata": {},
     "output_type": "execute_result"
    }
   ],
   "source": [
    "# run_id = 'stable_radical_optimization'\n",
    "from rlmolecule.sql.run_config import RunConfig\n",
    "run_config = RunConfig('../config/config_eagle_c.yaml')\n",
    "run_config.run_id"
   ]
  },
  {
   "cell_type": "code",
   "execution_count": 6,
   "metadata": {},
   "outputs": [
    {
     "data": {
      "text/html": [
       "<div>\n",
       "<style scoped>\n",
       "    .dataframe tbody tr th:only-of-type {\n",
       "        vertical-align: middle;\n",
       "    }\n",
       "\n",
       "    .dataframe tbody tr th {\n",
       "        vertical-align: top;\n",
       "    }\n",
       "\n",
       "    .dataframe thead th {\n",
       "        text-align: right;\n",
       "    }\n",
       "</style>\n",
       "<table border=\"1\" class=\"dataframe\">\n",
       "  <thead>\n",
       "    <tr style=\"text-align: right;\">\n",
       "      <th></th>\n",
       "      <th>id</th>\n",
       "      <th>run_id</th>\n",
       "      <th>time</th>\n",
       "      <th>raw_reward</th>\n",
       "      <th>scaled_reward</th>\n",
       "      <th>search_statistics</th>\n",
       "      <th>execution_statistics</th>\n",
       "      <th>time_hours</th>\n",
       "    </tr>\n",
       "  </thead>\n",
       "  <tbody>\n",
       "    <tr>\n",
       "      <th>0</th>\n",
       "      <td>9a74d0db-ad9f-4862-b004-69d0b10d3573</td>\n",
       "      <td>stable_rad_c_tautomers_noembed2</td>\n",
       "      <td>2021-06-29 20:47:35.200686</td>\n",
       "      <td>0.0</td>\n",
       "      <td>0.0</td>\n",
       "      <td>[[a323322f10ab649b203db742294f7b2d47a7101e987d...</td>\n",
       "      <td>{'total_time': 18.294331550598145, 'execution_...</td>\n",
       "      <td>0.000000</td>\n",
       "    </tr>\n",
       "    <tr>\n",
       "      <th>1</th>\n",
       "      <td>1499225e-5998-42b6-9be3-725dcadec037</td>\n",
       "      <td>stable_rad_c_tautomers_noembed2</td>\n",
       "      <td>2021-06-29 20:47:36.374046</td>\n",
       "      <td>0.0</td>\n",
       "      <td>1.0</td>\n",
       "      <td>[[a323322f10ab649b203db742294f7b2d47a7101e987d...</td>\n",
       "      <td>{'total_time': 24.638490200042725, 'execution_...</td>\n",
       "      <td>0.000326</td>\n",
       "    </tr>\n",
       "    <tr>\n",
       "      <th>2</th>\n",
       "      <td>47a2c5c2-ac56-45c2-bce7-ef854a47831c</td>\n",
       "      <td>stable_rad_c_tautomers_noembed2</td>\n",
       "      <td>2021-06-29 20:47:36.506251</td>\n",
       "      <td>0.0</td>\n",
       "      <td>0.0</td>\n",
       "      <td>[[a323322f10ab649b203db742294f7b2d47a7101e987d...</td>\n",
       "      <td>{'total_time': 17.372315645217896, 'execution_...</td>\n",
       "      <td>0.000363</td>\n",
       "    </tr>\n",
       "    <tr>\n",
       "      <th>3</th>\n",
       "      <td>d938c21b-3172-4683-b14c-f19523c3ce7f</td>\n",
       "      <td>stable_rad_c_tautomers_noembed2</td>\n",
       "      <td>2021-06-29 20:47:36.528877</td>\n",
       "      <td>0.0</td>\n",
       "      <td>0.0</td>\n",
       "      <td>[[a323322f10ab649b203db742294f7b2d47a7101e987d...</td>\n",
       "      <td>{'total_time': 18.073183298110962, 'execution_...</td>\n",
       "      <td>0.000369</td>\n",
       "    </tr>\n",
       "    <tr>\n",
       "      <th>4</th>\n",
       "      <td>daac091c-ac92-43bc-b927-d41695243257</td>\n",
       "      <td>stable_rad_c_tautomers_noembed2</td>\n",
       "      <td>2021-06-29 20:47:36.681856</td>\n",
       "      <td>0.0</td>\n",
       "      <td>1.0</td>\n",
       "      <td>[[a323322f10ab649b203db742294f7b2d47a7101e987d...</td>\n",
       "      <td>{'total_time': 18.674891471862793, 'execution_...</td>\n",
       "      <td>0.000411</td>\n",
       "    </tr>\n",
       "  </tbody>\n",
       "</table>\n",
       "</div>"
      ],
      "text/plain": [
       "                                     id                           run_id  \\\n",
       "0  9a74d0db-ad9f-4862-b004-69d0b10d3573  stable_rad_c_tautomers_noembed2   \n",
       "1  1499225e-5998-42b6-9be3-725dcadec037  stable_rad_c_tautomers_noembed2   \n",
       "2  47a2c5c2-ac56-45c2-bce7-ef854a47831c  stable_rad_c_tautomers_noembed2   \n",
       "3  d938c21b-3172-4683-b14c-f19523c3ce7f  stable_rad_c_tautomers_noembed2   \n",
       "4  daac091c-ac92-43bc-b927-d41695243257  stable_rad_c_tautomers_noembed2   \n",
       "\n",
       "                        time  raw_reward  scaled_reward  \\\n",
       "0 2021-06-29 20:47:35.200686         0.0            0.0   \n",
       "1 2021-06-29 20:47:36.374046         0.0            1.0   \n",
       "2 2021-06-29 20:47:36.506251         0.0            0.0   \n",
       "3 2021-06-29 20:47:36.528877         0.0            0.0   \n",
       "4 2021-06-29 20:47:36.681856         0.0            1.0   \n",
       "\n",
       "                                   search_statistics  \\\n",
       "0  [[a323322f10ab649b203db742294f7b2d47a7101e987d...   \n",
       "1  [[a323322f10ab649b203db742294f7b2d47a7101e987d...   \n",
       "2  [[a323322f10ab649b203db742294f7b2d47a7101e987d...   \n",
       "3  [[a323322f10ab649b203db742294f7b2d47a7101e987d...   \n",
       "4  [[a323322f10ab649b203db742294f7b2d47a7101e987d...   \n",
       "\n",
       "                                execution_statistics  time_hours  \n",
       "0  {'total_time': 18.294331550598145, 'execution_...    0.000000  \n",
       "1  {'total_time': 24.638490200042725, 'execution_...    0.000326  \n",
       "2  {'total_time': 17.372315645217896, 'execution_...    0.000363  \n",
       "3  {'total_time': 18.073183298110962, 'execution_...    0.000369  \n",
       "4  {'total_time': 18.674891471862793, 'execution_...    0.000411  "
      ]
     },
     "execution_count": 6,
     "metadata": {},
     "output_type": "execute_result"
    }
   ],
   "source": [
    "# load the games played\n",
    "from rlmolecule.sql import Base, Session\n",
    "from rlmolecule.sql.tables import GameStore, RewardStore, StateStore\n",
    "\n",
    "engine = run_config.start_engine()\n",
    "Session.configure(bind=engine)\n",
    "session = Session()\n",
    "df = pd.read_sql(session.query(GameStore).filter_by(run_id=run_config.run_id).statement, session.bind)\n",
    "\n",
    "df['time_hours'] = (df.time - df.time.min()).apply(lambda x: x.total_seconds() / 3600)\n",
    "df = df.sort_values('time_hours')\n",
    "df_games = df\n",
    "df_games.reset_index(drop=True, inplace=True)\n",
    "df_games.head()"
   ]
  },
  {
   "cell_type": "code",
   "execution_count": 7,
   "metadata": {},
   "outputs": [
    {
     "data": {
      "text/plain": [
       "(5406, 8)"
      ]
     },
     "execution_count": 7,
     "metadata": {},
     "output_type": "execute_result"
    }
   ],
   "source": [
    "df_games.shape"
   ]
  },
  {
   "cell_type": "code",
   "execution_count": 8,
   "metadata": {},
   "outputs": [
    {
     "data": {
      "text/plain": [
       "{'total_time': 946.8520121574402,\n",
       " 'execution_time': {'get_next_actions': 799.5027546882629,\n",
       "  'get_value_and_policy': 52.37338423728943,\n",
       "  '_evaluate': 941.2875349521637,\n",
       "  'calc_reward': 24.622361183166504,\n",
       "  'maybe_store_state': 1.6310644149780273},\n",
       " 'execution_count': {'get_next_actions': 6435,\n",
       "  'get_value_and_policy': 4328,\n",
       "  '_evaluate': 8500,\n",
       "  'calc_reward': 1651,\n",
       "  'maybe_store_state': 416}}"
      ]
     },
     "execution_count": 8,
     "metadata": {},
     "output_type": "execute_result"
    }
   ],
   "source": [
    "df_games.iloc[-1]['execution_statistics']"
   ]
  },
  {
   "cell_type": "code",
   "execution_count": 9,
   "metadata": {},
   "outputs": [
    {
     "data": {
      "text/plain": [
       "<matplotlib.legend.Legend at 0x7f2f643cbeb0>"
      ]
     },
     "execution_count": 9,
     "metadata": {},
     "output_type": "execute_result"
    },
    {
     "data": {
      "image/png": "[encoded data removed]",
      "text/plain": [
       "<Figure size 360x432 with 2 Axes>"
      ]
     },
     "metadata": {
      "needs_background": "light"
     },
     "output_type": "display_data"
    }
   ],
   "source": [
    "df = pd.read_sql(session.query(GameStore).filter_by(run_id=run_config.run_id).statement, session.bind)\n",
    "df['time_hours'] = (df.time - df.time.min()).apply(lambda x: x.total_seconds() / 3600)\n",
    "df = df.sort_values('time_hours')\n",
    "\n",
    "policy_dir = os.path.join(run_config.train_config.get('policy_checkpoint_dir', 'policy_checkpoints'), run_config.run_id)\n",
    "log = pd.read_csv(os.path.join(policy_dir, \"log.csv\"))\n",
    "log['time'] = pd.to_datetime(log.time) - df.time.min()\n",
    "log['time_hours'] = (log.time).apply(lambda x: x.total_seconds() / 3600)\n",
    "\n",
    "f, ax = plt.subplots(nrows=2, sharex=True, figsize=(5,6))\n",
    "\n",
    "ax[0].plot(df.time_hours, df.raw_reward, '.', ms=.75, label='games')\n",
    "ax[0].set_ylabel(\"raw_reward\")\n",
    "\n",
    "ax[1].plot(log.time_hours, log.policy_wrapper_loss, label='value loss')\n",
    "ax[1].plot(log.time_hours, log.policy_wrapper_1_loss, label='prior loss')\n",
    "# ax.set_xlabel(\"Epoch\")\n",
    "plt.legend()"
   ]
  },
  {
   "cell_type": "code",
   "execution_count": 10,
   "metadata": {},
   "outputs": [
    {
     "data": {
      "text/plain": [
       "0.2634301836455014"
      ]
     },
     "execution_count": 10,
     "metadata": {},
     "output_type": "execute_result"
    }
   ],
   "source": [
    "time = pd.json_normalize(df.execution_statistics.values.tolist())\n",
    "time_sum = time.sum()\n",
    "time_sum['execution_time.get_next_actions'] / time_sum['execution_count.get_next_actions']"
   ]
  },
  {
   "cell_type": "code",
   "execution_count": 11,
   "metadata": {},
   "outputs": [
    {
     "data": {
      "text/plain": [
       "Text(0.5, 0, 'Run time, minutes')"
      ]
     },
     "execution_count": 11,
     "metadata": {},
     "output_type": "execute_result"
    },
    {
     "data": {
      "image/png": "[encoded data removed]",
      "text/plain": [
       "<Figure size 288x288 with 1 Axes>"
      ]
     },
     "metadata": {
      "needs_background": "light"
     },
     "output_type": "display_data"
    }
   ],
   "source": [
    "fig = plt.figure(figsize=(4,4))\n",
    "ax = fig.add_subplot(111, aspect='equal')\n",
    "\n",
    "plt.plot(df.time_hours * 60, time.total_time / 60, '.', ms=1)\n",
    "\n",
    "plt.ylabel('Game time, minutes')\n",
    "plt.xlabel('Run time, minutes')"
   ]
  },
  {
   "cell_type": "code",
   "execution_count": 12,
   "metadata": {},
   "outputs": [
    {
     "data": {
      "text/plain": [
       "15"
      ]
     },
     "execution_count": 12,
     "metadata": {},
     "output_type": "execute_result"
    }
   ],
   "source": [
    "len(df.iloc[time.total_time.idxmax()]['search_statistics'])"
   ]
  },
  {
   "cell_type": "code",
   "execution_count": 13,
   "metadata": {},
   "outputs": [],
   "source": [
    "digests = [a[0] for a in df.iloc[time.total_time.idxmax()]['search_statistics']]\n",
    "df_states = pd.read_sql(session.query(StateStore).filter_by(run_id=run_config.run_id).filter(StateStore.digest.in_(\n",
    "    digests)).statement, session.bind)"
   ]
  },
  {
   "cell_type": "code",
   "execution_count": 14,
   "metadata": {},
   "outputs": [],
   "source": [
    "from rlmolecule.molecule.molecule_state import MoleculeState"
   ]
  },
  {
   "cell_type": "code",
   "execution_count": 15,
   "metadata": {},
   "outputs": [
    {
     "data": {
      "text/plain": [
       "[10, 12, 2, 11, 17, 18, 14, 28, 17, 19, 25, 22, 33, 26, 30]"
      ]
     },
     "execution_count": 15,
     "metadata": {},
     "output_type": "execute_result"
    }
   ],
   "source": [
    "[len(a[1]) for a in df.iloc[time.total_time.idxmax()]['search_statistics']]"
   ]
  },
  {
   "cell_type": "code",
   "execution_count": 16,
   "metadata": {},
   "outputs": [
    {
     "data": {
      "text/plain": [
       "digest\n",
       "a323322f10ab649b203db742294f7b2d47a7101e987db08540c9ad5e2fe4a089                                     C\n",
       "f81081f80459df7078bf5947b6a08792006f14cdb3af17613f03e6be0ceea30d                                   C=N\n",
       "528031ce78c5446da41ad90c8bb772f131afc7adb67f5858a1b874cbb3644659                                  C=NC\n",
       "fe1b148db069ddced9adba0621153a0d16296a727041ad7a180abffa8675d0c5                                 CC=NC\n",
       "a9df8f2129d5173087504e4d18cc9383a8de1c6c961cf6df56eae3648c23e2a5                              CN=C(C)C\n",
       "2f45246b1031e09dc521ab5f461b94626ab056e31100002c06cc50b30e0c55b2                             CC(C)=NCN\n",
       "d75c533f5f155c3122992c4a6735f00124fff14823058b65e7b7bb1e58e02e28                         CC(=N)N=C(C)C\n",
       "990d6cc3a3d6950cb6c99e2fea7278618a0921d1842e1e4cff9c8baa68c676ae                        Cc1c[nH]c(C)n1\n",
       "2e9df6c60d5cc97e038fda6552035975329d532b23f0e5c19be4762700152c09                      Cc1nc(C=N)c[nH]1\n",
       "0479c41217cf8a7cf6efa5115e072bb3f818ad262262d0553ce6b661171a374c                     Cc1nc(C=NN)c[nH]1\n",
       "dfd4647fdd289702e26b50a7d13b37e9a118191e9c4244a254f42cd7cb664735                    CNN=Cc1c[nH]c(C)n1\n",
       "985af81be9795076a53dbe7adf6557eb418434d2d9083166f84f4d7df6dc4237                  CC=NN=Cc1c[nH]c(C)n1\n",
       "3e6e3ff4da455f01070f8a825a3056b7d0bea46b5957af9eff8d8aedf8b9650a              Cc1nc(-c2cc[nH]n2)c[nH]1\n",
       "66806f034b2387df2b59a170e806397e653f3fff2095c5a82922b3ead35214d9       Cc1nc(-c2cc(=O)[nH][nH]2)c[nH]1\n",
       "f53da475ecba4a12f8a430cf49278df19f54268c80ec5883df9eb72ca625c378    Cc1nc(-c2cc(=O)[nH][nH]2)c(O)[nH]1\n",
       "Name: state, dtype: object"
      ]
     },
     "execution_count": 16,
     "metadata": {},
     "output_type": "execute_result"
    }
   ],
   "source": [
    "df_states.set_index('digest').reindex(digests).state.apply(MoleculeState.deserialize)"
   ]
  },
  {
   "cell_type": "markdown",
   "metadata": {},
   "source": [
    "# Measure the spin, buried volume, and draw the molecule\n",
    "\n",
    "TODO: Need to join the tables, and unpickle the state to get the smile strings from the state"
   ]
  },
  {
   "cell_type": "code",
   "execution_count": 49,
   "metadata": {},
   "outputs": [
    {
     "data": {
      "text/plain": [
       "(7919, 6)"
      ]
     },
     "execution_count": 49,
     "metadata": {},
     "output_type": "execute_result"
    }
   ],
   "source": [
    "# look at some of the top rewards\n",
    "df_rewards = pd.read_sql(session.query(RewardStore).filter_by(run_id=run_config.run_id).filter(RewardStore.reward >= 190).statement,\n",
    "                 session.bind)\n",
    "\n",
    "df_rewards.shape"
   ]
  },
  {
   "cell_type": "code",
   "execution_count": 48,
   "metadata": {},
   "outputs": [
    {
     "data": {
      "text/plain": [
       "3120886"
      ]
     },
     "execution_count": 48,
     "metadata": {},
     "output_type": "execute_result"
    }
   ],
   "source": [
    "session.query(RewardStore).filter_by(run_id=run_config.run_id).count()"
   ]
  },
  {
   "cell_type": "code",
   "execution_count": 50,
   "metadata": {},
   "outputs": [],
   "source": [
    "df_rewards['smiles'] = df_rewards.data.apply(lambda x: x['smiles'])\n",
    "df_rewards = df_rewards.drop_duplicates(subset='smiles')"
   ]
  },
  {
   "cell_type": "code",
   "execution_count": 51,
   "metadata": {},
   "outputs": [],
   "source": [
    "from tqdm import tqdm\n",
    "tqdm.pandas()"
   ]
  },
  {
   "cell_type": "code",
   "execution_count": 52,
   "metadata": {},
   "outputs": [
    {
     "name": "stderr",
     "output_type": "stream",
     "text": [
      "100%|██████████| 7919/7919 [00:02<00:00, 2775.55it/s]\n"
     ]
    }
   ],
   "source": [
    "def process(x):\n",
    "    mol = rdkit.Chem.MolFromSmiles(x)\n",
    "    for atom in mol.GetAtoms():\n",
    "        if atom.GetNumRadicalElectrons() == 1:\n",
    "            radical_idx = atom.GetIdx()\n",
    "            symbol = atom.GetSymbol()\n",
    "            break            \n",
    "    else:\n",
    "        radical_idx = None\n",
    "        symbol = None\n",
    "        \n",
    "    return pd.Series({'radical_idx': radical_idx,\n",
    "                      'symbol': symbol,\n",
    "                      'num_atoms': mol.GetNumAtoms()})\n",
    "\n",
    "annotated_rewards = df_rewards.join(df_rewards.smiles.progress_apply(process))"
   ]
  },
  {
   "cell_type": "code",
   "execution_count": 53,
   "metadata": {},
   "outputs": [],
   "source": [
    "annotated_rewards = annotated_rewards.sort_values(['num_atoms', 'reward'], ascending=[True, False])"
   ]
  },
  {
   "cell_type": "code",
   "execution_count": 65,
   "metadata": {},
   "outputs": [
    {
     "data": {
      "text/plain": [
       "digest         9cf3a11b1f7ff72be5fdcf18b143b1c195339ff36613d6...\n",
       "hash                                         1804190172463259284\n",
       "run_id                           stable_rad_c_tautomers_noembed2\n",
       "time                                  2021-06-29 21:19:48.014584\n",
       "reward                                                194.852639\n",
       "data           {'max_spin': '0.25334507', 'spin_buried_vol': ...\n",
       "smiles                                       C=C(C)c1sc([O])cc1S\n",
       "radical_idx                                                    6\n",
       "symbol                                                         O\n",
       "num_atoms                                                     10\n",
       "Name: 127, dtype: object"
      ]
     },
     "execution_count": 65,
     "metadata": {},
     "output_type": "execute_result"
    }
   ],
   "source": [
    "annotated_rewards.iloc[9]"
   ]
  },
  {
   "cell_type": "code",
   "execution_count": 72,
   "metadata": {},
   "outputs": [
    {
     "data": {
      "image/png": "[encoded data removed]",
      "text/plain": [
       "<rdkit.Chem.rdchem.Mol at 0x7f2f432879a0>"
      ]
     },
     "execution_count": 72,
     "metadata": {},
     "output_type": "execute_result"
    }
   ],
   "source": [
    "from rdkit.Chem.MolStandardize import rdMolStandardize\n",
    "enumerator = rdMolStandardize.TautomerEnumerator()\n",
    "\n",
    "mol = rdkit.Chem.MolFromSmiles('C=C(C)c1sc(O)cc1S')\n",
    "enumerator.Canonicalize(mol)"
   ]
  },
  {
   "cell_type": "code",
   "execution_count": 63,
   "metadata": {},
   "outputs": [
    {
     "name": "stderr",
     "output_type": "stream",
     "text": [
      "/home/pstjohn/mambaforge/envs/rlmol/lib/python3.8/site-packages/rdkit/Chem/Draw/IPythonConsole.py:190: UserWarning: Truncating the list of molecules to be displayed to 50. Change the maxMols value to display more.\n",
      "  warnings.warn(\n"
     ]
    }
   ],
   "source": [
    "from rdkit.Chem.Draw import MolsToGridImage\n",
    "img = MolsToGridImage(annotated_rewards.smiles.apply(rdkit.Chem.MolFromSmiles), molsPerRow=5,\n",
    "                legends=annotated_rewards.apply(lambda x: f'{x.smiles}\\n#atoms={x.num_atoms}', 1).values.tolist(), \n",
    "                highlightAtomLists=[[i] for i in annotated_rewards.radical_idx],\n",
    "                useSVG=True)\n",
    "\n",
    "with open('mols.svg', 'wt') as f:\n",
    "    f.write(img.data)"
   ]
  },
  {
   "cell_type": "code",
   "execution_count": 24,
   "metadata": {},
   "outputs": [],
   "source": [
    "# Code for raster image drawing\n",
    "import rdkit\n",
    "\n",
    "from rdkit import Chem\n",
    "from rdkit.Chem import Draw\n",
    "from rdkit.Chem.Draw import rdMolDraw2D\n",
    "from rdkit.Chem.Draw import SimilarityMaps\n",
    "from rdkit.Chem import rdDepictor\n",
    "from IPython.display import Image"
   ]
  },
  {
   "cell_type": "code",
   "execution_count": null,
   "metadata": {},
   "outputs": [],
   "source": [
    "import tensorflow as tf\n",
    "gpus = tf.config.experimental.list_physical_devices('GPU')\n",
    "if gpus:\n",
    "    # Currently, memory growth needs to be the same across GPUs\n",
    "    for gpu in gpus:\n",
    "        tf.config.experimental.set_memory_growth(gpu, True)\n",
    "\n",
    "stability_model = tf.keras.models.load_model('/projects/rlmolecule/pstjohn/models/20210214_radical_stability_new_data/', compile=False)\n",
    "from rlmolecule.molecule.policy.preprocessor import load_preprocessor\n",
    "\n",
    "preprocessor = load_preprocessor()"
   ]
  },
  {
   "cell_type": "code",
   "execution_count": null,
   "metadata": {},
   "outputs": [],
   "source": [
    "def pred_spins(mol):\n",
    "    spins, _ = stability_model(\n",
    "        {key: tf.constant(np.expand_dims(val, 0))\n",
    "         for key, val in preprocessor.construct_feature_matrices(mol).items()})\n",
    "\n",
    "    return spins.numpy().flatten()\n",
    "\n",
    "d = rdMolDraw2D.MolDraw2DCairo(250, 250)\n",
    "SimilarityMaps.GetSimilarityMapFromWeights(mol, [float(i) for i in pred_spins(mol)], draw2d=d)\n",
    "d.FinishDrawing()\n",
    "Image(d.GetDrawingText())"
   ]
  },
  {
   "cell_type": "markdown",
   "metadata": {},
   "source": [
    "# Leftover code from augmenting_reward branch:"
   ]
  },
  {
   "cell_type": "code",
   "execution_count": null,
   "metadata": {},
   "outputs": [],
   "source": [
    "with psycopg2.connect(**config.dbparams) as conn:\n",
    "    experiment_ids = pd.read_sql_query(\"select distinct experiment_id from {}_game\".format(config.sql_basename), conn)\n",
    "    \n",
    "experiment_ids"
   ]
  },
  {
   "cell_type": "code",
   "execution_count": null,
   "metadata": {},
   "outputs": [],
   "source": [
    "fig, axs = plt.subplots(nrows=1, ncols=4, figsize=(13, 3), sharex=True, sharey=True)\n",
    "\n",
    "optimal = []\n",
    "for ax, atom in zip(axs, ['C', 'N', 'O', 'S']):\n",
    "    \n",
    "    ax.plot(rew_df[rew_df.atom_type == atom]['max_spin'],\n",
    "            rew_df[rew_df.atom_type == atom]['buried_vol'], '.', ms=1, alpha=.1, label='All radicals')\n",
    "    \n",
    "    ax.plot(stable_max_spin[stable_max_spin['atom-sym'] == atom]['fractional_spin'],\n",
    "            stable_max_spin[stable_max_spin['atom-sym'] == atom]['bur-vol'],\n",
    "            '.', label='Experimentally stable')\n",
    "    \n",
    "    ax.plot(pass_gng[pass_gng.atom_type == atom]['max_spin'],\n",
    "            pass_gng[pass_gng.atom_type == atom]['buried_vol'], '.', ms=1, label='Pass GNG')\n",
    "    \n",
    "    ax.set_title(atom)\n",
    "    \n",
    "axs[1].set_xlabel('Max Fractional Spin')\n",
    "axs[0].set_ylabel('Buried volume\\nat max spin')\n",
    "\n",
    "axs[-1].legend(loc='upper left', fontsize=12, markerscale=2)\n",
    "sns.despine()    "
   ]
  },
  {
   "cell_type": "code",
   "execution_count": null,
   "metadata": {},
   "outputs": [],
   "source": [
    "from matplotlib.patches import Polygon\n",
    "\n",
    "fig = plt.figure(figsize=(4,4))\n",
    "ax = fig.add_subplot(111, aspect='equal')\n",
    "\n",
    "ax.plot(rew_df['ea'], rew_df['ie'], '.', ms=1, alpha=.1)\n",
    "ax.plot(pass_gng['ea'], pass_gng['ie'], '.', ms=1, color='g')\n",
    "\n",
    "ax.add_patch(Polygon(np.array([(-.5, 1.2), (-.5, 0.5), (.2, 1.2)]), facecolor='none', zorder=5, edgecolor='r', lw=3, ls='--'))\n",
    "ax.set_xlim([-1.5, 1.5])\n",
    "ax.set_ylim([-1, 2])\n",
    "\n",
    "ax.axvspan(-.5, .2, facecolor='.8', edgecolor='none')\n",
    "ax.axhspan(.5, 1.2, facecolor='.8', edgecolor='none')\n",
    "\n",
    "ax.set_xlabel(r'$E_{1/2}^o$, EA (V)')\n",
    "ax.set_ylabel(r'$E_{1/2}^o$, IE (V)')"
   ]
  },
  {
   "cell_type": "code",
   "execution_count": null,
   "metadata": {},
   "outputs": [],
   "source": [
    "fig = plt.figure(figsize=(4,4))\n",
    "ax = fig.add_subplot(111)\n",
    "\n",
    "sns.kdeplot(rew_df.bde, label='All radicals')\n",
    "sns.kdeplot(pass_gng.bde, label='Pass GNG', color='g')\n",
    "plt.xlabel('BDE')\n",
    "plt.ylabel('Frequency')"
   ]
  },
  {
   "cell_type": "code",
   "execution_count": null,
   "metadata": {},
   "outputs": [],
   "source": [
    "df = rew_df[~rew_df.index.isin(pass_gng.index)].sort_values('real_reward', ascending=False)"
   ]
  },
  {
   "cell_type": "code",
   "execution_count": null,
   "metadata": {},
   "outputs": [],
   "source": [
    "pass_gng.sample(10)"
   ]
  },
  {
   "cell_type": "code",
   "execution_count": null,
   "metadata": {},
   "outputs": [],
   "source": [
    "rew_df[rew_df.real_reward > 200]"
   ]
  },
  {
   "cell_type": "code",
   "execution_count": null,
   "metadata": {},
   "outputs": [],
   "source": [
    "rew_df.real_reward.max()"
   ]
  },
  {
   "cell_type": "code",
   "execution_count": null,
   "metadata": {},
   "outputs": [],
   "source": [
    "plt.hist(rew_df.ie - rew_df.ea, bins=20)"
   ]
  },
  {
   "cell_type": "code",
   "execution_count": null,
   "metadata": {},
   "outputs": [],
   "source": [
    "fig = plt.figure(figsize=(4,4))\n",
    "ax = fig.add_subplot(111)\n",
    "\n",
    "plt.hist(rew_df.real_reward, label='All radicals', range=(0, 225))\n",
    "plt.hist(pass_gng.real_reward, label='Pass GNG', color='g', range=(0, 225))\n",
    "plt.xlabel('Reward')\n",
    "plt.ylabel('Frequency')"
   ]
  },
  {
   "cell_type": "code",
   "execution_count": null,
   "metadata": {},
   "outputs": [],
   "source": [
    "import tensorflow as tf\n",
    "gpus = tf.config.experimental.list_physical_devices('GPU')\n",
    "if gpus:\n",
    "    # Currently, memory growth needs to be the same across GPUs\n",
    "    for gpu in gpus:\n",
    "        tf.config.experimental.set_memory_growth(gpu, True)\n",
    "import nfp"
   ]
  },
  {
   "cell_type": "code",
   "execution_count": null,
   "metadata": {},
   "outputs": [],
   "source": [
    "from reward import predict, stability_model\n",
    "from alphazero.node import Node\n",
    "\n",
    "def pred_spins(mol):\n",
    "    spins, _ = predict(stability_model, \n",
    "        {key: tf.constant(np.expand_dims(val, 0))\n",
    "         for key, val in Node(mol).policy_inputs.items()})\n",
    "    \n",
    "    return spins.numpy().flatten()"
   ]
  },
  {
   "cell_type": "code",
   "execution_count": null,
   "metadata": {},
   "outputs": [],
   "source": [
    "# Load the game buffer\n",
    "with psycopg2.connect(**config.dbparams) as conn:\n",
    "    df = pd.read_sql_query(\"select * from {}_game where experiment_id = %s\".format(\n",
    "        config.sql_basename), conn, params=(config.experiment_id,))\n",
    "    \n",
    "# Load the policy training history\n",
    "try:\n",
    "    log = pd.read_csv(os.path.join(config.checkpoint_filepath, 'log.csv'))\n",
    "    log['time'] = pd.to_datetime(log.time)\n",
    "except Exception:\n",
    "    log = None\n",
    "\n",
    "df['time_hours'] = (df.time - df.time.min()).apply(lambda x: x.total_seconds() / 3600)\n",
    "\n",
    "if log is not None:\n",
    "    log['time_hours'] = (log.time - df.time.min()).apply(lambda x: x.total_seconds() / 3600)\n",
    "\n",
    "df = df.sort_values('time_hours')\n",
    "\n",
    "fig, axs = plt.subplots(sharex=True, nrows=2, figsize=(2.75, 2.5), dpi=150)\n",
    "\n",
    "axs[0].plot(df.time_hours, df.real_reward, '.', ms=.75, label='games')\n",
    "axs[0].plot(df.time_hours, df.real_reward.rolling(250, min_periods=50).quantile(.75), label='$r_{75}$')\n",
    "\n",
    "if log is not None:\n",
    "    axs[1].plot(log.time_hours, log.policy_wrapper_loss, label='value loss')\n",
    "    axs[1].plot(log.time_hours, log.policy_wrapper_1_loss, label='prior loss')\n",
    "\n",
    "axs[0].legend(loc='upper right', ncol=2, borderpad=0, borderaxespad=0.3, bbox_to_anchor=(1., 1.1), markerscale=10)\n",
    "axs[1].legend(ncol=2, borderpad=0, borderaxespad=0.3)\n",
    "\n",
    "axs[0].set_ylim([0, 250])\n",
    "\n",
    "axs[0].set_ylabel('Reward')\n",
    "axs[1].set_ylabel('Policy Training')\n",
    "axs[1].set_xlabel('Time (hours)')\n",
    "\n",
    "axs[1].set_ylim([0, .7])\n",
    "axs[1].set_xlim([-.01, 4])\n",
    "\n",
    "plt.tight_layout()\n",
    "sns.despine(offset=5, trim=True)\n",
    "# plt.savefig('20210204_policy_loss.svg')"
   ]
  },
  {
   "cell_type": "code",
   "execution_count": null,
   "metadata": {},
   "outputs": [],
   "source": [
    "with psycopg2.connect(**config.dbparams) as conn:\n",
    "    experiment_ids = pd.read_sql_query(\"select distinct experiment_id from {}_game\".format(config.sql_basename), conn)\n",
    "    \n",
    "experiment_ids"
   ]
  },
  {
   "cell_type": "code",
   "execution_count": null,
   "metadata": {},
   "outputs": [],
   "source": [
    "# Load the reward buffer to plot the optimal molecules\n",
    "with psycopg2.connect(**config.dbparams) as conn:\n",
    "    rew_df = pd.read_sql_query(\"select * from {}_reward\".format(config.sql_basename), conn)\n",
    "\n",
    "rew_df.shape"
   ]
  },
  {
   "cell_type": "code",
   "execution_count": null,
   "metadata": {},
   "outputs": [],
   "source": [
    "rew_df.sort_values('real_reward', ascending=False).head(20)"
   ]
  },
  {
   "cell_type": "code",
   "execution_count": null,
   "metadata": {},
   "outputs": [],
   "source": [
    "stable_df = pd.read_csv('/home/pstjohn/Research/20200608_redox_calculations/stable_radicals/spin-charges-bur-vol-stable-radicals-all-atoms-with-smi.csv')\n",
    "\n",
    "stable_df_noH = stable_df[~stable_df['atom-sym-idx'].str.startswith('H')]\n",
    "stable_df['fractional_spin'] = stable_df_noH.groupby('File')['spin-density'].transform(lambda x: x.abs() / x.abs().sum())\n",
    "\n",
    "stable_idx_max_spin = stable_df.groupby('File').fractional_spin.idxmax()\n",
    "stable_max_spin = stable_df.loc[stable_idx_max_spin]"
   ]
  },
  {
   "cell_type": "code",
   "execution_count": null,
   "metadata": {},
   "outputs": [],
   "source": [
    "from rdkit import Chem"
   ]
  },
  {
   "cell_type": "code",
   "execution_count": null,
   "metadata": {},
   "outputs": [],
   "source": [
    "stable_df['smiles'] = stable_df.Smiles.apply(lambda x: Chem.MolToSmiles(Chem.MolFromSmiles(x)))"
   ]
  },
  {
   "cell_type": "code",
   "execution_count": null,
   "metadata": {},
   "outputs": [],
   "source": [
    "rew_df[rew_df.smiles.isin(stable_df.smiles)]"
   ]
  },
  {
   "cell_type": "code",
   "execution_count": null,
   "metadata": {},
   "outputs": [],
   "source": [
    "pass_gng = rew_df[(rew_df.bde < 80) & (rew_df.bde > 60) &\n",
    "                  (rew_df.ie < 1.2) & (rew_df.ea > -.5) &\n",
    "                  ((rew_df.ie - rew_df.ea) > 1) &\n",
    "                  ((rew_df.buried_vol + 50 * (1 - rew_df.max_spin)) > 100.)]"
   ]
  },
  {
   "cell_type": "code",
   "execution_count": null,
   "metadata": {},
   "outputs": [],
   "source": [
    "pass_gng.shape"
   ]
  },
  {
   "cell_type": "code",
   "execution_count": null,
   "metadata": {},
   "outputs": [],
   "source": [
    "pass_gng.to_csv('20210109_gng_radicals.csv.gz', compression='gzip')"
   ]
  },
  {
   "cell_type": "code",
   "execution_count": null,
   "metadata": {},
   "outputs": [],
   "source": [
    "from reward import redox_model, predict"
   ]
  },
  {
   "cell_type": "code",
   "execution_count": null,
   "metadata": {},
   "outputs": [],
   "source": [
    "from alphazero.node import Node"
   ]
  },
  {
   "cell_type": "code",
   "execution_count": null,
   "metadata": {},
   "outputs": [],
   "source": [
    "import tensorflow as tf"
   ]
  },
  {
   "cell_type": "code",
   "execution_count": null,
   "metadata": {},
   "outputs": [],
   "source": [
    "def pred_redox(smiles):\n",
    "    return predict(redox_model,\n",
    "        {key: tf.constant(np.expand_dims(val, 0))\n",
    "         for key, val in Node(rdkit.Chem.MolFromSmiles(smiles)).policy_inputs.items()}).numpy().flatten()"
   ]
  },
  {
   "cell_type": "code",
   "execution_count": null,
   "metadata": {},
   "outputs": [],
   "source": [
    "from tqdm import tqdm\n",
    "tqdm.pandas()"
   ]
  },
  {
   "cell_type": "code",
   "execution_count": null,
   "metadata": {},
   "outputs": [],
   "source": [
    "redox = pass_gng.smiles.progress_apply(pred_redox)"
   ]
  },
  {
   "cell_type": "code",
   "execution_count": null,
   "metadata": {},
   "outputs": [],
   "source": [
    "plt.plot(np.vstack(redox.values)[:, 0], pass_gng.ie, '.')"
   ]
  },
  {
   "cell_type": "code",
   "execution_count": null,
   "metadata": {},
   "outputs": [],
   "source": [
    "(pass_gng.ie - np.vstack(redox.values)[:, 0]).abs().mean()"
   ]
  },
  {
   "cell_type": "code",
   "execution_count": null,
   "metadata": {},
   "outputs": [],
   "source": [
    "Node(rdkit.Chem.MolFromSmiles('CC(=S)C1=C(C)[CH]CCC1(C)C')).policy_inputs"
   ]
  },
  {
   "cell_type": "code",
   "execution_count": null,
   "metadata": {},
   "outputs": [],
   "source": []
  },
  {
   "cell_type": "code",
   "execution_count": null,
   "metadata": {},
   "outputs": [],
   "source": [
    "fig, axs = plt.subplots(nrows=1, ncols=4, figsize=(13, 3), sharex=True, sharey=True)\n",
    "\n",
    "optimal = []\n",
    "for ax, atom in zip(axs, ['C', 'N', 'O', 'S']):\n",
    "    \n",
    "    ax.plot(rew_df[rew_df.atom_type == atom]['max_spin'],\n",
    "            rew_df[rew_df.atom_type == atom]['buried_vol'], '.', ms=1, alpha=.1, label='All radicals')\n",
    "    \n",
    "    ax.plot(stable_max_spin[stable_max_spin['atom-sym'] == atom]['fractional_spin'],\n",
    "            stable_max_spin[stable_max_spin['atom-sym'] == atom]['bur-vol'],\n",
    "            '.', label='Experimentally stable')\n",
    "    \n",
    "    ax.plot(pass_gng[pass_gng.atom_type == atom]['max_spin'],\n",
    "            pass_gng[pass_gng.atom_type == atom]['buried_vol'], '.', ms=1, label='Pass GNG')\n",
    "    \n",
    "    ax.set_title(atom)\n",
    "    \n",
    "axs[1].set_xlabel('Max Fractional Spin')\n",
    "axs[0].set_ylabel('Buried volume\\nat max spin')\n",
    "\n",
    "axs[-1].legend(loc='upper left', fontsize=12, markerscale=2)\n",
    "sns.despine()    "
   ]
  },
  {
   "cell_type": "code",
   "execution_count": null,
   "metadata": {},
   "outputs": [],
   "source": [
    "from matplotlib.patches import Polygon\n",
    "\n",
    "fig = plt.figure(figsize=(4,4))\n",
    "ax = fig.add_subplot(111, aspect='equal')\n",
    "\n",
    "ax.plot(rew_df['ea'], rew_df['ie'], '.', ms=1, alpha=.1)\n",
    "ax.plot(pass_gng['ea'], pass_gng['ie'], '.', ms=1, color='g')\n",
    "\n",
    "ax.add_patch(Polygon(np.array([(-.5, 1.2), (-.5, 0.5), (.2, 1.2)]), facecolor='none', zorder=5, edgecolor='r', lw=3, ls='--'))\n",
    "ax.set_xlim([-1.5, 1.5])\n",
    "ax.set_ylim([-1, 2])\n",
    "\n",
    "ax.axvspan(-.5, .2, facecolor='.8', edgecolor='none')\n",
    "ax.axhspan(.5, 1.2, facecolor='.8', edgecolor='none')\n",
    "\n",
    "ax.set_xlabel(r'$E_{1/2}^o$, EA (V)')\n",
    "ax.set_ylabel(r'$E_{1/2}^o$, IE (V)')"
   ]
  },
  {
   "cell_type": "code",
   "execution_count": null,
   "metadata": {},
   "outputs": [],
   "source": [
    "fig = plt.figure(figsize=(4,4))\n",
    "ax = fig.add_subplot(111)\n",
    "\n",
    "sns.kdeplot(rew_df.bde, label='All radicals')\n",
    "sns.kdeplot(pass_gng.bde, label='Pass GNG', color='g')\n",
    "plt.xlabel('BDE')\n",
    "plt.ylabel('Frequency')"
   ]
  },
  {
   "cell_type": "code",
   "execution_count": null,
   "metadata": {},
   "outputs": [],
   "source": [
    "df = rew_df[~rew_df.index.isin(pass_gng.index)].sort_values('real_reward', ascending=False)"
   ]
  },
  {
   "cell_type": "code",
   "execution_count": null,
   "metadata": {},
   "outputs": [],
   "source": [
    "pass_gng.sample(10)"
   ]
  },
  {
   "cell_type": "code",
   "execution_count": null,
   "metadata": {},
   "outputs": [],
   "source": [
    "rew_df[rew_df.real_reward > 200]"
   ]
  },
  {
   "cell_type": "code",
   "execution_count": null,
   "metadata": {},
   "outputs": [],
   "source": [
    "rew_df.real_reward.max()"
   ]
  },
  {
   "cell_type": "code",
   "execution_count": null,
   "metadata": {},
   "outputs": [],
   "source": [
    "plt.hist(rew_df.ie - rew_df.ea, bins=20)"
   ]
  },
  {
   "cell_type": "code",
   "execution_count": null,
   "metadata": {},
   "outputs": [],
   "source": [
    "fig = plt.figure(figsize=(4,4))\n",
    "ax = fig.add_subplot(111)\n",
    "\n",
    "plt.hist(rew_df.real_reward, label='All radicals', range=(0, 225))\n",
    "plt.hist(pass_gng.real_reward, label='Pass GNG', color='g', range=(0, 225))\n",
    "plt.xlabel('Reward')\n",
    "plt.ylabel('Frequency')"
   ]
  },
  {
   "cell_type": "code",
   "execution_count": null,
   "metadata": {},
   "outputs": [],
   "source": [
    "import tensorflow as tf\n",
    "gpus = tf.config.experimental.list_physical_devices('GPU')\n",
    "if gpus:\n",
    "    # Currently, memory growth needs to be the same across GPUs\n",
    "    for gpu in gpus:\n",
    "        tf.config.experimental.set_memory_growth(gpu, True)\n",
    "import nfp"
   ]
  },
  {
   "cell_type": "code",
   "execution_count": null,
   "metadata": {},
   "outputs": [],
   "source": [
    "from reward import predict, stability_model\n",
    "from alphazero.node import Node\n",
    "\n",
    "def pred_spins(mol):\n",
    "    spins, _ = predict(stability_model, \n",
    "        {key: tf.constant(np.expand_dims(val, 0))\n",
    "         for key, val in Node(mol).policy_inputs.items()})\n",
    "    \n",
    "    return spins.numpy().flatten()"
   ]
  },
  {
   "cell_type": "code",
   "execution_count": null,
   "metadata": {},
   "outputs": [],
   "source": [
    "# Code for raster image drawing\n",
    "import rdkit\n",
    "\n",
    "from rdkit import Chem\n",
    "from rdkit.Chem import Draw\n",
    "from rdkit.Chem.Draw import rdMolDraw2D\n",
    "from rdkit.Chem.Draw import SimilarityMaps\n",
    "from rdkit.Chem import rdDepictor\n",
    "from IPython.display import SVG"
   ]
  },
  {
   "cell_type": "code",
   "execution_count": null,
   "metadata": {},
   "outputs": [],
   "source": [
    "row = pass_gng.sample(1, random_state=5).iloc[0]\n",
    "mol = Chem.MolFromSmiles(row.smiles)\n",
    "\n",
    "d = rdMolDraw2D.MolDraw2DSVG(400, 400)\n",
    "SimilarityMaps.GetSimilarityMapFromWeights(mol, [float(i) for i in pred_spins(mol)], draw2d=d)\n",
    "d.FinishDrawing()\n",
    "SVG(d.GetDrawingText())"
   ]
  }
 ],
 "metadata": {
  "kernelspec": {
   "display_name": "Python 3",
   "language": "python",
   "name": "python3"
  },
  "language_info": {
   "codemirror_mode": {
    "name": "ipython",
    "version": 3
   },
   "file_extension": ".py",
   "mimetype": "text/x-python",
   "name": "python",
   "nbconvert_exporter": "python",
   "pygments_lexer": "ipython3",
   "version": "3.8.10"
  }
 },
 "nbformat": 4,
 "nbformat_minor": 4
}
