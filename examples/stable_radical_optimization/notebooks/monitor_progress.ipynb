{
 "cells": [
  {
   "cell_type": "code",
   "execution_count": null,
   "metadata": {},
   "outputs": [],
   "source": [
    "import os\n",
    "import sys\n",
    "import numpy as np\n",
    "# import psycopg2\n",
    "import sqlalchemy\n",
    "import pandas as pd\n",
    "\n",
    "import matplotlib.pyplot as plt\n",
    "import seaborn as sns\n",
    "sns.set(\n",
    "#     context='paper',\n",
    "#     font_scale=8/8.8,\n",
    "    context=\"talk\",\n",
    "    style='ticks',\n",
    "    color_codes=True,\n",
    "    rc={'legend.frameon': False})\n",
    "\n",
    "plt.rcParams['svg.fonttype'] = 'none'\n",
    "\n",
    "%matplotlib inline"
   ]
  },
  {
   "cell_type": "code",
   "execution_count": null,
   "metadata": {},
   "outputs": [],
   "source": [
    "print(os.getcwd())\n",
    "sys.path.append('../../')\n",
    "import rlmolecule"
   ]
  },
  {
   "cell_type": "code",
   "execution_count": null,
   "metadata": {},
   "outputs": [],
   "source": [
    "# connect to the db\n",
    "dbname = \"bde\"\n",
    "port = \"5432\"\n",
    "host = \"yuma.hpc.nrel.gov\"\n",
    "user = \"rlops\"\n",
    "# read the password from a file\n",
    "passwd_file = '/projects/rlmolecule/rlops_pass'\n",
    "with open(passwd_file, 'r') as f:\n",
    "    passwd = f.read().strip()\n",
    "\n",
    "drivername = \"postgresql+psycopg2\"\n",
    "engine_str = f'{drivername}://{user}:{passwd}@{host}:{port}/{dbname}'\n",
    "engine = sqlalchemy.create_engine(engine_str, execution_options={\"isolation_level\": \"AUTOCOMMIT\"})"
   ]
  },
  {
   "cell_type": "markdown",
   "metadata": {},
   "source": [
    "# Initial Results\n",
    "Eagle is really backed up, so these results are from multiple runs on the debug queue (which has a 1 hr time limit)"
   ]
  },
  {
   "cell_type": "code",
   "execution_count": null,
   "metadata": {},
   "outputs": [],
   "source": [
    "# run_id = 'stable_radical_optimization'\n",
    "run_id = 'stable_radical_optimization_psj_full_fixed_rr'"
   ]
  },
  {
   "cell_type": "code",
   "execution_count": null,
   "metadata": {},
   "outputs": [],
   "source": [
    "# load the games played\n",
    "from rlmolecule.sql import Base, Session\n",
    "from rlmolecule.sql.tables import GameStore, RewardStore, StateStore\n",
    "Session.configure(bind=engine)\n",
    "session = Session()\n",
    "df = pd.read_sql(session.query(GameStore).filter_by(run_id=run_id).statement, session.bind)\n",
    "\n",
    "df['time_hours'] = (df.time - df.time.min()).apply(lambda x: x.total_seconds() / 3600)\n",
    "df = df.sort_values('time_hours')\n",
    "df_games = df\n",
    "df_games.reset_index(drop=True, inplace=True)\n",
    "df_games.head()"
   ]
  },
  {
   "cell_type": "code",
   "execution_count": null,
   "metadata": {},
   "outputs": [],
   "source": []
  },
  {
   "cell_type": "code",
   "execution_count": null,
   "metadata": {},
   "outputs": [],
   "source": [
    "df = pd.read_sql(session.query(GameStore).filter_by(run_id=run_id).statement, session.bind)\n",
    "df['time_hours'] = (df.time - df.time.min()).apply(lambda x: x.total_seconds() / 3600)\n",
    "df = df.sort_values('time_hours')\n",
    "\n",
    "log = pd.read_csv(\"policy_checkpoints/log.csv\")\n",
    "log['time'] = pd.to_datetime(log.time) - df.time.min()\n",
    "log['time_hours'] = (log.time).apply(lambda x: x.total_seconds() / 3600)\n",
    "\n",
    "f, ax = plt.subplots(nrows=2, sharex=True, figsize=(5,6))\n",
    "\n",
    "ax[0].plot(df.time_hours, df.raw_reward, '.', ms=.75, label='games')\n",
    "ax[0].set_ylabel(\"raw_reward\")\n",
    "\n",
    "ax[1].plot(log.time_hours, log.policy_wrapper_loss, label='value loss')\n",
    "ax[1].plot(log.time_hours, log.policy_wrapper_1_loss, label='prior loss')\n",
    "# ax.set_xlabel(\"Epoch\")\n",
    "plt.legend()"
   ]
  },
  {
   "cell_type": "code",
   "execution_count": null,
   "metadata": {},
   "outputs": [],
   "source": [
    "df.tail(100).execution_statistics.apply(pd.DataFrame.from_dict).sum()"
   ]
  },
  {
   "cell_type": "markdown",
   "metadata": {},
   "source": [
    "# Measure the spin, buried volume, and draw the molecule\n",
    "\n",
    "TODO: Need to join the tables, and unpickle the state to get the smile strings from the state"
   ]
  },
  {
   "cell_type": "code",
   "execution_count": null,
   "metadata": {},
   "outputs": [],
   "source": [
    "run_id"
   ]
  },
  {
   "cell_type": "code",
   "execution_count": null,
   "metadata": {},
   "outputs": [],
   "source": [
    "# look at some of the top rewards\n",
    "df_rewards = pd.read_sql(session.query(RewardStore).filter_by(run_id=run_id).order_by(RewardStore.reward.desc()).limit(1000).statement,\n",
    "                 session.bind)\n",
    "\n",
    "# df_states = pd.read_sql(session.query(StateStore).filter(StateStore.hash.in_(df_rewards.hash)).statement, session.bind)"
   ]
  },
  {
   "cell_type": "code",
   "execution_count": null,
   "metadata": {},
   "outputs": [],
   "source": [
    "df_rewards['smiles'] = df_rewards.data.apply(lambda x: x['smiles'])\n",
    "df_rewards = df_rewards.drop_duplicates(subset='smiles')\n",
    "\n",
    "df_rewards.iloc[0].data"
   ]
  },
  {
   "cell_type": "code",
   "execution_count": null,
   "metadata": {},
   "outputs": [],
   "source": [
    "df_rewards.shape"
   ]
  },
  {
   "cell_type": "code",
   "execution_count": null,
   "metadata": {},
   "outputs": [],
   "source": [
    "import rdkit\n",
    "\n",
    "from rdkit.Chem.Draw import MolsToGridImage"
   ]
  },
  {
   "cell_type": "code",
   "execution_count": null,
   "metadata": {},
   "outputs": [],
   "source": [
    "Draw.MolsToGridImage(mols, subImgSize=(250,250))"
   ]
  },
  {
   "cell_type": "code",
   "execution_count": null,
   "metadata": {},
   "outputs": [],
   "source": []
  },
  {
   "cell_type": "code",
   "execution_count": null,
   "metadata": {},
   "outputs": [],
   "source": [
    "# Code for raster image drawing\n",
    "import rdkit\n",
    "\n",
    "from rdkit import Chem\n",
    "from rdkit.Chem import Draw\n",
    "from rdkit.Chem.Draw import rdMolDraw2D\n",
    "from rdkit.Chem.Draw import SimilarityMaps\n",
    "from rdkit.Chem import rdDepictor\n",
    "from IPython.display import SVG"
   ]
  },
  {
   "cell_type": "code",
   "execution_count": null,
   "metadata": {},
   "outputs": [],
   "source": [
    "# row = pass_gng.sample(1, random_state=5).iloc[0]\n",
    "# mol = Chem.MolFromSmiles(row.smiles)\n",
    "\n",
    "d = rdMolDraw2D.MolDraw2DSVG(400, 400)\n",
    "SimilarityMaps.GetSimilarityMapFromWeights(mol, [float(i) for i in pred_spins(mol)], draw2d=d)\n",
    "d.FinishDrawing()\n",
    "SVG(d.GetDrawingText())"
   ]
  },
  {
   "cell_type": "markdown",
   "metadata": {},
   "source": [
    "# Leftover code from augmenting_reward branch:"
   ]
  },
  {
   "cell_type": "code",
   "execution_count": null,
   "metadata": {},
   "outputs": [],
   "source": [
    "with psycopg2.connect(**config.dbparams) as conn:\n",
    "    experiment_ids = pd.read_sql_query(\"select distinct experiment_id from {}_game\".format(config.sql_basename), conn)\n",
    "    \n",
    "experiment_ids"
   ]
  },
  {
   "cell_type": "code",
   "execution_count": null,
   "metadata": {},
   "outputs": [],
   "source": [
    "fig, axs = plt.subplots(nrows=1, ncols=4, figsize=(13, 3), sharex=True, sharey=True)\n",
    "\n",
    "optimal = []\n",
    "for ax, atom in zip(axs, ['C', 'N', 'O', 'S']):\n",
    "    \n",
    "    ax.plot(rew_df[rew_df.atom_type == atom]['max_spin'],\n",
    "            rew_df[rew_df.atom_type == atom]['buried_vol'], '.', ms=1, alpha=.1, label='All radicals')\n",
    "    \n",
    "    ax.plot(stable_max_spin[stable_max_spin['atom-sym'] == atom]['fractional_spin'],\n",
    "            stable_max_spin[stable_max_spin['atom-sym'] == atom]['bur-vol'],\n",
    "            '.', label='Experimentally stable')\n",
    "    \n",
    "    ax.plot(pass_gng[pass_gng.atom_type == atom]['max_spin'],\n",
    "            pass_gng[pass_gng.atom_type == atom]['buried_vol'], '.', ms=1, label='Pass GNG')\n",
    "    \n",
    "    ax.set_title(atom)\n",
    "    \n",
    "axs[1].set_xlabel('Max Fractional Spin')\n",
    "axs[0].set_ylabel('Buried volume\\nat max spin')\n",
    "\n",
    "axs[-1].legend(loc='upper left', fontsize=12, markerscale=2)\n",
    "sns.despine()    "
   ]
  },
  {
   "cell_type": "code",
   "execution_count": null,
   "metadata": {},
   "outputs": [],
   "source": [
    "from matplotlib.patches import Polygon\n",
    "\n",
    "fig = plt.figure(figsize=(4,4))\n",
    "ax = fig.add_subplot(111, aspect='equal')\n",
    "\n",
    "ax.plot(rew_df['ea'], rew_df['ie'], '.', ms=1, alpha=.1)\n",
    "ax.plot(pass_gng['ea'], pass_gng['ie'], '.', ms=1, color='g')\n",
    "\n",
    "ax.add_patch(Polygon(np.array([(-.5, 1.2), (-.5, 0.5), (.2, 1.2)]), facecolor='none', zorder=5, edgecolor='r', lw=3, ls='--'))\n",
    "ax.set_xlim([-1.5, 1.5])\n",
    "ax.set_ylim([-1, 2])\n",
    "\n",
    "ax.axvspan(-.5, .2, facecolor='.8', edgecolor='none')\n",
    "ax.axhspan(.5, 1.2, facecolor='.8', edgecolor='none')\n",
    "\n",
    "ax.set_xlabel(r'$E_{1/2}^o$, EA (V)')\n",
    "ax.set_ylabel(r'$E_{1/2}^o$, IE (V)')"
   ]
  },
  {
   "cell_type": "code",
   "execution_count": null,
   "metadata": {},
   "outputs": [],
   "source": [
    "fig = plt.figure(figsize=(4,4))\n",
    "ax = fig.add_subplot(111)\n",
    "\n",
    "sns.kdeplot(rew_df.bde, label='All radicals')\n",
    "sns.kdeplot(pass_gng.bde, label='Pass GNG', color='g')\n",
    "plt.xlabel('BDE')\n",
    "plt.ylabel('Frequency')"
   ]
  },
  {
   "cell_type": "code",
   "execution_count": null,
   "metadata": {},
   "outputs": [],
   "source": [
    "df = rew_df[~rew_df.index.isin(pass_gng.index)].sort_values('real_reward', ascending=False)"
   ]
  },
  {
   "cell_type": "code",
   "execution_count": null,
   "metadata": {},
   "outputs": [],
   "source": [
    "pass_gng.sample(10)"
   ]
  },
  {
   "cell_type": "code",
   "execution_count": null,
   "metadata": {},
   "outputs": [],
   "source": [
    "rew_df[rew_df.real_reward > 200]"
   ]
  },
  {
   "cell_type": "code",
   "execution_count": null,
   "metadata": {},
   "outputs": [],
   "source": [
    "rew_df.real_reward.max()"
   ]
  },
  {
   "cell_type": "code",
   "execution_count": null,
   "metadata": {},
   "outputs": [],
   "source": [
    "plt.hist(rew_df.ie - rew_df.ea, bins=20)"
   ]
  },
  {
   "cell_type": "code",
   "execution_count": null,
   "metadata": {},
   "outputs": [],
   "source": [
    "fig = plt.figure(figsize=(4,4))\n",
    "ax = fig.add_subplot(111)\n",
    "\n",
    "plt.hist(rew_df.real_reward, label='All radicals', range=(0, 225))\n",
    "plt.hist(pass_gng.real_reward, label='Pass GNG', color='g', range=(0, 225))\n",
    "plt.xlabel('Reward')\n",
    "plt.ylabel('Frequency')"
   ]
  },
  {
   "cell_type": "code",
   "execution_count": null,
   "metadata": {},
   "outputs": [],
   "source": [
    "import tensorflow as tf\n",
    "gpus = tf.config.experimental.list_physical_devices('GPU')\n",
    "if gpus:\n",
    "    # Currently, memory growth needs to be the same across GPUs\n",
    "    for gpu in gpus:\n",
    "        tf.config.experimental.set_memory_growth(gpu, True)\n",
    "import nfp"
   ]
  },
  {
   "cell_type": "code",
   "execution_count": null,
   "metadata": {},
   "outputs": [],
   "source": [
    "from reward import predict, stability_model\n",
    "from alphazero.node import Node\n",
    "\n",
    "def pred_spins(mol):\n",
    "    spins, _ = predict(stability_model, \n",
    "        {key: tf.constant(np.expand_dims(val, 0))\n",
    "         for key, val in Node(mol).policy_inputs.items()})\n",
    "    \n",
    "    return spins.numpy().flatten()"
   ]
  },
  {
   "cell_type": "code",
   "execution_count": null,
   "metadata": {},
   "outputs": [],
   "source": [
    "# Load the game buffer\n",
    "with psycopg2.connect(**config.dbparams) as conn:\n",
    "    df = pd.read_sql_query(\"select * from {}_game where experiment_id = %s\".format(\n",
    "        config.sql_basename), conn, params=(config.experiment_id,))\n",
    "    \n",
    "# Load the policy training history\n",
    "try:\n",
    "    log = pd.read_csv(os.path.join(config.checkpoint_filepath, 'log.csv'))\n",
    "    log['time'] = pd.to_datetime(log.time)\n",
    "except Exception:\n",
    "    log = None\n",
    "\n",
    "df['time_hours'] = (df.time - df.time.min()).apply(lambda x: x.total_seconds() / 3600)\n",
    "\n",
    "if log is not None:\n",
    "    log['time_hours'] = (log.time - df.time.min()).apply(lambda x: x.total_seconds() / 3600)\n",
    "\n",
    "df = df.sort_values('time_hours')\n",
    "\n",
    "fig, axs = plt.subplots(sharex=True, nrows=2, figsize=(2.75, 2.5), dpi=150)\n",
    "\n",
    "axs[0].plot(df.time_hours, df.real_reward, '.', ms=.75, label='games')\n",
    "axs[0].plot(df.time_hours, df.real_reward.rolling(250, min_periods=50).quantile(.75), label='$r_{75}$')\n",
    "\n",
    "if log is not None:\n",
    "    axs[1].plot(log.time_hours, log.policy_wrapper_loss, label='value loss')\n",
    "    axs[1].plot(log.time_hours, log.policy_wrapper_1_loss, label='prior loss')\n",
    "\n",
    "axs[0].legend(loc='upper right', ncol=2, borderpad=0, borderaxespad=0.3, bbox_to_anchor=(1., 1.1), markerscale=10)\n",
    "axs[1].legend(ncol=2, borderpad=0, borderaxespad=0.3)\n",
    "\n",
    "axs[0].set_ylim([0, 250])\n",
    "\n",
    "axs[0].set_ylabel('Reward')\n",
    "axs[1].set_ylabel('Policy Training')\n",
    "axs[1].set_xlabel('Time (hours)')\n",
    "\n",
    "axs[1].set_ylim([0, .7])\n",
    "axs[1].set_xlim([-.01, 4])\n",
    "\n",
    "plt.tight_layout()\n",
    "sns.despine(offset=5, trim=True)\n",
    "# plt.savefig('20210204_policy_loss.svg')"
   ]
  },
  {
   "cell_type": "code",
   "execution_count": null,
   "metadata": {},
   "outputs": [],
   "source": [
    "with psycopg2.connect(**config.dbparams) as conn:\n",
    "    experiment_ids = pd.read_sql_query(\"select distinct experiment_id from {}_game\".format(config.sql_basename), conn)\n",
    "    \n",
    "experiment_ids"
   ]
  },
  {
   "cell_type": "code",
   "execution_count": null,
   "metadata": {},
   "outputs": [],
   "source": [
    "# Load the reward buffer to plot the optimal molecules\n",
    "with psycopg2.connect(**config.dbparams) as conn:\n",
    "    rew_df = pd.read_sql_query(\"select * from {}_reward\".format(config.sql_basename), conn)\n",
    "\n",
    "rew_df.shape"
   ]
  },
  {
   "cell_type": "code",
   "execution_count": null,
   "metadata": {},
   "outputs": [],
   "source": [
    "rew_df.sort_values('real_reward', ascending=False).head(20)"
   ]
  },
  {
   "cell_type": "code",
   "execution_count": null,
   "metadata": {},
   "outputs": [],
   "source": [
    "stable_df = pd.read_csv('/home/pstjohn/Research/20200608_redox_calculations/stable_radicals/spin-charges-bur-vol-stable-radicals-all-atoms-with-smi.csv')\n",
    "\n",
    "stable_df_noH = stable_df[~stable_df['atom-sym-idx'].str.startswith('H')]\n",
    "stable_df['fractional_spin'] = stable_df_noH.groupby('File')['spin-density'].transform(lambda x: x.abs() / x.abs().sum())\n",
    "\n",
    "stable_idx_max_spin = stable_df.groupby('File').fractional_spin.idxmax()\n",
    "stable_max_spin = stable_df.loc[stable_idx_max_spin]"
   ]
  },
  {
   "cell_type": "code",
   "execution_count": null,
   "metadata": {},
   "outputs": [],
   "source": [
    "from rdkit import Chem"
   ]
  },
  {
   "cell_type": "code",
   "execution_count": null,
   "metadata": {},
   "outputs": [],
   "source": [
    "stable_df['smiles'] = stable_df.Smiles.apply(lambda x: Chem.MolToSmiles(Chem.MolFromSmiles(x)))"
   ]
  },
  {
   "cell_type": "code",
   "execution_count": null,
   "metadata": {},
   "outputs": [],
   "source": [
    "rew_df[rew_df.smiles.isin(stable_df.smiles)]"
   ]
  },
  {
   "cell_type": "code",
   "execution_count": null,
   "metadata": {},
   "outputs": [],
   "source": [
    "pass_gng = rew_df[(rew_df.bde < 80) & (rew_df.bde > 60) &\n",
    "                  (rew_df.ie < 1.2) & (rew_df.ea > -.5) &\n",
    "                  ((rew_df.ie - rew_df.ea) > 1) &\n",
    "                  ((rew_df.buried_vol + 50 * (1 - rew_df.max_spin)) > 100.)]"
   ]
  },
  {
   "cell_type": "code",
   "execution_count": null,
   "metadata": {},
   "outputs": [],
   "source": [
    "pass_gng.shape"
   ]
  },
  {
   "cell_type": "code",
   "execution_count": null,
   "metadata": {},
   "outputs": [],
   "source": [
    "pass_gng.to_csv('20210109_gng_radicals.csv.gz', compression='gzip')"
   ]
  },
  {
   "cell_type": "code",
   "execution_count": null,
   "metadata": {},
   "outputs": [],
   "source": [
    "from reward import redox_model, predict"
   ]
  },
  {
   "cell_type": "code",
   "execution_count": null,
   "metadata": {},
   "outputs": [],
   "source": [
    "from alphazero.node import Node"
   ]
  },
  {
   "cell_type": "code",
   "execution_count": null,
   "metadata": {},
   "outputs": [],
   "source": [
    "import tensorflow as tf"
   ]
  },
  {
   "cell_type": "code",
   "execution_count": null,
   "metadata": {},
   "outputs": [],
   "source": [
    "def pred_redox(smiles):\n",
    "    return predict(redox_model,\n",
    "        {key: tf.constant(np.expand_dims(val, 0))\n",
    "         for key, val in Node(rdkit.Chem.MolFromSmiles(smiles)).policy_inputs.items()}).numpy().flatten()"
   ]
  },
  {
   "cell_type": "code",
   "execution_count": null,
   "metadata": {},
   "outputs": [],
   "source": [
    "from tqdm import tqdm\n",
    "tqdm.pandas()"
   ]
  },
  {
   "cell_type": "code",
   "execution_count": null,
   "metadata": {},
   "outputs": [],
   "source": [
    "redox = pass_gng.smiles.progress_apply(pred_redox)"
   ]
  },
  {
   "cell_type": "code",
   "execution_count": null,
   "metadata": {},
   "outputs": [],
   "source": [
    "plt.plot(np.vstack(redox.values)[:, 0], pass_gng.ie, '.')"
   ]
  },
  {
   "cell_type": "code",
   "execution_count": null,
   "metadata": {},
   "outputs": [],
   "source": [
    "(pass_gng.ie - np.vstack(redox.values)[:, 0]).abs().mean()"
   ]
  },
  {
   "cell_type": "code",
   "execution_count": null,
   "metadata": {},
   "outputs": [],
   "source": [
    "Node(rdkit.Chem.MolFromSmiles('CC(=S)C1=C(C)[CH]CCC1(C)C')).policy_inputs"
   ]
  },
  {
   "cell_type": "code",
   "execution_count": null,
   "metadata": {},
   "outputs": [],
   "source": []
  },
  {
   "cell_type": "code",
   "execution_count": null,
   "metadata": {},
   "outputs": [],
   "source": [
    "fig, axs = plt.subplots(nrows=1, ncols=4, figsize=(13, 3), sharex=True, sharey=True)\n",
    "\n",
    "optimal = []\n",
    "for ax, atom in zip(axs, ['C', 'N', 'O', 'S']):\n",
    "    \n",
    "    ax.plot(rew_df[rew_df.atom_type == atom]['max_spin'],\n",
    "            rew_df[rew_df.atom_type == atom]['buried_vol'], '.', ms=1, alpha=.1, label='All radicals')\n",
    "    \n",
    "    ax.plot(stable_max_spin[stable_max_spin['atom-sym'] == atom]['fractional_spin'],\n",
    "            stable_max_spin[stable_max_spin['atom-sym'] == atom]['bur-vol'],\n",
    "            '.', label='Experimentally stable')\n",
    "    \n",
    "    ax.plot(pass_gng[pass_gng.atom_type == atom]['max_spin'],\n",
    "            pass_gng[pass_gng.atom_type == atom]['buried_vol'], '.', ms=1, label='Pass GNG')\n",
    "    \n",
    "    ax.set_title(atom)\n",
    "    \n",
    "axs[1].set_xlabel('Max Fractional Spin')\n",
    "axs[0].set_ylabel('Buried volume\\nat max spin')\n",
    "\n",
    "axs[-1].legend(loc='upper left', fontsize=12, markerscale=2)\n",
    "sns.despine()    "
   ]
  },
  {
   "cell_type": "code",
   "execution_count": null,
   "metadata": {},
   "outputs": [],
   "source": [
    "from matplotlib.patches import Polygon\n",
    "\n",
    "fig = plt.figure(figsize=(4,4))\n",
    "ax = fig.add_subplot(111, aspect='equal')\n",
    "\n",
    "ax.plot(rew_df['ea'], rew_df['ie'], '.', ms=1, alpha=.1)\n",
    "ax.plot(pass_gng['ea'], pass_gng['ie'], '.', ms=1, color='g')\n",
    "\n",
    "ax.add_patch(Polygon(np.array([(-.5, 1.2), (-.5, 0.5), (.2, 1.2)]), facecolor='none', zorder=5, edgecolor='r', lw=3, ls='--'))\n",
    "ax.set_xlim([-1.5, 1.5])\n",
    "ax.set_ylim([-1, 2])\n",
    "\n",
    "ax.axvspan(-.5, .2, facecolor='.8', edgecolor='none')\n",
    "ax.axhspan(.5, 1.2, facecolor='.8', edgecolor='none')\n",
    "\n",
    "ax.set_xlabel(r'$E_{1/2}^o$, EA (V)')\n",
    "ax.set_ylabel(r'$E_{1/2}^o$, IE (V)')"
   ]
  },
  {
   "cell_type": "code",
   "execution_count": null,
   "metadata": {},
   "outputs": [],
   "source": [
    "fig = plt.figure(figsize=(4,4))\n",
    "ax = fig.add_subplot(111)\n",
    "\n",
    "sns.kdeplot(rew_df.bde, label='All radicals')\n",
    "sns.kdeplot(pass_gng.bde, label='Pass GNG', color='g')\n",
    "plt.xlabel('BDE')\n",
    "plt.ylabel('Frequency')"
   ]
  },
  {
   "cell_type": "code",
   "execution_count": null,
   "metadata": {},
   "outputs": [],
   "source": [
    "df = rew_df[~rew_df.index.isin(pass_gng.index)].sort_values('real_reward', ascending=False)"
   ]
  },
  {
   "cell_type": "code",
   "execution_count": null,
   "metadata": {},
   "outputs": [],
   "source": [
    "pass_gng.sample(10)"
   ]
  },
  {
   "cell_type": "code",
   "execution_count": null,
   "metadata": {},
   "outputs": [],
   "source": [
    "rew_df[rew_df.real_reward > 200]"
   ]
  },
  {
   "cell_type": "code",
   "execution_count": null,
   "metadata": {},
   "outputs": [],
   "source": [
    "rew_df.real_reward.max()"
   ]
  },
  {
   "cell_type": "code",
   "execution_count": null,
   "metadata": {},
   "outputs": [],
   "source": [
    "plt.hist(rew_df.ie - rew_df.ea, bins=20)"
   ]
  },
  {
   "cell_type": "code",
   "execution_count": null,
   "metadata": {},
   "outputs": [],
   "source": [
    "fig = plt.figure(figsize=(4,4))\n",
    "ax = fig.add_subplot(111)\n",
    "\n",
    "plt.hist(rew_df.real_reward, label='All radicals', range=(0, 225))\n",
    "plt.hist(pass_gng.real_reward, label='Pass GNG', color='g', range=(0, 225))\n",
    "plt.xlabel('Reward')\n",
    "plt.ylabel('Frequency')"
   ]
  },
  {
   "cell_type": "code",
   "execution_count": null,
   "metadata": {},
   "outputs": [],
   "source": [
    "import tensorflow as tf\n",
    "gpus = tf.config.experimental.list_physical_devices('GPU')\n",
    "if gpus:\n",
    "    # Currently, memory growth needs to be the same across GPUs\n",
    "    for gpu in gpus:\n",
    "        tf.config.experimental.set_memory_growth(gpu, True)\n",
    "import nfp"
   ]
  },
  {
   "cell_type": "code",
   "execution_count": null,
   "metadata": {},
   "outputs": [],
   "source": [
    "from reward import predict, stability_model\n",
    "from alphazero.node import Node\n",
    "\n",
    "def pred_spins(mol):\n",
    "    spins, _ = predict(stability_model, \n",
    "        {key: tf.constant(np.expand_dims(val, 0))\n",
    "         for key, val in Node(mol).policy_inputs.items()})\n",
    "    \n",
    "    return spins.numpy().flatten()"
   ]
  },
  {
   "cell_type": "code",
   "execution_count": null,
   "metadata": {},
   "outputs": [],
   "source": [
    "# Code for raster image drawing\n",
    "import rdkit\n",
    "\n",
    "from rdkit import Chem\n",
    "from rdkit.Chem import Draw\n",
    "from rdkit.Chem.Draw import rdMolDraw2D\n",
    "from rdkit.Chem.Draw import SimilarityMaps\n",
    "from rdkit.Chem import rdDepictor\n",
    "from IPython.display import SVG"
   ]
  },
  {
   "cell_type": "code",
   "execution_count": null,
   "metadata": {},
   "outputs": [],
   "source": [
    "row = pass_gng.sample(1, random_state=5).iloc[0]\n",
    "mol = Chem.MolFromSmiles(row.smiles)\n",
    "\n",
    "d = rdMolDraw2D.MolDraw2DSVG(400, 400)\n",
    "SimilarityMaps.GetSimilarityMapFromWeights(mol, [float(i) for i in pred_spins(mol)], draw2d=d)\n",
    "d.FinishDrawing()\n",
    "SVG(d.GetDrawingText())"
   ]
  }
 ],
 "metadata": {
  "kernelspec": {
   "display_name": "Python 3",
   "language": "python",
   "name": "python3"
  },
  "language_info": {
   "codemirror_mode": {
    "name": "ipython",
    "version": 3
   },
   "file_extension": ".py",
   "mimetype": "text/x-python",
   "name": "python",
   "nbconvert_exporter": "python",
   "pygments_lexer": "ipython3",
   "version": "3.8.10"
  }
 },
 "nbformat": 4,
 "nbformat_minor": 4
}
