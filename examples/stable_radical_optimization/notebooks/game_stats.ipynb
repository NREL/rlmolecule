{
 "cells": [
  {
   "cell_type": "code",
   "execution_count": 1,
   "id": "0a82b2a1-a81b-4ea2-aa8e-cdd2a2076d7a",
   "metadata": {},
   "outputs": [],
   "source": [
    "import os\n",
    "import sys\n",
    "import numpy as np\n",
    "import sqlalchemy\n",
    "import pandas as pd"
   ]
  },
  {
   "cell_type": "code",
   "execution_count": 3,
   "id": "0235b18d-56ed-46eb-956e-85d504eda712",
   "metadata": {},
   "outputs": [
    {
     "data": {
      "text/plain": [
       "'stable_rad_c_tautomers_fp3'"
      ]
     },
     "execution_count": 3,
     "metadata": {},
     "output_type": "execute_result"
    }
   ],
   "source": [
    "# run_id = 'stable_radical_optimization'\n",
    "from rlmolecule.sql.run_config import RunConfig\n",
    "run_config = RunConfig('../config/config_eagle_c.yaml')\n",
    "run_config.run_id"
   ]
  },
  {
   "cell_type": "code",
   "execution_count": 4,
   "id": "b7d299b7-7735-4150-bf4c-f432ed9ea238",
   "metadata": {},
   "outputs": [],
   "source": [
    "# load the games played\n",
    "from rlmolecule.sql import Base, Session\n",
    "from rlmolecule.sql.tables import GameStore, RewardStore, StateStore\n",
    "\n",
    "engine = run_config.start_engine()\n",
    "Session.configure(bind=engine)\n",
    "session = Session()\n",
    "df = pd.read_sql(session.query(GameStore).filter_by(run_id=run_config.run_id).statement, session.bind)\n",
    "\n",
    "df['time_hours'] = (df.time - df.time.min()).apply(lambda x: x.total_seconds() / 3600)\n",
    "df = df.sort_values('time_hours')\n",
    "df_games = df\n",
    "df_games.reset_index(drop=True, inplace=True)"
   ]
  },
  {
   "cell_type": "code",
   "execution_count": 9,
   "id": "f9dfeaae-07d0-4fb3-ba12-58cf136b85d0",
   "metadata": {},
   "outputs": [
    {
     "data": {
      "text/plain": [
       "{'total_time': 19.27784776687622,\n",
       " 'execution_time': {'get_next_actions': 4.940343141555786,\n",
       "  'get_value_and_policy': 3.825676441192627,\n",
       "  '_evaluate': 18.759615421295166,\n",
       "  'calc_reward': 5.666017293930054,\n",
       "  'maybe_store_state': 0.4315977096557617},\n",
       " 'execution_count': {'get_next_actions': 267,\n",
       "  'get_value_and_policy': 192,\n",
       "  '_evaluate': 750,\n",
       "  'calc_reward': 21,\n",
       "  'maybe_store_state': 20}}"
      ]
     },
     "execution_count": 9,
     "metadata": {},
     "output_type": "execute_result"
    }
   ],
   "source": [
    "df_games.iloc[0].execution_statistics"
   ]
  },
  {
   "cell_type": "code",
   "execution_count": null,
   "id": "4c159f0b-f7ad-4bbf-9c20-42402f53ef6c",
   "metadata": {},
   "outputs": [],
   "source": []
  }
 ],
 "metadata": {
  "kernelspec": {
   "display_name": "Python 3",
   "language": "python",
   "name": "python3"
  },
  "language_info": {
   "codemirror_mode": {
    "name": "ipython",
    "version": 3
   },
   "file_extension": ".py",
   "mimetype": "text/x-python",
   "name": "python",
   "nbconvert_exporter": "python",
   "pygments_lexer": "ipython3",
   "version": "3.8.10"
  }
 },
 "nbformat": 4,
 "nbformat_minor": 5
}
