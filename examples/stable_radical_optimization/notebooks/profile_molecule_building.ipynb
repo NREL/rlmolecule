{
 "cells": [
  {
   "cell_type": "code",
   "execution_count": 1,
   "id": "ec49e638-4ec9-497d-8b11-39b38fc162bc",
   "metadata": {},
   "outputs": [],
   "source": [
    "import numpy as np\n",
    "import pandas as pd\n",
    "\n",
    "import matplotlib.pyplot as plt\n",
    "import seaborn as sns\n",
    "sns.set(\n",
    "    context=\"talk\",\n",
    "    style='ticks',\n",
    "    color_codes=True,\n",
    "    rc={'legend.frameon': False})\n",
    "\n",
    "plt.rcParams['svg.fonttype'] = 'none'\n",
    "\n",
    "%matplotlib inline"
   ]
  },
  {
   "cell_type": "code",
   "execution_count": 21,
   "id": "b2f78d4c-f1ae-4d93-ac80-3163a1638be0",
   "metadata": {},
   "outputs": [],
   "source": [
    "import sys\n",
    "sys.path.append('..')\n",
    "\n",
    "from rlmolecule.sql.run_config import RunConfig\n",
    "run_config = RunConfig('../config/config_eagle_c.yaml')"
   ]
  },
  {
   "cell_type": "code",
   "execution_count": 4,
   "id": "0fc3dd51-f0ef-4d5c-800b-0730c0ea05b1",
   "metadata": {},
   "outputs": [
    {
     "data": {
      "text/plain": [
       "[N[C@@H]1CS1,\n",
       " N[C@H]1CS1,\n",
       " CN[C@H](C)S,\n",
       " CN[C@@H](C)S,\n",
       " [CH2]C(N)S (t),\n",
       " C[C](N)S (t),\n",
       " CC([NH])S (t),\n",
       " CC(N)[S] (t)]"
      ]
     },
     "execution_count": 4,
     "metadata": {},
     "output_type": "execute_result"
    }
   ],
   "source": [
    "import rdkit\n",
    "from examples.stable_radical_optimization.stable_radical_molecule_state import MoleculeBuilderWithFingerprint, StableRadMoleculeState\n",
    "#  from rlmolecule.molecule.molecule_state import MoleculeState\n",
    "\n",
    "prob_config = run_config.problem_config\n",
    "    \n",
    "builder = MoleculeBuilderWithFingerprint(\n",
    "    max_atoms=prob_config.get('max_atoms', 15),\n",
    "    min_atoms=prob_config.get('min_atoms', 4),\n",
    "    try_embedding=prob_config.get('try_embedding', True),\n",
    "    sa_score_threshold=prob_config.get('sa_score_threshold', 3.5),\n",
    "    stereoisomers=prob_config.get('stereoisomers', True),\n",
    "    canonicalize_tautomers=prob_config.get('canonicalize_tautomers', True),\n",
    "    atom_additions=prob_config.get('atom_additions', ('C', 'N', 'O', 'S')),\n",
    "    cache_dir=None,\n",
    "    num_shards=prob_config.get('num_shards', 1),\n",
    "    parallel=False)\n",
    "\n",
    "state = StableRadMoleculeState(rdkit.Chem.MolFromSmiles('CC(N)S'), builder=builder)\n",
    "state.get_next_actions()"
   ]
  },
  {
   "cell_type": "code",
   "execution_count": 5,
   "id": "9e5cfee9-e6f3-4572-a755-af3f5fac40c8",
   "metadata": {},
   "outputs": [],
   "source": [
    "from time import time"
   ]
  },
  {
   "cell_type": "code",
   "execution_count": 22,
   "id": "4ac003a2-359e-48c7-8134-de27ab34ef0c",
   "metadata": {},
   "outputs": [
    {
     "data": {
      "text/plain": [
       "False"
      ]
     },
     "execution_count": 22,
     "metadata": {},
     "output_type": "execute_result"
    }
   ],
   "source": [
    "prob_config.get('try_embedding', True)"
   ]
  },
  {
   "cell_type": "code",
   "execution_count": 6,
   "id": "5d591ed2-d1e2-4422-8609-1e355c51d846",
   "metadata": {},
   "outputs": [],
   "source": [
    "import os, sys\n",
    "import rdkit\n",
    "from examples.stable_radical_optimization.stable_radical_molecule_state import MoleculeBuilderWithFingerprint, StableRadMoleculeState\n",
    "#  from rlmolecule.molecule.molecule_state import MoleculeState\n",
    "\n",
    "prob_config = run_config.problem_config\n",
    "\n",
    "max_atoms = 4\n",
    "\n",
    "class HiddenPrints:\n",
    "    def __enter__(self):\n",
    "        self._original_stdout = sys.stdout\n",
    "        sys.stdout = open(os.devnull, 'w')\n",
    "\n",
    "    def __exit__(self, exc_type, exc_val, exc_tb):\n",
    "        sys.stdout.close()\n",
    "        sys.stdout = self._original_stdout\n",
    "\n",
    "\n",
    "def get_search_space(max_atoms):\n",
    "\n",
    "    builder = MoleculeBuilderWithFingerprint(\n",
    "        max_atoms=max_atoms,\n",
    "        min_atoms=min(4, max_atoms),\n",
    "        try_embedding=prob_config.get('try_embedding', True),\n",
    "        sa_score_threshold=prob_config.get('sa_score_threshold', 3.5),\n",
    "        stereoisomers=prob_config.get('stereoisomers', True),\n",
    "        canonicalize_tautomers=prob_config.get('canonicalize_tautomers', True),\n",
    "        atom_additions=prob_config.get('atom_additions', ('C', 'N', 'O', 'S')),\n",
    "        cache_dir=None,\n",
    "        num_shards=prob_config.get('num_shards', 1),\n",
    "        parallel=False)\n",
    "\n",
    "    start = StableRadMoleculeState(rdkit.Chem.MolFromSmiles('C'), builder=builder)\n",
    "\n",
    "    visited = set()\n",
    "\n",
    "    def dfs(visted, state):\n",
    "        if not state.forced_terminal:\n",
    "            for child in state.get_next_actions():\n",
    "                if child not in visited:\n",
    "                    visited.add(child)\n",
    "                    yield child\n",
    "                    yield from dfs(visited, child)\n",
    "                    \n",
    "    start_time = time()\n",
    "    with HiddenPrints():\n",
    "        size = len(set(dfs(visited, start)))\n",
    "\n",
    "    return size, time() - start_time"
   ]
  },
  {
   "cell_type": "code",
   "execution_count": 7,
   "id": "28f36c6c-1cb3-4752-aa5d-b9f0a293f186",
   "metadata": {},
   "outputs": [],
   "source": [
    "# from itertools import islice\n",
    "# from tqdm.auto import tqdm\n",
    "# import random\n",
    "\n",
    "# shuffled = lambda x: sorted(x, key=lambda k: random.random())\n",
    "\n",
    "# max_atoms = 12\n",
    "\n",
    "# builder = MoleculeBuilderWithFingerprint(\n",
    "#     max_atoms=max_atoms,\n",
    "#     min_atoms=min(4, max_atoms),\n",
    "#     try_embedding=prob_config.get('try_embedding', True),\n",
    "#     sa_score_threshold=prob_config.get('sa_score_threshold', 3.5),\n",
    "#     stereoisomers=prob_config.get('stereoisomers', True),\n",
    "#     canonicalize_tautomers=prob_config.get('canonicalize_tautomers', True),\n",
    "#     atom_additions=prob_config.get('atom_additions', ('C', 'N', 'O', 'S')),\n",
    "#     cache_dir=None,\n",
    "#     num_shards=prob_config.get('num_shards', 1),\n",
    "#     parallel=True)\n",
    "\n",
    "# start = StableRadMoleculeState(rdkit.Chem.MolFromSmiles('C'), builder=builder)\n",
    "\n",
    "# visited = set()\n",
    "\n",
    "# def dfs(visted, state):\n",
    "#     if not state.forced_terminal:\n",
    "#         for child in state.get_next_actions():\n",
    "#             if child not in visited:\n",
    "#                 visited.add(child)\n",
    "#                 yield child\n",
    "#                 yield from dfs(visited, child)\n",
    "\n",
    "# start_time = time()\n",
    "# with HiddenPrints():\n",
    "#     pbar = tqdm(enumerate(dfs(visited, start)))\n",
    "#     for i, state in pbar:\n",
    "#         if (i % 10 == 0) & (i > 0):\n",
    "#             pbar.set_description(f'total = {i}, tps = {(time() - start_time) / i}')\n"
   ]
  },
  {
   "cell_type": "code",
   "execution_count": 20,
   "id": "e94aed8e-3500-4532-a7c9-30bcf5dfe5bc",
   "metadata": {},
   "outputs": [
    {
     "data": {
      "text/plain": [
       "False"
      ]
     },
     "execution_count": 20,
     "metadata": {},
     "output_type": "execute_result"
    }
   ],
   "source": [
    "prob_config.get('try_embedding', True)"
   ]
  },
  {
   "cell_type": "code",
   "execution_count": 8,
   "id": "73c409bd-86c2-43d6-907a-82e5f6d6bf33",
   "metadata": {},
   "outputs": [],
   "source": [
    "from tqdm.auto import tqdm"
   ]
  },
  {
   "cell_type": "code",
   "execution_count": null,
   "id": "a81b9aa1-6695-45f4-b853-a16568346734",
   "metadata": {},
   "outputs": [
    {
     "data": {
      "application/vnd.jupyter.widget-view+json": {
       "model_id": "6795066893f4414bad4509dd427c4f77",
       "version_major": 2,
       "version_minor": 0
      },
      "text/plain": [
       "  0%|          | 0/8 [00:00<?, ?it/s]"
      ]
     },
     "metadata": {},
     "output_type": "display_data"
    },
    {
     "name": "stdout",
     "output_type": "stream",
     "text": [
      "(1, 0.0005691051483154297)\n",
      "(8, 0.012215852737426758)\n"
     ]
    },
    {
     "name": "stderr",
     "output_type": "stream",
     "text": [
      "RDKit ERROR: [14:47:59] Explicit valence for atom # 1 C, 5, is greater than permitted\n",
      "RDKit ERROR: [14:47:59] Explicit valence for atom # 1 C, 5, is greater than permitted\n",
      "RDKit ERROR: [14:47:59] Explicit valence for atom # 1 C, 5, is greater than permitted\n",
      "RDKit ERROR: [14:47:59] Explicit valence for atom # 1 C, 5, is greater than permitted\n"
     ]
    },
    {
     "name": "stdout",
     "output_type": "stream",
     "text": [
      "(108, 0.19858813285827637)\n"
     ]
    },
    {
     "name": "stderr",
     "output_type": "stream",
     "text": [
      "RDKit ERROR: [14:48:01] Explicit valence for atom # 1 C, 5, is greater than permitted\n",
      "RDKit ERROR: [14:48:01] Explicit valence for atom # 1 C, 5, is greater than permitted\n",
      "RDKit ERROR: [14:48:01] Explicit valence for atom # 1 C, 5, is greater than permitted\n",
      "RDKit ERROR: [14:48:01] Explicit valence for atom # 1 C, 5, is greater than permitted\n"
     ]
    },
    {
     "name": "stdout",
     "output_type": "stream",
     "text": [
      "(694, 1.7418138980865479)\n"
     ]
    },
    {
     "name": "stderr",
     "output_type": "stream",
     "text": [
      "RDKit ERROR: [14:48:11] Explicit valence for atom # 1 C, 5, is greater than permitted\n",
      "RDKit ERROR: [14:48:11] Explicit valence for atom # 1 C, 5, is greater than permitted\n",
      "RDKit ERROR: [14:48:11] Explicit valence for atom # 1 C, 5, is greater than permitted\n",
      "RDKit ERROR: [14:48:11] Explicit valence for atom # 1 C, 5, is greater than permitted\n"
     ]
    },
    {
     "name": "stdout",
     "output_type": "stream",
     "text": [
      "(3915, 11.330543994903564)\n"
     ]
    },
    {
     "name": "stderr",
     "output_type": "stream",
     "text": [
      "RDKit ERROR: [14:49:17] Explicit valence for atom # 1 C, 5, is greater than permitted\n",
      "RDKit ERROR: [14:49:17] Explicit valence for atom # 1 C, 5, is greater than permitted\n",
      "RDKit ERROR: [14:49:17] Explicit valence for atom # 1 C, 5, is greater than permitted\n",
      "RDKit ERROR: [14:49:17] Explicit valence for atom # 1 C, 5, is greater than permitted\n"
     ]
    },
    {
     "name": "stdout",
     "output_type": "stream",
     "text": [
      "(20935, 66.42955875396729)\n"
     ]
    },
    {
     "name": "stderr",
     "output_type": "stream",
     "text": [
      "RDKit ERROR: [14:56:12] Explicit valence for atom # 1 C, 5, is greater than permitted\n",
      "RDKit ERROR: [14:56:12] Explicit valence for atom # 1 C, 5, is greater than permitted\n",
      "RDKit ERROR: [14:56:12] Explicit valence for atom # 1 C, 5, is greater than permitted\n",
      "RDKit ERROR: [14:56:12] Explicit valence for atom # 1 C, 5, is greater than permitted\n"
     ]
    },
    {
     "name": "stdout",
     "output_type": "stream",
     "text": [
      "(117577, 417.0220468044281)\n"
     ]
    }
   ],
   "source": [
    "results = []\n",
    "for i in tqdm(np.arange(1, 9)):\n",
    "    results += [get_search_space(i)]\n",
    "    print(results[-1])"
   ]
  },
  {
   "cell_type": "code",
   "execution_count": 23,
   "id": "803a66aa-d5b9-4385-9de3-5496dda9c9fb",
   "metadata": {},
   "outputs": [
    {
     "data": {
      "text/plain": [
       "(706755, 2923.836696624756)"
      ]
     },
     "execution_count": 23,
     "metadata": {},
     "output_type": "execute_result"
    }
   ],
   "source": [
    "results[-1]"
   ]
  },
  {
   "cell_type": "code",
   "execution_count": 12,
   "id": "413d1638-b00f-4327-a348-2b3f14806067",
   "metadata": {},
   "outputs": [
    {
     "data": {
      "image/png": "[encoded data removed]",
      "text/plain": [
       "<Figure size 504x216 with 2 Axes>"
      ]
     },
     "metadata": {
      "needs_background": "light"
     },
     "output_type": "display_data"
    }
   ],
   "source": [
    "times = list([r[1] for r in results])\n",
    "# times[0] = 0.597\n",
    "# times[1] = 1.01\n",
    "# times[2] = 4.73\n",
    "\n",
    "fig, ax = plt.subplots(ncols=2, figsize=(7, 3), sharex=True)\n",
    "\n",
    "ax[0].semilogy(np.arange(2, 9), [r[0] for r in results[1:]], '.')\n",
    "ax[1].semilogy(np.arange(2, 9), times[1:], '.')\n",
    "\n",
    "ax[0].set_xticks(np.arange(2, 9))\n",
    "ax[1].set_ylabel('time (s)')\n",
    "ax[0].set_ylabel('number of molecules')\n",
    "ax[0].set_xlabel('maximum molecule size')\n",
    "ax[1].set_xlabel('maximum molecule size')\n",
    "\n",
    "plt.tight_layout()\n",
    "sns.despine()\n",
    "plt.savefig('20211207_results_to_8.svg')"
   ]
  },
  {
   "cell_type": "code",
   "execution_count": 13,
   "id": "973d028c-1c7b-4fa5-8da3-023d380d3aa5",
   "metadata": {},
   "outputs": [
    {
     "data": {
      "text/plain": [
       "array([0.00056911, 0.00152698, 0.00183878, 0.00250982, 0.00289414,\n",
       "       0.00317313, 0.0035468 , 0.00413699])"
      ]
     },
     "execution_count": 13,
     "metadata": {},
     "output_type": "execute_result"
    }
   ],
   "source": [
    "times / np.asarray([r[0] for r in results])"
   ]
  },
  {
   "cell_type": "code",
   "execution_count": 14,
   "id": "22c7c415-1b11-40aa-92cc-290bd30a28af",
   "metadata": {},
   "outputs": [],
   "source": [
    "from scipy.stats import linregress"
   ]
  },
  {
   "cell_type": "code",
   "execution_count": 33,
   "id": "ab8c6b9d-c402-4478-8903-84cc4982bf02",
   "metadata": {},
   "outputs": [
    {
     "data": {
      "text/plain": [
       "'3.258032e+11'"
      ]
     },
     "execution_count": 33,
     "metadata": {},
     "output_type": "execute_result"
    }
   ],
   "source": [
    "regression = linregress(np.arange(2, 9), [np.log(r[0]) for r in results[1:]])\n",
    "f\"{np.exp(regression.intercept + regression.slope * 15):e}\""
   ]
  },
  {
   "cell_type": "code",
   "execution_count": null,
   "id": "e21a5b8f-c6a5-4373-8be2-2ff303972eeb",
   "metadata": {},
   "outputs": [],
   "source": [
    "np.log(np.asarray(times[-4:]))"
   ]
  },
  {
   "cell_type": "code",
   "execution_count": 35,
   "id": "d1f1e353-82f4-487f-a7a6-0ca6cbdcc749",
   "metadata": {},
   "outputs": [
    {
     "data": {
      "text/plain": [
       "139.042039446584"
      ]
     },
     "execution_count": 35,
     "metadata": {},
     "output_type": "execute_result"
    }
   ],
   "source": [
    "regression = linregress(np.arange(2, 9), np.log(np.asarray(times[1:])))\n",
    "np.exp(regression.intercept + regression.slope * 15) / (365.25*24*60*60)"
   ]
  },
  {
   "cell_type": "code",
   "execution_count": null,
   "id": "d96890a9-3d6a-4fb4-b6ad-feb14750d9d1",
   "metadata": {},
   "outputs": [],
   "source": [
    "\n",
    "\n",
    "plt.errorbar(np.arange(1, 8), times, yerr=[.026, .036, .040, 0, 0, 0, 0], marker='.', elinewidth=1)\n",
    "plt.yscale('log')"
   ]
  },
  {
   "cell_type": "code",
   "execution_count": null,
   "id": "3203a58c-30be-4e05-9ff8-c23f1f541611",
   "metadata": {},
   "outputs": [],
   "source": [
    "%timeit get_search_space(1)"
   ]
  },
  {
   "cell_type": "code",
   "execution_count": null,
   "id": "21578ec6-3cfd-448f-8006-a46a55c01ceb",
   "metadata": {},
   "outputs": [],
   "source": [
    "%timeit get_search_space(2)"
   ]
  },
  {
   "cell_type": "code",
   "execution_count": null,
   "id": "156b8ee3-7793-4b30-94a9-2948a52a82e9",
   "metadata": {},
   "outputs": [],
   "source": [
    "%timeit get_search_space(3)"
   ]
  },
  {
   "cell_type": "code",
   "execution_count": null,
   "id": "687e74bb-08ee-4c53-9dd8-9b0cde6c2ac8",
   "metadata": {},
   "outputs": [],
   "source": [
    "len(get_search_space(1))results"
   ]
  },
  {
   "cell_type": "code",
   "execution_count": null,
   "id": "b9b28436-bf5c-4882-bece-57ab297ede47",
   "metadata": {},
   "outputs": [],
   "source": [
    "len(get_search_space(2))"
   ]
  },
  {
   "cell_type": "code",
   "execution_count": null,
   "id": "f3dbf3bf-530e-4d24-ae32-1846263eae9d",
   "metadata": {},
   "outputs": [],
   "source": [
    "len(get_search_space(3))"
   ]
  },
  {
   "cell_type": "code",
   "execution_count": null,
   "id": "a0596817-f237-4572-b504-ed034f015e2f",
   "metadata": {},
   "outputs": [],
   "source": [
    "len(get_search_space(4))"
   ]
  },
  {
   "cell_type": "code",
   "execution_count": null,
   "id": "a92f148c-2ac8-4273-9967-ff850caeb7b9",
   "metadata": {},
   "outputs": [],
   "source": [
    "len(get_search_space(5))"
   ]
  },
  {
   "cell_type": "code",
   "execution_count": null,
   "id": "949f79bd-82c5-42e7-bde4-43997d50c79e",
   "metadata": {},
   "outputs": [],
   "source": [
    "len(get_search_space(8))"
   ]
  },
  {
   "cell_type": "code",
   "execution_count": null,
   "id": "85e40832-7b8e-4892-9e5d-0e62bc7385c5",
   "metadata": {},
   "outputs": [],
   "source": [
    "# for i in range(8):\n",
    "#     search_space = get_search_space(i)\n",
    "#     print(f\"{i}: {len(search_space)}\", flush=True)"
   ]
  },
  {
   "cell_type": "code",
   "execution_count": null,
   "id": "298f4541-fedc-4080-a3f3-12175316eca5",
   "metadata": {},
   "outputs": [],
   "source": [
    "state.get_next_actions()[0].get_next_actions()"
   ]
  },
  {
   "cell_type": "code",
   "execution_count": null,
   "id": "5f1abe61-e389-431a-a084-1e94d3ac648e",
   "metadata": {},
   "outputs": [],
   "source": [
    "import sys\n",
    "sys.path.append('/home/pstjohn/Packages/bde/')\n",
    "from bde.fragment import enumerate_stereocenters"
   ]
  },
  {
   "cell_type": "code",
   "execution_count": null,
   "id": "fa00c11b-9a58-479c-bb55-2bc63f7194f3",
   "metadata": {},
   "outputs": [],
   "source": [
    "rdkit.__version__"
   ]
  },
  {
   "cell_type": "code",
   "execution_count": null,
   "id": "1d61d067-eedd-4406-97a0-ce69ed12198f",
   "metadata": {},
   "outputs": [],
   "source": [
    "from rdkit.Chem.EnumerateStereoisomers import EnumerateStereoisomers\n",
    "from rdkit.Chem.MolStandardize import rdMolStandardize\n",
    "tautomer_enumerator = rdMolStandardize.TautomerEnumerator()"
   ]
  },
  {
   "cell_type": "code",
   "execution_count": null,
   "id": "c4ddaf72-75e7-4953-b757-a69a5feee458",
   "metadata": {},
   "outputs": [],
   "source": [
    "mol = rdkit.Chem.MolFromSmiles('CC(N)(O)S')\n",
    "[rdkit.Chem.MolToSmiles(mol) for mol in EnumerateStereoisomers(mol)]"
   ]
  },
  {
   "cell_type": "code",
   "execution_count": null,
   "id": "edc8029e-caed-4c14-b730-aeb675c55348",
   "metadata": {},
   "outputs": [],
   "source": [
    "canonical_mol = tautomer_enumerator.Canonicalize(mol)\n",
    "rdkit.Chem.FindMolChiralCenters(canonical_mol, includeUnassigned=True)\n",
    "[rdkit.Chem.MolToSmiles(mol) for mol in EnumerateStereoisomers(canonical_mol)]"
   ]
  },
  {
   "cell_type": "code",
   "execution_count": null,
   "id": "1a48a7b7-25d3-45c1-ac41-8da6684f9b4f",
   "metadata": {},
   "outputs": [],
   "source": [
    "rdkit.Chem.SanitizeMol(canonical_mol, rdkit.Chem.SANITIZE_CLEANUPCHIRALITY)"
   ]
  },
  {
   "cell_type": "code",
   "execution_count": null,
   "id": "8915b9db-b386-4fc9-92ee-8fdad4f03cd6",
   "metadata": {},
   "outputs": [],
   "source": [
    "[rdkit.Chem.MolToSmiles(mol) for mol in EnumerateStereoisomers(canonical_mol)]"
   ]
  },
  {
   "cell_type": "code",
   "execution_count": null,
   "id": "5c428724-b5cc-4ce3-8750-8b92c67eae18",
   "metadata": {},
   "outputs": [],
   "source": []
  },
  {
   "cell_type": "code",
   "execution_count": null,
   "id": "f4e096cb-d1aa-4889-ba71-8be314317bed",
   "metadata": {},
   "outputs": [],
   "source": []
  },
  {
   "cell_type": "code",
   "execution_count": null,
   "id": "d3622757-d272-4909-9249-10a352147244",
   "metadata": {},
   "outputs": [],
   "source": [
    "rdkit.Chem.AssignStereochemistry(canonical_mol, cleanIt=True, flagPossibleStereoCenters=True)"
   ]
  },
  {
   "cell_type": "code",
   "execution_count": null,
   "id": "b64ce69e-408d-42cf-8f9d-426379fd298b",
   "metadata": {},
   "outputs": [],
   "source": [
    "to_plot = pd.read_csv('possible_hits.csv')"
   ]
  },
  {
   "cell_type": "code",
   "execution_count": null,
   "id": "7e24e4de-24f8-4d49-971b-da789a0d8e56",
   "metadata": {},
   "outputs": [],
   "source": [
    "from rdkit.Chem.MolStandardize import rdMolStandardize\n",
    "enumerator = rdMolStandardize.TautomerEnumerator()"
   ]
  },
  {
   "cell_type": "code",
   "execution_count": null,
   "id": "6d94addd-1b6b-40f2-a651-e96c7e12f390",
   "metadata": {},
   "outputs": [],
   "source": [
    "to_plot.smiles.apply(lambda x: len(list(enumerator.Enumerate(rdkit.Chem.MolFromSmiles(x)))))"
   ]
  },
  {
   "cell_type": "code",
   "execution_count": null,
   "id": "5340cc1e-a659-4290-8930-9b2451ab1a1a",
   "metadata": {},
   "outputs": [],
   "source": [
    "import rdkit\n",
    "from rdkit.Chem.Draw import MolsToGridImage\n",
    "MolsToGridImage(to_plot.smiles.apply(rdkit.Chem.MolFromSmiles), molsPerRow=4, subImgSize=(250,200), \n",
    "                legends=to_plot.apply(lambda x: f'{x.smiles}\\n{x.substruct}\\n#atoms={x.num_atoms}', 1).values.tolist(), useSVG=True)"
   ]
  },
  {
   "cell_type": "code",
   "execution_count": null,
   "id": "72940e83-cf2e-49e9-ab6f-0a2dd5aae3db",
   "metadata": {},
   "outputs": [],
   "source": []
  },
  {
   "cell_type": "code",
   "execution_count": null,
   "id": "9ea7a00c-1602-4ed6-b65b-4144ac38efcf",
   "metadata": {},
   "outputs": [],
   "source": [
    "redox_df = pd.read_csv('/projects/rlmolecule/pstjohn/spin_gnn/redox_data.csv.gz')\n",
    "redox_new_calcs = pd.read_csv('/projects/rlmolecule/pstjohn/spin_gnn/20210216_fixed_rl_redox_data.csv')\n",
    "tempo_results = pd.read_csv('/projects/rlmolecule/pstjohn/spin_gnn/tempo_results.csv')\n",
    "redox_new_calcs = redox_new_calcs.append(tempo_results)"
   ]
  },
  {
   "cell_type": "code",
   "execution_count": null,
   "id": "a205177c-0360-4400-8189-4b526fb8ff94",
   "metadata": {},
   "outputs": [],
   "source": [
    "from tqdm import tqdm\n",
    "tqdm.pandas()\n",
    "\n",
    "def canonicalize(smiles):\n",
    "    mol = rdkit.Chem.MolFromSmiles(smiles)\n",
    "    can = enumerator.Canonicalize(mol)\n",
    "    return rdkit.Chem.MolToSmiles(mol)"
   ]
  },
  {
   "cell_type": "code",
   "execution_count": null,
   "id": "677ee6fc-f756-4e67-b3b9-c4f930bbf927",
   "metadata": {},
   "outputs": [],
   "source": [
    "redox_df['can_smiles'] = redox_df.smiles.progress_apply(canonicalize)"
   ]
  },
  {
   "cell_type": "code",
   "execution_count": null,
   "id": "d863074c-c961-443a-abe9-86165fdea65a",
   "metadata": {},
   "outputs": [],
   "source": [
    "redox_df[redox_df.can_smiles != redox_df.smiles]"
   ]
  }
 ],
 "metadata": {
  "kernelspec": {
   "display_name": "Python 3",
   "language": "python",
   "name": "python3"
  },
  "language_info": {
   "codemirror_mode": {
    "name": "ipython",
    "version": 3
   },
   "file_extension": ".py",
   "mimetype": "text/x-python",
   "name": "python",
   "nbconvert_exporter": "python",
   "pygments_lexer": "ipython3",
   "version": "3.8.10"
  }
 },
 "nbformat": 4,
 "nbformat_minor": 5
}
