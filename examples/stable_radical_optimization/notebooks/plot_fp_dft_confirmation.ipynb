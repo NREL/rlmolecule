{
 "cells": [
  {
   "cell_type": "code",
   "execution_count": 39,
   "id": "bde70ed4-e026-4e7b-8272-04b72de9b021",
   "metadata": {},
   "outputs": [],
   "source": [
    "import numpy as np\n",
    "import psycopg2\n",
    "import pandas as pd\n",
    "\n",
    "import matplotlib.pyplot as plt\n",
    "import seaborn as sns\n",
    "sns.set(\n",
    "    context='paper',\n",
    "    font_scale=8/8.8,\n",
    "    style='ticks',\n",
    "    color_codes=True,\n",
    "    rc={'legend.frameon': False})\n",
    "\n",
    "plt.rcParams['svg.fonttype'] = 'none'\n",
    "\n",
    "%matplotlib inline"
   ]
  },
  {
   "cell_type": "code",
   "execution_count": 40,
   "id": "606fc6e7-2e3e-4002-a3d3-4eb603344633",
   "metadata": {},
   "outputs": [
    {
     "data": {
      "text/plain": [
       "11    100\n",
       "12    100\n",
       "10      6\n",
       "9       2\n",
       "Name: num_atoms, dtype: int64"
      ]
     },
     "execution_count": 40,
     "metadata": {},
     "output_type": "execute_result"
    }
   ],
   "source": [
    "df = pd.read_csv('/projects/rlmolecule/pstjohn/tempo/small_mols.csv')\n",
    "df.num_atoms.value_counts()"
   ]
  },
  {
   "cell_type": "code",
   "execution_count": 47,
   "id": "5e267678-0916-4ad5-a0db-58f122b59a49",
   "metadata": {},
   "outputs": [
    {
     "data": {
      "text/html": [
       "<div>\n",
       "<style scoped>\n",
       "    .dataframe tbody tr th:only-of-type {\n",
       "        vertical-align: middle;\n",
       "    }\n",
       "\n",
       "    .dataframe tbody tr th {\n",
       "        vertical-align: top;\n",
       "    }\n",
       "\n",
       "    .dataframe thead th {\n",
       "        text-align: right;\n",
       "    }\n",
       "</style>\n",
       "<table border=\"1\" class=\"dataframe\">\n",
       "  <thead>\n",
       "    <tr style=\"text-align: right;\">\n",
       "      <th></th>\n",
       "      <th>smiles</th>\n",
       "      <th>ionization_energy_dft</th>\n",
       "      <th>electron_affinity_dft</th>\n",
       "      <th>max_spin_dft</th>\n",
       "      <th>spin_buried_vol_dft</th>\n",
       "      <th>ionization_energy_ml</th>\n",
       "      <th>electron_affinity_ml</th>\n",
       "      <th>max_spin_ml</th>\n",
       "      <th>spin_buried_vol_ml</th>\n",
       "      <th>stability_ml</th>\n",
       "      <th>stability_dft</th>\n",
       "    </tr>\n",
       "  </thead>\n",
       "  <tbody>\n",
       "    <tr>\n",
       "      <th>0</th>\n",
       "      <td>C/C(=C/CS)c1scc(N)c1[O]</td>\n",
       "      <td>1.084133</td>\n",
       "      <td>0.019890</td>\n",
       "      <td>0.281189</td>\n",
       "      <td>60.340356</td>\n",
       "      <td>1.021222</td>\n",
       "      <td>-0.172333</td>\n",
       "      <td>0.208897</td>\n",
       "      <td>60.177160</td>\n",
       "      <td>99.732325</td>\n",
       "      <td>96.280894</td>\n",
       "    </tr>\n",
       "    <tr>\n",
       "      <th>1</th>\n",
       "      <td>C/C=C(/C)C1=C(C)C(C)=C[CH]1</td>\n",
       "      <td>NaN</td>\n",
       "      <td>NaN</td>\n",
       "      <td>NaN</td>\n",
       "      <td>NaN</td>\n",
       "      <td>0.882303</td>\n",
       "      <td>-0.347784</td>\n",
       "      <td>0.302815</td>\n",
       "      <td>60.830734</td>\n",
       "      <td>95.689960</td>\n",
       "      <td>NaN</td>\n",
       "    </tr>\n",
       "    <tr>\n",
       "      <th>2</th>\n",
       "      <td>C/C=C(/C)C1=C(SC)[CH]C=C1</td>\n",
       "      <td>0.827752</td>\n",
       "      <td>-0.257770</td>\n",
       "      <td>0.329883</td>\n",
       "      <td>58.971385</td>\n",
       "      <td>0.919138</td>\n",
       "      <td>-0.214054</td>\n",
       "      <td>0.274094</td>\n",
       "      <td>61.927734</td>\n",
       "      <td>98.223051</td>\n",
       "      <td>92.477258</td>\n",
       "    </tr>\n",
       "    <tr>\n",
       "      <th>3</th>\n",
       "      <td>C/C=C(/C)C1=C[CH]C=C1/C=C/C</td>\n",
       "      <td>0.935888</td>\n",
       "      <td>-0.212872</td>\n",
       "      <td>0.291086</td>\n",
       "      <td>56.142447</td>\n",
       "      <td>0.828648</td>\n",
       "      <td>-0.330957</td>\n",
       "      <td>0.198025</td>\n",
       "      <td>60.565964</td>\n",
       "      <td>100.664696</td>\n",
       "      <td>91.588158</td>\n",
       "    </tr>\n",
       "    <tr>\n",
       "      <th>4</th>\n",
       "      <td>C/C=C(/C)[C]1C(C)=CC=C1C</td>\n",
       "      <td>1.141248</td>\n",
       "      <td>-0.385470</td>\n",
       "      <td>0.413889</td>\n",
       "      <td>51.789678</td>\n",
       "      <td>0.811673</td>\n",
       "      <td>-0.416348</td>\n",
       "      <td>0.272252</td>\n",
       "      <td>64.693665</td>\n",
       "      <td>101.081058</td>\n",
       "      <td>81.095231</td>\n",
       "    </tr>\n",
       "  </tbody>\n",
       "</table>\n",
       "</div>"
      ],
      "text/plain": [
       "                        smiles  ionization_energy_dft  electron_affinity_dft  \\\n",
       "0      C/C(=C/CS)c1scc(N)c1[O]               1.084133               0.019890   \n",
       "1  C/C=C(/C)C1=C(C)C(C)=C[CH]1                    NaN                    NaN   \n",
       "2    C/C=C(/C)C1=C(SC)[CH]C=C1               0.827752              -0.257770   \n",
       "3  C/C=C(/C)C1=C[CH]C=C1/C=C/C               0.935888              -0.212872   \n",
       "4     C/C=C(/C)[C]1C(C)=CC=C1C               1.141248              -0.385470   \n",
       "\n",
       "   max_spin_dft  spin_buried_vol_dft  ionization_energy_ml  \\\n",
       "0      0.281189            60.340356              1.021222   \n",
       "1           NaN                  NaN              0.882303   \n",
       "2      0.329883            58.971385              0.919138   \n",
       "3      0.291086            56.142447              0.828648   \n",
       "4      0.413889            51.789678              0.811673   \n",
       "\n",
       "   electron_affinity_ml  max_spin_ml  spin_buried_vol_ml  stability_ml  \\\n",
       "0             -0.172333     0.208897           60.177160     99.732325   \n",
       "1             -0.347784     0.302815           60.830734     95.689960   \n",
       "2             -0.214054     0.274094           61.927734     98.223051   \n",
       "3             -0.330957     0.198025           60.565964    100.664696   \n",
       "4             -0.416348     0.272252           64.693665    101.081058   \n",
       "\n",
       "   stability_dft  \n",
       "0      96.280894  \n",
       "1            NaN  \n",
       "2      92.477258  \n",
       "3      91.588158  \n",
       "4      81.095231  "
      ]
     },
     "execution_count": 47,
     "metadata": {},
     "output_type": "execute_result"
    }
   ],
   "source": [
    "redox_data = pd.read_csv('/projects/rlmolecule/pstjohn/spin_gnn/redox_data.csv.gz')\n",
    "data = pd.read_csv('/projects/rlmolecule/pstjohn/fingerprints/fp_mols_dft_and_ml.csv')\n",
    "\n",
    "data['stability_ml'] = (1 - data['max_spin_ml']) * 50 + data['spin_buried_vol_ml']\n",
    "data['stability_dft']  = (1 - data['max_spin_dft'])  * 50 + data['spin_buried_vol_dft']\n",
    "\n",
    "data.head()"
   ]
  },
  {
   "cell_type": "code",
   "execution_count": 22,
   "id": "a7a419a5-707f-4cc7-88d3-82606e55438f",
   "metadata": {},
   "outputs": [],
   "source": [
    "redf_baseline = pd.read_csv('/projects/rlmolecule/pstjohn/atom_spins/20210118_bde_baseline_spin_burvol.csv.gz')\n",
    "\n",
    "def stability_score(x): \n",
    "    idxmax = x['fractional_spin'].idxmax()\n",
    "    spin = x['fractional_spin'].max()\n",
    "    bur_vol = x.loc[idxmax]['buried_vol']\n",
    "    return bur_vol + 50 * (1 - spin)\n",
    "\n",
    "bde_db_stability_scores = redf_baseline.groupby('smiles').apply(stability_score)"
   ]
  },
  {
   "cell_type": "code",
   "execution_count": 6,
   "id": "a677f941-fa58-433a-9508-50b2a8459b9e",
   "metadata": {},
   "outputs": [],
   "source": [
    "db_pass = redox_data[redox_data.smiles.isin(bde_db_stability_scores[bde_db_stability_scores > 85].index)].copy()\n",
    "db_pass['V_diff'] = db_pass['ionization energy'] - db_pass['electron affinity']\n",
    "db_pass['pass_redox'] = ((db_pass['electron affinity'] > -.5) &\n",
    "                    (db_pass['ionization energy'] < 1.2) &\n",
    "                    (db_pass['V_diff'] > 1))"
   ]
  },
  {
   "cell_type": "code",
   "execution_count": 48,
   "id": "0bafc00f-4169-4dfd-84da-39f39339be5c",
   "metadata": {},
   "outputs": [
    {
     "data": {
      "image/png": "[encoded data removed]",
      "text/plain": [
       "<Figure size 1050x345 with 3 Axes>"
      ]
     },
     "metadata": {
      "needs_background": "light"
     },
     "output_type": "display_data"
    }
   ],
   "source": [
    "from matplotlib.patches import Polygon\n",
    "\n",
    "fig = plt.figure(figsize=(7,2.3), dpi=150)\n",
    "\n",
    "## --------------------- ML predictions ---------------------\n",
    "ax1 = fig.add_subplot(131, aspect='equal', adjustable='datalim')\n",
    "\n",
    "ax1.plot(data['electron_affinity_ml'], data['ionization_energy_ml'], '.', ms=.5, rasterized=True, color='b', zorder=3, label='ML')\n",
    "ax1.plot(redox_data['electron affinity'], redox_data['ionization energy'], '.', ms=.1,\n",
    "         rasterized=True, color=sns.color_palette()[1], zorder=1, label='training data')\n",
    "\n",
    "ax1.set_xlim([-3, 3.2])\n",
    "ax1.set_ylim([-2, 3])\n",
    "\n",
    "ax1.axvspan(-.5, .2, facecolor='.8', edgecolor='none', zorder=0, label='desired range')\n",
    "ax1.axhspan(.5, 1.2, facecolor='.8', edgecolor='none', zorder=0)\n",
    "\n",
    "ax1.set_xlabel(r'$E_{1/2}^o$, EA (V)')\n",
    "ax1.set_ylabel(r'$E_{1/2}^o$, IE (V)')\n",
    "\n",
    "ax1.add_patch(Polygon(np.array([(-.5, 1.2), (-.5, 0.5), (.2, 1.2)]), facecolor='none',\n",
    "                      zorder=5, edgecolor='r', lw=1.25, ls='--', label='symmetric\\ntarget'))\n",
    "\n",
    "ax1.legend(loc='lower right', markerfirst=False, markerscale=10, fontsize=7, borderpad=0,\n",
    "           borderaxespad=0.2, handlelength=1, handletextpad=.5)\n",
    "\n",
    "\n",
    "ax2 = fig.add_subplot(132, aspect='equal', adjustable='datalim')\n",
    "\n",
    "\n",
    "## --------------------- DFT values ---------------------\n",
    "df_nona = data.dropna(subset=['ionization_energy_dft', 'electron_affinity_dft'])\n",
    "ax2.plot(data['electron_affinity_dft'], data['ionization_energy_dft'], '.', ms=1, color='g', rasterized=True, zorder=3, label='DFT')\n",
    "\n",
    "ax2.axvspan(-.5, .2, facecolor='.8', edgecolor='none', zorder=0)\n",
    "ax2.axhspan(.5, 1.2, facecolor='.8', edgecolor='none', zorder=0)\n",
    "\n",
    "\n",
    "\n",
    "ax2.add_patch(Polygon(np.array([(-.5, 1.2), (-.5, 0.5), (.2, 1.2)]), facecolor='none',\n",
    "                      zorder=5, edgecolor='r', lw=1.25, ls='--', label='symmetric\\ntarget'))\n",
    "\n",
    "\n",
    "ax2.set_xlim([-3, 3.2])\n",
    "ax2.set_ylim([-2, 3])\n",
    "\n",
    "\n",
    "ax2.set_xlabel(r'$E_{1/2}^o$, EA (V)')\n",
    "ax2.set_ylabel(r'$E_{1/2}^o$, IE (V)')\n",
    "\n",
    "# ax2.yaxis.set_tick_params(which='both', labelleft=False, labelright=False)\n",
    "# ax2.yaxis.offsetText.set_visible(False)\n",
    "\n",
    "\n",
    "data['V_diff'] = data['ionization_energy_dft'] - data['electron_affinity_dft']\n",
    "data['pass_redox'] = ((data['electron_affinity_dft'] > -.5) &\n",
    "                    (data['ionization_energy_dft'] < 1.2) &\n",
    "                    (data['V_diff'] > 1))\n",
    "\n",
    "df_pass = data[data.pass_redox]\n",
    "\n",
    "ax2.text(.99, .025, f'{df_pass.shape[0] / df_nona.shape[0]:.1%}\\nPassing', ha='right', va='bottom', transform=ax2.transAxes, fontsize='8', style='italic')\n",
    "\n",
    "ax2.text(.99, .99, \n",
    "         f\"MAE(EA): {(data['electron_affinity_dft'] - data['electron_affinity_ml']).abs().mean():.2f} V\\n\"\n",
    "         f\"MAE(IE): {(data['ionization_energy_dft'] - data['ionization_energy_ml']).abs().mean():.2f} V\",\n",
    "         ha='right', va='top', fontsize='7', transform=ax2.transAxes, )\n",
    "# ax2.text(.99, .99, f\", ha='right', va='top', fontsize='7', transform=ax2.transAxes, )\n",
    "\n",
    "ax2.legend(loc='upper right', handlelength=1, markerscale=3, fontsize=7, bbox_to_anchor=(1., .55))\n",
    "\n",
    "## --------------------- stability scores ---------------------\n",
    "\n",
    "ax3 = fig.add_subplot(133)\n",
    "sns.kdeplot(data['stability_ml'], color='b', label='ML')\n",
    "sns.kdeplot(data['stability_dft'], color='g', label='DFT')\n",
    "sns.kdeplot(bde_db_stability_scores, color=sns.color_palette()[1], label='training data')\n",
    "\n",
    "# ax3.axvline(100, ls='--', color='r', lw=1.5)\n",
    "ax3.axvspan(85, 120, facecolor='.8', lw=1.5, label='stability\\nthreshold')\n",
    "\n",
    "ax3.legend(loc='upper left')\n",
    "\n",
    "stability = data['stability_dft'].dropna()\n",
    "\n",
    "ax3.text(.05, .35, f\"{(stability > 85).mean():.1%}\\nPassing\",\n",
    "         ha='left', va='center', transform=ax3.transAxes, fontsize='8', style='italic')\n",
    "\n",
    "ax3.set_xticks([25, 50, 75, 100,])\n",
    "\n",
    "ax3.set_ylabel('density')\n",
    "ax3.set_xlabel('stability score')\n",
    "\n",
    "ax1.set_title('ML')\n",
    "ax2.set_title('DFT')\n",
    "\n",
    "sns.despine()\n",
    "plt.tight_layout()\n",
    "# plt.savefig('figs/fig4_fp_dft_confirmation.svg')"
   ]
  },
  {
   "cell_type": "code",
   "execution_count": 49,
   "id": "b89c6b19-01d5-4d99-a52d-032431141d35",
   "metadata": {},
   "outputs": [
    {
     "data": {
      "text/plain": [
       "0.5362318840579711"
      ]
     },
     "execution_count": 49,
     "metadata": {},
     "output_type": "execute_result"
    }
   ],
   "source": [
    "(data['pass_redox'].astype(bool) & (data['stability_dft'] > 85)).sum() / data.dropna().shape[0]"
   ]
  },
  {
   "cell_type": "code",
   "execution_count": 56,
   "id": "b496754d-8541-42f3-b2a5-15c96ddea03b",
   "metadata": {},
   "outputs": [
    {
     "data": {
      "text/plain": [
       "138"
      ]
     },
     "execution_count": 56,
     "metadata": {},
     "output_type": "execute_result"
    }
   ],
   "source": [
    "(~data['V_diff'].isna()).sum()"
   ]
  },
  {
   "cell_type": "code",
   "execution_count": 62,
   "id": "2a8adb96-a8f4-4c9f-be1c-ac928e9a7ae4",
   "metadata": {},
   "outputs": [
    {
     "data": {
      "text/plain": [
       "0.3557692307692308"
      ]
     },
     "execution_count": 62,
     "metadata": {},
     "output_type": "execute_result"
    }
   ],
   "source": [
    "74/208"
   ]
  },
  {
   "cell_type": "code",
   "execution_count": 58,
   "id": "491fd0c9-9837-4843-a1e8-ea57de816967",
   "metadata": {},
   "outputs": [
    {
     "data": {
      "text/plain": [
       "115"
      ]
     },
     "execution_count": 58,
     "metadata": {},
     "output_type": "execute_result"
    }
   ],
   "source": [
    "data['pass_redox'].sum()"
   ]
  },
  {
   "cell_type": "code",
   "execution_count": 61,
   "id": "b2c310e2-2e0f-4a15-a4d2-e6cddbba3e22",
   "metadata": {},
   "outputs": [
    {
     "data": {
      "text/plain": [
       "74"
      ]
     },
     "execution_count": 61,
     "metadata": {},
     "output_type": "execute_result"
    }
   ],
   "source": [
    "(data['pass_redox'].astype(bool) & (data['stability_dft'] > 85)).sum()"
   ]
  },
  {
   "cell_type": "code",
   "execution_count": null,
   "id": "dc5bf5a9-173c-4899-aa94-88441444f52d",
   "metadata": {},
   "outputs": [],
   "source": [
    "(df_nona['stability_dft'] > 85).sum()"
   ]
  },
  {
   "cell_type": "code",
   "execution_count": null,
   "id": "a8524f04-5560-414d-b473-66611eb3152e",
   "metadata": {},
   "outputs": [],
   "source": [
    "with open('figs/fp_mols.svg', 'w') as f:\n",
    "    f.write(img.data)"
   ]
  },
  {
   "cell_type": "code",
   "execution_count": null,
   "id": "ed277d74-76e1-40ea-96a6-0b8e7fe5fed8",
   "metadata": {},
   "outputs": [],
   "source": [
    "joined.to_csv('figs/fp_mols.csv')"
   ]
  },
  {
   "cell_type": "markdown",
   "id": "62610d51-02cf-47f2-97b0-0f9248df273e",
   "metadata": {},
   "source": [
    "## Plot DFT vs. ML spin and buried volume"
   ]
  },
  {
   "cell_type": "code",
   "execution_count": null,
   "id": "baf7916f-aad7-4d52-9e68-7f68a0a356a6",
   "metadata": {},
   "outputs": [],
   "source": [
    "import rdkit\n",
    "import tensorflow as tf\n",
    "\n",
    "gpus = tf.config.experimental.list_physical_devices('GPU')\n",
    "if gpus:\n",
    "    # Currently, memory growth needs to be the same across GPUs\n",
    "    for gpu in gpus:\n",
    "        tf.config.experimental.set_memory_growth(gpu, True)\n",
    "\n",
    "stability_model = tf.keras.models.load_model('/projects/rlmolecule/pstjohn/models/20210214_radical_stability_new_data/', compile=False)\n",
    "from rlmolecule.molecule.policy.preprocessor import load_preprocessor\n",
    "\n",
    "preprocessor = load_preprocessor()\n",
    "\n",
    "def pred_stability(smiles):\n",
    "    \n",
    "    mol = rdkit.Chem.MolFromSmiles(smiles)\n",
    "    \n",
    "    spins, bvs = stability_model(\n",
    "        {key: tf.constant(np.expand_dims(val, 0))\n",
    "         for key, val in preprocessor.construct_feature_matrices(mol).items()})\n",
    "\n",
    "    return pd.DataFrame({\n",
    "        'fractional_spin': spins.numpy().flatten(),\n",
    "        'buried_vol': bvs.numpy().flatten(),\n",
    "        'atom_type': np.array([atom.GetSymbol() for atom in mol.GetAtoms()]),\n",
    "        'atom_index': np.arange(mol.GetNumAtoms()),\n",
    "        'smiles': [smiles] * mol.GetNumAtoms()\n",
    "    })"
   ]
  },
  {
   "cell_type": "code",
   "execution_count": null,
   "id": "6655c4f2-95b4-42d3-9d66-b1facfffefe3",
   "metadata": {},
   "outputs": [],
   "source": [
    "dft_spins = pd.read_csv('/projects/rlmolecule/pstjohn/tempo/20210707_rl_dft_spin_bv_run_21.csv.gz', index_col=0)\n",
    "dft_spins['fractional_spin'] = dft_spins.groupby('smiles').spin.apply(lambda x: x.abs() / x.abs().sum())"
   ]
  },
  {
   "cell_type": "code",
   "execution_count": null,
   "id": "576c3574-1f14-4769-9531-eeaaa9e900d7",
   "metadata": {},
   "outputs": [],
   "source": [
    "ml_stability = data.smiles.apply(pred_stability)\n",
    "ml_stability = pd.concat(ml_stability.tolist())"
   ]
  },
  {
   "cell_type": "code",
   "execution_count": null,
   "id": "e14b10cd-bfff-4452-ab42-b259c9147051",
   "metadata": {},
   "outputs": [],
   "source": [
    "merged_stability = ml_stability.merge(dft_spins, how='outer', on=['smiles', 'atom_index'], suffixes=['_ml', '_dft'])"
   ]
  },
  {
   "cell_type": "code",
   "execution_count": null,
   "id": "6ab8681e-5029-4583-a6ab-490e64474510",
   "metadata": {},
   "outputs": [],
   "source": [
    "fig = plt.figure(figsize=(4,2.3), dpi=150)\n",
    "\n",
    "ax1 = fig.add_subplot(121, aspect='equal', adjustable='box')\n",
    "\n",
    "smiles_max = merged_stability.groupby('smiles').max()\n",
    "\n",
    "\n",
    "ax1.plot(merged_stability.fractional_spin_ml, merged_stability.fractional_spin_dft, '.', ms=1, label='generated molecules', alpha=.75)\n",
    "ax1.plot(smiles_max.fractional_spin_ml, smiles_max.fractional_spin_dft, '.', ms=1., label='max spin per molecule', color='g')\n",
    "ax1.plot(ml_valid_preds.fractional_spin_ml, ml_valid_preds.fractional_spin_dft, '.', ms=1, alpha=.25, color='.6', zorder=0, label='ML validation predictions', rasterized=True)\n",
    "\n",
    "# ax1.plot(merged_stability.fractional_spin_ml, merged_stability.fractional_spin_dft, '.', ms=1, label='individual atom spin', alpha=.75)\n",
    "# ax1.plot(smiles_max.fractional_spin_ml, smiles_max.fractional_spin_dft, '.', ms=3, label='max spin per molecule')\n",
    "ax1.plot([0, 1], [0, 1], '--', color='w', zorder=2)\n",
    "# ax1.set_xticks(.1*np.arange(6))\n",
    "# ax1.set_yticks(.1*np.arange(6))\n",
    "\n",
    "ax1.legend(loc='lower left', bbox_to_anchor=(0, 1.), fontsize=7, borderpad=0,\n",
    "           borderaxespad=0.2, handlelength=1, handletextpad=.5, markerscale=2)\n",
    "\n",
    "ax1.set_ylim([-.01, 1.01])\n",
    "ax1.set_xlim([-.01, 1.01])\n",
    "\n",
    "\n",
    "ax2 = fig.add_subplot(122, aspect='equal', adjustable='box')\n",
    "\n",
    "ax2.plot(merged_stability.buried_vol_ml, merged_stability.buried_vol_dft, '.', ms=1, label='generated molecules')\n",
    "ax2.plot(ml_valid_preds.buried_vol_ml, ml_valid_preds.buried_vol_dft, '.', ms=1, alpha=.25, color='.6', zorder=0, label='ML validation predictions', rasterized=True)\n",
    "\n",
    "ax2.plot([20, 80], [20, 80], '--', color='w', zorder=2)\n",
    "ax2.set_ylim([20, 80])\n",
    "ax2.set_xlim([20, 80])\n",
    "ax2.set_yticks([20, 40, 60, 80])\n",
    "ax2.set_xticks([20, 40, 60, 80])\n",
    "\n",
    "ax2.legend(loc='lower left', bbox_to_anchor=(0, 1.), fontsize=7, borderpad=0,\n",
    "           borderaxespad=0.2, handlelength=1, handletextpad=.5, markerscale=2)\n",
    "\n",
    "sns.despine(offset=5, trim=True)\n",
    "\n",
    "ax1.set_xlabel('Atom Fractional Spin (ML)')\n",
    "ax1.set_ylabel('Atom Fractional Spin (DFT)')\n",
    "\n",
    "ax2.set_xlabel('Atom Buried Volume (ML)')\n",
    "ax2.set_ylabel('Atom Buried Volume (DFT)')\n",
    "\n",
    "plt.tight_layout()\n",
    "plt.savefig('figs/spin_bv_prediction_for_new_mols.svg')"
   ]
  },
  {
   "cell_type": "code",
   "execution_count": null,
   "id": "a403e092-d0c4-4d89-baf8-10f299422a81",
   "metadata": {},
   "outputs": [],
   "source": [
    "merged_stability.fractional_spin_ml.max()"
   ]
  },
  {
   "cell_type": "code",
   "execution_count": null,
   "id": "1b762fca-f9ee-4331-b4ec-c9551dee778b",
   "metadata": {},
   "outputs": [],
   "source": [
    "ml_valid_preds = pd.read_csv('/projects/rlmolecule/pstjohn/spin_gnn/20210215_spin_bv_validation_predictions.csv.gz')\n",
    "ml_valid_preds.head()"
   ]
  },
  {
   "cell_type": "code",
   "execution_count": null,
   "id": "e1a10245-2117-41ba-bee2-265616004020",
   "metadata": {},
   "outputs": [],
   "source": [
    "fig = plt.figure(figsize=(2.3,2.3), dpi=150)\n",
    "ax1 = fig.add_subplot(111, aspect='equal', adjustable='datalim')\n",
    "\n",
    "ax1.plot(merged_stability.fractional_spin_ml, merged_stability.fractional_spin_dft, '.', ms=1, label='individual atom spin', alpha=.75)\n",
    "ax1.plot(smiles_max.fractional_spin_ml, smiles_max.fractional_spin_dft, '.', ms=1., label='max spin per molecule', color='g')\n",
    "\n",
    "ax1.plot(ml_valid_preds.fractional_spin_ml,\n",
    "         ml_valid_preds.fractional_spin_dft, '.', ms=1, alpha=.5, color='.6', zorder=0)"
   ]
  },
  {
   "cell_type": "code",
   "execution_count": null,
   "id": "6e279796-009b-44a8-9855-5c3f6c113e38",
   "metadata": {},
   "outputs": [],
   "source": [
    "# results = (ml_valid_preds.groupby('smiles').fractional_spin_ml.max() < .35) & (ml_valid_preds.groupby('smiles').atom_index.max() >= 8)\n",
    "# to_plot = results[results].index\n",
    "\n",
    "# fig = plt.figure(figsize=(2.3,2.3), dpi=150)\n",
    "\n",
    "# ax1 = fig.add_subplot(111, aspect='equal', adjustable='datalim')\n",
    "\n",
    "# smiles_max = ml_valid_preds[ml_valid_preds.smiles.isin(to_plot)].groupby('smiles').max()\n",
    "\n",
    "# ax1.plot(ml_valid_preds[ml_valid_preds.smiles.isin(to_plot)].fractional_spin_ml,\n",
    "#          ml_valid_preds[ml_valid_preds.smiles.isin(to_plot)].fractional_spin_dft, '.', ms=1, alpha=.5)\n",
    "# ax1.plot(smiles_max.fractional_spin_ml, smiles_max.fractional_spin_dft, '.', ms=3, label='max spin per molecule')\n",
    "\n",
    "# ax1.plot([0, .5], [0, .5], '--', color='.7', zorder=2)\n",
    "# ax1.set_xticks(.1*np.arange(6))\n",
    "# ax1.set_yticks(.1*np.arange(6))\n",
    "\n",
    "# ax1.set_ylim([-.01, .55])\n",
    "# ax1.set_xlim([-.01, .55])"
   ]
  },
  {
   "cell_type": "code",
   "execution_count": null,
   "id": "f9eb20bb-1a3c-4c03-a75a-89362b70de8d",
   "metadata": {},
   "outputs": [],
   "source": [
    "passing = df_nona[df_nona['pass_redox'].astype(bool) & (df_nona['stability_dft'] > 85)]\n",
    "# passing.to_csv('20210716_passing.csv', index=False)"
   ]
  },
  {
   "cell_type": "code",
   "execution_count": null,
   "id": "61f15c33-e573-4ade-bc3b-078933f54c15",
   "metadata": {},
   "outputs": [],
   "source": [
    "def process(x):\n",
    "    mol = rdkit.Chem.MolFromSmiles(x)\n",
    "    for atom in mol.GetAtoms():\n",
    "        if atom.GetNumRadicalElectrons() == 1:\n",
    "            radical_idx = atom.GetIdx()\n",
    "            symbol = atom.GetSymbol()\n",
    "            break            \n",
    "    else:\n",
    "        radical_idx = None\n",
    "        symbol = None\n",
    "        \n",
    "    return pd.Series({'radical_idx': radical_idx,\n",
    "                      'symbol': symbol,\n",
    "                      'num_atoms': mol.GetNumAtoms()})"
   ]
  },
  {
   "cell_type": "code",
   "execution_count": null,
   "id": "5a926ff3-7498-4f6a-84f3-76390de46a6e",
   "metadata": {},
   "outputs": [],
   "source": [
    "joined = passing.join(passing.smiles.apply(process))\n",
    "joined = joined.sort_values('stability_dft', ascending=False).reset_index(drop=True)"
   ]
  },
  {
   "cell_type": "code",
   "execution_count": null,
   "id": "90b3dbf2-e08e-45f6-aee4-10c233d37453",
   "metadata": {},
   "outputs": [],
   "source": [
    "max_spin_index = dft_spins.groupby('smiles').apply(lambda x: x.loc[x.fractional_spin.idxmax(), 'atom_index'])"
   ]
  },
  {
   "cell_type": "code",
   "execution_count": null,
   "id": "ec4ad5aa-ad55-4c8d-82a0-2700fe690e20",
   "metadata": {},
   "outputs": [],
   "source": [
    "joined['max_spin_index'] = max_spin_index.reindex(joined.smiles).values"
   ]
  },
  {
   "cell_type": "code",
   "execution_count": null,
   "id": "44770668-f81f-43ef-919d-17bc7dc5cc44",
   "metadata": {},
   "outputs": [],
   "source": [
    "from rdkit.Chem.Draw import MolsToGridImage, rdMolDraw2D\n",
    "from rdkit.Chem.Draw import IPythonConsole\n",
    "IPythonConsole.drawOptions.legendFontSize = 14\n",
    "IPythonConsole.drawOptions.addAtomIndices = False\n",
    "\n",
    "img = IPythonConsole.ShowMols(joined.smiles.apply(rdkit.Chem.MolFromSmiles), molsPerRow=5,\n",
    "                              subImgSize=(200, 200), useSVG=True, maxMols=100,\n",
    "                              legends=[str(i) for i in joined.index],\n",
    "                              highlightAtomLists=[[i] for i in joined.max_spin_index],\n",
    "                              \n",
    "                             )"
   ]
  },
  {
   "cell_type": "code",
   "execution_count": null,
   "id": "dd4f2b84-7a62-4de6-a8ea-347598f9ae42",
   "metadata": {},
   "outputs": [],
   "source": [
    "img"
   ]
  },
  {
   "cell_type": "code",
   "execution_count": null,
   "id": "d5218e27-5c84-445b-9291-43840f64d0c1",
   "metadata": {},
   "outputs": [],
   "source": [
    "synthesizability = pd.read_csv('/home/pstjohn/Research/20210716_askcos_synthesizability/fp_results2.csv', header=None)\n",
    "synthesizability.columns = ['smiles', 'status', 'trees']\n",
    "\n",
    "mol_smiles = pd.read_csv('/home/pstjohn/Research/20210716_askcos_synthesizability/molecule_smiles.csv', index_col=0)\n",
    "\n",
    "synthesizability = synthesizability.merge(mol_smiles, on='smiles')"
   ]
  },
  {
   "cell_type": "code",
   "execution_count": null,
   "id": "28f4cba1-3c73-41f4-ad6c-b0be5f42420d",
   "metadata": {},
   "outputs": [],
   "source": [
    "synthesizability['status'].value_counts()"
   ]
  },
  {
   "cell_type": "code",
   "execution_count": null,
   "id": "7bab0f52-f845-4a73-a0d7-789ca267ba97",
   "metadata": {},
   "outputs": [],
   "source": [
    "joined[joined.smiles.isin(synthesizability[synthesizability['status'] == 'synthesizable'].radical_smiles)].iloc[:, :1]"
   ]
  },
  {
   "cell_type": "markdown",
   "id": "492553f2-d91f-497b-aaa9-501dcd31bc01",
   "metadata": {},
   "source": [
    "### Get molecular structures for the action space diagram"
   ]
  },
  {
   "cell_type": "code",
   "execution_count": null,
   "id": "8c5fe8c1-032f-41da-9d8e-77cd851345a6",
   "metadata": {},
   "outputs": [],
   "source": [
    "'CCC(C)(C)c1cc(O)c([O])s1'"
   ]
  }
 ],
 "metadata": {
  "kernelspec": {
   "display_name": "Python 3",
   "language": "python",
   "name": "python3"
  },
  "language_info": {
   "codemirror_mode": {
    "name": "ipython",
    "version": 3
   },
   "file_extension": ".py",
   "mimetype": "text/x-python",
   "name": "python",
   "nbconvert_exporter": "python",
   "pygments_lexer": "ipython3",
   "version": "3.8.10"
  }
 },
 "nbformat": 4,
 "nbformat_minor": 5
}
