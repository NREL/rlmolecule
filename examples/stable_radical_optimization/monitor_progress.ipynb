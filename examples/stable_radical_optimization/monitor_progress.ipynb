{
 "cells": [
  {
   "cell_type": "code",
   "execution_count": 16,
   "metadata": {},
   "outputs": [],
   "source": [
    "import os\n",
    "import sys\n",
    "import numpy as np\n",
    "# import psycopg2\n",
    "import sqlalchemy\n",
    "import pandas as pd\n",
    "\n",
    "import matplotlib.pyplot as plt\n",
    "import seaborn as sns\n",
    "sns.set(\n",
    "    context='paper',\n",
    "    font_scale=8/8.8,\n",
    "#     context=\"talk\",\n",
    "    style='ticks',\n",
    "    color_codes=True,\n",
    "    rc={'legend.frameon': False})\n",
    "\n",
    "plt.rcParams['svg.fonttype'] = 'none'\n",
    "\n",
    "%matplotlib inline"
   ]
  },
  {
   "cell_type": "code",
   "execution_count": 2,
   "metadata": {},
   "outputs": [
    {
     "name": "stdout",
     "output_type": "stream",
     "text": [
      "/home/jlaw/Sync/nrel/arpa-e/rlmolecule_branch/examples/stable_radical_optimization\n"
     ]
    }
   ],
   "source": [
    "print(os.getcwd())\n",
    "sys.path.append('../../')\n",
    "import rlmolecule"
   ]
  },
  {
   "cell_type": "code",
   "execution_count": 3,
   "metadata": {},
   "outputs": [],
   "source": [
    "# connect to the db\n",
    "dbname = \"bde\"\n",
    "port = \"5432\"\n",
    "host = \"yuma.hpc.nrel.gov\"\n",
    "user = \"rlops\"\n",
    "# read the password from a file\n",
    "passwd_file = '/projects/rlmolecule/rlops_pass'\n",
    "with open(passwd_file, 'r') as f:\n",
    "    passwd = f.read().strip()\n",
    "\n",
    "drivername = \"postgresql+psycopg2\"\n",
    "engine_str = f'{drivername}://{user}:{passwd}@{host}:{port}/{dbname}'\n",
    "engine = sqlalchemy.create_engine(engine_str, execution_options={\"isolation_level\": \"AUTOCOMMIT\"})"
   ]
  },
  {
   "cell_type": "markdown",
   "metadata": {},
   "source": [
    "# Initial Results\n",
    "Eagle is really backed up, so these results are from multiple runs on the debug queue (which has a 1 hr time limit)"
   ]
  },
  {
   "cell_type": "code",
   "execution_count": 4,
   "metadata": {},
   "outputs": [],
   "source": [
    "# run_id = 'stable_radical_optimization'\n",
    "run_id = '20210408_mol_diversity-2'"
   ]
  },
  {
   "cell_type": "code",
   "execution_count": 30,
   "metadata": {},
   "outputs": [
    {
     "data": {
      "text/html": [
       "<div>\n",
       "<style scoped>\n",
       "    .dataframe tbody tr th:only-of-type {\n",
       "        vertical-align: middle;\n",
       "    }\n",
       "\n",
       "    .dataframe tbody tr th {\n",
       "        vertical-align: top;\n",
       "    }\n",
       "\n",
       "    .dataframe thead th {\n",
       "        text-align: right;\n",
       "    }\n",
       "</style>\n",
       "<table border=\"1\" class=\"dataframe\">\n",
       "  <thead>\n",
       "    <tr style=\"text-align: right;\">\n",
       "      <th></th>\n",
       "      <th>id</th>\n",
       "      <th>run_id</th>\n",
       "      <th>time</th>\n",
       "      <th>raw_reward</th>\n",
       "      <th>scaled_reward</th>\n",
       "      <th>search_statistics</th>\n",
       "      <th>time_hours</th>\n",
       "    </tr>\n",
       "  </thead>\n",
       "  <tbody>\n",
       "    <tr>\n",
       "      <th>0</th>\n",
       "      <td>9f992f56-edd0-4a4a-8529-aef6d402efa7</td>\n",
       "      <td>20210408_mol_diversity-2</td>\n",
       "      <td>2021-04-08 16:18:46.102357</td>\n",
       "      <td>35.286669</td>\n",
       "      <td>1.0</td>\n",
       "      <td>[[a323322f10ab649b203db742294f7b2d47a7101e987d...</td>\n",
       "      <td>0.000000</td>\n",
       "    </tr>\n",
       "    <tr>\n",
       "      <th>1</th>\n",
       "      <td>f8a912ee-b587-4ceb-91d3-fef24b75f3d2</td>\n",
       "      <td>20210408_mol_diversity-2</td>\n",
       "      <td>2021-04-08 16:18:46.272271</td>\n",
       "      <td>78.616650</td>\n",
       "      <td>0.0</td>\n",
       "      <td>[[a323322f10ab649b203db742294f7b2d47a7101e987d...</td>\n",
       "      <td>0.000047</td>\n",
       "    </tr>\n",
       "    <tr>\n",
       "      <th>2</th>\n",
       "      <td>392dfb5a-6655-4b33-bc46-8020cac5fcfa</td>\n",
       "      <td>20210408_mol_diversity-2</td>\n",
       "      <td>2021-04-08 16:18:46.677905</td>\n",
       "      <td>70.801911</td>\n",
       "      <td>0.0</td>\n",
       "      <td>[[a323322f10ab649b203db742294f7b2d47a7101e987d...</td>\n",
       "      <td>0.000160</td>\n",
       "    </tr>\n",
       "    <tr>\n",
       "      <th>3</th>\n",
       "      <td>23304ede-ad4d-42a8-8d22-be7bed9dbf03</td>\n",
       "      <td>20210408_mol_diversity-2</td>\n",
       "      <td>2021-04-08 16:18:46.863937</td>\n",
       "      <td>62.953034</td>\n",
       "      <td>1.0</td>\n",
       "      <td>[[a323322f10ab649b203db742294f7b2d47a7101e987d...</td>\n",
       "      <td>0.000212</td>\n",
       "    </tr>\n",
       "    <tr>\n",
       "      <th>4</th>\n",
       "      <td>9dd618eb-57bd-4367-b213-aca095b34423</td>\n",
       "      <td>20210408_mol_diversity-2</td>\n",
       "      <td>2021-04-08 16:18:46.924792</td>\n",
       "      <td>69.349816</td>\n",
       "      <td>0.0</td>\n",
       "      <td>[[a323322f10ab649b203db742294f7b2d47a7101e987d...</td>\n",
       "      <td>0.000228</td>\n",
       "    </tr>\n",
       "  </tbody>\n",
       "</table>\n",
       "</div>"
      ],
      "text/plain": [
       "                                     id                    run_id  \\\n",
       "0  9f992f56-edd0-4a4a-8529-aef6d402efa7  20210408_mol_diversity-2   \n",
       "1  f8a912ee-b587-4ceb-91d3-fef24b75f3d2  20210408_mol_diversity-2   \n",
       "2  392dfb5a-6655-4b33-bc46-8020cac5fcfa  20210408_mol_diversity-2   \n",
       "3  23304ede-ad4d-42a8-8d22-be7bed9dbf03  20210408_mol_diversity-2   \n",
       "4  9dd618eb-57bd-4367-b213-aca095b34423  20210408_mol_diversity-2   \n",
       "\n",
       "                        time  raw_reward  scaled_reward  \\\n",
       "0 2021-04-08 16:18:46.102357   35.286669            1.0   \n",
       "1 2021-04-08 16:18:46.272271   78.616650            0.0   \n",
       "2 2021-04-08 16:18:46.677905   70.801911            0.0   \n",
       "3 2021-04-08 16:18:46.863937   62.953034            1.0   \n",
       "4 2021-04-08 16:18:46.924792   69.349816            0.0   \n",
       "\n",
       "                                   search_statistics  time_hours  \n",
       "0  [[a323322f10ab649b203db742294f7b2d47a7101e987d...    0.000000  \n",
       "1  [[a323322f10ab649b203db742294f7b2d47a7101e987d...    0.000047  \n",
       "2  [[a323322f10ab649b203db742294f7b2d47a7101e987d...    0.000160  \n",
       "3  [[a323322f10ab649b203db742294f7b2d47a7101e987d...    0.000212  \n",
       "4  [[a323322f10ab649b203db742294f7b2d47a7101e987d...    0.000228  "
      ]
     },
     "execution_count": 30,
     "metadata": {},
     "output_type": "execute_result"
    }
   ],
   "source": [
    "# load the games played\n",
    "from rlmolecule.sql import Base, Session\n",
    "from rlmolecule.sql.tables import GameStore, RewardStore, StateStore\n",
    "Session.configure(bind=engine)\n",
    "session = Session()\n",
    "df = pd.read_sql(session.query(GameStore).filter_by(run_id=run_id).statement, session.bind)\n",
    "\n",
    "df['time_hours'] = (df.time - df.time.min()).apply(lambda x: x.total_seconds() / 3600)\n",
    "df = df.sort_values('time_hours')\n",
    "df_games = df\n",
    "df_games.reset_index(drop=True, inplace=True)\n",
    "df_games.head()"
   ]
  },
  {
   "cell_type": "code",
   "execution_count": 59,
   "metadata": {},
   "outputs": [
    {
     "data": {
      "text/plain": [
       "'43a78e85b4160a57ed76bcf5425bb10604e9560043e698f2b4e2140fadcca2ae'"
      ]
     },
     "execution_count": 59,
     "metadata": {},
     "output_type": "execute_result"
    }
   ],
   "source": [
    "df_games.search_statistics[0][1][0]"
   ]
  },
  {
   "cell_type": "code",
   "execution_count": 11,
   "metadata": {},
   "outputs": [
    {
     "data": {
      "text/html": [
       "<div>\n",
       "<style scoped>\n",
       "    .dataframe tbody tr th:only-of-type {\n",
       "        vertical-align: middle;\n",
       "    }\n",
       "\n",
       "    .dataframe tbody tr th {\n",
       "        vertical-align: top;\n",
       "    }\n",
       "\n",
       "    .dataframe thead th {\n",
       "        text-align: right;\n",
       "    }\n",
       "</style>\n",
       "<table border=\"1\" class=\"dataframe\">\n",
       "  <thead>\n",
       "    <tr style=\"text-align: right;\">\n",
       "      <th></th>\n",
       "      <th>epoch</th>\n",
       "      <th>loss</th>\n",
       "      <th>policy_wrapper_1_loss</th>\n",
       "      <th>policy_wrapper_loss</th>\n",
       "      <th>time</th>\n",
       "    </tr>\n",
       "  </thead>\n",
       "  <tbody>\n",
       "    <tr>\n",
       "      <th>0</th>\n",
       "      <td>0</td>\n",
       "      <td>0.758693</td>\n",
       "      <td>0.161665</td>\n",
       "      <td>0.597027</td>\n",
       "      <td>2021-04-08 16:21:06.216231</td>\n",
       "    </tr>\n",
       "    <tr>\n",
       "      <th>1</th>\n",
       "      <td>1</td>\n",
       "      <td>0.691711</td>\n",
       "      <td>0.155681</td>\n",
       "      <td>0.536030</td>\n",
       "      <td>2021-04-08 16:22:13.611817</td>\n",
       "    </tr>\n",
       "    <tr>\n",
       "      <th>2</th>\n",
       "      <td>2</td>\n",
       "      <td>0.689219</td>\n",
       "      <td>0.156723</td>\n",
       "      <td>0.532496</td>\n",
       "      <td>2021-04-08 16:23:23.917059</td>\n",
       "    </tr>\n",
       "    <tr>\n",
       "      <th>3</th>\n",
       "      <td>3</td>\n",
       "      <td>0.730584</td>\n",
       "      <td>0.170839</td>\n",
       "      <td>0.559745</td>\n",
       "      <td>2021-04-08 16:24:35.893391</td>\n",
       "    </tr>\n",
       "    <tr>\n",
       "      <th>4</th>\n",
       "      <td>4</td>\n",
       "      <td>0.738978</td>\n",
       "      <td>0.170744</td>\n",
       "      <td>0.568234</td>\n",
       "      <td>2021-04-08 16:25:50.902612</td>\n",
       "    </tr>\n",
       "  </tbody>\n",
       "</table>\n",
       "</div>"
      ],
      "text/plain": [
       "   epoch      loss  policy_wrapper_1_loss  policy_wrapper_loss  \\\n",
       "0      0  0.758693               0.161665             0.597027   \n",
       "1      1  0.691711               0.155681             0.536030   \n",
       "2      2  0.689219               0.156723             0.532496   \n",
       "3      3  0.730584               0.170839             0.559745   \n",
       "4      4  0.738978               0.170744             0.568234   \n",
       "\n",
       "                         time  \n",
       "0  2021-04-08 16:21:06.216231  \n",
       "1  2021-04-08 16:22:13.611817  \n",
       "2  2021-04-08 16:23:23.917059  \n",
       "3  2021-04-08 16:24:35.893391  \n",
       "4  2021-04-08 16:25:50.902612  "
      ]
     },
     "execution_count": 11,
     "metadata": {},
     "output_type": "execute_result"
    }
   ],
   "source": [
    "log.head()"
   ]
  },
  {
   "cell_type": "code",
   "execution_count": 33,
   "metadata": {},
   "outputs": [
    {
     "data": {
      "image/png": "[encoded data removed]",
      "text/plain": [
       "<Figure size 412.5x375 with 2 Axes>"
      ]
     },
     "metadata": {
      "needs_background": "light"
     },
     "output_type": "display_data"
    }
   ],
   "source": [
    "if log is not None:\n",
    "    log['time'] = pd.to_datetime(log.time)\n",
    "    log['time_hours'] = (log.time - df.time.min()).apply(lambda x: x.total_seconds() / 3600)\n",
    "\n",
    "df_games = df_games.sort_values('time_hours')\n",
    "df = df_games\n",
    "\n",
    "fig, axs = plt.subplots(sharex=True, nrows=2, figsize=(2.75, 2.5), dpi=150)\n",
    "\n",
    "axs[0].plot(df.time_hours, df.raw_reward, '.', ms=.75, label='games')\n",
    "axs[0].plot(df.time_hours, df.raw_reward.rolling(250, min_periods=50).quantile(.75), label='$r_{75}$')\n",
    "\n",
    "if log is not None:\n",
    "    axs[1].plot(log.time_hours, log.policy_wrapper_loss, label='value loss')\n",
    "    axs[1].plot(log.time_hours, log.policy_wrapper_1_loss, label='prior loss')\n",
    "\n",
    "axs[0].legend(loc='upper right', ncol=2, borderpad=0, borderaxespad=0.3, bbox_to_anchor=(1., 1.1), markerscale=10)\n",
    "axs[1].legend(ncol=2, borderpad=0, borderaxespad=0.3)\n",
    "\n",
    "axs[0].set_ylim([0, 250])\n",
    "\n",
    "axs[0].set_ylabel('Reward')\n",
    "axs[1].set_ylabel('Policy Training')\n",
    "axs[1].set_xlabel('Time (hours)')\n",
    "\n",
    "axs[1].set_ylim([0, .7])\n",
    "axs[1].set_xlim([-.01, 4])\n",
    "\n",
    "plt.tight_layout()\n",
    "sns.despine(offset=5, trim=True)"
   ]
  },
  {
   "cell_type": "markdown",
   "metadata": {},
   "source": [
    "# Measure the spin, buried volume, and draw the molecule\n",
    "\n",
    "TODO: Need to join the tables, and unpickle the state to get the smile strings from the state"
   ]
  },
  {
   "cell_type": "code",
   "execution_count": 26,
   "metadata": {},
   "outputs": [
    {
     "data": {
      "text/html": [
       "<div>\n",
       "<style scoped>\n",
       "    .dataframe tbody tr th:only-of-type {\n",
       "        vertical-align: middle;\n",
       "    }\n",
       "\n",
       "    .dataframe tbody tr th {\n",
       "        vertical-align: top;\n",
       "    }\n",
       "\n",
       "    .dataframe thead th {\n",
       "        text-align: right;\n",
       "    }\n",
       "</style>\n",
       "<table border=\"1\" class=\"dataframe\">\n",
       "  <thead>\n",
       "    <tr style=\"text-align: right;\">\n",
       "      <th></th>\n",
       "      <th>digest</th>\n",
       "      <th>hash</th>\n",
       "      <th>run_id</th>\n",
       "      <th>time</th>\n",
       "      <th>reward</th>\n",
       "      <th>data</th>\n",
       "    </tr>\n",
       "  </thead>\n",
       "  <tbody>\n",
       "    <tr>\n",
       "      <th>97336</th>\n",
       "      <td>a84e72cd2c91d8d9db328af5e3b7ddd2287d48660bc7ee...</td>\n",
       "      <td>6675330499563234736</td>\n",
       "      <td>20210408_mol_diversity-2</td>\n",
       "      <td>2021-04-08 16:55:25.553472</td>\n",
       "      <td>194.345381</td>\n",
       "      <td>{'max_spin': '0.22334908', 'spin_buried_vol': ...</td>\n",
       "    </tr>\n",
       "    <tr>\n",
       "      <th>53892</th>\n",
       "      <td>5841ca4fd3404c68b09bbc74e1386d62932f8277a5dd9b...</td>\n",
       "      <td>-8546084274829997730</td>\n",
       "      <td>20210408_mol_diversity-2</td>\n",
       "      <td>2021-04-08 16:28:26.124941</td>\n",
       "      <td>193.096789</td>\n",
       "      <td>{'max_spin': '0.18126908', 'spin_buried_vol': ...</td>\n",
       "    </tr>\n",
       "    <tr>\n",
       "      <th>97508</th>\n",
       "      <td>bc718b4ea0798c87e4531fbaa8ba915b82f933e8ae70d2...</td>\n",
       "      <td>3307902544955723709</td>\n",
       "      <td>20210408_mol_diversity-2</td>\n",
       "      <td>2021-04-08 16:55:50.503506</td>\n",
       "      <td>189.717817</td>\n",
       "      <td>{'max_spin': '0.2694718', 'spin_buried_vol': '...</td>\n",
       "    </tr>\n",
       "  </tbody>\n",
       "</table>\n",
       "</div>"
      ],
      "text/plain": [
       "                                                  digest                 hash  \\\n",
       "97336  a84e72cd2c91d8d9db328af5e3b7ddd2287d48660bc7ee...  6675330499563234736   \n",
       "53892  5841ca4fd3404c68b09bbc74e1386d62932f8277a5dd9b... -8546084274829997730   \n",
       "97508  bc718b4ea0798c87e4531fbaa8ba915b82f933e8ae70d2...  3307902544955723709   \n",
       "\n",
       "                         run_id                       time      reward  \\\n",
       "97336  20210408_mol_diversity-2 2021-04-08 16:55:25.553472  194.345381   \n",
       "53892  20210408_mol_diversity-2 2021-04-08 16:28:26.124941  193.096789   \n",
       "97508  20210408_mol_diversity-2 2021-04-08 16:55:50.503506  189.717817   \n",
       "\n",
       "                                                    data  \n",
       "97336  {'max_spin': '0.22334908', 'spin_buried_vol': ...  \n",
       "53892  {'max_spin': '0.18126908', 'spin_buried_vol': ...  \n",
       "97508  {'max_spin': '0.2694718', 'spin_buried_vol': '...  "
      ]
     },
     "execution_count": 26,
     "metadata": {},
     "output_type": "execute_result"
    }
   ],
   "source": [
    "# look at some of the top rewards\n",
    "df = pd.read_sql(session.query(RewardStore).filter_by(run_id=run_id).statement, session.bind)\n",
    "# df['time_hours'] = (df.time - df.time.min()).apply(lambda x: x.total_seconds() / 3600)\n",
    "df = df.sort_values('reward', ascending=False)\n",
    "df_rew = df\n",
    "# df_rewards.reset_index(drop=True, inplace=True)\n",
    "df_rew.head(3)\n",
    "# how do I get the state back from the hash/digest?"
   ]
  },
  {
   "cell_type": "code",
   "execution_count": 28,
   "metadata": {},
   "outputs": [
    {
     "data": {
      "text/plain": [
       "digest    a84e72cd2c91d8d9db328af5e3b7ddd2287d48660bc7ee...\n",
       "hash                                    6675330499563234736\n",
       "run_id                             20210408_mol_diversity-2\n",
       "time                             2021-04-08 16:55:25.553472\n",
       "reward                                           194.345381\n",
       "data      {'max_spin': '0.22334908', 'spin_buried_vol': ...\n",
       "Name: 97336, dtype: object"
      ]
     },
     "execution_count": 28,
     "metadata": {},
     "output_type": "execute_result"
    }
   ],
   "source": [
    "df_rew.iloc[0]"
   ]
  },
  {
   "cell_type": "code",
   "execution_count": 29,
   "metadata": {},
   "outputs": [
    {
     "data": {
      "text/plain": [
       "{'max_spin': '0.22334908',\n",
       " 'spin_buried_vol': '56.579987',\n",
       " 'ionization_energy': '0.8489394187927246',\n",
       " 'electron_affinity': '-0.372755765914917',\n",
       " 'bde': '76.95124',\n",
       " 'bde_diff': '-4.2158127',\n",
       " 'forced_terminal': True,\n",
       " 'smiles': 'O=c1c([CH]O)c(SO)c(=O)c(=O)c1=O'}"
      ]
     },
     "execution_count": 29,
     "metadata": {},
     "output_type": "execute_result"
    }
   ],
   "source": [
    "df_rew.iloc[0]['data']"
   ]
  },
  {
   "cell_type": "code",
   "execution_count": 19,
   "metadata": {},
   "outputs": [],
   "source": [
    "# Code for raster image drawing\n",
    "import rdkit\n",
    "\n",
    "from rdkit import Chem\n",
    "from rdkit.Chem import Draw\n",
    "from rdkit.Chem.Draw import rdMolDraw2D\n",
    "from rdkit.Chem.Draw import SimilarityMaps\n",
    "from rdkit.Chem import rdDepictor\n",
    "from IPython.display import SVG"
   ]
  },
  {
   "cell_type": "code",
   "execution_count": 50,
   "metadata": {},
   "outputs": [
    {
     "ename": "NameError",
     "evalue": "name 'pred_spins' is not defined",
     "output_type": "error",
     "traceback": [
      "\u001b[0;31m---------------------------------------------------------------------------\u001b[0m",
      "\u001b[0;31mNameError\u001b[0m                                 Traceback (most recent call last)",
      "\u001b[0;32m<ipython-input-50-2b7e0c5a1bf9>\u001b[0m in \u001b[0;36m<module>\u001b[0;34m\u001b[0m\n\u001b[1;32m      3\u001b[0m \u001b[0;34m\u001b[0m\u001b[0m\n\u001b[1;32m      4\u001b[0m \u001b[0md\u001b[0m \u001b[0;34m=\u001b[0m \u001b[0mrdMolDraw2D\u001b[0m\u001b[0;34m.\u001b[0m\u001b[0mMolDraw2DSVG\u001b[0m\u001b[0;34m(\u001b[0m\u001b[0;36m400\u001b[0m\u001b[0;34m,\u001b[0m \u001b[0;36m400\u001b[0m\u001b[0;34m)\u001b[0m\u001b[0;34m\u001b[0m\u001b[0;34m\u001b[0m\u001b[0m\n\u001b[0;32m----> 5\u001b[0;31m \u001b[0mSimilarityMaps\u001b[0m\u001b[0;34m.\u001b[0m\u001b[0mGetSimilarityMapFromWeights\u001b[0m\u001b[0;34m(\u001b[0m\u001b[0mmol\u001b[0m\u001b[0;34m,\u001b[0m \u001b[0;34m[\u001b[0m\u001b[0mfloat\u001b[0m\u001b[0;34m(\u001b[0m\u001b[0mi\u001b[0m\u001b[0;34m)\u001b[0m \u001b[0;32mfor\u001b[0m \u001b[0mi\u001b[0m \u001b[0;32min\u001b[0m \u001b[0mpred_spins\u001b[0m\u001b[0;34m(\u001b[0m\u001b[0mmol\u001b[0m\u001b[0;34m)\u001b[0m\u001b[0;34m]\u001b[0m\u001b[0;34m,\u001b[0m \u001b[0mdraw2d\u001b[0m\u001b[0;34m=\u001b[0m\u001b[0md\u001b[0m\u001b[0;34m)\u001b[0m\u001b[0;34m\u001b[0m\u001b[0;34m\u001b[0m\u001b[0m\n\u001b[0m\u001b[1;32m      6\u001b[0m \u001b[0md\u001b[0m\u001b[0;34m.\u001b[0m\u001b[0mFinishDrawing\u001b[0m\u001b[0;34m(\u001b[0m\u001b[0;34m)\u001b[0m\u001b[0;34m\u001b[0m\u001b[0;34m\u001b[0m\u001b[0m\n\u001b[1;32m      7\u001b[0m \u001b[0mSVG\u001b[0m\u001b[0;34m(\u001b[0m\u001b[0md\u001b[0m\u001b[0;34m.\u001b[0m\u001b[0mGetDrawingText\u001b[0m\u001b[0;34m(\u001b[0m\u001b[0;34m)\u001b[0m\u001b[0;34m)\u001b[0m\u001b[0;34m\u001b[0m\u001b[0;34m\u001b[0m\u001b[0m\n",
      "\u001b[0;31mNameError\u001b[0m: name 'pred_spins' is not defined"
     ]
    }
   ],
   "source": [
    "# row = pass_gng.sample(1, random_state=5).iloc[0]\n",
    "# mol = Chem.MolFromSmiles(row.smiles)\n",
    "\n",
    "d = rdMolDraw2D.MolDraw2DSVG(400, 400)\n",
    "SimilarityMaps.GetSimilarityMapFromWeights(mol, [float(i) for i in pred_spins(mol)], draw2d=d)\n",
    "d.FinishDrawing()\n",
    "SVG(d.GetDrawingText())"
   ]
  },
  {
   "cell_type": "markdown",
   "metadata": {},
   "source": [
    "# Leftover code from augmenting_reward branch:"
   ]
  },
  {
   "cell_type": "code",
   "execution_count": null,
   "metadata": {},
   "outputs": [],
   "source": [
    "with psycopg2.connect(**config.dbparams) as conn:\n",
    "    experiment_ids = pd.read_sql_query(\"select distinct experiment_id from {}_game\".format(config.sql_basename), conn)\n",
    "    \n",
    "experiment_ids"
   ]
  },
  {
   "cell_type": "code",
   "execution_count": null,
   "metadata": {},
   "outputs": [],
   "source": [
    "fig, axs = plt.subplots(nrows=1, ncols=4, figsize=(13, 3), sharex=True, sharey=True)\n",
    "\n",
    "optimal = []\n",
    "for ax, atom in zip(axs, ['C', 'N', 'O', 'S']):\n",
    "    \n",
    "    ax.plot(rew_df[rew_df.atom_type == atom]['max_spin'],\n",
    "            rew_df[rew_df.atom_type == atom]['buried_vol'], '.', ms=1, alpha=.1, label='All radicals')\n",
    "    \n",
    "    ax.plot(stable_max_spin[stable_max_spin['atom-sym'] == atom]['fractional_spin'],\n",
    "            stable_max_spin[stable_max_spin['atom-sym'] == atom]['bur-vol'],\n",
    "            '.', label='Experimentally stable')\n",
    "    \n",
    "    ax.plot(pass_gng[pass_gng.atom_type == atom]['max_spin'],\n",
    "            pass_gng[pass_gng.atom_type == atom]['buried_vol'], '.', ms=1, label='Pass GNG')\n",
    "    \n",
    "    ax.set_title(atom)\n",
    "    \n",
    "axs[1].set_xlabel('Max Fractional Spin')\n",
    "axs[0].set_ylabel('Buried volume\\nat max spin')\n",
    "\n",
    "axs[-1].legend(loc='upper left', fontsize=12, markerscale=2)\n",
    "sns.despine()    "
   ]
  },
  {
   "cell_type": "code",
   "execution_count": null,
   "metadata": {},
   "outputs": [],
   "source": [
    "from matplotlib.patches import Polygon\n",
    "\n",
    "fig = plt.figure(figsize=(4,4))\n",
    "ax = fig.add_subplot(111, aspect='equal')\n",
    "\n",
    "ax.plot(rew_df['ea'], rew_df['ie'], '.', ms=1, alpha=.1)\n",
    "ax.plot(pass_gng['ea'], pass_gng['ie'], '.', ms=1, color='g')\n",
    "\n",
    "ax.add_patch(Polygon(np.array([(-.5, 1.2), (-.5, 0.5), (.2, 1.2)]), facecolor='none', zorder=5, edgecolor='r', lw=3, ls='--'))\n",
    "ax.set_xlim([-1.5, 1.5])\n",
    "ax.set_ylim([-1, 2])\n",
    "\n",
    "ax.axvspan(-.5, .2, facecolor='.8', edgecolor='none')\n",
    "ax.axhspan(.5, 1.2, facecolor='.8', edgecolor='none')\n",
    "\n",
    "ax.set_xlabel(r'$E_{1/2}^o$, EA (V)')\n",
    "ax.set_ylabel(r'$E_{1/2}^o$, IE (V)')"
   ]
  },
  {
   "cell_type": "code",
   "execution_count": null,
   "metadata": {},
   "outputs": [],
   "source": [
    "fig = plt.figure(figsize=(4,4))\n",
    "ax = fig.add_subplot(111)\n",
    "\n",
    "sns.kdeplot(rew_df.bde, label='All radicals')\n",
    "sns.kdeplot(pass_gng.bde, label='Pass GNG', color='g')\n",
    "plt.xlabel('BDE')\n",
    "plt.ylabel('Frequency')"
   ]
  },
  {
   "cell_type": "code",
   "execution_count": null,
   "metadata": {},
   "outputs": [],
   "source": [
    "df = rew_df[~rew_df.index.isin(pass_gng.index)].sort_values('real_reward', ascending=False)"
   ]
  },
  {
   "cell_type": "code",
   "execution_count": null,
   "metadata": {},
   "outputs": [],
   "source": [
    "pass_gng.sample(10)"
   ]
  },
  {
   "cell_type": "code",
   "execution_count": null,
   "metadata": {},
   "outputs": [],
   "source": [
    "rew_df[rew_df.real_reward > 200]"
   ]
  },
  {
   "cell_type": "code",
   "execution_count": null,
   "metadata": {},
   "outputs": [],
   "source": [
    "rew_df.real_reward.max()"
   ]
  },
  {
   "cell_type": "code",
   "execution_count": null,
   "metadata": {},
   "outputs": [],
   "source": [
    "plt.hist(rew_df.ie - rew_df.ea, bins=20)"
   ]
  },
  {
   "cell_type": "code",
   "execution_count": null,
   "metadata": {},
   "outputs": [],
   "source": [
    "fig = plt.figure(figsize=(4,4))\n",
    "ax = fig.add_subplot(111)\n",
    "\n",
    "plt.hist(rew_df.real_reward, label='All radicals', range=(0, 225))\n",
    "plt.hist(pass_gng.real_reward, label='Pass GNG', color='g', range=(0, 225))\n",
    "plt.xlabel('Reward')\n",
    "plt.ylabel('Frequency')"
   ]
  },
  {
   "cell_type": "code",
   "execution_count": null,
   "metadata": {},
   "outputs": [],
   "source": [
    "import tensorflow as tf\n",
    "gpus = tf.config.experimental.list_physical_devices('GPU')\n",
    "if gpus:\n",
    "    # Currently, memory growth needs to be the same across GPUs\n",
    "    for gpu in gpus:\n",
    "        tf.config.experimental.set_memory_growth(gpu, True)\n",
    "import nfp"
   ]
  },
  {
   "cell_type": "code",
   "execution_count": null,
   "metadata": {},
   "outputs": [],
   "source": [
    "from reward import predict, stability_model\n",
    "from alphazero.node import Node\n",
    "\n",
    "def pred_spins(mol):\n",
    "    spins, _ = predict(stability_model, \n",
    "        {key: tf.constant(np.expand_dims(val, 0))\n",
    "         for key, val in Node(mol).policy_inputs.items()})\n",
    "    \n",
    "    return spins.numpy().flatten()"
   ]
  },
  {
   "cell_type": "code",
   "execution_count": 24,
   "metadata": {},
   "outputs": [
    {
     "data": {
      "image/png": "[encoded data removed]",
      "text/plain": [
       "<Figure size 412.5x375 with 2 Axes>"
      ]
     },
     "metadata": {
      "needs_background": "light"
     },
     "output_type": "display_data"
    }
   ],
   "source": [
    "# Load the game buffer\n",
    "with psycopg2.connect(**config.dbparams) as conn:\n",
    "    df = pd.read_sql_query(\"select * from {}_game where experiment_id = %s\".format(\n",
    "        config.sql_basename), conn, params=(config.experiment_id,))\n",
    "    \n",
    "# Load the policy training history\n",
    "try:\n",
    "    log = pd.read_csv(os.path.join(config.checkpoint_filepath, 'log.csv'))\n",
    "    log['time'] = pd.to_datetime(log.time)\n",
    "except Exception:\n",
    "    log = None\n",
    "\n",
    "df['time_hours'] = (df.time - df.time.min()).apply(lambda x: x.total_seconds() / 3600)\n",
    "\n",
    "if log is not None:\n",
    "    log['time_hours'] = (log.time - df.time.min()).apply(lambda x: x.total_seconds() / 3600)\n",
    "\n",
    "df = df.sort_values('time_hours')\n",
    "\n",
    "fig, axs = plt.subplots(sharex=True, nrows=2, figsize=(2.75, 2.5), dpi=150)\n",
    "\n",
    "axs[0].plot(df.time_hours, df.real_reward, '.', ms=.75, label='games')\n",
    "axs[0].plot(df.time_hours, df.real_reward.rolling(250, min_periods=50).quantile(.75), label='$r_{75}$')\n",
    "\n",
    "if log is not None:\n",
    "    axs[1].plot(log.time_hours, log.policy_wrapper_loss, label='value loss')\n",
    "    axs[1].plot(log.time_hours, log.policy_wrapper_1_loss, label='prior loss')\n",
    "\n",
    "axs[0].legend(loc='upper right', ncol=2, borderpad=0, borderaxespad=0.3, bbox_to_anchor=(1., 1.1), markerscale=10)\n",
    "axs[1].legend(ncol=2, borderpad=0, borderaxespad=0.3)\n",
    "\n",
    "axs[0].set_ylim([0, 250])\n",
    "\n",
    "axs[0].set_ylabel('Reward')\n",
    "axs[1].set_ylabel('Policy Training')\n",
    "axs[1].set_xlabel('Time (hours)')\n",
    "\n",
    "axs[1].set_ylim([0, .7])\n",
    "axs[1].set_xlim([-.01, 4])\n",
    "\n",
    "plt.tight_layout()\n",
    "sns.despine(offset=5, trim=True)\n",
    "# plt.savefig('20210204_policy_loss.svg')"
   ]
  },
  {
   "cell_type": "code",
   "execution_count": null,
   "metadata": {},
   "outputs": [],
   "source": [
    "with psycopg2.connect(**config.dbparams) as conn:\n",
    "    experiment_ids = pd.read_sql_query(\"select distinct experiment_id from {}_game\".format(config.sql_basename), conn)\n",
    "    \n",
    "experiment_ids"
   ]
  },
  {
   "cell_type": "code",
   "execution_count": 26,
   "metadata": {},
   "outputs": [
    {
     "data": {
      "text/plain": [
       "(192514, 10)"
      ]
     },
     "execution_count": 26,
     "metadata": {},
     "output_type": "execute_result"
    }
   ],
   "source": [
    "# Load the reward buffer to plot the optimal molecules\n",
    "with psycopg2.connect(**config.dbparams) as conn:\n",
    "    rew_df = pd.read_sql_query(\"select * from {}_reward\".format(config.sql_basename), conn)\n",
    "\n",
    "rew_df.shape"
   ]
  },
  {
   "cell_type": "code",
   "execution_count": 28,
   "metadata": {},
   "outputs": [
    {
     "data": {
      "text/html": [
       "<div>\n",
       "<style scoped>\n",
       "    .dataframe tbody tr th:only-of-type {\n",
       "        vertical-align: middle;\n",
       "    }\n",
       "\n",
       "    .dataframe tbody tr th {\n",
       "        vertical-align: top;\n",
       "    }\n",
       "\n",
       "    .dataframe thead th {\n",
       "        text-align: right;\n",
       "    }\n",
       "</style>\n",
       "<table border=\"1\" class=\"dataframe\">\n",
       "  <thead>\n",
       "    <tr style=\"text-align: right;\">\n",
       "      <th></th>\n",
       "      <th>smiles</th>\n",
       "      <th>time</th>\n",
       "      <th>real_reward</th>\n",
       "      <th>atom_type</th>\n",
       "      <th>buried_vol</th>\n",
       "      <th>max_spin</th>\n",
       "      <th>atom_index</th>\n",
       "      <th>ie</th>\n",
       "      <th>ea</th>\n",
       "      <th>bde</th>\n",
       "    </tr>\n",
       "  </thead>\n",
       "  <tbody>\n",
       "    <tr>\n",
       "      <th>176797</th>\n",
       "      <td>CCC(C)(C)c1c([O])oc(C)c1C(C)=O</td>\n",
       "      <td>2021-02-17 09:45:59.768796</td>\n",
       "      <td>228.93843</td>\n",
       "      <td>C</td>\n",
       "      <td>71.134260</td>\n",
       "      <td>0.343698</td>\n",
       "      <td>5</td>\n",
       "      <td>0.887471</td>\n",
       "      <td>-0.318515</td>\n",
       "      <td>66.861620</td>\n",
       "    </tr>\n",
       "    <tr>\n",
       "      <th>125498</th>\n",
       "      <td>CC(=O)c1c(C)oc([O])c1C(C)(C)C</td>\n",
       "      <td>2021-02-17 08:09:52.966174</td>\n",
       "      <td>226.83424</td>\n",
       "      <td>C</td>\n",
       "      <td>68.008606</td>\n",
       "      <td>0.323353</td>\n",
       "      <td>9</td>\n",
       "      <td>0.875751</td>\n",
       "      <td>-0.312925</td>\n",
       "      <td>66.374540</td>\n",
       "    </tr>\n",
       "    <tr>\n",
       "      <th>125094</th>\n",
       "      <td>CCC(=O)c1c(C)oc([O])c1C(C)(C)C</td>\n",
       "      <td>2021-02-17 08:09:20.995981</td>\n",
       "      <td>226.61505</td>\n",
       "      <td>C</td>\n",
       "      <td>67.752914</td>\n",
       "      <td>0.322622</td>\n",
       "      <td>10</td>\n",
       "      <td>0.888569</td>\n",
       "      <td>-0.305805</td>\n",
       "      <td>66.333340</td>\n",
       "    </tr>\n",
       "    <tr>\n",
       "      <th>136281</th>\n",
       "      <td>CN(C)C(=O)c1cc([O])oc1C(C)(C)C</td>\n",
       "      <td>2021-02-17 08:20:08.744508</td>\n",
       "      <td>225.49966</td>\n",
       "      <td>C</td>\n",
       "      <td>65.384890</td>\n",
       "      <td>0.297704</td>\n",
       "      <td>10</td>\n",
       "      <td>1.035426</td>\n",
       "      <td>-0.222373</td>\n",
       "      <td>66.808180</td>\n",
       "    </tr>\n",
       "    <tr>\n",
       "      <th>165312</th>\n",
       "      <td>CC(C)(C)c1oc([O])cc1CC1CCC1</td>\n",
       "      <td>2021-02-17 09:13:38.791297</td>\n",
       "      <td>224.90038</td>\n",
       "      <td>C</td>\n",
       "      <td>64.735200</td>\n",
       "      <td>0.296694</td>\n",
       "      <td>4</td>\n",
       "      <td>0.785250</td>\n",
       "      <td>-0.380811</td>\n",
       "      <td>64.063410</td>\n",
       "    </tr>\n",
       "    <tr>\n",
       "      <th>175509</th>\n",
       "      <td>Cc1c([O])oc(C(C)(C)C)c1C(=O)O</td>\n",
       "      <td>2021-02-17 09:41:10.768260</td>\n",
       "      <td>224.88399</td>\n",
       "      <td>C</td>\n",
       "      <td>64.216760</td>\n",
       "      <td>0.286655</td>\n",
       "      <td>5</td>\n",
       "      <td>1.049485</td>\n",
       "      <td>-0.198916</td>\n",
       "      <td>64.054910</td>\n",
       "    </tr>\n",
       "    <tr>\n",
       "      <th>136082</th>\n",
       "      <td>CC(C)(C)c1oc([O])cc1C1CCCC1</td>\n",
       "      <td>2021-02-17 08:19:55.934197</td>\n",
       "      <td>224.66174</td>\n",
       "      <td>C</td>\n",
       "      <td>64.541245</td>\n",
       "      <td>0.297513</td>\n",
       "      <td>4</td>\n",
       "      <td>0.836493</td>\n",
       "      <td>-0.368242</td>\n",
       "      <td>63.879440</td>\n",
       "    </tr>\n",
       "    <tr>\n",
       "      <th>134082</th>\n",
       "      <td>C=C(CC)c1cc(C)cc2oc([O])cc12</td>\n",
       "      <td>2021-02-17 08:18:14.043986</td>\n",
       "      <td>224.45474</td>\n",
       "      <td>C</td>\n",
       "      <td>60.641690</td>\n",
       "      <td>0.223551</td>\n",
       "      <td>4</td>\n",
       "      <td>0.867900</td>\n",
       "      <td>-0.291949</td>\n",
       "      <td>67.947070</td>\n",
       "    </tr>\n",
       "    <tr>\n",
       "      <th>134135</th>\n",
       "      <td>COC(=O)c1c(C(C)(C)C)oc([O])c1C</td>\n",
       "      <td>2021-02-17 08:18:15.852003</td>\n",
       "      <td>224.38110</td>\n",
       "      <td>C</td>\n",
       "      <td>64.325590</td>\n",
       "      <td>0.298889</td>\n",
       "      <td>5</td>\n",
       "      <td>1.025686</td>\n",
       "      <td>-0.223408</td>\n",
       "      <td>64.045340</td>\n",
       "    </tr>\n",
       "    <tr>\n",
       "      <th>124170</th>\n",
       "      <td>CC(C)(C)c1ccc([O])n1CCC#N</td>\n",
       "      <td>2021-02-17 08:08:22.791707</td>\n",
       "      <td>224.02309</td>\n",
       "      <td>C</td>\n",
       "      <td>65.790290</td>\n",
       "      <td>0.300760</td>\n",
       "      <td>4</td>\n",
       "      <td>0.719211</td>\n",
       "      <td>-0.381316</td>\n",
       "      <td>66.194930</td>\n",
       "    </tr>\n",
       "    <tr>\n",
       "      <th>127533</th>\n",
       "      <td>CC(C)(C)c1oc([O])cc1CCCCO</td>\n",
       "      <td>2021-02-17 08:12:40.613377</td>\n",
       "      <td>223.87054</td>\n",
       "      <td>C</td>\n",
       "      <td>64.639410</td>\n",
       "      <td>0.315377</td>\n",
       "      <td>4</td>\n",
       "      <td>0.783142</td>\n",
       "      <td>-0.361111</td>\n",
       "      <td>64.063410</td>\n",
       "    </tr>\n",
       "    <tr>\n",
       "      <th>127946</th>\n",
       "      <td>COCCCc1cc([O])oc1C(C)(C)C</td>\n",
       "      <td>2021-02-17 08:12:55.032334</td>\n",
       "      <td>223.77542</td>\n",
       "      <td>C</td>\n",
       "      <td>65.050460</td>\n",
       "      <td>0.322469</td>\n",
       "      <td>10</td>\n",
       "      <td>0.779153</td>\n",
       "      <td>-0.384748</td>\n",
       "      <td>64.063410</td>\n",
       "    </tr>\n",
       "    <tr>\n",
       "      <th>121586</th>\n",
       "      <td>CCCCc1cc([O])oc1C(C)(C)C</td>\n",
       "      <td>2021-02-17 08:06:36.660495</td>\n",
       "      <td>223.75621</td>\n",
       "      <td>C</td>\n",
       "      <td>64.384834</td>\n",
       "      <td>0.312571</td>\n",
       "      <td>9</td>\n",
       "      <td>0.800622</td>\n",
       "      <td>-0.364602</td>\n",
       "      <td>64.063410</td>\n",
       "    </tr>\n",
       "    <tr>\n",
       "      <th>126696</th>\n",
       "      <td>CC(C)(C)c1oc([O])cc1CCC(=O)O</td>\n",
       "      <td>2021-02-17 08:11:47.297534</td>\n",
       "      <td>223.73830</td>\n",
       "      <td>C</td>\n",
       "      <td>64.775894</td>\n",
       "      <td>0.320751</td>\n",
       "      <td>4</td>\n",
       "      <td>0.890640</td>\n",
       "      <td>-0.308217</td>\n",
       "      <td>64.063410</td>\n",
       "    </tr>\n",
       "    <tr>\n",
       "      <th>127445</th>\n",
       "      <td>CCCCCc1cc([O])oc1C(C)(C)C</td>\n",
       "      <td>2021-02-17 08:12:36.445930</td>\n",
       "      <td>223.51723</td>\n",
       "      <td>C</td>\n",
       "      <td>64.304740</td>\n",
       "      <td>0.315749</td>\n",
       "      <td>10</td>\n",
       "      <td>0.792054</td>\n",
       "      <td>-0.373907</td>\n",
       "      <td>64.063410</td>\n",
       "    </tr>\n",
       "    <tr>\n",
       "      <th>112261</th>\n",
       "      <td>CCCNCc1cc([O])oc1C(C)(C)C</td>\n",
       "      <td>2021-02-17 07:59:02.029492</td>\n",
       "      <td>222.74959</td>\n",
       "      <td>C</td>\n",
       "      <td>63.769505</td>\n",
       "      <td>0.314262</td>\n",
       "      <td>10</td>\n",
       "      <td>0.809701</td>\n",
       "      <td>-0.385853</td>\n",
       "      <td>64.063410</td>\n",
       "    </tr>\n",
       "    <tr>\n",
       "      <th>187401</th>\n",
       "      <td>COCC(=O)c1c(C)oc([O])c1C(C)C</td>\n",
       "      <td>2021-02-17 10:52:52.211034</td>\n",
       "      <td>222.74486</td>\n",
       "      <td>C</td>\n",
       "      <td>63.549670</td>\n",
       "      <td>0.316028</td>\n",
       "      <td>11</td>\n",
       "      <td>0.883828</td>\n",
       "      <td>-0.268996</td>\n",
       "      <td>64.274750</td>\n",
       "    </tr>\n",
       "    <tr>\n",
       "      <th>133059</th>\n",
       "      <td>CC(C)c1c([O])oc2c1C(=O)CCCC2</td>\n",
       "      <td>2021-02-17 08:17:30.645148</td>\n",
       "      <td>222.73338</td>\n",
       "      <td>C</td>\n",
       "      <td>62.148060</td>\n",
       "      <td>0.287841</td>\n",
       "      <td>3</td>\n",
       "      <td>0.772012</td>\n",
       "      <td>-0.347211</td>\n",
       "      <td>65.010220</td>\n",
       "    </tr>\n",
       "    <tr>\n",
       "      <th>184796</th>\n",
       "      <td>CC(=O)c1c(C)oc([O])c1CC(C)(C)C</td>\n",
       "      <td>2021-02-17 10:37:49.651800</td>\n",
       "      <td>222.64786</td>\n",
       "      <td>C</td>\n",
       "      <td>63.874683</td>\n",
       "      <td>0.324526</td>\n",
       "      <td>9</td>\n",
       "      <td>0.897573</td>\n",
       "      <td>-0.302955</td>\n",
       "      <td>64.146805</td>\n",
       "    </tr>\n",
       "    <tr>\n",
       "      <th>184582</th>\n",
       "      <td>CCCCc1cc(C(C)(C)CC)c([O])o1</td>\n",
       "      <td>2021-02-17 10:36:16.877332</td>\n",
       "      <td>222.61852</td>\n",
       "      <td>C</td>\n",
       "      <td>65.216430</td>\n",
       "      <td>0.311320</td>\n",
       "      <td>6</td>\n",
       "      <td>0.790035</td>\n",
       "      <td>-0.401964</td>\n",
       "      <td>65.648160</td>\n",
       "    </tr>\n",
       "  </tbody>\n",
       "</table>\n",
       "</div>"
      ],
      "text/plain": [
       "                                smiles                       time  \\\n",
       "176797  CCC(C)(C)c1c([O])oc(C)c1C(C)=O 2021-02-17 09:45:59.768796   \n",
       "125498   CC(=O)c1c(C)oc([O])c1C(C)(C)C 2021-02-17 08:09:52.966174   \n",
       "125094  CCC(=O)c1c(C)oc([O])c1C(C)(C)C 2021-02-17 08:09:20.995981   \n",
       "136281  CN(C)C(=O)c1cc([O])oc1C(C)(C)C 2021-02-17 08:20:08.744508   \n",
       "165312     CC(C)(C)c1oc([O])cc1CC1CCC1 2021-02-17 09:13:38.791297   \n",
       "175509   Cc1c([O])oc(C(C)(C)C)c1C(=O)O 2021-02-17 09:41:10.768260   \n",
       "136082     CC(C)(C)c1oc([O])cc1C1CCCC1 2021-02-17 08:19:55.934197   \n",
       "134082    C=C(CC)c1cc(C)cc2oc([O])cc12 2021-02-17 08:18:14.043986   \n",
       "134135  COC(=O)c1c(C(C)(C)C)oc([O])c1C 2021-02-17 08:18:15.852003   \n",
       "124170       CC(C)(C)c1ccc([O])n1CCC#N 2021-02-17 08:08:22.791707   \n",
       "127533       CC(C)(C)c1oc([O])cc1CCCCO 2021-02-17 08:12:40.613377   \n",
       "127946       COCCCc1cc([O])oc1C(C)(C)C 2021-02-17 08:12:55.032334   \n",
       "121586        CCCCc1cc([O])oc1C(C)(C)C 2021-02-17 08:06:36.660495   \n",
       "126696    CC(C)(C)c1oc([O])cc1CCC(=O)O 2021-02-17 08:11:47.297534   \n",
       "127445       CCCCCc1cc([O])oc1C(C)(C)C 2021-02-17 08:12:36.445930   \n",
       "112261       CCCNCc1cc([O])oc1C(C)(C)C 2021-02-17 07:59:02.029492   \n",
       "187401    COCC(=O)c1c(C)oc([O])c1C(C)C 2021-02-17 10:52:52.211034   \n",
       "133059    CC(C)c1c([O])oc2c1C(=O)CCCC2 2021-02-17 08:17:30.645148   \n",
       "184796  CC(=O)c1c(C)oc([O])c1CC(C)(C)C 2021-02-17 10:37:49.651800   \n",
       "184582     CCCCc1cc(C(C)(C)CC)c([O])o1 2021-02-17 10:36:16.877332   \n",
       "\n",
       "        real_reward atom_type  buried_vol  max_spin  atom_index        ie  \\\n",
       "176797    228.93843         C   71.134260  0.343698           5  0.887471   \n",
       "125498    226.83424         C   68.008606  0.323353           9  0.875751   \n",
       "125094    226.61505         C   67.752914  0.322622          10  0.888569   \n",
       "136281    225.49966         C   65.384890  0.297704          10  1.035426   \n",
       "165312    224.90038         C   64.735200  0.296694           4  0.785250   \n",
       "175509    224.88399         C   64.216760  0.286655           5  1.049485   \n",
       "136082    224.66174         C   64.541245  0.297513           4  0.836493   \n",
       "134082    224.45474         C   60.641690  0.223551           4  0.867900   \n",
       "134135    224.38110         C   64.325590  0.298889           5  1.025686   \n",
       "124170    224.02309         C   65.790290  0.300760           4  0.719211   \n",
       "127533    223.87054         C   64.639410  0.315377           4  0.783142   \n",
       "127946    223.77542         C   65.050460  0.322469          10  0.779153   \n",
       "121586    223.75621         C   64.384834  0.312571           9  0.800622   \n",
       "126696    223.73830         C   64.775894  0.320751           4  0.890640   \n",
       "127445    223.51723         C   64.304740  0.315749          10  0.792054   \n",
       "112261    222.74959         C   63.769505  0.314262          10  0.809701   \n",
       "187401    222.74486         C   63.549670  0.316028          11  0.883828   \n",
       "133059    222.73338         C   62.148060  0.287841           3  0.772012   \n",
       "184796    222.64786         C   63.874683  0.324526           9  0.897573   \n",
       "184582    222.61852         C   65.216430  0.311320           6  0.790035   \n",
       "\n",
       "              ea        bde  \n",
       "176797 -0.318515  66.861620  \n",
       "125498 -0.312925  66.374540  \n",
       "125094 -0.305805  66.333340  \n",
       "136281 -0.222373  66.808180  \n",
       "165312 -0.380811  64.063410  \n",
       "175509 -0.198916  64.054910  \n",
       "136082 -0.368242  63.879440  \n",
       "134082 -0.291949  67.947070  \n",
       "134135 -0.223408  64.045340  \n",
       "124170 -0.381316  66.194930  \n",
       "127533 -0.361111  64.063410  \n",
       "127946 -0.384748  64.063410  \n",
       "121586 -0.364602  64.063410  \n",
       "126696 -0.308217  64.063410  \n",
       "127445 -0.373907  64.063410  \n",
       "112261 -0.385853  64.063410  \n",
       "187401 -0.268996  64.274750  \n",
       "133059 -0.347211  65.010220  \n",
       "184796 -0.302955  64.146805  \n",
       "184582 -0.401964  65.648160  "
      ]
     },
     "execution_count": 28,
     "metadata": {},
     "output_type": "execute_result"
    }
   ],
   "source": [
    "rew_df.sort_values('real_reward', ascending=False).head(20)"
   ]
  },
  {
   "cell_type": "code",
   "execution_count": null,
   "metadata": {},
   "outputs": [],
   "source": [
    "stable_df = pd.read_csv('/home/pstjohn/Research/20200608_redox_calculations/stable_radicals/spin-charges-bur-vol-stable-radicals-all-atoms-with-smi.csv')\n",
    "\n",
    "stable_df_noH = stable_df[~stable_df['atom-sym-idx'].str.startswith('H')]\n",
    "stable_df['fractional_spin'] = stable_df_noH.groupby('File')['spin-density'].transform(lambda x: x.abs() / x.abs().sum())\n",
    "\n",
    "stable_idx_max_spin = stable_df.groupby('File').fractional_spin.idxmax()\n",
    "stable_max_spin = stable_df.loc[stable_idx_max_spin]"
   ]
  },
  {
   "cell_type": "code",
   "execution_count": 44,
   "metadata": {},
   "outputs": [],
   "source": [
    "from rdkit import Chem"
   ]
  },
  {
   "cell_type": "code",
   "execution_count": null,
   "metadata": {},
   "outputs": [],
   "source": [
    "stable_df['smiles'] = stable_df.Smiles.apply(lambda x: Chem.MolToSmiles(Chem.MolFromSmiles(x)))"
   ]
  },
  {
   "cell_type": "code",
   "execution_count": null,
   "metadata": {},
   "outputs": [],
   "source": [
    "rew_df[rew_df.smiles.isin(stable_df.smiles)]"
   ]
  },
  {
   "cell_type": "code",
   "execution_count": null,
   "metadata": {},
   "outputs": [],
   "source": [
    "pass_gng = rew_df[(rew_df.bde < 80) & (rew_df.bde > 60) &\n",
    "                  (rew_df.ie < 1.2) & (rew_df.ea > -.5) &\n",
    "                  ((rew_df.ie - rew_df.ea) > 1) &\n",
    "                  ((rew_df.buried_vol + 50 * (1 - rew_df.max_spin)) > 100.)]"
   ]
  },
  {
   "cell_type": "code",
   "execution_count": null,
   "metadata": {},
   "outputs": [],
   "source": [
    "pass_gng.shape"
   ]
  },
  {
   "cell_type": "code",
   "execution_count": null,
   "metadata": {},
   "outputs": [],
   "source": [
    "pass_gng.to_csv('20210109_gng_radicals.csv.gz', compression='gzip')"
   ]
  },
  {
   "cell_type": "code",
   "execution_count": null,
   "metadata": {},
   "outputs": [],
   "source": [
    "from reward import redox_model, predict"
   ]
  },
  {
   "cell_type": "code",
   "execution_count": null,
   "metadata": {},
   "outputs": [],
   "source": [
    "from alphazero.node import Node"
   ]
  },
  {
   "cell_type": "code",
   "execution_count": null,
   "metadata": {},
   "outputs": [],
   "source": [
    "import tensorflow as tf"
   ]
  },
  {
   "cell_type": "code",
   "execution_count": null,
   "metadata": {},
   "outputs": [],
   "source": [
    "def pred_redox(smiles):\n",
    "    return predict(redox_model,\n",
    "        {key: tf.constant(np.expand_dims(val, 0))\n",
    "         for key, val in Node(rdkit.Chem.MolFromSmiles(smiles)).policy_inputs.items()}).numpy().flatten()"
   ]
  },
  {
   "cell_type": "code",
   "execution_count": null,
   "metadata": {},
   "outputs": [],
   "source": [
    "from tqdm import tqdm\n",
    "tqdm.pandas()"
   ]
  },
  {
   "cell_type": "code",
   "execution_count": null,
   "metadata": {},
   "outputs": [],
   "source": [
    "redox = pass_gng.smiles.progress_apply(pred_redox)"
   ]
  },
  {
   "cell_type": "code",
   "execution_count": null,
   "metadata": {},
   "outputs": [],
   "source": [
    "plt.plot(np.vstack(redox.values)[:, 0], pass_gng.ie, '.')"
   ]
  },
  {
   "cell_type": "code",
   "execution_count": null,
   "metadata": {},
   "outputs": [],
   "source": [
    "(pass_gng.ie - np.vstack(redox.values)[:, 0]).abs().mean()"
   ]
  },
  {
   "cell_type": "code",
   "execution_count": null,
   "metadata": {},
   "outputs": [],
   "source": [
    "Node(rdkit.Chem.MolFromSmiles('CC(=S)C1=C(C)[CH]CCC1(C)C')).policy_inputs"
   ]
  },
  {
   "cell_type": "code",
   "execution_count": null,
   "metadata": {},
   "outputs": [],
   "source": []
  },
  {
   "cell_type": "code",
   "execution_count": null,
   "metadata": {},
   "outputs": [],
   "source": [
    "fig, axs = plt.subplots(nrows=1, ncols=4, figsize=(13, 3), sharex=True, sharey=True)\n",
    "\n",
    "optimal = []\n",
    "for ax, atom in zip(axs, ['C', 'N', 'O', 'S']):\n",
    "    \n",
    "    ax.plot(rew_df[rew_df.atom_type == atom]['max_spin'],\n",
    "            rew_df[rew_df.atom_type == atom]['buried_vol'], '.', ms=1, alpha=.1, label='All radicals')\n",
    "    \n",
    "    ax.plot(stable_max_spin[stable_max_spin['atom-sym'] == atom]['fractional_spin'],\n",
    "            stable_max_spin[stable_max_spin['atom-sym'] == atom]['bur-vol'],\n",
    "            '.', label='Experimentally stable')\n",
    "    \n",
    "    ax.plot(pass_gng[pass_gng.atom_type == atom]['max_spin'],\n",
    "            pass_gng[pass_gng.atom_type == atom]['buried_vol'], '.', ms=1, label='Pass GNG')\n",
    "    \n",
    "    ax.set_title(atom)\n",
    "    \n",
    "axs[1].set_xlabel('Max Fractional Spin')\n",
    "axs[0].set_ylabel('Buried volume\\nat max spin')\n",
    "\n",
    "axs[-1].legend(loc='upper left', fontsize=12, markerscale=2)\n",
    "sns.despine()    "
   ]
  },
  {
   "cell_type": "code",
   "execution_count": null,
   "metadata": {},
   "outputs": [],
   "source": [
    "from matplotlib.patches import Polygon\n",
    "\n",
    "fig = plt.figure(figsize=(4,4))\n",
    "ax = fig.add_subplot(111, aspect='equal')\n",
    "\n",
    "ax.plot(rew_df['ea'], rew_df['ie'], '.', ms=1, alpha=.1)\n",
    "ax.plot(pass_gng['ea'], pass_gng['ie'], '.', ms=1, color='g')\n",
    "\n",
    "ax.add_patch(Polygon(np.array([(-.5, 1.2), (-.5, 0.5), (.2, 1.2)]), facecolor='none', zorder=5, edgecolor='r', lw=3, ls='--'))\n",
    "ax.set_xlim([-1.5, 1.5])\n",
    "ax.set_ylim([-1, 2])\n",
    "\n",
    "ax.axvspan(-.5, .2, facecolor='.8', edgecolor='none')\n",
    "ax.axhspan(.5, 1.2, facecolor='.8', edgecolor='none')\n",
    "\n",
    "ax.set_xlabel(r'$E_{1/2}^o$, EA (V)')\n",
    "ax.set_ylabel(r'$E_{1/2}^o$, IE (V)')"
   ]
  },
  {
   "cell_type": "code",
   "execution_count": null,
   "metadata": {},
   "outputs": [],
   "source": [
    "fig = plt.figure(figsize=(4,4))\n",
    "ax = fig.add_subplot(111)\n",
    "\n",
    "sns.kdeplot(rew_df.bde, label='All radicals')\n",
    "sns.kdeplot(pass_gng.bde, label='Pass GNG', color='g')\n",
    "plt.xlabel('BDE')\n",
    "plt.ylabel('Frequency')"
   ]
  },
  {
   "cell_type": "code",
   "execution_count": null,
   "metadata": {},
   "outputs": [],
   "source": [
    "df = rew_df[~rew_df.index.isin(pass_gng.index)].sort_values('real_reward', ascending=False)"
   ]
  },
  {
   "cell_type": "code",
   "execution_count": null,
   "metadata": {},
   "outputs": [],
   "source": [
    "pass_gng.sample(10)"
   ]
  },
  {
   "cell_type": "code",
   "execution_count": null,
   "metadata": {},
   "outputs": [],
   "source": [
    "rew_df[rew_df.real_reward > 200]"
   ]
  },
  {
   "cell_type": "code",
   "execution_count": null,
   "metadata": {},
   "outputs": [],
   "source": [
    "rew_df.real_reward.max()"
   ]
  },
  {
   "cell_type": "code",
   "execution_count": null,
   "metadata": {},
   "outputs": [],
   "source": [
    "plt.hist(rew_df.ie - rew_df.ea, bins=20)"
   ]
  },
  {
   "cell_type": "code",
   "execution_count": null,
   "metadata": {},
   "outputs": [],
   "source": [
    "fig = plt.figure(figsize=(4,4))\n",
    "ax = fig.add_subplot(111)\n",
    "\n",
    "plt.hist(rew_df.real_reward, label='All radicals', range=(0, 225))\n",
    "plt.hist(pass_gng.real_reward, label='Pass GNG', color='g', range=(0, 225))\n",
    "plt.xlabel('Reward')\n",
    "plt.ylabel('Frequency')"
   ]
  },
  {
   "cell_type": "code",
   "execution_count": null,
   "metadata": {},
   "outputs": [],
   "source": [
    "import tensorflow as tf\n",
    "gpus = tf.config.experimental.list_physical_devices('GPU')\n",
    "if gpus:\n",
    "    # Currently, memory growth needs to be the same across GPUs\n",
    "    for gpu in gpus:\n",
    "        tf.config.experimental.set_memory_growth(gpu, True)\n",
    "import nfp"
   ]
  },
  {
   "cell_type": "code",
   "execution_count": null,
   "metadata": {},
   "outputs": [],
   "source": [
    "from reward import predict, stability_model\n",
    "from alphazero.node import Node\n",
    "\n",
    "def pred_spins(mol):\n",
    "    spins, _ = predict(stability_model, \n",
    "        {key: tf.constant(np.expand_dims(val, 0))\n",
    "         for key, val in Node(mol).policy_inputs.items()})\n",
    "    \n",
    "    return spins.numpy().flatten()"
   ]
  },
  {
   "cell_type": "code",
   "execution_count": 49,
   "metadata": {},
   "outputs": [],
   "source": [
    "# Code for raster image drawing\n",
    "import rdkit\n",
    "\n",
    "from rdkit import Chem\n",
    "from rdkit.Chem import Draw\n",
    "from rdkit.Chem.Draw import rdMolDraw2D\n",
    "from rdkit.Chem.Draw import SimilarityMaps\n",
    "from rdkit.Chem import rdDepictor\n",
    "from IPython.display import SVG"
   ]
  },
  {
   "cell_type": "code",
   "execution_count": null,
   "metadata": {},
   "outputs": [],
   "source": [
    "row = pass_gng.sample(1, random_state=5).iloc[0]\n",
    "mol = Chem.MolFromSmiles(row.smiles)\n",
    "\n",
    "d = rdMolDraw2D.MolDraw2DSVG(400, 400)\n",
    "SimilarityMaps.GetSimilarityMapFromWeights(mol, [float(i) for i in pred_spins(mol)], draw2d=d)\n",
    "d.FinishDrawing()\n",
    "SVG(d.GetDrawingText())"
   ]
  }
 ],
 "metadata": {
  "kernelspec": {
   "display_name": "Python 3",
   "language": "python",
   "name": "python3"
  },
  "language_info": {
   "codemirror_mode": {
    "name": "ipython",
    "version": 3
   },
   "file_extension": ".py",
   "mimetype": "text/x-python",
   "name": "python",
   "nbconvert_exporter": "python",
   "pygments_lexer": "ipython3",
   "version": "3.7.9"
  }
 },
 "nbformat": 4,
 "nbformat_minor": 4
}
