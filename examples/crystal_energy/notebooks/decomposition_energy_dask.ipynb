{
 "cells": [
  {
   "cell_type": "code",
   "execution_count": 1,
   "id": "90c4e1f0-0603-47b0-b442-64e92ab08b61",
   "metadata": {},
   "outputs": [
    {
     "data": {
      "text/plain": [
       "'/home/jlaw/projects/arpa-e/crystals/rlmolecule/examples/crystal_energy'"
      ]
     },
     "execution_count": 1,
     "metadata": {},
     "output_type": "execute_result"
    }
   ],
   "source": [
    "import os\n",
    "os.chdir('../')\n",
    "os.getcwd()"
   ]
  },
  {
   "cell_type": "code",
   "execution_count": 2,
   "id": "a63b921c-4e9a-443f-b78e-237f054aa0e4",
   "metadata": {},
   "outputs": [
    {
     "name": "stderr",
     "output_type": "stream",
     "text": [
      "/home/jlaw/.conda/envs/crystals/lib/python3.8/site-packages/dask_jobqueue/core.py:19: FutureWarning: format_bytes is deprecated and will be removed in a future release. Please use dask.utils.format_bytes instead.\n",
      "  from distributed.utils import format_bytes, parse_bytes, tmpfile\n",
      "/home/jlaw/.conda/envs/crystals/lib/python3.8/site-packages/dask_jobqueue/core.py:19: FutureWarning: parse_bytes is deprecated and will be removed in a future release. Please use dask.utils.parse_bytes instead.\n",
      "  from distributed.utils import format_bytes, parse_bytes, tmpfile\n",
      "/home/jlaw/.conda/envs/crystals/lib/python3.8/site-packages/dask_jobqueue/htcondor.py:6: FutureWarning: parse_bytes is deprecated and will be removed in a future release. Please use dask.utils.parse_bytes instead.\n",
      "  from distributed.utils import parse_bytes\n"
     ]
    }
   ],
   "source": [
    "import os\n",
    "import sys\n",
    "from collections import defaultdict\n",
    "from tqdm import tqdm\n",
    "import numpy as np\n",
    "# import psycopg2\n",
    "import sqlalchemy\n",
    "import pandas as pd\n",
    "from dask.distributed import Client\n",
    "from dask_jobqueue import SLURMCluster\n",
    "import dask.dataframe as dd\n",
    "import nfp\n",
    "from pymatgen.core import Structure\n",
    "\n",
    "sys.path.append('../../')\n",
    "import rlmolecule\n",
    "from rlmolecule.sql.run_config import RunConfig\n",
    "from rlmolecule.sql import Base, Session\n",
    "from rlmolecule.sql.tables import GameStore, RewardStore, StateStore\n",
    "from rlmolecule.crystal import utils\n",
    "from scripts import nrelmatdbtaps\n",
    "from scripts import stability\n",
    "from scripts import ehull"
   ]
  },
  {
   "cell_type": "code",
   "execution_count": 3,
   "id": "e872c949-d394-4364-a728-2af067f380d0",
   "metadata": {},
   "outputs": [
    {
     "name": "stdout",
     "output_type": "stream",
     "text": [
      "reading /projects/rlmolecule/jlaw/crystal-gnn-fork/inputs/structures/battery_relaxed_energies.csv\n",
      "   comp_type composition                           id  energyperatom\n",
      "0        112    Mg2Cl1P1   Mg2Cl1P1_sg2_icsd_035676_1      -3.527097\n",
      "1        112    Mg2Cl1P1  Mg2Cl1P1_sg55_icsd_642437_1      -3.365935\n",
      "reading /home/jlaw/projects/arpa-e/crystals/rlmolecule/examples/crystal_energy/inputs/competing_phases.csv\n",
      "  sortedformula   icsdnum  energyperatom reduced_composition\n",
      "0    Ag10Br3Te4  173116.0      -1.718985          Ag10Br3Te4\n",
      "1   Ag11K1O16V4  391344.0      -4.797702         Ag11K1O16V4\n",
      "reading /projects/rlmolecule/jlaw/crystal-gnn-fork/inputs/structures/battery_relaxed_structures.json.gz\n",
      "\t67840 structures read\n"
     ]
    }
   ],
   "source": [
    "# load the relaxed structures and run the hull energy code\n",
    "relaxed_energies_file = \"/projects/rlmolecule/jlaw/crystal-gnn-fork/inputs/structures/battery_relaxed_energies.csv\"\n",
    "print(f\"reading {relaxed_energies_file}\")\n",
    "df_rel = pd.read_csv(relaxed_energies_file)\n",
    "print(df_rel.head(2))\n",
    "strc_energies = dict(zip(df_rel['id'], df_rel['energyperatom']))\n",
    "\n",
    "# instead, use the predicted values for the decomposition energy\n",
    "\n",
    "comp_phases_file = \"/home/jlaw/projects/arpa-e/crystals/rlmolecule/examples/crystal_energy/inputs/competing_phases.csv\"\n",
    "print(f\"reading {comp_phases_file}\")\n",
    "df_phases = pd.read_csv(comp_phases_file)\n",
    "print(df_phases.head(2))\n",
    "\n",
    "strcs_file = \"/projects/rlmolecule/jlaw/crystal-gnn-fork/inputs/structures/battery_relaxed_structures.json.gz\"\n",
    "rel_structures = utils.read_structures_file(strcs_file)"
   ]
  },
  {
   "cell_type": "code",
   "execution_count": 4,
   "id": "1b728d59-0d52-4494-96d1-e65b87020ce8",
   "metadata": {},
   "outputs": [
    {
     "data": {
      "text/html": [
       "<div>\n",
       "<style scoped>\n",
       "    .dataframe tbody tr th:only-of-type {\n",
       "        vertical-align: middle;\n",
       "    }\n",
       "\n",
       "    .dataframe tbody tr th {\n",
       "        vertical-align: top;\n",
       "    }\n",
       "\n",
       "    .dataframe thead th {\n",
       "        text-align: right;\n",
       "    }\n",
       "</style>\n",
       "<table border=\"1\" class=\"dataframe\">\n",
       "  <thead>\n",
       "    <tr style=\"text-align: right;\">\n",
       "      <th></th>\n",
       "      <th>comp_type</th>\n",
       "      <th>composition</th>\n",
       "      <th>id</th>\n",
       "      <th>energyperatom</th>\n",
       "    </tr>\n",
       "  </thead>\n",
       "  <tbody>\n",
       "    <tr>\n",
       "      <th>0</th>\n",
       "      <td>112</td>\n",
       "      <td>Mg2Cl1P1</td>\n",
       "      <td>Mg2Cl1P1_sg2_icsd_035676_1</td>\n",
       "      <td>-3.527097</td>\n",
       "    </tr>\n",
       "    <tr>\n",
       "      <th>1</th>\n",
       "      <td>112</td>\n",
       "      <td>Mg2Cl1P1</td>\n",
       "      <td>Mg2Cl1P1_sg55_icsd_642437_1</td>\n",
       "      <td>-3.365935</td>\n",
       "    </tr>\n",
       "  </tbody>\n",
       "</table>\n",
       "</div>"
      ],
      "text/plain": [
       "   comp_type composition                           id  energyperatom\n",
       "0        112    Mg2Cl1P1   Mg2Cl1P1_sg2_icsd_035676_1      -3.527097\n",
       "1        112    Mg2Cl1P1  Mg2Cl1P1_sg55_icsd_642437_1      -3.365935"
      ]
     },
     "execution_count": 4,
     "metadata": {},
     "output_type": "execute_result"
    }
   ],
   "source": [
    "df_rel.head(2)"
   ]
  },
  {
   "cell_type": "code",
   "execution_count": 18,
   "id": "a4c33a95-71b6-43c9-a81d-f4cbf1b9e031",
   "metadata": {},
   "outputs": [
    {
     "data": {
      "text/html": [
       "<div>\n",
       "<style scoped>\n",
       "    .dataframe tbody tr th:only-of-type {\n",
       "        vertical-align: middle;\n",
       "    }\n",
       "\n",
       "    .dataframe tbody tr th {\n",
       "        vertical-align: top;\n",
       "    }\n",
       "\n",
       "    .dataframe thead th {\n",
       "        text-align: right;\n",
       "    }\n",
       "</style>\n",
       "<table border=\"1\" class=\"dataframe\">\n",
       "  <thead>\n",
       "    <tr style=\"text-align: right;\">\n",
       "      <th></th>\n",
       "      <th>comp_type</th>\n",
       "      <th>composition</th>\n",
       "      <th>energyperatom</th>\n",
       "      <th>structure</th>\n",
       "    </tr>\n",
       "    <tr>\n",
       "      <th>id</th>\n",
       "      <th></th>\n",
       "      <th></th>\n",
       "      <th></th>\n",
       "      <th></th>\n",
       "    </tr>\n",
       "  </thead>\n",
       "  <tbody>\n",
       "    <tr>\n",
       "      <th>Mg2Cl1P1_sg2_icsd_035676_1</th>\n",
       "      <td>112</td>\n",
       "      <td>Mg2Cl1P1</td>\n",
       "      <td>-3.527097</td>\n",
       "      <td>[[2.98539289 7.30026398 0.23120076] Cl, [11.02...</td>\n",
       "    </tr>\n",
       "  </tbody>\n",
       "</table>\n",
       "</div>"
      ],
      "text/plain": [
       "                            comp_type composition  energyperatom  \\\n",
       "id                                                                 \n",
       "Mg2Cl1P1_sg2_icsd_035676_1        112    Mg2Cl1P1      -3.527097   \n",
       "\n",
       "                                                                    structure  \n",
       "id                                                                             \n",
       "Mg2Cl1P1_sg2_icsd_035676_1  [[2.98539289 7.30026398 0.23120076] Cl, [11.02...  "
      ]
     },
     "execution_count": 18,
     "metadata": {},
     "output_type": "execute_result"
    }
   ],
   "source": [
    "df2 = df_rel.set_index('id')\n",
    "df2['structure'] = pd.Series(rel_structures)\n",
    "df2.head(1)"
   ]
  },
  {
   "cell_type": "code",
   "execution_count": 5,
   "id": "f390eacf-ff35-4a70-bd7e-4a58bca1844f",
   "metadata": {},
   "outputs": [],
   "source": [
    "def setup_dask_client(n_nodes=2, n_processes=36, debug=False):\n",
    "    ###cluster objects\n",
    "#     n_processes = 36  # number of processes to run on each node\n",
    "    memory = 90000  # to fit on a standard node; ask for 184,000 for a bigmem node\n",
    "    walltime = '30' if debug else '180'\n",
    "    queue = 'debug' if debug else None\n",
    "    \n",
    "    cluster = SLURMCluster(\n",
    "        project='rlmolecule',\n",
    "        walltime='30' if debug else '180',  # 30 minutes to fit in the debug queue; 180 to fit in short\n",
    "        job_mem=str(memory),\n",
    "        job_cpu=36,\n",
    "        interface='ib0',\n",
    "        local_directory='/tmp/scratch/dask-worker-space',\n",
    "        cores=36,\n",
    "        processes=n_processes,\n",
    "        memory='{}MB'.format(memory),\n",
    "        extra=['--lifetime-stagger', '60m'],\n",
    "        queue='debug' if debug else None  # 'debug' is limited to a single job -- comment this out for larger runs\n",
    "    )\n",
    "\n",
    "    print(cluster.job_script())\n",
    "\n",
    "    #create a client\n",
    "    dask_client = Client(cluster)\n",
    "\n",
    "    # scale cluster\n",
    "    n_nodes = 1 if debug else n_nodes\n",
    "    cluster.scale(n_processes * n_nodes)\n",
    "    return dask_client, cluster"
   ]
  },
  {
   "cell_type": "code",
   "execution_count": 27,
   "id": "0dd5b3b1-2d5e-4e8d-99de-2c5d7724e324",
   "metadata": {},
   "outputs": [],
   "source": [
    "# make the structures and energies into a dask dataframe\n",
    "# df_rel.set_index('id', inplace=True)\n",
    "# df_rel['structure'] = pd.Series(rel_structures)\n",
    "df_dask = dd.from_pandas(df2[:1000], chunksize=10)"
   ]
  },
  {
   "cell_type": "code",
   "execution_count": 28,
   "id": "41ba59d2-6dc1-4b5c-a102-f7a54acb85b6",
   "metadata": {},
   "outputs": [
    {
     "name": "stdout",
     "output_type": "stream",
     "text": [
      "#!/usr/bin/env bash\n",
      "\n",
      "#SBATCH -J dask-worker\n",
      "#SBATCH -p debug\n",
      "#SBATCH -A rlmolecule\n",
      "#SBATCH -n 1\n",
      "#SBATCH --cpus-per-task=36\n",
      "#SBATCH --mem=90000\n",
      "#SBATCH -t 30\n",
      "\n",
      "/home/jlaw/.conda/envs/crystals/bin/python -m distributed.cli.dask_worker tcp://10.148.8.97:46761 --nthreads 1 --nprocs 36 --memory-limit 2.33GiB --name dummy-name --nanny --death-timeout 60 --local-directory /tmp/scratch/dask-worker-space --lifetime-stagger 60m --interface ib0 --protocol tcp://\n",
      "\n"
     ]
    },
    {
     "name": "stderr",
     "output_type": "stream",
     "text": [
      "/home/jlaw/.conda/envs/crystals/lib/python3.8/site-packages/distributed/node.py:160: UserWarning: Port 8787 is already in use.\n",
      "Perhaps you already have a cluster running?\n",
      "Hosting the HTTP server on port 35730 instead\n",
      "  warnings.warn(\n"
     ]
    }
   ],
   "source": [
    "### Dask\n",
    "# now use dask to compute the decomposition energy\n",
    "dask_client, cluster = setup_dask_client(debug=True)"
   ]
  },
  {
   "cell_type": "code",
   "execution_count": 8,
   "id": "e842e807-ecf8-43dd-b4e3-95ff330bf914",
   "metadata": {},
   "outputs": [],
   "source": [
    "def convex_hull_stability(row, df_competing_phases):\n",
    "    strc = row.structure\n",
    "    predicted_energy = row.energyperatom\n",
    "    # Add the new composition and the predicted energy to \"df\" if DFT energy already not present\n",
    "    comp = strc.composition.reduced_composition.alphabetical_formula.replace(' ','')\n",
    "\n",
    "    df = df_competing_phases\n",
    "    if comp not in df.reduced_composition.tolist():\n",
    "        df = df_competing_phases.append({'sortedformula': comp, 'energyperatom': predicted_energy, 'reduced_composition': comp}, ignore_index=True)\n",
    "\n",
    "    # Create a list of elements in the composition\n",
    "    ele = strc.composition.chemical_system.split('-')\n",
    "\n",
    "    # Create input file for stability analysis\n",
    "    inputs = nrelmatdbtaps.create_input_DFT(ele, df, chempot='ferev2')\n",
    "\n",
    "    # Run stability function (args: input filename, composition)\n",
    "    stable_state = stability.run_stability(inputs, comp)\n",
    "    if stable_state == 'UNSTABLE':\n",
    "        stoic = ehull.frac_stoic(comp)\n",
    "        hull_nrg = ehull.unstable_nrg(stoic, comp, inputs)\n",
    "        #print(\"energy above hull of this UNSTABLE phase is\", hull_nrg, \"eV/atom\")\n",
    "    elif stable_state == 'STABLE':\n",
    "        stoic = ehull.frac_stoic(comp)\n",
    "        hull_nrg = ehull.stable_nrg(stoic, comp, inputs)\n",
    "        #print(\"energy above hull of this STABLE phase is\", hull_nrg, \"eV/atom\")\n",
    "    else:\n",
    "        print(f\"ERR: unrecognized stable_state: '{stable_state}'.\")\n",
    "        print(f\"\\tcomp: {comp}\")\n",
    "        return None\n",
    "    return hull_nrg"
   ]
  },
  {
   "cell_type": "code",
   "execution_count": 20,
   "id": "8135d842-919d-46ff-8c21-d85edc4dea61",
   "metadata": {},
   "outputs": [
    {
     "data": {
      "text/html": [
       "<div>\n",
       "<style scoped>\n",
       "    .dataframe tbody tr th:only-of-type {\n",
       "        vertical-align: middle;\n",
       "    }\n",
       "\n",
       "    .dataframe tbody tr th {\n",
       "        vertical-align: top;\n",
       "    }\n",
       "\n",
       "    .dataframe thead th {\n",
       "        text-align: right;\n",
       "    }\n",
       "</style>\n",
       "<table border=\"1\" class=\"dataframe\">\n",
       "  <thead>\n",
       "    <tr style=\"text-align: right;\">\n",
       "      <th></th>\n",
       "      <th>comp_type</th>\n",
       "      <th>composition</th>\n",
       "      <th>energyperatom</th>\n",
       "      <th>structure</th>\n",
       "    </tr>\n",
       "    <tr>\n",
       "      <th>id</th>\n",
       "      <th></th>\n",
       "      <th></th>\n",
       "      <th></th>\n",
       "      <th></th>\n",
       "    </tr>\n",
       "  </thead>\n",
       "  <tbody>\n",
       "    <tr>\n",
       "      <th>Mg2Cl1P1_sg2_icsd_035676_1</th>\n",
       "      <td>112</td>\n",
       "      <td>Mg2Cl1P1</td>\n",
       "      <td>-3.527097</td>\n",
       "      <td>[[2.98539289 7.30026398 0.23120076] Cl, [11.02...</td>\n",
       "    </tr>\n",
       "  </tbody>\n",
       "</table>\n",
       "</div>"
      ],
      "text/plain": [
       "                            comp_type composition  energyperatom  \\\n",
       "id                                                                 \n",
       "Mg2Cl1P1_sg2_icsd_035676_1        112    Mg2Cl1P1      -3.527097   \n",
       "\n",
       "                                                                    structure  \n",
       "id                                                                             \n",
       "Mg2Cl1P1_sg2_icsd_035676_1  [[2.98539289 7.30026398 0.23120076] Cl, [11.02...  "
      ]
     },
     "execution_count": 20,
     "metadata": {},
     "output_type": "execute_result"
    }
   ],
   "source": [
    "df2.head(1)"
   ]
  },
  {
   "cell_type": "code",
   "execution_count": 21,
   "id": "2cd5a341-0215-4dfd-832f-70c647f2a11b",
   "metadata": {},
   "outputs": [
    {
     "data": {
      "text/html": [
       "<div>\n",
       "<style scoped>\n",
       "    .dataframe tbody tr th:only-of-type {\n",
       "        vertical-align: middle;\n",
       "    }\n",
       "\n",
       "    .dataframe tbody tr th {\n",
       "        vertical-align: top;\n",
       "    }\n",
       "\n",
       "    .dataframe thead th {\n",
       "        text-align: right;\n",
       "    }\n",
       "</style>\n",
       "<table border=\"1\" class=\"dataframe\">\n",
       "  <thead>\n",
       "    <tr style=\"text-align: right;\">\n",
       "      <th></th>\n",
       "      <th>structure</th>\n",
       "      <th>energyperatom</th>\n",
       "    </tr>\n",
       "    <tr>\n",
       "      <th>id</th>\n",
       "      <th></th>\n",
       "      <th></th>\n",
       "    </tr>\n",
       "  </thead>\n",
       "  <tbody>\n",
       "    <tr>\n",
       "      <th>Mg2Cl1P1_sg2_icsd_035676_1</th>\n",
       "      <td>[[2.98539289 7.30026398 0.23120076] Cl, [11.02...</td>\n",
       "      <td>-3.527097</td>\n",
       "    </tr>\n",
       "    <tr>\n",
       "      <th>Mg2Cl1P1_sg55_icsd_642437_1</th>\n",
       "      <td>[[5.51341932 2.94139596 3.15754637] Cl, [3.031...</td>\n",
       "      <td>-3.365935</td>\n",
       "    </tr>\n",
       "  </tbody>\n",
       "</table>\n",
       "</div>"
      ],
      "text/plain": [
       "                                                                     structure  \\\n",
       "id                                                                               \n",
       "Mg2Cl1P1_sg2_icsd_035676_1   [[2.98539289 7.30026398 0.23120076] Cl, [11.02...   \n",
       "Mg2Cl1P1_sg55_icsd_642437_1  [[5.51341932 2.94139596 3.15754637] Cl, [3.031...   \n",
       "\n",
       "                             energyperatom  \n",
       "id                                          \n",
       "Mg2Cl1P1_sg2_icsd_035676_1       -3.527097  \n",
       "Mg2Cl1P1_sg55_icsd_642437_1      -3.365935  "
      ]
     },
     "execution_count": 21,
     "metadata": {},
     "output_type": "execute_result"
    }
   ],
   "source": [
    "df2[:2][['structure', 'energyperatom']]"
   ]
  },
  {
   "cell_type": "code",
   "execution_count": 57,
   "id": "3895b1f6-c542-4760-b043-36981594e265",
   "metadata": {},
   "outputs": [],
   "source": [
    "def test(row, b):\n",
    "    return b"
   ]
  },
  {
   "cell_type": "code",
   "execution_count": 59,
   "id": "cc9eed5e-1e30-4922-82cb-f0ce99beb7cb",
   "metadata": {},
   "outputs": [
    {
     "data": {
      "text/plain": [
       "array([4, 4, 4, 4, 4, 4, 4, 4, 4, 4, 4, 4, 4, 4, 4, 4, 4, 4, 4, 4, 4, 4,\n",
       "       4, 4, 4, 4, 4, 4, 4, 4, 4, 4, 4, 4, 4, 4, 4, 4, 4, 4, 4, 4, 4, 4,\n",
       "       4, 4, 4, 4, 4, 4, 4, 4, 4, 4, 4, 4, 4, 4, 4, 4, 4, 4, 4, 4, 4, 4,\n",
       "       4, 4, 4, 4, 4, 4, 4, 4, 4, 4, 4, 4, 4, 4, 4, 4, 4, 4, 4, 4, 4, 4,\n",
       "       4, 4, 4, 4, 4, 4, 4, 4, 4, 4, 4, 4])"
      ]
     },
     "execution_count": 59,
     "metadata": {},
     "output_type": "execute_result"
    }
   ],
   "source": [
    "df2[:100][['structure', 'energyperatom']].apply(test, b=4, axis=1).values"
   ]
  },
  {
   "cell_type": "code",
   "execution_count": 22,
   "id": "4d2b0b01-510e-4986-8faa-cc8216e0ef0d",
   "metadata": {},
   "outputs": [
    {
     "name": "stdout",
     "output_type": "stream",
     "text": [
      "COMPETING PHASES FOUND IN NRELMATDB\n",
      "COMPETING PHASES FOUND IN NRELMATDB\n",
      "COMPETING PHASES FOUND IN NRELMATDB\n",
      "COMPETING PHASES FOUND IN NRELMATDB\n",
      "COMPETING PHASES FOUND IN NRELMATDB\n"
     ]
    },
    {
     "data": {
      "text/plain": [
       "array([0.179, 0.341, 0.145, 0.473, 0.155])"
      ]
     },
     "execution_count": 22,
     "metadata": {},
     "output_type": "execute_result"
    }
   ],
   "source": [
    "df2[:5][['structure', 'energyperatom']].apply(\n",
    "    convex_hull_stability, df_competing_phases=df_phases, axis=1).values"
   ]
  },
  {
   "cell_type": "code",
   "execution_count": 29,
   "id": "2d9ca901-7aab-4ab2-ae07-689f0714eb93",
   "metadata": {},
   "outputs": [],
   "source": [
    "results = df_dask.map_partitions(\n",
    "        lambda df: df[['structure', 'energyperatom']].apply(\n",
    "            convex_hull_stability, df_competing_phases=df_phases, axis=1).values,\n",
    "        meta=0)"
   ]
  },
  {
   "cell_type": "code",
   "execution_count": 30,
   "id": "bc60b949-46e0-41c7-87a5-ab085c5b43c9",
   "metadata": {},
   "outputs": [],
   "source": [
    "finished = results.compute()"
   ]
  },
  {
   "cell_type": "code",
   "execution_count": 31,
   "id": "4ad3a36d-5631-4d5e-b2eb-76f979b675be",
   "metadata": {},
   "outputs": [
    {
     "data": {
      "text/plain": [
       "array([0.419, 0.419, 0.391, 0.391, 0.473, 0.473, 0.069, 0.097, 0.173,\n",
       "       0.173, 0.399, 0.041, 0.173, 0.441, 0.329, 0.329, 0.369, 0.113,\n",
       "       0.369, 0.113, 0.147, 0.089, 0.081, 0.105, 0.105, 0.169, 0.169,\n",
       "       0.611, 0.089, 0.353, 0.353, 0.161, 0.161, 1.363, 0.417, 1.461,\n",
       "       0.599, 0.091, 0.903, 0.623, 0.153, 0.153, 0.153, 0.153, 0.999,\n",
       "       0.375, 0.349, 0.221, 0.121, 0.073, 0.099, 0.099, 0.095, 0.095,\n",
       "       0.583, 1.845, 0.341, 0.267, 0.509, 0.537, 0.199, 0.273, 0.273,\n",
       "       0.137, 0.223, 1.227, 1.227, 0.353, 0.233, 0.153, 0.153, 1.463,\n",
       "       0.557, 0.197, 0.391, 0.391, 0.191, 0.191, 0.199, 0.199, 0.197,\n",
       "       0.197, 0.123, 0.123, 0.319, 0.169, 0.091, 0.091, 0.095, 0.101,\n",
       "       0.211, 0.211, 0.197, 0.197, 0.089, 0.089, 0.311, 0.311, 0.363,\n",
       "       0.363, 0.483, 0.089, 0.089, 0.191, 0.427, 0.641, 0.301, 0.139,\n",
       "       0.135, 0.475, 0.235, 0.143, 0.405, 0.175, 0.473, 0.213, 0.223,\n",
       "       0.535, 0.089, 0.089, 0.527, 0.141, 0.495, 0.135, 0.211, 0.211,\n",
       "       0.261, 1.793, 0.089, 0.089, 0.091, 0.321, 0.297, 0.233, 1.157,\n",
       "       0.233, 0.413, 0.109, 0.339, 0.089, 0.363, 0.457, 0.457, 0.089,\n",
       "       0.479, 0.363, 0.363, 0.089, 0.363, 1.601, 1.561, 0.589, 0.147,\n",
       "       0.179, 0.153, 0.725, 0.467, 0.209, 0.089, 0.363, 0.437, 0.245,\n",
       "       0.439, 0.481, 1.401, 0.481, 0.327, 0.087, 0.187, 0.093, 0.369,\n",
       "       0.099, 0.195, 0.089, 0.427, 0.153, 0.145, 0.071, 0.193, 0.207,\n",
       "       0.141, 0.427, 0.423, 0.153, 1.269, 0.349, 0.273, 0.273, 0.273,\n",
       "       0.273, 0.259, 2.235, 0.363, 0.127, 0.729, 0.503, 0.407, 0.357,\n",
       "       0.333, 0.241, 0.289, 0.093, 0.093, 0.525, 0.057, 0.071, 0.155,\n",
       "       0.243, 0.087, 0.087, 0.161, 0.161, 0.437, 0.363, 0.423, 0.625,\n",
       "       0.089, 0.089, 0.523, 0.105, 0.563, 0.831, 0.427, 0.425, 0.089,\n",
       "       0.139, 0.789, 0.469, 0.355, 0.179, 0.531, 0.143, 0.399, 0.279,\n",
       "       0.255, 0.275, 0.137, 0.141, 0.133, 0.233, 0.137, 0.189, 0.417,\n",
       "       0.789, 0.377, 0.659, 0.471, 0.379, 0.099, 0.153, 0.337, 0.151,\n",
       "       0.599, 0.089, 0.089, 0.173, 0.073, 0.097, 0.121, 0.153, 0.145,\n",
       "       0.163, 0.509, 0.141, 0.091, 0.421, 0.453, 0.423, 0.527, 0.157,\n",
       "       0.425, 0.187, 0.161, 0.379, 0.097, 0.273, 0.179, 0.245, 0.253,\n",
       "       0.519, 0.649, 0.251, 0.173, 2.523, 0.517, 0.487, 0.473, 0.153,\n",
       "       0.153, 0.063, 0.377, 0.881, 0.883, 0.103, 0.103, 1.081, 1.027,\n",
       "       0.575, 1.211, 0.539, 0.153, 1.081, 1.037, 0.115, 0.541, 0.507,\n",
       "       0.219, 0.539, 0.219, 0.539, 0.633, 0.881, 0.439, 0.299, 0.435,\n",
       "       0.305, 0.407, 0.199, 0.445, 0.277, 0.407, 0.199, 0.197, 0.207,\n",
       "       0.319, 0.599, 0.193, 0.577, 0.173, 0.283, 0.745, 0.159, 0.553,\n",
       "       0.315, 0.407, 0.407, 0.173, 0.105, 0.103, 0.103, 0.209, 0.541,\n",
       "       0.089, 0.089, 0.287, 0.305, 0.061, 0.061, 0.367, 0.367, 0.581,\n",
       "       0.569, 0.173, 0.173, 0.571, 0.539, 0.207, 0.173, 0.365, 0.173,\n",
       "       0.389, 0.597, 0.389, 0.597, 0.061, 0.097, 0.205, 0.179, 0.179,\n",
       "       0.181, 0.179, 1.617, 1.459, 0.543, 0.543, 0.209, 0.209, 1.153,\n",
       "       0.411, 0.473, 0.549, 0.549, 0.493, 0.717, 0.733, 0.219, 0.733,\n",
       "       0.219, 0.377, 0.747, 0.235, 0.093, 0.061, 0.061, 0.135, 0.135,\n",
       "       0.135, 0.135, 1.247, 0.921, 0.415, 0.513, 0.295, 0.387, 0.261,\n",
       "       0.305, 0.527, 0.527, 0.453, 0.751, 0.527, 0.527, 0.069, 0.415,\n",
       "       0.129, 0.219, 0.507, 0.545, 0.549, 0.061, 0.061, 0.289, 0.209,\n",
       "       0.139, 0.139, 0.123, 0.139, 0.343, 0.243, 0.155, 0.301, 0.125,\n",
       "       0.125, 0.067, 0.085, 0.281, 0.281, 0.209, 0.209, 0.071, 0.071,\n",
       "       0.191, 0.191, 0.207, 0.207, 0.191, 0.373, 0.075, 0.075, 0.399,\n",
       "       0.145, 0.101, 0.411, 0.047, 0.207, 0.261, 0.261, 0.255, 0.177,\n",
       "       0.217, 0.215, 0.311, 0.367, 0.581, 0.423, 0.117, 0.117, 0.079,\n",
       "       0.201, 0.155, 0.287, 0.283, 0.283, 0.351, 0.731, 0.117, 0.117,\n",
       "       0.145, 0.209, 0.079, 1.117, 0.419, 0.227, 0.173, 0.199, 0.079,\n",
       "       0.203, 0.123, 0.345, 0.345, 0.193, 1.065, 0.209, 0.209, 0.203,\n",
       "       0.123, 0.205, 1.121, 0.295, 0.491, 0.063, 0.063, 0.473, 0.587,\n",
       "       0.293, 0.353, 0.205, 0.123, 0.145, 0.355, 0.195, 1.059, 0.197,\n",
       "       1.059, 0.061, 0.065, 0.219, 0.137, 0.099, 0.073, 0.203, 0.123,\n",
       "       0.291, 0.093, 0.093, 0.073, 0.073, 0.539, 0.193, 0.287, 0.455,\n",
       "       0.481, 0.827, 0.743, 0.527, 0.527, 0.559, 0.559, 2.137, 0.761,\n",
       "       0.153, 0.567, 0.551, 0.367, 0.249, 0.243, 0.461, 0.555, 0.151,\n",
       "       0.205, 0.125, 0.125, 0.179, 0.403, 0.073, 0.073, 0.307, 0.161,\n",
       "       0.171, 0.171, 0.127, 0.431, 1.021, 0.287, 0.425, 0.465, 0.075,\n",
       "       0.073, 0.359, 0.357, 0.361, 0.385, 0.691, 0.063, 0.339, 0.371,\n",
       "       0.371, 0.117, 0.449, 0.871, 0.413, 0.751, 0.563, 0.473, 0.555,\n",
       "       0.155, 0.147, 0.147, 0.711, 0.341, 0.251, 0.171, 0.265, 0.209,\n",
       "       0.155, 0.537, 0.381, 0.291, 0.133, 0.217, 0.119, 0.219, 0.125,\n",
       "       0.125, 0.075, 0.075, 0.079, 0.261, 0.127, 0.153, 0.107, 0.107,\n",
       "       0.063, 0.165, 0.441, 0.469, 0.427, 0.485, 0.205, 0.117, 0.417,\n",
       "       0.103, 0.423, 0.129, 0.215, 0.387, 0.243, 0.243, 0.445, 0.675,\n",
       "       0.969, 0.233, 0.475, 1.091, 1.815, 0.065, 0.063, 0.731, 0.217,\n",
       "       0.377, 0.609, 0.289, 0.283, 0.139, 0.139, 0.649, 1.141, 0.707,\n",
       "       0.697, 0.211, 0.469, 0.687, 1.151, 0.179, 0.219, 0.915, 0.307,\n",
       "       0.061, 0.307, 0.045, 0.329, 0.605, 0.335, 0.387, 0.335, 0.343,\n",
       "       0.231, 0.061, 0.085, 0.085, 0.231, 0.061, 0.147, 0.147, 0.293,\n",
       "       0.117, 0.191, 0.455, 0.241, 0.221, 0.159, 0.137, 0.111, 0.287,\n",
       "       0.193, 0.201, 0.225, 0.225, 0.299, 0.075, 0.063, 0.243, 0.117,\n",
       "       0.117, 0.211, 0.211, 0.469, 0.601, 0.037, 0.037, 0.637, 0.343,\n",
       "       0.041, 0.383, 0.563, 0.257, 0.563, 0.257, 0.843, 0.081, 0.023,\n",
       "       0.023, 0.049, 0.049, 1.631, 0.257, 0.623, 0.623, 0.713, 0.425,\n",
       "       0.753, 0.309, 0.125, 0.125, 0.561, 0.217, 0.143, 0.313, 0.727,\n",
       "       0.313, 0.179, 0.211, 0.111, 0.117, 0.115, 0.115, 0.115, 0.113,\n",
       "       0.113, 0.447, 0.117, 0.445, 0.115, 0.233, 0.243, 0.111, 0.613,\n",
       "       0.613, 0.075, 0.089, 0.613, 0.613, 0.159, 0.665, 0.187, 0.307,\n",
       "       0.621, 0.117, 0.117, 0.367, 0.267, 0.117, 0.117, 0.117, 0.117,\n",
       "       0.159, 0.197, 0.139, 0.111, 0.111, 0.083, 0.051, 0.191, 0.191,\n",
       "       0.073, 0.337, 0.221, 0.055, 0.233, 0.233, 0.399, 0.399, 0.111,\n",
       "       0.119, 0.069, 0.199, 0.143, 0.125, 0.113, 0.143, 0.229, 0.253,\n",
       "       0.241, 0.171, 0.667, 0.667, 0.207, 0.271, 0.479, 0.495, 0.111,\n",
       "       0.133, 0.161, 0.113, 0.191, 0.191, 0.221, 0.161, 1.239, 0.111,\n",
       "       0.111, 0.227, 0.111, 0.361, 0.125, 0.173, 0.367, 0.291, 0.103,\n",
       "       0.163, 0.211, 0.135, 0.285, 0.285, 0.463, 0.301, 0.233, 0.233,\n",
       "       0.211, 0.135, 0.419, 0.209, 0.241, 0.173, 0.111, 0.041, 0.087,\n",
       "       0.127, 0.207, 0.271, 0.211, 0.135, 0.775, 0.591, 0.461, 0.301,\n",
       "       0.301, 0.297, 0.045, 0.213, 0.137, 0.341, 0.263, 0.211, 0.119,\n",
       "       0.089, 0.041, 0.105, 0.359, 0.335, 0.087, 0.253, 0.281, 0.821,\n",
       "       0.849, 0.613, 0.613, 0.613, 0.613, 1.739, 0.131, 0.277, 0.193,\n",
       "       0.651, 0.301, 0.191, 0.221, 0.111, 0.011, 0.113, 0.113, 0.161,\n",
       "       0.145, 0.113, 0.113, 0.111, 0.009, 0.009, 0.261, 0.267, 0.053,\n",
       "       0.525, 0.315, 0.111, 0.111, 0.381, 0.381, 0.619, 0.345, 0.345,\n",
       "       0.111, 1.113, 1.077, 0.209, 0.187, 0.559, 0.111, 0.221, 0.113,\n",
       "       0.081, 0.199, 0.163, 0.341, 0.211, 0.233, 0.113, 0.145, 0.393,\n",
       "       0.195, 0.139, 0.219, 0.443, 0.187, 0.395, 0.223, 0.111, 0.119,\n",
       "       0.055, 0.039, 0.141, 0.089, 0.337, 0.105, 0.449, 0.261, 0.201,\n",
       "       0.335, 0.093, 0.395, 0.321, 0.111, 0.145, 0.137, 0.215, 0.131,\n",
       "       0.111, 0.083, 0.237, 0.965, 0.121, 1.353, 0.363, 0.035, 0.081,\n",
       "       0.661, 0.311, 0.185, 0.499, 0.117, 0.115, 0.115, 0.449, 0.073,\n",
       "       0.573, 0.119, 0.391, 0.705, 0.343, 0.205, 0.049, 0.223, 0.113,\n",
       "       0.247, 0.189, 0.295, 0.323, 0.313, 0.275, 0.147, 0.151, 0.055,\n",
       "       0.111, 0.147, 0.151, 0.127, 0.127, 0.191, 0.221, 0.035, 0.135,\n",
       "       0.107, 0.125, 0.111, 0.883, 0.111, 0.041, 0.041, 0.121, 0.111,\n",
       "       0.111])"
      ]
     },
     "execution_count": 31,
     "metadata": {},
     "output_type": "execute_result"
    }
   ],
   "source": [
    "finished"
   ]
  },
  {
   "cell_type": "code",
   "execution_count": null,
   "id": "3422ee1b-1af8-42db-917f-755971ff0266",
   "metadata": {},
   "outputs": [],
   "source": [
    "df_out = pd.DataFrame({'decomp_energy': finished.values}, index=df_rel.index)\n",
    "out_file = predicted_energies_file.replace('.csv', '_decomp_energy.csv')\n",
    "print(out_file)\n",
    "df_out.to_csv(out_file)"
   ]
  },
  {
   "cell_type": "code",
   "execution_count": 46,
   "id": "b6f3994f-378f-423d-98a1-457428a4fdf5",
   "metadata": {},
   "outputs": [
    {
     "name": "stderr",
     "output_type": "stream",
     "text": [
      "distributed.client - ERROR - Failed to reconnect to scheduler after 30.00 seconds, closing client\n",
      "ERROR:asyncio:_GatheringFuture exception was never retrieved\n",
      "future: <_GatheringFuture finished exception=CancelledError()>\n",
      "asyncio.exceptions.CancelledError\n"
     ]
    }
   ],
   "source": [
    "df2 = df_rel.copy()"
   ]
  },
  {
   "cell_type": "code",
   "execution_count": 32,
   "id": "056391c8-b12f-4bea-97cb-d68300ff6bc6",
   "metadata": {},
   "outputs": [
    {
     "name": "stderr",
     "output_type": "stream",
     "text": [
      "/home/jlaw/.conda/envs/crystals/lib/python3.8/site-packages/dask_jobqueue/core.py:360: FutureWarning: ignoring was deprecated in version 2021.06.1 and will be removed in a future release. Please use contextlib.suppress from the standard library instead.\n",
      "  with ignoring(RuntimeError):  # deleting job when job already gone\n",
      "/home/jlaw/.conda/envs/crystals/lib/python3.8/site-packages/dask_jobqueue/core.py:360: FutureWarning: ignoring was deprecated in version 2021.06.1 and will be removed in a future release. Please use contextlib.suppress from the standard library instead.\n",
      "  with ignoring(RuntimeError):  # deleting job when job already gone\n",
      "distributed.client - ERROR - Failed to reconnect to scheduler after 30.00 seconds, closing client\n",
      "_GatheringFuture exception was never retrieved\n",
      "future: <_GatheringFuture finished exception=CancelledError()>\n",
      "asyncio.exceptions.CancelledError\n"
     ]
    }
   ],
   "source": [
    "dask_client.shutdown()"
   ]
  },
  {
   "cell_type": "code",
   "execution_count": 33,
   "id": "e025178c-436e-438f-8782-887a910c94db",
   "metadata": {},
   "outputs": [
    {
     "data": {
      "text/html": [
       "<div>\n",
       "<style scoped>\n",
       "    .dataframe tbody tr th:only-of-type {\n",
       "        vertical-align: middle;\n",
       "    }\n",
       "\n",
       "    .dataframe tbody tr th {\n",
       "        vertical-align: top;\n",
       "    }\n",
       "\n",
       "    .dataframe thead th {\n",
       "        text-align: right;\n",
       "    }\n",
       "</style>\n",
       "<table border=\"1\" class=\"dataframe\">\n",
       "  <thead>\n",
       "    <tr style=\"text-align: right;\">\n",
       "      <th></th>\n",
       "      <th>comp_type</th>\n",
       "      <th>composition</th>\n",
       "      <th>id</th>\n",
       "      <th>energyperatom</th>\n",
       "      <th>predicted_energyperatom</th>\n",
       "      <th>pred_err</th>\n",
       "      <th>pred_err-0_05</th>\n",
       "    </tr>\n",
       "  </thead>\n",
       "  <tbody>\n",
       "    <tr>\n",
       "      <th>0</th>\n",
       "      <td>112</td>\n",
       "      <td>Mg2Cl1P1</td>\n",
       "      <td>Mg2Cl1P1_sg194_icsd_061381_1</td>\n",
       "      <td>-3.562473</td>\n",
       "      <td>-3.586825</td>\n",
       "      <td>0.024352</td>\n",
       "      <td>0.0</td>\n",
       "    </tr>\n",
       "    <tr>\n",
       "      <th>1</th>\n",
       "      <td>112</td>\n",
       "      <td>Mg2Cl1P1</td>\n",
       "      <td>Mg2Cl1P1_sg64_icsd_170268_1</td>\n",
       "      <td>-3.463860</td>\n",
       "      <td>-3.464951</td>\n",
       "      <td>0.001091</td>\n",
       "      <td>0.0</td>\n",
       "    </tr>\n",
       "  </tbody>\n",
       "</table>\n",
       "</div>"
      ],
      "text/plain": [
       "   comp_type composition                            id  energyperatom  \\\n",
       "0        112    Mg2Cl1P1  Mg2Cl1P1_sg194_icsd_061381_1      -3.562473   \n",
       "1        112    Mg2Cl1P1   Mg2Cl1P1_sg64_icsd_170268_1      -3.463860   \n",
       "\n",
       "   predicted_energyperatom  pred_err  pred_err-0_05  \n",
       "0                -3.586825  0.024352            0.0  \n",
       "1                -3.464951  0.001091            0.0  "
      ]
     },
     "execution_count": 33,
     "metadata": {},
     "output_type": "execute_result"
    }
   ],
   "source": [
    "# now repeat the process for the predicted values for the relaxed batteries\n",
    "pred_energy_file = \"/projects/rlmolecule/jlaw/crystal-gnn-fork/outputs/icsd_battery_relaxed/hypo_vsad5_icsd_vsad5_seed1/overall_battery_pred_err.csv\"\n",
    "df = pd.read_csv(pred_energy_file)\n",
    "df.head(2)"
   ]
  },
  {
   "cell_type": "code",
   "execution_count": 37,
   "id": "5df062c8-7e60-49a0-b027-e4a9567d8b63",
   "metadata": {},
   "outputs": [
    {
     "data": {
      "text/html": [
       "<div>\n",
       "<style scoped>\n",
       "    .dataframe tbody tr th:only-of-type {\n",
       "        vertical-align: middle;\n",
       "    }\n",
       "\n",
       "    .dataframe tbody tr th {\n",
       "        vertical-align: top;\n",
       "    }\n",
       "\n",
       "    .dataframe thead th {\n",
       "        text-align: right;\n",
       "    }\n",
       "</style>\n",
       "<table border=\"1\" class=\"dataframe\">\n",
       "  <thead>\n",
       "    <tr style=\"text-align: right;\">\n",
       "      <th></th>\n",
       "      <th>comp_type</th>\n",
       "      <th>composition</th>\n",
       "      <th>id</th>\n",
       "      <th>energyperatom</th>\n",
       "      <th>predicted_energyperatom</th>\n",
       "      <th>pred_err</th>\n",
       "      <th>pred_err-0_05</th>\n",
       "    </tr>\n",
       "  </thead>\n",
       "  <tbody>\n",
       "  </tbody>\n",
       "</table>\n",
       "</div>"
      ],
      "text/plain": [
       "Empty DataFrame\n",
       "Columns: [comp_type, composition, id, energyperatom, predicted_energyperatom, pred_err, pred_err-0_05]\n",
       "Index: []"
      ]
     },
     "execution_count": 37,
     "metadata": {},
     "output_type": "execute_result"
    }
   ],
   "source": [
    "df[df['id'].apply(lambda x: x.startswith('icsd'))]"
   ]
  },
  {
   "cell_type": "code",
   "execution_count": 38,
   "id": "5fa02d76-6713-4246-9f6e-ed75d603121b",
   "metadata": {},
   "outputs": [
    {
     "data": {
      "text/plain": [
       "67840"
      ]
     },
     "execution_count": 38,
     "metadata": {},
     "output_type": "execute_result"
    }
   ],
   "source": [
    "len(df)"
   ]
  },
  {
   "cell_type": "code",
   "execution_count": 40,
   "id": "ce7ebe18-4e85-44da-a336-953d0802b4b4",
   "metadata": {},
   "outputs": [
    {
     "name": "stdout",
     "output_type": "stream",
     "text": [
      "(0, comp_type                                           112\n",
      "composition                                    Mg2Cl1P1\n",
      "id                         Mg2Cl1P1_sg194_icsd_061381_1\n",
      "energyperatom                                 -3.562473\n",
      "predicted_energyperatom                       -3.586825\n",
      "pred_err                                       0.024352\n",
      "pred_err-0_05                                       0.0\n",
      "Name: 0, dtype: object)\n"
     ]
    }
   ],
   "source": [
    "for row in df.iterrows():\n",
    "    print(row)\n",
    "    break"
   ]
  }
 ],
 "metadata": {
  "kernelspec": {
   "display_name": "Python 3 (ipykernel)",
   "language": "python",
   "name": "python3"
  },
  "language_info": {
   "codemirror_mode": {
    "name": "ipython",
    "version": 3
   },
   "file_extension": ".py",
   "mimetype": "text/x-python",
   "name": "python",
   "nbconvert_exporter": "python",
   "pygments_lexer": "ipython3",
   "version": "3.8.10"
  }
 },
 "nbformat": 4,
 "nbformat_minor": 5
}
