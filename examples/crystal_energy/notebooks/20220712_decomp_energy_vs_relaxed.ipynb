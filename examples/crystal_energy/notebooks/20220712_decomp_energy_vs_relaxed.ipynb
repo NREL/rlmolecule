{
 "cells": [
  {
   "cell_type": "code",
   "execution_count": 1,
   "id": "0a4aa494-580b-49e7-8f0e-3cb46f12c79e",
   "metadata": {},
   "outputs": [],
   "source": [
    "import os\n",
    "import sys\n",
    "import numpy as np\n",
    "# import psycopg2\n",
    "import sqlalchemy\n",
    "from tqdm.notebook import tqdm\n",
    "tqdm.pandas()\n",
    "import pandas as pd\n",
    "from collections import defaultdict\n",
    "from collections import Counter\n",
    "\n",
    "import matplotlib.pyplot as plt\n",
    "import seaborn as sns\n",
    "sns.set(\n",
    "    context='notebook',\n",
    "    # font_scale=8/8.8,\n",
    "#     context=\"talk\",\n",
    "    style='ticks',\n",
    "    color_codes=True,\n",
    "    rc={'legend.frameon': False})\n",
    "\n",
    "plt.rcParams['svg.fonttype'] = 'none'\n",
    "\n",
    "%matplotlib inline"
   ]
  },
  {
   "cell_type": "code",
   "execution_count": 2,
   "id": "1380bbc5-9148-42d9-b13e-5dea3ba8cc3b",
   "metadata": {},
   "outputs": [],
   "source": [
    "import datashader as ds\n",
    "from datashader.mpl_ext import dsshow\n",
    "import datashader.transfer_functions as dstf"
   ]
  },
  {
   "cell_type": "code",
   "execution_count": 3,
   "id": "dc4607be-a5d1-4900-b466-ebf7f925ae2b",
   "metadata": {},
   "outputs": [
    {
     "name": "stdout",
     "output_type": "stream",
     "text": [
      "1.22.3\n",
      "1.4.2\n"
     ]
    }
   ],
   "source": [
    "print(np.__version__)\n",
    "print(pd.__version__)"
   ]
  },
  {
   "cell_type": "code",
   "execution_count": 4,
   "id": "7e55e47c-29fc-420d-9f0f-e2053e0e69aa",
   "metadata": {},
   "outputs": [],
   "source": [
    "os.chdir('../')"
   ]
  },
  {
   "cell_type": "code",
   "execution_count": 123,
   "id": "630c5514-9aca-4c65-9f59-0df708837968",
   "metadata": {},
   "outputs": [
    {
     "name": "stdout",
     "output_type": "stream",
     "text": [
      "/home/jlaw/projects/arpa-e/crystals/rlmolecule/examples/crystal_energy\n"
     ]
    },
    {
     "name": "stderr",
     "output_type": "stream",
     "text": [
      "2022-07-15 12:25:43.315213: W tensorflow/stream_executor/platform/default/dso_loader.cc:64] Could not load dynamic library 'libcudart.so.11.0'; dlerror: libcudart.so.11.0: cannot open shared object file: No such file or directory; LD_LIBRARY_PATH: /nopt/slurm/current/lib:\n",
      "2022-07-15 12:25:43.315244: I tensorflow/stream_executor/cuda/cudart_stub.cc:29] Ignore above cudart dlerror if you do not have a GPU set up on your machine.\n",
      "INFO:rdkit:Enabling RDKit 2022.03.2 jupyter extensions\n"
     ]
    }
   ],
   "source": [
    "print(os.getcwd())\n",
    "sys.path.append('../../')\n",
    "import rlmolecule\n",
    "from rlmolecule.sql.run_config import RunConfig\n",
    "from rlmolecule.sql import Base, Session\n",
    "from rlmolecule.sql.tables import GameStore, RewardStore, StateStore\n",
    "from rlmolecule.crystal.crystal_state import CrystalState\n",
    "from rlmolecule.crystal.crystal_reward import StructureRewardBattInterface\n",
    "from rlmolecule.crystal import ehull\n",
    "from rlmolecule.crystal.ehull import fere_entries"
   ]
  },
  {
   "cell_type": "code",
   "execution_count": 43,
   "id": "2c495c4b-72b9-4ad6-9bd9-a84f492ccb6e",
   "metadata": {},
   "outputs": [
    {
     "name": "stdout",
     "output_type": "stream",
     "text": [
      "2003\n"
     ]
    },
    {
     "data": {
      "text/html": [
       "<div>\n",
       "<style scoped>\n",
       "    .dataframe tbody tr th:only-of-type {\n",
       "        vertical-align: middle;\n",
       "    }\n",
       "\n",
       "    .dataframe tbody tr th {\n",
       "        vertical-align: top;\n",
       "    }\n",
       "\n",
       "    .dataframe thead th {\n",
       "        text-align: right;\n",
       "    }\n",
       "</style>\n",
       "<table border=\"1\" class=\"dataframe\">\n",
       "  <thead>\n",
       "    <tr style=\"text-align: right;\">\n",
       "      <th></th>\n",
       "      <th>id</th>\n",
       "      <th>comp</th>\n",
       "      <th>reward</th>\n",
       "      <th>predicted_energy</th>\n",
       "      <th>decomp_energy</th>\n",
       "      <th>cond_ion_frac</th>\n",
       "      <th>reduction</th>\n",
       "      <th>oxidation</th>\n",
       "      <th>stability_window</th>\n",
       "    </tr>\n",
       "  </thead>\n",
       "  <tbody>\n",
       "    <tr>\n",
       "      <th>0</th>\n",
       "      <td>Li3Y1Br6_icsd_053533_1</td>\n",
       "      <td>Li3Y1Br6</td>\n",
       "      <td>1.135173</td>\n",
       "      <td>-3.798492</td>\n",
       "      <td>-0.8512</td>\n",
       "      <td>0.3000</td>\n",
       "      <td>-0.6734</td>\n",
       "      <td>-5.0</td>\n",
       "      <td>4.3266</td>\n",
       "    </tr>\n",
       "    <tr>\n",
       "      <th>1</th>\n",
       "      <td>Li4Y1Br7_icsd_001322_1</td>\n",
       "      <td>Li4Y1Br7</td>\n",
       "      <td>1.132112</td>\n",
       "      <td>-3.735198</td>\n",
       "      <td>-0.7266</td>\n",
       "      <td>0.3333</td>\n",
       "      <td>-0.6045</td>\n",
       "      <td>-5.0</td>\n",
       "      <td>4.3955</td>\n",
       "    </tr>\n",
       "  </tbody>\n",
       "</table>\n",
       "</div>"
      ],
      "text/plain": [
       "                       id      comp    reward  predicted_energy  \\\n",
       "0  Li3Y1Br6_icsd_053533_1  Li3Y1Br6  1.135173         -3.798492   \n",
       "1  Li4Y1Br7_icsd_001322_1  Li4Y1Br7  1.132112         -3.735198   \n",
       "\n",
       "   decomp_energy  cond_ion_frac  reduction  oxidation  stability_window  \n",
       "0        -0.8512         0.3000    -0.6734       -5.0            4.3266  \n",
       "1        -0.7266         0.3333    -0.6045       -5.0            4.3955  "
      ]
     },
     "execution_count": 43,
     "metadata": {},
     "output_type": "execute_result"
    }
   ],
   "source": [
    "rewards_file = \"/projects/rlmolecule/jlaw/crystal_outputs/2022-07-05/best_decor_rewards.csv.gz\"\n",
    "pred_df = pd.read_csv(rewards_file)\n",
    "print(len(pred_df))\n",
    "pred_df.head(2)"
   ]
  },
  {
   "cell_type": "code",
   "execution_count": 7,
   "id": "4ca15c0b-3227-4664-8772-b5ecb9235a57",
   "metadata": {},
   "outputs": [
    {
     "name": "stdout",
     "output_type": "stream",
     "text": [
      "1486\n"
     ]
    },
    {
     "data": {
      "text/html": [
       "<div>\n",
       "<style scoped>\n",
       "    .dataframe tbody tr th:only-of-type {\n",
       "        vertical-align: middle;\n",
       "    }\n",
       "\n",
       "    .dataframe tbody tr th {\n",
       "        vertical-align: top;\n",
       "    }\n",
       "\n",
       "    .dataframe thead th {\n",
       "        text-align: right;\n",
       "    }\n",
       "</style>\n",
       "<table border=\"1\" class=\"dataframe\">\n",
       "  <thead>\n",
       "    <tr style=\"text-align: right;\">\n",
       "      <th></th>\n",
       "      <th>decoration</th>\n",
       "      <th>numatoms</th>\n",
       "      <th>relaxedvolume</th>\n",
       "      <th>energyperatom</th>\n",
       "    </tr>\n",
       "  </thead>\n",
       "  <tbody>\n",
       "    <tr>\n",
       "      <th>0</th>\n",
       "      <td>K2Hf1W3N8/K2Hf1W3N8_icsd_020114_1</td>\n",
       "      <td>28</td>\n",
       "      <td>564.05</td>\n",
       "      <td>-8.203</td>\n",
       "    </tr>\n",
       "    <tr>\n",
       "      <th>1</th>\n",
       "      <td>Li4Y2Br8O1/Li4Y2Br8O1_icsd_002330_1</td>\n",
       "      <td>30</td>\n",
       "      <td>781.97</td>\n",
       "      <td>-4.245</td>\n",
       "    </tr>\n",
       "  </tbody>\n",
       "</table>\n",
       "</div>"
      ],
      "text/plain": [
       "                            decoration  numatoms  relaxedvolume  energyperatom\n",
       "0    K2Hf1W3N8/K2Hf1W3N8_icsd_020114_1        28         564.05         -8.203\n",
       "1  Li4Y2Br8O1/Li4Y2Br8O1_icsd_002330_1        30         781.97         -4.245"
      ]
     },
     "execution_count": 7,
     "metadata": {},
     "output_type": "execute_result"
    }
   ],
   "source": [
    "dft_file = \"/projects/rlmolecule/pgorai/dft_validation_07102022/dft_valid_07102022.csv\"\n",
    "dft_data = pd.read_csv(dft_file)\n",
    "print(len(dft_data))\n",
    "dft_data.head(2)"
   ]
  },
  {
   "cell_type": "code",
   "execution_count": 8,
   "id": "d12e202d-9c44-42cd-bd96-32f80ff17534",
   "metadata": {},
   "outputs": [],
   "source": [
    "dft_data['id'] = dft_data.decoration.apply(lambda x: x.split('/')[1])\n",
    "dft_data.set_index('id', inplace=True)"
   ]
  },
  {
   "cell_type": "code",
   "execution_count": 9,
   "id": "e7c50bb7-27eb-4c40-a708-7174fa97eb68",
   "metadata": {},
   "outputs": [],
   "source": [
    "def extract_id(decorated_str):\n",
    "    decor_split = decorated_str.split('|')\n",
    "    out_str = '_'.join([decor_split[0], decor_split[3].replace('POSCAR_',''), decor_split[4]])\n",
    "    return out_str"
   ]
  },
  {
   "cell_type": "code",
   "execution_count": 46,
   "id": "a7cb2b41-ed45-4d15-b888-0ac62ac880bd",
   "metadata": {},
   "outputs": [],
   "source": [
    "# pred_df['id'] = pred_df.decor_id.apply(extract_id)\n",
    "pred_df.set_index('id', inplace=True)"
   ]
  },
  {
   "cell_type": "code",
   "execution_count": 47,
   "id": "4323f0c6-ac02-4ce0-88d0-6bbf1e2cb7af",
   "metadata": {},
   "outputs": [
    {
     "name": "stdout",
     "output_type": "stream",
     "text": [
      "0.15071393515251846\n"
     ]
    },
    {
     "data": {
      "text/html": [
       "<div>\n",
       "<style scoped>\n",
       "    .dataframe tbody tr th:only-of-type {\n",
       "        vertical-align: middle;\n",
       "    }\n",
       "\n",
       "    .dataframe tbody tr th {\n",
       "        vertical-align: top;\n",
       "    }\n",
       "\n",
       "    .dataframe thead th {\n",
       "        text-align: right;\n",
       "    }\n",
       "</style>\n",
       "<table border=\"1\" class=\"dataframe\">\n",
       "  <thead>\n",
       "    <tr style=\"text-align: right;\">\n",
       "      <th></th>\n",
       "      <th>decoration</th>\n",
       "      <th>numatoms</th>\n",
       "      <th>relaxedvolume</th>\n",
       "      <th>energyperatom</th>\n",
       "      <th>predicted_energy</th>\n",
       "      <th>predicted_decomp</th>\n",
       "      <th>energy_err</th>\n",
       "      <th>comp</th>\n",
       "      <th>id</th>\n",
       "      <th>decomp_energy</th>\n",
       "    </tr>\n",
       "    <tr>\n",
       "      <th>id</th>\n",
       "      <th></th>\n",
       "      <th></th>\n",
       "      <th></th>\n",
       "      <th></th>\n",
       "      <th></th>\n",
       "      <th></th>\n",
       "      <th></th>\n",
       "      <th></th>\n",
       "      <th></th>\n",
       "      <th></th>\n",
       "    </tr>\n",
       "  </thead>\n",
       "  <tbody>\n",
       "    <tr>\n",
       "      <th>K2Hf1W3N8_icsd_020114_1</th>\n",
       "      <td>K2Hf1W3N8/K2Hf1W3N8_icsd_020114_1</td>\n",
       "      <td>28</td>\n",
       "      <td>564.05</td>\n",
       "      <td>-8.203</td>\n",
       "      <td>-8.082979</td>\n",
       "      <td>-0.1975</td>\n",
       "      <td>0.120021</td>\n",
       "      <td>K2Hf1W3N8</td>\n",
       "      <td>K2Hf1W3N8_icsd_020114_1</td>\n",
       "      <td>-0.317494</td>\n",
       "    </tr>\n",
       "    <tr>\n",
       "      <th>Li4Y2Br8O1_icsd_002330_1</th>\n",
       "      <td>Li4Y2Br8O1/Li4Y2Br8O1_icsd_002330_1</td>\n",
       "      <td>30</td>\n",
       "      <td>781.97</td>\n",
       "      <td>-4.245</td>\n",
       "      <td>-3.923797</td>\n",
       "      <td>-0.2844</td>\n",
       "      <td>0.321203</td>\n",
       "      <td>Li4Y2Br8O1</td>\n",
       "      <td>Li4Y2Br8O1_icsd_002330_1</td>\n",
       "      <td>-0.605567</td>\n",
       "    </tr>\n",
       "  </tbody>\n",
       "</table>\n",
       "</div>"
      ],
      "text/plain": [
       "                                                   decoration  numatoms  \\\n",
       "id                                                                        \n",
       "K2Hf1W3N8_icsd_020114_1     K2Hf1W3N8/K2Hf1W3N8_icsd_020114_1        28   \n",
       "Li4Y2Br8O1_icsd_002330_1  Li4Y2Br8O1/Li4Y2Br8O1_icsd_002330_1        30   \n",
       "\n",
       "                          relaxedvolume  energyperatom  predicted_energy  \\\n",
       "id                                                                         \n",
       "K2Hf1W3N8_icsd_020114_1          564.05         -8.203         -8.082979   \n",
       "Li4Y2Br8O1_icsd_002330_1         781.97         -4.245         -3.923797   \n",
       "\n",
       "                          predicted_decomp  energy_err        comp  \\\n",
       "id                                                                   \n",
       "K2Hf1W3N8_icsd_020114_1            -0.1975    0.120021   K2Hf1W3N8   \n",
       "Li4Y2Br8O1_icsd_002330_1           -0.2844    0.321203  Li4Y2Br8O1   \n",
       "\n",
       "                                                id  decomp_energy  \n",
       "id                                                                 \n",
       "K2Hf1W3N8_icsd_020114_1    K2Hf1W3N8_icsd_020114_1      -0.317494  \n",
       "Li4Y2Br8O1_icsd_002330_1  Li4Y2Br8O1_icsd_002330_1      -0.605567  "
      ]
     },
     "execution_count": 47,
     "metadata": {},
     "output_type": "execute_result"
    }
   ],
   "source": [
    "dft_data['predicted_energy'] = pred_df['predicted_energy']\n",
    "dft_data['predicted_decomp'] = pred_df['decomp_energy']\n",
    "dft_data['energy_err'] = dft_data['predicted_energy'] - dft_data['energyperatom']\n",
    "print(dft_data['energy_err'].mean())\n",
    "dft_data.head(2)"
   ]
  },
  {
   "cell_type": "code",
   "execution_count": 179,
   "id": "77be4e6a-3a68-4969-a460-1fca13345331",
   "metadata": {},
   "outputs": [
    {
     "data": {
      "text/html": [
       "<div>\n",
       "<style scoped>\n",
       "    .dataframe tbody tr th:only-of-type {\n",
       "        vertical-align: middle;\n",
       "    }\n",
       "\n",
       "    .dataframe tbody tr th {\n",
       "        vertical-align: top;\n",
       "    }\n",
       "\n",
       "    .dataframe thead th {\n",
       "        text-align: right;\n",
       "    }\n",
       "</style>\n",
       "<table border=\"1\" class=\"dataframe\">\n",
       "  <thead>\n",
       "    <tr style=\"text-align: right;\">\n",
       "      <th></th>\n",
       "      <th>decoration</th>\n",
       "      <th>numatoms</th>\n",
       "      <th>relaxedvolume</th>\n",
       "      <th>energyperatom</th>\n",
       "      <th>predicted_energy</th>\n",
       "      <th>predicted_decomp</th>\n",
       "      <th>energy_err</th>\n",
       "      <th>comp</th>\n",
       "      <th>decomp_energy</th>\n",
       "    </tr>\n",
       "    <tr>\n",
       "      <th>id</th>\n",
       "      <th></th>\n",
       "      <th></th>\n",
       "      <th></th>\n",
       "      <th></th>\n",
       "      <th></th>\n",
       "      <th></th>\n",
       "      <th></th>\n",
       "      <th></th>\n",
       "      <th></th>\n",
       "    </tr>\n",
       "  </thead>\n",
       "  <tbody>\n",
       "    <tr>\n",
       "      <th>K2Hf1W3N8_icsd_020114_1</th>\n",
       "      <td>K2Hf1W3N8/K2Hf1W3N8_icsd_020114_1</td>\n",
       "      <td>28</td>\n",
       "      <td>564.05</td>\n",
       "      <td>-8.203</td>\n",
       "      <td>-8.082979</td>\n",
       "      <td>-0.1975</td>\n",
       "      <td>0.120021</td>\n",
       "      <td>K2Hf1W3N8</td>\n",
       "      <td>-0.317494</td>\n",
       "    </tr>\n",
       "    <tr>\n",
       "      <th>Li4Y2Br8O1_icsd_002330_1</th>\n",
       "      <td>Li4Y2Br8O1/Li4Y2Br8O1_icsd_002330_1</td>\n",
       "      <td>30</td>\n",
       "      <td>781.97</td>\n",
       "      <td>-4.245</td>\n",
       "      <td>-3.923797</td>\n",
       "      <td>-0.2844</td>\n",
       "      <td>0.321203</td>\n",
       "      <td>Li4Y2Br8O1</td>\n",
       "      <td>-0.605567</td>\n",
       "    </tr>\n",
       "  </tbody>\n",
       "</table>\n",
       "</div>"
      ],
      "text/plain": [
       "                                                   decoration  numatoms  \\\n",
       "id                                                                        \n",
       "K2Hf1W3N8_icsd_020114_1     K2Hf1W3N8/K2Hf1W3N8_icsd_020114_1        28   \n",
       "Li4Y2Br8O1_icsd_002330_1  Li4Y2Br8O1/Li4Y2Br8O1_icsd_002330_1        30   \n",
       "\n",
       "                          relaxedvolume  energyperatom  predicted_energy  \\\n",
       "id                                                                         \n",
       "K2Hf1W3N8_icsd_020114_1          564.05         -8.203         -8.082979   \n",
       "Li4Y2Br8O1_icsd_002330_1         781.97         -4.245         -3.923797   \n",
       "\n",
       "                          predicted_decomp  energy_err        comp  \\\n",
       "id                                                                   \n",
       "K2Hf1W3N8_icsd_020114_1            -0.1975    0.120021   K2Hf1W3N8   \n",
       "Li4Y2Br8O1_icsd_002330_1           -0.2844    0.321203  Li4Y2Br8O1   \n",
       "\n",
       "                          decomp_energy  \n",
       "id                                       \n",
       "K2Hf1W3N8_icsd_020114_1       -0.317494  \n",
       "Li4Y2Br8O1_icsd_002330_1      -0.605567  "
      ]
     },
     "execution_count": 179,
     "metadata": {},
     "output_type": "execute_result"
    }
   ],
   "source": [
    "dft_data.head(2)"
   ]
  },
  {
   "cell_type": "code",
   "execution_count": 180,
   "id": "ff4b70a8-8727-4b55-a2dc-4322d585a3d7",
   "metadata": {},
   "outputs": [],
   "source": [
    "out_file = \"/projects/rlmolecule/jlaw/crystal_outputs/2022-07-05/viz/pred_vs_dft.csv\"\n",
    "dft_data.to_csv(out_file)"
   ]
  },
  {
   "cell_type": "code",
   "execution_count": 77,
   "id": "fa8afc40-2b57-41b8-bfad-1cf0180b23a8",
   "metadata": {},
   "outputs": [],
   "source": [
    "sns.set_style('ticks')"
   ]
  },
  {
   "cell_type": "code",
   "execution_count": 84,
   "id": "dba34ade-84f6-4aca-a1e5-1f1f026acf44",
   "metadata": {},
   "outputs": [
    {
     "data": {
      "image/png": "[encoded data removed]",
      "text/plain": [
       "<Figure size 432x288 with 1 Axes>"
      ]
     },
     "metadata": {},
     "output_type": "display_data"
    }
   ],
   "source": [
    "bins = np.arange(-.3, 1, .05) * 1000\n",
    "ax = (dft_data.energy_err * 1000).plot.hist(bins=bins)\n",
    "plt.xlabel(\"Predicted - DFT Total Energy (meV/atom)\")\n",
    "num_strcs = len(dft_data)\n",
    "num_lower_energy = len(dft_data[dft_data['energy_err'] > 0])\n",
    "perc_passing = num_lower_energy / num_strcs\n",
    "plt.text(450, 200, \n",
    "         f\"{num_lower_energy} / {num_strcs} ({perc_passing*100:0.1f}%) > 0\",\n",
    "         backgroundcolor='white',\n",
    "        )\n",
    "\n",
    "# ax.spines['top'].set_visible(False)\n",
    "# ax.spines['right'].set_visible(False)\n",
    "# ax.spines['left'].set_visible(False)\n",
    "sns.despine()\n",
    "ax.xaxis.grid(True)\n",
    "# ax.spines['bottom'].set_visible(False)\n",
    "# ax.set_xticks(np.arange(-400, 1100, 200))"
   ]
  },
  {
   "cell_type": "code",
   "execution_count": 54,
   "id": "89255d8a-560d-4090-bf90-27f6b58c44ee",
   "metadata": {},
   "outputs": [
    {
     "name": "stdout",
     "output_type": "stream",
     "text": [
      "1182\n",
      "0.7954239569313594\n",
      "0.9071332436069987\n"
     ]
    }
   ],
   "source": [
    "print(len(dft_data[dft_data['energy_err'] > 0]))\n",
    "print(len(dft_data[dft_data['energy_err'] > 0]) / len(dft_data))\n",
    "print(len(dft_data[dft_data['energy_err'] > -.05]) / len(dft_data))"
   ]
  },
  {
   "cell_type": "code",
   "execution_count": 12,
   "id": "e972863b-e6a7-4549-9eb0-9cdbd435a5d5",
   "metadata": {},
   "outputs": [
    {
     "name": "stderr",
     "output_type": "stream",
     "text": [
      "WARNING:matplotlib.axes._axes:*c* argument looks like a single numeric RGB or RGBA sequence, which should be avoided as value-mapping will have precedence in case its length matches with *x* & *y*.  Please use the *color* keyword-argument or provide a 2D array with a single row if you intend to specify the same RGB or RGBA value for all points.\n"
     ]
    },
    {
     "data": {
      "text/plain": [
       "<AxesSubplot:xlabel='energyperatom', ylabel='predicted_energy'>"
      ]
     },
     "execution_count": 12,
     "metadata": {},
     "output_type": "execute_result"
    },
    {
     "data": {
      "image/png": "[encoded data removed]",
      "text/plain": [
       "<Figure size 432x288 with 1 Axes>"
      ]
     },
     "metadata": {
      "needs_background": "light"
     },
     "output_type": "display_data"
    }
   ],
   "source": [
    "dft_data.plot.scatter('energyperatom', 'predicted_energy')"
   ]
  },
  {
   "cell_type": "markdown",
   "id": "6503be31-3610-4d80-8fc9-7b579c727b90",
   "metadata": {},
   "source": [
    "### Compute the decomposition energy for each of them"
   ]
  },
  {
   "cell_type": "code",
   "execution_count": 30,
   "id": "a5bfe18c-abfa-455f-a0f1-c31705604a28",
   "metadata": {},
   "outputs": [],
   "source": [
    "from pymatgen.core import Composition\n",
    "from pymatgen.analysis.phase_diagram import PhaseDiagram, PDEntry"
   ]
  },
  {
   "cell_type": "code",
   "execution_count": 27,
   "id": "8c32ba15-5384-4b70-ab6f-438eafae0147",
   "metadata": {},
   "outputs": [],
   "source": [
    "def setup_competing_phases(competing_phases_files):\n",
    "    if not isinstance(competing_phases_files, list):\n",
    "        competing_phases_files = [competing_phases_files]\n",
    "    all_competing_phases = [load_competing_phases(f) for f in competing_phases_files]\n",
    "\n",
    "    # also add the individual elements\n",
    "    competing_phases = pd.concat([pd.Series(fere_entries)] + all_competing_phases).reset_index()[0]\n",
    "    return competing_phases\n",
    "\n",
    "\n",
    "def load_competing_phases(competing_phases_file):\n",
    "    print(f\"Reading {competing_phases_file}\")\n",
    "    df = pd.read_csv(competing_phases_file)\n",
    "    print(f\"\\t{len(df)} lines\")\n",
    "    print(df.head(2))\n",
    "\n",
    "    assert ('sortedformula' in df.columns or 'comp' in df.columns) \\\n",
    "        and ('energyperatom' in df.columns or 'predicted_energy' in df.columns)\n",
    "    if 'sortedformula' not in df.columns:\n",
    "        df.rename(columns={'comp': 'sortedformula'}, inplace=True)\n",
    "    if 'energyperatom' not in df.columns:\n",
    "        df.rename(columns={'predicted_energy': 'energyperatom'}, inplace=True)\n",
    "    print(\"columns after renaming:\", df.columns)\n",
    "\n",
    "    df['energy'] = (\n",
    "        df.energyperatom *\n",
    "        df.sortedformula.apply(lambda x: Composition(x).num_atoms)\n",
    "    )\n",
    "    # convert the dataframe to a list of PDEntries used to create the convex hull\n",
    "    pd_entries = df.apply(\n",
    "        lambda row: PDEntry(Composition(row.sortedformula),\n",
    "                            row.energy),\n",
    "        axis=1\n",
    "    )\n",
    "    print(f\"\\t{len(pd_entries)} entries\")\n",
    "    return pd_entries"
   ]
  },
  {
   "cell_type": "code",
   "execution_count": 111,
   "id": "cfaee69d-0933-430b-a5f9-33ddb098971a",
   "metadata": {},
   "outputs": [],
   "source": [
    "competing_phases_files = [\n",
    "    \"/projects/rlmolecule/jlaw/rlmolecule/examples/crystal_energy/inputs/competing_phases.csv\",\n",
    "    # \"/projects/rlmolecule/jlaw/crystal_outputs/2022-07-05/best_decor_rewards.csv.gz\",\n",
    "]"
   ]
  },
  {
   "cell_type": "code",
   "execution_count": 120,
   "id": "479daa76-4715-420a-a078-37a05556bf42",
   "metadata": {},
   "outputs": [
    {
     "name": "stdout",
     "output_type": "stream",
     "text": [
      "Reading /projects/rlmolecule/jlaw/rlmolecule/examples/crystal_energy/inputs/competing_phases.csv\n",
      "\t12682 lines\n",
      "  sortedformula   icsdnum  energyperatom reduced_composition\n",
      "0    Ag10Br3Te4  173116.0      -1.718985          Ag10Br3Te4\n",
      "1   Ag11K1O16V4  391344.0      -4.797702         Ag11K1O16V4\n",
      "columns after renaming: Index(['sortedformula', 'icsdnum', 'energyperatom', 'reduced_composition'], dtype='object')\n",
      "\t12682 entries\n"
     ]
    }
   ],
   "source": [
    "competing_phases = setup_competing_phases(competing_phases_files)"
   ]
  },
  {
   "cell_type": "code",
   "execution_count": 20,
   "id": "b4720e06-4616-4f67-8284-d6bfa7f3a406",
   "metadata": {},
   "outputs": [
    {
     "data": {
      "text/html": [
       "<div>\n",
       "<style scoped>\n",
       "    .dataframe tbody tr th:only-of-type {\n",
       "        vertical-align: middle;\n",
       "    }\n",
       "\n",
       "    .dataframe tbody tr th {\n",
       "        vertical-align: top;\n",
       "    }\n",
       "\n",
       "    .dataframe thead th {\n",
       "        text-align: right;\n",
       "    }\n",
       "</style>\n",
       "<table border=\"1\" class=\"dataframe\">\n",
       "  <thead>\n",
       "    <tr style=\"text-align: right;\">\n",
       "      <th></th>\n",
       "      <th>decoration</th>\n",
       "      <th>numatoms</th>\n",
       "      <th>relaxedvolume</th>\n",
       "      <th>energyperatom</th>\n",
       "      <th>predicted_energy</th>\n",
       "      <th>predicted_decomp</th>\n",
       "      <th>energy_err</th>\n",
       "      <th>comp</th>\n",
       "      <th>id</th>\n",
       "    </tr>\n",
       "    <tr>\n",
       "      <th>id</th>\n",
       "      <th></th>\n",
       "      <th></th>\n",
       "      <th></th>\n",
       "      <th></th>\n",
       "      <th></th>\n",
       "      <th></th>\n",
       "      <th></th>\n",
       "      <th></th>\n",
       "      <th></th>\n",
       "    </tr>\n",
       "  </thead>\n",
       "  <tbody>\n",
       "    <tr>\n",
       "      <th>K2Hf1W3N8_icsd_020114_1</th>\n",
       "      <td>K2Hf1W3N8/K2Hf1W3N8_icsd_020114_1</td>\n",
       "      <td>28</td>\n",
       "      <td>564.05</td>\n",
       "      <td>-8.203</td>\n",
       "      <td>-8.083</td>\n",
       "      <td>-0.022</td>\n",
       "      <td>0.120</td>\n",
       "      <td>K2Hf1W3N8</td>\n",
       "      <td>K2Hf1W3N8_icsd_020114_1</td>\n",
       "    </tr>\n",
       "    <tr>\n",
       "      <th>Li4Y2Br8O1_icsd_002330_1</th>\n",
       "      <td>Li4Y2Br8O1/Li4Y2Br8O1_icsd_002330_1</td>\n",
       "      <td>30</td>\n",
       "      <td>781.97</td>\n",
       "      <td>-4.245</td>\n",
       "      <td>-3.924</td>\n",
       "      <td>0.435</td>\n",
       "      <td>0.321</td>\n",
       "      <td>Li4Y2Br8O1</td>\n",
       "      <td>Li4Y2Br8O1_icsd_002330_1</td>\n",
       "    </tr>\n",
       "  </tbody>\n",
       "</table>\n",
       "</div>"
      ],
      "text/plain": [
       "                                                   decoration  numatoms  \\\n",
       "id                                                                        \n",
       "K2Hf1W3N8_icsd_020114_1     K2Hf1W3N8/K2Hf1W3N8_icsd_020114_1        28   \n",
       "Li4Y2Br8O1_icsd_002330_1  Li4Y2Br8O1/Li4Y2Br8O1_icsd_002330_1        30   \n",
       "\n",
       "                          relaxedvolume  energyperatom  predicted_energy  \\\n",
       "id                                                                         \n",
       "K2Hf1W3N8_icsd_020114_1          564.05         -8.203            -8.083   \n",
       "Li4Y2Br8O1_icsd_002330_1         781.97         -4.245            -3.924   \n",
       "\n",
       "                          predicted_decomp  energy_err        comp  \\\n",
       "id                                                                   \n",
       "K2Hf1W3N8_icsd_020114_1             -0.022       0.120   K2Hf1W3N8   \n",
       "Li4Y2Br8O1_icsd_002330_1             0.435       0.321  Li4Y2Br8O1   \n",
       "\n",
       "                                                id  \n",
       "id                                                  \n",
       "K2Hf1W3N8_icsd_020114_1    K2Hf1W3N8_icsd_020114_1  \n",
       "Li4Y2Br8O1_icsd_002330_1  Li4Y2Br8O1_icsd_002330_1  "
      ]
     },
     "execution_count": 20,
     "metadata": {},
     "output_type": "execute_result"
    }
   ],
   "source": [
    "dft_data['comp'] = dft_data.decoration.apply(lambda x: x.split('/')[0])\n",
    "dft_data['id'] = dft_data.decoration.apply(lambda x: x.split('/')[1])\n",
    "dft_data.head(2)"
   ]
  },
  {
   "cell_type": "code",
   "execution_count": 36,
   "id": "a0af716d-a47d-4182-9333-d8dfec8377c2",
   "metadata": {},
   "outputs": [],
   "source": [
    "def compute_decomp_energy(row, energy_col=\"energyperatom\"):\n",
    "    comp, energyperatom = Composition(row.comp), row[energy_col]\n",
    "    decomp_energy, stability_window = ehull.convex_hull_stability(\n",
    "            comp,\n",
    "            energyperatom,\n",
    "            competing_phases)\n",
    "\n",
    "    return decomp_energy"
   ]
  },
  {
   "cell_type": "code",
   "execution_count": 37,
   "id": "ea08446c-fd40-4961-8ceb-5429fe9ee028",
   "metadata": {},
   "outputs": [
    {
     "data": {
      "application/vnd.jupyter.widget-view+json": {
       "model_id": "929c5c58e1a446fa9874d102bec63fba",
       "version_major": 2,
       "version_minor": 0
      },
      "text/plain": [
       "  0%|          | 0/1486 [00:00<?, ?it/s]"
      ]
     },
     "metadata": {},
     "output_type": "display_data"
    }
   ],
   "source": [
    "dft_data['decomp_energy'] = dft_data.progress_apply(compute_decomp_energy, axis=1)"
   ]
  },
  {
   "cell_type": "code",
   "execution_count": 38,
   "id": "2f8dedb9-8b62-416a-af0b-e6b015710188",
   "metadata": {},
   "outputs": [
    {
     "data": {
      "text/html": [
       "<div>\n",
       "<style scoped>\n",
       "    .dataframe tbody tr th:only-of-type {\n",
       "        vertical-align: middle;\n",
       "    }\n",
       "\n",
       "    .dataframe tbody tr th {\n",
       "        vertical-align: top;\n",
       "    }\n",
       "\n",
       "    .dataframe thead th {\n",
       "        text-align: right;\n",
       "    }\n",
       "</style>\n",
       "<table border=\"1\" class=\"dataframe\">\n",
       "  <thead>\n",
       "    <tr style=\"text-align: right;\">\n",
       "      <th></th>\n",
       "      <th>decoration</th>\n",
       "      <th>numatoms</th>\n",
       "      <th>relaxedvolume</th>\n",
       "      <th>energyperatom</th>\n",
       "      <th>predicted_energy</th>\n",
       "      <th>predicted_decomp</th>\n",
       "      <th>energy_err</th>\n",
       "      <th>comp</th>\n",
       "      <th>id</th>\n",
       "      <th>decomp_energy</th>\n",
       "    </tr>\n",
       "    <tr>\n",
       "      <th>id</th>\n",
       "      <th></th>\n",
       "      <th></th>\n",
       "      <th></th>\n",
       "      <th></th>\n",
       "      <th></th>\n",
       "      <th></th>\n",
       "      <th></th>\n",
       "      <th></th>\n",
       "      <th></th>\n",
       "      <th></th>\n",
       "    </tr>\n",
       "  </thead>\n",
       "  <tbody>\n",
       "    <tr>\n",
       "      <th>K2Hf1W3N8_icsd_020114_1</th>\n",
       "      <td>K2Hf1W3N8/K2Hf1W3N8_icsd_020114_1</td>\n",
       "      <td>28</td>\n",
       "      <td>564.05</td>\n",
       "      <td>-8.203</td>\n",
       "      <td>-8.083</td>\n",
       "      <td>-0.022</td>\n",
       "      <td>0.120</td>\n",
       "      <td>K2Hf1W3N8</td>\n",
       "      <td>K2Hf1W3N8_icsd_020114_1</td>\n",
       "      <td>-0.317494</td>\n",
       "    </tr>\n",
       "    <tr>\n",
       "      <th>Li4Y2Br8O1_icsd_002330_1</th>\n",
       "      <td>Li4Y2Br8O1/Li4Y2Br8O1_icsd_002330_1</td>\n",
       "      <td>30</td>\n",
       "      <td>781.97</td>\n",
       "      <td>-4.245</td>\n",
       "      <td>-3.924</td>\n",
       "      <td>0.435</td>\n",
       "      <td>0.321</td>\n",
       "      <td>Li4Y2Br8O1</td>\n",
       "      <td>Li4Y2Br8O1_icsd_002330_1</td>\n",
       "      <td>-0.605567</td>\n",
       "    </tr>\n",
       "  </tbody>\n",
       "</table>\n",
       "</div>"
      ],
      "text/plain": [
       "                                                   decoration  numatoms  \\\n",
       "id                                                                        \n",
       "K2Hf1W3N8_icsd_020114_1     K2Hf1W3N8/K2Hf1W3N8_icsd_020114_1        28   \n",
       "Li4Y2Br8O1_icsd_002330_1  Li4Y2Br8O1/Li4Y2Br8O1_icsd_002330_1        30   \n",
       "\n",
       "                          relaxedvolume  energyperatom  predicted_energy  \\\n",
       "id                                                                         \n",
       "K2Hf1W3N8_icsd_020114_1          564.05         -8.203            -8.083   \n",
       "Li4Y2Br8O1_icsd_002330_1         781.97         -4.245            -3.924   \n",
       "\n",
       "                          predicted_decomp  energy_err        comp  \\\n",
       "id                                                                   \n",
       "K2Hf1W3N8_icsd_020114_1             -0.022       0.120   K2Hf1W3N8   \n",
       "Li4Y2Br8O1_icsd_002330_1             0.435       0.321  Li4Y2Br8O1   \n",
       "\n",
       "                                                id  decomp_energy  \n",
       "id                                                                 \n",
       "K2Hf1W3N8_icsd_020114_1    K2Hf1W3N8_icsd_020114_1      -0.317494  \n",
       "Li4Y2Br8O1_icsd_002330_1  Li4Y2Br8O1_icsd_002330_1      -0.605567  "
      ]
     },
     "execution_count": 38,
     "metadata": {},
     "output_type": "execute_result"
    }
   ],
   "source": [
    "dft_data.head(2)"
   ]
  },
  {
   "cell_type": "code",
   "execution_count": 94,
   "id": "1af2c2c8-d949-4272-88e7-62782ee41bf8",
   "metadata": {},
   "outputs": [
    {
     "name": "stdout",
     "output_type": "stream",
     "text": [
      "1434\n",
      "0.9650067294751009\n",
      "1473\n",
      "0.9912516823687753\n",
      "1478\n",
      "1486\n"
     ]
    }
   ],
   "source": [
    "print(len(dft_data[dft_data['decomp_energy'] < -.1]))\n",
    "print(len(dft_data[dft_data['decomp_energy'] < -.1]) / len(dft_data))\n",
    "print(len(dft_data[dft_data['decomp_energy'] < 0]))\n",
    "print(len(dft_data[dft_data['decomp_energy'] < 0]) / len(dft_data))\n",
    "print(len(dft_data[dft_data['decomp_energy'] < 0.05]))\n",
    "print(len(dft_data))"
   ]
  },
  {
   "cell_type": "code",
   "execution_count": 176,
   "id": "5cd7dc01-eab3-4dc8-9576-96ce79740eca",
   "metadata": {},
   "outputs": [],
   "source": [
    "viz_dir = \"/projects/rlmolecule/jlaw/crystal_outputs/2022-07-05/viz\""
   ]
  },
  {
   "cell_type": "code",
   "execution_count": 195,
   "id": "90d740bf-fac9-4ee2-81d6-82e0ae543ac4",
   "metadata": {},
   "outputs": [
    {
     "name": "stdout",
     "output_type": "stream",
     "text": [
      "/projects/rlmolecule/jlaw/crystal_outputs/2022-07-05/viz/pred_vs_dft_decomp_energy_combined.svg\n"
     ]
    },
    {
     "data": {
      "image/png": "[encoded data removed]",
      "text/plain": [
       "<Figure size 576x288 with 2 Axes>"
      ]
     },
     "metadata": {},
     "output_type": "display_data"
    }
   ],
   "source": [
    "df = dft_data.copy()\n",
    "f, (ax2, ax1) = plt.subplots(ncols=2, figsize=(8,4))\n",
    "\n",
    "# ax1 = sns.scatterplot(data=df, ax=ax1,\n",
    "ax1 = df.plot.scatter(ax=ax1,\n",
    "                x='decomp_energy', y='predicted_decomp', \n",
    "                alpha=0.3, s=20, linewidth=0,\n",
    "                      color=\"#4e1a8a\",  # purple\n",
    "                      # color=\"#c47214\",  # orange\n",
    ")\n",
    "# ax1.plot([-1,0], [-1,0], ls='--', c='gray')\n",
    "ax1.plot((ax1.get_xlim()[0], 0.1), \n",
    "         (ax1.get_xlim()[0], 0.1), \n",
    "         ls='--', c='black', alpha=0.6)\n",
    "ax1.set_ylim(ymin=ax1.get_ylim()[0], ymax=0.15)\n",
    "ax1.set_xlim(xmin=ax1.get_xlim()[0], xmax=0.15)\n",
    "ax1.axvline(0, ls='--', c='red', alpha=0.7)\n",
    "ax1.set_xlabel(\"DFT Decomposition Energy (eV/atom)\")\n",
    "ax1.set_ylabel(\"Predicted: Unrelaxed  (eV/atom)\")\n",
    "# ax1.set_title(\"Decomposition Energy (eV/atom)\", fontsize=16)\n",
    "\n",
    "df.plot.scatter(x=\"energyperatom\", y=\"predicted_energy\", ax=ax2,\n",
    "                alpha=0.3, s=20, linewidth=0,\n",
    "                color=\"#c47214\",  # orange\n",
    "                #color=\"#08a31f\", # green\n",
    "               )\n",
    "# ax2.plot([-8,-3], [-8,-3], ls='--', c='gray')\n",
    "ax2.plot(ax2.get_xlim(), ax2.get_xlim(), \n",
    "         ls='--', c='black', alpha=0.6)\n",
    "ax2.set_xlabel(\"DFT Total Energy (eV/atom)\")\n",
    "ax2.set_ylabel(\"Predicted: Unrelaxed (eV/atom)\")\n",
    "# ax2.set_title(\"Total Energy (eV/atom)\", fontsize=16)\n",
    "# mae = (df['energyperatom'] - df[\"predicted_energy\"]).abs().mean()\n",
    "# ax2.text(1, 0.025, f'MAE: {mae*1000:.0f} meV/atom ',\n",
    "        # ha='right', va='bottom', transform=ax2.transAxes, fontsize=12)\n",
    "\n",
    "# plt.suptitle(f\"MCTS run ({len(df)} strcs):\\n\"\n",
    "# plt.suptitle(f\"MCTS run no halides and no Sc, Y ({len(df)} strcs):\\n\"\n",
    "             # f\"ICSD, Battery Relaxed, & Volume Relaxed\")\n",
    "# plt.suptitle(f\"Unconstrained\\n({len(df)} structures, Reward cutoff = -1)\", fontsize=18)\n",
    "# plt.suptitle(f\"No halides / Sc, Y\\n({len(df)} structures, Reward cutoff = -0.01)\", fontsize=18)\n",
    "\n",
    "sns.despine()\n",
    "plt.tight_layout()\n",
    "out_file = f\"{viz_dir}/pred_vs_dft_decomp_energy_combined.svg\"\n",
    "print(os.path.abspath(out_file))\n",
    "plt.savefig(out_file, bbox_inches='tight')\n",
    "plt.savefig(out_file.replace('.svg','.png'), bbox_inches='tight', dpi=300)"
   ]
  },
  {
   "cell_type": "markdown",
   "id": "d49bd0a2-5e34-4220-87de-e83bbc78623e",
   "metadata": {},
   "source": [
    "## Also compare the performance for the volume-only relaxations"
   ]
  },
  {
   "cell_type": "code",
   "execution_count": 204,
   "id": "eb456bda-4b41-4694-a14a-995f98e16815",
   "metadata": {},
   "outputs": [],
   "source": [
    "from pathlib import Path\n",
    "from pymatgen.core import Structure"
   ]
  },
  {
   "cell_type": "code",
   "execution_count": null,
   "id": "b39bd922-ed45-427d-8c4c-82d4600b2c71",
   "metadata": {},
   "outputs": [],
   "source": [
    "vol_rel_dir = Path(\"/projects/rlmolecule/jlaw/crystal_outputs/2022-07-05/volume_relaxation_outputs\")\n",
    "vol_rel_energies = {}\n",
    "for strc_dir in tqdm(list(vol_rel_dir.glob(\"*/*\"))):\n",
    "    opt_file = f\"{strc_dir}/opt_vol\"\n",
    "    if os.path.isfile(opt_file):\n",
    "        strc = Structure.from_file(f\"{strc_dir}/CONTCAR.gz\")\n",
    "        strc_id = Path(strc_dir).name\n",
    "        energy = pd.read_csv(opt_file, header=None).squeeze()[1]\n",
    "        energyperatom = energy / strc.num_sites\n",
    "        vol_rel_energies[strc_id] = energyperatom"
   ]
  },
  {
   "cell_type": "code",
   "execution_count": 216,
   "id": "8e3e3de3-3d5f-43cd-a399-5c65938567a3",
   "metadata": {},
   "outputs": [
    {
     "data": {
      "text/html": [
       "<div>\n",
       "<style scoped>\n",
       "    .dataframe tbody tr th:only-of-type {\n",
       "        vertical-align: middle;\n",
       "    }\n",
       "\n",
       "    .dataframe tbody tr th {\n",
       "        vertical-align: top;\n",
       "    }\n",
       "\n",
       "    .dataframe thead th {\n",
       "        text-align: right;\n",
       "    }\n",
       "</style>\n",
       "<table border=\"1\" class=\"dataframe\">\n",
       "  <thead>\n",
       "    <tr style=\"text-align: right;\">\n",
       "      <th></th>\n",
       "      <th>decoration</th>\n",
       "      <th>numatoms</th>\n",
       "      <th>relaxedvolume</th>\n",
       "      <th>energyperatom</th>\n",
       "      <th>predicted_energy</th>\n",
       "      <th>predicted_decomp</th>\n",
       "      <th>energy_err</th>\n",
       "      <th>comp</th>\n",
       "      <th>decomp_energy</th>\n",
       "      <th>vol_energyperatom</th>\n",
       "    </tr>\n",
       "    <tr>\n",
       "      <th>id</th>\n",
       "      <th></th>\n",
       "      <th></th>\n",
       "      <th></th>\n",
       "      <th></th>\n",
       "      <th></th>\n",
       "      <th></th>\n",
       "      <th></th>\n",
       "      <th></th>\n",
       "      <th></th>\n",
       "      <th></th>\n",
       "    </tr>\n",
       "  </thead>\n",
       "  <tbody>\n",
       "    <tr>\n",
       "      <th>K2Hf1W3N8_icsd_020114_1</th>\n",
       "      <td>K2Hf1W3N8/K2Hf1W3N8_icsd_020114_1</td>\n",
       "      <td>28</td>\n",
       "      <td>564.05</td>\n",
       "      <td>-8.203</td>\n",
       "      <td>-8.082979</td>\n",
       "      <td>-0.1975</td>\n",
       "      <td>0.120021</td>\n",
       "      <td>K2Hf1W3N8</td>\n",
       "      <td>-0.317494</td>\n",
       "      <td>-8.101439</td>\n",
       "    </tr>\n",
       "    <tr>\n",
       "      <th>Li4Y2Br8O1_icsd_002330_1</th>\n",
       "      <td>Li4Y2Br8O1/Li4Y2Br8O1_icsd_002330_1</td>\n",
       "      <td>30</td>\n",
       "      <td>781.97</td>\n",
       "      <td>-4.245</td>\n",
       "      <td>-3.923797</td>\n",
       "      <td>-0.2844</td>\n",
       "      <td>0.321203</td>\n",
       "      <td>Li4Y2Br8O1</td>\n",
       "      <td>-0.605567</td>\n",
       "      <td>-3.794640</td>\n",
       "    </tr>\n",
       "  </tbody>\n",
       "</table>\n",
       "</div>"
      ],
      "text/plain": [
       "                                                   decoration  numatoms  \\\n",
       "id                                                                        \n",
       "K2Hf1W3N8_icsd_020114_1     K2Hf1W3N8/K2Hf1W3N8_icsd_020114_1        28   \n",
       "Li4Y2Br8O1_icsd_002330_1  Li4Y2Br8O1/Li4Y2Br8O1_icsd_002330_1        30   \n",
       "\n",
       "                          relaxedvolume  energyperatom  predicted_energy  \\\n",
       "id                                                                         \n",
       "K2Hf1W3N8_icsd_020114_1          564.05         -8.203         -8.082979   \n",
       "Li4Y2Br8O1_icsd_002330_1         781.97         -4.245         -3.923797   \n",
       "\n",
       "                          predicted_decomp  energy_err        comp  \\\n",
       "id                                                                   \n",
       "K2Hf1W3N8_icsd_020114_1            -0.1975    0.120021   K2Hf1W3N8   \n",
       "Li4Y2Br8O1_icsd_002330_1           -0.2844    0.321203  Li4Y2Br8O1   \n",
       "\n",
       "                          decomp_energy  vol_energyperatom  \n",
       "id                                                          \n",
       "K2Hf1W3N8_icsd_020114_1       -0.317494          -8.101439  \n",
       "Li4Y2Br8O1_icsd_002330_1      -0.605567          -3.794640  "
      ]
     },
     "execution_count": 216,
     "metadata": {},
     "output_type": "execute_result"
    }
   ],
   "source": [
    "dft_data['vol_energyperatom'] = pd.Series(vol_rel_energies)\n",
    "dft_data.head(2)"
   ]
  },
  {
   "cell_type": "code",
   "execution_count": 222,
   "id": "7e77d0a1-fb74-4160-845f-510219fd82ff",
   "metadata": {},
   "outputs": [
    {
     "name": "stdout",
     "output_type": "stream",
     "text": [
      "/projects/rlmolecule/jlaw/crystal_outputs/2022-07-05/viz/pred_vs_dft_vol.svg\n"
     ]
    },
    {
     "data": {
      "image/png": "[encoded data removed]",
      "text/plain": [
       "<Figure size 288x288 with 1 Axes>"
      ]
     },
     "metadata": {},
     "output_type": "display_data"
    }
   ],
   "source": [
    "df = dft_data.copy()\n",
    "f, (ax1) = plt.subplots(ncols=1, figsize=(4,4))\n",
    "\n",
    "df.plot.scatter(x=\"vol_energyperatom\", y=\"predicted_energy\", ax=ax1,\n",
    "                alpha=0.3, s=20, linewidth=0,\n",
    "                # color=\"#c47214\",  # orange\n",
    "                color=\"#08a31f\", # green\n",
    "               )\n",
    "ax1.plot(ax1.get_xlim(), \n",
    "         ax1.get_xlim(), \n",
    "         ls='--', c='black', alpha=0.6)\n",
    "\n",
    "ax1.set_xlabel(\"Volume-only DFT Total Energy (eV/atom)\")\n",
    "ax1.set_ylabel(\"Predicted: Unrelaxed (eV/atom)\")\n",
    "mae = (df['vol_energyperatom'] - df[\"predicted_energy\"]).abs().mean()\n",
    "ax1.text(1, 0.025, f'MAE: {mae*1000:.0f} meV/atom ',\n",
    "        ha='right', va='bottom', transform=ax1.transAxes, fontsize=12)\n",
    "\n",
    "sns.despine()\n",
    "plt.tight_layout()\n",
    "out_file = f\"{viz_dir}/pred_vs_dft_vol.svg\"\n",
    "print(os.path.abspath(out_file))\n",
    "plt.savefig(out_file, bbox_inches='tight')\n",
    "plt.savefig(out_file.replace('.svg','.png'), bbox_inches='tight', dpi=300)"
   ]
  },
  {
   "cell_type": "code",
   "execution_count": 229,
   "id": "aef338ad-219d-430f-87bb-bb2252e9b51c",
   "metadata": {},
   "outputs": [
    {
     "data": {
      "text/plain": [
       "Text(0.5, 0, 'Predicted - Volume-only DFT Total Energy (eV/atom)')"
      ]
     },
     "execution_count": 229,
     "metadata": {},
     "output_type": "execute_result"
    },
    {
     "data": {
      "image/png": "[encoded data removed]",
      "text/plain": [
       "<Figure size 432x288 with 1 Axes>"
      ]
     },
     "metadata": {},
     "output_type": "display_data"
    }
   ],
   "source": [
    "bins = np.arange(-0.25, 0.251, .025)\n",
    "(df['predicted_energy'] - df[\"vol_energyperatom\"]).hist(bins=bins)\n",
    "plt.xlabel(\"Predicted - Volume-only DFT Total Energy (eV/atom)\")"
   ]
  },
  {
   "cell_type": "code",
   "execution_count": 223,
   "id": "49868d48-a885-447b-a649-32efb128b584",
   "metadata": {},
   "outputs": [],
   "source": [
    "out_file = \"/projects/rlmolecule/jlaw/crystal_outputs/2022-07-05/viz/pred_vs_dft.csv\"\n",
    "dft_data.to_csv(out_file)"
   ]
  },
  {
   "cell_type": "markdown",
   "id": "315f0fbb-0e85-4014-bb14-34dfbf206f5e",
   "metadata": {},
   "source": [
    "## Compute the self-consistent decomposition energy\n",
    "- The convex hulls to this point have been constructed with only the ICSD structures\n",
    "- Many of high-reward compositions with a stable structure could compete with each other\n",
    "- Therefore, we need to reconstruct the convex hulls with our additional data to see which compositions are truly stable"
   ]
  },
  {
   "cell_type": "markdown",
   "id": "3ddd1d81-b540-4c1c-95cb-6d3bf983fcd9",
   "metadata": {},
   "source": [
    "### First, use just DFT-relaxed energies to construct the convex hull"
   ]
  },
  {
   "cell_type": "code",
   "execution_count": 111,
   "id": "5749a2d2",
   "metadata": {},
   "outputs": [],
   "source": [
    "competing_phases_files = [\n",
    "    \"/projects/rlmolecule/jlaw/rlmolecule/examples/crystal_energy/inputs/competing_phases.csv\",\n",
    "    # \"/projects/rlmolecule/jlaw/crystal_outputs/2022-07-05/best_decor_rewards.csv.gz\",\n",
    "]"
   ]
  },
  {
   "cell_type": "code",
   "execution_count": 120,
   "id": "8a18b451",
   "metadata": {},
   "outputs": [
    {
     "name": "stdout",
     "output_type": "stream",
     "text": [
      "Reading /projects/rlmolecule/jlaw/rlmolecule/examples/crystal_energy/inputs/competing_phases.csv\n",
      "\t12682 lines\n",
      "  sortedformula   icsdnum  energyperatom reduced_composition\n",
      "0    Ag10Br3Te4  173116.0      -1.718985          Ag10Br3Te4\n",
      "1   Ag11K1O16V4  391344.0      -4.797702         Ag11K1O16V4\n",
      "columns after renaming: Index(['sortedformula', 'icsdnum', 'energyperatom', 'reduced_composition'], dtype='object')\n",
      "\t12682 entries\n"
     ]
    }
   ],
   "source": [
    "competing_phases = setup_competing_phases(competing_phases_files)"
   ]
  },
  {
   "cell_type": "code",
   "execution_count": 113,
   "id": "59872a2f-c487-412c-8f87-cdbfe90b0882",
   "metadata": {},
   "outputs": [
    {
     "data": {
      "text/html": [
       "<div>\n",
       "<style scoped>\n",
       "    .dataframe tbody tr th:only-of-type {\n",
       "        vertical-align: middle;\n",
       "    }\n",
       "\n",
       "    .dataframe tbody tr th {\n",
       "        vertical-align: top;\n",
       "    }\n",
       "\n",
       "    .dataframe thead th {\n",
       "        text-align: right;\n",
       "    }\n",
       "</style>\n",
       "<table border=\"1\" class=\"dataframe\">\n",
       "  <thead>\n",
       "    <tr style=\"text-align: right;\">\n",
       "      <th></th>\n",
       "      <th>decoration</th>\n",
       "      <th>numatoms</th>\n",
       "      <th>relaxedvolume</th>\n",
       "      <th>energyperatom</th>\n",
       "      <th>predicted_energy</th>\n",
       "      <th>predicted_decomp</th>\n",
       "      <th>energy_err</th>\n",
       "      <th>comp</th>\n",
       "      <th>id</th>\n",
       "      <th>decomp_energy</th>\n",
       "    </tr>\n",
       "    <tr>\n",
       "      <th>id</th>\n",
       "      <th></th>\n",
       "      <th></th>\n",
       "      <th></th>\n",
       "      <th></th>\n",
       "      <th></th>\n",
       "      <th></th>\n",
       "      <th></th>\n",
       "      <th></th>\n",
       "      <th></th>\n",
       "      <th></th>\n",
       "    </tr>\n",
       "  </thead>\n",
       "  <tbody>\n",
       "    <tr>\n",
       "      <th>K2Hf1W3N8_icsd_020114_1</th>\n",
       "      <td>K2Hf1W3N8/K2Hf1W3N8_icsd_020114_1</td>\n",
       "      <td>28</td>\n",
       "      <td>564.05</td>\n",
       "      <td>-8.203</td>\n",
       "      <td>-8.082979</td>\n",
       "      <td>-0.1975</td>\n",
       "      <td>0.120021</td>\n",
       "      <td>K2Hf1W3N8</td>\n",
       "      <td>K2Hf1W3N8_icsd_020114_1</td>\n",
       "      <td>-0.317494</td>\n",
       "    </tr>\n",
       "    <tr>\n",
       "      <th>Li4Y2Br8O1_icsd_002330_1</th>\n",
       "      <td>Li4Y2Br8O1/Li4Y2Br8O1_icsd_002330_1</td>\n",
       "      <td>30</td>\n",
       "      <td>781.97</td>\n",
       "      <td>-4.245</td>\n",
       "      <td>-3.923797</td>\n",
       "      <td>-0.2844</td>\n",
       "      <td>0.321203</td>\n",
       "      <td>Li4Y2Br8O1</td>\n",
       "      <td>Li4Y2Br8O1_icsd_002330_1</td>\n",
       "      <td>-0.605567</td>\n",
       "    </tr>\n",
       "  </tbody>\n",
       "</table>\n",
       "</div>"
      ],
      "text/plain": [
       "                                                   decoration  numatoms  \\\n",
       "id                                                                        \n",
       "K2Hf1W3N8_icsd_020114_1     K2Hf1W3N8/K2Hf1W3N8_icsd_020114_1        28   \n",
       "Li4Y2Br8O1_icsd_002330_1  Li4Y2Br8O1/Li4Y2Br8O1_icsd_002330_1        30   \n",
       "\n",
       "                          relaxedvolume  energyperatom  predicted_energy  \\\n",
       "id                                                                         \n",
       "K2Hf1W3N8_icsd_020114_1          564.05         -8.203         -8.082979   \n",
       "Li4Y2Br8O1_icsd_002330_1         781.97         -4.245         -3.923797   \n",
       "\n",
       "                          predicted_decomp  energy_err        comp  \\\n",
       "id                                                                   \n",
       "K2Hf1W3N8_icsd_020114_1            -0.1975    0.120021   K2Hf1W3N8   \n",
       "Li4Y2Br8O1_icsd_002330_1           -0.2844    0.321203  Li4Y2Br8O1   \n",
       "\n",
       "                                                id  decomp_energy  \n",
       "id                                                                 \n",
       "K2Hf1W3N8_icsd_020114_1    K2Hf1W3N8_icsd_020114_1      -0.317494  \n",
       "Li4Y2Br8O1_icsd_002330_1  Li4Y2Br8O1_icsd_002330_1      -0.605567  "
      ]
     },
     "execution_count": 113,
     "metadata": {},
     "output_type": "execute_result"
    }
   ],
   "source": [
    "dft_data.head(2)"
   ]
  },
  {
   "cell_type": "code",
   "execution_count": 158,
   "id": "77d7edb0-3d4a-4066-82b2-74e5a829d210",
   "metadata": {},
   "outputs": [
    {
     "name": "stdout",
     "output_type": "stream",
     "text": [
      "id\n",
      "K2Hf1W3N8_icsd_020114_1     PDEntry : K2 Hf1 W3 N8 with energy = -114.8420\n",
      "Li4Y2Br8O1_icsd_002330_1    PDEntry : Li4 Y2 Br8 O1 with energy = -63.6750\n",
      "dtype: object\n",
      "PDEntry : K2 Sc2 Cl1 Br7 with energy = -47.0040\n",
      "14226\n"
     ]
    }
   ],
   "source": [
    "# Add the DFT-relaxed energies to the list of competing phases\n",
    "pd_entries = dft_data.apply(\n",
    "    lambda row: PDEntry(Composition(row.comp),\n",
    "                        row.energyperatom * Composition(row.comp).num_atoms),\n",
    "    axis=1\n",
    ")\n",
    "print(pd_entries.head(2))\n",
    "merged_competing_phases = list(competing_phases) + list(pd_entries)\n",
    "print(merged_competing_phases[-1])\n",
    "print(len(merged_competing_phases))"
   ]
  },
  {
   "cell_type": "code",
   "execution_count": 125,
   "id": "6d040461-a77e-4708-abc0-6b91bbbe21a8",
   "metadata": {},
   "outputs": [],
   "source": [
    "dft_data.reset_index(drop=True, inplace=True)"
   ]
  },
  {
   "cell_type": "code",
   "execution_count": 156,
   "id": "135da0e3-6fdf-4d4c-a4ad-ffb1f98634a1",
   "metadata": {},
   "outputs": [
    {
     "data": {
      "text/html": [
       "<div>\n",
       "<style scoped>\n",
       "    .dataframe tbody tr th:only-of-type {\n",
       "        vertical-align: middle;\n",
       "    }\n",
       "\n",
       "    .dataframe tbody tr th {\n",
       "        vertical-align: top;\n",
       "    }\n",
       "\n",
       "    .dataframe thead th {\n",
       "        text-align: right;\n",
       "    }\n",
       "</style>\n",
       "<table border=\"1\" class=\"dataframe\">\n",
       "  <thead>\n",
       "    <tr style=\"text-align: right;\">\n",
       "      <th></th>\n",
       "      <th>decoration</th>\n",
       "      <th>numatoms</th>\n",
       "      <th>relaxedvolume</th>\n",
       "      <th>energyperatom</th>\n",
       "      <th>predicted_energy</th>\n",
       "      <th>predicted_decomp</th>\n",
       "      <th>energy_err</th>\n",
       "      <th>comp</th>\n",
       "      <th>decomp_energy</th>\n",
       "    </tr>\n",
       "    <tr>\n",
       "      <th>id</th>\n",
       "      <th></th>\n",
       "      <th></th>\n",
       "      <th></th>\n",
       "      <th></th>\n",
       "      <th></th>\n",
       "      <th></th>\n",
       "      <th></th>\n",
       "      <th></th>\n",
       "      <th></th>\n",
       "    </tr>\n",
       "  </thead>\n",
       "  <tbody>\n",
       "    <tr>\n",
       "      <th>K2Hf1W3N8_icsd_020114_1</th>\n",
       "      <td>K2Hf1W3N8/K2Hf1W3N8_icsd_020114_1</td>\n",
       "      <td>28</td>\n",
       "      <td>564.05</td>\n",
       "      <td>-8.203</td>\n",
       "      <td>-8.082979</td>\n",
       "      <td>-0.1975</td>\n",
       "      <td>0.120021</td>\n",
       "      <td>K2Hf1W3N8</td>\n",
       "      <td>-0.317494</td>\n",
       "    </tr>\n",
       "    <tr>\n",
       "      <th>Li4Y2Br8O1_icsd_002330_1</th>\n",
       "      <td>Li4Y2Br8O1/Li4Y2Br8O1_icsd_002330_1</td>\n",
       "      <td>30</td>\n",
       "      <td>781.97</td>\n",
       "      <td>-4.245</td>\n",
       "      <td>-3.923797</td>\n",
       "      <td>-0.2844</td>\n",
       "      <td>0.321203</td>\n",
       "      <td>Li4Y2Br8O1</td>\n",
       "      <td>-0.605567</td>\n",
       "    </tr>\n",
       "  </tbody>\n",
       "</table>\n",
       "</div>"
      ],
      "text/plain": [
       "                                                   decoration  numatoms  \\\n",
       "id                                                                        \n",
       "K2Hf1W3N8_icsd_020114_1     K2Hf1W3N8/K2Hf1W3N8_icsd_020114_1        28   \n",
       "Li4Y2Br8O1_icsd_002330_1  Li4Y2Br8O1/Li4Y2Br8O1_icsd_002330_1        30   \n",
       "\n",
       "                          relaxedvolume  energyperatom  predicted_energy  \\\n",
       "id                                                                         \n",
       "K2Hf1W3N8_icsd_020114_1          564.05         -8.203         -8.082979   \n",
       "Li4Y2Br8O1_icsd_002330_1         781.97         -4.245         -3.923797   \n",
       "\n",
       "                          predicted_decomp  energy_err        comp  \\\n",
       "id                                                                   \n",
       "K2Hf1W3N8_icsd_020114_1            -0.1975    0.120021   K2Hf1W3N8   \n",
       "Li4Y2Br8O1_icsd_002330_1           -0.2844    0.321203  Li4Y2Br8O1   \n",
       "\n",
       "                          decomp_energy  \n",
       "id                                       \n",
       "K2Hf1W3N8_icsd_020114_1       -0.317494  \n",
       "Li4Y2Br8O1_icsd_002330_1      -0.605567  "
      ]
     },
     "execution_count": 156,
     "metadata": {},
     "output_type": "execute_result"
    }
   ],
   "source": [
    "dft_data.head(2)"
   ]
  },
  {
   "cell_type": "code",
   "execution_count": 159,
   "id": "2ee614a9-0af2-4754-8b6b-debf9737200b",
   "metadata": {},
   "outputs": [
    {
     "data": {
      "application/vnd.jupyter.widget-view+json": {
       "model_id": "4f90d2779f32493783ff599ea462ca6c",
       "version_major": 2,
       "version_minor": 0
      },
      "text/plain": [
       "  0%|          | 0/1486 [00:00<?, ?it/s]"
      ]
     },
     "metadata": {},
     "output_type": "display_data"
    },
    {
     "data": {
      "text/html": [
       "<div>\n",
       "<style scoped>\n",
       "    .dataframe tbody tr th:only-of-type {\n",
       "        vertical-align: middle;\n",
       "    }\n",
       "\n",
       "    .dataframe tbody tr th {\n",
       "        vertical-align: top;\n",
       "    }\n",
       "\n",
       "    .dataframe thead th {\n",
       "        text-align: right;\n",
       "    }\n",
       "</style>\n",
       "<table border=\"1\" class=\"dataframe\">\n",
       "  <thead>\n",
       "    <tr style=\"text-align: right;\">\n",
       "      <th></th>\n",
       "      <th>predicted_energy</th>\n",
       "      <th>oxidation</th>\n",
       "      <th>reduction</th>\n",
       "      <th>stability_window</th>\n",
       "      <th>decomp_energy</th>\n",
       "      <th>cond_ion_frac</th>\n",
       "      <th>reward</th>\n",
       "      <th>id</th>\n",
       "    </tr>\n",
       "  </thead>\n",
       "  <tbody>\n",
       "    <tr>\n",
       "      <th>0</th>\n",
       "      <td>-8.203</td>\n",
       "      <td>-2.2225</td>\n",
       "      <td>-0.6439</td>\n",
       "      <td>1.5785</td>\n",
       "      <td>-0.0417</td>\n",
       "      <td>0.1429</td>\n",
       "      <td>0.369453</td>\n",
       "      <td>K2Hf1W3N8_icsd_020114_1</td>\n",
       "    </tr>\n",
       "    <tr>\n",
       "      <th>1</th>\n",
       "      <td>-4.245</td>\n",
       "      <td>NaN</td>\n",
       "      <td>NaN</td>\n",
       "      <td>NaN</td>\n",
       "      <td>0.1087</td>\n",
       "      <td>0.2667</td>\n",
       "      <td>0.308778</td>\n",
       "      <td>Li4Y2Br8O1_icsd_002330_1</td>\n",
       "    </tr>\n",
       "  </tbody>\n",
       "</table>\n",
       "</div>"
      ],
      "text/plain": [
       "   predicted_energy  oxidation  reduction  stability_window  decomp_energy  \\\n",
       "0            -8.203    -2.2225    -0.6439            1.5785        -0.0417   \n",
       "1            -4.245        NaN        NaN               NaN         0.1087   \n",
       "\n",
       "   cond_ion_frac    reward                        id  \n",
       "0         0.1429  0.369453   K2Hf1W3N8_icsd_020114_1  \n",
       "1         0.2667  0.308778  Li4Y2Br8O1_icsd_002330_1  "
      ]
     },
     "execution_count": 159,
     "metadata": {},
     "output_type": "execute_result"
    }
   ],
   "source": [
    "# compute the self-consistent decomposition energy\n",
    "def compute_reward(row):\n",
    "    comp = row.comp.split('|')[0]\n",
    "    combined_reward, info = rewarder.compute_reward(\n",
    "        Composition(comp), row.energyperatom)\n",
    "    info['reward'] = combined_reward\n",
    "    return info\n",
    "                            \n",
    "\n",
    "rewarder = StructureRewardBattInterface(merged_competing_phases)\n",
    "\n",
    "new_data = dft_data.progress_apply(compute_reward, axis=1)\n",
    "new_df = pd.DataFrame(list(new_data.values))\n",
    "new_df['id'] = dft_data.index\n",
    "new_df.head(2)"
   ]
  },
  {
   "cell_type": "code",
   "execution_count": 163,
   "id": "b470bc0b-d9a9-4d98-840d-6f523b12957c",
   "metadata": {},
   "outputs": [],
   "source": [
    "new_df.rename(columns={'predicted_energy': 'energyperatom'}, inplace=True)"
   ]
  },
  {
   "cell_type": "code",
   "execution_count": 164,
   "id": "ea7c9dcc-83ae-471b-a30d-e0fe9f9f930f",
   "metadata": {},
   "outputs": [],
   "source": [
    "# write to file\n",
    "out_file = \"/projects/rlmolecule/jlaw/crystal_outputs/2022-07-05/self_consistent_decomp_energies/dft_only.csv\"\n",
    "new_df.set_index('id').to_csv(out_file)"
   ]
  },
  {
   "cell_type": "code",
   "execution_count": 168,
   "id": "f0416d01-26bc-4232-bd6b-021a699e9c18",
   "metadata": {},
   "outputs": [
    {
     "data": {
      "text/plain": [
       "Text(0.5, 0, 'DFT Self-consistent Decomposition Energy')"
      ]
     },
     "execution_count": 168,
     "metadata": {},
     "output_type": "execute_result"
    },
    {
     "data": {
      "image/png": "[encoded data removed]",
      "text/plain": [
       "<Figure size 432x288 with 1 Axes>"
      ]
     },
     "metadata": {},
     "output_type": "display_data"
    }
   ],
   "source": [
    "bins = np.arange(-.25, .7, .05)\n",
    "new_df.decomp_energy.hist(bins=bins)\n",
    "plt.xlabel(\"DFT Self-consistent Decomposition Energy\")"
   ]
  },
  {
   "cell_type": "code",
   "execution_count": 169,
   "id": "039116ec-e426-49f7-bdcb-a8f189b8b307",
   "metadata": {},
   "outputs": [
    {
     "name": "stdout",
     "output_type": "stream",
     "text": [
      "304\n",
      "116\n"
     ]
    }
   ],
   "source": [
    "print(len(new_df[new_df['decomp_energy'] < 0]))\n",
    "print(len(new_df[new_df['decomp_energy'] < -.1]))"
   ]
  },
  {
   "cell_type": "markdown",
   "id": "dbb4728c-d75d-4827-bea6-e31fa26f846a",
   "metadata": {},
   "source": [
    "### Now include the new DFT energies as well as best prediction for each composition in the convex hull creation"
   ]
  },
  {
   "cell_type": "code",
   "execution_count": 129,
   "id": "3aca1712-1e04-40d4-94f9-a401bd619aba",
   "metadata": {},
   "outputs": [
    {
     "name": "stdout",
     "output_type": "stream",
     "text": [
      "14277451\n",
      "220824\n"
     ]
    },
    {
     "data": {
      "text/html": [
       "<div>\n",
       "<style scoped>\n",
       "    .dataframe tbody tr th:only-of-type {\n",
       "        vertical-align: middle;\n",
       "    }\n",
       "\n",
       "    .dataframe tbody tr th {\n",
       "        vertical-align: top;\n",
       "    }\n",
       "\n",
       "    .dataframe thead th {\n",
       "        text-align: right;\n",
       "    }\n",
       "</style>\n",
       "<table border=\"1\" class=\"dataframe\">\n",
       "  <thead>\n",
       "    <tr style=\"text-align: right;\">\n",
       "      <th></th>\n",
       "      <th>id</th>\n",
       "      <th>comp</th>\n",
       "      <th>reward</th>\n",
       "      <th>predicted_energy</th>\n",
       "      <th>decomp_energy</th>\n",
       "      <th>cond_ion_frac</th>\n",
       "      <th>reduction</th>\n",
       "      <th>oxidation</th>\n",
       "      <th>stability_window</th>\n",
       "    </tr>\n",
       "  </thead>\n",
       "  <tbody>\n",
       "    <tr>\n",
       "      <th>74</th>\n",
       "      <td>Li2W1Zn1Br2I8_icsd_408052_1</td>\n",
       "      <td>Li2W1Zn1Br2I8</td>\n",
       "      <td>0.257</td>\n",
       "      <td>-2.055</td>\n",
       "      <td>0.726</td>\n",
       "      <td>0.143</td>\n",
       "      <td>NaN</td>\n",
       "      <td>NaN</td>\n",
       "      <td>NaN</td>\n",
       "    </tr>\n",
       "    <tr>\n",
       "      <th>146</th>\n",
       "      <td>Li4Cd1Al2O4S2_icsd_413705_4</td>\n",
       "      <td>Li4Cd1Al2O4S2</td>\n",
       "      <td>0.209</td>\n",
       "      <td>-2.595</td>\n",
       "      <td>2.782</td>\n",
       "      <td>0.308</td>\n",
       "      <td>NaN</td>\n",
       "      <td>NaN</td>\n",
       "      <td>NaN</td>\n",
       "    </tr>\n",
       "  </tbody>\n",
       "</table>\n",
       "</div>"
      ],
      "text/plain": [
       "                              id           comp  reward  predicted_energy  \\\n",
       "74   Li2W1Zn1Br2I8_icsd_408052_1  Li2W1Zn1Br2I8   0.257            -2.055   \n",
       "146  Li4Cd1Al2O4S2_icsd_413705_4  Li4Cd1Al2O4S2   0.209            -2.595   \n",
       "\n",
       "     decomp_energy  cond_ion_frac  reduction  oxidation  stability_window  \n",
       "74           0.726          0.143        NaN        NaN               NaN  \n",
       "146          2.782          0.308        NaN        NaN               NaN  "
      ]
     },
     "execution_count": 129,
     "metadata": {},
     "output_type": "execute_result"
    }
   ],
   "source": [
    "all_decors_file = \"/projects/rlmolecule/jlaw/crystal_outputs/2022-07-05/all_decor_rewards.csv.gz\"\n",
    "data = pd.read_csv(all_decors_file)\n",
    "print(len(data))\n",
    "# get the structure with the lowest predicted total energy per composition\n",
    "data_comp = data.sort_values('predicted_energy').groupby('comp').agg({'id': 'first'})\n",
    "# get the rows from the original df that match the id\n",
    "data_best = data[data.id.isin(data_comp.id)]\n",
    "print(len(data_best))\n",
    "data_best.head(2)"
   ]
  },
  {
   "cell_type": "code",
   "execution_count": 142,
   "id": "9966c51f-53ff-45bc-8ad1-9f55ea6e2433",
   "metadata": {},
   "outputs": [
    {
     "name": "stdout",
     "output_type": "stream",
     "text": [
      "220824\n"
     ]
    }
   ],
   "source": [
    "# replace the predicted energy with the DFT energy if available\n",
    "# dft_data.set_index('id', inplace=True)\n",
    "# data_best.set_index('id', inplace=True)\n",
    "data_best.loc[data_best.index.isin(dft_data.index), 'predicted_energy'] = dft_data['energyperatom']\n",
    "print(len(data_best))"
   ]
  },
  {
   "cell_type": "code",
   "execution_count": 143,
   "id": "00c464b2-8f5a-444d-9e5c-59dde9477394",
   "metadata": {},
   "outputs": [
    {
     "data": {
      "text/html": [
       "<div>\n",
       "<style scoped>\n",
       "    .dataframe tbody tr th:only-of-type {\n",
       "        vertical-align: middle;\n",
       "    }\n",
       "\n",
       "    .dataframe tbody tr th {\n",
       "        vertical-align: top;\n",
       "    }\n",
       "\n",
       "    .dataframe thead th {\n",
       "        text-align: right;\n",
       "    }\n",
       "</style>\n",
       "<table border=\"1\" class=\"dataframe\">\n",
       "  <thead>\n",
       "    <tr style=\"text-align: right;\">\n",
       "      <th></th>\n",
       "      <th>comp</th>\n",
       "      <th>reward</th>\n",
       "      <th>predicted_energy</th>\n",
       "      <th>decomp_energy</th>\n",
       "      <th>cond_ion_frac</th>\n",
       "      <th>reduction</th>\n",
       "      <th>oxidation</th>\n",
       "      <th>stability_window</th>\n",
       "    </tr>\n",
       "    <tr>\n",
       "      <th>id</th>\n",
       "      <th></th>\n",
       "      <th></th>\n",
       "      <th></th>\n",
       "      <th></th>\n",
       "      <th></th>\n",
       "      <th></th>\n",
       "      <th></th>\n",
       "      <th></th>\n",
       "    </tr>\n",
       "  </thead>\n",
       "  <tbody>\n",
       "    <tr>\n",
       "      <th>Li4Y2Br8O1_icsd_002330_1</th>\n",
       "      <td>Li4Y2Br8O1</td>\n",
       "      <td>0.714126</td>\n",
       "      <td>-4.245</td>\n",
       "      <td>-0.2844</td>\n",
       "      <td>0.2667</td>\n",
       "      <td>-2.3734</td>\n",
       "      <td>-4.5772</td>\n",
       "      <td>2.2038</td>\n",
       "    </tr>\n",
       "    <tr>\n",
       "      <th>K2Hf1W3N8_icsd_020114_1</th>\n",
       "      <td>K2Hf1W3N8</td>\n",
       "      <td>0.668253</td>\n",
       "      <td>-8.203</td>\n",
       "      <td>-0.1975</td>\n",
       "      <td>0.1429</td>\n",
       "      <td>0.0000</td>\n",
       "      <td>-1.3823</td>\n",
       "      <td>1.3823</td>\n",
       "    </tr>\n",
       "  </tbody>\n",
       "</table>\n",
       "</div>"
      ],
      "text/plain": [
       "                                comp    reward  predicted_energy  \\\n",
       "id                                                                 \n",
       "Li4Y2Br8O1_icsd_002330_1  Li4Y2Br8O1  0.714126            -4.245   \n",
       "K2Hf1W3N8_icsd_020114_1    K2Hf1W3N8  0.668253            -8.203   \n",
       "\n",
       "                          decomp_energy  cond_ion_frac  reduction  oxidation  \\\n",
       "id                                                                             \n",
       "Li4Y2Br8O1_icsd_002330_1        -0.2844         0.2667    -2.3734    -4.5772   \n",
       "K2Hf1W3N8_icsd_020114_1         -0.1975         0.1429     0.0000    -1.3823   \n",
       "\n",
       "                          stability_window  \n",
       "id                                          \n",
       "Li4Y2Br8O1_icsd_002330_1            2.2038  \n",
       "K2Hf1W3N8_icsd_020114_1             1.3823  "
      ]
     },
     "execution_count": 143,
     "metadata": {},
     "output_type": "execute_result"
    }
   ],
   "source": [
    "data_best.loc[data_best.index.isin(dft_data.head(2).index)]"
   ]
  },
  {
   "cell_type": "code",
   "execution_count": 144,
   "id": "14299f61-b32f-4d9c-a8be-c90d498da2c9",
   "metadata": {},
   "outputs": [
    {
     "name": "stdout",
     "output_type": "stream",
     "text": [
      "[PDEntry : Li2 W1 Zn1 Br2 I8 with energy = -28.7700, PDEntry : Li4 Cd1 Al2 O4 S2 with energy = -33.7350]\n",
      "233564\n"
     ]
    }
   ],
   "source": [
    "# now include the predicted energies in the convex hull \n",
    "def make_pd_entry(row):\n",
    "    comp = Composition(row.comp)\n",
    "    energy = row.predicted_energy * comp.num_atoms\n",
    "    return PDEntry(comp, energy)\n",
    "\n",
    "pred_competing_phases = list(data_best.apply(make_pd_entry, axis=1))\n",
    "print(pred_competing_phases[:2])\n",
    "merged_competing_phases = list(competing_phases) + pred_competing_phases\n",
    "print(len(merged_competing_phases))"
   ]
  },
  {
   "cell_type": "code",
   "execution_count": 149,
   "id": "704798d0-bb74-4b39-a45f-373454c78745",
   "metadata": {},
   "outputs": [
    {
     "data": {
      "application/vnd.jupyter.widget-view+json": {
       "model_id": "1b0ccaba7a91492899af509d82b2c82b",
       "version_major": 2,
       "version_minor": 0
      },
      "text/plain": [
       "  0%|          | 0/1486 [00:00<?, ?it/s]"
      ]
     },
     "metadata": {},
     "output_type": "display_data"
    },
    {
     "data": {
      "text/html": [
       "<div>\n",
       "<style scoped>\n",
       "    .dataframe tbody tr th:only-of-type {\n",
       "        vertical-align: middle;\n",
       "    }\n",
       "\n",
       "    .dataframe tbody tr th {\n",
       "        vertical-align: top;\n",
       "    }\n",
       "\n",
       "    .dataframe thead th {\n",
       "        text-align: right;\n",
       "    }\n",
       "</style>\n",
       "<table border=\"1\" class=\"dataframe\">\n",
       "  <thead>\n",
       "    <tr style=\"text-align: right;\">\n",
       "      <th></th>\n",
       "      <th>predicted_energy</th>\n",
       "      <th>oxidation</th>\n",
       "      <th>reduction</th>\n",
       "      <th>stability_window</th>\n",
       "      <th>decomp_energy</th>\n",
       "      <th>cond_ion_frac</th>\n",
       "      <th>reward</th>\n",
       "      <th>id</th>\n",
       "    </tr>\n",
       "  </thead>\n",
       "  <tbody>\n",
       "    <tr>\n",
       "      <th>0</th>\n",
       "      <td>-8.203</td>\n",
       "      <td>-2.2225</td>\n",
       "      <td>-0.6439</td>\n",
       "      <td>1.5785</td>\n",
       "      <td>-0.0417</td>\n",
       "      <td>0.1429</td>\n",
       "      <td>0.369453</td>\n",
       "      <td>K2Hf1W3N8_icsd_020114_1</td>\n",
       "    </tr>\n",
       "    <tr>\n",
       "      <th>1</th>\n",
       "      <td>-4.245</td>\n",
       "      <td>NaN</td>\n",
       "      <td>NaN</td>\n",
       "      <td>NaN</td>\n",
       "      <td>0.1087</td>\n",
       "      <td>0.2667</td>\n",
       "      <td>0.308778</td>\n",
       "      <td>Li4Y2Br8O1_icsd_002330_1</td>\n",
       "    </tr>\n",
       "  </tbody>\n",
       "</table>\n",
       "</div>"
      ],
      "text/plain": [
       "   predicted_energy  oxidation  reduction  stability_window  decomp_energy  \\\n",
       "0            -8.203    -2.2225    -0.6439            1.5785        -0.0417   \n",
       "1            -4.245        NaN        NaN               NaN         0.1087   \n",
       "\n",
       "   cond_ion_frac    reward                        id  \n",
       "0         0.1429  0.369453   K2Hf1W3N8_icsd_020114_1  \n",
       "1         0.2667  0.308778  Li4Y2Br8O1_icsd_002330_1  "
      ]
     },
     "execution_count": 149,
     "metadata": {},
     "output_type": "execute_result"
    }
   ],
   "source": [
    "# compute the self-consistent decomposition energy\n",
    "def compute_reward(row):\n",
    "    combined_reward, info = rewarder.compute_reward(\n",
    "        Composition(row.comp), row.energyperatom)\n",
    "    info['reward'] = combined_reward\n",
    "    return info\n",
    "                            \n",
    "\n",
    "rewarder = StructureRewardBattInterface(merged_competing_phases)\n",
    "\n",
    "new_data = dft_data.progress_apply(compute_reward, axis=1)\n",
    "new_df = pd.DataFrame(list(new_data.values))\n",
    "new_df['id'] = dft_data.index\n",
    "new_df.head(2)"
   ]
  },
  {
   "cell_type": "code",
   "execution_count": 154,
   "id": "2eaacdb1-7955-4319-8393-fe3ad115a889",
   "metadata": {},
   "outputs": [
    {
     "data": {
      "text/html": [
       "<div>\n",
       "<style scoped>\n",
       "    .dataframe tbody tr th:only-of-type {\n",
       "        vertical-align: middle;\n",
       "    }\n",
       "\n",
       "    .dataframe tbody tr th {\n",
       "        vertical-align: top;\n",
       "    }\n",
       "\n",
       "    .dataframe thead th {\n",
       "        text-align: right;\n",
       "    }\n",
       "</style>\n",
       "<table border=\"1\" class=\"dataframe\">\n",
       "  <thead>\n",
       "    <tr style=\"text-align: right;\">\n",
       "      <th></th>\n",
       "      <th>decoration</th>\n",
       "      <th>numatoms</th>\n",
       "      <th>relaxedvolume</th>\n",
       "      <th>energyperatom</th>\n",
       "      <th>predicted_energy</th>\n",
       "      <th>predicted_decomp</th>\n",
       "      <th>energy_err</th>\n",
       "      <th>comp</th>\n",
       "      <th>decomp_energy</th>\n",
       "    </tr>\n",
       "    <tr>\n",
       "      <th>id</th>\n",
       "      <th></th>\n",
       "      <th></th>\n",
       "      <th></th>\n",
       "      <th></th>\n",
       "      <th></th>\n",
       "      <th></th>\n",
       "      <th></th>\n",
       "      <th></th>\n",
       "      <th></th>\n",
       "    </tr>\n",
       "  </thead>\n",
       "  <tbody>\n",
       "    <tr>\n",
       "      <th>K2Hf1W3N8_icsd_020114_1</th>\n",
       "      <td>K2Hf1W3N8/K2Hf1W3N8_icsd_020114_1</td>\n",
       "      <td>28</td>\n",
       "      <td>564.05</td>\n",
       "      <td>-8.203</td>\n",
       "      <td>-8.082979</td>\n",
       "      <td>-0.1975</td>\n",
       "      <td>0.120021</td>\n",
       "      <td>K2Hf1W3N8</td>\n",
       "      <td>-0.317494</td>\n",
       "    </tr>\n",
       "    <tr>\n",
       "      <th>Li4Y2Br8O1_icsd_002330_1</th>\n",
       "      <td>Li4Y2Br8O1/Li4Y2Br8O1_icsd_002330_1</td>\n",
       "      <td>30</td>\n",
       "      <td>781.97</td>\n",
       "      <td>-4.245</td>\n",
       "      <td>-3.923797</td>\n",
       "      <td>-0.2844</td>\n",
       "      <td>0.321203</td>\n",
       "      <td>Li4Y2Br8O1</td>\n",
       "      <td>-0.605567</td>\n",
       "    </tr>\n",
       "  </tbody>\n",
       "</table>\n",
       "</div>"
      ],
      "text/plain": [
       "                                                   decoration  numatoms  \\\n",
       "id                                                                        \n",
       "K2Hf1W3N8_icsd_020114_1     K2Hf1W3N8/K2Hf1W3N8_icsd_020114_1        28   \n",
       "Li4Y2Br8O1_icsd_002330_1  Li4Y2Br8O1/Li4Y2Br8O1_icsd_002330_1        30   \n",
       "\n",
       "                          relaxedvolume  energyperatom  predicted_energy  \\\n",
       "id                                                                         \n",
       "K2Hf1W3N8_icsd_020114_1          564.05         -8.203         -8.082979   \n",
       "Li4Y2Br8O1_icsd_002330_1         781.97         -4.245         -3.923797   \n",
       "\n",
       "                          predicted_decomp  energy_err        comp  \\\n",
       "id                                                                   \n",
       "K2Hf1W3N8_icsd_020114_1            -0.1975    0.120021   K2Hf1W3N8   \n",
       "Li4Y2Br8O1_icsd_002330_1           -0.2844    0.321203  Li4Y2Br8O1   \n",
       "\n",
       "                          decomp_energy  \n",
       "id                                       \n",
       "K2Hf1W3N8_icsd_020114_1       -0.317494  \n",
       "Li4Y2Br8O1_icsd_002330_1      -0.605567  "
      ]
     },
     "execution_count": 154,
     "metadata": {},
     "output_type": "execute_result"
    }
   ],
   "source": [
    "dft_data.head(2)"
   ]
  },
  {
   "cell_type": "code",
   "execution_count": 150,
   "id": "a52ca2d5-ea64-41a0-b06c-633ad183a78a",
   "metadata": {},
   "outputs": [],
   "source": [
    "new_df.rename(columns={'predicted_energy': 'energyperatom'}, inplace=True)"
   ]
  },
  {
   "cell_type": "code",
   "execution_count": 151,
   "id": "875915f4-6581-4f49-af39-36ab6cd87937",
   "metadata": {},
   "outputs": [],
   "source": [
    "# write to file\n",
    "out_file = \"/projects/rlmolecule/jlaw/crystal_outputs/2022-07-05/self_consistent_decomp_energies/dft_and_all_pred.csv\"\n",
    "new_df.set_index('id').to_csv(out_file)"
   ]
  },
  {
   "cell_type": "code",
   "execution_count": 170,
   "id": "8cd83872-8051-43ae-a80c-5fff9d30fb9c",
   "metadata": {},
   "outputs": [
    {
     "data": {
      "text/html": [
       "<div>\n",
       "<style scoped>\n",
       "    .dataframe tbody tr th:only-of-type {\n",
       "        vertical-align: middle;\n",
       "    }\n",
       "\n",
       "    .dataframe tbody tr th {\n",
       "        vertical-align: top;\n",
       "    }\n",
       "\n",
       "    .dataframe thead th {\n",
       "        text-align: right;\n",
       "    }\n",
       "</style>\n",
       "<table border=\"1\" class=\"dataframe\">\n",
       "  <thead>\n",
       "    <tr style=\"text-align: right;\">\n",
       "      <th></th>\n",
       "      <th>id</th>\n",
       "      <th>energyperatom</th>\n",
       "      <th>oxidation</th>\n",
       "      <th>reduction</th>\n",
       "      <th>stability_window</th>\n",
       "      <th>decomp_energy</th>\n",
       "      <th>cond_ion_frac</th>\n",
       "      <th>reward</th>\n",
       "    </tr>\n",
       "  </thead>\n",
       "  <tbody>\n",
       "    <tr>\n",
       "      <th>0</th>\n",
       "      <td>K2Hf1W3N8_icsd_020114_1</td>\n",
       "      <td>-8.203</td>\n",
       "      <td>-2.2225</td>\n",
       "      <td>-0.6439</td>\n",
       "      <td>1.5785</td>\n",
       "      <td>-0.0417</td>\n",
       "      <td>0.1429</td>\n",
       "      <td>0.369453</td>\n",
       "    </tr>\n",
       "    <tr>\n",
       "      <th>1</th>\n",
       "      <td>Li4Y2Br8O1_icsd_002330_1</td>\n",
       "      <td>-4.245</td>\n",
       "      <td>NaN</td>\n",
       "      <td>NaN</td>\n",
       "      <td>NaN</td>\n",
       "      <td>0.1087</td>\n",
       "      <td>0.2667</td>\n",
       "      <td>0.308778</td>\n",
       "    </tr>\n",
       "  </tbody>\n",
       "</table>\n",
       "</div>"
      ],
      "text/plain": [
       "                         id  energyperatom  oxidation  reduction  \\\n",
       "0   K2Hf1W3N8_icsd_020114_1         -8.203    -2.2225    -0.6439   \n",
       "1  Li4Y2Br8O1_icsd_002330_1         -4.245        NaN        NaN   \n",
       "\n",
       "   stability_window  decomp_energy  cond_ion_frac    reward  \n",
       "0            1.5785        -0.0417         0.1429  0.369453  \n",
       "1               NaN         0.1087         0.2667  0.308778  "
      ]
     },
     "execution_count": 170,
     "metadata": {},
     "output_type": "execute_result"
    }
   ],
   "source": [
    "# write to file\n",
    "in_file = \"/projects/rlmolecule/jlaw/crystal_outputs/2022-07-05/self_consistent_decomp_energies/dft_and_all_pred.csv\"\n",
    "new_df = pd.read_csv(in_file)\n",
    "new_df.head(2)"
   ]
  },
  {
   "cell_type": "code",
   "execution_count": 171,
   "id": "d570cec1-a56c-49d3-a359-54e617e50b7e",
   "metadata": {},
   "outputs": [
    {
     "data": {
      "text/plain": [
       "Text(0.5, 0, 'DFT Self-consistent Decomposition Energy \\n with lowest predicted energy for all compositions')"
      ]
     },
     "execution_count": 171,
     "metadata": {},
     "output_type": "execute_result"
    },
    {
     "data": {
      "image/png": "[encoded data removed]",
      "text/plain": [
       "<Figure size 432x288 with 1 Axes>"
      ]
     },
     "metadata": {},
     "output_type": "display_data"
    }
   ],
   "source": [
    "bins = np.arange(-.25, .7, .05)\n",
    "new_df.decomp_energy.hist(bins=bins)\n",
    "plt.xlabel(\"DFT Self-consistent Decomposition Energy \\n with lowest predicted energy for all compositions\")"
   ]
  },
  {
   "cell_type": "code",
   "execution_count": 172,
   "id": "c66d7e01-26fc-449b-9873-1db44d10e29f",
   "metadata": {},
   "outputs": [
    {
     "name": "stdout",
     "output_type": "stream",
     "text": [
      "280\n",
      "77\n"
     ]
    }
   ],
   "source": [
    "print(len(new_df[new_df['decomp_energy'] < 0]))\n",
    "print(len(new_df[new_df['decomp_energy'] < -.1]))"
   ]
  },
  {
   "cell_type": "code",
   "execution_count": null,
   "id": "6184b1f6-bf94-4cf6-a371-e5077b23181d",
   "metadata": {},
   "outputs": [],
   "source": [
    "len(new_df"
   ]
  },
  {
   "cell_type": "code",
   "execution_count": 106,
   "id": "543d989f-7508-4359-94d7-033fd6b15ddf",
   "metadata": {},
   "outputs": [
    {
     "name": "stdout",
     "output_type": "stream",
     "text": [
      "2003\n"
     ]
    },
    {
     "data": {
      "text/html": [
       "<div>\n",
       "<style scoped>\n",
       "    .dataframe tbody tr th:only-of-type {\n",
       "        vertical-align: middle;\n",
       "    }\n",
       "\n",
       "    .dataframe tbody tr th {\n",
       "        vertical-align: top;\n",
       "    }\n",
       "\n",
       "    .dataframe thead th {\n",
       "        text-align: right;\n",
       "    }\n",
       "</style>\n",
       "<table border=\"1\" class=\"dataframe\">\n",
       "  <thead>\n",
       "    <tr style=\"text-align: right;\">\n",
       "      <th></th>\n",
       "      <th>predicted_energy</th>\n",
       "      <th>decomp_energy</th>\n",
       "      <th>cond_ion_frac</th>\n",
       "      <th>reward</th>\n",
       "      <th>oxidation</th>\n",
       "      <th>reduction</th>\n",
       "      <th>stability_window</th>\n",
       "      <th>decor_id</th>\n",
       "    </tr>\n",
       "  </thead>\n",
       "  <tbody>\n",
       "    <tr>\n",
       "      <th>0</th>\n",
       "      <td>-3.460</td>\n",
       "      <td>0.1707</td>\n",
       "      <td>0.2143</td>\n",
       "      <td>0.298055</td>\n",
       "      <td>NaN</td>\n",
       "      <td>NaN</td>\n",
       "      <td>NaN</td>\n",
       "      <td>K3Y1Al1Br9|_1_1_3_9|hexagonal|icsd_039809|2</td>\n",
       "    </tr>\n",
       "    <tr>\n",
       "      <th>1</th>\n",
       "      <td>-5.484</td>\n",
       "      <td>-0.0153</td>\n",
       "      <td>0.0714</td>\n",
       "      <td>0.344104</td>\n",
       "      <td>-5.0</td>\n",
       "      <td>-5.0</td>\n",
       "      <td>0.0</td>\n",
       "      <td>Li1Sc3F8Br2|_1_2_3_8|tetragonal|icsd_067711|1</td>\n",
       "    </tr>\n",
       "  </tbody>\n",
       "</table>\n",
       "</div>"
      ],
      "text/plain": [
       "   predicted_energy  decomp_energy  cond_ion_frac    reward  oxidation  \\\n",
       "0            -3.460         0.1707         0.2143  0.298055        NaN   \n",
       "1            -5.484        -0.0153         0.0714  0.344104       -5.0   \n",
       "\n",
       "   reduction  stability_window                                       decor_id  \n",
       "0        NaN               NaN    K3Y1Al1Br9|_1_1_3_9|hexagonal|icsd_039809|2  \n",
       "1       -5.0               0.0  Li1Sc3F8Br2|_1_2_3_8|tetragonal|icsd_067711|1  "
      ]
     },
     "execution_count": 106,
     "metadata": {},
     "output_type": "execute_result"
    }
   ],
   "source": [
    "rewards_file = \"/projects/rlmolecule/jlaw/crystal_outputs/2022-07-05/all_self_cons_decomp_energies.csv\"\n",
    "pred_df2 = pd.read_csv(rewards_file)\n",
    "print(len(pred_df2))\n",
    "pred_df2.head(2)"
   ]
  },
  {
   "cell_type": "code",
   "execution_count": 107,
   "id": "ac61bcbf-6534-4f43-8127-667e5d99b335",
   "metadata": {},
   "outputs": [
    {
     "name": "stdout",
     "output_type": "stream",
     "text": [
      "131\n"
     ]
    }
   ],
   "source": [
    "pred_df2['id'] = pred_df2.decor_id.apply(extract_id)\n",
    "stable_ids = set(pred_df2[pred_df2.decomp_energy < 0].id)\n",
    "print(len(stable_ids))"
   ]
  },
  {
   "cell_type": "code",
   "execution_count": 108,
   "id": "e226a4f4-df15-4464-8cf9-3e7307c1b204",
   "metadata": {},
   "outputs": [
    {
     "data": {
      "text/plain": [
       "22"
      ]
     },
     "execution_count": 108,
     "metadata": {},
     "output_type": "execute_result"
    }
   ],
   "source": [
    "len(stable_ids - set(dft_data.id))"
   ]
  },
  {
   "cell_type": "code",
   "execution_count": 109,
   "id": "8be8d5cb-59c9-4120-8c84-d231e9ebc095",
   "metadata": {},
   "outputs": [
    {
     "data": {
      "text/plain": [
       "{'K1Cd3F1I6_icsd_095538_1',\n",
       " 'K1La1Cd2I8_icsd_200869_2',\n",
       " 'K1Sc3Br1I9_icsd_281588_2',\n",
       " 'K1Sc3F9Br1_icsd_028012_2',\n",
       " 'K1Sc3F9Cl1_icsd_028012_2',\n",
       " 'K1Sc3F9I1_icsd_028012_2',\n",
       " 'K2La1F1I4_icsd_428056_2',\n",
       " 'Li1Al3Br9I1_icsd_018100_2',\n",
       " 'Li1Al3Cl1Br9_icsd_018100_2',\n",
       " 'Li1Sc2F6Br1_icsd_035428_1',\n",
       " 'Li1Sc3Br9I1_icsd_018100_2',\n",
       " 'Li1Sc3F1Br9_icsd_018100_2',\n",
       " 'Li1Ti2F9_icsd_421958_1',\n",
       " 'Li1Y3Br9I1_icsd_010384_2',\n",
       " 'Na1Hf1Br5_icsd_069563_1',\n",
       " 'Na1Hf2Br9_icsd_421958_1',\n",
       " 'Na1Sc3Br1I9_icsd_018100_2',\n",
       " 'Na1Sc3Br9I1_icsd_018100_2',\n",
       " 'Na1Sc3Cl1Br9_icsd_018100_2',\n",
       " 'Na1Sc3F9I1_icsd_028012_2',\n",
       " 'Na1Ti2F9_icsd_084364_1',\n",
       " 'Na1Zr1Br5_icsd_069563_1'}"
      ]
     },
     "execution_count": 109,
     "metadata": {},
     "output_type": "execute_result"
    }
   ],
   "source": [
    "stable_ids - set(dft_data.id)"
   ]
  },
  {
   "cell_type": "code",
   "execution_count": 20,
   "id": "4b513cb3-335c-4837-b600-1966470c9dbc",
   "metadata": {},
   "outputs": [],
   "source": [
    "from pymatgen.core import Composition"
   ]
  },
  {
   "cell_type": "code",
   "execution_count": 165,
   "id": "e6aa4cb3-0a4f-4aa7-b52b-02c4bbf81d10",
   "metadata": {},
   "outputs": [
    {
     "data": {
      "text/html": [
       "<div>\n",
       "<style scoped>\n",
       "    .dataframe tbody tr th:only-of-type {\n",
       "        vertical-align: middle;\n",
       "    }\n",
       "\n",
       "    .dataframe tbody tr th {\n",
       "        vertical-align: top;\n",
       "    }\n",
       "\n",
       "    .dataframe thead th {\n",
       "        text-align: right;\n",
       "    }\n",
       "</style>\n",
       "<table border=\"1\" class=\"dataframe\">\n",
       "  <thead>\n",
       "    <tr style=\"text-align: right;\">\n",
       "      <th></th>\n",
       "      <th>decor_id</th>\n",
       "      <th>reward</th>\n",
       "      <th>predicted_energy</th>\n",
       "      <th>decomp_energy</th>\n",
       "      <th>cond_ion_frac</th>\n",
       "      <th>reduction</th>\n",
       "      <th>oxidation</th>\n",
       "      <th>stability_window</th>\n",
       "      <th>Unnamed: 8</th>\n",
       "    </tr>\n",
       "  </thead>\n",
       "  <tbody>\n",
       "    <tr>\n",
       "      <th>787</th>\n",
       "      <td>Li1Ge1O1N1|_1_1_1_1|orthorhombic|icsd_183047|2</td>\n",
       "      <td>0.312</td>\n",
       "      <td>-6.131</td>\n",
       "      <td>0.0</td>\n",
       "      <td>0.25</td>\n",
       "      <td>NaN</td>\n",
       "      <td>NaN</td>\n",
       "      <td>NaN</td>\n",
       "      <td>NaN</td>\n",
       "    </tr>\n",
       "  </tbody>\n",
       "</table>\n",
       "</div>"
      ],
      "text/plain": [
       "                                           decor_id  reward  predicted_energy  \\\n",
       "787  Li1Ge1O1N1|_1_1_1_1|orthorhombic|icsd_183047|2   0.312            -6.131   \n",
       "\n",
       "     decomp_energy  cond_ion_frac  reduction  oxidation  stability_window  \\\n",
       "787            0.0           0.25        NaN        NaN               NaN   \n",
       "\n",
       "     Unnamed: 8  \n",
       "787         NaN  "
      ]
     },
     "execution_count": 165,
     "metadata": {},
     "output_type": "execute_result"
    }
   ],
   "source": [
    "df[df.decor_id == \"Li1Ge1O1N1|_1_1_1_1|orthorhombic|icsd_183047|2\"]"
   ]
  },
  {
   "cell_type": "code",
   "execution_count": null,
   "id": "d4fbac91-d6cb-4fde-9c63-8988c5029742",
   "metadata": {},
   "outputs": [],
   "source": []
  }
 ],
 "metadata": {
  "kernelspec": {
   "display_name": "Python 3 (ipykernel)",
   "language": "python",
   "name": "python3"
  },
  "language_info": {
   "codemirror_mode": {
    "name": "ipython",
    "version": 3
   },
   "file_extension": ".py",
   "mimetype": "text/x-python",
   "name": "python",
   "nbconvert_exporter": "python",
   "pygments_lexer": "ipython3",
   "version": "3.8.13"
  }
 },
 "nbformat": 4,
 "nbformat_minor": 5
}
