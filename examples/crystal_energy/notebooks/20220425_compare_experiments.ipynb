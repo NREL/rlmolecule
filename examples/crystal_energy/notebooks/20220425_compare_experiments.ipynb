{
 "cells": [
  {
   "cell_type": "code",
   "execution_count": 1,
   "metadata": {},
   "outputs": [],
   "source": [
    "import os\n",
    "import sys\n",
    "import numpy as np\n",
    "# import psycopg2\n",
    "import sqlalchemy\n",
    "from tqdm.notebook import tqdm\n",
    "tqdm.pandas()\n",
    "import pandas as pd\n",
    "from collections import defaultdict\n",
    "from collections import Counter\n",
    "\n",
    "import matplotlib.pyplot as plt\n",
    "import seaborn as sns\n",
    "sns.set(\n",
    "    context='paper',\n",
    "    font_scale=8/8.8,\n",
    "#     context=\"talk\",\n",
    "    style='ticks',\n",
    "    color_codes=True,\n",
    "    rc={'legend.frameon': False})\n",
    "\n",
    "plt.rcParams['svg.fonttype'] = 'none'\n",
    "\n",
    "%matplotlib inline"
   ]
  },
  {
   "cell_type": "code",
   "execution_count": 2,
   "metadata": {},
   "outputs": [],
   "source": [
    "import datashader as ds\n",
    "from datashader.mpl_ext import dsshow\n",
    "import datashader.transfer_functions as dstf"
   ]
  },
  {
   "cell_type": "code",
   "execution_count": 3,
   "metadata": {},
   "outputs": [
    {
     "name": "stdout",
     "output_type": "stream",
     "text": [
      "1.22.1\n",
      "1.3.5\n"
     ]
    }
   ],
   "source": [
    "print(np.__version__)\n",
    "print(pd.__version__)"
   ]
  },
  {
   "cell_type": "code",
   "execution_count": 4,
   "metadata": {},
   "outputs": [
    {
     "name": "stderr",
     "output_type": "stream",
     "text": [
      "2022-05-19 23:26:34.452881: W tensorflow/stream_executor/platform/default/dso_loader.cc:64] Could not load dynamic library 'libcudart.so.11.0'; dlerror: libcudart.so.11.0: cannot open shared object file: No such file or directory; LD_LIBRARY_PATH: /nopt/slurm/current/lib:\n",
      "2022-05-19 23:26:34.452916: I tensorflow/stream_executor/cuda/cudart_stub.cc:29] Ignore above cudart dlerror if you do not have a GPU set up on your machine.\n"
     ]
    },
    {
     "name": "stdout",
     "output_type": "stream",
     "text": [
      "0.3.6\n"
     ]
    }
   ],
   "source": [
    "import nfp\n",
    "print(nfp.__version__)"
   ]
  },
  {
   "cell_type": "code",
   "execution_count": 5,
   "metadata": {},
   "outputs": [],
   "source": [
    "os.chdir('../')"
   ]
  },
  {
   "cell_type": "code",
   "execution_count": 6,
   "metadata": {},
   "outputs": [
    {
     "name": "stdout",
     "output_type": "stream",
     "text": [
      "/home/jlaw/projects/arpa-e/crystals/rlmolecule/examples/crystal_energy\n"
     ]
    }
   ],
   "source": [
    "print(os.getcwd())\n",
    "sys.path.append('../../')\n",
    "import rlmolecule\n",
    "from rlmolecule.sql.run_config import RunConfig\n",
    "from rlmolecule.sql import Base, Session\n",
    "from rlmolecule.sql.tables import GameStore, RewardStore, StateStore\n",
    "from rlmolecule.crystal.crystal_state import CrystalState"
   ]
  },
  {
   "cell_type": "code",
   "execution_count": 7,
   "metadata": {},
   "outputs": [
    {
     "name": "stdout",
     "output_type": "stream",
     "text": [
      "38 actions_to_ignore\n"
     ]
    }
   ],
   "source": [
    "# connect to the db\n",
    "config_file = \"config/config_experiments.yaml\"\n",
    "run_config = RunConfig(config_file)\n",
    "engine = run_config.start_engine()\n",
    "Session.configure(bind=engine)\n",
    "session = Session()"
   ]
  },
  {
   "cell_type": "code",
   "execution_count": 8,
   "metadata": {},
   "outputs": [],
   "source": [
    "def load_games_played(session, run_id):\n",
    "#     print(\"Loading games\")\n",
    "    df = pd.read_sql(session.query(GameStore).filter_by(run_id=run_id).statement, session.bind)\n",
    "\n",
    "    df['time_hours'] = (df.time - df.time.min()).apply(lambda x: x.total_seconds() / 3600)\n",
    "    df = df.sort_values('time_hours')\n",
    "    df_games = df\n",
    "    df_games.reset_index(drop=True, inplace=True)\n",
    "#     print(df_games.tail(3))\n",
    "    return df_games\n",
    "\n",
    "\n",
    "def load_rewards(session, run_id):\n",
    "#     print(\"Loading rewards\")\n",
    "    df = pd.read_sql(session.query(RewardStore).filter_by(run_id=run_id).statement, session.bind)\n",
    "    # df['time_hours'] = (df.time - df.time.min()).apply(lambda x: x.total_seconds() / 3600)\n",
    "    df = df.sort_values('reward', ascending=False)\n",
    "    df_rew = df\n",
    "#     print(df_rew.tail(3))\n",
    "    return df_rew\n",
    "\n",
    "\n",
    "def load_states(session, run_id):\n",
    "#     print(\"Loading rewards\")\n",
    "    df = pd.read_sql(session.query(StateStore).filter_by(run_id=run_id).statement, session.bind)\n",
    "    return df\n",
    "\n",
    "def get_state_for_rew(digest, df_state):\n",
    "    return df_state[df_state['digest'] == digest]\n",
    "\n",
    "\n",
    "# def write_best_crystals():\n",
    "#     df_rew = load_rewards"
   ]
  },
  {
   "cell_type": "code",
   "execution_count": 9,
   "metadata": {},
   "outputs": [],
   "source": [
    "def plot_reward(df, log, out_dir, title=\"\"):\n",
    "    fig, ax = plt.subplots(figsize=(3, 2.75), dpi=150)\n",
    "    axs = [ax]\n",
    "    axs[0].plot(df.time_hours, df.raw_reward, '.', ms=.75, label='games')\n",
    "    axs[0].plot(df.time_hours, df.raw_reward.rolling(250, min_periods=50).quantile(.75), label='$r_{75}$')\n",
    "\n",
    "    axs[0].legend(loc='upper right', ncol=2, borderpad=0, borderaxespad=0,\n",
    "                bbox_to_anchor=(1.1, 1.2), markerscale=10)\n",
    "\n",
    "    axs[0].set_yticks(np.arange(-5, 5, 2))\n",
    "    axs[0].set_ylabel('Reward')\n",
    "\n",
    "    plt.tight_layout()\n",
    "    sns.despine(offset=5, trim=True)\n",
    "    plt.title(title)\n",
    "\n",
    "    out_file = f\"{out_dir}/training.svg\"\n",
    "    print(out_file)\n",
    "    os.makedirs(os.path.dirname(out_file), exist_ok=True)\n",
    "    plt.savefig(out_file, bbox_inches=\"tight\")\n",
    "    plt.savefig(out_file.replace('.svg','.pdf'), bbox_inches=\"tight\")\n",
    "    plt.savefig(out_file.replace('.svg','.png'), bbox_inches=\"tight\")\n",
    "    plt.show()\n",
    "    plt.close()"
   ]
  },
  {
   "cell_type": "code",
   "execution_count": 23,
   "metadata": {},
   "outputs": [],
   "source": [
    "def plot_reward_train_curves(df, log, out_dir, title=\"\"):\n",
    "    fig, axs = plt.subplots(sharex=True, nrows=2, figsize=(3, 2.75), dpi=150)\n",
    "    axs[0].plot(df.time_hours, df.raw_reward, '.', ms=.75, alpha=.4, label='rollouts')\n",
    "    # dsshow(df, ds.Point('time_hours', 'raw_reward'),\n",
    "    #        ax=axs[0], shade_hook=dstf.dynspread, \n",
    "    #        cmap='Blues', norm='eq_hist', aspect='auto', \n",
    "    #        # y_range=yrange, x_range=xrange)\n",
    "    #       )\n",
    "\n",
    "    axs[0].plot(df.time_hours, df.raw_reward.rolling(250, min_periods=50).quantile(.75), label='$r_{75}$')\n",
    "\n",
    "    axs[1].plot(log.time_hours, log.policy_wrapper_loss, label='value loss')\n",
    "    axs[1].plot(log.time_hours, log.policy_wrapper_1_loss, label='prior loss')\n",
    "\n",
    "    axs[0].legend(loc='upper right', ncol=2, borderpad=0, borderaxespad=0,\n",
    "                bbox_to_anchor=(1.1, 1.2), markerscale=10)\n",
    "    for lh in axs[0].get_legend().legendHandles:\n",
    "        lh.set_alpha(1)\n",
    "    axs[1].legend(\n",
    "        loc='upper right', ncol=2,\n",
    "        borderpad=0, borderaxespad=0.1,\n",
    "        bbox_to_anchor=(1.1, 1.2))\n",
    "\n",
    "    #axs[1].set_ylim([0, .7])\n",
    "    #axs[1].set_xlim([-.01, 4])\n",
    "    # axs[0].set_yticks(np.arange(-5, 1.1, 2))\n",
    "    # axs[0].set_ylim(-3.1, 5.6)\n",
    "    axs[1].set_yticks(np.arange(0, .7, .2))\n",
    "    axs[1].set_ylim(0, .62)\n",
    "    axs[0].set_ylabel('Reward')\n",
    "    axs[1].set_ylabel('Policy Training')\n",
    "    axs[1].set_xlabel('Time (hours)')\n",
    "\n",
    "    plt.tight_layout()\n",
    "    sns.despine(offset=5, trim=True)\n",
    "    plt.suptitle(title, y=1.0)\n",
    "    \n",
    "    # plt.setp(axs[0].legend, alpha=1)\n",
    "\n",
    "    out_file = f\"{out_dir}/training-and-reward.svg\"\n",
    "    print(out_file)\n",
    "    os.makedirs(os.path.dirname(out_file), exist_ok=True)\n",
    "#     plt.savefig(out_file, bbox_inches=\"tight\")\n",
    "#     plt.savefig(out_file.replace('.svg','.pdf'), bbox_inches=\"tight\")\n",
    "    plt.savefig(out_file.replace('.svg','.png'), bbox_inches=\"tight\")\n",
    "    plt.show()\n",
    "    plt.close()"
   ]
  },
  {
   "cell_type": "markdown",
   "metadata": {},
   "source": [
    "# Compare Experiment Results"
   ]
  },
  {
   "cell_type": "code",
   "execution_count": 11,
   "metadata": {},
   "outputs": [
    {
     "name": "stdout",
     "output_type": "stream",
     "text": [
      "crystal_energy_example\n"
     ]
    }
   ],
   "source": [
    "exp_name = \"crystal_energy\"\n",
    "run_id = run_config.run_id\n",
    "print(run_id)"
   ]
  },
  {
   "cell_type": "code",
   "execution_count": 12,
   "metadata": {},
   "outputs": [],
   "source": [
    "log_dir = f\"/projects/rlmolecule/jlaw/logs/{exp_name}\"\n",
    "def main_results(run_id, session, limit_to_log=False):\n",
    "    working_dir = f\"{log_dir}/{run_id}\"\n",
    "    # load the games played\n",
    "    df_games = load_games_played(session, run_id)\n",
    "    df_games = df_games.dropna()\n",
    "#     print(df_games.head(2))\n",
    "#     print(len(df_games))\n",
    "\n",
    "    log_file = f\"{working_dir}/policy_checkpoints/log.csv\"\n",
    "    print(f\"Reading {log_file}\")\n",
    "    log = pd.read_csv(log_file)\n",
    "    log['time'] = pd.to_datetime(log.time)\n",
    "    if limit_to_log:\n",
    "        df_games = df_games[df_games.time >= log.time.min()]\n",
    "        df_games['time_hours'] = (df_games.time - df_games.time.min()).apply(lambda x: x.total_seconds() / 3600)\n",
    "    print(df_games.time.min())\n",
    "    log['time_hours'] = (log.time - df_games.time.min()).apply(lambda x: x.total_seconds() / 3600)\n",
    "#     print(log.tail(3))\n",
    "\n",
    "        # df_games = df_games[df_games.time_hours >= log.time_hours]\n",
    "\n",
    "    # now plot the results\n",
    "    out_dir = f\"{working_dir}/viz\"\n",
    "#     plot_reward(df_games, log, out_dir, title=run_id)\n",
    "#     plot_reward_train_curves(df_games, log, out_dir, title=run_id)\n",
    "    plot_reward_train_curves(df_games, log, out_dir)\n",
    "\n",
    "    # and write POSCAR files for the best molecules\n",
    "    df_rew = load_rewards(session, run_id)\n",
    "#     print(df_rew.head(2))\n",
    "    return df_games, df_rew"
   ]
  },
  {
   "cell_type": "code",
   "execution_count": 24,
   "metadata": {},
   "outputs": [
    {
     "name": "stdout",
     "output_type": "stream",
     "text": [
      "Reading /projects/rlmolecule/jlaw/logs/crystal_energy/20220504-batt-icsd-volpred-KLiNa-no-halides_test2/policy_checkpoints/log.csv\n",
      "2022-05-19 15:22:25.427638\n",
      "/projects/rlmolecule/jlaw/logs/crystal_energy/20220504-batt-icsd-volpred-KLiNa-no-halides_test2/viz/training-and-reward.svg\n"
     ]
    },
    {
     "data": {
      "image/png": "[encoded data removed]",
      "text/plain": [
       "<Figure size 450x412.5 with 2 Axes>"
      ]
     },
     "metadata": {
      "needs_background": "light"
     },
     "output_type": "display_data"
    }
   ],
   "source": [
    "run_id = \"20220504-batt-icsd-volpred-KLiNa-no-halides_test2\"\n",
    "df_games, df_rew = main_results(run_id, session)"
   ]
  },
  {
   "cell_type": "code",
   "execution_count": 25,
   "metadata": {},
   "outputs": [
    {
     "name": "stdout",
     "output_type": "stream",
     "text": [
      "Reading /projects/rlmolecule/jlaw/logs/crystal_energy/20220504-batt-icsd-volpred-KLiNa-no-ScY_test/policy_checkpoints/log.csv\n",
      "2022-05-19 15:38:14.632530\n",
      "/projects/rlmolecule/jlaw/logs/crystal_energy/20220504-batt-icsd-volpred-KLiNa-no-ScY_test/viz/training-and-reward.svg\n"
     ]
    },
    {
     "data": {
      "image/png": "[encoded data removed]",
      "text/plain": [
       "<Figure size 450x412.5 with 2 Axes>"
      ]
     },
     "metadata": {
      "needs_background": "light"
     },
     "output_type": "display_data"
    }
   ],
   "source": [
    "run_id = \"20220504-batt-icsd-volpred-KLiNa-no-ScY_test\"\n",
    "df_games, df_rew = main_results(run_id, session, limit_to_log=True)"
   ]
  },
  {
   "cell_type": "code",
   "execution_count": 62,
   "metadata": {},
   "outputs": [
    {
     "name": "stdout",
     "output_type": "stream",
     "text": [
      "Reading /projects/rlmolecule/jlaw/logs/crystal_energy/20220504-batt-volpred-KLiNa/policy_checkpoints/log.csv\n",
      "/projects/rlmolecule/jlaw/logs/crystal_energy/20220504-batt-volpred-KLiNa/viz/training-and-reward.svg\n"
     ]
    },
    {
     "data": {
      "image/png": "[encoded data removed]",
      "text/plain": [
       "<Figure size 450x412.5 with 2 Axes>"
      ]
     },
     "metadata": {
      "needs_background": "light"
     },
     "output_type": "display_data"
    }
   ],
   "source": [
    "run_id = \"20220504-batt-volpred-KLiNa\"\n",
    "df_games, df_rew = main_results(run_id, session)"
   ]
  },
  {
   "cell_type": "code",
   "execution_count": 49,
   "metadata": {},
   "outputs": [],
   "source": [
    "import gzip, json\n",
    "from pymatgen.core import Structure\n",
    "def read_structures_file(structures_file):\n",
    "    print(f\"reading {structures_file}\")\n",
    "    with gzip.open(structures_file, 'r') as f:\n",
    "        structures_dict = json.loads(f.read().decode())\n",
    "    structures = {}\n",
    "    for key, structure_dict in structures_dict.items():\n",
    "        structures[key] = Structure.from_dict(structure_dict)\n",
    "    print(f\"\\t{len(structures)} structures read\")\n",
    "    return structures"
   ]
  },
  {
   "cell_type": "code",
   "execution_count": 55,
   "metadata": {},
   "outputs": [
    {
     "name": "stdout",
     "output_type": "stream",
     "text": [
      "reading ../../rlmolecule/crystal/inputs/icsd_prototypes_lt50atoms_lt100dist.json.gz\n",
      "\t3304 structures read\n"
     ]
    }
   ],
   "source": [
    "# load the icsd prototype structures\n",
    "# https://pymatgen.org/usage.html#side-note-as-dict-from-dict\n",
    "icsd_prototypes_file = \"../../rlmolecule/crystal/inputs/icsd_prototypes_lt50atoms_lt100dist.json.gz\"\n",
    "proto_structures = read_structures_file(icsd_prototypes_file)"
   ]
  },
  {
   "cell_type": "code",
   "execution_count": 51,
   "metadata": {},
   "outputs": [
    {
     "name": "stdout",
     "output_type": "stream",
     "text": [
      "Reading /projects/rlmolecule/pstjohn/crystal_inputs/site_volumes_from_icsd.csv\n",
      "\t60 elements\n"
     ]
    }
   ],
   "source": [
    "vol_pred_site_bias_file = \"/projects/rlmolecule/pstjohn/crystal_inputs/site_volumes_from_icsd.csv\"\n",
    "print(f\"Reading {vol_pred_site_bias_file}\")\n",
    "site_bias = pd.read_csv(vol_pred_site_bias_file,\n",
    "                        index_col=0, squeeze=True)\n",
    "print(f\"\\t{len(site_bias)} elements\")"
   ]
  },
  {
   "cell_type": "code",
   "execution_count": 52,
   "metadata": {},
   "outputs": [],
   "source": [
    "def scale_by_pred_vol(structure, vol_pred_site_bias, dls_vol_predictor):\n",
    "    # first predict the volume using the average volume per element (from ICSD)\n",
    "    site_counts = pd.Series(Counter(\n",
    "        str(site.specie) for site in structure.sites)).fillna(0)\n",
    "    curr_site_bias = vol_pred_site_bias[\n",
    "        vol_pred_site_bias.index.isin(site_counts.index)]\n",
    "    linear_pred = site_counts @ curr_site_bias\n",
    "    structure.scale_lattice(linear_pred)\n",
    "\n",
    "    # then apply Pymatgen's DLS predictor\n",
    "    pred_volume = dls_vol_predictor.predict(structure)\n",
    "    structure.scale_lattice(pred_volume)\n",
    "    return structure\n",
    "\n",
    "from pymatgen.analysis.structure_prediction.volume_predictor import DLSVolumePredictor\n",
    "dls_vol_predictor = DLSVolumePredictor()"
   ]
  },
  {
   "cell_type": "code",
   "execution_count": 53,
   "metadata": {},
   "outputs": [],
   "source": [
    "# TODO combine with decorate_structure()\n",
    "def write_decorated_structure(decorated_str, out_dir):\n",
    "    # print(f\"writing {out_file}\")\n",
    "    decorated_structure.to(filename=out_file)\n",
    "    \n",
    "    # also write the original poscar file for reference\n",
    "    out_file2 = f\"{out_dir}/icsd_structures/{decorated_str.split('|')[-2]}\"\n",
    "    os.makedirs(os.path.dirname(out_file2), exist_ok=True)\n",
    "    if not os.path.isfile(out_file2):\n",
    "        icsd_prototype.to(filename=out_file2)\n",
    "        \n",
    "    return out_str"
   ]
  },
  {
   "cell_type": "code",
   "execution_count": 39,
   "metadata": {},
   "outputs": [
    {
     "name": "stdout",
     "output_type": "stream",
     "text": [
      "332\n",
      "# compositions: 176\n",
      "writing decoration energies to /projects/rlmolecule/jlaw/logs/crystal_energy/20220504-batt-icsd-volpred-KLiNa-no-halides_test2/best_decorations.csv\n",
      "2160\n",
      "# compositions: 272\n",
      "writing decoration energies to /projects/rlmolecule/jlaw/logs/crystal_energy/20220504-batt-icsd-volpred-KLiNa-no-ScY_test/best_decorations.csv\n"
     ]
    }
   ],
   "source": [
    "stats = {}\n",
    "df_all = pd.DataFrame()\n",
    "rew_cutoff = 0\n",
    "for run_id in [\n",
    "    # \"20220509-rel-energy-cos-dist0.1-eles3-Li\",\n",
    "    # \"20220504-batt-icsd-volpred-KLiNa\",\n",
    "    # \"20220504-batt-volpred-KLiNa\",\n",
    "    \"20220504-batt-icsd-volpred-KLiNa-no-halides_test2\",\n",
    "    \"20220504-batt-icsd-volpred-KLiNa-no-ScY_test\"\n",
    "    ]:\n",
    "    df_rew = load_rewards(session, run_id)\n",
    "    # df_games, df_rew = main_results(run_id, session)\n",
    "    top_rew = df_rew[df_rew['reward'] > rew_cutoff]\n",
    "    best_crystal_states = {}\n",
    "    for rew, data in top_rew[['reward', 'data']].values:\n",
    "        best_crystal_states[data['state_repr']] = (\n",
    "            rew, data['decomp_energy'], \n",
    "            data['predicted_energy'])\n",
    "    best_crys_comp = [s.split('|')[0] for s in best_crystal_states]\n",
    "    S = pd.Series(list(best_crys_comp))\n",
    "    comp_counts = S.value_counts()\n",
    "\n",
    "    # print(len(top_rew))\n",
    "    # print(len(best_crystal_states))\n",
    "    print(df_rew[df_rew['reward'] > rew_cutoff]['data'].apply(lambda x: x['state_repr']).nunique())\n",
    "    print(f\"# compositions: {len(comp_counts)}\")\n",
    "    stats[run_id] = (len(best_crystal_states), len(comp_counts))\n",
    "    if len(comp_counts) == 0:\n",
    "        continue\n",
    "    \n",
    "    # now write each of these to a file\n",
    "    # UPDATE: just write the best decoration per composition\n",
    "    df = pd.DataFrame(best_crystal_states).T.reset_index()\n",
    "    df.columns = ['decor_id', 'reward', 'pred_decomp_energy', 'pred_energyperatom']\n",
    "    df['comp'] = df.decor_id.apply(lambda x: x.split('|')[0])\n",
    "    # df = df.loc[df.groupby('comp')['reward'].idxmax()]\n",
    "    # out_dir = f\"outputs/{run_id}/best_decorations\"\n",
    "    out_dir = f\"{log_dir}/{run_id}/best_decorations\"\n",
    "    print(f\"writing decoration energies to {out_dir}.csv\")\n",
    "    os.makedirs(out_dir, exist_ok=True)\n",
    "    # out_strs = {}\n",
    "    # for decorated_str, data in tqdm(best_crystal_states.items()):\n",
    "        # out_str = write_decorated_structure(decorated_str, out_dir, proto_structures)\n",
    "        # out_strs[out_str] = data\n",
    "    # df_out = pd.DataFrame(out_strs).T\n",
    "    # df_out.to_csv(f\"{out_dir}/../best_decorations.csv\", index_label='id',\n",
    "    #               header=['reward', 'pred_decomp_energy', 'pred_energyperatom'])\n",
    "    # df = df.reset_index()\n",
    "    # wait to write the decorations to avoid duplicate structures\n",
    "    # df['id'] = df.decor_id.progress_apply(write_decorated_structure, \n",
    "    #                                       out_dir=out_dir, \n",
    "    #                                       icsd_structures=proto_structures,\n",
    "    #                                       vol_pred_site_bias=site_bias,\n",
    "    #                                      )\n",
    "    df.to_csv(f\"{out_dir}/../best_decorations.csv\")\n",
    "    df_all = pd.concat([df_all, df])\n",
    "df_all.reset_index(drop=True, inplace=True)"
   ]
  },
  {
   "cell_type": "code",
   "execution_count": 40,
   "metadata": {},
   "outputs": [
    {
     "name": "stdout",
     "output_type": "stream",
     "text": [
      "20220504-batt-icsd-volpred-KLiNa-no-halides_test2\t332\t176\n",
      "20220504-batt-icsd-volpred-KLiNa-no-ScY_test\t2160\t272\n"
     ]
    }
   ],
   "source": [
    "for key, (num_strcs, num_comp) in stats.items():\n",
    "    print('\\t'.join(map(str, [key, num_strcs, num_comp])))"
   ]
  },
  {
   "cell_type": "code",
   "execution_count": 41,
   "metadata": {},
   "outputs": [
    {
     "name": "stdout",
     "output_type": "stream",
     "text": [
      "2422\n",
      "2422\n",
      "400\n"
     ]
    }
   ],
   "source": [
    "df_all.drop_duplicates('decor_id', inplace=True)\n",
    "print(len(df_all))\n",
    "print(df_all[df_all.reward > rew_cutoff].decor_id.nunique())\n",
    "print(df_all[df_all.reward > rew_cutoff].comp.nunique())"
   ]
  },
  {
   "cell_type": "code",
   "execution_count": 42,
   "metadata": {},
   "outputs": [
    {
     "data": {
      "text/html": [
       "<div>\n",
       "<style scoped>\n",
       "    .dataframe tbody tr th:only-of-type {\n",
       "        vertical-align: middle;\n",
       "    }\n",
       "\n",
       "    .dataframe tbody tr th {\n",
       "        vertical-align: top;\n",
       "    }\n",
       "\n",
       "    .dataframe thead th {\n",
       "        text-align: right;\n",
       "    }\n",
       "</style>\n",
       "<table border=\"1\" class=\"dataframe\">\n",
       "  <thead>\n",
       "    <tr style=\"text-align: right;\">\n",
       "      <th></th>\n",
       "      <th>decor_id</th>\n",
       "      <th>reward</th>\n",
       "      <th>pred_decomp_energy</th>\n",
       "      <th>pred_energyperatom</th>\n",
       "      <th>comp</th>\n",
       "    </tr>\n",
       "  </thead>\n",
       "  <tbody>\n",
       "    <tr>\n",
       "      <th>0</th>\n",
       "      <td>Na3W1N3|_1_3_3|monoclinic|sg12_icsd_023252|1</td>\n",
       "      <td>0.251</td>\n",
       "      <td>-0.251</td>\n",
       "      <td>-5.717773</td>\n",
       "      <td>Na3W1N3</td>\n",
       "    </tr>\n",
       "    <tr>\n",
       "      <th>1</th>\n",
       "      <td>Li4Ge1O4|_1_4_4|orthorhombic|sg63_icsd_065177|1</td>\n",
       "      <td>0.235</td>\n",
       "      <td>-0.235</td>\n",
       "      <td>-5.567801</td>\n",
       "      <td>Li4Ge1O4</td>\n",
       "    </tr>\n",
       "  </tbody>\n",
       "</table>\n",
       "</div>"
      ],
      "text/plain": [
       "                                          decor_id  reward  \\\n",
       "0     Na3W1N3|_1_3_3|monoclinic|sg12_icsd_023252|1   0.251   \n",
       "1  Li4Ge1O4|_1_4_4|orthorhombic|sg63_icsd_065177|1   0.235   \n",
       "\n",
       "   pred_decomp_energy  pred_energyperatom      comp  \n",
       "0              -0.251           -5.717773   Na3W1N3  \n",
       "1              -0.235           -5.567801  Li4Ge1O4  "
      ]
     },
     "execution_count": 42,
     "metadata": {},
     "output_type": "execute_result"
    }
   ],
   "source": [
    "df_all.head(2)"
   ]
  },
  {
   "cell_type": "code",
   "execution_count": 44,
   "metadata": {},
   "outputs": [],
   "source": [
    "def decorate_structure(decorated_str, icsd_structures, vol_pred_site_bias=None):\n",
    "    # Now create the decoration of this composition onto this prototype structure\n",
    "    # the 'action_node' string has the following format at this point:\n",
    "    # comp_type|prototype_structure|decoration_idx\n",
    "    # we just need 'comp_type|prototype_structure' to get the icsd structure\n",
    "    composition = decorated_str.split('|')[0]\n",
    "    structure_key = '|'.join(decorated_str.split('|')[1:-1])\n",
    "    icsd_prototype = icsd_structures[structure_key]\n",
    "    decoration_idx = int(decorated_str.split('|')[-1]) - 1\n",
    "    # print(decorated_str, composition, structure_key)\n",
    "    try:\n",
    "        decorated_structure, comp = CrystalState.decorate_prototype_structure(\n",
    "            icsd_prototype, composition, decoration_idx=decoration_idx)\n",
    "        # also predict the volume\n",
    "        if vol_pred_site_bias is not None:\n",
    "            decorated_structure = scale_by_pred_vol(decorated_structure, \n",
    "                                                    vol_pred_site_bias,\n",
    "                                                    dls_vol_predictor,\n",
    "                                                   )\n",
    "        #decorations[descriptor] = decorated_structure.as_dict()\n",
    "    except AssertionError as e:\n",
    "        print(f\"AssertionError: {e}\")\n",
    "        return\n",
    "        #volume_stats[descriptor] = (-1, -1, 0, comp_type)\n",
    "        #return 0.0, {'terminal': True, 'state_repr': repr(state)}\n",
    "    \n",
    "    return decorated_structure"
   ]
  },
  {
   "cell_type": "code",
   "execution_count": 45,
   "metadata": {},
   "outputs": [],
   "source": [
    "def extract_id(decorated_str):\n",
    "    decor_split = decorated_str.split('|')\n",
    "    out_str = '_'.join([decor_split[0], decor_split[3].replace('POSCAR_',''), decor_split[4]])\n",
    "    return out_str"
   ]
  },
  {
   "cell_type": "code",
   "execution_count": 46,
   "metadata": {},
   "outputs": [],
   "source": [
    "def write_structure(row, out_dir):\n",
    "    out_file = f\"{out_dir}/best_decorations/POSCAR_{row.id}\"\n",
    "    row.structure.to(filename=out_file)"
   ]
  },
  {
   "cell_type": "code",
   "execution_count": 56,
   "metadata": {},
   "outputs": [
    {
     "data": {
      "application/vnd.jupyter.widget-view+json": {
       "model_id": "5f4ea19923904539bf7937bc681efd19",
       "version_major": 2,
       "version_minor": 0
      },
      "text/plain": [
       "  0%|          | 0/400 [00:00<?, ?it/s]"
      ]
     },
     "metadata": {},
     "output_type": "display_data"
    },
    {
     "data": {
      "text/html": [
       "<div>\n",
       "<style scoped>\n",
       "    .dataframe tbody tr th:only-of-type {\n",
       "        vertical-align: middle;\n",
       "    }\n",
       "\n",
       "    .dataframe tbody tr th {\n",
       "        vertical-align: top;\n",
       "    }\n",
       "\n",
       "    .dataframe thead th {\n",
       "        text-align: right;\n",
       "    }\n",
       "</style>\n",
       "<table border=\"1\" class=\"dataframe\">\n",
       "  <thead>\n",
       "    <tr style=\"text-align: right;\">\n",
       "      <th></th>\n",
       "      <th>decor_id</th>\n",
       "      <th>reward</th>\n",
       "      <th>pred_decomp_energy</th>\n",
       "      <th>pred_energyperatom</th>\n",
       "      <th>comp</th>\n",
       "      <th>id</th>\n",
       "      <th>structure</th>\n",
       "      <th>dls_volume</th>\n",
       "    </tr>\n",
       "  </thead>\n",
       "  <tbody>\n",
       "    <tr>\n",
       "      <th>409</th>\n",
       "      <td>K1Al1Br4|_1_1_4|orthorhombic|sg33_icsd_404394|1</td>\n",
       "      <td>0.907</td>\n",
       "      <td>-0.907</td>\n",
       "      <td>-3.266222</td>\n",
       "      <td>K1Al1Br4</td>\n",
       "      <td>K1Al1Br4_sg33_icsd_404394_1</td>\n",
       "      <td>[[7.33708713 8.58120866 1.77059988] Al, [5.957...</td>\n",
       "      <td>1154.463218</td>\n",
       "    </tr>\n",
       "    <tr>\n",
       "      <th>1820</th>\n",
       "      <td>K1Al1Cl4|_1_1_4|orthorhombic|sg21_icsd_079527|1</td>\n",
       "      <td>0.099</td>\n",
       "      <td>-0.099</td>\n",
       "      <td>-3.792170</td>\n",
       "      <td>K1Al1Cl4</td>\n",
       "      <td>K1Al1Cl4_sg21_icsd_079527_1</td>\n",
       "      <td>[[2.73436021e-16 2.73436021e-16 4.46554911e+00...</td>\n",
       "      <td>1509.532585</td>\n",
       "    </tr>\n",
       "  </tbody>\n",
       "</table>\n",
       "</div>"
      ],
      "text/plain": [
       "                                             decor_id  reward  \\\n",
       "409   K1Al1Br4|_1_1_4|orthorhombic|sg33_icsd_404394|1   0.907   \n",
       "1820  K1Al1Cl4|_1_1_4|orthorhombic|sg21_icsd_079527|1   0.099   \n",
       "\n",
       "      pred_decomp_energy  pred_energyperatom      comp  \\\n",
       "409               -0.907           -3.266222  K1Al1Br4   \n",
       "1820              -0.099           -3.792170  K1Al1Cl4   \n",
       "\n",
       "                               id  \\\n",
       "409   K1Al1Br4_sg33_icsd_404394_1   \n",
       "1820  K1Al1Cl4_sg21_icsd_079527_1   \n",
       "\n",
       "                                              structure   dls_volume  \n",
       "409   [[7.33708713 8.58120866 1.77059988] Al, [5.957...  1154.463218  \n",
       "1820  [[2.73436021e-16 2.73436021e-16 4.46554911e+00...  1509.532585  "
      ]
     },
     "execution_count": 56,
     "metadata": {},
     "output_type": "execute_result"
    }
   ],
   "source": [
    "# out_dir = \"/projects/rlmolecule/jlaw/crystal_outputs/2022-05-09-batt-icsd-cos-dist-Li\"\n",
    "out_dir = \"/projects/rlmolecule/jlaw/crystal_outputs/2022-05-04/batt-icsd-volpred-KLiNa-no-halides-ScY\"\n",
    "# out_dir = \"/projects/rlmolecule/jlaw/crystal_outputs/2022-05-04/volpred-KLiNa\"\n",
    "os.makedirs(out_dir, exist_ok=True)\n",
    "df_all['id'] = df_all.decor_id.apply(extract_id)\n",
    "df_all = df_all.loc[df_all.groupby('comp')['reward'].idxmax().values]\n",
    "df_all['structure'] = df_all.decor_id.progress_apply(decorate_structure,\n",
    "                                                     icsd_structures=proto_structures,\n",
    "                                                     vol_pred_site_bias=site_bias,\n",
    "                                                     )\n",
    "# df_all['volume'] = df_all.structure.apply(lambda x: x.volume)\n",
    "df_all['dls_volume'] = df_all.structure.apply(lambda x: x.volume)\n",
    "df_all.to_pickle(f\"{out_dir}/best_decorations.p\")\n",
    "\n",
    "os.makedirs(f\"{out_dir}/best_decorations\", exist_ok=True)\n",
    "df_all.apply(write_structure, out_dir=out_dir, axis=1)\n",
    "df_all.head(2)"
   ]
  },
  {
   "cell_type": "code",
   "execution_count": 61,
   "metadata": {},
   "outputs": [
    {
     "data": {
      "text/plain": [
       "89    None\n",
       "74    None\n",
       "34    None\n",
       "0     None\n",
       "92    None\n",
       "79    None\n",
       "76    None\n",
       "20    None\n",
       "14    None\n",
       "9     None\n",
       "8     None\n",
       "19    None\n",
       "24    None\n",
       "22    None\n",
       "69    None\n",
       "32    None\n",
       "46    None\n",
       "18    None\n",
       "dtype: object"
      ]
     },
     "execution_count": 61,
     "metadata": {},
     "output_type": "execute_result"
    }
   ],
   "source": []
  },
  {
   "cell_type": "code",
   "execution_count": 192,
   "metadata": {},
   "outputs": [
    {
     "name": "stdout",
     "output_type": "stream",
     "text": [
      "1279\n"
     ]
    },
    {
     "data": {
      "application/vnd.jupyter.widget-view+json": {
       "model_id": "0ccbb6ebc61348f3b38eb58821f9d5e1",
       "version_major": 2,
       "version_minor": 0
      },
      "text/plain": [
       "  0%|          | 0/1279 [00:00<?, ?it/s]"
      ]
     },
     "metadata": {},
     "output_type": "display_data"
    },
    {
     "data": {
      "text/html": [
       "<div>\n",
       "<style scoped>\n",
       "    .dataframe tbody tr th:only-of-type {\n",
       "        vertical-align: middle;\n",
       "    }\n",
       "\n",
       "    .dataframe tbody tr th {\n",
       "        vertical-align: top;\n",
       "    }\n",
       "\n",
       "    .dataframe thead th {\n",
       "        text-align: right;\n",
       "    }\n",
       "</style>\n",
       "<table border=\"1\" class=\"dataframe\">\n",
       "  <thead>\n",
       "    <tr style=\"text-align: right;\">\n",
       "      <th></th>\n",
       "      <th>decor_id</th>\n",
       "      <th>reward</th>\n",
       "      <th>pred_decomp_energy</th>\n",
       "      <th>pred_energyperatom</th>\n",
       "      <th>comp</th>\n",
       "      <th>id</th>\n",
       "      <th>proto_id</th>\n",
       "    </tr>\n",
       "  </thead>\n",
       "  <tbody>\n",
       "    <tr>\n",
       "      <th>47167</th>\n",
       "      <td>K1B1Cl4|_1_1_4|orthorhombic|POSCAR_sg31_icsd_0...</td>\n",
       "      <td>2.469</td>\n",
       "      <td>-2.469</td>\n",
       "      <td>-6.294676</td>\n",
       "      <td>K1B1Cl4</td>\n",
       "      <td>K1B1Cl4_sg31_icsd_065882_1</td>\n",
       "      <td>icsd_065882</td>\n",
       "    </tr>\n",
       "    <tr>\n",
       "      <th>47121</th>\n",
       "      <td>K1B1Ge1Cl5N1|_1_1_1_1_5|tetragonal|POSCAR_sg12...</td>\n",
       "      <td>2.921</td>\n",
       "      <td>-2.921</td>\n",
       "      <td>-7.483702</td>\n",
       "      <td>K1B1Ge1Cl5N1</td>\n",
       "      <td>K1B1Ge1Cl5N1_sg129_icsd_420040_2</td>\n",
       "      <td>icsd_420040</td>\n",
       "    </tr>\n",
       "  </tbody>\n",
       "</table>\n",
       "</div>"
      ],
      "text/plain": [
       "                                                decor_id  reward  \\\n",
       "47167  K1B1Cl4|_1_1_4|orthorhombic|POSCAR_sg31_icsd_0...   2.469   \n",
       "47121  K1B1Ge1Cl5N1|_1_1_1_1_5|tetragonal|POSCAR_sg12...   2.921   \n",
       "\n",
       "       pred_decomp_energy  pred_energyperatom          comp  \\\n",
       "47167              -2.469           -6.294676       K1B1Cl4   \n",
       "47121              -2.921           -7.483702  K1B1Ge1Cl5N1   \n",
       "\n",
       "                                     id     proto_id  \n",
       "47167        K1B1Cl4_sg31_icsd_065882_1  icsd_065882  \n",
       "47121  K1B1Ge1Cl5N1_sg129_icsd_420040_2  icsd_420040  "
      ]
     },
     "execution_count": 192,
     "metadata": {},
     "output_type": "execute_result"
    }
   ],
   "source": [
    "# write all structures to the same place\n",
    "out_dir = \"/projects/rlmolecule/jlaw/crystal_outputs/2022-04-27-batt-icsd-vol-combined/best_decorations\"\n",
    "os.makedirs(out_dir, exist_ok=True)\n",
    "df_all = df_all.loc[df_all.groupby('comp')['reward'].idxmax().values]\n",
    "print(len(df_all))\n",
    "df_all['id'] = df_all.decor_id.progress_apply(write_decorated_structure, \n",
    "                                      out_dir=out_dir, \n",
    "                                      icsd_structures=proto_structures,\n",
    "                                      vol_pred_site_bias=site_bias,\n",
    "                                     )\n",
    "df_all['proto_id'] = df_all['id'].apply(lambda x: 'icsd_' + x.split('_')[-2])\n",
    "df_all.set_index('id').to_csv(f\"{out_dir}/../best_decorations.csv\")\n",
    "df_all.head(2)"
   ]
  },
  {
   "cell_type": "code",
   "execution_count": 28,
   "metadata": {},
   "outputs": [
    {
     "name": "stderr",
     "output_type": "stream",
     "text": [
      "/lustre/eaglefs/projects/rlmolecule/jlaw/envs/crystals_nfp0_3/lib/python3.8/site-packages/pandas/core/frame.py:3641: SettingWithCopyWarning: \n",
      "A value is trying to be set on a copy of a slice from a DataFrame.\n",
      "Try using .loc[row_indexer,col_indexer] = value instead\n",
      "\n",
      "See the caveats in the documentation: https://pandas.pydata.org/pandas-docs/stable/user_guide/indexing.html#returning-a-view-versus-a-copy\n",
      "  self[k1] = value[k2]\n"
     ]
    },
    {
     "data": {
      "text/html": [
       "<div>\n",
       "<style scoped>\n",
       "    .dataframe tbody tr th:only-of-type {\n",
       "        vertical-align: middle;\n",
       "    }\n",
       "\n",
       "    .dataframe tbody tr th {\n",
       "        vertical-align: top;\n",
       "    }\n",
       "\n",
       "    .dataframe thead th {\n",
       "        text-align: right;\n",
       "    }\n",
       "</style>\n",
       "<table border=\"1\" class=\"dataframe\">\n",
       "  <thead>\n",
       "    <tr style=\"text-align: right;\">\n",
       "      <th></th>\n",
       "      <th>decor_id</th>\n",
       "      <th>reward</th>\n",
       "      <th>pred_decomp_energy</th>\n",
       "      <th>pred_energyperatom</th>\n",
       "      <th>comp</th>\n",
       "      <th>a</th>\n",
       "      <th>b</th>\n",
       "      <th>c</th>\n",
       "    </tr>\n",
       "  </thead>\n",
       "  <tbody>\n",
       "    <tr>\n",
       "      <th>0</th>\n",
       "      <td>K1Ge2Cl6N1|_1_1_2_6|cubic|POSCAR_sg225_icsd_03...</td>\n",
       "      <td>3.799</td>\n",
       "      <td>-3.799</td>\n",
       "      <td>-7.755982</td>\n",
       "      <td>K1Ge2Cl6N1</td>\n",
       "      <td>1</td>\n",
       "      <td>2</td>\n",
       "      <td>3</td>\n",
       "    </tr>\n",
       "    <tr>\n",
       "      <th>1</th>\n",
       "      <td>K1B2Cl7|_1_2_7|cubic|POSCAR_sg205_icsd_024854|1</td>\n",
       "      <td>3.033</td>\n",
       "      <td>-3.033</td>\n",
       "      <td>-6.938518</td>\n",
       "      <td>K1B2Cl7</td>\n",
       "      <td>1</td>\n",
       "      <td>2</td>\n",
       "      <td>3</td>\n",
       "    </tr>\n",
       "    <tr>\n",
       "      <th>2</th>\n",
       "      <td>K1B2Cl7|_1_2_7|tetragonal|POSCAR_sg141_icsd_02...</td>\n",
       "      <td>3.003</td>\n",
       "      <td>-3.003</td>\n",
       "      <td>-6.908506</td>\n",
       "      <td>K1B2Cl7</td>\n",
       "      <td>1</td>\n",
       "      <td>2</td>\n",
       "      <td>3</td>\n",
       "    </tr>\n",
       "    <tr>\n",
       "      <th>3</th>\n",
       "      <td>K1Ge2Cl6N1|_1_1_2_6|orthorhombic|POSCAR_sg62_i...</td>\n",
       "      <td>2.921</td>\n",
       "      <td>-2.921</td>\n",
       "      <td>-6.877828</td>\n",
       "      <td>K1Ge2Cl6N1</td>\n",
       "      <td>1</td>\n",
       "      <td>2</td>\n",
       "      <td>3</td>\n",
       "    </tr>\n",
       "    <tr>\n",
       "      <th>4</th>\n",
       "      <td>K1B2Cl7|_1_2_7|hexagonal|POSCAR_sg173_icsd_075...</td>\n",
       "      <td>2.743</td>\n",
       "      <td>-2.743</td>\n",
       "      <td>-6.648516</td>\n",
       "      <td>K1B2Cl7</td>\n",
       "      <td>1</td>\n",
       "      <td>2</td>\n",
       "      <td>3</td>\n",
       "    </tr>\n",
       "  </tbody>\n",
       "</table>\n",
       "</div>"
      ],
      "text/plain": [
       "                                            decor_id  reward  \\\n",
       "0  K1Ge2Cl6N1|_1_1_2_6|cubic|POSCAR_sg225_icsd_03...   3.799   \n",
       "1    K1B2Cl7|_1_2_7|cubic|POSCAR_sg205_icsd_024854|1   3.033   \n",
       "2  K1B2Cl7|_1_2_7|tetragonal|POSCAR_sg141_icsd_02...   3.003   \n",
       "3  K1Ge2Cl6N1|_1_1_2_6|orthorhombic|POSCAR_sg62_i...   2.921   \n",
       "4  K1B2Cl7|_1_2_7|hexagonal|POSCAR_sg173_icsd_075...   2.743   \n",
       "\n",
       "   pred_decomp_energy  pred_energyperatom        comp  a  b  c  \n",
       "0              -3.799           -7.755982  K1Ge2Cl6N1  1  2  3  \n",
       "1              -3.033           -6.938518     K1B2Cl7  1  2  3  \n",
       "2              -3.003           -6.908506     K1B2Cl7  1  2  3  \n",
       "3              -2.921           -6.877828  K1Ge2Cl6N1  1  2  3  \n",
       "4              -2.743           -6.648516     K1B2Cl7  1  2  3  "
      ]
     },
     "execution_count": 28,
     "metadata": {},
     "output_type": "execute_result"
    }
   ],
   "source": [
    "def test(x):\n",
    "    return 1,2,3\n",
    "df2 = df.head()\n",
    "df2[['a', 'b', 'c']] = df2.apply(test, axis=1, result_type='expand')\n",
    "df2"
   ]
  },
  {
   "cell_type": "code",
   "execution_count": null,
   "metadata": {},
   "outputs": [],
   "source": [
    "df = pd.DataFrame("
   ]
  },
  {
   "cell_type": "code",
   "execution_count": 192,
   "metadata": {},
   "outputs": [
    {
     "name": "stdout",
     "output_type": "stream",
     "text": [
      "1279\n"
     ]
    },
    {
     "data": {
      "application/vnd.jupyter.widget-view+json": {
       "model_id": "0ccbb6ebc61348f3b38eb58821f9d5e1",
       "version_major": 2,
       "version_minor": 0
      },
      "text/plain": [
       "  0%|          | 0/1279 [00:00<?, ?it/s]"
      ]
     },
     "metadata": {},
     "output_type": "display_data"
    },
    {
     "data": {
      "text/html": [
       "<div>\n",
       "<style scoped>\n",
       "    .dataframe tbody tr th:only-of-type {\n",
       "        vertical-align: middle;\n",
       "    }\n",
       "\n",
       "    .dataframe tbody tr th {\n",
       "        vertical-align: top;\n",
       "    }\n",
       "\n",
       "    .dataframe thead th {\n",
       "        text-align: right;\n",
       "    }\n",
       "</style>\n",
       "<table border=\"1\" class=\"dataframe\">\n",
       "  <thead>\n",
       "    <tr style=\"text-align: right;\">\n",
       "      <th></th>\n",
       "      <th>decor_id</th>\n",
       "      <th>reward</th>\n",
       "      <th>pred_decomp_energy</th>\n",
       "      <th>pred_energyperatom</th>\n",
       "      <th>comp</th>\n",
       "      <th>id</th>\n",
       "      <th>proto_id</th>\n",
       "    </tr>\n",
       "  </thead>\n",
       "  <tbody>\n",
       "    <tr>\n",
       "      <th>47167</th>\n",
       "      <td>K1B1Cl4|_1_1_4|orthorhombic|POSCAR_sg31_icsd_0...</td>\n",
       "      <td>2.469</td>\n",
       "      <td>-2.469</td>\n",
       "      <td>-6.294676</td>\n",
       "      <td>K1B1Cl4</td>\n",
       "      <td>K1B1Cl4_sg31_icsd_065882_1</td>\n",
       "      <td>icsd_065882</td>\n",
       "    </tr>\n",
       "    <tr>\n",
       "      <th>47121</th>\n",
       "      <td>K1B1Ge1Cl5N1|_1_1_1_1_5|tetragonal|POSCAR_sg12...</td>\n",
       "      <td>2.921</td>\n",
       "      <td>-2.921</td>\n",
       "      <td>-7.483702</td>\n",
       "      <td>K1B1Ge1Cl5N1</td>\n",
       "      <td>K1B1Ge1Cl5N1_sg129_icsd_420040_2</td>\n",
       "      <td>icsd_420040</td>\n",
       "    </tr>\n",
       "  </tbody>\n",
       "</table>\n",
       "</div>"
      ],
      "text/plain": [
       "                                                decor_id  reward  \\\n",
       "47167  K1B1Cl4|_1_1_4|orthorhombic|POSCAR_sg31_icsd_0...   2.469   \n",
       "47121  K1B1Ge1Cl5N1|_1_1_1_1_5|tetragonal|POSCAR_sg12...   2.921   \n",
       "\n",
       "       pred_decomp_energy  pred_energyperatom          comp  \\\n",
       "47167              -2.469           -6.294676       K1B1Cl4   \n",
       "47121              -2.921           -7.483702  K1B1Ge1Cl5N1   \n",
       "\n",
       "                                     id     proto_id  \n",
       "47167        K1B1Cl4_sg31_icsd_065882_1  icsd_065882  \n",
       "47121  K1B1Ge1Cl5N1_sg129_icsd_420040_2  icsd_420040  "
      ]
     },
     "execution_count": 192,
     "metadata": {},
     "output_type": "execute_result"
    }
   ],
   "source": [
    "# write structures to a \n",
    "out_dir = \"/projects/rlmolecule/jlaw/crystal_outputs/2022-04-27-batt-icsd-vol-combined/best_decorations\"\n",
    "os.makedirs(out_dir, exist_ok=True)\n",
    "df_all = df_all.loc[df_all.groupby('comp')['reward'].idxmax().values]\n",
    "print(len(df_all))\n",
    "df_all['id'] = df_all.decor_id.progress_apply(write_decorated_structure, \n",
    "                                      out_dir=out_dir, \n",
    "                                      icsd_structures=proto_structures,\n",
    "                                      vol_pred_site_bias=site_bias,\n",
    "                                     )\n",
    "df_all['proto_id'] = df_all['id'].apply(lambda x: 'icsd_' + x.split('_')[-2])\n",
    "df_all.set_index('id').to_csv(f\"{out_dir}/../best_decorations.csv\")\n",
    "df_all.head(2)"
   ]
  },
  {
   "cell_type": "code",
   "execution_count": 147,
   "metadata": {},
   "outputs": [
    {
     "data": {
      "text/plain": [
       "icsd_071581    74\n",
       "icsd_066994    17\n",
       "icsd_407646    13\n",
       "icsd_202422    12\n",
       "icsd_034944    12\n",
       "               ..\n",
       "icsd_419918     1\n",
       "icsd_002763     1\n",
       "icsd_246005     1\n",
       "icsd_100477     1\n",
       "icsd_409537     1\n",
       "Name: proto_id, Length: 113, dtype: int64"
      ]
     },
     "execution_count": 147,
     "metadata": {},
     "output_type": "execute_result"
    }
   ],
   "source": [
    "df_all.proto_id.value_counts()"
   ]
  },
  {
   "cell_type": "markdown",
   "metadata": {},
   "source": [
    "### Compare what the predicted energy would have been for the GNN trained on volume-relaxed structures only"
   ]
  },
  {
   "cell_type": "code",
   "execution_count": null,
   "metadata": {},
   "outputs": [],
   "source": []
  },
  {
   "cell_type": "code",
   "execution_count": 24,
   "metadata": {},
   "outputs": [
    {
     "data": {
      "text/html": [
       "<div>\n",
       "<style scoped>\n",
       "    .dataframe tbody tr th:only-of-type {\n",
       "        vertical-align: middle;\n",
       "    }\n",
       "\n",
       "    .dataframe tbody tr th {\n",
       "        vertical-align: top;\n",
       "    }\n",
       "\n",
       "    .dataframe thead th {\n",
       "        text-align: right;\n",
       "    }\n",
       "</style>\n",
       "<table border=\"1\" class=\"dataframe\">\n",
       "  <thead>\n",
       "    <tr style=\"text-align: right;\">\n",
       "      <th></th>\n",
       "      <th>id</th>\n",
       "      <th>run_id</th>\n",
       "      <th>time</th>\n",
       "      <th>raw_reward</th>\n",
       "      <th>scaled_reward</th>\n",
       "      <th>search_statistics</th>\n",
       "      <th>execution_statistics</th>\n",
       "      <th>time_hours</th>\n",
       "    </tr>\n",
       "  </thead>\n",
       "  <tbody>\n",
       "    <tr>\n",
       "      <th>0</th>\n",
       "      <td>11cf6b02-ee4f-489f-8318-4990c8cfbb85</td>\n",
       "      <td>20220422-batt-icsd-vol-norm-2</td>\n",
       "      <td>2022-04-23 07:48:45.882994</td>\n",
       "      <td>0.067</td>\n",
       "      <td>0.0</td>\n",
       "      <td>[[4f27ce5de30b5dbb727c1b2601211b1e7a7bc4b1ceb3...</td>\n",
       "      <td>{'total_time': 8.640500783920288, 'execution_t...</td>\n",
       "      <td>0.000000</td>\n",
       "    </tr>\n",
       "    <tr>\n",
       "      <th>1</th>\n",
       "      <td>d09ba621-c763-4504-a393-1665f56a9669</td>\n",
       "      <td>20220422-batt-icsd-vol-norm-2</td>\n",
       "      <td>2022-04-23 07:48:45.893185</td>\n",
       "      <td>0.263</td>\n",
       "      <td>1.0</td>\n",
       "      <td>[[4f27ce5de30b5dbb727c1b2601211b1e7a7bc4b1ceb3...</td>\n",
       "      <td>{'total_time': 8.583186388015747, 'execution_t...</td>\n",
       "      <td>0.000003</td>\n",
       "    </tr>\n",
       "  </tbody>\n",
       "</table>\n",
       "</div>"
      ],
      "text/plain": [
       "                                     id                         run_id  \\\n",
       "0  11cf6b02-ee4f-489f-8318-4990c8cfbb85  20220422-batt-icsd-vol-norm-2   \n",
       "1  d09ba621-c763-4504-a393-1665f56a9669  20220422-batt-icsd-vol-norm-2   \n",
       "\n",
       "                        time  raw_reward  scaled_reward  \\\n",
       "0 2022-04-23 07:48:45.882994       0.067            0.0   \n",
       "1 2022-04-23 07:48:45.893185       0.263            1.0   \n",
       "\n",
       "                                   search_statistics  \\\n",
       "0  [[4f27ce5de30b5dbb727c1b2601211b1e7a7bc4b1ceb3...   \n",
       "1  [[4f27ce5de30b5dbb727c1b2601211b1e7a7bc4b1ceb3...   \n",
       "\n",
       "                                execution_statistics  time_hours  \n",
       "0  {'total_time': 8.640500783920288, 'execution_t...    0.000000  \n",
       "1  {'total_time': 8.583186388015747, 'execution_t...    0.000003  "
      ]
     },
     "execution_count": 24,
     "metadata": {},
     "output_type": "execute_result"
    }
   ],
   "source": [
    "# plot the hull energy by the predicted energy\n",
    "df_games.head(2)"
   ]
  },
  {
   "cell_type": "code",
   "execution_count": 25,
   "metadata": {},
   "outputs": [
    {
     "data": {
      "text/html": [
       "<div>\n",
       "<style scoped>\n",
       "    .dataframe tbody tr th:only-of-type {\n",
       "        vertical-align: middle;\n",
       "    }\n",
       "\n",
       "    .dataframe tbody tr th {\n",
       "        vertical-align: top;\n",
       "    }\n",
       "\n",
       "    .dataframe thead th {\n",
       "        text-align: right;\n",
       "    }\n",
       "</style>\n",
       "<table border=\"1\" class=\"dataframe\">\n",
       "  <thead>\n",
       "    <tr style=\"text-align: right;\">\n",
       "      <th></th>\n",
       "      <th>digest</th>\n",
       "      <th>hash</th>\n",
       "      <th>run_id</th>\n",
       "      <th>time</th>\n",
       "      <th>reward</th>\n",
       "      <th>data</th>\n",
       "    </tr>\n",
       "  </thead>\n",
       "  <tbody>\n",
       "    <tr>\n",
       "      <th>122061</th>\n",
       "      <td>36d22a812d52708cc535666c806a40237bc7f26f9f846f...</td>\n",
       "      <td>8394969624402074818</td>\n",
       "      <td>20220422-batt-icsd-vol-norm-2</td>\n",
       "      <td>2022-04-23 08:30:31.061436</td>\n",
       "      <td>5.555</td>\n",
       "      <td>{'terminal': True, 'predicted_energy': -8.6870...</td>\n",
       "    </tr>\n",
       "    <tr>\n",
       "      <th>292165</th>\n",
       "      <td>d484257b1d92e7b86f00472a2cb39297428d6e02e51d5f...</td>\n",
       "      <td>440404501447798281</td>\n",
       "      <td>20220422-batt-icsd-vol-norm-2</td>\n",
       "      <td>2022-04-23 09:22:40.840474</td>\n",
       "      <td>5.533</td>\n",
       "      <td>{'terminal': True, 'predicted_energy': -8.5820...</td>\n",
       "    </tr>\n",
       "  </tbody>\n",
       "</table>\n",
       "</div>"
      ],
      "text/plain": [
       "                                                   digest  \\\n",
       "122061  36d22a812d52708cc535666c806a40237bc7f26f9f846f...   \n",
       "292165  d484257b1d92e7b86f00472a2cb39297428d6e02e51d5f...   \n",
       "\n",
       "                       hash                         run_id  \\\n",
       "122061  8394969624402074818  20220422-batt-icsd-vol-norm-2   \n",
       "292165   440404501447798281  20220422-batt-icsd-vol-norm-2   \n",
       "\n",
       "                             time  reward  \\\n",
       "122061 2022-04-23 08:30:31.061436   5.555   \n",
       "292165 2022-04-23 09:22:40.840474   5.533   \n",
       "\n",
       "                                                     data  \n",
       "122061  {'terminal': True, 'predicted_energy': -8.6870...  \n",
       "292165  {'terminal': True, 'predicted_energy': -8.5820...  "
      ]
     },
     "execution_count": 25,
     "metadata": {},
     "output_type": "execute_result"
    }
   ],
   "source": [
    "df_rew.head(2)"
   ]
  },
  {
   "cell_type": "code",
   "execution_count": 26,
   "metadata": {},
   "outputs": [
    {
     "data": {
      "text/plain": [
       "677439"
      ]
     },
     "execution_count": 26,
     "metadata": {},
     "output_type": "execute_result"
    }
   ],
   "source": [
    "len(df_rew)"
   ]
  },
  {
   "cell_type": "code",
   "execution_count": 177,
   "metadata": {},
   "outputs": [
    {
     "name": "stdout",
     "output_type": "stream",
     "text": [
      "20220422-batt-icsd-volpred-Li: 127576 rewards\n",
      "20220422-batt-icsd-volpred-Li: 2892 decorations, 182 compositions\n",
      "20220422-batt-icsd-volpred-Li-debug: 58348 rewards\n",
      "20220422-batt-icsd-volpred-Li-debug: 1596 decorations, 118 compositions\n"
     ]
    },
    {
     "data": {
      "text/html": [
       "<div>\n",
       "<style scoped>\n",
       "    .dataframe tbody tr th:only-of-type {\n",
       "        vertical-align: middle;\n",
       "    }\n",
       "\n",
       "    .dataframe tbody tr th {\n",
       "        vertical-align: top;\n",
       "    }\n",
       "\n",
       "    .dataframe thead th {\n",
       "        text-align: right;\n",
       "    }\n",
       "</style>\n",
       "<table border=\"1\" class=\"dataframe\">\n",
       "  <thead>\n",
       "    <tr style=\"text-align: right;\">\n",
       "      <th></th>\n",
       "      <th>decor_id</th>\n",
       "      <th>reward</th>\n",
       "      <th>pred_decomp_energy</th>\n",
       "      <th>pred_energyperatom</th>\n",
       "      <th>comp</th>\n",
       "      <th>run_id</th>\n",
       "    </tr>\n",
       "  </thead>\n",
       "  <tbody>\n",
       "    <tr>\n",
       "      <th>0</th>\n",
       "      <td>Li2Ge1F1Cl5|_1_1_2_5|hexagonal|POSCAR_sg194_ic...</td>\n",
       "      <td>3.945</td>\n",
       "      <td>-3.945</td>\n",
       "      <td>-7.688665</td>\n",
       "      <td>Li2Ge1F1Cl5</td>\n",
       "      <td>20220422-batt-icsd-volpred-Li</td>\n",
       "    </tr>\n",
       "    <tr>\n",
       "      <th>1</th>\n",
       "      <td>Li2Ge1F1Cl5|_1_1_2_5|hexagonal|POSCAR_sg194_ic...</td>\n",
       "      <td>3.883</td>\n",
       "      <td>-3.883</td>\n",
       "      <td>-7.627611</td>\n",
       "      <td>Li2Ge1F1Cl5</td>\n",
       "      <td>20220422-batt-icsd-volpred-Li</td>\n",
       "    </tr>\n",
       "  </tbody>\n",
       "</table>\n",
       "</div>"
      ],
      "text/plain": [
       "                                            decor_id  reward  \\\n",
       "0  Li2Ge1F1Cl5|_1_1_2_5|hexagonal|POSCAR_sg194_ic...   3.945   \n",
       "1  Li2Ge1F1Cl5|_1_1_2_5|hexagonal|POSCAR_sg194_ic...   3.883   \n",
       "\n",
       "   pred_decomp_energy  pred_energyperatom         comp  \\\n",
       "0              -3.945           -7.688665  Li2Ge1F1Cl5   \n",
       "1              -3.883           -7.627611  Li2Ge1F1Cl5   \n",
       "\n",
       "                          run_id  \n",
       "0  20220422-batt-icsd-volpred-Li  \n",
       "1  20220422-batt-icsd-volpred-Li  "
      ]
     },
     "execution_count": 177,
     "metadata": {},
     "output_type": "execute_result"
    }
   ],
   "source": [
    "# compare the decorations common for different runs\n",
    "stats = {}\n",
    "df_all = pd.DataFrame()\n",
    "rew_cutoff = 2\n",
    "for run_id in [\n",
    "    # \"20220422-batt-icsd-vol-2-Li\",\n",
    "    \"20220422-batt-icsd-volpred-Li\",\n",
    "    \"20220422-batt-icsd-volpred-Li-debug\",\n",
    "    ]:\n",
    "    df_rew = load_rewards(session, run_id)\n",
    "    print(f\"{run_id}: {len(df_rew)} rewards\")\n",
    "    # df_games, df_rew = main_results(run_id, session)\n",
    "    top_rew = df_rew[df_rew['reward'] > rew_cutoff]\n",
    "    best_crystal_states = {}\n",
    "    for rew, data in top_rew[['reward', 'data']].values:\n",
    "        best_crystal_states[data['state_repr']] = (\n",
    "            rew, data['hull_energy'], \n",
    "            data['predicted_energy'])\n",
    "    best_crys_comp = [s.split('|')[0] for s in best_crystal_states]\n",
    "    S = pd.Series(list(best_crys_comp))\n",
    "    comp_counts = S.value_counts()\n",
    "\n",
    "    num_decors = df_rew[df_rew['reward'] > rew_cutoff]['data'].apply(lambda x: x['state_repr']).nunique()\n",
    "    print(f\"{run_id}: {num_decors} decorations, {len(comp_counts)} compositions\")\n",
    "    stats[run_id] = (len(best_crystal_states), len(comp_counts))\n",
    "    \n",
    "    df = pd.DataFrame(best_crystal_states).T.reset_index()\n",
    "    df.columns = ['decor_id', 'reward', 'pred_decomp_energy', 'pred_energyperatom']\n",
    "    df['comp'] = df.decor_id.apply(lambda x: x.split('|')[0])\n",
    "    df['run_id'] = run_id\n",
    "    df_all = pd.concat([df_all, df])\n",
    "df_all.reset_index(drop=True, inplace=True)\n",
    "df_all.head(2)"
   ]
  },
  {
   "cell_type": "code",
   "execution_count": 178,
   "metadata": {},
   "outputs": [
    {
     "name": "stdout",
     "output_type": "stream",
     "text": [
      "1204\n",
      "89\n"
     ]
    }
   ],
   "source": [
    "states1 = set(df_all[df_all.run_id == \"20220422-batt-icsd-volpred-Li\"].decor_id)\n",
    "states2 = set(df_all[df_all.run_id == \"20220422-batt-icsd-volpred-Li-debug\"].decor_id)\n",
    "print(len(states1 & states2))\n",
    "states1 = set(df_all[df_all.run_id == \"20220422-batt-icsd-volpred-Li\"].comp)\n",
    "states2 = set(df_all[df_all.run_id == \"20220422-batt-icsd-volpred-Li-debug\"].comp)\n",
    "print(len(states1 & states2))"
   ]
  },
  {
   "cell_type": "code",
   "execution_count": null,
   "metadata": {},
   "outputs": [],
   "source": []
  },
  {
   "cell_type": "code",
   "execution_count": null,
   "metadata": {},
   "outputs": [],
   "source": []
  }
 ],
 "metadata": {
  "kernelspec": {
   "display_name": "Python 3 (ipykernel)",
   "language": "python",
   "name": "python3"
  },
  "language_info": {
   "codemirror_mode": {
    "name": "ipython",
    "version": 3
   },
   "file_extension": ".py",
   "mimetype": "text/x-python",
   "name": "python",
   "nbconvert_exporter": "python",
   "pygments_lexer": "ipython3",
   "version": "3.8.12"
  }
 },
 "nbformat": 4,
 "nbformat_minor": 4
}
