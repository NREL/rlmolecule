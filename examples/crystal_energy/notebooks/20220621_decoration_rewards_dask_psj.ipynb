{
 "cells": [
  {
   "cell_type": "code",
   "execution_count": 1,
   "id": "3a3d0284-e356-4fc9-adc2-92de622ae1ec",
   "metadata": {},
   "outputs": [
    {
     "name": "stderr",
     "output_type": "stream",
     "text": [
      "/home/pstjohn/mambaforge/envs/rlmol/lib/python3.8/site-packages/dask_jobqueue/core.py:20: FutureWarning: tmpfile is deprecated and will be removed in a future release. Please use dask.utils.tmpfile instead.\n",
      "  from distributed.utils import tmpfile\n",
      "2022-06-22 09:40:00.465996: W tensorflow/stream_executor/platform/default/dso_loader.cc:64] Could not load dynamic library 'libcudart.so.11.0'; dlerror: libcudart.so.11.0: cannot open shared object file: No such file or directory; LD_LIBRARY_PATH: /nopt/slurm/current/lib:/nopt/slurm/current/lib::/home/pstjohn/lib:/home/pstjohn/lib\n",
      "2022-06-22 09:40:00.466035: I tensorflow/stream_executor/cuda/cudart_stub.cc:29] Ignore above cudart dlerror if you do not have a GPU set up on your machine.\n"
     ]
    }
   ],
   "source": [
    "import glob\n",
    "import logging\n",
    "from contextlib import contextmanager\n",
    "from pathlib import Path\n",
    "\n",
    "import dask.dataframe as dd\n",
    "import numpy as np\n",
    "import pandas as pd\n",
    "import tensorflow as tf\n",
    "from dask.distributed import Client\n",
    "from dask_jobqueue import SLURMCluster\n",
    "from pymatgen.core import Structure\n",
    "from tqdm.notebook import tqdm\n",
    "\n",
    "tqdm.pandas()\n",
    "logger = logging.getLogger()"
   ]
  },
  {
   "cell_type": "code",
   "execution_count": 2,
   "id": "6d7b1f36-d29f-4073-a3be-458c29192d45",
   "metadata": {},
   "outputs": [
    {
     "data": {
      "text/plain": [
       "'/home/pstjohn/Research/rlmolecule/examples/crystal_energy'"
      ]
     },
     "execution_count": 2,
     "metadata": {},
     "output_type": "execute_result"
    }
   ],
   "source": [
    "import os\n",
    "\n",
    "os.chdir(\"../\")\n",
    "os.getcwd()"
   ]
  },
  {
   "cell_type": "code",
   "execution_count": 3,
   "id": "3b66feba-082a-4ee8-981d-ed5d739d17fc",
   "metadata": {},
   "outputs": [],
   "source": [
    "import sys\n",
    "\n",
    "sys.path.insert(0, \"../../\")"
   ]
  },
  {
   "cell_type": "code",
   "execution_count": 4,
   "id": "b1361e18-b571-49dd-83ea-d756915d89a0",
   "metadata": {},
   "outputs": [
    {
     "name": "stderr",
     "output_type": "stream",
     "text": [
      "INFO:rdkit:Enabling RDKit 2022.03.3 jupyter extensions\n"
     ]
    }
   ],
   "source": [
    "from rlmolecule.sql.run_config import RunConfig\n",
    "from scripts import compute_reward_decors as rew_decors"
   ]
  },
  {
   "cell_type": "code",
   "execution_count": 5,
   "id": "0bed1139-a3b0-4817-ad10-85df7273b921",
   "metadata": {},
   "outputs": [
    {
     "name": "stdout",
     "output_type": "stream",
     "text": [
      "24 actions_to_ignore\n"
     ]
    }
   ],
   "source": [
    "config_file = \"config/20220617_lt15stoich_battclust0_01/r_90.yaml\"\n",
    "energy_model_file = (\n",
    "    \"/projects/rlmolecule/pstjohn/models/20220607_icsd_and_battery/best_model.hdf5\"\n",
    ")\n",
    "\n",
    "run_config = RunConfig(config_file)"
   ]
  },
  {
   "cell_type": "code",
   "execution_count": 6,
   "id": "906f58ea-1eac-4b1c-8d69-9057fbe639db",
   "metadata": {},
   "outputs": [
    {
     "name": "stdout",
     "output_type": "stream",
     "text": [
      "4197573 states read from /projects/rlmolecule/jlaw/logs/crystal_energy/20220617-batt-icsd-vol-r90-2/states_seen.csv.gz\n",
      "4177129 states read from /projects/rlmolecule/jlaw/logs/crystal_energy/20220617-batt-icsd-vol-r90-no-cond-ion-2/states_seen.csv.gz\n",
      "3381483 states read from /projects/rlmolecule/jlaw/logs/crystal_energy/20220617-batt-icsd-vol-r90-no-halides-2/states_seen.csv.gz\n",
      "6578563 total\n"
     ]
    }
   ],
   "source": [
    "# load the decoration IDs that have already been computed\n",
    "strc_ids_files = [\n",
    "    \"/projects/rlmolecule/jlaw/logs/crystal_energy/20220617-batt-icsd-vol-r90-2/states_seen.csv.gz\",\n",
    "    \"/projects/rlmolecule/jlaw/logs/crystal_energy/20220617-batt-icsd-vol-r90-no-cond-ion-2/states_seen.csv.gz\",\n",
    "    \"/projects/rlmolecule/jlaw/logs/crystal_energy/20220617-batt-icsd-vol-r90-no-halides-2/states_seen.csv.gz\",\n",
    "]\n",
    "\n",
    "states_seen = set()\n",
    "for strc_ids_file in strc_ids_files:\n",
    "    states = set(pd.read_csv(strc_ids_file)[\"states\"])\n",
    "    states_seen.update(states)\n",
    "    print(f\"{len(states)} states read from {strc_ids_file}\")\n",
    "print(f\"{len(states_seen)} total\")"
   ]
  },
  {
   "cell_type": "code",
   "execution_count": 7,
   "id": "8761a7cb-a006-4051-84b7-155825787077",
   "metadata": {},
   "outputs": [
    {
     "name": "stdout",
     "output_type": "stream",
     "text": [
      "\t12682 lines\n",
      "  sortedformula   icsdnum  energyperatom reduced_composition\n",
      "0    Ag10Br3Te4  173116.0      -1.718985          Ag10Br3Te4\n",
      "1   Ag11K1O16V4  391344.0      -4.797702         Ag11K1O16V4\n"
     ]
    },
    {
     "name": "stderr",
     "output_type": "stream",
     "text": [
      "INFO:scripts.compute_reward_decors:reading ../../rlmolecule/crystal/inputs/icsd_train_and_proto_max_comp_atoms15/KLiNa_add_clust0_01_min10prototypes.json.gz\n"
     ]
    },
    {
     "name": "stdout",
     "output_type": "stream",
     "text": [
      "\t12682 entries\n"
     ]
    },
    {
     "name": "stderr",
     "output_type": "stream",
     "text": [
      "INFO:scripts.compute_reward_decors:\t14494 structures read\n"
     ]
    }
   ],
   "source": [
    "competing_phases = rew_decors.load_competing_phases(\"inputs/competing_phases.csv\")\n",
    "\n",
    "# load the icsd prototype structures\n",
    "prob_config = run_config.problem_config\n",
    "prototypes_file = prob_config[\"prototypes_file\"]\n",
    "prototype_structures = rew_decors.read_structures_file(prototypes_file)\n",
    "# make sure the prototype structures don't have oxidation states\n",
    "from pymatgen.transformations.standard_transformations import (\n",
    "    OxidationStateRemovalTransformation,\n",
    ")\n",
    "\n",
    "oxidation_remover = OxidationStateRemovalTransformation()\n",
    "prototype_structures = {\n",
    "    s_id: oxidation_remover.apply_transformation(s)\n",
    "    for s_id, s in prototype_structures.items()\n",
    "}\n",
    "\n",
    "preprocessor = rew_decors.AtomicNumberPreprocessor()\n",
    "# energy_model = rew_decors.load_model(energy_model_file)"
   ]
  },
  {
   "cell_type": "markdown",
   "id": "0cc7fbbc-3354-4a02-8b12-7e88bcb636ce",
   "metadata": {},
   "source": [
    "### Generate all possible decoration IDs"
   ]
  },
  {
   "cell_type": "code",
   "execution_count": 8,
   "id": "f8aa5d46-8338-4721-9a03-a4592b4a79e5",
   "metadata": {},
   "outputs": [
    {
     "name": "stdout",
     "output_type": "stream",
     "text": [
      "Read G1: ../../rlmolecule/crystal/inputs/icsd_train_and_proto_max_comp_atoms15/KLiNa_add_clust0_01_min10eles_to_comps.edgelist.gz (236167 nodes, 250002 edges)\n",
      "Read G2: ../../rlmolecule/crystal/inputs/icsd_train_and_proto_max_comp_atoms15/KLiNa_add_clust0_01_min10comp_type_to_decors.edgelist.gz (49108 nodes, 48931 edges)\n",
      "24 and 0 actions to ignore in G and G2, respectively\n"
     ]
    },
    {
     "data": {
      "application/vnd.jupyter.widget-view+json": {
       "model_id": "b7e15d46038841b6997b4fdb6657a753",
       "version_major": 2,
       "version_minor": 0
      },
      "text/plain": [
       "  0%|          | 0/15000000 [00:00<?, ?it/s]"
      ]
     },
     "metadata": {},
     "output_type": "display_data"
    }
   ],
   "source": [
    "from rlmolecule.crystal.crystal_reward import CrystalStateReward\n",
    "\n",
    "rewarder = CrystalStateReward(\n",
    "    competing_phases, prototype_structures, None, preprocessor\n",
    ")\n",
    "\n",
    "# generate all the decoration IDs\n",
    "prob_config = run_config.problem_config\n",
    "builder = rew_decors.CrystalBuilder(\n",
    "    G=prob_config.get(\"action_graph1\"),\n",
    "    G2=prob_config.get(\"action_graph2\"),\n",
    "    actions_to_ignore=prob_config.get(\"actions_to_ignore\"),\n",
    ")\n",
    "\n",
    "gen_decors = rew_decors.GenerateDecorations(builder)\n",
    "decor_ids = gen_decors.generate_all_decorations()\n",
    "decor_ids = set(decor_ids)"
   ]
  },
  {
   "cell_type": "code",
   "execution_count": 9,
   "id": "1e815dbb-8183-4094-997e-76ad9d72eef1",
   "metadata": {},
   "outputs": [
    {
     "name": "stdout",
     "output_type": "stream",
     "text": [
      "7704569 new decorations\n"
     ]
    }
   ],
   "source": [
    "new_decors = decor_ids - states_seen\n",
    "print(f\"{len(new_decors)} new decorations\")"
   ]
  },
  {
   "cell_type": "markdown",
   "id": "79ba6257-99fa-4c75-9946-19f4facbdf21",
   "metadata": {},
   "source": [
    "## Compute the reward for each decoration"
   ]
  },
  {
   "cell_type": "markdown",
   "id": "d6ba4eb9-20de-4018-b042-eb0ccbafbce3",
   "metadata": {},
   "source": [
    "### Example for a few structures"
   ]
  },
  {
   "cell_type": "code",
   "execution_count": 10,
   "id": "e8f90c37-6ccc-47db-85a4-bc1dd2118cfd",
   "metadata": {},
   "outputs": [
    {
     "name": "stdout",
     "output_type": "stream",
     "text": [
      "                                         decor_id\n",
      "0  Na1Zr1O1P1|_1_1_1_1|orthorhombic|icsd_028355|7\n",
      "1  K2Ti1Hg2S5|_1_2_2_5|orthorhombic|icsd_422825|1\n"
     ]
    }
   ],
   "source": [
    "# test on a couple decoration ids\n",
    "# decoration_rewards = rew_decors.compute_rewards(list(decor_ids)[:10], rewarder, info_to_keep=info_to_keep)\n",
    "df_ids = pd.DataFrame(list(decor_ids), columns=[\"decor_id\"])\n",
    "print(df_ids.head(2))"
   ]
  },
  {
   "cell_type": "code",
   "execution_count": 11,
   "id": "70fca2d2-2559-4f58-b14d-ea151c51af3b",
   "metadata": {},
   "outputs": [],
   "source": [
    "# df_ids.to_parquet('/projects/rlmolecule/pstjohn/crystal_dask/20220622_decorations.parquet')"
   ]
  },
  {
   "cell_type": "code",
   "execution_count": 12,
   "id": "d0ff1e59-039d-4279-b5f6-9b0592f2854b",
   "metadata": {},
   "outputs": [],
   "source": [
    "decor_id = df_ids.iloc[0].decor_id"
   ]
  },
  {
   "cell_type": "code",
   "execution_count": 13,
   "id": "f212ed80-265f-4e45-8988-a91f1ce1a927",
   "metadata": {},
   "outputs": [],
   "source": [
    "from rlmolecule.crystal.crystal_state import CrystalState\n",
    "\n",
    "\n",
    "def create_structure(decor_id):\n",
    "    comp = decor_id.split(\"|\")[0]\n",
    "    action_node = \"|\".join(decor_id.split(\"|\")[1:])\n",
    "    state = CrystalState(action_node, composition=comp, terminal=True)\n",
    "    structure = rewarder.generate_structure(state)\n",
    "    return structure"
   ]
  },
  {
   "cell_type": "code",
   "execution_count": 24,
   "id": "1ba788cd-8bce-41e0-8574-9dfe46984290",
   "metadata": {},
   "outputs": [
    {
     "name": "stdout",
     "output_type": "stream",
     "text": [
      "\t12682 lines\n",
      "  sortedformula   icsdnum  energyperatom reduced_composition\n",
      "0    Ag10Br3Te4  173116.0      -1.718985          Ag10Br3Te4\n",
      "1   Ag11K1O16V4  391344.0      -4.797702         Ag11K1O16V4\n",
      "\t12682 entries\n",
      "Reading /projects/rlmolecule/pstjohn/models/20220607_icsd_and_battery/best_model.hdf5\n"
     ]
    },
    {
     "name": "stderr",
     "output_type": "stream",
     "text": [
      "INFO:scripts.compute_reward_decors:reading ../../rlmolecule/crystal/inputs/icsd_train_and_proto_max_comp_atoms15/KLiNa_add_clust0_01_min10prototypes.json.gz\n",
      "INFO:scripts.compute_reward_decors:\t14494 structures read\n"
     ]
    },
    {
     "name": "stdout",
     "output_type": "stream",
     "text": [
      "Reading /projects/rlmolecule/pstjohn/models/20220607_icsd_and_battery/best_model.hdf5\n"
     ]
    }
   ],
   "source": [
    "def load_rewarder():\n",
    "    competing_phases = rew_decors.load_competing_phases(\"inputs/competing_phases.csv\")\n",
    "    energy_model_file = (\n",
    "        \"/projects/rlmolecule/pstjohn/models/20220607_icsd_and_battery/best_model.hdf5\"\n",
    "    )\n",
    "    energy_model = rew_decors.load_model(energy_model_file)\n",
    "\n",
    "    # load the icsd prototype structures\n",
    "    prob_config = run_config.problem_config\n",
    "    prototypes_file = prob_config[\"prototypes_file\"]\n",
    "    prototype_structures = rew_decors.read_structures_file(prototypes_file)\n",
    "    # make sure the prototype structures don't have oxidation states\n",
    "    from pymatgen.transformations.standard_transformations import (\n",
    "        OxidationStateRemovalTransformation,\n",
    "    )\n",
    "\n",
    "    oxidation_remover = OxidationStateRemovalTransformation()\n",
    "    prototype_structures = {\n",
    "        s_id: oxidation_remover.apply_transformation(s)\n",
    "        for s_id, s in prototype_structures.items()\n",
    "    }\n",
    "\n",
    "    preprocessor = rew_decors.AtomicNumberPreprocessor()\n",
    "    energy_model = rew_decors.load_model(energy_model_file)\n",
    "\n",
    "    rewarder = rew_decors.CrystalStateReward(\n",
    "        competing_phases, prototype_structures, energy_model, preprocessor\n",
    "    )\n",
    "    return rewarder\n",
    "\n",
    "\n",
    "test_rewarder = load_rewarder()"
   ]
  },
  {
   "cell_type": "code",
   "execution_count": 25,
   "id": "22e201f7-8594-4441-8b96-0e685bdb0c47",
   "metadata": {},
   "outputs": [
    {
     "data": {
      "application/vnd.jupyter.widget-view+json": {
       "model_id": "597c7decb5434705b9285fed96122d7e",
       "version_major": 2,
       "version_minor": 0
      },
      "text/plain": [
       "  0%|          | 0/10 [00:00<?, ?it/s]"
      ]
     },
     "metadata": {},
     "output_type": "display_data"
    }
   ],
   "source": [
    "info_to_keep = [\n",
    "    \"predicted_energy\",\n",
    "    \"decomp_energy\",\n",
    "    \"cond_ion_frac\",\n",
    "    \"reduction\",\n",
    "    \"oxidation\",\n",
    "    \"stability_window\",\n",
    "]\n",
    "\n",
    "decoration_rewards = df_ids.head(10).decor_id.progress_apply(\n",
    "    lambda x: rew_decors.compute_reward(\n",
    "        x,\n",
    "        test_rewarder,\n",
    "        info_to_keep=info_to_keep,\n",
    "    )\n",
    ")\n",
    "\n",
    "cols = [\"id\", \"reward\"] + info_to_keep\n",
    "\n",
    "results = {}\n",
    "for i, col in enumerate(cols):\n",
    "    results[col] = decoration_rewards.map(lambda x: x[i] if i < len(x) else np.nan)\n",
    "\n",
    "test_results = pd.DataFrame(results)"
   ]
  },
  {
   "cell_type": "code",
   "execution_count": 36,
   "id": "93ccb499-a15a-45c2-8fd4-e1cd77c2a0d7",
   "metadata": {},
   "outputs": [],
   "source": [
    "from contextlib import contextmanager\n",
    "\n",
    "import dask.dataframe as dd\n",
    "from dask.distributed import Client\n",
    "from dask_jobqueue import SLURMCluster\n",
    "\n",
    "n_nodes = 10\n",
    "\n",
    "\n",
    "@contextmanager\n",
    "def dask_cluster():\n",
    "\n",
    "    n_processes = 36  # number of processes to run on each node\n",
    "    memory = 90000  # to fit on a standard node; ask for 184,000 for a bigmem node\n",
    "\n",
    "    cluster = SLURMCluster(\n",
    "        project=\"rlmolecule\",\n",
    "        walltime=\"180\",  # 30 minutes to fit in the debug queue; 180 to fit in short\n",
    "        job_mem=str(memory),\n",
    "        job_cpu=36,\n",
    "        interface=\"ib0\",\n",
    "        local_directory=\"/tmp/scratch/dask-worker-space\",\n",
    "        cores=36,\n",
    "        processes=n_processes,\n",
    "        memory=\"{}MB\".format(memory),\n",
    "        extra=[\"--lifetime-stagger\", \"60m\"],\n",
    "        # job_extra=[\"--partition debug\"],\n",
    "    )\n",
    "\n",
    "    print(cluster.job_script())\n",
    "\n",
    "    client = Client(cluster)\n",
    "    cluster.scale(n_processes * n_nodes)\n",
    "\n",
    "    try:\n",
    "        yield client, cluster\n",
    "\n",
    "    finally:\n",
    "        cluster.close()\n",
    "        client.close()"
   ]
  },
  {
   "cell_type": "code",
   "execution_count": null,
   "id": "c4e21fb2-ca85-48cc-b1bb-9659132fd8d4",
   "metadata": {},
   "outputs": [
    {
     "name": "stdout",
     "output_type": "stream",
     "text": [
      "#!/usr/bin/env bash\n",
      "\n",
      "#SBATCH -J dask-worker\n",
      "#SBATCH -A rlmolecule\n",
      "#SBATCH -n 1\n",
      "#SBATCH --cpus-per-task=36\n",
      "#SBATCH --mem=90000\n",
      "#SBATCH -t 180\n",
      "\n",
      "/home/pstjohn/mambaforge/envs/rlmol/bin/python -m distributed.cli.dask_worker tcp://10.148.7.241:41040 --nthreads 1 --nprocs 36 --memory-limit 2.33GiB --name dummy-name --nanny --death-timeout 60 --local-directory /tmp/scratch/dask-worker-space --lifetime-stagger 60m --interface ib0 --protocol tcp://\n",
      "\n"
     ]
    }
   ],
   "source": [
    "def batch_calc_rewards(x):\n",
    "\n",
    "    rewarder = load_rewarder()\n",
    "\n",
    "    info_to_keep = [\n",
    "        \"predicted_energy\",\n",
    "        \"decomp_energy\",\n",
    "        \"cond_ion_frac\",\n",
    "        \"reduction\",\n",
    "        \"oxidation\",\n",
    "        \"stability_window\",\n",
    "    ]\n",
    "\n",
    "    decoration_rewards = x.apply(\n",
    "        lambda x: rew_decors.compute_reward(\n",
    "            x,\n",
    "            rewarder,\n",
    "            info_to_keep=info_to_keep,\n",
    "        )\n",
    "    )\n",
    "\n",
    "    cols = [\"id\", \"reward\"] + info_to_keep\n",
    "\n",
    "    results = {}\n",
    "    for i, col in enumerate(cols):\n",
    "        results[col] = decoration_rewards.map(lambda x: x[i] if i < len(x) else np.nan)\n",
    "\n",
    "    results = pd.DataFrame(results)\n",
    "    return results\n",
    "\n",
    "\n",
    "df_dask = dd.from_pandas(df_ids, npartitions=(n_nodes * 36)//5)\n",
    "results = df_dask.decor_id.map_partitions(\n",
    "    batch_calc_rewards,\n",
    "    meta=test_results,\n",
    ")\n",
    "\n",
    "with dask_cluster():\n",
    "    finished = results.compute()\n",
    "\n",
    "\n",
    "# df_ids[\"structure\"] = finished\n",
    "# df_ids.to_parquet(\n",
    "#     \"/projects/rlmolecule/pstjohn/crystal_dask/20220622_decorated_structures.parquet\"\n",
    "# )"
   ]
  },
  {
   "cell_type": "code",
   "execution_count": 34,
   "id": "b2f1ea30-f53a-4e42-9162-d4e3edac0eef",
   "metadata": {},
   "outputs": [
    {
     "data": {
      "text/html": [
       "<div>\n",
       "<style scoped>\n",
       "    .dataframe tbody tr th:only-of-type {\n",
       "        vertical-align: middle;\n",
       "    }\n",
       "\n",
       "    .dataframe tbody tr th {\n",
       "        vertical-align: top;\n",
       "    }\n",
       "\n",
       "    .dataframe thead th {\n",
       "        text-align: right;\n",
       "    }\n",
       "</style>\n",
       "<table border=\"1\" class=\"dataframe\">\n",
       "  <thead>\n",
       "    <tr style=\"text-align: right;\">\n",
       "      <th></th>\n",
       "      <th>id</th>\n",
       "      <th>reward</th>\n",
       "      <th>predicted_energy</th>\n",
       "      <th>decomp_energy</th>\n",
       "      <th>cond_ion_frac</th>\n",
       "      <th>reduction</th>\n",
       "      <th>oxidation</th>\n",
       "      <th>stability_window</th>\n",
       "    </tr>\n",
       "  </thead>\n",
       "  <tbody>\n",
       "    <tr>\n",
       "      <th>0</th>\n",
       "      <td>Na1Zr1O1P1|_1_1_1_1|orthorhombic|icsd_028355|7</td>\n",
       "      <td>0.036</td>\n",
       "      <td>-1.354</td>\n",
       "      <td>4.984</td>\n",
       "      <td>0.250</td>\n",
       "      <td>NaN</td>\n",
       "      <td>NaN</td>\n",
       "      <td>NaN</td>\n",
       "    </tr>\n",
       "    <tr>\n",
       "      <th>1</th>\n",
       "      <td>K2Ti1Hg2S5|_1_2_2_5|orthorhombic|icsd_422825|1</td>\n",
       "      <td>0.054</td>\n",
       "      <td>0.752</td>\n",
       "      <td>4.534</td>\n",
       "      <td>0.200</td>\n",
       "      <td>NaN</td>\n",
       "      <td>NaN</td>\n",
       "      <td>NaN</td>\n",
       "    </tr>\n",
       "    <tr>\n",
       "      <th>2</th>\n",
       "      <td>K3Cl1S1|_1_1_3|trigonal|icsd_038068|1</td>\n",
       "      <td>0.332</td>\n",
       "      <td>-1.252</td>\n",
       "      <td>2.025</td>\n",
       "      <td>0.600</td>\n",
       "      <td>NaN</td>\n",
       "      <td>NaN</td>\n",
       "      <td>NaN</td>\n",
       "    </tr>\n",
       "    <tr>\n",
       "      <th>3</th>\n",
       "      <td>Li1Zn1Sn2Br7O2|_1_1_2_2_7|orthorhombic|icsd_07...</td>\n",
       "      <td>0.236</td>\n",
       "      <td>-2.663</td>\n",
       "      <td>0.938</td>\n",
       "      <td>0.077</td>\n",
       "      <td>NaN</td>\n",
       "      <td>NaN</td>\n",
       "      <td>NaN</td>\n",
       "    </tr>\n",
       "    <tr>\n",
       "      <th>4</th>\n",
       "      <td>Li1Hf2B3O9|_1_2_3_9|trigonal|icsd_202666|1</td>\n",
       "      <td>0.194</td>\n",
       "      <td>-6.735</td>\n",
       "      <td>1.677</td>\n",
       "      <td>0.067</td>\n",
       "      <td>NaN</td>\n",
       "      <td>NaN</td>\n",
       "      <td>NaN</td>\n",
       "    </tr>\n",
       "    <tr>\n",
       "      <th>...</th>\n",
       "      <td>...</td>\n",
       "      <td>...</td>\n",
       "      <td>...</td>\n",
       "      <td>...</td>\n",
       "      <td>...</td>\n",
       "      <td>...</td>\n",
       "      <td>...</td>\n",
       "      <td>...</td>\n",
       "    </tr>\n",
       "    <tr>\n",
       "      <th>95</th>\n",
       "      <td>Na1Cd1B1O3|_1_1_1_3|orthorhombic|icsd_422802|6</td>\n",
       "      <td>0.149</td>\n",
       "      <td>-3.062</td>\n",
       "      <td>2.739</td>\n",
       "      <td>0.167</td>\n",
       "      <td>NaN</td>\n",
       "      <td>NaN</td>\n",
       "      <td>NaN</td>\n",
       "    </tr>\n",
       "    <tr>\n",
       "      <th>96</th>\n",
       "      <td>Li2Hf1Ge1F4Br6|_1_1_2_4_6|orthorhombic|icsd_24...</td>\n",
       "      <td>0.195</td>\n",
       "      <td>-2.608</td>\n",
       "      <td>1.851</td>\n",
       "      <td>0.143</td>\n",
       "      <td>NaN</td>\n",
       "      <td>NaN</td>\n",
       "      <td>NaN</td>\n",
       "    </tr>\n",
       "    <tr>\n",
       "      <th>97</th>\n",
       "      <td>Li1Cd1Hg3S3N1|_1_1_1_3_3|orthorhombic|icsd_416...</td>\n",
       "      <td>0.094</td>\n",
       "      <td>0.484</td>\n",
       "      <td>3.578</td>\n",
       "      <td>0.111</td>\n",
       "      <td>NaN</td>\n",
       "      <td>NaN</td>\n",
       "      <td>NaN</td>\n",
       "    </tr>\n",
       "    <tr>\n",
       "      <th>98</th>\n",
       "      <td>Na1La1Hf1S4|_1_1_1_4|orthorhombic|icsd_097767|4</td>\n",
       "      <td>0.245</td>\n",
       "      <td>-5.079</td>\n",
       "      <td>0.954</td>\n",
       "      <td>0.143</td>\n",
       "      <td>NaN</td>\n",
       "      <td>NaN</td>\n",
       "      <td>NaN</td>\n",
       "    </tr>\n",
       "    <tr>\n",
       "      <th>99</th>\n",
       "      <td>K1Zn1Sb1Br5P1|_1_1_1_1_5|monoclinic|icsd_166586|3</td>\n",
       "      <td>0.234</td>\n",
       "      <td>-2.045</td>\n",
       "      <td>1.060</td>\n",
       "      <td>0.111</td>\n",
       "      <td>NaN</td>\n",
       "      <td>NaN</td>\n",
       "      <td>NaN</td>\n",
       "    </tr>\n",
       "  </tbody>\n",
       "</table>\n",
       "<p>100 rows × 8 columns</p>\n",
       "</div>"
      ],
      "text/plain": [
       "                                                   id  reward  \\\n",
       "0      Na1Zr1O1P1|_1_1_1_1|orthorhombic|icsd_028355|7   0.036   \n",
       "1      K2Ti1Hg2S5|_1_2_2_5|orthorhombic|icsd_422825|1   0.054   \n",
       "2               K3Cl1S1|_1_1_3|trigonal|icsd_038068|1   0.332   \n",
       "3   Li1Zn1Sn2Br7O2|_1_1_2_2_7|orthorhombic|icsd_07...   0.236   \n",
       "4          Li1Hf2B3O9|_1_2_3_9|trigonal|icsd_202666|1   0.194   \n",
       "..                                                ...     ...   \n",
       "95     Na1Cd1B1O3|_1_1_1_3|orthorhombic|icsd_422802|6   0.149   \n",
       "96  Li2Hf1Ge1F4Br6|_1_1_2_4_6|orthorhombic|icsd_24...   0.195   \n",
       "97  Li1Cd1Hg3S3N1|_1_1_1_3_3|orthorhombic|icsd_416...   0.094   \n",
       "98    Na1La1Hf1S4|_1_1_1_4|orthorhombic|icsd_097767|4   0.245   \n",
       "99  K1Zn1Sb1Br5P1|_1_1_1_1_5|monoclinic|icsd_166586|3   0.234   \n",
       "\n",
       "    predicted_energy  decomp_energy  cond_ion_frac  reduction  oxidation  \\\n",
       "0             -1.354          4.984          0.250        NaN        NaN   \n",
       "1              0.752          4.534          0.200        NaN        NaN   \n",
       "2             -1.252          2.025          0.600        NaN        NaN   \n",
       "3             -2.663          0.938          0.077        NaN        NaN   \n",
       "4             -6.735          1.677          0.067        NaN        NaN   \n",
       "..               ...            ...            ...        ...        ...   \n",
       "95            -3.062          2.739          0.167        NaN        NaN   \n",
       "96            -2.608          1.851          0.143        NaN        NaN   \n",
       "97             0.484          3.578          0.111        NaN        NaN   \n",
       "98            -5.079          0.954          0.143        NaN        NaN   \n",
       "99            -2.045          1.060          0.111        NaN        NaN   \n",
       "\n",
       "    stability_window  \n",
       "0                NaN  \n",
       "1                NaN  \n",
       "2                NaN  \n",
       "3                NaN  \n",
       "4                NaN  \n",
       "..               ...  \n",
       "95               NaN  \n",
       "96               NaN  \n",
       "97               NaN  \n",
       "98               NaN  \n",
       "99               NaN  \n",
       "\n",
       "[100 rows x 8 columns]"
      ]
     },
     "execution_count": 34,
     "metadata": {},
     "output_type": "execute_result"
    }
   ],
   "source": [
    "finished"
   ]
  },
  {
   "cell_type": "code",
   "execution_count": null,
   "id": "a192b819-bc5a-4f7d-961c-8eaf318cd177",
   "metadata": {},
   "outputs": [],
   "source": []
  }
 ],
 "metadata": {
  "kernelspec": {
   "display_name": "Python 3 (ipykernel)",
   "language": "python",
   "name": "python3"
  },
  "language_info": {
   "codemirror_mode": {
    "name": "ipython",
    "version": 3
   },
   "file_extension": ".py",
   "mimetype": "text/x-python",
   "name": "python",
   "nbconvert_exporter": "python",
   "pygments_lexer": "ipython3",
   "version": "3.8.12"
  }
 },
 "nbformat": 4,
 "nbformat_minor": 5
}
