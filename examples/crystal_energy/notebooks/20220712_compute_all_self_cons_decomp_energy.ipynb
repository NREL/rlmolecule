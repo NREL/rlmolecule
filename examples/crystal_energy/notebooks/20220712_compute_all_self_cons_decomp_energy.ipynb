{
 "cells": [
  {
   "cell_type": "code",
   "execution_count": 1,
   "id": "0a4aa494-580b-49e7-8f0e-3cb46f12c79e",
   "metadata": {},
   "outputs": [],
   "source": [
    "import os\n",
    "import sys\n",
    "import numpy as np\n",
    "# import psycopg2\n",
    "import sqlalchemy\n",
    "from tqdm.notebook import tqdm\n",
    "tqdm.pandas()\n",
    "import pandas as pd\n",
    "from collections import defaultdict\n",
    "from collections import Counter\n",
    "\n",
    "import matplotlib.pyplot as plt\n",
    "import seaborn as sns\n",
    "sns.set(\n",
    "    context='paper',\n",
    "    font_scale=8/8.8,\n",
    "#     context=\"talk\",\n",
    "    style='ticks',\n",
    "    color_codes=True,\n",
    "    rc={'legend.frameon': False})\n",
    "\n",
    "plt.rcParams['svg.fonttype'] = 'none'\n",
    "\n",
    "%matplotlib inline"
   ]
  },
  {
   "cell_type": "code",
   "execution_count": 2,
   "id": "dc4607be-a5d1-4900-b466-ebf7f925ae2b",
   "metadata": {},
   "outputs": [
    {
     "name": "stdout",
     "output_type": "stream",
     "text": [
      "1.22.3\n",
      "1.4.2\n"
     ]
    }
   ],
   "source": [
    "print(np.__version__)\n",
    "print(pd.__version__)"
   ]
  },
  {
   "cell_type": "code",
   "execution_count": 3,
   "id": "621f83b0-b79c-4aa3-a092-e2c9a0e7a3b7",
   "metadata": {},
   "outputs": [],
   "source": [
    "from pymatgen.core import Composition\n",
    "from pymatgen.analysis.phase_diagram import PhaseDiagram, PDEntry"
   ]
  },
  {
   "cell_type": "code",
   "execution_count": 4,
   "id": "7e55e47c-29fc-420d-9f0f-e2053e0e69aa",
   "metadata": {},
   "outputs": [],
   "source": [
    "os.chdir('../')"
   ]
  },
  {
   "cell_type": "code",
   "execution_count": 5,
   "id": "630c5514-9aca-4c65-9f59-0df708837968",
   "metadata": {},
   "outputs": [
    {
     "name": "stdout",
     "output_type": "stream",
     "text": [
      "/home/jlaw/projects/arpa-e/crystals/rlmolecule/examples/crystal_energy\n"
     ]
    },
    {
     "name": "stderr",
     "output_type": "stream",
     "text": [
      "2022-07-12 13:21:32.335028: W tensorflow/stream_executor/platform/default/dso_loader.cc:64] Could not load dynamic library 'libcudart.so.11.0'; dlerror: libcudart.so.11.0: cannot open shared object file: No such file or directory; LD_LIBRARY_PATH: /nopt/slurm/current/lib:\n",
      "2022-07-12 13:21:32.335061: I tensorflow/stream_executor/cuda/cudart_stub.cc:29] Ignore above cudart dlerror if you do not have a GPU set up on your machine.\n",
      "INFO:rdkit:Enabling RDKit 2022.03.2 jupyter extensions\n"
     ]
    }
   ],
   "source": [
    "print(os.getcwd())\n",
    "sys.path.append('../../')\n",
    "import rlmolecule\n",
    "from rlmolecule.sql.run_config import RunConfig\n",
    "from rlmolecule.sql import Base, Session\n",
    "from rlmolecule.sql.tables import GameStore, RewardStore, StateStore\n",
    "from rlmolecule.crystal.crystal_state import CrystalState\n",
    "from rlmolecule.crystal.crystal_reward import StructureRewardBattInterface\n",
    "from rlmolecule.crystal import ehull\n",
    "from rlmolecule.crystal.ehull import fere_entries"
   ]
  },
  {
   "cell_type": "markdown",
   "id": "1ab19a7e-7ff8-401c-a7bb-088c9be13ccb",
   "metadata": {},
   "source": [
    "## Compute the self-consistent decomposition energy for all 14.3M decorations\n",
    "1. Get the lowest predicted energy for all 200K compositions\n",
    "2. Use those + ICSD to build the updated competing phases \n",
    "3. Recompute the reward for all decorations"
   ]
  },
  {
   "cell_type": "code",
   "execution_count": 7,
   "id": "3aca1712-1e04-40d4-94f9-a401bd619aba",
   "metadata": {},
   "outputs": [
    {
     "name": "stdout",
     "output_type": "stream",
     "text": [
      "14277451\n"
     ]
    },
    {
     "data": {
      "text/html": [
       "<div>\n",
       "<style scoped>\n",
       "    .dataframe tbody tr th:only-of-type {\n",
       "        vertical-align: middle;\n",
       "    }\n",
       "\n",
       "    .dataframe tbody tr th {\n",
       "        vertical-align: top;\n",
       "    }\n",
       "\n",
       "    .dataframe thead th {\n",
       "        text-align: right;\n",
       "    }\n",
       "</style>\n",
       "<table border=\"1\" class=\"dataframe\">\n",
       "  <thead>\n",
       "    <tr style=\"text-align: right;\">\n",
       "      <th></th>\n",
       "      <th>id</th>\n",
       "      <th>comp</th>\n",
       "      <th>reward</th>\n",
       "      <th>predicted_energy</th>\n",
       "      <th>decomp_energy</th>\n",
       "      <th>cond_ion_frac</th>\n",
       "      <th>reduction</th>\n",
       "      <th>oxidation</th>\n",
       "      <th>stability_window</th>\n",
       "    </tr>\n",
       "  </thead>\n",
       "  <tbody>\n",
       "    <tr>\n",
       "      <th>0</th>\n",
       "      <td>Li1Ti2Ge1Cl1N4_icsd_419182_4</td>\n",
       "      <td>Li1Ti2Ge1Cl1N4</td>\n",
       "      <td>0.015</td>\n",
       "      <td>0.299</td>\n",
       "      <td>7.325</td>\n",
       "      <td>0.111</td>\n",
       "      <td>NaN</td>\n",
       "      <td>NaN</td>\n",
       "      <td>NaN</td>\n",
       "    </tr>\n",
       "    <tr>\n",
       "      <th>1</th>\n",
       "      <td>Li1La1Sb1I3O3_icsd_171662_12</td>\n",
       "      <td>Li1La1Sb1I3O3</td>\n",
       "      <td>0.036</td>\n",
       "      <td>-0.391</td>\n",
       "      <td>4.621</td>\n",
       "      <td>0.111</td>\n",
       "      <td>NaN</td>\n",
       "      <td>NaN</td>\n",
       "      <td>NaN</td>\n",
       "    </tr>\n",
       "  </tbody>\n",
       "</table>\n",
       "</div>"
      ],
      "text/plain": [
       "                             id            comp  reward  predicted_energy  \\\n",
       "0  Li1Ti2Ge1Cl1N4_icsd_419182_4  Li1Ti2Ge1Cl1N4   0.015             0.299   \n",
       "1  Li1La1Sb1I3O3_icsd_171662_12   Li1La1Sb1I3O3   0.036            -0.391   \n",
       "\n",
       "   decomp_energy  cond_ion_frac  reduction  oxidation  stability_window  \n",
       "0          7.325          0.111        NaN        NaN               NaN  \n",
       "1          4.621          0.111        NaN        NaN               NaN  "
      ]
     },
     "execution_count": 7,
     "metadata": {},
     "output_type": "execute_result"
    }
   ],
   "source": [
    "all_decors_file = \"/projects/rlmolecule/jlaw/crystal_outputs/2022-07-05/all_decor_rewards.csv.gz\"\n",
    "data = pd.read_csv(all_decors_file)\n",
    "print(len(data))\n",
    "data.head(2)"
   ]
  },
  {
   "cell_type": "code",
   "execution_count": 8,
   "id": "27ee85a7-dd9f-4443-9c12-102f604d3da8",
   "metadata": {},
   "outputs": [],
   "source": [
    "# get the structure with the lowest predicted total energy per composition\n",
    "data_comp = data.sort_values('predicted_energy').groupby('comp').agg({'id': 'first'})"
   ]
  },
  {
   "cell_type": "code",
   "execution_count": 9,
   "id": "87c925d2-2817-4bad-ba0c-7e27f12cf0da",
   "metadata": {},
   "outputs": [
    {
     "name": "stdout",
     "output_type": "stream",
     "text": [
      "220824\n"
     ]
    },
    {
     "data": {
      "text/html": [
       "<div>\n",
       "<style scoped>\n",
       "    .dataframe tbody tr th:only-of-type {\n",
       "        vertical-align: middle;\n",
       "    }\n",
       "\n",
       "    .dataframe tbody tr th {\n",
       "        vertical-align: top;\n",
       "    }\n",
       "\n",
       "    .dataframe thead th {\n",
       "        text-align: right;\n",
       "    }\n",
       "</style>\n",
       "<table border=\"1\" class=\"dataframe\">\n",
       "  <thead>\n",
       "    <tr style=\"text-align: right;\">\n",
       "      <th></th>\n",
       "      <th>id</th>\n",
       "      <th>comp</th>\n",
       "      <th>reward</th>\n",
       "      <th>predicted_energy</th>\n",
       "      <th>decomp_energy</th>\n",
       "      <th>cond_ion_frac</th>\n",
       "      <th>reduction</th>\n",
       "      <th>oxidation</th>\n",
       "      <th>stability_window</th>\n",
       "    </tr>\n",
       "  </thead>\n",
       "  <tbody>\n",
       "    <tr>\n",
       "      <th>74</th>\n",
       "      <td>Li2W1Zn1Br2I8_icsd_408052_1</td>\n",
       "      <td>Li2W1Zn1Br2I8</td>\n",
       "      <td>0.257</td>\n",
       "      <td>-2.055</td>\n",
       "      <td>0.726</td>\n",
       "      <td>0.143</td>\n",
       "      <td>NaN</td>\n",
       "      <td>NaN</td>\n",
       "      <td>NaN</td>\n",
       "    </tr>\n",
       "    <tr>\n",
       "      <th>146</th>\n",
       "      <td>Li4Cd1Al2O4S2_icsd_413705_4</td>\n",
       "      <td>Li4Cd1Al2O4S2</td>\n",
       "      <td>0.209</td>\n",
       "      <td>-2.595</td>\n",
       "      <td>2.782</td>\n",
       "      <td>0.308</td>\n",
       "      <td>NaN</td>\n",
       "      <td>NaN</td>\n",
       "      <td>NaN</td>\n",
       "    </tr>\n",
       "  </tbody>\n",
       "</table>\n",
       "</div>"
      ],
      "text/plain": [
       "                              id           comp  reward  predicted_energy  \\\n",
       "74   Li2W1Zn1Br2I8_icsd_408052_1  Li2W1Zn1Br2I8   0.257            -2.055   \n",
       "146  Li4Cd1Al2O4S2_icsd_413705_4  Li4Cd1Al2O4S2   0.209            -2.595   \n",
       "\n",
       "     decomp_energy  cond_ion_frac  reduction  oxidation  stability_window  \n",
       "74           0.726          0.143        NaN        NaN               NaN  \n",
       "146          2.782          0.308        NaN        NaN               NaN  "
      ]
     },
     "execution_count": 9,
     "metadata": {},
     "output_type": "execute_result"
    }
   ],
   "source": [
    "data_best = data[data.id.isin(data_comp.id)]\n",
    "print(len(data_best))\n",
    "data_best.head(2)"
   ]
  },
  {
   "cell_type": "code",
   "execution_count": 10,
   "id": "a31a7071-7ab3-4176-98e7-5addc0c7ec45",
   "metadata": {},
   "outputs": [
    {
     "data": {
      "text/plain": [
       "<AxesSubplot:>"
      ]
     },
     "execution_count": 10,
     "metadata": {},
     "output_type": "execute_result"
    },
    {
     "data": {
      "image/png": "[encoded data removed]",
      "text/plain": [
       "<Figure size 432x288 with 1 Axes>"
      ]
     },
     "metadata": {
      "needs_background": "light"
     },
     "output_type": "display_data"
    }
   ],
   "source": [
    "data_best.decomp_energy.hist(bins=30)"
   ]
  },
  {
   "cell_type": "code",
   "execution_count": 11,
   "id": "8c32ba15-5384-4b70-ab6f-438eafae0147",
   "metadata": {},
   "outputs": [],
   "source": [
    "def setup_competing_phases(competing_phases_files):\n",
    "    if not isinstance(competing_phases_files, list):\n",
    "        competing_phases_files = [competing_phases_files]\n",
    "    all_competing_phases = [load_competing_phases(f) for f in competing_phases_files]\n",
    "\n",
    "    # also add the individual elements\n",
    "    competing_phases = pd.concat([pd.Series(fere_entries)] + all_competing_phases).reset_index()[0]\n",
    "    return competing_phases\n",
    "\n",
    "\n",
    "def load_competing_phases(competing_phases_file):\n",
    "    print(f\"Reading {competing_phases_file}\")\n",
    "    df = pd.read_csv(competing_phases_file)\n",
    "    print(f\"\\t{len(df)} lines\")\n",
    "    print(df.head(2))\n",
    "\n",
    "    assert ('sortedformula' in df.columns or 'comp' in df.columns) \\\n",
    "        and ('energyperatom' in df.columns or 'predicted_energy' in df.columns)\n",
    "    if 'sortedformula' not in df.columns:\n",
    "        df.rename(columns={'comp': 'sortedformula'}, inplace=True)\n",
    "    if 'energyperatom' not in df.columns:\n",
    "        df.rename(columns={'predicted_energy': 'energyperatom'}, inplace=True)\n",
    "    print(\"columns after renaming:\", df.columns)\n",
    "\n",
    "    df['energy'] = (\n",
    "        df.energyperatom *\n",
    "        df.sortedformula.apply(lambda x: Composition(x).num_atoms)\n",
    "    )\n",
    "    # convert the dataframe to a list of PDEntries used to create the convex hull\n",
    "    pd_entries = df.apply(\n",
    "        lambda row: PDEntry(Composition(row.sortedformula),\n",
    "                            row.energy),\n",
    "        axis=1\n",
    "    )\n",
    "    print(f\"\\t{len(pd_entries)} entries\")\n",
    "    return pd_entries"
   ]
  },
  {
   "cell_type": "code",
   "execution_count": 12,
   "id": "6bc0e260-28f8-4e6a-8804-1e1a7aad0861",
   "metadata": {},
   "outputs": [
    {
     "name": "stdout",
     "output_type": "stream",
     "text": [
      "Reading /projects/rlmolecule/jlaw/rlmolecule/examples/crystal_energy/inputs/competing_phases.csv\n",
      "\t12682 lines\n",
      "  sortedformula   icsdnum  energyperatom reduced_composition\n",
      "0    Ag10Br3Te4  173116.0      -1.718985          Ag10Br3Te4\n",
      "1   Ag11K1O16V4  391344.0      -4.797702         Ag11K1O16V4\n",
      "columns after renaming: Index(['sortedformula', 'icsdnum', 'energyperatom', 'reduced_composition'], dtype='object')\n",
      "\t12682 entries\n"
     ]
    }
   ],
   "source": [
    "competing_phases_file = \"/projects/rlmolecule/jlaw/rlmolecule/examples/crystal_energy/inputs/competing_phases.csv\"\n",
    "competing_phases = setup_competing_phases(competing_phases_file)"
   ]
  },
  {
   "cell_type": "code",
   "execution_count": 13,
   "id": "37a35ded-a75b-4f34-bba0-8a7db09ad13f",
   "metadata": {},
   "outputs": [
    {
     "name": "stdout",
     "output_type": "stream",
     "text": [
      "[PDEntry : Li2 W1 Zn1 Br2 I8 with energy = -28.7700, PDEntry : Li4 Cd1 Al2 O4 S2 with energy = -33.7350]\n",
      "233564\n"
     ]
    }
   ],
   "source": [
    "# now include the predicted energies in the convex hull \n",
    "def make_pd_entry(row):\n",
    "    comp = Composition(row.comp)\n",
    "    energy = row.predicted_energy * comp.num_atoms\n",
    "    return PDEntry(comp, energy)\n",
    "\n",
    "pred_competing_phases = list(data_best.apply(make_pd_entry, axis=1))\n",
    "print(pred_competing_phases[:2])\n",
    "merged_competing_phases = list(competing_phases) + pred_competing_phases\n",
    "print(len(merged_competing_phases))"
   ]
  },
  {
   "cell_type": "code",
   "execution_count": 14,
   "id": "98f2106e-f5b3-4025-98c6-b6bed0e6cd40",
   "metadata": {},
   "outputs": [
    {
     "data": {
      "application/vnd.jupyter.widget-view+json": {
       "model_id": "43049911c89e4fe682cddfad78200047",
       "version_major": 2,
       "version_minor": 0
      },
      "text/plain": [
       "  0%|          | 0/14277451 [00:00<?, ?it/s]"
      ]
     },
     "metadata": {},
     "output_type": "display_data"
    },
    {
     "ename": "KeyboardInterrupt",
     "evalue": "",
     "output_type": "error",
     "traceback": [
      "\u001b[0;31m---------------------------------------------------------------------------\u001b[0m",
      "\u001b[0;31mKeyboardInterrupt\u001b[0m                         Traceback (most recent call last)",
      "Input \u001b[0;32mIn [14]\u001b[0m, in \u001b[0;36m<cell line: 11>\u001b[0;34m()\u001b[0m\n\u001b[1;32m      6\u001b[0m     \u001b[38;5;28;01mreturn\u001b[39;00m info\n\u001b[1;32m      9\u001b[0m rewarder \u001b[38;5;241m=\u001b[39m StructureRewardBattInterface(merged_competing_phases)\n\u001b[0;32m---> 11\u001b[0m new_data \u001b[38;5;241m=\u001b[39m \u001b[43mdata\u001b[49m\u001b[38;5;241;43m.\u001b[39;49m\u001b[43mprogress_apply\u001b[49m\u001b[43m(\u001b[49m\u001b[43mcompute_reward\u001b[49m\u001b[43m,\u001b[49m\u001b[43m \u001b[49m\u001b[43maxis\u001b[49m\u001b[38;5;241;43m=\u001b[39;49m\u001b[38;5;241;43m1\u001b[39;49m\u001b[43m)\u001b[49m\n\u001b[1;32m     12\u001b[0m \u001b[38;5;28mlist\u001b[39m(new_data\u001b[38;5;241m.\u001b[39mitems())[:\u001b[38;5;241m2\u001b[39m]\n",
      "File \u001b[0;32m~/.conda-envs/crystals_nfp0_3/lib/python3.8/site-packages/tqdm/std.py:814\u001b[0m, in \u001b[0;36mtqdm.pandas.<locals>.inner_generator.<locals>.inner\u001b[0;34m(df, func, *args, **kwargs)\u001b[0m\n\u001b[1;32m    811\u001b[0m \u001b[38;5;66;03m# Apply the provided function (in **kwargs)\u001b[39;00m\n\u001b[1;32m    812\u001b[0m \u001b[38;5;66;03m# on the df using our wrapper (which provides bar updating)\u001b[39;00m\n\u001b[1;32m    813\u001b[0m \u001b[38;5;28;01mtry\u001b[39;00m:\n\u001b[0;32m--> 814\u001b[0m     \u001b[38;5;28;01mreturn\u001b[39;00m \u001b[38;5;28;43mgetattr\u001b[39;49m\u001b[43m(\u001b[49m\u001b[43mdf\u001b[49m\u001b[43m,\u001b[49m\u001b[43m \u001b[49m\u001b[43mdf_function\u001b[49m\u001b[43m)\u001b[49m\u001b[43m(\u001b[49m\u001b[43mwrapper\u001b[49m\u001b[43m,\u001b[49m\u001b[43m \u001b[49m\u001b[38;5;241;43m*\u001b[39;49m\u001b[38;5;241;43m*\u001b[39;49m\u001b[43mkwargs\u001b[49m\u001b[43m)\u001b[49m\n\u001b[1;32m    815\u001b[0m \u001b[38;5;28;01mfinally\u001b[39;00m:\n\u001b[1;32m    816\u001b[0m     t\u001b[38;5;241m.\u001b[39mclose()\n",
      "File \u001b[0;32m~/.conda-envs/crystals_nfp0_3/lib/python3.8/site-packages/pandas/core/frame.py:8839\u001b[0m, in \u001b[0;36mDataFrame.apply\u001b[0;34m(self, func, axis, raw, result_type, args, **kwargs)\u001b[0m\n\u001b[1;32m   8828\u001b[0m \u001b[38;5;28;01mfrom\u001b[39;00m \u001b[38;5;21;01mpandas\u001b[39;00m\u001b[38;5;21;01m.\u001b[39;00m\u001b[38;5;21;01mcore\u001b[39;00m\u001b[38;5;21;01m.\u001b[39;00m\u001b[38;5;21;01mapply\u001b[39;00m \u001b[38;5;28;01mimport\u001b[39;00m frame_apply\n\u001b[1;32m   8830\u001b[0m op \u001b[38;5;241m=\u001b[39m frame_apply(\n\u001b[1;32m   8831\u001b[0m     \u001b[38;5;28mself\u001b[39m,\n\u001b[1;32m   8832\u001b[0m     func\u001b[38;5;241m=\u001b[39mfunc,\n\u001b[0;32m   (...)\u001b[0m\n\u001b[1;32m   8837\u001b[0m     kwargs\u001b[38;5;241m=\u001b[39mkwargs,\n\u001b[1;32m   8838\u001b[0m )\n\u001b[0;32m-> 8839\u001b[0m \u001b[38;5;28;01mreturn\u001b[39;00m \u001b[43mop\u001b[49m\u001b[38;5;241;43m.\u001b[39;49m\u001b[43mapply\u001b[49m\u001b[43m(\u001b[49m\u001b[43m)\u001b[49m\u001b[38;5;241m.\u001b[39m__finalize__(\u001b[38;5;28mself\u001b[39m, method\u001b[38;5;241m=\u001b[39m\u001b[38;5;124m\"\u001b[39m\u001b[38;5;124mapply\u001b[39m\u001b[38;5;124m\"\u001b[39m)\n",
      "File \u001b[0;32m~/.conda-envs/crystals_nfp0_3/lib/python3.8/site-packages/pandas/core/apply.py:727\u001b[0m, in \u001b[0;36mFrameApply.apply\u001b[0;34m(self)\u001b[0m\n\u001b[1;32m    724\u001b[0m \u001b[38;5;28;01melif\u001b[39;00m \u001b[38;5;28mself\u001b[39m\u001b[38;5;241m.\u001b[39mraw:\n\u001b[1;32m    725\u001b[0m     \u001b[38;5;28;01mreturn\u001b[39;00m \u001b[38;5;28mself\u001b[39m\u001b[38;5;241m.\u001b[39mapply_raw()\n\u001b[0;32m--> 727\u001b[0m \u001b[38;5;28;01mreturn\u001b[39;00m \u001b[38;5;28;43mself\u001b[39;49m\u001b[38;5;241;43m.\u001b[39;49m\u001b[43mapply_standard\u001b[49m\u001b[43m(\u001b[49m\u001b[43m)\u001b[49m\n",
      "File \u001b[0;32m~/.conda-envs/crystals_nfp0_3/lib/python3.8/site-packages/pandas/core/apply.py:851\u001b[0m, in \u001b[0;36mFrameApply.apply_standard\u001b[0;34m(self)\u001b[0m\n\u001b[1;32m    850\u001b[0m \u001b[38;5;28;01mdef\u001b[39;00m \u001b[38;5;21mapply_standard\u001b[39m(\u001b[38;5;28mself\u001b[39m):\n\u001b[0;32m--> 851\u001b[0m     results, res_index \u001b[38;5;241m=\u001b[39m \u001b[38;5;28;43mself\u001b[39;49m\u001b[38;5;241;43m.\u001b[39;49m\u001b[43mapply_series_generator\u001b[49m\u001b[43m(\u001b[49m\u001b[43m)\u001b[49m\n\u001b[1;32m    853\u001b[0m     \u001b[38;5;66;03m# wrap results\u001b[39;00m\n\u001b[1;32m    854\u001b[0m     \u001b[38;5;28;01mreturn\u001b[39;00m \u001b[38;5;28mself\u001b[39m\u001b[38;5;241m.\u001b[39mwrap_results(results, res_index)\n",
      "File \u001b[0;32m~/.conda-envs/crystals_nfp0_3/lib/python3.8/site-packages/pandas/core/apply.py:867\u001b[0m, in \u001b[0;36mFrameApply.apply_series_generator\u001b[0;34m(self)\u001b[0m\n\u001b[1;32m    864\u001b[0m \u001b[38;5;28;01mwith\u001b[39;00m option_context(\u001b[38;5;124m\"\u001b[39m\u001b[38;5;124mmode.chained_assignment\u001b[39m\u001b[38;5;124m\"\u001b[39m, \u001b[38;5;28;01mNone\u001b[39;00m):\n\u001b[1;32m    865\u001b[0m     \u001b[38;5;28;01mfor\u001b[39;00m i, v \u001b[38;5;129;01min\u001b[39;00m \u001b[38;5;28menumerate\u001b[39m(series_gen):\n\u001b[1;32m    866\u001b[0m         \u001b[38;5;66;03m# ignore SettingWithCopy here in case the user mutates\u001b[39;00m\n\u001b[0;32m--> 867\u001b[0m         results[i] \u001b[38;5;241m=\u001b[39m \u001b[38;5;28;43mself\u001b[39;49m\u001b[38;5;241;43m.\u001b[39;49m\u001b[43mf\u001b[49m\u001b[43m(\u001b[49m\u001b[43mv\u001b[49m\u001b[43m)\u001b[49m\n\u001b[1;32m    868\u001b[0m         \u001b[38;5;28;01mif\u001b[39;00m \u001b[38;5;28misinstance\u001b[39m(results[i], ABCSeries):\n\u001b[1;32m    869\u001b[0m             \u001b[38;5;66;03m# If we have a view on v, we need to make a copy because\u001b[39;00m\n\u001b[1;32m    870\u001b[0m             \u001b[38;5;66;03m#  series_generator will swap out the underlying data\u001b[39;00m\n\u001b[1;32m    871\u001b[0m             results[i] \u001b[38;5;241m=\u001b[39m results[i]\u001b[38;5;241m.\u001b[39mcopy(deep\u001b[38;5;241m=\u001b[39m\u001b[38;5;28;01mFalse\u001b[39;00m)\n",
      "File \u001b[0;32m~/.conda-envs/crystals_nfp0_3/lib/python3.8/site-packages/tqdm/std.py:809\u001b[0m, in \u001b[0;36mtqdm.pandas.<locals>.inner_generator.<locals>.inner.<locals>.wrapper\u001b[0;34m(*args, **kwargs)\u001b[0m\n\u001b[1;32m    803\u001b[0m \u001b[38;5;28;01mdef\u001b[39;00m \u001b[38;5;21mwrapper\u001b[39m(\u001b[38;5;241m*\u001b[39margs, \u001b[38;5;241m*\u001b[39m\u001b[38;5;241m*\u001b[39mkwargs):\n\u001b[1;32m    804\u001b[0m     \u001b[38;5;66;03m# update tbar correctly\u001b[39;00m\n\u001b[1;32m    805\u001b[0m     \u001b[38;5;66;03m# it seems `pandas apply` calls `func` twice\u001b[39;00m\n\u001b[1;32m    806\u001b[0m     \u001b[38;5;66;03m# on the first column/row to decide whether it can\u001b[39;00m\n\u001b[1;32m    807\u001b[0m     \u001b[38;5;66;03m# take a fast or slow code path; so stop when t.total==t.n\u001b[39;00m\n\u001b[1;32m    808\u001b[0m     t\u001b[38;5;241m.\u001b[39mupdate(n\u001b[38;5;241m=\u001b[39m\u001b[38;5;241m1\u001b[39m \u001b[38;5;28;01mif\u001b[39;00m \u001b[38;5;129;01mnot\u001b[39;00m t\u001b[38;5;241m.\u001b[39mtotal \u001b[38;5;129;01mor\u001b[39;00m t\u001b[38;5;241m.\u001b[39mn \u001b[38;5;241m<\u001b[39m t\u001b[38;5;241m.\u001b[39mtotal \u001b[38;5;28;01melse\u001b[39;00m \u001b[38;5;241m0\u001b[39m)\n\u001b[0;32m--> 809\u001b[0m     \u001b[38;5;28;01mreturn\u001b[39;00m \u001b[43mfunc\u001b[49m\u001b[43m(\u001b[49m\u001b[38;5;241;43m*\u001b[39;49m\u001b[43margs\u001b[49m\u001b[43m,\u001b[49m\u001b[43m \u001b[49m\u001b[38;5;241;43m*\u001b[39;49m\u001b[38;5;241;43m*\u001b[39;49m\u001b[43mkwargs\u001b[49m\u001b[43m)\u001b[49m\n",
      "Input \u001b[0;32mIn [14]\u001b[0m, in \u001b[0;36mcompute_reward\u001b[0;34m(row)\u001b[0m\n\u001b[1;32m      2\u001b[0m \u001b[38;5;28;01mdef\u001b[39;00m \u001b[38;5;21mcompute_reward\u001b[39m(row):\n\u001b[0;32m----> 3\u001b[0m     combined_reward, info \u001b[38;5;241m=\u001b[39m \u001b[43mrewarder\u001b[49m\u001b[38;5;241;43m.\u001b[39;49m\u001b[43mcompute_reward\u001b[49m\u001b[43m(\u001b[49m\n\u001b[1;32m      4\u001b[0m \u001b[43m        \u001b[49m\u001b[43mComposition\u001b[49m\u001b[43m(\u001b[49m\u001b[43mrow\u001b[49m\u001b[38;5;241;43m.\u001b[39;49m\u001b[43mcomp\u001b[49m\u001b[43m)\u001b[49m\u001b[43m,\u001b[49m\u001b[43m \u001b[49m\u001b[43mrow\u001b[49m\u001b[38;5;241;43m.\u001b[39;49m\u001b[43mpredicted_energy\u001b[49m\u001b[43m)\u001b[49m\n\u001b[1;32m      5\u001b[0m     info[\u001b[38;5;124m'\u001b[39m\u001b[38;5;124mreward\u001b[39m\u001b[38;5;124m'\u001b[39m] \u001b[38;5;241m=\u001b[39m combined_reward\n\u001b[1;32m      6\u001b[0m     \u001b[38;5;28;01mreturn\u001b[39;00m info\n",
      "File \u001b[0;32m~/projects/arpa-e/crystals/rlmolecule/rlmolecule/crystal/crystal_reward.py:140\u001b[0m, in \u001b[0;36mStructureRewardBattInterface.compute_reward\u001b[0;34m(self, composition, predicted_energy, state)\u001b[0m\n\u001b[1;32m    138\u001b[0m \u001b[38;5;28;01melse\u001b[39;00m:\n\u001b[1;32m    139\u001b[0m     info\u001b[38;5;241m.\u001b[39mupdate({\u001b[38;5;124m'\u001b[39m\u001b[38;5;124mpredicted_energy\u001b[39m\u001b[38;5;124m'\u001b[39m: predicted_energy})\n\u001b[0;32m--> 140\u001b[0m     decomp_energy, stability_window \u001b[38;5;241m=\u001b[39m \u001b[43mehull\u001b[49m\u001b[38;5;241;43m.\u001b[39;49m\u001b[43mconvex_hull_stability\u001b[49m\u001b[43m(\u001b[49m\n\u001b[1;32m    141\u001b[0m \u001b[43m            \u001b[49m\u001b[43mcomposition\u001b[49m\u001b[43m,\u001b[49m\n\u001b[1;32m    142\u001b[0m \u001b[43m            \u001b[49m\u001b[43mpredicted_energy\u001b[49m\u001b[43m,\u001b[49m\n\u001b[1;32m    143\u001b[0m \u001b[43m            \u001b[49m\u001b[38;5;28;43mself\u001b[39;49m\u001b[38;5;241;43m.\u001b[39;49m\u001b[43mcompeting_phases\u001b[49m\u001b[43m,\u001b[49m\n\u001b[1;32m    144\u001b[0m \u001b[43m    \u001b[49m\u001b[43m)\u001b[49m\n\u001b[1;32m    145\u001b[0m     \u001b[38;5;28;01mif\u001b[39;00m decomp_energy \u001b[38;5;129;01mis\u001b[39;00m \u001b[38;5;28;01mNone\u001b[39;00m:\n\u001b[1;32m    146\u001b[0m         \u001b[38;5;66;03m# subtract 1 to the default energy to distinguish between\u001b[39;00m\n\u001b[1;32m    147\u001b[0m         \u001b[38;5;66;03m# failed calculation here, and failing to decorate the structure \u001b[39;00m\n\u001b[1;32m    148\u001b[0m         decomp_energy \u001b[38;5;241m=\u001b[39m \u001b[38;5;28mself\u001b[39m\u001b[38;5;241m.\u001b[39mdefault_decomp_energy \u001b[38;5;241m-\u001b[39m \u001b[38;5;241m1\u001b[39m\n",
      "File \u001b[0;32m~/projects/arpa-e/crystals/rlmolecule/rlmolecule/crystal/ehull.py:58\u001b[0m, in \u001b[0;36mconvex_hull_stability\u001b[0;34m(comp, predicted_energy, competing_phases)\u001b[0m\n\u001b[1;32m     52\u001b[0m elements \u001b[38;5;241m=\u001b[39m \u001b[38;5;28mset\u001b[39m(comp\u001b[38;5;241m.\u001b[39melements)\n\u001b[1;32m     54\u001b[0m \u001b[38;5;66;03m# get the entries that have the same or a subset of elements.\u001b[39;00m\n\u001b[1;32m     55\u001b[0m \u001b[38;5;66;03m# Since we're including DFT relaxed energies in the competing phases,\u001b[39;00m\n\u001b[1;32m     56\u001b[0m \u001b[38;5;66;03m# also don't include entries that match the composition and predicted energy exactly\u001b[39;00m\n\u001b[1;32m     57\u001b[0m \u001b[38;5;66;03m# since we are trying to compute the decomposition energy for that structure\u001b[39;00m\n\u001b[0;32m---> 58\u001b[0m curr_entries \u001b[38;5;241m=\u001b[39m [e \u001b[38;5;28;01mfor\u001b[39;00m e \u001b[38;5;129;01min\u001b[39;00m competing_phases\n\u001b[1;32m     59\u001b[0m                 \u001b[38;5;28;01mif\u001b[39;00m \u001b[38;5;28mlen\u001b[39m(\u001b[38;5;28mset\u001b[39m(e\u001b[38;5;241m.\u001b[39mcomposition\u001b[38;5;241m.\u001b[39melements) \u001b[38;5;241m-\u001b[39m elements) \u001b[38;5;241m==\u001b[39m \u001b[38;5;241m0\u001b[39m\n\u001b[1;32m     60\u001b[0m                 \u001b[38;5;129;01mand\u001b[39;00m e \u001b[38;5;241m!=\u001b[39m entry]\n\u001b[1;32m     61\u001b[0m phase_diagram \u001b[38;5;241m=\u001b[39m PhaseDiagram(curr_entries, elements\u001b[38;5;241m=\u001b[39melements)\n\u001b[1;32m     63\u001b[0m decomp, decomp_energy \u001b[38;5;241m=\u001b[39m phase_diagram\u001b[38;5;241m.\u001b[39mget_decomp_and_e_above_hull(\n\u001b[1;32m     64\u001b[0m     entry,\n\u001b[1;32m     65\u001b[0m     allow_negative\u001b[38;5;241m=\u001b[39m\u001b[38;5;28;01mTrue\u001b[39;00m,\n\u001b[1;32m     66\u001b[0m     \u001b[38;5;66;03m# docs say: \"if you have a huge proportion of unstable entries,\u001b[39;00m\n\u001b[1;32m     67\u001b[0m     \u001b[38;5;66;03m# then this check can slow things down.\"\u001b[39;00m\n\u001b[1;32m     68\u001b[0m     check_stable\u001b[38;5;241m=\u001b[39m\u001b[38;5;28;01mFalse\u001b[39;00m)\n",
      "File \u001b[0;32m~/projects/arpa-e/crystals/rlmolecule/rlmolecule/crystal/ehull.py:59\u001b[0m, in \u001b[0;36m<listcomp>\u001b[0;34m(.0)\u001b[0m\n\u001b[1;32m     52\u001b[0m elements \u001b[38;5;241m=\u001b[39m \u001b[38;5;28mset\u001b[39m(comp\u001b[38;5;241m.\u001b[39melements)\n\u001b[1;32m     54\u001b[0m \u001b[38;5;66;03m# get the entries that have the same or a subset of elements.\u001b[39;00m\n\u001b[1;32m     55\u001b[0m \u001b[38;5;66;03m# Since we're including DFT relaxed energies in the competing phases,\u001b[39;00m\n\u001b[1;32m     56\u001b[0m \u001b[38;5;66;03m# also don't include entries that match the composition and predicted energy exactly\u001b[39;00m\n\u001b[1;32m     57\u001b[0m \u001b[38;5;66;03m# since we are trying to compute the decomposition energy for that structure\u001b[39;00m\n\u001b[1;32m     58\u001b[0m curr_entries \u001b[38;5;241m=\u001b[39m [e \u001b[38;5;28;01mfor\u001b[39;00m e \u001b[38;5;129;01min\u001b[39;00m competing_phases\n\u001b[0;32m---> 59\u001b[0m                 \u001b[38;5;28;01mif\u001b[39;00m \u001b[38;5;28mlen\u001b[39m(\u001b[38;5;28;43mset\u001b[39;49m\u001b[43m(\u001b[49m\u001b[43me\u001b[49m\u001b[38;5;241;43m.\u001b[39;49m\u001b[43mcomposition\u001b[49m\u001b[38;5;241;43m.\u001b[39;49m\u001b[43melements\u001b[49m\u001b[43m)\u001b[49m \u001b[38;5;241m-\u001b[39m elements) \u001b[38;5;241m==\u001b[39m \u001b[38;5;241m0\u001b[39m\n\u001b[1;32m     60\u001b[0m                 \u001b[38;5;129;01mand\u001b[39;00m e \u001b[38;5;241m!=\u001b[39m entry]\n\u001b[1;32m     61\u001b[0m phase_diagram \u001b[38;5;241m=\u001b[39m PhaseDiagram(curr_entries, elements\u001b[38;5;241m=\u001b[39melements)\n\u001b[1;32m     63\u001b[0m decomp, decomp_energy \u001b[38;5;241m=\u001b[39m phase_diagram\u001b[38;5;241m.\u001b[39mget_decomp_and_e_above_hull(\n\u001b[1;32m     64\u001b[0m     entry,\n\u001b[1;32m     65\u001b[0m     allow_negative\u001b[38;5;241m=\u001b[39m\u001b[38;5;28;01mTrue\u001b[39;00m,\n\u001b[1;32m     66\u001b[0m     \u001b[38;5;66;03m# docs say: \"if you have a huge proportion of unstable entries,\u001b[39;00m\n\u001b[1;32m     67\u001b[0m     \u001b[38;5;66;03m# then this check can slow things down.\"\u001b[39;00m\n\u001b[1;32m     68\u001b[0m     check_stable\u001b[38;5;241m=\u001b[39m\u001b[38;5;28;01mFalse\u001b[39;00m)\n",
      "File \u001b[0;32m~/.conda-envs/crystals_nfp0_3/lib/python3.8/site-packages/pymatgen/core/periodic_table.py:562\u001b[0m, in \u001b[0;36mElementBase.__hash__\u001b[0;34m(self)\u001b[0m\n\u001b[1;32m    559\u001b[0m \u001b[38;5;28;01mdef\u001b[39;00m \u001b[38;5;21m__ne__\u001b[39m(\u001b[38;5;28mself\u001b[39m, other):\n\u001b[1;32m    560\u001b[0m     \u001b[38;5;28;01mreturn\u001b[39;00m \u001b[38;5;129;01mnot\u001b[39;00m \u001b[38;5;28mself\u001b[39m\u001b[38;5;241m.\u001b[39m\u001b[38;5;21m__eq__\u001b[39m(other)\n\u001b[0;32m--> 562\u001b[0m \u001b[38;5;28;01mdef\u001b[39;00m \u001b[38;5;21m__hash__\u001b[39m(\u001b[38;5;28mself\u001b[39m):\n\u001b[1;32m    563\u001b[0m     \u001b[38;5;28;01mreturn\u001b[39;00m \u001b[38;5;28mself\u001b[39m\u001b[38;5;241m.\u001b[39mZ\n\u001b[1;32m    565\u001b[0m \u001b[38;5;28;01mdef\u001b[39;00m \u001b[38;5;21m__repr__\u001b[39m(\u001b[38;5;28mself\u001b[39m):\n",
      "\u001b[0;31mKeyboardInterrupt\u001b[0m: "
     ]
    }
   ],
   "source": [
    "# compute the self-consistent decomposition energy\n",
    "def compute_reward(row):\n",
    "    combined_reward, info = rewarder.compute_reward(\n",
    "        Composition(row.comp), row.predicted_energy)\n",
    "    info['reward'] = combined_reward\n",
    "    return info\n",
    "                            \n",
    "\n",
    "rewarder = StructureRewardBattInterface(merged_competing_phases)\n",
    "\n",
    "new_data = data.progress_apply(compute_reward, axis=1)\n",
    "list(new_data.items())[:2]"
   ]
  },
  {
   "cell_type": "markdown",
   "id": "38b8c8f8-fb0b-4fbd-8157-5727854eaa59",
   "metadata": {},
   "source": [
    "#### Computing for all decorations is taking too long. Instead, recompute for only the best candidates "
   ]
  },
  {
   "cell_type": "code",
   "execution_count": 19,
   "id": "88772e51-addd-4f3a-88e9-bd6d04405682",
   "metadata": {},
   "outputs": [
    {
     "name": "stdout",
     "output_type": "stream",
     "text": [
      "2003\n"
     ]
    },
    {
     "data": {
      "text/html": [
       "<div>\n",
       "<style scoped>\n",
       "    .dataframe tbody tr th:only-of-type {\n",
       "        vertical-align: middle;\n",
       "    }\n",
       "\n",
       "    .dataframe tbody tr th {\n",
       "        vertical-align: top;\n",
       "    }\n",
       "\n",
       "    .dataframe thead th {\n",
       "        text-align: right;\n",
       "    }\n",
       "</style>\n",
       "<table border=\"1\" class=\"dataframe\">\n",
       "  <thead>\n",
       "    <tr style=\"text-align: right;\">\n",
       "      <th></th>\n",
       "      <th>decor_id</th>\n",
       "      <th>reward</th>\n",
       "      <th>predicted_energy</th>\n",
       "      <th>decomp_energy</th>\n",
       "      <th>cond_ion_frac</th>\n",
       "      <th>reduction</th>\n",
       "      <th>oxidation</th>\n",
       "      <th>stability_window</th>\n",
       "    </tr>\n",
       "  </thead>\n",
       "  <tbody>\n",
       "    <tr>\n",
       "      <th>0</th>\n",
       "      <td>K3Y1Al1Br9|_1_1_3_9|hexagonal|icsd_039809|2</td>\n",
       "      <td>0.298</td>\n",
       "      <td>-3.460</td>\n",
       "      <td>0.171</td>\n",
       "      <td>0.214</td>\n",
       "      <td>NaN</td>\n",
       "      <td>NaN</td>\n",
       "      <td>NaN</td>\n",
       "    </tr>\n",
       "    <tr>\n",
       "      <th>1</th>\n",
       "      <td>Li1Sc3F8Br2|_1_2_3_8|tetragonal|icsd_067711|1</td>\n",
       "      <td>0.344</td>\n",
       "      <td>-5.484</td>\n",
       "      <td>-0.015</td>\n",
       "      <td>0.071</td>\n",
       "      <td>-5.0</td>\n",
       "      <td>-5.0</td>\n",
       "      <td>0.0</td>\n",
       "    </tr>\n",
       "  </tbody>\n",
       "</table>\n",
       "</div>"
      ],
      "text/plain": [
       "                                        decor_id  reward  predicted_energy  \\\n",
       "0    K3Y1Al1Br9|_1_1_3_9|hexagonal|icsd_039809|2   0.298            -3.460   \n",
       "1  Li1Sc3F8Br2|_1_2_3_8|tetragonal|icsd_067711|1   0.344            -5.484   \n",
       "\n",
       "   decomp_energy  cond_ion_frac  reduction  oxidation  stability_window  \n",
       "0          0.171          0.214        NaN        NaN               NaN  \n",
       "1         -0.015          0.071       -5.0       -5.0               0.0  "
      ]
     },
     "execution_count": 19,
     "metadata": {},
     "output_type": "execute_result"
    }
   ],
   "source": [
    "rewards_file = \"/projects/rlmolecule/jlaw/crystal_outputs/2022-07-05/self_consistent_decomp_energies.csv\"\n",
    "df_best = pd.read_csv(rewards_file)\n",
    "print(len(df))\n",
    "df_best.head(2)"
   ]
  },
  {
   "cell_type": "code",
   "execution_count": 21,
   "id": "2ee614a9-0af2-4754-8b6b-debf9737200b",
   "metadata": {},
   "outputs": [
    {
     "data": {
      "application/vnd.jupyter.widget-view+json": {
       "model_id": "9a0212c49c7a4aaa90f244bde45b4d94",
       "version_major": 2,
       "version_minor": 0
      },
      "text/plain": [
       "  0%|          | 0/2003 [00:00<?, ?it/s]"
      ]
     },
     "metadata": {},
     "output_type": "display_data"
    },
    {
     "data": {
      "text/plain": [
       "[(0,\n",
       "  {'predicted_energy': -3.46,\n",
       "   'decomp_energy': 0.1707,\n",
       "   'cond_ion_frac': 0.2143,\n",
       "   'reward': 0.29805456812419584}),\n",
       " (1,\n",
       "  {'predicted_energy': -5.484,\n",
       "   'oxidation': -5,\n",
       "   'reduction': -5,\n",
       "   'stability_window': 0,\n",
       "   'decomp_energy': -0.0153,\n",
       "   'cond_ion_frac': 0.0714,\n",
       "   'reward': 0.344104187265275})]"
      ]
     },
     "execution_count": 21,
     "metadata": {},
     "output_type": "execute_result"
    }
   ],
   "source": [
    "# compute the self-consistent decomposition energy\n",
    "def compute_reward(row):\n",
    "    comp = row.decor_id.split('|')[0]\n",
    "    combined_reward, info = rewarder.compute_reward(\n",
    "        Composition(comp), row.predicted_energy)\n",
    "    info['reward'] = combined_reward\n",
    "    return info\n",
    "                            \n",
    "\n",
    "rewarder = StructureRewardBattInterface(merged_competing_phases)\n",
    "\n",
    "new_data = df_best.progress_apply(compute_reward, axis=1)\n",
    "list(new_data.items())[:2]"
   ]
  },
  {
   "cell_type": "code",
   "execution_count": 28,
   "id": "bcd9a112-266c-43af-9b53-3dec6a00b4c1",
   "metadata": {},
   "outputs": [
    {
     "data": {
      "text/plain": [
       "0       {'predicted_energy': -3.46, 'decomp_energy': 0...\n",
       "1       {'predicted_energy': -5.484, 'oxidation': -5, ...\n",
       "2       {'predicted_energy': -3.281, 'oxidation': -5, ...\n",
       "3       {'predicted_energy': -3.854, 'decomp_energy': ...\n",
       "4       {'predicted_energy': -3.845, 'decomp_energy': ...\n",
       "                              ...                        \n",
       "1998    {'predicted_energy': -3.005, 'decomp_energy': ...\n",
       "1999    {'predicted_energy': -4.311, 'decomp_energy': ...\n",
       "2000    {'predicted_energy': -2.961, 'decomp_energy': ...\n",
       "2001    {'predicted_energy': -2.691, 'decomp_energy': ...\n",
       "2002    {'predicted_energy': -3.231, 'decomp_energy': ...\n",
       "Length: 2003, dtype: object"
      ]
     },
     "execution_count": 28,
     "metadata": {},
     "output_type": "execute_result"
    }
   ],
   "source": [
    "new_data"
   ]
  },
  {
   "cell_type": "code",
   "execution_count": 24,
   "id": "fccdec5d-2020-4cba-a7e4-30e5a5297a08",
   "metadata": {},
   "outputs": [
    {
     "data": {
      "text/plain": [
       "19"
      ]
     },
     "execution_count": 24,
     "metadata": {},
     "output_type": "execute_result"
    }
   ],
   "source": [
    "len([x for x in new_data if x['decomp_energy'] < -.1])"
   ]
  },
  {
   "cell_type": "code",
   "execution_count": 32,
   "id": "d8f90c55-f61b-4030-ab4c-26097fecef87",
   "metadata": {},
   "outputs": [
    {
     "data": {
      "text/html": [
       "<div>\n",
       "<style scoped>\n",
       "    .dataframe tbody tr th:only-of-type {\n",
       "        vertical-align: middle;\n",
       "    }\n",
       "\n",
       "    .dataframe tbody tr th {\n",
       "        vertical-align: top;\n",
       "    }\n",
       "\n",
       "    .dataframe thead th {\n",
       "        text-align: right;\n",
       "    }\n",
       "</style>\n",
       "<table border=\"1\" class=\"dataframe\">\n",
       "  <thead>\n",
       "    <tr style=\"text-align: right;\">\n",
       "      <th></th>\n",
       "      <th>predicted_energy</th>\n",
       "      <th>decomp_energy</th>\n",
       "      <th>cond_ion_frac</th>\n",
       "      <th>reward</th>\n",
       "      <th>oxidation</th>\n",
       "      <th>reduction</th>\n",
       "      <th>stability_window</th>\n",
       "      <th>decor_id</th>\n",
       "    </tr>\n",
       "  </thead>\n",
       "  <tbody>\n",
       "    <tr>\n",
       "      <th>0</th>\n",
       "      <td>-3.460</td>\n",
       "      <td>0.1707</td>\n",
       "      <td>0.2143</td>\n",
       "      <td>0.298055</td>\n",
       "      <td>NaN</td>\n",
       "      <td>NaN</td>\n",
       "      <td>NaN</td>\n",
       "      <td>K3Y1Al1Br9|_1_1_3_9|hexagonal|icsd_039809|2</td>\n",
       "    </tr>\n",
       "    <tr>\n",
       "      <th>1</th>\n",
       "      <td>-5.484</td>\n",
       "      <td>-0.0153</td>\n",
       "      <td>0.0714</td>\n",
       "      <td>0.344104</td>\n",
       "      <td>-5.0</td>\n",
       "      <td>-5.0</td>\n",
       "      <td>0.0</td>\n",
       "      <td>Li1Sc3F8Br2|_1_2_3_8|tetragonal|icsd_067711|1</td>\n",
       "    </tr>\n",
       "  </tbody>\n",
       "</table>\n",
       "</div>"
      ],
      "text/plain": [
       "   predicted_energy  decomp_energy  cond_ion_frac    reward  oxidation  \\\n",
       "0            -3.460         0.1707         0.2143  0.298055        NaN   \n",
       "1            -5.484        -0.0153         0.0714  0.344104       -5.0   \n",
       "\n",
       "   reduction  stability_window                                       decor_id  \n",
       "0        NaN               NaN    K3Y1Al1Br9|_1_1_3_9|hexagonal|icsd_039809|2  \n",
       "1       -5.0               0.0  Li1Sc3F8Br2|_1_2_3_8|tetragonal|icsd_067711|1  "
      ]
     },
     "execution_count": 32,
     "metadata": {},
     "output_type": "execute_result"
    }
   ],
   "source": [
    "new_df = pd.DataFrame(list(new_data.values))\n",
    "new_df['decor_id'] = df_best.decor_id\n",
    "new_df.head(2)"
   ]
  },
  {
   "cell_type": "code",
   "execution_count": 34,
   "id": "12115064-de57-41c2-baf0-cf48a89b0589",
   "metadata": {},
   "outputs": [],
   "source": [
    "out_file = \"/projects/rlmolecule/jlaw/crystal_outputs/2022-07-05/all_self_cons_decomp_energies.csv\"\n",
    "new_df.to_csv(out_file, index=False)"
   ]
  },
  {
   "cell_type": "code",
   "execution_count": 25,
   "id": "50ec4b64-b184-4a07-a8be-85cf43ebe670",
   "metadata": {},
   "outputs": [
    {
     "data": {
      "text/plain": [
       "131"
      ]
     },
     "execution_count": 25,
     "metadata": {},
     "output_type": "execute_result"
    }
   ],
   "source": [
    "len([x for x in new_data if x['decomp_energy'] < 0])"
   ]
  },
  {
   "cell_type": "code",
   "execution_count": 23,
   "id": "c2ac734d-6886-4362-9503-57cc7b0c1324",
   "metadata": {},
   "outputs": [
    {
     "data": {
      "text/html": [
       "<div>\n",
       "<style scoped>\n",
       "    .dataframe tbody tr th:only-of-type {\n",
       "        vertical-align: middle;\n",
       "    }\n",
       "\n",
       "    .dataframe tbody tr th {\n",
       "        vertical-align: top;\n",
       "    }\n",
       "\n",
       "    .dataframe thead th {\n",
       "        text-align: right;\n",
       "    }\n",
       "</style>\n",
       "<table border=\"1\" class=\"dataframe\">\n",
       "  <thead>\n",
       "    <tr style=\"text-align: right;\">\n",
       "      <th></th>\n",
       "      <th>0</th>\n",
       "    </tr>\n",
       "  </thead>\n",
       "  <tbody>\n",
       "    <tr>\n",
       "      <th>0</th>\n",
       "      <td>{'predicted_energy': -3.46, 'decomp_energy': 0...</td>\n",
       "    </tr>\n",
       "    <tr>\n",
       "      <th>1</th>\n",
       "      <td>{'predicted_energy': -5.484, 'oxidation': -5, ...</td>\n",
       "    </tr>\n",
       "  </tbody>\n",
       "</table>\n",
       "</div>"
      ],
      "text/plain": [
       "                                                   0\n",
       "0  {'predicted_energy': -3.46, 'decomp_energy': 0...\n",
       "1  {'predicted_energy': -5.484, 'oxidation': -5, ..."
      ]
     },
     "execution_count": 23,
     "metadata": {},
     "output_type": "execute_result"
    }
   ],
   "source": [
    "new_df = pd.DataFrame(new_data)\n",
    "new_df.head(2)"
   ]
  },
  {
   "cell_type": "code",
   "execution_count": null,
   "id": "df6ad3be-dc43-42a0-8893-533b2b0fb7a2",
   "metadata": {},
   "outputs": [],
   "source": []
  },
  {
   "cell_type": "markdown",
   "id": "06238638-af25-4379-9b86-3af43419f00a",
   "metadata": {},
   "source": [
    "### Check model for structures already in ICSD"
   ]
  },
  {
   "cell_type": "code",
   "execution_count": 28,
   "id": "a2b65c11-e585-4fb7-b9ae-c164cf14dc08",
   "metadata": {},
   "outputs": [
    {
     "data": {
      "text/plain": [
       "PDEntry : Ag1 Bi1 K2 with energy = -8.3651"
      ]
     },
     "execution_count": 28,
     "metadata": {},
     "output_type": "execute_result"
    }
   ],
   "source": [
    "competing_phases[100]"
   ]
  },
  {
   "cell_type": "code",
   "execution_count": 27,
   "id": "7a5c1505-e729-4e9e-ae33-d1d9d5b82d42",
   "metadata": {},
   "outputs": [],
   "source": [
    "comp_phase_to_energy = {e.composition: e.energy for e in competing_phases}"
   ]
  },
  {
   "cell_type": "code",
   "execution_count": 20,
   "id": "d15cf652-e6af-4c83-b6ae-9834aeee9025",
   "metadata": {},
   "outputs": [
    {
     "name": "stderr",
     "output_type": "stream",
     "text": [
      "/tmp/ipykernel_14127/1225921386.py:2: SettingWithCopyWarning: \n",
      "A value is trying to be set on a copy of a slice from a DataFrame.\n",
      "Try using .loc[row_indexer,col_indexer] = value instead\n",
      "\n",
      "See the caveats in the documentation: https://pandas.pydata.org/pandas-docs/stable/user_guide/indexing.html#returning-a-view-versus-a-copy\n",
      "  data_best['in_icsd'] = data_best.comp.apply(lambda x: Composition(x) in icsd_comps)\n"
     ]
    },
    {
     "data": {
      "text/plain": [
       "361"
      ]
     },
     "execution_count": 20,
     "metadata": {},
     "output_type": "execute_result"
    }
   ],
   "source": [
    "# if the composition is already in ICSD, then skip it unless the energy per atom is lower\n",
    "data_best['in_icsd'] = data_best.comp.apply(lambda x: Composition(x) in comp_phase_to_energy)\n",
    "data_best.in_icsd.sum()"
   ]
  },
  {
   "cell_type": "code",
   "execution_count": 41,
   "id": "218174b0-b8b9-48eb-bcdf-a1c646072990",
   "metadata": {},
   "outputs": [],
   "source": [
    "def check_if_better(row):\n",
    "    comp = Composition(row.comp)\n",
    "    energy = row.predicted_energy * comp.num_atoms \n",
    "    return (energy - comp_phase_to_energy[comp]) / comp.num_atoms"
   ]
  },
  {
   "cell_type": "code",
   "execution_count": 42,
   "id": "056fb6db-62ad-4528-a9ff-223cd43dc5a6",
   "metadata": {},
   "outputs": [
    {
     "data": {
      "text/html": [
       "<div>\n",
       "<style scoped>\n",
       "    .dataframe tbody tr th:only-of-type {\n",
       "        vertical-align: middle;\n",
       "    }\n",
       "\n",
       "    .dataframe tbody tr th {\n",
       "        vertical-align: top;\n",
       "    }\n",
       "\n",
       "    .dataframe thead th {\n",
       "        text-align: right;\n",
       "    }\n",
       "</style>\n",
       "<table border=\"1\" class=\"dataframe\">\n",
       "  <thead>\n",
       "    <tr style=\"text-align: right;\">\n",
       "      <th></th>\n",
       "      <th>id</th>\n",
       "      <th>comp</th>\n",
       "      <th>reward</th>\n",
       "      <th>predicted_energy</th>\n",
       "      <th>decomp_energy</th>\n",
       "      <th>cond_ion_frac</th>\n",
       "      <th>reduction</th>\n",
       "      <th>oxidation</th>\n",
       "      <th>stability_window</th>\n",
       "      <th>in_icsd</th>\n",
       "      <th>vs_icsd</th>\n",
       "    </tr>\n",
       "  </thead>\n",
       "  <tbody>\n",
       "    <tr>\n",
       "      <th>347986</th>\n",
       "      <td>K1F2O2P1_icsd_026640_1</td>\n",
       "      <td>K1F2O2P1</td>\n",
       "      <td>0.402000</td>\n",
       "      <td>-5.864000</td>\n",
       "      <td>-0.0150</td>\n",
       "      <td>0.1670</td>\n",
       "      <td>-2.3350</td>\n",
       "      <td>-5.0000</td>\n",
       "      <td>2.6650</td>\n",
       "      <td>True</td>\n",
       "      <td>-0.017397</td>\n",
       "    </tr>\n",
       "    <tr>\n",
       "      <th>792553</th>\n",
       "      <td>Na2W1F4O2_icsd_201173_1</td>\n",
       "      <td>Na2W1F4O2</td>\n",
       "      <td>0.367000</td>\n",
       "      <td>-5.956000</td>\n",
       "      <td>-0.0100</td>\n",
       "      <td>0.2220</td>\n",
       "      <td>-3.8100</td>\n",
       "      <td>-4.3680</td>\n",
       "      <td>0.5580</td>\n",
       "      <td>True</td>\n",
       "      <td>-0.010736</td>\n",
       "    </tr>\n",
       "    <tr>\n",
       "      <th>1542277</th>\n",
       "      <td>K2F1O3P1_icsd_172343_1</td>\n",
       "      <td>K2F1O3P1</td>\n",
       "      <td>0.428000</td>\n",
       "      <td>-5.883000</td>\n",
       "      <td>-0.0050</td>\n",
       "      <td>0.2860</td>\n",
       "      <td>-1.6460</td>\n",
       "      <td>-4.1040</td>\n",
       "      <td>2.4570</td>\n",
       "      <td>True</td>\n",
       "      <td>-0.005434</td>\n",
       "    </tr>\n",
       "    <tr>\n",
       "      <th>1986952</th>\n",
       "      <td>Na3W1F1O4_icsd_417289_1</td>\n",
       "      <td>Na3W1F1O4</td>\n",
       "      <td>0.435000</td>\n",
       "      <td>-6.217000</td>\n",
       "      <td>-0.0100</td>\n",
       "      <td>0.3330</td>\n",
       "      <td>-1.5750</td>\n",
       "      <td>-3.1020</td>\n",
       "      <td>1.5270</td>\n",
       "      <td>True</td>\n",
       "      <td>-0.009768</td>\n",
       "    </tr>\n",
       "    <tr>\n",
       "      <th>7537077</th>\n",
       "      <td>Li2O2N1P1_icsd_188494_1</td>\n",
       "      <td>Li2O2N1P1</td>\n",
       "      <td>0.442000</td>\n",
       "      <td>-6.462000</td>\n",
       "      <td>-0.0160</td>\n",
       "      <td>0.3330</td>\n",
       "      <td>-1.0150</td>\n",
       "      <td>-2.9190</td>\n",
       "      <td>1.9040</td>\n",
       "      <td>True</td>\n",
       "      <td>-0.015901</td>\n",
       "    </tr>\n",
       "    <tr>\n",
       "      <th>...</th>\n",
       "      <td>...</td>\n",
       "      <td>...</td>\n",
       "      <td>...</td>\n",
       "      <td>...</td>\n",
       "      <td>...</td>\n",
       "      <td>...</td>\n",
       "      <td>...</td>\n",
       "      <td>...</td>\n",
       "      <td>...</td>\n",
       "      <td>...</td>\n",
       "      <td>...</td>\n",
       "    </tr>\n",
       "    <tr>\n",
       "      <th>12938490</th>\n",
       "      <td>Li2Cd1Sn1S4_icsd_262388_2</td>\n",
       "      <td>Li2Cd1Sn1S4</td>\n",
       "      <td>0.372397</td>\n",
       "      <td>-4.051142</td>\n",
       "      <td>-0.0367</td>\n",
       "      <td>0.2500</td>\n",
       "      <td>-1.7071</td>\n",
       "      <td>-2.7680</td>\n",
       "      <td>1.0609</td>\n",
       "      <td>True</td>\n",
       "      <td>-0.036670</td>\n",
       "    </tr>\n",
       "    <tr>\n",
       "      <th>12943190</th>\n",
       "      <td>Li1Ti1O5P1_icsd_039761_1</td>\n",
       "      <td>Li1Ti1O5P1</td>\n",
       "      <td>0.368395</td>\n",
       "      <td>-7.339676</td>\n",
       "      <td>-0.0115</td>\n",
       "      <td>0.1250</td>\n",
       "      <td>-2.3865</td>\n",
       "      <td>-4.2812</td>\n",
       "      <td>1.8947</td>\n",
       "      <td>True</td>\n",
       "      <td>-0.017994</td>\n",
       "    </tr>\n",
       "    <tr>\n",
       "      <th>12951436</th>\n",
       "      <td>Na1Hg1O4P1_icsd_032511_1</td>\n",
       "      <td>Na1Hg1O4P1</td>\n",
       "      <td>0.362537</td>\n",
       "      <td>-5.539109</td>\n",
       "      <td>-0.0112</td>\n",
       "      <td>0.1429</td>\n",
       "      <td>-2.7818</td>\n",
       "      <td>-4.0456</td>\n",
       "      <td>1.2639</td>\n",
       "      <td>True</td>\n",
       "      <td>-0.011188</td>\n",
       "    </tr>\n",
       "    <tr>\n",
       "      <th>12993774</th>\n",
       "      <td>Li1Zn1S4P1_icsd_095785_1</td>\n",
       "      <td>Li1Zn1S4P1</td>\n",
       "      <td>0.334587</td>\n",
       "      <td>-4.263132</td>\n",
       "      <td>-0.0178</td>\n",
       "      <td>0.1429</td>\n",
       "      <td>-2.1514</td>\n",
       "      <td>-2.8895</td>\n",
       "      <td>0.7382</td>\n",
       "      <td>True</td>\n",
       "      <td>-0.017796</td>\n",
       "    </tr>\n",
       "    <tr>\n",
       "      <th>13067380</th>\n",
       "      <td>Na1Al1Si2O6_icsd_010235_1</td>\n",
       "      <td>Na1Al1Si2O6</td>\n",
       "      <td>0.290280</td>\n",
       "      <td>-7.313584</td>\n",
       "      <td>0.0250</td>\n",
       "      <td>0.1000</td>\n",
       "      <td>NaN</td>\n",
       "      <td>NaN</td>\n",
       "      <td>NaN</td>\n",
       "      <td>True</td>\n",
       "      <td>-0.004469</td>\n",
       "    </tr>\n",
       "  </tbody>\n",
       "</table>\n",
       "<p>241 rows × 11 columns</p>\n",
       "</div>"
      ],
      "text/plain": [
       "                                 id         comp    reward  predicted_energy  \\\n",
       "347986       K1F2O2P1_icsd_026640_1     K1F2O2P1  0.402000         -5.864000   \n",
       "792553      Na2W1F4O2_icsd_201173_1    Na2W1F4O2  0.367000         -5.956000   \n",
       "1542277      K2F1O3P1_icsd_172343_1     K2F1O3P1  0.428000         -5.883000   \n",
       "1986952     Na3W1F1O4_icsd_417289_1    Na3W1F1O4  0.435000         -6.217000   \n",
       "7537077     Li2O2N1P1_icsd_188494_1    Li2O2N1P1  0.442000         -6.462000   \n",
       "...                             ...          ...       ...               ...   \n",
       "12938490  Li2Cd1Sn1S4_icsd_262388_2  Li2Cd1Sn1S4  0.372397         -4.051142   \n",
       "12943190   Li1Ti1O5P1_icsd_039761_1   Li1Ti1O5P1  0.368395         -7.339676   \n",
       "12951436   Na1Hg1O4P1_icsd_032511_1   Na1Hg1O4P1  0.362537         -5.539109   \n",
       "12993774   Li1Zn1S4P1_icsd_095785_1   Li1Zn1S4P1  0.334587         -4.263132   \n",
       "13067380  Na1Al1Si2O6_icsd_010235_1  Na1Al1Si2O6  0.290280         -7.313584   \n",
       "\n",
       "          decomp_energy  cond_ion_frac  reduction  oxidation  \\\n",
       "347986          -0.0150         0.1670    -2.3350    -5.0000   \n",
       "792553          -0.0100         0.2220    -3.8100    -4.3680   \n",
       "1542277         -0.0050         0.2860    -1.6460    -4.1040   \n",
       "1986952         -0.0100         0.3330    -1.5750    -3.1020   \n",
       "7537077         -0.0160         0.3330    -1.0150    -2.9190   \n",
       "...                 ...            ...        ...        ...   \n",
       "12938490        -0.0367         0.2500    -1.7071    -2.7680   \n",
       "12943190        -0.0115         0.1250    -2.3865    -4.2812   \n",
       "12951436        -0.0112         0.1429    -2.7818    -4.0456   \n",
       "12993774        -0.0178         0.1429    -2.1514    -2.8895   \n",
       "13067380         0.0250         0.1000        NaN        NaN   \n",
       "\n",
       "          stability_window  in_icsd   vs_icsd  \n",
       "347986              2.6650     True -0.017397  \n",
       "792553              0.5580     True -0.010736  \n",
       "1542277             2.4570     True -0.005434  \n",
       "1986952             1.5270     True -0.009768  \n",
       "7537077             1.9040     True -0.015901  \n",
       "...                    ...      ...       ...  \n",
       "12938490            1.0609     True -0.036670  \n",
       "12943190            1.8947     True -0.017994  \n",
       "12951436            1.2639     True -0.011188  \n",
       "12993774            0.7382     True -0.017796  \n",
       "13067380               NaN     True -0.004469  \n",
       "\n",
       "[241 rows x 11 columns]"
      ]
     },
     "execution_count": 42,
     "metadata": {},
     "output_type": "execute_result"
    }
   ],
   "source": [
    "data_best.loc[data_best.in_icsd, 'vs_icsd'] = data_best[data_best.in_icsd].apply(check_if_better, axis=1)\n",
    "data_best[data_best.vs_icsd < 0]"
   ]
  },
  {
   "cell_type": "code",
   "execution_count": 43,
   "id": "a7a7b547-e260-4a1a-9738-c818e0684c33",
   "metadata": {},
   "outputs": [
    {
     "data": {
      "text/plain": [
       "<AxesSubplot:>"
      ]
     },
     "execution_count": 43,
     "metadata": {},
     "output_type": "execute_result"
    },
    {
     "data": {
      "image/png": "[encoded data removed]",
      "text/plain": [
       "<Figure size 432x288 with 1 Axes>"
      ]
     },
     "metadata": {
      "needs_background": "light"
     },
     "output_type": "display_data"
    }
   ],
   "source": [
    "data_best.vs_icsd.hist(bins=30)"
   ]
  },
  {
   "cell_type": "code",
   "execution_count": 51,
   "id": "98cec17a-f1dd-4a90-b1aa-9bb629330158",
   "metadata": {},
   "outputs": [
    {
     "name": "stdout",
     "output_type": "stream",
     "text": [
      "      comp  predicted_energy   vs_icsd\n",
      "   Li7I1N2         -3.697300 -0.773868\n",
      "  Li1Zn1P1         -3.348244 -0.393907\n",
      "  Li1Cd1P1         -3.152738 -0.292716\n",
      "   K1Hg1F3         -3.465678 -0.108871\n",
      "K2Ti1Ge3O9         -6.503984 -0.078466\n",
      "  Li5Cl3O1         -3.988599 -0.076524\n",
      "Li1W1Sb1O6         -7.008956 -0.063769\n",
      "   Li1N2P1         -6.857761 -0.062683\n",
      "  Li2Sn1O3         -5.729726 -0.057772\n",
      "Li2B1Al1O4         -6.876345 -0.057580\n",
      " K1Sb1O8P2         -6.661652 -0.052255\n",
      " Na1Hg1Cl3         -2.520573 -0.051940\n",
      "   Na1N7P4         -7.271319 -0.051865\n",
      "Li1B1Ge1O4         -6.867076 -0.051821\n",
      "K2Ti1Si3O9         -7.371894 -0.051553\n"
     ]
    }
   ],
   "source": [
    "print(data_best[data_best.vs_icsd < -.05][['comp', 'predicted_energy', 'vs_icsd']].sort_values('vs_icsd').to_string(index=False))"
   ]
  },
  {
   "cell_type": "code",
   "execution_count": 40,
   "id": "8cf89194-2272-4178-9400-bc9809bb1dd5",
   "metadata": {},
   "outputs": [
    {
     "data": {
      "text/plain": [
       "-29.234329"
      ]
     },
     "execution_count": 40,
     "metadata": {},
     "output_type": "execute_result"
    }
   ],
   "source": [
    "comp_phase_to_energy[Composition(\"Li7I1N2\")]"
   ]
  },
  {
   "cell_type": "code",
   "execution_count": null,
   "id": "4ca15c0b-3227-4664-8772-b5ecb9235a57",
   "metadata": {},
   "outputs": [
    {
     "name": "stdout",
     "output_type": "stream",
     "text": [
      "2003\n"
     ]
    },
    {
     "data": {
      "text/html": [
       "<div>\n",
       "<style scoped>\n",
       "    .dataframe tbody tr th:only-of-type {\n",
       "        vertical-align: middle;\n",
       "    }\n",
       "\n",
       "    .dataframe tbody tr th {\n",
       "        vertical-align: top;\n",
       "    }\n",
       "\n",
       "    .dataframe thead th {\n",
       "        text-align: right;\n",
       "    }\n",
       "</style>\n",
       "<table border=\"1\" class=\"dataframe\">\n",
       "  <thead>\n",
       "    <tr style=\"text-align: right;\">\n",
       "      <th></th>\n",
       "      <th>decor_id</th>\n",
       "      <th>reward</th>\n",
       "      <th>predicted_energy</th>\n",
       "      <th>decomp_energy</th>\n",
       "      <th>cond_ion_frac</th>\n",
       "      <th>reduction</th>\n",
       "      <th>oxidation</th>\n",
       "      <th>stability_window</th>\n",
       "    </tr>\n",
       "  </thead>\n",
       "  <tbody>\n",
       "    <tr>\n",
       "      <th>0</th>\n",
       "      <td>K3Y1Al1Br9|_1_1_3_9|hexagonal|icsd_039809|2</td>\n",
       "      <td>0.298</td>\n",
       "      <td>-3.460</td>\n",
       "      <td>0.171</td>\n",
       "      <td>0.214</td>\n",
       "      <td>NaN</td>\n",
       "      <td>NaN</td>\n",
       "      <td>NaN</td>\n",
       "    </tr>\n",
       "    <tr>\n",
       "      <th>1</th>\n",
       "      <td>Li1Sc3F8Br2|_1_2_3_8|tetragonal|icsd_067711|1</td>\n",
       "      <td>0.344</td>\n",
       "      <td>-5.484</td>\n",
       "      <td>-0.015</td>\n",
       "      <td>0.071</td>\n",
       "      <td>-5.0</td>\n",
       "      <td>-5.0</td>\n",
       "      <td>0.0</td>\n",
       "    </tr>\n",
       "  </tbody>\n",
       "</table>\n",
       "</div>"
      ],
      "text/plain": [
       "                                        decor_id  reward  predicted_energy  \\\n",
       "0    K3Y1Al1Br9|_1_1_3_9|hexagonal|icsd_039809|2   0.298            -3.460   \n",
       "1  Li1Sc3F8Br2|_1_2_3_8|tetragonal|icsd_067711|1   0.344            -5.484   \n",
       "\n",
       "   decomp_energy  cond_ion_frac  reduction  oxidation  stability_window  \n",
       "0          0.171          0.214        NaN        NaN               NaN  \n",
       "1         -0.015          0.071       -5.0       -5.0               0.0  "
      ]
     },
     "execution_count": 6,
     "metadata": {},
     "output_type": "execute_result"
    }
   ],
   "source": [
    "rewards_file = \"/projects/rlmolecule/jlaw/crystal_outputs/2022-07-05/self_consistent_decomp_energies.csv\"\n",
    "df = pd.read_csv(rewards_file)\n",
    "print(len(df))\n",
    "df.head(2)"
   ]
  },
  {
   "cell_type": "code",
   "execution_count": 7,
   "id": "5626a3ef-dbc3-46bf-a5fe-c26a17b1aa03",
   "metadata": {},
   "outputs": [
    {
     "data": {
      "text/plain": [
       "101"
      ]
     },
     "execution_count": 7,
     "metadata": {},
     "output_type": "execute_result"
    }
   ],
   "source": [
    "len(df[df.decomp_energy < -.1])"
   ]
  },
  {
   "cell_type": "code",
   "execution_count": 8,
   "id": "3871c40c-ff3a-46d5-a21f-1f13314b852c",
   "metadata": {},
   "outputs": [
    {
     "data": {
      "image/png": "[encoded data removed]",
      "text/plain": [
       "<Figure size 432x288 with 1 Axes>"
      ]
     },
     "metadata": {
      "needs_background": "light"
     },
     "output_type": "display_data"
    }
   ],
   "source": [
    "ax = df[(df.decomp_energy > -.5) & (df.decomp_energy < .5)].decomp_energy.hist(bins=50)\n",
    "ax.set_xticks(np.arange(-.5, .6, .1))\n",
    "plt.show()"
   ]
  },
  {
   "cell_type": "code",
   "execution_count": 9,
   "id": "345e3061-565e-4c14-9466-60b509f3d4a3",
   "metadata": {},
   "outputs": [
    {
     "data": {
      "text/plain": [
       "<AxesSubplot:>"
      ]
     },
     "execution_count": 9,
     "metadata": {},
     "output_type": "execute_result"
    },
    {
     "data": {
      "image/png": "[encoded data removed]",
      "text/plain": [
       "<Figure size 432x288 with 1 Axes>"
      ]
     },
     "metadata": {
      "needs_background": "light"
     },
     "output_type": "display_data"
    }
   ],
   "source": [
    "df.decomp_energy.hist(bins=30)"
   ]
  },
  {
   "cell_type": "markdown",
   "id": "24c38bd6-b8d3-40a8-a9f5-ba6c936bbcba",
   "metadata": {},
   "source": [
    "## Double check the decomposition for some structures"
   ]
  },
  {
   "cell_type": "code",
   "execution_count": 11,
   "id": "fed7078e",
   "metadata": {},
   "outputs": [],
   "source": [
    "def setup_competing_phases(competing_phases_files):\n",
    "    if not isinstance(competing_phases_files, list):\n",
    "        competing_phases_files = [competing_phases_files]\n",
    "    all_competing_phases = [load_competing_phases(f) for f in competing_phases_files]\n",
    "\n",
    "    # also add the individual elements\n",
    "    competing_phases = pd.concat([pd.Series(fere_entries)] + all_competing_phases).reset_index()[0]\n",
    "    return competing_phases\n",
    "\n",
    "\n",
    "def load_competing_phases(competing_phases_file):\n",
    "    print(f\"Reading {competing_phases_file}\")\n",
    "    df = pd.read_csv(competing_phases_file)\n",
    "    print(f\"\\t{len(df)} lines\")\n",
    "    print(df.head(2))\n",
    "\n",
    "    assert ('sortedformula' in df.columns or 'comp' in df.columns) \\\n",
    "        and ('energyperatom' in df.columns or 'predicted_energy' in df.columns)\n",
    "    if 'sortedformula' not in df.columns:\n",
    "        df.rename(columns={'comp': 'sortedformula'}, inplace=True)\n",
    "    if 'energyperatom' not in df.columns:\n",
    "        df.rename(columns={'predicted_energy': 'energyperatom'}, inplace=True)\n",
    "    print(\"columns after renaming:\", df.columns)\n",
    "\n",
    "    df['energy'] = (\n",
    "        df.energyperatom *\n",
    "        df.sortedformula.apply(lambda x: Composition(x).num_atoms)\n",
    "    )\n",
    "    # convert the dataframe to a list of PDEntries used to create the convex hull\n",
    "    pd_entries = df.apply(\n",
    "        lambda row: PDEntry(Composition(row.sortedformula),\n",
    "                            row.energy),\n",
    "        axis=1\n",
    "    )\n",
    "    print(f\"\\t{len(pd_entries)} entries\")\n",
    "    return pd_entries"
   ]
  },
  {
   "cell_type": "code",
   "execution_count": 11,
   "id": "cfaee69d-0933-430b-a5f9-33ddb098971a",
   "metadata": {},
   "outputs": [],
   "source": [
    "competing_phases_files = [\n",
    "    \"/projects/rlmolecule/jlaw/rlmolecule/examples/crystal_energy/inputs/competing_phases.csv\",\n",
    "    \"/projects/rlmolecule/jlaw/crystal_outputs/2022-07-05/best_decor_rewards.csv.gz\",\n",
    "]"
   ]
  },
  {
   "cell_type": "code",
   "execution_count": 12,
   "id": "479daa76-4715-420a-a078-37a05556bf42",
   "metadata": {},
   "outputs": [
    {
     "name": "stdout",
     "output_type": "stream",
     "text": [
      "Reading /projects/rlmolecule/jlaw/rlmolecule/examples/crystal_energy/inputs/competing_phases.csv\n",
      "\t12682 lines\n",
      "  sortedformula   icsdnum  energyperatom reduced_composition\n",
      "0    Ag10Br3Te4  173116.0      -1.718985          Ag10Br3Te4\n",
      "1   Ag11K1O16V4  391344.0      -4.797702         Ag11K1O16V4\n",
      "columns after renaming: Index(['sortedformula', 'icsdnum', 'energyperatom', 'reduced_composition'], dtype='object')\n",
      "\t12682 entries\n",
      "Reading /projects/rlmolecule/jlaw/crystal_outputs/2022-07-05/best_decor_rewards.csv.gz\n",
      "\t2003 lines\n",
      "                       id      comp    reward  predicted_energy  \\\n",
      "0  Li3Y1Br6_icsd_053533_1  Li3Y1Br6  1.135173         -3.798492   \n",
      "1  Li4Y1Br7_icsd_001322_1  Li4Y1Br7  1.132112         -3.735198   \n",
      "\n",
      "   decomp_energy  cond_ion_frac  reduction  oxidation  stability_window  \n",
      "0        -0.8512         0.3000    -0.6734       -5.0            4.3266  \n",
      "1        -0.7266         0.3333    -0.6045       -5.0            4.3955  \n",
      "columns after renaming: Index(['id', 'sortedformula', 'reward', 'energyperatom', 'decomp_energy',\n",
      "       'cond_ion_frac', 'reduction', 'oxidation', 'stability_window'],\n",
      "      dtype='object')\n",
      "\t2003 entries\n"
     ]
    }
   ],
   "source": [
    "competing_phases = setup_competing_phases(competing_phases_files)"
   ]
  },
  {
   "cell_type": "code",
   "execution_count": 13,
   "id": "e6aa4cb3-0a4f-4aa7-b52b-02c4bbf81d10",
   "metadata": {},
   "outputs": [
    {
     "data": {
      "text/html": [
       "<div>\n",
       "<style scoped>\n",
       "    .dataframe tbody tr th:only-of-type {\n",
       "        vertical-align: middle;\n",
       "    }\n",
       "\n",
       "    .dataframe tbody tr th {\n",
       "        vertical-align: top;\n",
       "    }\n",
       "\n",
       "    .dataframe thead th {\n",
       "        text-align: right;\n",
       "    }\n",
       "</style>\n",
       "<table border=\"1\" class=\"dataframe\">\n",
       "  <thead>\n",
       "    <tr style=\"text-align: right;\">\n",
       "      <th></th>\n",
       "      <th>decor_id</th>\n",
       "      <th>reward</th>\n",
       "      <th>predicted_energy</th>\n",
       "      <th>decomp_energy</th>\n",
       "      <th>cond_ion_frac</th>\n",
       "      <th>reduction</th>\n",
       "      <th>oxidation</th>\n",
       "      <th>stability_window</th>\n",
       "    </tr>\n",
       "  </thead>\n",
       "  <tbody>\n",
       "    <tr>\n",
       "      <th>787</th>\n",
       "      <td>Li1Ge1O1N1|_1_1_1_1|orthorhombic|icsd_183047|2</td>\n",
       "      <td>0.312</td>\n",
       "      <td>-6.131</td>\n",
       "      <td>0.0</td>\n",
       "      <td>0.25</td>\n",
       "      <td>NaN</td>\n",
       "      <td>NaN</td>\n",
       "      <td>NaN</td>\n",
       "    </tr>\n",
       "  </tbody>\n",
       "</table>\n",
       "</div>"
      ],
      "text/plain": [
       "                                           decor_id  reward  predicted_energy  \\\n",
       "787  Li1Ge1O1N1|_1_1_1_1|orthorhombic|icsd_183047|2   0.312            -6.131   \n",
       "\n",
       "     decomp_energy  cond_ion_frac  reduction  oxidation  stability_window  \n",
       "787            0.0           0.25        NaN        NaN               NaN  "
      ]
     },
     "execution_count": 13,
     "metadata": {},
     "output_type": "execute_result"
    }
   ],
   "source": [
    "df[df.decor_id == \"Li1Ge1O1N1|_1_1_1_1|orthorhombic|icsd_183047|2\"]"
   ]
  },
  {
   "cell_type": "code",
   "execution_count": 14,
   "id": "b95dfe9c-7a9d-4ce6-b88d-c04e6db80408",
   "metadata": {},
   "outputs": [
    {
     "data": {
      "text/plain": [
       "PDEntry : Li1 Ge1 O1 N1 with energy = -24.5240"
      ]
     },
     "execution_count": 14,
     "metadata": {},
     "output_type": "execute_result"
    }
   ],
   "source": [
    "comp = Composition(\"Li1Ge1O1N1\")\n",
    "entry = PDEntry(comp, -24.524)\n",
    "entry"
   ]
  },
  {
   "cell_type": "code",
   "execution_count": 15,
   "id": "e5bd138f-9244-4d49-a109-d2870e00b681",
   "metadata": {},
   "outputs": [
    {
     "data": {
      "text/plain": [
       "[PDEntry : Ge1 with energy = -4.3400,\n",
       " PDEntry : Li1 with energy = -1.5800,\n",
       " PDEntry : N1 with energy = -8.4600,\n",
       " PDEntry : O1 with energy = -4.8000,\n",
       " PDEntry : Ge1 Li1 with energy = -7.0905,\n",
       " PDEntry : Ge1 O2 with energy = -19.4096,\n",
       " PDEntry : Ge2 Li7 with energy = -25.4758,\n",
       " PDEntry : Ge3 N4 with energy = -47.5349,\n",
       " PDEntry : Ge4 Li15 with energy = -53.3199,\n",
       " PDEntry : Ge4 Li9 with energy = -40.0625,\n",
       " PDEntry : Ge6 Li11 with energy = -54.2760,\n",
       " PDEntry : Li1 N1 with energy = -10.8040,\n",
       " PDEntry : Li3 N1 with energy = -15.5342,\n",
       " PDEntry : Ge2 N2 O1 with energy = -33.5677,\n",
       " PDEntry : Li1 N1 O3 with energy = -29.1773,\n",
       " PDEntry : N2 O4 with energy = -35.9692,\n",
       " PDEntry : N2 O1 with energy = -16.1545,\n",
       " PDEntry : N2 O3 with energy = -30.1289,\n",
       " PDEntry : N2 O5 with energy = -40.6163,\n",
       " PDEntry : Li2 O1 with energy = -14.3010,\n",
       " PDEntry : Li4 Ge1 O4 with energy = -50.3342,\n",
       " PDEntry : Li5 Ge1 N3 with energy = -43.3063,\n",
       " PDEntry : Li2 Ge1 O3 with energy = -35.2300,\n",
       " PDEntry : Li6 Ge2 O7 with energy = -83.5834,\n",
       " PDEntry : Li2 Ge1 N2 with energy = -27.2552,\n",
       " PDEntry : Li2 Ge2 O5 with energy = -54.6597,\n",
       " PDEntry : Li1 Ge2 N3 with energy = -38.3358]"
      ]
     },
     "execution_count": 15,
     "metadata": {},
     "output_type": "execute_result"
    }
   ],
   "source": [
    "elements = set(comp.elements)\n",
    "curr_entries = [e for e in competing_phases if len(set(e.composition.elements) - elements) == 0\n",
    "                             and e != entry]\n",
    "curr_entries"
   ]
  },
  {
   "cell_type": "code",
   "execution_count": 16,
   "id": "7ae7b1da-9620-44df-aa92-27aae3f040a7",
   "metadata": {},
   "outputs": [],
   "source": [
    "phase_diagram = PhaseDiagram(curr_entries, elements=elements)"
   ]
  },
  {
   "cell_type": "code",
   "execution_count": 17,
   "id": "af4a4f43-5c48-4628-a014-0d2fca33492c",
   "metadata": {},
   "outputs": [],
   "source": [
    "decomp, decomp_energy = phase_diagram.get_decomp_and_e_above_hull(\n",
    "    entry,\n",
    "    allow_negative=True,\n",
    "    # docs say: \"if you have a huge proportion of unstable entries,\n",
    "    # then this check can slow things down.\"\n",
    "    check_stable=False)"
   ]
  },
  {
   "cell_type": "code",
   "execution_count": 18,
   "id": "a63c7f72-c4f8-4d1b-8d08-27239ec86ead",
   "metadata": {},
   "outputs": [
    {
     "name": "stdout",
     "output_type": "stream",
     "text": [
      "Li1 Ge1 O1 N1 -0.0005213794708254227\n"
     ]
    },
    {
     "data": {
      "text/plain": [
       "{PDEntry : Li2 Ge1 O3 with energy = -35.2300: 0.5,\n",
       " PDEntry : Li1 Ge2 N3 with energy = -38.3358: 0.5}"
      ]
     },
     "execution_count": 18,
     "metadata": {},
     "output_type": "execute_result"
    }
   ],
   "source": [
    "print(comp, decomp_energy)\n",
    "decomp"
   ]
  },
  {
   "cell_type": "code",
   "execution_count": null,
   "id": "d6b3a2b6-c653-424e-baa1-2770f9371f29",
   "metadata": {},
   "outputs": [],
   "source": []
  }
 ],
 "metadata": {
  "kernelspec": {
   "display_name": "Python 3 (ipykernel)",
   "language": "python",
   "name": "python3"
  },
  "language_info": {
   "codemirror_mode": {
    "name": "ipython",
    "version": 3
   },
   "file_extension": ".py",
   "mimetype": "text/x-python",
   "name": "python",
   "nbconvert_exporter": "python",
   "pygments_lexer": "ipython3",
   "version": "3.8.13"
  }
 },
 "nbformat": 4,
 "nbformat_minor": 5
}
