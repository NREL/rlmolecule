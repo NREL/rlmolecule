{
 "cells": [
  {
   "cell_type": "markdown",
   "id": "e4a66e58-f7b4-4027-9f6c-13b7a66da585",
   "metadata": {},
   "source": [
    "### DFT validation of top predictions"
   ]
  },
  {
   "cell_type": "code",
   "execution_count": 1,
   "id": "2c208678-0fca-4a0f-b8e3-678fdc2439e1",
   "metadata": {},
   "outputs": [],
   "source": [
    "import os\n",
    "import sys\n",
    "import numpy as np\n",
    "# import psycopg2\n",
    "import sqlalchemy\n",
    "import pandas as pd\n",
    "from collections import defaultdict\n",
    "\n",
    "import matplotlib.pyplot as plt\n",
    "import seaborn as sns\n",
    "sns.set(\n",
    "    context='paper',\n",
    "    font_scale=8/8.8,\n",
    "#     context=\"talk\",\n",
    "    style='ticks',\n",
    "    color_codes=True,\n",
    "    rc={'legend.frameon': False})\n",
    "\n",
    "plt.rcParams['svg.fonttype'] = 'none'\n",
    "\n",
    "%matplotlib inline"
   ]
  },
  {
   "cell_type": "code",
   "execution_count": 2,
   "id": "4cf0a2c1-7a53-462d-8825-1eabd91f8700",
   "metadata": {},
   "outputs": [
    {
     "name": "stdout",
     "output_type": "stream",
     "text": [
      "1.21.2\n",
      "1.3.3\n"
     ]
    }
   ],
   "source": [
    "print(np.__version__)\n",
    "print(pd.__version__)"
   ]
  },
  {
   "cell_type": "code",
   "execution_count": 3,
   "id": "c1a3e179-8ee0-47f2-8aff-45bca6cb88b1",
   "metadata": {},
   "outputs": [
    {
     "name": "stdout",
     "output_type": "stream",
     "text": [
      "0.2.1\n"
     ]
    }
   ],
   "source": [
    "import nfp\n",
    "print(nfp.__version__)"
   ]
  },
  {
   "cell_type": "code",
   "execution_count": 4,
   "id": "f084f004-638d-484e-91f0-cc5ab02c670f",
   "metadata": {},
   "outputs": [],
   "source": [
    "os.chdir('../')"
   ]
  },
  {
   "cell_type": "code",
   "execution_count": 5,
   "id": "ab8189d6-5e24-4371-bf09-779f7d0f0c58",
   "metadata": {},
   "outputs": [
    {
     "name": "stdout",
     "output_type": "stream",
     "text": [
      "/home/jlaw/projects/arpa-e/crystals/rlmolecule/examples/crystal_energy\n"
     ]
    }
   ],
   "source": [
    "print(os.getcwd())\n",
    "sys.path.append('../../')\n",
    "import rlmolecule\n",
    "from rlmolecule.sql.run_config import RunConfig\n",
    "from rlmolecule.sql import Base, Session\n",
    "from rlmolecule.sql.tables import GameStore, RewardStore, StateStore"
   ]
  },
  {
   "cell_type": "code",
   "execution_count": 19,
   "id": "a669ce23-2c82-416e-a928-b28ad454f02a",
   "metadata": {},
   "outputs": [
    {
     "data": {
      "text/html": [
       "<div>\n",
       "<style scoped>\n",
       "    .dataframe tbody tr th:only-of-type {\n",
       "        vertical-align: middle;\n",
       "    }\n",
       "\n",
       "    .dataframe tbody tr th {\n",
       "        vertical-align: top;\n",
       "    }\n",
       "\n",
       "    .dataframe thead th {\n",
       "        text-align: right;\n",
       "    }\n",
       "</style>\n",
       "<table border=\"1\" class=\"dataframe\">\n",
       "  <thead>\n",
       "    <tr style=\"text-align: right;\">\n",
       "      <th></th>\n",
       "      <th>id</th>\n",
       "      <th>energyperatom</th>\n",
       "      <th>decomp_energy</th>\n",
       "    </tr>\n",
       "  </thead>\n",
       "  <tbody>\n",
       "    <tr>\n",
       "      <th>0</th>\n",
       "      <td>Zn4Sn1P4_sg1_icsd_079005_2</td>\n",
       "      <td>-3.461966</td>\n",
       "      <td>0.127</td>\n",
       "    </tr>\n",
       "    <tr>\n",
       "      <th>1</th>\n",
       "      <td>Li1Y1Zn4P4_sg4_icsd_075430_3</td>\n",
       "      <td>-3.798984</td>\n",
       "      <td>0.137</td>\n",
       "    </tr>\n",
       "  </tbody>\n",
       "</table>\n",
       "</div>"
      ],
      "text/plain": [
       "                             id  energyperatom  decomp_energy\n",
       "0    Zn4Sn1P4_sg1_icsd_079005_2      -3.461966          0.127\n",
       "1  Li1Y1Zn4P4_sg4_icsd_075430_3      -3.798984          0.137"
      ]
     },
     "execution_count": 19,
     "metadata": {},
     "output_type": "execute_result"
    }
   ],
   "source": [
    "out_dir = \"outputs/hull_energy_batt_origlatt/best_decor_per_comp_rew2\"\n",
    "dft_decomp_energies_file = f\"{out_dir}/relaxed_energies_decomp.csv\"\n",
    "df = pd.read_csv(dft_decomp_energies_file, names=['id', 'energyperatom', 'decomp_energy'])\n",
    "df.head(2)"
   ]
  },
  {
   "cell_type": "code",
   "execution_count": 45,
   "id": "1591ee42-9cdc-4010-b3ac-59a18e04f16e",
   "metadata": {},
   "outputs": [
    {
     "data": {
      "text/html": [
       "<div>\n",
       "<style scoped>\n",
       "    .dataframe tbody tr th:only-of-type {\n",
       "        vertical-align: middle;\n",
       "    }\n",
       "\n",
       "    .dataframe tbody tr th {\n",
       "        vertical-align: top;\n",
       "    }\n",
       "\n",
       "    .dataframe thead th {\n",
       "        text-align: right;\n",
       "    }\n",
       "</style>\n",
       "<table border=\"1\" class=\"dataframe\">\n",
       "  <thead>\n",
       "    <tr style=\"text-align: right;\">\n",
       "      <th></th>\n",
       "      <th>pred_energyperatom</th>\n",
       "      <th>pred_decomp_energy</th>\n",
       "    </tr>\n",
       "  </thead>\n",
       "  <tbody>\n",
       "    <tr>\n",
       "      <th>Zn1Sc1F5_sg194_icsd_646285_1</th>\n",
       "      <td>-5.982055</td>\n",
       "      <td>-3.025</td>\n",
       "    </tr>\n",
       "    <tr>\n",
       "      <th>Zn6N1P3_sg14_icsd_027070_1</th>\n",
       "      <td>-6.363924</td>\n",
       "      <td>-3.009</td>\n",
       "    </tr>\n",
       "  </tbody>\n",
       "</table>\n",
       "</div>"
      ],
      "text/plain": [
       "                              pred_energyperatom  pred_decomp_energy\n",
       "Zn1Sc1F5_sg194_icsd_646285_1           -5.982055              -3.025\n",
       "Zn6N1P3_sg14_icsd_027070_1             -6.363924              -3.009"
      ]
     },
     "execution_count": 45,
     "metadata": {},
     "output_type": "execute_result"
    }
   ],
   "source": [
    "pred_file = f\"{out_dir}/pred_energies.csv\"\n",
    "df_pred = pd.read_csv(pred_file, index_col=0)\n",
    "df_pred['pred_decomp_energy'] = -df_pred['pred_decomp_energy']\n",
    "df_pred.head(2)"
   ]
  },
  {
   "cell_type": "code",
   "execution_count": 47,
   "id": "04191b91-03b3-472a-8098-a0053acf066c",
   "metadata": {},
   "outputs": [],
   "source": [
    "# now make a scatterplot\n",
    "# df.set_index('id', inplace=True)\n",
    "df['pred_decomp_energy'] = df_pred['pred_decomp_energy']\n",
    "df['pred_energyperatom'] = df_pred['pred_energyperatom']"
   ]
  },
  {
   "cell_type": "code",
   "execution_count": 34,
   "id": "10069ec8-7f00-4526-ad9a-993902a83cd9",
   "metadata": {},
   "outputs": [
    {
     "name": "stderr",
     "output_type": "stream",
     "text": [
      "*c* argument looks like a single numeric RGB or RGBA sequence, which should be avoided as value-mapping will have precedence in case its length matches with *x* & *y*.  Please use the *color* keyword-argument or provide a 2D array with a single row if you intend to specify the same RGB or RGBA value for all points.\n"
     ]
    },
    {
     "data": {
      "text/plain": [
       "[<matplotlib.lines.Line2D at 0x7f98d07f7040>]"
      ]
     },
     "execution_count": 34,
     "metadata": {},
     "output_type": "execute_result"
    },
    {
     "data": {
      "image/png": "[encoded data removed]",
      "text/plain": [
       "<Figure size 432x288 with 1 Axes>"
      ]
     },
     "metadata": {
      "needs_background": "light"
     },
     "output_type": "display_data"
    }
   ],
   "source": [
    "ax = df.plot.scatter(x='decomp_energy', y='pred_decomp_energy')\n",
    "ax.plot([-3,-1.8], [-3,-1.8], ls='--', c='gray')\n",
    "ax.plot([0,0], [-3,-1.8], ls='--', c='green')"
   ]
  },
  {
   "cell_type": "code",
   "execution_count": 50,
   "id": "fc73c19e-5572-4cef-ac5b-ff5bced13b1d",
   "metadata": {},
   "outputs": [
    {
     "name": "stderr",
     "output_type": "stream",
     "text": [
      "*c* argument looks like a single numeric RGB or RGBA sequence, which should be avoided as value-mapping will have precedence in case its length matches with *x* & *y*.  Please use the *color* keyword-argument or provide a 2D array with a single row if you intend to specify the same RGB or RGBA value for all points.\n"
     ]
    },
    {
     "data": {
      "text/plain": [
       "[<matplotlib.lines.Line2D at 0x7f98d04babe0>]"
      ]
     },
     "execution_count": 50,
     "metadata": {},
     "output_type": "execute_result"
    },
    {
     "data": {
      "image/png": "[encoded data removed]",
      "text/plain": [
       "<Figure size 432x288 with 1 Axes>"
      ]
     },
     "metadata": {
      "needs_background": "light"
     },
     "output_type": "display_data"
    }
   ],
   "source": [
    "ax = df.plot.scatter(x=\"energyperatom\", y=\"pred_energyperatom\")\n",
    "ax.plot([-7.5,-1.8], [-7.5,-1.8], ls='--', c='gray')"
   ]
  },
  {
   "cell_type": "code",
   "execution_count": null,
   "id": "28043626-9b11-4b4c-8417-43003b97b8de",
   "metadata": {},
   "outputs": [],
   "source": [
    "# TODO now visualize these structures"
   ]
  },
  {
   "cell_type": "code",
   "execution_count": 41,
   "id": "526e1081-4b15-415c-b8eb-1c3a3368c040",
   "metadata": {},
   "outputs": [
    {
     "name": "stdout",
     "output_type": "stream",
     "text": [
      "id,energyperatom,decomp_energy,pred_decomp_energy\n",
      "Zn4Sn1P4_sg1_icsd_079005_2,-3.461966289,0.127,-2.035\n",
      "Li1Y1Zn4P4_sg4_icsd_075430_3,-3.798984403,0.137,-2.067\n",
      "Zn5O2N2_sg84_icsd_065031_2,-4.153361333,0.0909999999999999,-2.395\n",
      "Li2Zn2O3_sg2_icsd_024370_2,-4.536103849,-0.789,-2.105\n",
      "Zn5Cl1N3_sg176_icsd_086036_1,-3.653529055,0.181,-2.507\n",
      "Zn5I1N3_sg12_icsd_402124_1,-3.436448233,0.253,-2.569\n",
      "Li1Zn3I1P2_sg12_icsd_420917_2,-2.885389183,0.165,-2.129\n",
      "Mg1Sc1Zn1F7_sg63_icsd_092470_5,-5.338746694,-1.6709999999999998,-2.013\n",
      "Zn3La1N3_sg19_icsd_014305_1,-5.001269745,-0.007,-2.109\n",
      "K3Zn2Cd1P3_sg189_icsd_076297_2,-2.709429473,0.237,-2.011\n",
      "Zn4Ti1P4_sg215_icsd_245406_1,-3.637777789,0.3369999999999999,-2.171\n",
      "Zn5F1P3_sg176_icsd_086036_1,-3.151228721,0.0889999999999999,-2.931\n",
      "K1Zn2S1P1_sg188_icsd_009751_1,-3.011222491,0.2229999999999999,-2.365\n",
      "Na1Zn4P3_sg6_icsd_245989_1,-3.027641786,0.053,-2.667\n",
      "K7I1N2_sg145_icsd_416169_1,-2.445706143,0.283,-2.207\n",
      "Na1Y1Zn4N1P3_sg198_icsd_066317_3,-3.926864861,0.249,-2.101\n",
      "Zn1Sc1Hg1F7_sg15_icsd_201526_3,-4.58787665,-1.6869999999999998,-2.223\n",
      "Zn3I3P1_sg161_icsd_032652_2,-2.291071183,0.133,-2.093\n",
      "K1Zn3S2N1_sg62_icsd_036612_2,-3.475870192,0.131,-2.271\n",
      "K5O1P1_sg15_icsd_156312_2,-2.78991894,0.1029999999999999,-2.215\n",
      "Zn5Cd1P4_sg2_icsd_411635_1,-2.902982762,0.0989999999999999,-2.621\n",
      "Zn3Br3P1_sg12_icsd_023252_2,-2.599217308,0.0669999999999999,-2.007\n",
      "K7Br1P2_sg148_icsd_413410_1,-2.389391886,0.153,-2.027\n",
      "Zn2Hg1P2_sg71_icsd_055495_2,-2.666511721,0.181,-2.043\n",
      "Zn3Y1N3_sg63_icsd_411622_2,-5.258209157,0.031,-2.079\n",
      "Na1Zn4N3_sg15_icsd_417469_1,-3.796497901,0.005,-2.709\n",
      "Zn3La1P3_sg198_icsd_000645_2,-3.869111774,0.149,-2.289\n",
      "Zn4Cd1I1P3_sg186_icsd_280329_2,-2.752177432,0.1109999999999999,-2.187\n",
      "K2La1Zn2N3_sg2_icsd_200497_1,-4.441615969,0.003,-2.033\n",
      "Zn1Sc1F5_sg194_icsd_646285_1,-5.433996462,-2.477,-3.025\n",
      "Na1Sc2F7_sg137_icsd_028411_1,-6.151202504,-2.927,-2.673\n",
      "K7Cl1N2_sg31_icsd_000613_1,-2.562581987,0.291,-2.197\n",
      "Zn5F1N3_sg14_icsd_419822_1,-4.003404551,-0.021,-2.499\n",
      "Zn4Cd1F1P3_sg2_icsd_015591_1,-3.054799683,0.121,-2.085\n",
      "Zn2Br1P1_sg71_icsd_170341_2,-2.748979116,0.0929999999999999,-2.531\n",
      "Na5Zn2P3_sg217_icsd_417101_1,-2.853749557,0.055,-2.173\n",
      "K5Zn2N3_sg159_icsd_087349_1,-2.796737599,0.337,-2.763\n",
      "K6N1P1_sg225_icsd_108776_1,-2.084280047,0.475,-2.649\n",
      "Zn3O1S2_sg62_icsd_202028_1,-3.288370074,0.573,-2.079\n",
      "K4Zn1N2_sg2_icsd_082204_1,-2.961238054,0.051,-2.755\n",
      "K5Zn1Hg1N3_sg12_icsd_040249_1,-2.906828689,0.137,-2.083\n",
      "K5O1N1_sg15_icsd_080627_1,-2.836714611,0.179,-2.389\n",
      "Zn3N1P1_sg2_icsd_026553_2,-3.43291346,0.0569999999999999,-2.853\n",
      "K1Sc1Zn4N4_sg198_icsd_031361_3,-4.62174753,0.059,-2.087\n",
      "Zn4Sb1I1P4_sg85_icsd_068309_1,-3.049076495,0.437,-2.043\n",
      "K2Zn3Ge1P4_sg14_icsd_099893_1,-3.340767685,0.001,-2.049\n",
      "Na1La1Zn4P4_sg2_icsd_010297_1,-3.525101895,0.207,-2.223\n",
      "K5Zn2P3_sg217_icsd_417101_1,-2.720276811,0.125,-2.313\n",
      "Zn5S2P2_sg194_icsd_049912_1,-3.156980278,0.119,-2.705\n",
      "K7Br1N2_sg31_icsd_000613_1,-2.545278834,0.249,-2.207\n",
      "Zn4O1P2_sg66_icsd_635290_1,-3.244337316,0.269,-2.849\n",
      "K2Zn3Ge1N4_sg11_icsd_401745_1,-4.129847659,0.255,-2.003\n",
      "Zn5Hg1N4_sg81_icsd_407646_1,-3.597037904,0.297,-2.199\n",
      "Zn5I1P3_sg176_icsd_086036_1,-2.762339501,0.157,-2.881\n",
      "Na1Zn5O1N3_sg12_icsd_040249_1,-3.969980152,0.0569999999999999,-2.387\n",
      "Mg1Zn4Cl1P3_sg140_icsd_050735_2,-2.77886854,0.4610000000000001,-2.237\n",
      "Zn5Cl1P3_sg63_icsd_033914_1,-3.007421781,0.035,-2.883\n",
      "Li2Zn3O4_sg69_icsd_026267_1,-4.408534802,-0.4809999999999998,-2.059\n",
      "Na4Zn1P2_sg182_icsd_002769_1,-2.6089456,0.235,-2.035\n",
      "Zn1Sc1Cd1F7_sg13_icsd_281208_4,-4.898243491,-1.7029999999999998,-2.117\n",
      "Zn5Hg1P4_sg2_icsd_411635_1,-2.86469531,0.083,-2.549\n",
      "Zn3Cd1S1P2_sg59_icsd_033261_2,-2.864501414,0.263,-2.087\n",
      "Na1Sc1F4_sg186_icsd_023765_1,-5.890997698,-1.973,-2.013\n",
      "Zn5O1S4_sg2_icsd_411635_1,-3.49868403,0.221,-2.101\n",
      "Zn6N3P1_sg2_icsd_063582_1,-3.732980957,0.159,-2.795\n",
      "K7F1N2_sg145_icsd_416169_1,-2.755532867,0.255,-2.221\n",
      "Na1Zn2S1N1_sg156_icsd_040458_4,-3.642634184,0.057,-2.069\n",
      "Zn3Y1P3_sg19_icsd_014305_2,-4.047601036,0.177,-2.165\n",
      "Zn4B1Cl2P3_sg11_icsd_401745_1,-3.415809537,0.261,-2.035\n",
      "Zn5S2N2_sg194_icsd_049912_1,-3.581255803,0.191,-2.517\n",
      "K5S1N1_sg15_icsd_156312_1,-2.676817129,0.2309999999999999,-2.197\n",
      "Zn3Si1Cl1P3_sg160_icsd_088685_1,-3.731770923,0.1029999999999999,-2.065\n",
      "Zn2Cl1P1_sg14_icsd_627631_2,-2.871061602,0.1109999999999999,-2.569\n",
      "Zn4O1S3_sg15_icsd_249417_1,-3.577801884,0.195,-2.029\n",
      "K6La1N3_sg2_icsd_063582_1,-3.420607471,0.067,-2.083\n",
      "K1Zn4N3_sg1_icsd_100849_1,-3.77688717,-0.0069999999999999,-2.425\n",
      "Na4Zn1N2_sg2_icsd_067976_1,-3.186187213,-0.045,-2.271\n",
      "Li1Zn4N3_sg176_icsd_640055_1,-4.010726925,0.1109999999999999,-2.251\n",
      "Zn4Zr1P4_sg23_icsd_245439_2,-3.948226303,0.191,-2.323\n",
      "Zn4Sb1Cl1P4_sg62_icsd_422827_2,-3.306171766,0.2929999999999999,-2.029\n",
      "K3Zn2S2P1_sg62_icsd_060621_2,-3.152463618,0.0589999999999999,-2.005\n",
      "Na3Zn2Cd1P3_sg189_icsd_099075_2,-2.8968978,0.0669999999999999,-2.001\n",
      "Zn4Hf1P4_sg1_icsd_079005_1,-4.206766421,0.0749999999999999,-2.313\n",
      "Zn3B1P3_sg2_icsd_061354_2,-3.725647445,0.327,-2.229\n",
      "Zn5O2P2_sg194_icsd_613190_1,-3.489773537,0.2570000000000001,-2.631\n",
      "Zn2F1P1_sg194_icsd_042927_2,-3.325105254,0.1029999999999999,-2.645\n",
      "Na1Zn2O1N1_sg2_icsd_171429_2,-4.04488013,0.025,-2.103\n",
      "Zn3Ge1Br1P3_sg160_icsd_088685_1,-3.529620735,0.0849999999999999,-2.005\n",
      "Mg1Zn5P4_sg2_icsd_411635_1,-3.093408086,0.1109999999999999,-2.711\n",
      "Zn5Br1P3_sg176_icsd_086036_1,-2.809596561,0.171,-2.899\n",
      "Zn6N1P3_sg14_icsd_027070_1,-3.196945944,0.161,-3.009\n",
      "Zn1Sc1F4Br1_sg2_icsd_073692_1,-5.010587024,-1.557,-2.059\n",
      "Zn4Hf1N1P3_sg205_icsd_201033_2,-4.402483557,0.2949999999999999,-2.029\n",
      "K4Hg1N2_sg166_icsd_151457_1,-2.323718744,0.559,-2.055\n",
      "Zn3Si1I1P3_sg31_icsd_098673_3,-3.409229118,0.1109999999999999,-2.029\n",
      "Zn4O3S1_sg140_icsd_652443_1,-3.825503789,0.4770000000000001,-2.019\n",
      "Zn2I1P1_sg166_icsd_073482_1,-2.453905016,0.191,-2.559\n",
      "Na1Zn4S3N1_sg205_icsd_201033_2,-3.526222512,0.0889999999999999,-2.087\n",
      "Zn3Cl3P1_sg12_icsd_023252_2,-2.833006787,0.0709999999999999,-2.069\n",
      "K1Zn2O1N1_sg129_icsd_171430_2,-3.717075435,0.275,-2.245\n",
      "Zn4Hg1S2P2_sg132_icsd_280644_1,-3.03155579,0.1089999999999999,-2.063\n",
      "Zn5Br1N3_sg12_icsd_402124_1,-3.546859239,0.2229999999999999,-2.553\n",
      "Zn5Cd1N4_sg2_icsd_411635_1,-3.817662415,0.131,-2.233\n",
      "K1Zn5S1P3_sg60_icsd_002714_2,-2.972863124,0.209,-2.615\n",
      "Zn3Sc1P3_sg198_icsd_000645_2,-3.948451589,0.183,-2.307\n",
      "K2Zn3S1P2_sg194_icsd_089517_2,-2.949624849,0.2149999999999999,-2.505\n",
      "Zn3Al1P3_sg12_icsd_048004_2,-3.484446518,0.205,-2.245\n",
      "Zn4B1Br2P3_sg186_icsd_420783_1,-3.126365693,0.441,-2.001\n",
      "Zn4Ti1N4_sg62_icsd_095649_1,-5.099974703,0.075,-2.007\n",
      "Mg1Sc1F5_sg79_icsd_014130_2,-5.968696497,-2.437,-2.235\n",
      "K4F1N1_sg114_icsd_165708_1,-3.001568389,0.209,-2.049\n",
      "Na2Zn3Ge1P4_sg186_icsd_420783_1,-3.371717777,0.2209999999999999,-2.045\n",
      "K7O2P1_sg145_icsd_416169_1,-2.935676598,0.157,-2.061\n",
      "Li1Zn5O1N3_sg2_icsd_060934_2,-3.779143775,0.167,-2.071\n",
      "Zn3F3P1_sg15_icsd_040127_2,-3.649181135,0.0189999999999999,-2.265\n",
      "Zn4Ti1N1P3_sg205_icsd_201033_2,-4.010551894,0.401,-2.055\n",
      "Mg1Zn2P2_sg141_icsd_055349_1,-3.142391704,0.175,-2.019\n",
      "Zn4Cd1O2P2_sg2_icsd_074022_2,-3.524230492,0.167,-2.091\n",
      "Zn4O1N2_sg65_icsd_023265_1,-3.893566656,0.257,-2.553\n",
      "Zn3F3N1_sg214_icsd_037323_1,-3.875803741,0.1109999999999999,-2.111\n",
      "K7O2N1_sg14_icsd_200871_1,-2.96152936,0.0969999999999999,-2.345\n",
      "Li1Zn4P3_sg123_icsd_023325_1,-3.052656269,0.1029999999999999,-2.705\n",
      "Li1Zn4Al1P4_sg85_icsd_068309_3,-3.261249114,0.3009999999999999,-2.129\n",
      "Zn4S1P2_sg111_icsd_635300_1,-3.05404705,0.157,-2.883\n",
      "Zn4Ge1P4_sg1_icsd_079005_2,-3.537843562,0.129,-2.451\n",
      "\n"
     ]
    }
   ],
   "source": [
    "print(df.to_csv(None))"
   ]
  },
  {
   "cell_type": "code",
   "execution_count": 33,
   "id": "5d3f1df2-8495-4b7d-915c-87ca47f74478",
   "metadata": {},
   "outputs": [
    {
     "data": {
      "text/html": [
       "<div>\n",
       "<style scoped>\n",
       "    .dataframe tbody tr th:only-of-type {\n",
       "        vertical-align: middle;\n",
       "    }\n",
       "\n",
       "    .dataframe tbody tr th {\n",
       "        vertical-align: top;\n",
       "    }\n",
       "\n",
       "    .dataframe thead th {\n",
       "        text-align: right;\n",
       "    }\n",
       "</style>\n",
       "<table border=\"1\" class=\"dataframe\">\n",
       "  <thead>\n",
       "    <tr style=\"text-align: right;\">\n",
       "      <th></th>\n",
       "      <th>energyperatom</th>\n",
       "      <th>decomp_energy</th>\n",
       "      <th>pred_decomp_energy</th>\n",
       "    </tr>\n",
       "    <tr>\n",
       "      <th>id</th>\n",
       "      <th></th>\n",
       "      <th></th>\n",
       "      <th></th>\n",
       "    </tr>\n",
       "  </thead>\n",
       "  <tbody>\n",
       "    <tr>\n",
       "      <th>Li2Zn2O3_sg2_icsd_024370_2</th>\n",
       "      <td>-4.536104</td>\n",
       "      <td>-0.789</td>\n",
       "      <td>-2.105</td>\n",
       "    </tr>\n",
       "    <tr>\n",
       "      <th>Mg1Sc1Zn1F7_sg63_icsd_092470_5</th>\n",
       "      <td>-5.338747</td>\n",
       "      <td>-1.671</td>\n",
       "      <td>-2.013</td>\n",
       "    </tr>\n",
       "    <tr>\n",
       "      <th>Zn3La1N3_sg19_icsd_014305_1</th>\n",
       "      <td>-5.001270</td>\n",
       "      <td>-0.007</td>\n",
       "      <td>-2.109</td>\n",
       "    </tr>\n",
       "    <tr>\n",
       "      <th>Zn1Sc1Hg1F7_sg15_icsd_201526_3</th>\n",
       "      <td>-4.587877</td>\n",
       "      <td>-1.687</td>\n",
       "      <td>-2.223</td>\n",
       "    </tr>\n",
       "    <tr>\n",
       "      <th>Zn1Sc1F5_sg194_icsd_646285_1</th>\n",
       "      <td>-5.433996</td>\n",
       "      <td>-2.477</td>\n",
       "      <td>-3.025</td>\n",
       "    </tr>\n",
       "    <tr>\n",
       "      <th>Na1Sc2F7_sg137_icsd_028411_1</th>\n",
       "      <td>-6.151203</td>\n",
       "      <td>-2.927</td>\n",
       "      <td>-2.673</td>\n",
       "    </tr>\n",
       "    <tr>\n",
       "      <th>Zn5F1N3_sg14_icsd_419822_1</th>\n",
       "      <td>-4.003405</td>\n",
       "      <td>-0.021</td>\n",
       "      <td>-2.499</td>\n",
       "    </tr>\n",
       "    <tr>\n",
       "      <th>Li2Zn3O4_sg69_icsd_026267_1</th>\n",
       "      <td>-4.408535</td>\n",
       "      <td>-0.481</td>\n",
       "      <td>-2.059</td>\n",
       "    </tr>\n",
       "    <tr>\n",
       "      <th>Zn1Sc1Cd1F7_sg13_icsd_281208_4</th>\n",
       "      <td>-4.898243</td>\n",
       "      <td>-1.703</td>\n",
       "      <td>-2.117</td>\n",
       "    </tr>\n",
       "    <tr>\n",
       "      <th>Na1Sc1F4_sg186_icsd_023765_1</th>\n",
       "      <td>-5.890998</td>\n",
       "      <td>-1.973</td>\n",
       "      <td>-2.013</td>\n",
       "    </tr>\n",
       "    <tr>\n",
       "      <th>K1Zn4N3_sg1_icsd_100849_1</th>\n",
       "      <td>-3.776887</td>\n",
       "      <td>-0.007</td>\n",
       "      <td>-2.425</td>\n",
       "    </tr>\n",
       "    <tr>\n",
       "      <th>Na4Zn1N2_sg2_icsd_067976_1</th>\n",
       "      <td>-3.186187</td>\n",
       "      <td>-0.045</td>\n",
       "      <td>-2.271</td>\n",
       "    </tr>\n",
       "    <tr>\n",
       "      <th>Zn1Sc1F4Br1_sg2_icsd_073692_1</th>\n",
       "      <td>-5.010587</td>\n",
       "      <td>-1.557</td>\n",
       "      <td>-2.059</td>\n",
       "    </tr>\n",
       "    <tr>\n",
       "      <th>Mg1Sc1F5_sg79_icsd_014130_2</th>\n",
       "      <td>-5.968696</td>\n",
       "      <td>-2.437</td>\n",
       "      <td>-2.235</td>\n",
       "    </tr>\n",
       "  </tbody>\n",
       "</table>\n",
       "</div>"
      ],
      "text/plain": [
       "                                energyperatom  decomp_energy  \\\n",
       "id                                                             \n",
       "Li2Zn2O3_sg2_icsd_024370_2          -4.536104         -0.789   \n",
       "Mg1Sc1Zn1F7_sg63_icsd_092470_5      -5.338747         -1.671   \n",
       "Zn3La1N3_sg19_icsd_014305_1         -5.001270         -0.007   \n",
       "Zn1Sc1Hg1F7_sg15_icsd_201526_3      -4.587877         -1.687   \n",
       "Zn1Sc1F5_sg194_icsd_646285_1        -5.433996         -2.477   \n",
       "Na1Sc2F7_sg137_icsd_028411_1        -6.151203         -2.927   \n",
       "Zn5F1N3_sg14_icsd_419822_1          -4.003405         -0.021   \n",
       "Li2Zn3O4_sg69_icsd_026267_1         -4.408535         -0.481   \n",
       "Zn1Sc1Cd1F7_sg13_icsd_281208_4      -4.898243         -1.703   \n",
       "Na1Sc1F4_sg186_icsd_023765_1        -5.890998         -1.973   \n",
       "K1Zn4N3_sg1_icsd_100849_1           -3.776887         -0.007   \n",
       "Na4Zn1N2_sg2_icsd_067976_1          -3.186187         -0.045   \n",
       "Zn1Sc1F4Br1_sg2_icsd_073692_1       -5.010587         -1.557   \n",
       "Mg1Sc1F5_sg79_icsd_014130_2         -5.968696         -2.437   \n",
       "\n",
       "                                pred_decomp_energy  \n",
       "id                                                  \n",
       "Li2Zn2O3_sg2_icsd_024370_2                  -2.105  \n",
       "Mg1Sc1Zn1F7_sg63_icsd_092470_5              -2.013  \n",
       "Zn3La1N3_sg19_icsd_014305_1                 -2.109  \n",
       "Zn1Sc1Hg1F7_sg15_icsd_201526_3              -2.223  \n",
       "Zn1Sc1F5_sg194_icsd_646285_1                -3.025  \n",
       "Na1Sc2F7_sg137_icsd_028411_1                -2.673  \n",
       "Zn5F1N3_sg14_icsd_419822_1                  -2.499  \n",
       "Li2Zn3O4_sg69_icsd_026267_1                 -2.059  \n",
       "Zn1Sc1Cd1F7_sg13_icsd_281208_4              -2.117  \n",
       "Na1Sc1F4_sg186_icsd_023765_1                -2.013  \n",
       "K1Zn4N3_sg1_icsd_100849_1                   -2.425  \n",
       "Na4Zn1N2_sg2_icsd_067976_1                  -2.271  \n",
       "Zn1Sc1F4Br1_sg2_icsd_073692_1               -2.059  \n",
       "Mg1Sc1F5_sg79_icsd_014130_2                 -2.235  "
      ]
     },
     "execution_count": 33,
     "metadata": {},
     "output_type": "execute_result"
    }
   ],
   "source": [
    "df[df['decomp_energy'] < 0]"
   ]
  },
  {
   "cell_type": "code",
   "execution_count": null,
   "id": "3174dbd5-a62e-4775-9f45-d40675a236fb",
   "metadata": {},
   "outputs": [],
   "source": []
  }
 ],
 "metadata": {
  "kernelspec": {
   "display_name": "Python 3 (ipykernel)",
   "language": "python",
   "name": "python3"
  },
  "language_info": {
   "codemirror_mode": {
    "name": "ipython",
    "version": 3
   },
   "file_extension": ".py",
   "mimetype": "text/x-python",
   "name": "python",
   "nbconvert_exporter": "python",
   "pygments_lexer": "ipython3",
   "version": "3.8.10"
  }
 },
 "nbformat": 4,
 "nbformat_minor": 5
}
