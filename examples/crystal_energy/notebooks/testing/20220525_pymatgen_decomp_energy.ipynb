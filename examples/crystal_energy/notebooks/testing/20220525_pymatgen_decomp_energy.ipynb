{
 "cells": [
  {
   "cell_type": "markdown",
   "id": "fe09880b-d6b6-44ac-9d9e-683f69618c9c",
   "metadata": {},
   "source": [
    "## Pymatgen decomposition energy\n",
    "Pymatgen has code to compute the phase diagram for a composition, and use it to compute the decomposition energy\n",
    "- https://pymatgen.org/pymatgen.analysis.phase_diagram.html\n",
    "  - https://pymatgen.org/pymatgen.analysis.phase_diagram.html#pymatgen.analysis.phase_diagram.PhaseDiagram.get_decomp_and_e_above_hull\n",
    "\n",
    "See how it compares to the decomposition energy from our scripts"
   ]
  },
  {
   "cell_type": "code",
   "execution_count": 1,
   "id": "ecb9ba66-aaf9-4794-873f-276f06b11e5a",
   "metadata": {},
   "outputs": [],
   "source": [
    "import os\n",
    "import sys\n",
    "import numpy as np\n",
    "# import psycopg2\n",
    "import sqlalchemy\n",
    "import pandas as pd\n",
    "from collections import defaultdict\n",
    "from tqdm.notebook import tqdm\n",
    "tqdm.pandas()\n",
    "\n",
    "import matplotlib.pyplot as plt\n",
    "import seaborn as sns\n",
    "sns.set(\n",
    "    context='talk',\n",
    "    # context='paper',\n",
    "    # font_scale=8/8.8,\n",
    "#     context=\"talk\",\n",
    "    style='ticks',\n",
    "    color_codes=True,\n",
    "    rc={'legend.frameon': False})\n",
    "\n",
    "plt.rcParams['svg.fonttype'] = 'none'\n",
    "\n",
    "%matplotlib inline"
   ]
  },
  {
   "cell_type": "code",
   "execution_count": 2,
   "id": "7dd549b9-17e9-4863-a27e-77eaff0af57a",
   "metadata": {},
   "outputs": [
    {
     "name": "stdout",
     "output_type": "stream",
     "text": [
      "1.22.1\n",
      "1.3.5\n"
     ]
    }
   ],
   "source": [
    "print(np.__version__)\n",
    "print(pd.__version__)"
   ]
  },
  {
   "cell_type": "code",
   "execution_count": 3,
   "id": "74ab152b-145b-4f32-8953-ce507531a8ba",
   "metadata": {},
   "outputs": [
    {
     "name": "stderr",
     "output_type": "stream",
     "text": [
      "2022-05-25 23:14:34.245973: W tensorflow/stream_executor/platform/default/dso_loader.cc:64] Could not load dynamic library 'libcudart.so.11.0'; dlerror: libcudart.so.11.0: cannot open shared object file: No such file or directory; LD_LIBRARY_PATH: /nopt/slurm/current/lib:\n",
      "2022-05-25 23:14:34.246002: I tensorflow/stream_executor/cuda/cudart_stub.cc:29] Ignore above cudart dlerror if you do not have a GPU set up on your machine.\n"
     ]
    },
    {
     "name": "stdout",
     "output_type": "stream",
     "text": [
      "0.3.6\n"
     ]
    }
   ],
   "source": [
    "import nfp\n",
    "print(nfp.__version__)"
   ]
  },
  {
   "cell_type": "code",
   "execution_count": 4,
   "id": "41acb4ec-583a-488d-a313-849ae9c7ca64",
   "metadata": {},
   "outputs": [],
   "source": [
    "os.chdir('../')"
   ]
  },
  {
   "cell_type": "code",
   "execution_count": 5,
   "id": "53f4bd62-4340-42de-9e6c-3ce86e5f591a",
   "metadata": {},
   "outputs": [
    {
     "name": "stdout",
     "output_type": "stream",
     "text": [
      "/home/jlaw/projects/arpa-e/crystals/rlmolecule/examples/crystal_energy\n"
     ]
    }
   ],
   "source": [
    "print(os.getcwd())\n",
    "sys.path.append('../../')\n",
    "import rlmolecule\n",
    "from rlmolecule.sql.run_config import RunConfig\n",
    "from rlmolecule.sql import Base, Session\n",
    "from rlmolecule.sql.tables import GameStore, RewardStore, StateStore\n",
    "from scripts import ehull"
   ]
  },
  {
   "cell_type": "code",
   "execution_count": 6,
   "id": "ae715331-20bd-47cd-b46c-aa90d582448e",
   "metadata": {},
   "outputs": [
    {
     "name": "stdout",
     "output_type": "stream",
     "text": [
      "Reading inputs/competing_phases.csv\n",
      "\t12682 lines\n",
      "  sortedformula   icsdnum  energyperatom reduced_composition\n",
      "0    Ag10Br3Te4  173116.0      -1.718985          Ag10Br3Te4\n",
      "1   Ag11K1O16V4  391344.0      -4.797702         Ag11K1O16V4\n"
     ]
    }
   ],
   "source": [
    "# Dataframe containing competing phases from NRELMatDB\n",
    "print(\"Reading inputs/competing_phases.csv\")\n",
    "df_competing_phases = pd.read_csv('inputs/competing_phases.csv')\n",
    "print(f\"\\t{len(df_competing_phases)} lines\")\n",
    "print(df_competing_phases.head(2))"
   ]
  },
  {
   "cell_type": "code",
   "execution_count": 16,
   "id": "bab33715-04f6-44c3-b9ae-bb8df209c8b1",
   "metadata": {},
   "outputs": [
    {
     "data": {
      "text/plain": [
       "PDEntry : Ag10 Br3 Te4 with energy = -1.7190"
      ]
     },
     "execution_count": 16,
     "metadata": {},
     "output_type": "execute_result"
    }
   ],
   "source": [
    "# convert the competing phases into pymatgen PD Entries\n",
    "# https://pymatgen.org/pymatgen.analysis.phase_diagram.html#pymatgen.analysis.phase_diagram.PDEntry\n",
    "from pymatgen.analysis.phase_diagram import PhaseDiagram, PDEntry\n",
    "from pymatgen.core.composition import Composition\n",
    "from pymatgen.core.periodic_table import Element\n",
    "composition = Composition(\"Ag10Br3Te4\")\n",
    "pd_entry = PDEntry(composition, -1.718985)\n",
    "pd_entry"
   ]
  },
  {
   "cell_type": "code",
   "execution_count": 26,
   "id": "e7aa951b-e5c8-4e78-8c81-a450ff0e9ed4",
   "metadata": {},
   "outputs": [],
   "source": [
    "# ---FERE reference chemical potentials-----\n",
    "ferev2_chempot = {'Ag': -0.79, 'Al': -3.27, 'Al_anion': -3.55, 'As': -4.95, 'As_cation': -4.42, 'Au': -1.96, 'B': -6.73,\n",
    "                  'B_anion': -6.44, 'Ba': -1.44, 'Be': -3.50, 'Bi_cation': -4.22, 'Bi': -4.19, 'Br': -1.54, 'C': -8.94,\n",
    "                  'Ca': -1.78, 'Cd': -0.64, 'Cl': -1.74, 'Co': -4.67, 'Cr': -7.08, 'Cu': -1.87, 'F': -1.44, 'Fe': -6.00,\n",
    "                  'Ga': -2.53, 'Ge': -4.34, 'Ge_anion': -4.84, 'Hf': -7.38, 'Hg': -0.10, 'I': -1.53, 'In': -2.39,\n",
    "                  'Ir': -6.31, 'K': -0.79, 'La': -3.76, 'Li': -1.58, 'Mg': -1.23, 'Mo': -7.37, 'Mn': -6.86, 'N': -8.46,\n",
    "                  'Na': -1.02, 'Nb': -6.92, 'Ni': -3.65, 'O': -4.80, 'P': -5.17, 'P_cation': -5.14, 'Pb': -3.85,\n",
    "                  'Pb_anion': -4.29, 'Pd': -3.00, 'Pt': -3.88, 'Rb': -0.58, 'Rh': -4.66, 'Ru': -6.14, 'S': -4.01,\n",
    "                  'Sb_cation': -4.13, 'Sb': -4.16, 'Sc': -4.42, 'Se': -3.54, 'Si': -5.30, 'Si_anion': -5.40,\n",
    "                  'Sn': -3.87, 'Sn_anion': -3.71, 'Sr': -1.32, 'Ta': -8.82, 'Te': -3.18, 'Te_cation': -2.75,\n",
    "                  'Ti': -5.39, 'V': -6.40, 'W': -9.61, 'Y': -4.96, 'Zn': -0.94, 'Zr': -6.39}\n",
    "fere_entries = [PDEntry(e, energy) for e, energy in ferev2_chempot.items() if \"ion\" not in e]"
   ]
  },
  {
   "cell_type": "code",
   "execution_count": 35,
   "id": "8dc8da35-7014-4cdc-a362-2633788025b3",
   "metadata": {},
   "outputs": [
    {
     "data": {
      "application/vnd.jupyter.widget-view+json": {
       "model_id": "3570cf09442e4f388c12f665cd3cf38f",
       "version_major": 2,
       "version_minor": 0
      },
      "text/plain": [
       "  0%|          | 0/12682 [00:00<?, ?it/s]"
      ]
     },
     "metadata": {},
     "output_type": "display_data"
    }
   ],
   "source": [
    "pd_entries = df_competing_phases.progress_apply(\n",
    "    lambda row: PDEntry(Composition(row.reduced_composition),\n",
    "                        row.energyperatom), \n",
    "    axis=1\n",
    ")"
   ]
  },
  {
   "cell_type": "code",
   "execution_count": 36,
   "id": "74e83b05-1ac6-476f-824a-e3c80254ae0c",
   "metadata": {},
   "outputs": [
    {
     "data": {
      "text/plain": [
       "0                PDEntry : Ag1 with energy = -0.7900\n",
       "1                PDEntry : Al1 with energy = -3.2700\n",
       "2                PDEntry : As1 with energy = -4.9500\n",
       "3                PDEntry : Au1 with energy = -1.9600\n",
       "4                 PDEntry : B1 with energy = -6.7300\n",
       "                            ...                     \n",
       "12735    PDEntry : Sn2 Sr1 Zn2 with energy = -2.8068\n",
       "12736        PDEntry : Sn2 Ta1 with energy = -5.7608\n",
       "12737        PDEntry : Sn2 Zr1 with energy = -5.2845\n",
       "12738    PDEntry : Sn3 Zn1 Zr5 with energy = -5.6885\n",
       "12739         PDEntry : Li2 O1 with energy = -4.7670\n",
       "Name: 0, Length: 12740, dtype: object"
      ]
     },
     "execution_count": 36,
     "metadata": {},
     "output_type": "execute_result"
    }
   ],
   "source": [
    "pd_entries = pd.concat([pd.Series(fere_entries), pd_entries]).reset_index()[0]\n",
    "pd_entries"
   ]
  },
  {
   "cell_type": "code",
   "execution_count": 42,
   "id": "6e2566d7-ddb3-42dc-8963-e30c1af39c41",
   "metadata": {},
   "outputs": [
    {
     "data": {
      "text/plain": [
       "{Element Ag}"
      ]
     },
     "execution_count": 42,
     "metadata": {},
     "output_type": "execute_result"
    }
   ],
   "source": [
    "set(pd_entries[0].composition.elements)"
   ]
  },
  {
   "cell_type": "code",
   "execution_count": 23,
   "id": "bf9498fd-1541-49dd-a488-a698e05d5e0c",
   "metadata": {},
   "outputs": [],
   "source": [
    "import itertools"
   ]
  },
  {
   "cell_type": "code",
   "execution_count": 114,
   "id": "640ef795-27d9-4417-9434-596c9bc31594",
   "metadata": {},
   "outputs": [
    {
     "name": "stdout",
     "output_type": "stream",
     "text": [
      "5 entries match an element\n"
     ]
    },
    {
     "data": {
      "text/plain": [
       "Br-Na-Al phase diagram\n",
       "4 stable phases: \n",
       "Br, Al, NaBr, Na"
      ]
     },
     "execution_count": 114,
     "metadata": {},
     "output_type": "execute_result"
    }
   ],
   "source": [
    "#id, energyperatom, decomp_energy\n",
    "#Na3Al1Br6_sg163_icsd_062035_1,-3.128,-0.5049999999999999,\n",
    "test_comp = Composition(\"Na3Al1Br6\")\n",
    "test_energy = -3.128\n",
    "test_entry = PDEntry(Composition(test_comp), test_energy)\n",
    "elements = set(test_comp.elements)\n",
    "curr_entries = [e for e in pd_entries \\\n",
    "                if len(set(e.composition.elements) - elements) == 0]\n",
    "curr_entries += [test_entry]\n",
    "print(f\"{len(curr_entries)} entries match an element\")\n",
    "phase_diagram = PhaseDiagram(curr_entries, elements=elements)\n",
    "# phase_diagram = PhaseDiagram(pd_entries)\n",
    "phase_diagram"
   ]
  },
  {
   "cell_type": "code",
   "execution_count": 115,
   "id": "e9c7d9ac-0b62-4330-8109-acfd12d0f8cc",
   "metadata": {},
   "outputs": [
    {
     "data": {
      "text/plain": [
       "({PDEntry : Br1 Na1 with energy = -3.0572: 0.6,\n",
       "  PDEntry : Al1 with energy = -3.2700: 0.1,\n",
       "  PDEntry : Br1 with energy = -1.5400: 0.30000000000000004},\n",
       " 1.3933731999999999)"
      ]
     },
     "execution_count": 115,
     "metadata": {},
     "output_type": "execute_result"
    }
   ],
   "source": [
    "phase_diagram.get_decomp_and_e_above_hull(test_entry, allow_negative=True)"
   ]
  },
  {
   "cell_type": "code",
   "execution_count": 116,
   "id": "49e816c0-bf68-4fb4-a67b-7a19de7d0517",
   "metadata": {},
   "outputs": [
    {
     "data": {
      "text/plain": [
       "({PDEntry : Br1 Na1 with energy = -3.0572: 0.6,\n",
       "  PDEntry : Al1 with energy = -3.2700: 0.1,\n",
       "  PDEntry : Br1 with energy = -1.5400: 0.30000000000000004},\n",
       " -1.7061731999999998)"
      ]
     },
     "execution_count": 116,
     "metadata": {},
     "output_type": "execute_result"
    }
   ],
   "source": [
    "decomp, energy = phase_diagram.get_decomp_and_hull_energy_per_atom(test_comp)\n",
    "decomp, energy"
   ]
  },
  {
   "cell_type": "code",
   "execution_count": 117,
   "id": "0dba42a5-019f-42ae-a281-47396f8fa9cd",
   "metadata": {},
   "outputs": [
    {
     "data": {
      "text/plain": [
       "-17.061732"
      ]
     },
     "execution_count": 117,
     "metadata": {},
     "output_type": "execute_result"
    }
   ],
   "source": [
    "phase_diagram.get_hull_energy(test_comp)"
   ]
  },
  {
   "cell_type": "code",
   "execution_count": 83,
   "id": "b83994a1-dfb7-423a-b5ea-ac489007d2a0",
   "metadata": {},
   "outputs": [
    {
     "data": {
      "text/plain": [
       "-0.85"
      ]
     },
     "execution_count": 83,
     "metadata": {},
     "output_type": "execute_result"
    }
   ],
   "source": [
    "-17/20"
   ]
  },
  {
   "cell_type": "code",
   "execution_count": 183,
   "id": "1dde39bf-7148-406a-998f-9cfc21fe157f",
   "metadata": {},
   "outputs": [
    {
     "data": {
      "text/plain": [
       "({PDEntry : Br1 Na1 with energy = -3.0572: 0.6,\n",
       "  PDEntry : Al1 with energy = -3.2700: 0.1,\n",
       "  PDEntry : Br1 with energy = -1.5400: 0.30000000000000004},\n",
       " 1.3933731999999999)"
      ]
     },
     "execution_count": 183,
     "metadata": {},
     "output_type": "execute_result"
    }
   ],
   "source": [
    "phase_diagram.get_decomp_and_phase_separation_energy(test_entry)"
   ]
  },
  {
   "cell_type": "code",
   "execution_count": 7,
   "id": "6a31d31d-3fff-42ef-8312-cffe15fb1084",
   "metadata": {},
   "outputs": [
    {
     "data": {
      "text/html": [
       "<div>\n",
       "<style scoped>\n",
       "    .dataframe tbody tr th:only-of-type {\n",
       "        vertical-align: middle;\n",
       "    }\n",
       "\n",
       "    .dataframe tbody tr th {\n",
       "        vertical-align: top;\n",
       "    }\n",
       "\n",
       "    .dataframe thead th {\n",
       "        text-align: right;\n",
       "    }\n",
       "</style>\n",
       "<table border=\"1\" class=\"dataframe\">\n",
       "  <thead>\n",
       "    <tr style=\"text-align: right;\">\n",
       "      <th></th>\n",
       "      <th>decoration</th>\n",
       "      <th>numatoms</th>\n",
       "      <th>relaxedvolume</th>\n",
       "      <th>energyperatom</th>\n",
       "      <th>comp</th>\n",
       "      <th>id</th>\n",
       "      <th>decomp_energy</th>\n",
       "      <th>pred_energyperatom</th>\n",
       "      <th>pred_decomp_energy</th>\n",
       "    </tr>\n",
       "  </thead>\n",
       "  <tbody>\n",
       "    <tr>\n",
       "      <th>0</th>\n",
       "      <td>K1Sb1F6/K1Sb1F6_sg148_icsd_015343_1</td>\n",
       "      <td>8</td>\n",
       "      <td>132.81</td>\n",
       "      <td>-4.636</td>\n",
       "      <td>K1Sb1F6</td>\n",
       "      <td>K1Sb1F6_sg148_icsd_015343_1</td>\n",
       "      <td>0.00926</td>\n",
       "      <td>-4.608471</td>\n",
       "      <td>0.036789</td>\n",
       "    </tr>\n",
       "    <tr>\n",
       "      <th>1</th>\n",
       "      <td>Na1Hf1Hg1I7/Na1Hf1Hg1I7_sg9_icsd_060952_2</td>\n",
       "      <td>40</td>\n",
       "      <td>2016.09</td>\n",
       "      <td>-2.820</td>\n",
       "      <td>Na1Hf1Hg1I7</td>\n",
       "      <td>Na1Hf1Hg1I7_sg9_icsd_060952_2</td>\n",
       "      <td>0.04500</td>\n",
       "      <td>-2.620724</td>\n",
       "      <td>0.245000</td>\n",
       "    </tr>\n",
       "  </tbody>\n",
       "</table>\n",
       "</div>"
      ],
      "text/plain": [
       "                                  decoration  numatoms  relaxedvolume  \\\n",
       "0        K1Sb1F6/K1Sb1F6_sg148_icsd_015343_1         8         132.81   \n",
       "1  Na1Hf1Hg1I7/Na1Hf1Hg1I7_sg9_icsd_060952_2        40        2016.09   \n",
       "\n",
       "   energyperatom         comp                             id  decomp_energy  \\\n",
       "0         -4.636      K1Sb1F6    K1Sb1F6_sg148_icsd_015343_1        0.00926   \n",
       "1         -2.820  Na1Hf1Hg1I7  Na1Hf1Hg1I7_sg9_icsd_060952_2        0.04500   \n",
       "\n",
       "   pred_energyperatom  pred_decomp_energy  \n",
       "0           -4.608471            0.036789  \n",
       "1           -2.620724            0.245000  "
      ]
     },
     "execution_count": 7,
     "metadata": {},
     "output_type": "execute_result"
    }
   ],
   "source": [
    "df = pd.read_csv(\"/projects/rlmolecule/jlaw/crystal_outputs/2022-05-04/batt-icsd-volpred-KLiNa-no-halides-ScY/viz/pred_vs_dft_corrected.csv\", index_col=0)\n",
    "df.head(2)"
   ]
  }
 ],
 "metadata": {
  "kernelspec": {
   "display_name": "Python 3 (ipykernel)",
   "language": "python",
   "name": "python3"
  },
  "language_info": {
   "codemirror_mode": {
    "name": "ipython",
    "version": 3
   },
   "file_extension": ".py",
   "mimetype": "text/x-python",
   "name": "python",
   "nbconvert_exporter": "python",
   "pygments_lexer": "ipython3",
   "version": "3.8.12"
  }
 },
 "nbformat": 4,
 "nbformat_minor": 5
}
