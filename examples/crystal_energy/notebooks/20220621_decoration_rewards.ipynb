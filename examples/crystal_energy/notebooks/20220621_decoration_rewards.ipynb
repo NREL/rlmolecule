{
 "cells": [
  {
   "cell_type": "markdown",
   "id": "93d5fe87-b110-499d-afb3-16ea4b25ad58",
   "metadata": {},
   "source": [
    "## See if the MCTS runs found all the highest-reward structures"
   ]
  },
  {
   "cell_type": "code",
   "execution_count": 1,
   "id": "d5bbecc4-57b4-46f8-8f76-bd28f7ac4cce",
   "metadata": {},
   "outputs": [],
   "source": [
    "import os\n",
    "import sys\n",
    "import numpy as np\n",
    "# import psycopg2\n",
    "import sqlalchemy\n",
    "from tqdm.notebook import tqdm\n",
    "tqdm.pandas()\n",
    "import pandas as pd\n",
    "from collections import defaultdict\n",
    "from collections import Counter\n",
    "\n",
    "import matplotlib.pyplot as plt\n",
    "import seaborn as sns\n",
    "sns.set(\n",
    "    context='paper',\n",
    "    font_scale=8/8.8,\n",
    "#     context=\"talk\",\n",
    "    style='ticks',\n",
    "    color_codes=True,\n",
    "    rc={'legend.frameon': False})\n",
    "\n",
    "plt.rcParams['svg.fonttype'] = 'none'\n",
    "\n",
    "%matplotlib inline"
   ]
  },
  {
   "cell_type": "code",
   "execution_count": 2,
   "id": "1380bbc5-9148-42d9-b13e-5dea3ba8cc3b",
   "metadata": {},
   "outputs": [],
   "source": [
    "import datashader as ds\n",
    "from datashader.mpl_ext import dsshow\n",
    "import datashader.transfer_functions as dstf"
   ]
  },
  {
   "cell_type": "code",
   "execution_count": 3,
   "id": "f0329ab5-6ad7-4809-9b35-de659ee24787",
   "metadata": {},
   "outputs": [
    {
     "name": "stdout",
     "output_type": "stream",
     "text": [
      "1.22.3\n",
      "1.4.2\n"
     ]
    }
   ],
   "source": [
    "print(np.__version__)\n",
    "print(pd.__version__)"
   ]
  },
  {
   "cell_type": "code",
   "execution_count": 4,
   "id": "b58f1c26-0375-4fe8-bb83-ba11772a8442",
   "metadata": {},
   "outputs": [
    {
     "name": "stderr",
     "output_type": "stream",
     "text": [
      "2022-06-21 13:02:17.157959: W tensorflow/stream_executor/platform/default/dso_loader.cc:64] Could not load dynamic library 'libcudart.so.11.0'; dlerror: libcudart.so.11.0: cannot open shared object file: No such file or directory; LD_LIBRARY_PATH: /nopt/slurm/current/lib:\n",
      "2022-06-21 13:02:17.157993: I tensorflow/stream_executor/cuda/cudart_stub.cc:29] Ignore above cudart dlerror if you do not have a GPU set up on your machine.\n"
     ]
    },
    {
     "name": "stdout",
     "output_type": "stream",
     "text": [
      "0.3.12\n"
     ]
    }
   ],
   "source": [
    "import nfp\n",
    "print(nfp.__version__)"
   ]
  },
  {
   "cell_type": "code",
   "execution_count": 5,
   "id": "edb44942-591f-4ade-add4-9a6458540bfc",
   "metadata": {},
   "outputs": [],
   "source": [
    "os.chdir('../')"
   ]
  },
  {
   "cell_type": "code",
   "execution_count": 6,
   "id": "0cbde423-3c2c-4059-b1b8-aefb890706e5",
   "metadata": {},
   "outputs": [
    {
     "name": "stdout",
     "output_type": "stream",
     "text": [
      "/home/jlaw/projects/arpa-e/crystals/rlmolecule/examples/crystal_energy\n"
     ]
    }
   ],
   "source": [
    "print(os.getcwd())\n",
    "sys.path.append('../../')\n",
    "import rlmolecule\n",
    "from rlmolecule.sql.run_config import RunConfig\n",
    "from rlmolecule.sql import Base, Session\n",
    "from rlmolecule.sql.tables import GameStore, RewardStore, StateStore\n",
    "from rlmolecule.crystal.crystal_state import CrystalState"
   ]
  },
  {
   "cell_type": "code",
   "execution_count": 7,
   "id": "69c48182-7868-45ee-9a3c-d053f99d9055",
   "metadata": {},
   "outputs": [],
   "source": [
    "cols = ['id',\n",
    "        'reward',\n",
    "        'predicted_energy',\n",
    "        'decomp_energy',\n",
    "        'cond_ion_frac',\n",
    "        'reduction',\n",
    "        'oxidation',\n",
    "        'stability_window',\n",
    "        ]"
   ]
  },
  {
   "cell_type": "code",
   "execution_count": 24,
   "id": "c1ceb5ae-a714-4ad5-9d1e-426124a57db7",
   "metadata": {},
   "outputs": [
    {
     "name": "stdout",
     "output_type": "stream",
     "text": [
      "7698996\n"
     ]
    },
    {
     "data": {
      "text/html": [
       "<div>\n",
       "<style scoped>\n",
       "    .dataframe tbody tr th:only-of-type {\n",
       "        vertical-align: middle;\n",
       "    }\n",
       "\n",
       "    .dataframe tbody tr th {\n",
       "        vertical-align: top;\n",
       "    }\n",
       "\n",
       "    .dataframe thead th {\n",
       "        text-align: right;\n",
       "    }\n",
       "</style>\n",
       "<table border=\"1\" class=\"dataframe\">\n",
       "  <thead>\n",
       "    <tr style=\"text-align: right;\">\n",
       "      <th></th>\n",
       "      <th>id</th>\n",
       "      <th>reward</th>\n",
       "      <th>predicted_energy</th>\n",
       "      <th>decomp_energy</th>\n",
       "      <th>cond_ion_frac</th>\n",
       "      <th>reduction</th>\n",
       "      <th>oxidation</th>\n",
       "      <th>stability_window</th>\n",
       "    </tr>\n",
       "  </thead>\n",
       "  <tbody>\n",
       "    <tr>\n",
       "      <th>0</th>\n",
       "      <td>Li1Ti2Ge1Cl1N4|_1_1_1_2_4|orthorhombic|icsd_41...</td>\n",
       "      <td>0.015</td>\n",
       "      <td>0.299</td>\n",
       "      <td>7.325</td>\n",
       "      <td>0.111</td>\n",
       "      <td>NaN</td>\n",
       "      <td>NaN</td>\n",
       "      <td>NaN</td>\n",
       "    </tr>\n",
       "    <tr>\n",
       "      <th>1</th>\n",
       "      <td>Li1La1Sb1I3O3|_1_1_1_3_3|monoclinic|icsd_17166...</td>\n",
       "      <td>0.036</td>\n",
       "      <td>-0.391</td>\n",
       "      <td>4.621</td>\n",
       "      <td>0.111</td>\n",
       "      <td>NaN</td>\n",
       "      <td>NaN</td>\n",
       "      <td>NaN</td>\n",
       "    </tr>\n",
       "  </tbody>\n",
       "</table>\n",
       "</div>"
      ],
      "text/plain": [
       "                                                  id  reward  \\\n",
       "0  Li1Ti2Ge1Cl1N4|_1_1_1_2_4|orthorhombic|icsd_41...   0.015   \n",
       "1  Li1La1Sb1I3O3|_1_1_1_3_3|monoclinic|icsd_17166...   0.036   \n",
       "\n",
       "   predicted_energy  decomp_energy  cond_ion_frac  reduction  oxidation  \\\n",
       "0             0.299          7.325          0.111        NaN        NaN   \n",
       "1            -0.391          4.621          0.111        NaN        NaN   \n",
       "\n",
       "   stability_window  \n",
       "0               NaN  \n",
       "1               NaN  "
      ]
     },
     "execution_count": 24,
     "metadata": {},
     "output_type": "execute_result"
    }
   ],
   "source": [
    "# rewards_file = \"outputs/20220620_rewards/20220621_decors_cond_ion_cutoff_rewards.csv.gz\"\n",
    "rewards_file = \"/projects/rlmolecule/jlaw/crystal_outputs/2022-06-20/2022-06-22-all_decor_rewards.csv.gz\"\n",
    "df = pd.read_csv(rewards_file,\n",
    "                 names=cols)\n",
    "print(len(df))\n",
    "df.head(2)"
   ]
  },
  {
   "cell_type": "code",
   "execution_count": 25,
   "id": "deb5efbb-4c98-4265-bd98-f614b0bf8cd5",
   "metadata": {},
   "outputs": [
    {
     "name": "stdout",
     "output_type": "stream",
     "text": [
      "34296\n",
      "7\n"
     ]
    }
   ],
   "source": [
    "print(len(df[df.reward > .6]))\n",
    "print(len(df[df.reward > 1]))"
   ]
  },
  {
   "cell_type": "code",
   "execution_count": 46,
   "id": "660b2e5a-d5e1-4f87-992e-f0bbf1ca24bf",
   "metadata": {},
   "outputs": [
    {
     "data": {
      "text/plain": [
       "Text(0.5, 1.0, 'Structures not found by MCTS (7698996)')"
      ]
     },
     "execution_count": 46,
     "metadata": {},
     "output_type": "execute_result"
    },
    {
     "data": {
      "image/png": "[encoded data removed]",
      "text/plain": [
       "<Figure size 432x288 with 1 Axes>"
      ]
     },
     "metadata": {
      "needs_background": "light"
     },
     "output_type": "display_data"
    }
   ],
   "source": [
    "df.reward.hist(bins=30)\n",
    "plt.yscale(\"log\")\n",
    "plt.xlabel(\"Reward\")\n",
    "plt.title(f\"Structures not found by MCTS ({len(df)})\")"
   ]
  },
  {
   "cell_type": "code",
   "execution_count": 27,
   "id": "a606a204-234c-47ee-bcff-be235b2075de",
   "metadata": {},
   "outputs": [],
   "source": [
    "df['comp'] = df.id.apply(lambda x: x.split(\"|\")[0])"
   ]
  },
  {
   "cell_type": "code",
   "execution_count": 28,
   "id": "1b5ffee6-9778-45de-8887-3758275050c0",
   "metadata": {},
   "outputs": [
    {
     "data": {
      "text/plain": [
       "array(['K3Sc1Br4I2', 'Li3Sc1Br4I2', 'K3Sc1Br2I4'], dtype=object)"
      ]
     },
     "execution_count": 28,
     "metadata": {},
     "output_type": "execute_result"
    }
   ],
   "source": [
    "df[df.reward >= 1].comp.unique()"
   ]
  },
  {
   "cell_type": "code",
   "execution_count": 44,
   "id": "215517a6-d2d7-4706-9645-5e42f35d2311",
   "metadata": {},
   "outputs": [
    {
     "data": {
      "text/html": [
       "<div>\n",
       "<style scoped>\n",
       "    .dataframe tbody tr th:only-of-type {\n",
       "        vertical-align: middle;\n",
       "    }\n",
       "\n",
       "    .dataframe tbody tr th {\n",
       "        vertical-align: top;\n",
       "    }\n",
       "\n",
       "    .dataframe thead th {\n",
       "        text-align: right;\n",
       "    }\n",
       "</style>\n",
       "<table border=\"1\" class=\"dataframe\">\n",
       "  <thead>\n",
       "    <tr style=\"text-align: right;\">\n",
       "      <th></th>\n",
       "      <th>run_id</th>\n",
       "      <th>id</th>\n",
       "      <th>decor_id</th>\n",
       "      <th>comp</th>\n",
       "      <th>reward</th>\n",
       "      <th>decomp_energy</th>\n",
       "      <th>cond_ion_frac</th>\n",
       "      <th>reduction</th>\n",
       "      <th>oxidation</th>\n",
       "      <th>stability_window</th>\n",
       "      <th>decomp_energy_s_w</th>\n",
       "      <th>cond_ion_frac_s_w</th>\n",
       "      <th>reduction_s_w</th>\n",
       "      <th>oxidation_s_w</th>\n",
       "      <th>stability_window_s_w</th>\n",
       "      <th>run_id.1</th>\n",
       "    </tr>\n",
       "  </thead>\n",
       "  <tbody>\n",
       "    <tr>\n",
       "      <th>0</th>\n",
       "      <td>20220617-batt-icsd-vol-r90-2</td>\n",
       "      <td>Li3Sc1Br6_icsd_401335_1</td>\n",
       "      <td>Li3Sc1Br6|_1_3_6|trigonal|icsd_401335|1</td>\n",
       "      <td>Li3Sc1Br6</td>\n",
       "      <td>1.118399</td>\n",
       "      <td>-0.7607</td>\n",
       "      <td>0.3000</td>\n",
       "      <td>-0.9753</td>\n",
       "      <td>-5.0000</td>\n",
       "      <td>4.0247</td>\n",
       "      <td>0.640078</td>\n",
       "      <td>0.083333</td>\n",
       "      <td>0.044719</td>\n",
       "      <td>0.055556</td>\n",
       "      <td>0.044719</td>\n",
       "      <td>20220617-batt-icsd-vol-r90-2</td>\n",
       "    </tr>\n",
       "    <tr>\n",
       "      <th>1</th>\n",
       "      <td>20220617-batt-icsd-vol-r90-2</td>\n",
       "      <td>Na3Sc1I6_icsd_401335_1</td>\n",
       "      <td>Na3Sc1I6|_1_3_6|trigonal|icsd_401335|1</td>\n",
       "      <td>Na3Sc1I6</td>\n",
       "      <td>1.093755</td>\n",
       "      <td>-0.5759</td>\n",
       "      <td>0.3000</td>\n",
       "      <td>-0.9160</td>\n",
       "      <td>-4.7555</td>\n",
       "      <td>3.8394</td>\n",
       "      <td>0.619544</td>\n",
       "      <td>0.083333</td>\n",
       "      <td>0.045378</td>\n",
       "      <td>0.052839</td>\n",
       "      <td>0.042660</td>\n",
       "      <td>20220617-batt-icsd-vol-r90-2</td>\n",
       "    </tr>\n",
       "    <tr>\n",
       "      <th>2</th>\n",
       "      <td>20220617-batt-icsd-vol-r90-2</td>\n",
       "      <td>K5Y1Br8_icsd_262807_1</td>\n",
       "      <td>K5Y1Br8|_1_5_8|triclinic|icsd_262807|1</td>\n",
       "      <td>K5Y1Br8</td>\n",
       "      <td>1.093518</td>\n",
       "      <td>-0.5104</td>\n",
       "      <td>0.3571</td>\n",
       "      <td>-1.5579</td>\n",
       "      <td>-5.0000</td>\n",
       "      <td>3.4421</td>\n",
       "      <td>0.612267</td>\n",
       "      <td>0.099194</td>\n",
       "      <td>0.038246</td>\n",
       "      <td>0.055556</td>\n",
       "      <td>0.038246</td>\n",
       "      <td>20220617-batt-icsd-vol-r90-2</td>\n",
       "    </tr>\n",
       "    <tr>\n",
       "      <th>3</th>\n",
       "      <td>20220617-batt-icsd-vol-r90-2</td>\n",
       "      <td>K5Sc1Br8_icsd_262807_1</td>\n",
       "      <td>K5Sc1Br8|_1_5_8|triclinic|icsd_262807|1</td>\n",
       "      <td>K5Sc1Br8</td>\n",
       "      <td>1.088508</td>\n",
       "      <td>-0.4871</td>\n",
       "      <td>0.3571</td>\n",
       "      <td>-1.6667</td>\n",
       "      <td>-5.0000</td>\n",
       "      <td>3.3333</td>\n",
       "      <td>0.609678</td>\n",
       "      <td>0.099194</td>\n",
       "      <td>0.037037</td>\n",
       "      <td>0.055556</td>\n",
       "      <td>0.037037</td>\n",
       "      <td>20220617-batt-icsd-vol-r90-2</td>\n",
       "    </tr>\n",
       "    <tr>\n",
       "      <th>4</th>\n",
       "      <td>20220617-batt-icsd-vol-r90-2</td>\n",
       "      <td>Na3Al1Br6_icsd_401335_1</td>\n",
       "      <td>Na3Al1Br6|_1_3_6|trigonal|icsd_401335|1</td>\n",
       "      <td>Na3Al1Br6</td>\n",
       "      <td>1.070164</td>\n",
       "      <td>-0.5054</td>\n",
       "      <td>0.3000</td>\n",
       "      <td>-1.8697</td>\n",
       "      <td>-5.0000</td>\n",
       "      <td>3.1303</td>\n",
       "      <td>0.611711</td>\n",
       "      <td>0.083333</td>\n",
       "      <td>0.034781</td>\n",
       "      <td>0.055556</td>\n",
       "      <td>0.034781</td>\n",
       "      <td>20220617-batt-icsd-vol-r90-2</td>\n",
       "    </tr>\n",
       "  </tbody>\n",
       "</table>\n",
       "</div>"
      ],
      "text/plain": [
       "                         run_id                       id  \\\n",
       "0  20220617-batt-icsd-vol-r90-2  Li3Sc1Br6_icsd_401335_1   \n",
       "1  20220617-batt-icsd-vol-r90-2   Na3Sc1I6_icsd_401335_1   \n",
       "2  20220617-batt-icsd-vol-r90-2    K5Y1Br8_icsd_262807_1   \n",
       "3  20220617-batt-icsd-vol-r90-2   K5Sc1Br8_icsd_262807_1   \n",
       "4  20220617-batt-icsd-vol-r90-2  Na3Al1Br6_icsd_401335_1   \n",
       "\n",
       "                                  decor_id       comp    reward  \\\n",
       "0  Li3Sc1Br6|_1_3_6|trigonal|icsd_401335|1  Li3Sc1Br6  1.118399   \n",
       "1   Na3Sc1I6|_1_3_6|trigonal|icsd_401335|1   Na3Sc1I6  1.093755   \n",
       "2   K5Y1Br8|_1_5_8|triclinic|icsd_262807|1    K5Y1Br8  1.093518   \n",
       "3  K5Sc1Br8|_1_5_8|triclinic|icsd_262807|1   K5Sc1Br8  1.088508   \n",
       "4  Na3Al1Br6|_1_3_6|trigonal|icsd_401335|1  Na3Al1Br6  1.070164   \n",
       "\n",
       "   decomp_energy  cond_ion_frac  reduction  oxidation  stability_window  \\\n",
       "0        -0.7607         0.3000    -0.9753    -5.0000            4.0247   \n",
       "1        -0.5759         0.3000    -0.9160    -4.7555            3.8394   \n",
       "2        -0.5104         0.3571    -1.5579    -5.0000            3.4421   \n",
       "3        -0.4871         0.3571    -1.6667    -5.0000            3.3333   \n",
       "4        -0.5054         0.3000    -1.8697    -5.0000            3.1303   \n",
       "\n",
       "   decomp_energy_s_w  cond_ion_frac_s_w  reduction_s_w  oxidation_s_w  \\\n",
       "0           0.640078           0.083333       0.044719       0.055556   \n",
       "1           0.619544           0.083333       0.045378       0.052839   \n",
       "2           0.612267           0.099194       0.038246       0.055556   \n",
       "3           0.609678           0.099194       0.037037       0.055556   \n",
       "4           0.611711           0.083333       0.034781       0.055556   \n",
       "\n",
       "   stability_window_s_w                      run_id.1  \n",
       "0              0.044719  20220617-batt-icsd-vol-r90-2  \n",
       "1              0.042660  20220617-batt-icsd-vol-r90-2  \n",
       "2              0.038246  20220617-batt-icsd-vol-r90-2  \n",
       "3              0.037037  20220617-batt-icsd-vol-r90-2  \n",
       "4              0.034781  20220617-batt-icsd-vol-r90-2  "
      ]
     },
     "execution_count": 44,
     "metadata": {},
     "output_type": "execute_result"
    }
   ],
   "source": [
    "# also load the best decorations\n",
    "best_decorations_file = \"/projects/rlmolecule/jlaw/crystal_outputs/2022-06-20/batt-icsd-vol-3runs/best_decorations.csv\"\n",
    "df_mcts_best = pd.read_csv(best_decorations_file)\n",
    "df_mcts_best.head()"
   ]
  },
  {
   "cell_type": "code",
   "execution_count": 45,
   "id": "fd3dc437-0aa5-4e6a-8107-551bd9334e6b",
   "metadata": {},
   "outputs": [
    {
     "data": {
      "text/plain": [
       "<AxesSubplot:>"
      ]
     },
     "execution_count": 45,
     "metadata": {},
     "output_type": "execute_result"
    },
    {
     "data": {
      "image/png": "[encoded data removed]",
      "text/plain": [
       "<Figure size 432x288 with 1 Axes>"
      ]
     },
     "metadata": {
      "needs_background": "light"
     },
     "output_type": "display_data"
    }
   ],
   "source": [
    "df_mcts_best.reward.hist(bins=30)"
   ]
  },
  {
   "cell_type": "code",
   "execution_count": 35,
   "id": "b231fe2a-5b85-480a-a486-fcb265f803f3",
   "metadata": {},
   "outputs": [
    {
     "data": {
      "text/plain": [
       "659"
      ]
     },
     "execution_count": 35,
     "metadata": {},
     "output_type": "execute_result"
    }
   ],
   "source": [
    "comps_missed = set(df[df.reward > .6].comp) - set(df_mcts.comp)\n",
    "len(comps_missed)"
   ]
  },
  {
   "cell_type": "code",
   "execution_count": 33,
   "id": "4b10bf4b-0052-45d1-bd99-36fd7cc07ebe",
   "metadata": {},
   "outputs": [
    {
     "data": {
      "text/plain": [
       "1344"
      ]
     },
     "execution_count": 33,
     "metadata": {},
     "output_type": "execute_result"
    }
   ],
   "source": [
    "df_mcts.comp.nunique()"
   ]
  },
  {
   "cell_type": "code",
   "execution_count": 39,
   "id": "30911c11-2dd0-4c80-ab30-c0ba4bf75742",
   "metadata": {},
   "outputs": [
    {
     "data": {
      "text/html": [
       "<div>\n",
       "<style scoped>\n",
       "    .dataframe tbody tr th:only-of-type {\n",
       "        vertical-align: middle;\n",
       "    }\n",
       "\n",
       "    .dataframe tbody tr th {\n",
       "        vertical-align: top;\n",
       "    }\n",
       "\n",
       "    .dataframe thead th {\n",
       "        text-align: right;\n",
       "    }\n",
       "</style>\n",
       "<table border=\"1\" class=\"dataframe\">\n",
       "  <thead>\n",
       "    <tr style=\"text-align: right;\">\n",
       "      <th></th>\n",
       "      <th>Unnamed: 0</th>\n",
       "      <th>run_id</th>\n",
       "      <th>decor_id</th>\n",
       "      <th>predicted_energy</th>\n",
       "      <th>decomp_energy</th>\n",
       "      <th>cond_ion_frac</th>\n",
       "      <th>oxidation</th>\n",
       "      <th>reduction</th>\n",
       "      <th>stability_window</th>\n",
       "    </tr>\n",
       "  </thead>\n",
       "  <tbody>\n",
       "    <tr>\n",
       "      <th>0</th>\n",
       "      <td>769644</td>\n",
       "      <td>20220617-batt-icsd-vol-r90-2</td>\n",
       "      <td>Li3Y1Br6|_1_3_6|trigonal|icsd_053533|1</td>\n",
       "      <td>-3.798492</td>\n",
       "      <td>-0.8512</td>\n",
       "      <td>0.3000</td>\n",
       "      <td>-5.0</td>\n",
       "      <td>-0.6734</td>\n",
       "      <td>4.3266</td>\n",
       "    </tr>\n",
       "    <tr>\n",
       "      <th>1</th>\n",
       "      <td>7892</td>\n",
       "      <td>20220617-batt-icsd-vol-r90-2</td>\n",
       "      <td>Li4Y1Br7|_1_4_7|cubic|icsd_001322|1</td>\n",
       "      <td>-3.735198</td>\n",
       "      <td>-0.7266</td>\n",
       "      <td>0.3333</td>\n",
       "      <td>-5.0</td>\n",
       "      <td>-0.6045</td>\n",
       "      <td>4.3955</td>\n",
       "    </tr>\n",
       "    <tr>\n",
       "      <th>2</th>\n",
       "      <td>1065601</td>\n",
       "      <td>20220617-batt-icsd-vol-r90-2</td>\n",
       "      <td>Li3Y1Br6|_1_3_6|monoclinic|icsd_089617|1</td>\n",
       "      <td>-3.781916</td>\n",
       "      <td>-0.8347</td>\n",
       "      <td>0.3000</td>\n",
       "      <td>-5.0</td>\n",
       "      <td>-0.7286</td>\n",
       "      <td>4.2714</td>\n",
       "    </tr>\n",
       "    <tr>\n",
       "      <th>3</th>\n",
       "      <td>913279</td>\n",
       "      <td>20220617-batt-icsd-vol-r90-2</td>\n",
       "      <td>K3Y1Br6|_1_3_6|trigonal|icsd_062035|1</td>\n",
       "      <td>-3.724380</td>\n",
       "      <td>-0.8855</td>\n",
       "      <td>0.3000</td>\n",
       "      <td>-5.0</td>\n",
       "      <td>-0.9881</td>\n",
       "      <td>4.0119</td>\n",
       "    </tr>\n",
       "    <tr>\n",
       "      <th>4</th>\n",
       "      <td>43057</td>\n",
       "      <td>20220617-batt-icsd-vol-r90-2</td>\n",
       "      <td>K3Y1Br6|_1_3_6|trigonal|icsd_183024|1</td>\n",
       "      <td>-3.720631</td>\n",
       "      <td>-0.8817</td>\n",
       "      <td>0.3000</td>\n",
       "      <td>-5.0</td>\n",
       "      <td>-1.0006</td>\n",
       "      <td>3.9994</td>\n",
       "    </tr>\n",
       "  </tbody>\n",
       "</table>\n",
       "</div>"
      ],
      "text/plain": [
       "   Unnamed: 0                        run_id  \\\n",
       "0      769644  20220617-batt-icsd-vol-r90-2   \n",
       "1        7892  20220617-batt-icsd-vol-r90-2   \n",
       "2     1065601  20220617-batt-icsd-vol-r90-2   \n",
       "3      913279  20220617-batt-icsd-vol-r90-2   \n",
       "4       43057  20220617-batt-icsd-vol-r90-2   \n",
       "\n",
       "                                   decor_id  predicted_energy  decomp_energy  \\\n",
       "0    Li3Y1Br6|_1_3_6|trigonal|icsd_053533|1         -3.798492        -0.8512   \n",
       "1       Li4Y1Br7|_1_4_7|cubic|icsd_001322|1         -3.735198        -0.7266   \n",
       "2  Li3Y1Br6|_1_3_6|monoclinic|icsd_089617|1         -3.781916        -0.8347   \n",
       "3     K3Y1Br6|_1_3_6|trigonal|icsd_062035|1         -3.724380        -0.8855   \n",
       "4     K3Y1Br6|_1_3_6|trigonal|icsd_183024|1         -3.720631        -0.8817   \n",
       "\n",
       "   cond_ion_frac  oxidation  reduction  stability_window  \n",
       "0         0.3000       -5.0    -0.6734            4.3266  \n",
       "1         0.3333       -5.0    -0.6045            4.3955  \n",
       "2         0.3000       -5.0    -0.7286            4.2714  \n",
       "3         0.3000       -5.0    -0.9881            4.0119  \n",
       "4         0.3000       -5.0    -1.0006            3.9994  "
      ]
     },
     "execution_count": 39,
     "metadata": {},
     "output_type": "execute_result"
    }
   ],
   "source": [
    "# see if the search found structures for those compositions\n",
    "df_mcts = pd.read_csv(\"/projects/rlmolecule/jlaw/crystal_outputs/2022-06-20/batt-icsd-vol-3runs/all_decorations2.csv.gz\")\n",
    "df_mcts.head()"
   ]
  },
  {
   "cell_type": "code",
   "execution_count": 42,
   "id": "92200900-0de4-4352-b485-5c6a6f54f815",
   "metadata": {},
   "outputs": [
    {
     "data": {
      "text/plain": [
       "6703705"
      ]
     },
     "execution_count": 42,
     "metadata": {},
     "output_type": "execute_result"
    }
   ],
   "source": [
    "len(df_mcts)"
   ]
  },
  {
   "cell_type": "code",
   "execution_count": 40,
   "id": "39746afb-25a9-4e24-9cba-d27504c1f255",
   "metadata": {},
   "outputs": [],
   "source": [
    "df_mcts['comp'] = df_mcts.decor_id.apply(lambda x: x.split(\"|\")[0])"
   ]
  },
  {
   "cell_type": "code",
   "execution_count": 43,
   "id": "c27f76a8-af8a-4cbc-9c10-76234276a6ad",
   "metadata": {},
   "outputs": [
    {
     "name": "stdout",
     "output_type": "stream",
     "text": [
      "83\n"
     ]
    },
    {
     "data": {
      "text/plain": [
       "<AxesSubplot:>"
      ]
     },
     "execution_count": 43,
     "metadata": {},
     "output_type": "execute_result"
    },
    {
     "data": {
      "image/png": "[encoded data removed]",
      "text/plain": [
       "<Figure size 432x288 with 1 Axes>"
      ]
     },
     "metadata": {
      "needs_background": "light"
     },
     "output_type": "display_data"
    }
   ],
   "source": [
    "df_mcts_comps_missed = df_mcts[df_mcts.comp.isin(comps_missed)]\n",
    "print(df_mcts_comps_missed.comp.nunique())\n",
    "df_mcts_comps_missed.decomp_energy.hist(bins=30)"
   ]
  },
  {
   "cell_type": "code",
   "execution_count": null,
   "id": "2bd06168-babb-44bd-8258-25f5521b814a",
   "metadata": {},
   "outputs": [],
   "source": []
  },
  {
   "cell_type": "code",
   "execution_count": null,
   "id": "f580e774-1d9b-4b5a-bb0e-c2bedbe18775",
   "metadata": {},
   "outputs": [],
   "source": []
  }
 ],
 "metadata": {
  "kernelspec": {
   "display_name": "Python 3 (ipykernel)",
   "language": "python",
   "name": "python3"
  },
  "language_info": {
   "codemirror_mode": {
    "name": "ipython",
    "version": 3
   },
   "file_extension": ".py",
   "mimetype": "text/x-python",
   "name": "python",
   "nbconvert_exporter": "python",
   "pygments_lexer": "ipython3",
   "version": "3.8.13"
  }
 },
 "nbformat": 4,
 "nbformat_minor": 5
}
