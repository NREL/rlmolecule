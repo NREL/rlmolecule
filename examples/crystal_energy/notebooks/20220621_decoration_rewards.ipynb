{
 "cells": [
  {
   "cell_type": "markdown",
   "id": "93d5fe87-b110-499d-afb3-16ea4b25ad58",
   "metadata": {},
   "source": [
    "## See if the MCTS runs found all the highest-reward structures"
   ]
  },
  {
   "cell_type": "code",
   "execution_count": 207,
   "id": "d5bbecc4-57b4-46f8-8f76-bd28f7ac4cce",
   "metadata": {},
   "outputs": [],
   "source": [
    "import os\n",
    "import sys\n",
    "import numpy as np\n",
    "# import psycopg2\n",
    "import sqlalchemy\n",
    "from tqdm.notebook import tqdm\n",
    "tqdm.pandas()\n",
    "import pandas as pd\n",
    "from collections import defaultdict\n",
    "from collections import Counter\n",
    "\n",
    "import matplotlib.pyplot as plt\n",
    "import seaborn as sns\n",
    "sns.set(\n",
    "    context='notebook',\n",
    "    # font_scale=8/8.8,\n",
    "#     context=\"talk\",\n",
    "    style='ticks',\n",
    "    color_codes=True,\n",
    "    rc={'legend.frameon': False})\n",
    "\n",
    "plt.rcParams['svg.fonttype'] = 'none'\n",
    "\n",
    "%matplotlib inline"
   ]
  },
  {
   "cell_type": "code",
   "execution_count": 2,
   "id": "1380bbc5-9148-42d9-b13e-5dea3ba8cc3b",
   "metadata": {},
   "outputs": [],
   "source": [
    "import datashader as ds\n",
    "from datashader.mpl_ext import dsshow\n",
    "import datashader.transfer_functions as dstf"
   ]
  },
  {
   "cell_type": "code",
   "execution_count": 3,
   "id": "f0329ab5-6ad7-4809-9b35-de659ee24787",
   "metadata": {},
   "outputs": [
    {
     "name": "stdout",
     "output_type": "stream",
     "text": [
      "1.22.3\n",
      "1.4.2\n"
     ]
    }
   ],
   "source": [
    "print(np.__version__)\n",
    "print(pd.__version__)"
   ]
  },
  {
   "cell_type": "code",
   "execution_count": 4,
   "id": "b58f1c26-0375-4fe8-bb83-ba11772a8442",
   "metadata": {},
   "outputs": [
    {
     "name": "stderr",
     "output_type": "stream",
     "text": [
      "2022-07-05 11:04:00.659457: W tensorflow/stream_executor/platform/default/dso_loader.cc:64] Could not load dynamic library 'libcudart.so.11.0'; dlerror: libcudart.so.11.0: cannot open shared object file: No such file or directory; LD_LIBRARY_PATH: /nopt/slurm/current/lib:\n",
      "2022-07-05 11:04:00.659494: I tensorflow/stream_executor/cuda/cudart_stub.cc:29] Ignore above cudart dlerror if you do not have a GPU set up on your machine.\n"
     ]
    },
    {
     "name": "stdout",
     "output_type": "stream",
     "text": [
      "0.3.12\n"
     ]
    }
   ],
   "source": [
    "import nfp\n",
    "print(nfp.__version__)"
   ]
  },
  {
   "cell_type": "code",
   "execution_count": 5,
   "id": "edb44942-591f-4ade-add4-9a6458540bfc",
   "metadata": {},
   "outputs": [],
   "source": [
    "os.chdir('../')"
   ]
  },
  {
   "cell_type": "code",
   "execution_count": 171,
   "id": "0cbde423-3c2c-4059-b1b8-aefb890706e5",
   "metadata": {},
   "outputs": [
    {
     "name": "stdout",
     "output_type": "stream",
     "text": [
      "/home/jlaw/projects/arpa-e/crystals/rlmolecule/examples/crystal_energy\n"
     ]
    }
   ],
   "source": [
    "print(os.getcwd())\n",
    "sys.path.append('../../')\n",
    "import rlmolecule\n",
    "from rlmolecule.sql.run_config import RunConfig\n",
    "from rlmolecule.sql import Base, Session\n",
    "from rlmolecule.sql.tables import GameStore, RewardStore, StateStore\n",
    "from rlmolecule.crystal.crystal_state import CrystalState\n",
    "from rlmolecule.crystal.crystal_reward import StructureRewardBattInterface"
   ]
  },
  {
   "cell_type": "code",
   "execution_count": 7,
   "id": "69c48182-7868-45ee-9a3c-d053f99d9055",
   "metadata": {},
   "outputs": [],
   "source": [
    "cols = ['decor_id',\n",
    "        'reward',\n",
    "        'predicted_energy',\n",
    "        'decomp_energy',\n",
    "        'cond_ion_frac',\n",
    "        'reduction',\n",
    "        'oxidation',\n",
    "        'stability_window',\n",
    "        ]"
   ]
  },
  {
   "cell_type": "code",
   "execution_count": 8,
   "id": "c1ceb5ae-a714-4ad5-9d1e-426124a57db7",
   "metadata": {},
   "outputs": [
    {
     "name": "stdout",
     "output_type": "stream",
     "text": [
      "7698996\n"
     ]
    },
    {
     "data": {
      "text/html": [
       "<div>\n",
       "<style scoped>\n",
       "    .dataframe tbody tr th:only-of-type {\n",
       "        vertical-align: middle;\n",
       "    }\n",
       "\n",
       "    .dataframe tbody tr th {\n",
       "        vertical-align: top;\n",
       "    }\n",
       "\n",
       "    .dataframe thead th {\n",
       "        text-align: right;\n",
       "    }\n",
       "</style>\n",
       "<table border=\"1\" class=\"dataframe\">\n",
       "  <thead>\n",
       "    <tr style=\"text-align: right;\">\n",
       "      <th></th>\n",
       "      <th>decor_id</th>\n",
       "      <th>reward</th>\n",
       "      <th>predicted_energy</th>\n",
       "      <th>decomp_energy</th>\n",
       "      <th>cond_ion_frac</th>\n",
       "      <th>reduction</th>\n",
       "      <th>oxidation</th>\n",
       "      <th>stability_window</th>\n",
       "    </tr>\n",
       "  </thead>\n",
       "  <tbody>\n",
       "    <tr>\n",
       "      <th>0</th>\n",
       "      <td>Li1Ti2Ge1Cl1N4|_1_1_1_2_4|orthorhombic|icsd_41...</td>\n",
       "      <td>0.015</td>\n",
       "      <td>0.299</td>\n",
       "      <td>7.325</td>\n",
       "      <td>0.111</td>\n",
       "      <td>NaN</td>\n",
       "      <td>NaN</td>\n",
       "      <td>NaN</td>\n",
       "    </tr>\n",
       "    <tr>\n",
       "      <th>1</th>\n",
       "      <td>Li1La1Sb1I3O3|_1_1_1_3_3|monoclinic|icsd_17166...</td>\n",
       "      <td>0.036</td>\n",
       "      <td>-0.391</td>\n",
       "      <td>4.621</td>\n",
       "      <td>0.111</td>\n",
       "      <td>NaN</td>\n",
       "      <td>NaN</td>\n",
       "      <td>NaN</td>\n",
       "    </tr>\n",
       "  </tbody>\n",
       "</table>\n",
       "</div>"
      ],
      "text/plain": [
       "                                            decor_id  reward  \\\n",
       "0  Li1Ti2Ge1Cl1N4|_1_1_1_2_4|orthorhombic|icsd_41...   0.015   \n",
       "1  Li1La1Sb1I3O3|_1_1_1_3_3|monoclinic|icsd_17166...   0.036   \n",
       "\n",
       "   predicted_energy  decomp_energy  cond_ion_frac  reduction  oxidation  \\\n",
       "0             0.299          7.325          0.111        NaN        NaN   \n",
       "1            -0.391          4.621          0.111        NaN        NaN   \n",
       "\n",
       "   stability_window  \n",
       "0               NaN  \n",
       "1               NaN  "
      ]
     },
     "execution_count": 8,
     "metadata": {},
     "output_type": "execute_result"
    }
   ],
   "source": [
    "# rewards_file = \"outputs/20220620_rewards/20220621_decors_cond_ion_cutoff_rewards.csv.gz\"\n",
    "rewards_file = \"/projects/rlmolecule/jlaw/crystal_outputs/2022-06-20/2022-06-22-all_decor_rewards.csv.gz\"\n",
    "df = pd.read_csv(rewards_file,\n",
    "                 names=cols)\n",
    "print(len(df))\n",
    "df.head(2)"
   ]
  },
  {
   "cell_type": "code",
   "execution_count": 9,
   "id": "deb5efbb-4c98-4265-bd98-f614b0bf8cd5",
   "metadata": {},
   "outputs": [
    {
     "name": "stdout",
     "output_type": "stream",
     "text": [
      "34296\n",
      "7\n"
     ]
    }
   ],
   "source": [
    "print(len(df[df.reward > .6]))\n",
    "print(len(df[df.reward > 1]))"
   ]
  },
  {
   "cell_type": "code",
   "execution_count": 11,
   "id": "660b2e5a-d5e1-4f87-992e-f0bbf1ca24bf",
   "metadata": {},
   "outputs": [
    {
     "data": {
      "text/plain": [
       "Text(0.5, 1.0, 'Structures not found by MCTS (7698996)')"
      ]
     },
     "execution_count": 11,
     "metadata": {},
     "output_type": "execute_result"
    },
    {
     "data": {
      "image/png": "[encoded data removed]",
      "text/plain": [
       "<Figure size 432x288 with 1 Axes>"
      ]
     },
     "metadata": {
      "needs_background": "light"
     },
     "output_type": "display_data"
    }
   ],
   "source": [
    "df.reward.hist(bins=30)\n",
    "plt.yscale(\"log\")\n",
    "plt.xlabel(\"Reward\")\n",
    "plt.title(f\"Structures not found by MCTS ({len(df)})\")"
   ]
  },
  {
   "cell_type": "code",
   "execution_count": 14,
   "id": "a606a204-234c-47ee-bcff-be235b2075de",
   "metadata": {},
   "outputs": [],
   "source": [
    "df['comp'] = df.decor_id.apply(lambda x: x.split(\"|\")[0])"
   ]
  },
  {
   "cell_type": "code",
   "execution_count": 15,
   "id": "1b5ffee6-9778-45de-8887-3758275050c0",
   "metadata": {},
   "outputs": [
    {
     "data": {
      "text/plain": [
       "array(['K3Sc1Br4I2', 'Li3Sc1Br4I2', 'K3Sc1Br2I4'], dtype=object)"
      ]
     },
     "execution_count": 15,
     "metadata": {},
     "output_type": "execute_result"
    }
   ],
   "source": [
    "df[df.reward >= 1].comp.unique()"
   ]
  },
  {
   "cell_type": "code",
   "execution_count": 14,
   "id": "215517a6-d2d7-4706-9645-5e42f35d2311",
   "metadata": {},
   "outputs": [
    {
     "data": {
      "text/html": [
       "<div>\n",
       "<style scoped>\n",
       "    .dataframe tbody tr th:only-of-type {\n",
       "        vertical-align: middle;\n",
       "    }\n",
       "\n",
       "    .dataframe tbody tr th {\n",
       "        vertical-align: top;\n",
       "    }\n",
       "\n",
       "    .dataframe thead th {\n",
       "        text-align: right;\n",
       "    }\n",
       "</style>\n",
       "<table border=\"1\" class=\"dataframe\">\n",
       "  <thead>\n",
       "    <tr style=\"text-align: right;\">\n",
       "      <th></th>\n",
       "      <th>run_id</th>\n",
       "      <th>id</th>\n",
       "      <th>decor_id</th>\n",
       "      <th>comp</th>\n",
       "      <th>reward</th>\n",
       "      <th>decomp_energy</th>\n",
       "      <th>cond_ion_frac</th>\n",
       "      <th>reduction</th>\n",
       "      <th>oxidation</th>\n",
       "      <th>stability_window</th>\n",
       "      <th>decomp_energy_s_w</th>\n",
       "      <th>cond_ion_frac_s_w</th>\n",
       "      <th>reduction_s_w</th>\n",
       "      <th>oxidation_s_w</th>\n",
       "      <th>stability_window_s_w</th>\n",
       "      <th>run_id.1</th>\n",
       "    </tr>\n",
       "  </thead>\n",
       "  <tbody>\n",
       "    <tr>\n",
       "      <th>0</th>\n",
       "      <td>20220617-batt-icsd-vol-r90-2</td>\n",
       "      <td>Li3Sc1Br6_icsd_401335_1</td>\n",
       "      <td>Li3Sc1Br6|_1_3_6|trigonal|icsd_401335|1</td>\n",
       "      <td>Li3Sc1Br6</td>\n",
       "      <td>1.118399</td>\n",
       "      <td>-0.7607</td>\n",
       "      <td>0.3000</td>\n",
       "      <td>-0.9753</td>\n",
       "      <td>-5.0000</td>\n",
       "      <td>4.0247</td>\n",
       "      <td>0.640078</td>\n",
       "      <td>0.083333</td>\n",
       "      <td>0.044719</td>\n",
       "      <td>0.055556</td>\n",
       "      <td>0.044719</td>\n",
       "      <td>20220617-batt-icsd-vol-r90-2</td>\n",
       "    </tr>\n",
       "    <tr>\n",
       "      <th>1</th>\n",
       "      <td>20220617-batt-icsd-vol-r90-2</td>\n",
       "      <td>Na3Sc1I6_icsd_401335_1</td>\n",
       "      <td>Na3Sc1I6|_1_3_6|trigonal|icsd_401335|1</td>\n",
       "      <td>Na3Sc1I6</td>\n",
       "      <td>1.093755</td>\n",
       "      <td>-0.5759</td>\n",
       "      <td>0.3000</td>\n",
       "      <td>-0.9160</td>\n",
       "      <td>-4.7555</td>\n",
       "      <td>3.8394</td>\n",
       "      <td>0.619544</td>\n",
       "      <td>0.083333</td>\n",
       "      <td>0.045378</td>\n",
       "      <td>0.052839</td>\n",
       "      <td>0.042660</td>\n",
       "      <td>20220617-batt-icsd-vol-r90-2</td>\n",
       "    </tr>\n",
       "    <tr>\n",
       "      <th>2</th>\n",
       "      <td>20220617-batt-icsd-vol-r90-2</td>\n",
       "      <td>K5Y1Br8_icsd_262807_1</td>\n",
       "      <td>K5Y1Br8|_1_5_8|triclinic|icsd_262807|1</td>\n",
       "      <td>K5Y1Br8</td>\n",
       "      <td>1.093518</td>\n",
       "      <td>-0.5104</td>\n",
       "      <td>0.3571</td>\n",
       "      <td>-1.5579</td>\n",
       "      <td>-5.0000</td>\n",
       "      <td>3.4421</td>\n",
       "      <td>0.612267</td>\n",
       "      <td>0.099194</td>\n",
       "      <td>0.038246</td>\n",
       "      <td>0.055556</td>\n",
       "      <td>0.038246</td>\n",
       "      <td>20220617-batt-icsd-vol-r90-2</td>\n",
       "    </tr>\n",
       "    <tr>\n",
       "      <th>3</th>\n",
       "      <td>20220617-batt-icsd-vol-r90-2</td>\n",
       "      <td>K5Sc1Br8_icsd_262807_1</td>\n",
       "      <td>K5Sc1Br8|_1_5_8|triclinic|icsd_262807|1</td>\n",
       "      <td>K5Sc1Br8</td>\n",
       "      <td>1.088508</td>\n",
       "      <td>-0.4871</td>\n",
       "      <td>0.3571</td>\n",
       "      <td>-1.6667</td>\n",
       "      <td>-5.0000</td>\n",
       "      <td>3.3333</td>\n",
       "      <td>0.609678</td>\n",
       "      <td>0.099194</td>\n",
       "      <td>0.037037</td>\n",
       "      <td>0.055556</td>\n",
       "      <td>0.037037</td>\n",
       "      <td>20220617-batt-icsd-vol-r90-2</td>\n",
       "    </tr>\n",
       "    <tr>\n",
       "      <th>4</th>\n",
       "      <td>20220617-batt-icsd-vol-r90-2</td>\n",
       "      <td>Na3Al1Br6_icsd_401335_1</td>\n",
       "      <td>Na3Al1Br6|_1_3_6|trigonal|icsd_401335|1</td>\n",
       "      <td>Na3Al1Br6</td>\n",
       "      <td>1.070164</td>\n",
       "      <td>-0.5054</td>\n",
       "      <td>0.3000</td>\n",
       "      <td>-1.8697</td>\n",
       "      <td>-5.0000</td>\n",
       "      <td>3.1303</td>\n",
       "      <td>0.611711</td>\n",
       "      <td>0.083333</td>\n",
       "      <td>0.034781</td>\n",
       "      <td>0.055556</td>\n",
       "      <td>0.034781</td>\n",
       "      <td>20220617-batt-icsd-vol-r90-2</td>\n",
       "    </tr>\n",
       "  </tbody>\n",
       "</table>\n",
       "</div>"
      ],
      "text/plain": [
       "                         run_id                       id  \\\n",
       "0  20220617-batt-icsd-vol-r90-2  Li3Sc1Br6_icsd_401335_1   \n",
       "1  20220617-batt-icsd-vol-r90-2   Na3Sc1I6_icsd_401335_1   \n",
       "2  20220617-batt-icsd-vol-r90-2    K5Y1Br8_icsd_262807_1   \n",
       "3  20220617-batt-icsd-vol-r90-2   K5Sc1Br8_icsd_262807_1   \n",
       "4  20220617-batt-icsd-vol-r90-2  Na3Al1Br6_icsd_401335_1   \n",
       "\n",
       "                                  decor_id       comp    reward  \\\n",
       "0  Li3Sc1Br6|_1_3_6|trigonal|icsd_401335|1  Li3Sc1Br6  1.118399   \n",
       "1   Na3Sc1I6|_1_3_6|trigonal|icsd_401335|1   Na3Sc1I6  1.093755   \n",
       "2   K5Y1Br8|_1_5_8|triclinic|icsd_262807|1    K5Y1Br8  1.093518   \n",
       "3  K5Sc1Br8|_1_5_8|triclinic|icsd_262807|1   K5Sc1Br8  1.088508   \n",
       "4  Na3Al1Br6|_1_3_6|trigonal|icsd_401335|1  Na3Al1Br6  1.070164   \n",
       "\n",
       "   decomp_energy  cond_ion_frac  reduction  oxidation  stability_window  \\\n",
       "0        -0.7607         0.3000    -0.9753    -5.0000            4.0247   \n",
       "1        -0.5759         0.3000    -0.9160    -4.7555            3.8394   \n",
       "2        -0.5104         0.3571    -1.5579    -5.0000            3.4421   \n",
       "3        -0.4871         0.3571    -1.6667    -5.0000            3.3333   \n",
       "4        -0.5054         0.3000    -1.8697    -5.0000            3.1303   \n",
       "\n",
       "   decomp_energy_s_w  cond_ion_frac_s_w  reduction_s_w  oxidation_s_w  \\\n",
       "0           0.640078           0.083333       0.044719       0.055556   \n",
       "1           0.619544           0.083333       0.045378       0.052839   \n",
       "2           0.612267           0.099194       0.038246       0.055556   \n",
       "3           0.609678           0.099194       0.037037       0.055556   \n",
       "4           0.611711           0.083333       0.034781       0.055556   \n",
       "\n",
       "   stability_window_s_w                      run_id.1  \n",
       "0              0.044719  20220617-batt-icsd-vol-r90-2  \n",
       "1              0.042660  20220617-batt-icsd-vol-r90-2  \n",
       "2              0.038246  20220617-batt-icsd-vol-r90-2  \n",
       "3              0.037037  20220617-batt-icsd-vol-r90-2  \n",
       "4              0.034781  20220617-batt-icsd-vol-r90-2  "
      ]
     },
     "execution_count": 14,
     "metadata": {},
     "output_type": "execute_result"
    }
   ],
   "source": [
    "# also load the best decorations\n",
    "best_decorations_file = \"/projects/rlmolecule/jlaw/crystal_outputs/2022-06-20/batt-icsd-vol-3runs/best_decorations.csv\"\n",
    "df_mcts_best = pd.read_csv(best_decorations_file)\n",
    "df_mcts_best.head()"
   ]
  },
  {
   "cell_type": "code",
   "execution_count": 15,
   "id": "fd3dc437-0aa5-4e6a-8107-551bd9334e6b",
   "metadata": {},
   "outputs": [
    {
     "data": {
      "text/plain": [
       "<AxesSubplot:>"
      ]
     },
     "execution_count": 15,
     "metadata": {},
     "output_type": "execute_result"
    },
    {
     "data": {
      "image/png": "[encoded data removed]",
      "text/plain": [
       "<Figure size 432x288 with 1 Axes>"
      ]
     },
     "metadata": {
      "needs_background": "light"
     },
     "output_type": "display_data"
    }
   ],
   "source": [
    "df_mcts_best.reward.hist(bins=30)"
   ]
  },
  {
   "cell_type": "code",
   "execution_count": 10,
   "id": "30911c11-2dd0-4c80-ab30-c0ba4bf75742",
   "metadata": {},
   "outputs": [
    {
     "data": {
      "text/html": [
       "<div>\n",
       "<style scoped>\n",
       "    .dataframe tbody tr th:only-of-type {\n",
       "        vertical-align: middle;\n",
       "    }\n",
       "\n",
       "    .dataframe tbody tr th {\n",
       "        vertical-align: top;\n",
       "    }\n",
       "\n",
       "    .dataframe thead th {\n",
       "        text-align: right;\n",
       "    }\n",
       "</style>\n",
       "<table border=\"1\" class=\"dataframe\">\n",
       "  <thead>\n",
       "    <tr style=\"text-align: right;\">\n",
       "      <th></th>\n",
       "      <th>run_id</th>\n",
       "      <th>decor_id</th>\n",
       "      <th>reward</th>\n",
       "      <th>predicted_energy</th>\n",
       "      <th>decomp_energy</th>\n",
       "      <th>cond_ion_frac</th>\n",
       "      <th>oxidation</th>\n",
       "      <th>reduction</th>\n",
       "      <th>stability_window</th>\n",
       "    </tr>\n",
       "  </thead>\n",
       "  <tbody>\n",
       "    <tr>\n",
       "      <th>769706</th>\n",
       "      <td>20220617-batt-icsd-vol-r90-2</td>\n",
       "      <td>Li3Y1Br6|_1_3_6|trigonal|icsd_053533|1</td>\n",
       "      <td>1.135173</td>\n",
       "      <td>-3.798492</td>\n",
       "      <td>-0.8512</td>\n",
       "      <td>0.3000</td>\n",
       "      <td>-5.0</td>\n",
       "      <td>-0.6734</td>\n",
       "      <td>4.3266</td>\n",
       "    </tr>\n",
       "    <tr>\n",
       "      <th>7954</th>\n",
       "      <td>20220617-batt-icsd-vol-r90-2</td>\n",
       "      <td>Li4Y1Br7|_1_4_7|cubic|icsd_001322|1</td>\n",
       "      <td>1.132112</td>\n",
       "      <td>-3.735198</td>\n",
       "      <td>-0.7266</td>\n",
       "      <td>0.3333</td>\n",
       "      <td>-5.0</td>\n",
       "      <td>-0.6045</td>\n",
       "      <td>4.3955</td>\n",
       "    </tr>\n",
       "    <tr>\n",
       "      <th>1065663</th>\n",
       "      <td>20220617-batt-icsd-vol-r90-2</td>\n",
       "      <td>Li3Y1Br6|_1_3_6|monoclinic|icsd_089617|1</td>\n",
       "      <td>1.132104</td>\n",
       "      <td>-3.781916</td>\n",
       "      <td>-0.8347</td>\n",
       "      <td>0.3000</td>\n",
       "      <td>-5.0</td>\n",
       "      <td>-0.7286</td>\n",
       "      <td>4.2714</td>\n",
       "    </tr>\n",
       "    <tr>\n",
       "      <th>913341</th>\n",
       "      <td>20220617-batt-icsd-vol-r90-2</td>\n",
       "      <td>K3Y1Br6|_1_3_6|trigonal|icsd_062035|1</td>\n",
       "      <td>1.131983</td>\n",
       "      <td>-3.724380</td>\n",
       "      <td>-0.8855</td>\n",
       "      <td>0.3000</td>\n",
       "      <td>-5.0</td>\n",
       "      <td>-0.9881</td>\n",
       "      <td>4.0119</td>\n",
       "    </tr>\n",
       "    <tr>\n",
       "      <th>43119</th>\n",
       "      <td>20220617-batt-icsd-vol-r90-2</td>\n",
       "      <td>K3Y1Br6|_1_3_6|trigonal|icsd_183024|1</td>\n",
       "      <td>1.131288</td>\n",
       "      <td>-3.720631</td>\n",
       "      <td>-0.8817</td>\n",
       "      <td>0.3000</td>\n",
       "      <td>-5.0</td>\n",
       "      <td>-1.0006</td>\n",
       "      <td>3.9994</td>\n",
       "    </tr>\n",
       "  </tbody>\n",
       "</table>\n",
       "</div>"
      ],
      "text/plain": [
       "                               run_id  \\\n",
       "769706   20220617-batt-icsd-vol-r90-2   \n",
       "7954     20220617-batt-icsd-vol-r90-2   \n",
       "1065663  20220617-batt-icsd-vol-r90-2   \n",
       "913341   20220617-batt-icsd-vol-r90-2   \n",
       "43119    20220617-batt-icsd-vol-r90-2   \n",
       "\n",
       "                                         decor_id    reward  predicted_energy  \\\n",
       "769706     Li3Y1Br6|_1_3_6|trigonal|icsd_053533|1  1.135173         -3.798492   \n",
       "7954          Li4Y1Br7|_1_4_7|cubic|icsd_001322|1  1.132112         -3.735198   \n",
       "1065663  Li3Y1Br6|_1_3_6|monoclinic|icsd_089617|1  1.132104         -3.781916   \n",
       "913341      K3Y1Br6|_1_3_6|trigonal|icsd_062035|1  1.131983         -3.724380   \n",
       "43119       K3Y1Br6|_1_3_6|trigonal|icsd_183024|1  1.131288         -3.720631   \n",
       "\n",
       "         decomp_energy  cond_ion_frac  oxidation  reduction  stability_window  \n",
       "769706         -0.8512         0.3000       -5.0    -0.6734            4.3266  \n",
       "7954           -0.7266         0.3333       -5.0    -0.6045            4.3955  \n",
       "1065663        -0.8347         0.3000       -5.0    -0.7286            4.2714  \n",
       "913341         -0.8855         0.3000       -5.0    -0.9881            4.0119  \n",
       "43119          -0.8817         0.3000       -5.0    -1.0006            3.9994  "
      ]
     },
     "execution_count": 10,
     "metadata": {},
     "output_type": "execute_result"
    }
   ],
   "source": [
    "# see if the search found structures for those compositions\n",
    "df_mcts = pd.read_csv(\"/projects/rlmolecule/jlaw/crystal_outputs/2022-06-20/batt-icsd-vol-3runs/all_decorations.csv.gz\",\n",
    "                      index_col=0)\n",
    "df_mcts.head()"
   ]
  },
  {
   "cell_type": "code",
   "execution_count": 11,
   "id": "14fb6ed1-b823-40d5-8bb9-3e5b1897e223",
   "metadata": {},
   "outputs": [],
   "source": [
    "df_mcts['comp'] = df_mcts.decor_id.apply(lambda x: x.split('|')[0])"
   ]
  },
  {
   "cell_type": "code",
   "execution_count": 16,
   "id": "b231fe2a-5b85-480a-a486-fcb265f803f3",
   "metadata": {},
   "outputs": [
    {
     "data": {
      "text/plain": [
       "576"
      ]
     },
     "execution_count": 16,
     "metadata": {},
     "output_type": "execute_result"
    }
   ],
   "source": [
    "comps_missed = set(df[df.reward > .6].comp) - set(df_mcts.comp)\n",
    "len(comps_missed)"
   ]
  },
  {
   "cell_type": "code",
   "execution_count": 17,
   "id": "4b10bf4b-0052-45d1-bd99-36fd7cc07ebe",
   "metadata": {},
   "outputs": [
    {
     "data": {
      "text/plain": [
       "145145"
      ]
     },
     "execution_count": 17,
     "metadata": {},
     "output_type": "execute_result"
    }
   ],
   "source": [
    "df_mcts.comp.nunique()"
   ]
  },
  {
   "cell_type": "code",
   "execution_count": 18,
   "id": "92200900-0de4-4352-b485-5c6a6f54f815",
   "metadata": {},
   "outputs": [
    {
     "data": {
      "text/plain": [
       "6703705"
      ]
     },
     "execution_count": 18,
     "metadata": {},
     "output_type": "execute_result"
    }
   ],
   "source": [
    "len(df_mcts)"
   ]
  },
  {
   "cell_type": "code",
   "execution_count": 24,
   "id": "c27f76a8-af8a-4cbc-9c10-76234276a6ad",
   "metadata": {},
   "outputs": [
    {
     "name": "stdout",
     "output_type": "stream",
     "text": [
      "0\n"
     ]
    },
    {
     "data": {
      "text/plain": [
       "<AxesSubplot:>"
      ]
     },
     "execution_count": 24,
     "metadata": {},
     "output_type": "execute_result"
    },
    {
     "data": {
      "image/png": "[encoded data removed]",
      "text/plain": [
       "<Figure size 432x288 with 1 Axes>"
      ]
     },
     "metadata": {
      "needs_background": "light"
     },
     "output_type": "display_data"
    }
   ],
   "source": [
    "df_mcts_comps_missed = df_mcts[df_mcts.comp.isin(comps_missed)]\n",
    "print(df_mcts_comps_missed.comp.nunique())\n",
    "df_mcts_comps_missed.decomp_energy.hist(bins=30)"
   ]
  },
  {
   "cell_type": "code",
   "execution_count": 25,
   "id": "f580e774-1d9b-4b5a-bb0e-c2bedbe18775",
   "metadata": {},
   "outputs": [
    {
     "data": {
      "text/html": [
       "<div>\n",
       "<style scoped>\n",
       "    .dataframe tbody tr th:only-of-type {\n",
       "        vertical-align: middle;\n",
       "    }\n",
       "\n",
       "    .dataframe tbody tr th {\n",
       "        vertical-align: top;\n",
       "    }\n",
       "\n",
       "    .dataframe thead th {\n",
       "        text-align: right;\n",
       "    }\n",
       "</style>\n",
       "<table border=\"1\" class=\"dataframe\">\n",
       "  <thead>\n",
       "    <tr style=\"text-align: right;\">\n",
       "      <th></th>\n",
       "      <th>Unnamed: 0</th>\n",
       "      <th>run_id</th>\n",
       "      <th>decor_id</th>\n",
       "      <th>predicted_energy</th>\n",
       "      <th>decomp_energy</th>\n",
       "      <th>cond_ion_frac</th>\n",
       "      <th>oxidation</th>\n",
       "      <th>reduction</th>\n",
       "      <th>stability_window</th>\n",
       "      <th>comp</th>\n",
       "    </tr>\n",
       "  </thead>\n",
       "  <tbody>\n",
       "  </tbody>\n",
       "</table>\n",
       "</div>"
      ],
      "text/plain": [
       "Empty DataFrame\n",
       "Columns: [Unnamed: 0, run_id, decor_id, predicted_energy, decomp_energy, cond_ion_frac, oxidation, reduction, stability_window, comp]\n",
       "Index: []"
      ]
     },
     "execution_count": 25,
     "metadata": {},
     "output_type": "execute_result"
    }
   ],
   "source": [
    "df_mcts_comps_missed.head(2)"
   ]
  },
  {
   "cell_type": "code",
   "execution_count": 19,
   "id": "9a9bd1f4-8617-4b00-8dc2-5e290f015c1b",
   "metadata": {},
   "outputs": [
    {
     "data": {
      "text/html": [
       "<div>\n",
       "<style scoped>\n",
       "    .dataframe tbody tr th:only-of-type {\n",
       "        vertical-align: middle;\n",
       "    }\n",
       "\n",
       "    .dataframe tbody tr th {\n",
       "        vertical-align: top;\n",
       "    }\n",
       "\n",
       "    .dataframe thead th {\n",
       "        text-align: right;\n",
       "    }\n",
       "</style>\n",
       "<table border=\"1\" class=\"dataframe\">\n",
       "  <thead>\n",
       "    <tr style=\"text-align: right;\">\n",
       "      <th></th>\n",
       "      <th>decor_id</th>\n",
       "      <th>reward</th>\n",
       "      <th>predicted_energy</th>\n",
       "      <th>decomp_energy</th>\n",
       "      <th>cond_ion_frac</th>\n",
       "      <th>reduction</th>\n",
       "      <th>oxidation</th>\n",
       "      <th>stability_window</th>\n",
       "      <th>comp</th>\n",
       "    </tr>\n",
       "  </thead>\n",
       "  <tbody>\n",
       "    <tr>\n",
       "      <th>0</th>\n",
       "      <td>Li1Ti2Ge1Cl1N4|_1_1_1_2_4|orthorhombic|icsd_41...</td>\n",
       "      <td>0.015</td>\n",
       "      <td>0.299</td>\n",
       "      <td>7.325</td>\n",
       "      <td>0.111</td>\n",
       "      <td>NaN</td>\n",
       "      <td>NaN</td>\n",
       "      <td>NaN</td>\n",
       "      <td>Li1Ti2Ge1Cl1N4</td>\n",
       "    </tr>\n",
       "    <tr>\n",
       "      <th>1</th>\n",
       "      <td>Li1La1Sb1I3O3|_1_1_1_3_3|monoclinic|icsd_17166...</td>\n",
       "      <td>0.036</td>\n",
       "      <td>-0.391</td>\n",
       "      <td>4.621</td>\n",
       "      <td>0.111</td>\n",
       "      <td>NaN</td>\n",
       "      <td>NaN</td>\n",
       "      <td>NaN</td>\n",
       "      <td>Li1La1Sb1I3O3</td>\n",
       "    </tr>\n",
       "  </tbody>\n",
       "</table>\n",
       "</div>"
      ],
      "text/plain": [
       "                                            decor_id  reward  \\\n",
       "0  Li1Ti2Ge1Cl1N4|_1_1_1_2_4|orthorhombic|icsd_41...   0.015   \n",
       "1  Li1La1Sb1I3O3|_1_1_1_3_3|monoclinic|icsd_17166...   0.036   \n",
       "\n",
       "   predicted_energy  decomp_energy  cond_ion_frac  reduction  oxidation  \\\n",
       "0             0.299          7.325          0.111        NaN        NaN   \n",
       "1            -0.391          4.621          0.111        NaN        NaN   \n",
       "\n",
       "   stability_window            comp  \n",
       "0               NaN  Li1Ti2Ge1Cl1N4  \n",
       "1               NaN   Li1La1Sb1I3O3  "
      ]
     },
     "execution_count": 19,
     "metadata": {},
     "output_type": "execute_result"
    }
   ],
   "source": [
    "df.head(2)"
   ]
  },
  {
   "cell_type": "code",
   "execution_count": 21,
   "id": "9c673e9a-7910-448c-a1cf-8e3b97263e91",
   "metadata": {},
   "outputs": [],
   "source": [
    "df = df.drop_duplicates(subset=['decor_id'])"
   ]
  },
  {
   "cell_type": "code",
   "execution_count": 22,
   "id": "5980bffb-ca3e-40f4-8b81-99c98aa18fde",
   "metadata": {},
   "outputs": [
    {
     "data": {
      "text/plain": [
       "6703705"
      ]
     },
     "execution_count": 22,
     "metadata": {},
     "output_type": "execute_result"
    }
   ],
   "source": [
    "len(df_mcts)"
   ]
  },
  {
   "cell_type": "code",
   "execution_count": 23,
   "id": "aa3cea51-b95b-446c-a49d-f68ea8c3ac58",
   "metadata": {},
   "outputs": [
    {
     "data": {
      "text/plain": [
       "6703705"
      ]
     },
     "execution_count": 23,
     "metadata": {},
     "output_type": "execute_result"
    }
   ],
   "source": [
    "df_mcts.decor_id.nunique()"
   ]
  },
  {
   "cell_type": "code",
   "execution_count": 24,
   "id": "b890dfc9-03e6-4287-934a-956f81571cf0",
   "metadata": {},
   "outputs": [
    {
     "data": {
      "text/html": [
       "<div>\n",
       "<style scoped>\n",
       "    .dataframe tbody tr th:only-of-type {\n",
       "        vertical-align: middle;\n",
       "    }\n",
       "\n",
       "    .dataframe tbody tr th {\n",
       "        vertical-align: top;\n",
       "    }\n",
       "\n",
       "    .dataframe thead th {\n",
       "        text-align: right;\n",
       "    }\n",
       "</style>\n",
       "<table border=\"1\" class=\"dataframe\">\n",
       "  <thead>\n",
       "    <tr style=\"text-align: right;\">\n",
       "      <th></th>\n",
       "      <th>run_id</th>\n",
       "      <th>decor_id</th>\n",
       "      <th>reward</th>\n",
       "      <th>predicted_energy</th>\n",
       "      <th>decomp_energy</th>\n",
       "      <th>cond_ion_frac</th>\n",
       "      <th>oxidation</th>\n",
       "      <th>reduction</th>\n",
       "      <th>stability_window</th>\n",
       "      <th>comp</th>\n",
       "    </tr>\n",
       "  </thead>\n",
       "  <tbody>\n",
       "    <tr>\n",
       "      <th>769706</th>\n",
       "      <td>20220617-batt-icsd-vol-r90-2</td>\n",
       "      <td>Li3Y1Br6|_1_3_6|trigonal|icsd_053533|1</td>\n",
       "      <td>1.135173</td>\n",
       "      <td>-3.798492</td>\n",
       "      <td>-0.8512</td>\n",
       "      <td>0.3000</td>\n",
       "      <td>-5.0</td>\n",
       "      <td>-0.6734</td>\n",
       "      <td>4.3266</td>\n",
       "      <td>Li3Y1Br6</td>\n",
       "    </tr>\n",
       "    <tr>\n",
       "      <th>7954</th>\n",
       "      <td>20220617-batt-icsd-vol-r90-2</td>\n",
       "      <td>Li4Y1Br7|_1_4_7|cubic|icsd_001322|1</td>\n",
       "      <td>1.132112</td>\n",
       "      <td>-3.735198</td>\n",
       "      <td>-0.7266</td>\n",
       "      <td>0.3333</td>\n",
       "      <td>-5.0</td>\n",
       "      <td>-0.6045</td>\n",
       "      <td>4.3955</td>\n",
       "      <td>Li4Y1Br7</td>\n",
       "    </tr>\n",
       "  </tbody>\n",
       "</table>\n",
       "</div>"
      ],
      "text/plain": [
       "                              run_id                                decor_id  \\\n",
       "769706  20220617-batt-icsd-vol-r90-2  Li3Y1Br6|_1_3_6|trigonal|icsd_053533|1   \n",
       "7954    20220617-batt-icsd-vol-r90-2     Li4Y1Br7|_1_4_7|cubic|icsd_001322|1   \n",
       "\n",
       "          reward  predicted_energy  decomp_energy  cond_ion_frac  oxidation  \\\n",
       "769706  1.135173         -3.798492        -0.8512         0.3000       -5.0   \n",
       "7954    1.132112         -3.735198        -0.7266         0.3333       -5.0   \n",
       "\n",
       "        reduction  stability_window      comp  \n",
       "769706    -0.6734            4.3266  Li3Y1Br6  \n",
       "7954      -0.6045            4.3955  Li4Y1Br7  "
      ]
     },
     "execution_count": 24,
     "metadata": {},
     "output_type": "execute_result"
    }
   ],
   "source": [
    "df_mcts.head(2)"
   ]
  },
  {
   "cell_type": "code",
   "execution_count": 25,
   "id": "2a1fb012-88d5-4713-a31c-0c2af73e7f23",
   "metadata": {},
   "outputs": [],
   "source": [
    "df_merged = pd.concat([df, df_mcts])"
   ]
  },
  {
   "cell_type": "code",
   "execution_count": 39,
   "id": "b6739483-c7bf-4fcd-b190-e17ca653a64b",
   "metadata": {},
   "outputs": [
    {
     "data": {
      "text/html": [
       "<div>\n",
       "<style scoped>\n",
       "    .dataframe tbody tr th:only-of-type {\n",
       "        vertical-align: middle;\n",
       "    }\n",
       "\n",
       "    .dataframe tbody tr th {\n",
       "        vertical-align: top;\n",
       "    }\n",
       "\n",
       "    .dataframe thead th {\n",
       "        text-align: right;\n",
       "    }\n",
       "</style>\n",
       "<table border=\"1\" class=\"dataframe\">\n",
       "  <thead>\n",
       "    <tr style=\"text-align: right;\">\n",
       "      <th></th>\n",
       "      <th>decor_id</th>\n",
       "      <th>reward</th>\n",
       "      <th>predicted_energy</th>\n",
       "      <th>decomp_energy</th>\n",
       "      <th>cond_ion_frac</th>\n",
       "      <th>reduction</th>\n",
       "      <th>oxidation</th>\n",
       "      <th>stability_window</th>\n",
       "      <th>comp</th>\n",
       "      <th>Unnamed: 0</th>\n",
       "      <th>run_id</th>\n",
       "    </tr>\n",
       "  </thead>\n",
       "  <tbody>\n",
       "    <tr>\n",
       "      <th>0</th>\n",
       "      <td>Li1Ti2Ge1Cl1N4|_1_1_1_2_4|orthorhombic|icsd_41...</td>\n",
       "      <td>0.015</td>\n",
       "      <td>0.299</td>\n",
       "      <td>7.325</td>\n",
       "      <td>0.111</td>\n",
       "      <td>NaN</td>\n",
       "      <td>NaN</td>\n",
       "      <td>NaN</td>\n",
       "      <td>Li1Ti2Ge1Cl1N4</td>\n",
       "      <td>NaN</td>\n",
       "      <td>NaN</td>\n",
       "    </tr>\n",
       "    <tr>\n",
       "      <th>1</th>\n",
       "      <td>Li1La1Sb1I3O3|_1_1_1_3_3|monoclinic|icsd_17166...</td>\n",
       "      <td>0.036</td>\n",
       "      <td>-0.391</td>\n",
       "      <td>4.621</td>\n",
       "      <td>0.111</td>\n",
       "      <td>NaN</td>\n",
       "      <td>NaN</td>\n",
       "      <td>NaN</td>\n",
       "      <td>Li1La1Sb1I3O3</td>\n",
       "      <td>NaN</td>\n",
       "      <td>NaN</td>\n",
       "    </tr>\n",
       "  </tbody>\n",
       "</table>\n",
       "</div>"
      ],
      "text/plain": [
       "                                            decor_id  reward  \\\n",
       "0  Li1Ti2Ge1Cl1N4|_1_1_1_2_4|orthorhombic|icsd_41...   0.015   \n",
       "1  Li1La1Sb1I3O3|_1_1_1_3_3|monoclinic|icsd_17166...   0.036   \n",
       "\n",
       "   predicted_energy  decomp_energy  cond_ion_frac  reduction  oxidation  \\\n",
       "0             0.299          7.325          0.111        NaN        NaN   \n",
       "1            -0.391          4.621          0.111        NaN        NaN   \n",
       "\n",
       "   stability_window            comp  Unnamed: 0 run_id  \n",
       "0               NaN  Li1Ti2Ge1Cl1N4         NaN    NaN  \n",
       "1               NaN   Li1La1Sb1I3O3         NaN    NaN  "
      ]
     },
     "execution_count": 39,
     "metadata": {},
     "output_type": "execute_result"
    }
   ],
   "source": [
    "df_merged.head(2)"
   ]
  },
  {
   "cell_type": "code",
   "execution_count": 40,
   "id": "b3259776-3567-44dc-a3e1-42445dd21f2e",
   "metadata": {},
   "outputs": [
    {
     "data": {
      "text/plain": [
       "14348831"
      ]
     },
     "execution_count": 40,
     "metadata": {},
     "output_type": "execute_result"
    }
   ],
   "source": [
    "df_merged.decor_id.nunique()"
   ]
  },
  {
   "cell_type": "code",
   "execution_count": 26,
   "id": "70295e85-702b-4752-8828-9eca75ef77c9",
   "metadata": {},
   "outputs": [],
   "source": [
    "df_merged = df_merged.drop_duplicates(subset='decor_id')"
   ]
  },
  {
   "cell_type": "code",
   "execution_count": 27,
   "id": "9bc3b88d-9f87-4d16-9b9c-6c232439aa60",
   "metadata": {},
   "outputs": [
    {
     "data": {
      "text/plain": [
       "14348831"
      ]
     },
     "execution_count": 27,
     "metadata": {},
     "output_type": "execute_result"
    }
   ],
   "source": [
    "len(df_merged)"
   ]
  },
  {
   "cell_type": "code",
   "execution_count": 35,
   "id": "5ffaf4d6-52a0-42bf-9545-87e32b1ac0c1",
   "metadata": {},
   "outputs": [],
   "source": [
    "def extract_id(decorated_str):\n",
    "    decor_split = decorated_str.split('|')\n",
    "    try:\n",
    "        out_str = '_'.join([decor_split[0], decor_split[3].replace('POSCAR_',''), decor_split[4]])\n",
    "    except:\n",
    "        return None\n",
    "    return out_str"
   ]
  },
  {
   "cell_type": "code",
   "execution_count": 30,
   "id": "c27752f1-64ba-48e1-ab44-d20eb8677d9a",
   "metadata": {},
   "outputs": [
    {
     "data": {
      "text/html": [
       "<div>\n",
       "<style scoped>\n",
       "    .dataframe tbody tr th:only-of-type {\n",
       "        vertical-align: middle;\n",
       "    }\n",
       "\n",
       "    .dataframe tbody tr th {\n",
       "        vertical-align: top;\n",
       "    }\n",
       "\n",
       "    .dataframe thead th {\n",
       "        text-align: right;\n",
       "    }\n",
       "</style>\n",
       "<table border=\"1\" class=\"dataframe\">\n",
       "  <thead>\n",
       "    <tr style=\"text-align: right;\">\n",
       "      <th></th>\n",
       "      <th>decor_id</th>\n",
       "      <th>reward</th>\n",
       "      <th>predicted_energy</th>\n",
       "      <th>decomp_energy</th>\n",
       "      <th>cond_ion_frac</th>\n",
       "      <th>reduction</th>\n",
       "      <th>oxidation</th>\n",
       "      <th>stability_window</th>\n",
       "      <th>comp</th>\n",
       "    </tr>\n",
       "  </thead>\n",
       "  <tbody>\n",
       "    <tr>\n",
       "      <th>0</th>\n",
       "      <td>Li1Ti2Ge1Cl1N4|_1_1_1_2_4|orthorhombic|icsd_41...</td>\n",
       "      <td>0.015</td>\n",
       "      <td>0.299</td>\n",
       "      <td>7.325</td>\n",
       "      <td>0.111</td>\n",
       "      <td>NaN</td>\n",
       "      <td>NaN</td>\n",
       "      <td>NaN</td>\n",
       "      <td>Li1Ti2Ge1Cl1N4</td>\n",
       "    </tr>\n",
       "    <tr>\n",
       "      <th>1</th>\n",
       "      <td>Li1La1Sb1I3O3|_1_1_1_3_3|monoclinic|icsd_17166...</td>\n",
       "      <td>0.036</td>\n",
       "      <td>-0.391</td>\n",
       "      <td>4.621</td>\n",
       "      <td>0.111</td>\n",
       "      <td>NaN</td>\n",
       "      <td>NaN</td>\n",
       "      <td>NaN</td>\n",
       "      <td>Li1La1Sb1I3O3</td>\n",
       "    </tr>\n",
       "  </tbody>\n",
       "</table>\n",
       "</div>"
      ],
      "text/plain": [
       "                                            decor_id  reward  \\\n",
       "0  Li1Ti2Ge1Cl1N4|_1_1_1_2_4|orthorhombic|icsd_41...   0.015   \n",
       "1  Li1La1Sb1I3O3|_1_1_1_3_3|monoclinic|icsd_17166...   0.036   \n",
       "\n",
       "   predicted_energy  decomp_energy  cond_ion_frac  reduction  oxidation  \\\n",
       "0             0.299          7.325          0.111        NaN        NaN   \n",
       "1            -0.391          4.621          0.111        NaN        NaN   \n",
       "\n",
       "   stability_window            comp  \n",
       "0               NaN  Li1Ti2Ge1Cl1N4  \n",
       "1               NaN   Li1La1Sb1I3O3  "
      ]
     },
     "execution_count": 30,
     "metadata": {},
     "output_type": "execute_result"
    }
   ],
   "source": [
    "df.head(2)"
   ]
  },
  {
   "cell_type": "code",
   "execution_count": 31,
   "id": "6b89a87f-c7d4-4eae-abd6-01eac8be0e3b",
   "metadata": {},
   "outputs": [
    {
     "data": {
      "text/html": [
       "<div>\n",
       "<style scoped>\n",
       "    .dataframe tbody tr th:only-of-type {\n",
       "        vertical-align: middle;\n",
       "    }\n",
       "\n",
       "    .dataframe tbody tr th {\n",
       "        vertical-align: top;\n",
       "    }\n",
       "\n",
       "    .dataframe thead th {\n",
       "        text-align: right;\n",
       "    }\n",
       "</style>\n",
       "<table border=\"1\" class=\"dataframe\">\n",
       "  <thead>\n",
       "    <tr style=\"text-align: right;\">\n",
       "      <th></th>\n",
       "      <th>run_id</th>\n",
       "      <th>decor_id</th>\n",
       "      <th>reward</th>\n",
       "      <th>predicted_energy</th>\n",
       "      <th>decomp_energy</th>\n",
       "      <th>cond_ion_frac</th>\n",
       "      <th>oxidation</th>\n",
       "      <th>reduction</th>\n",
       "      <th>stability_window</th>\n",
       "      <th>comp</th>\n",
       "    </tr>\n",
       "  </thead>\n",
       "  <tbody>\n",
       "    <tr>\n",
       "      <th>769706</th>\n",
       "      <td>20220617-batt-icsd-vol-r90-2</td>\n",
       "      <td>Li3Y1Br6|_1_3_6|trigonal|icsd_053533|1</td>\n",
       "      <td>1.135173</td>\n",
       "      <td>-3.798492</td>\n",
       "      <td>-0.8512</td>\n",
       "      <td>0.3000</td>\n",
       "      <td>-5.0</td>\n",
       "      <td>-0.6734</td>\n",
       "      <td>4.3266</td>\n",
       "      <td>Li3Y1Br6</td>\n",
       "    </tr>\n",
       "    <tr>\n",
       "      <th>7954</th>\n",
       "      <td>20220617-batt-icsd-vol-r90-2</td>\n",
       "      <td>Li4Y1Br7|_1_4_7|cubic|icsd_001322|1</td>\n",
       "      <td>1.132112</td>\n",
       "      <td>-3.735198</td>\n",
       "      <td>-0.7266</td>\n",
       "      <td>0.3333</td>\n",
       "      <td>-5.0</td>\n",
       "      <td>-0.6045</td>\n",
       "      <td>4.3955</td>\n",
       "      <td>Li4Y1Br7</td>\n",
       "    </tr>\n",
       "  </tbody>\n",
       "</table>\n",
       "</div>"
      ],
      "text/plain": [
       "                              run_id                                decor_id  \\\n",
       "769706  20220617-batt-icsd-vol-r90-2  Li3Y1Br6|_1_3_6|trigonal|icsd_053533|1   \n",
       "7954    20220617-batt-icsd-vol-r90-2     Li4Y1Br7|_1_4_7|cubic|icsd_001322|1   \n",
       "\n",
       "          reward  predicted_energy  decomp_energy  cond_ion_frac  oxidation  \\\n",
       "769706  1.135173         -3.798492        -0.8512         0.3000       -5.0   \n",
       "7954    1.132112         -3.735198        -0.7266         0.3333       -5.0   \n",
       "\n",
       "        reduction  stability_window      comp  \n",
       "769706    -0.6734            4.3266  Li3Y1Br6  \n",
       "7954      -0.6045            4.3955  Li4Y1Br7  "
      ]
     },
     "execution_count": 31,
     "metadata": {},
     "output_type": "execute_result"
    }
   ],
   "source": [
    "df_mcts.head(2)"
   ]
  },
  {
   "cell_type": "code",
   "execution_count": 36,
   "id": "fb40ff91-b1f7-4955-a080-9717feb1f838",
   "metadata": {},
   "outputs": [],
   "source": [
    "df_merged['id'] = df_merged.decor_id.apply(extract_id)"
   ]
  },
  {
   "cell_type": "code",
   "execution_count": 37,
   "id": "d7d774d2-692d-4bc7-9cef-501163647c26",
   "metadata": {},
   "outputs": [
    {
     "data": {
      "text/plain": [
       "14277451"
      ]
     },
     "execution_count": 37,
     "metadata": {},
     "output_type": "execute_result"
    }
   ],
   "source": [
    "len(df_merged.dropna(subset='id'))"
   ]
  },
  {
   "cell_type": "code",
   "execution_count": 39,
   "id": "428aadb1-9fba-4ed1-976c-b6fdcfa37fd4",
   "metadata": {},
   "outputs": [],
   "source": [
    "df_merged = df_merged.dropna(subset='id')"
   ]
  },
  {
   "cell_type": "code",
   "execution_count": null,
   "id": "a20ac25e-890d-45e3-b002-94d9bae936c8",
   "metadata": {},
   "outputs": [],
   "source": [
    "df_merged = df_merged.drop(columns='decor_id')"
   ]
  },
  {
   "cell_type": "code",
   "execution_count": null,
   "id": "394f4cf1-c60c-42a5-923f-295fc273a122",
   "metadata": {},
   "outputs": [],
   "source": [
    "df_merged = df_merged.drop(columns='run_id')"
   ]
  },
  {
   "cell_type": "code",
   "execution_count": 44,
   "id": "87a35ef9-dcd1-4d47-9428-9cafda931b8f",
   "metadata": {},
   "outputs": [],
   "source": [
    "cols = ['id',\n",
    "        'comp',\n",
    "        'reward',\n",
    "        'predicted_energy',\n",
    "        'decomp_energy',\n",
    "        'cond_ion_frac',\n",
    "        'reduction',\n",
    "        'oxidation',\n",
    "        'stability_window',\n",
    "        ]"
   ]
  },
  {
   "cell_type": "code",
   "execution_count": 45,
   "id": "8ce0cbab-d19b-4d2f-b071-58523bd58cd5",
   "metadata": {},
   "outputs": [],
   "source": [
    "df_merged = df_merged[cols]"
   ]
  },
  {
   "cell_type": "code",
   "execution_count": 46,
   "id": "f8bb0ee3-86c7-454e-b877-74c4b81274c5",
   "metadata": {},
   "outputs": [
    {
     "data": {
      "text/html": [
       "<div>\n",
       "<style scoped>\n",
       "    .dataframe tbody tr th:only-of-type {\n",
       "        vertical-align: middle;\n",
       "    }\n",
       "\n",
       "    .dataframe tbody tr th {\n",
       "        vertical-align: top;\n",
       "    }\n",
       "\n",
       "    .dataframe thead th {\n",
       "        text-align: right;\n",
       "    }\n",
       "</style>\n",
       "<table border=\"1\" class=\"dataframe\">\n",
       "  <thead>\n",
       "    <tr style=\"text-align: right;\">\n",
       "      <th></th>\n",
       "      <th>id</th>\n",
       "      <th>comp</th>\n",
       "      <th>reward</th>\n",
       "      <th>predicted_energy</th>\n",
       "      <th>decomp_energy</th>\n",
       "      <th>cond_ion_frac</th>\n",
       "      <th>reduction</th>\n",
       "      <th>oxidation</th>\n",
       "      <th>stability_window</th>\n",
       "    </tr>\n",
       "  </thead>\n",
       "  <tbody>\n",
       "    <tr>\n",
       "      <th>0</th>\n",
       "      <td>Li1Ti2Ge1Cl1N4_icsd_419182_4</td>\n",
       "      <td>Li1Ti2Ge1Cl1N4</td>\n",
       "      <td>0.015</td>\n",
       "      <td>0.299</td>\n",
       "      <td>7.325</td>\n",
       "      <td>0.111</td>\n",
       "      <td>NaN</td>\n",
       "      <td>NaN</td>\n",
       "      <td>NaN</td>\n",
       "    </tr>\n",
       "    <tr>\n",
       "      <th>1</th>\n",
       "      <td>Li1La1Sb1I3O3_icsd_171662_12</td>\n",
       "      <td>Li1La1Sb1I3O3</td>\n",
       "      <td>0.036</td>\n",
       "      <td>-0.391</td>\n",
       "      <td>4.621</td>\n",
       "      <td>0.111</td>\n",
       "      <td>NaN</td>\n",
       "      <td>NaN</td>\n",
       "      <td>NaN</td>\n",
       "    </tr>\n",
       "  </tbody>\n",
       "</table>\n",
       "</div>"
      ],
      "text/plain": [
       "                             id            comp  reward  predicted_energy  \\\n",
       "0  Li1Ti2Ge1Cl1N4_icsd_419182_4  Li1Ti2Ge1Cl1N4   0.015             0.299   \n",
       "1  Li1La1Sb1I3O3_icsd_171662_12   Li1La1Sb1I3O3   0.036            -0.391   \n",
       "\n",
       "   decomp_energy  cond_ion_frac  reduction  oxidation  stability_window  \n",
       "0          7.325          0.111        NaN        NaN               NaN  \n",
       "1          4.621          0.111        NaN        NaN               NaN  "
      ]
     },
     "execution_count": 46,
     "metadata": {},
     "output_type": "execute_result"
    }
   ],
   "source": [
    "df_merged.head(2)"
   ]
  },
  {
   "cell_type": "code",
   "execution_count": 47,
   "id": "fde275cd-d7af-4b85-8c0b-e7551059a7f7",
   "metadata": {},
   "outputs": [],
   "source": [
    "# write the combined dataframe to a single file\n",
    "out_file = \"/projects/rlmolecule/jlaw/crystal_outputs/2022-07-05/all_decor_rewards.csv.gz\"\n",
    "df_merged.to_csv(out_file, index=False)"
   ]
  },
  {
   "cell_type": "code",
   "execution_count": 98,
   "id": "b4da11e8-ab58-4ea7-850c-1e9a5f02276d",
   "metadata": {},
   "outputs": [
    {
     "data": {
      "text/plain": [
       "Text(0.5, 0, 'Reward')"
      ]
     },
     "execution_count": 98,
     "metadata": {},
     "output_type": "execute_result"
    },
    {
     "data": {
      "image/png": "[encoded data removed]",
      "text/plain": [
       "<Figure size 432x288 with 1 Axes>"
      ]
     },
     "metadata": {
      "needs_background": "light"
     },
     "output_type": "display_data"
    }
   ],
   "source": [
    "df_merged.reward.hist(bins=30, color='#7055a3')\n",
    "plt.yscale(\"log\")jk\n",
    "plt.xlabel(\"Reward\")\n",
    "# plt.title(f\"All decorations\")"
   ]
  },
  {
   "cell_type": "code",
   "execution_count": 168,
   "id": "840807f4-2744-4f43-b2de-83c0b62499c0",
   "metadata": {},
   "outputs": [
    {
     "data": {
      "text/plain": [
       "14277451"
      ]
     },
     "execution_count": 168,
     "metadata": {},
     "output_type": "execute_result"
    }
   ],
   "source": [
    "len(df_merged)"
   ]
  },
  {
   "cell_type": "markdown",
   "id": "ec49a952-bb46-41f6-9d43-9a253183ba36",
   "metadata": {},
   "source": [
    "## Visualize the decoration space"
   ]
  },
  {
   "cell_type": "code",
   "execution_count": 320,
   "id": "38fad103-a33b-4eaf-b534-7fec0943ae2e",
   "metadata": {},
   "outputs": [
    {
     "data": {
      "text/plain": [
       "cat0   cat1   cat2 \n",
       "False  False  False      56\n",
       "              True      283\n",
       "       True   False    1279\n",
       "              True     5882\n",
       "True   False  False      24\n",
       "              True       90\n",
       "       True   False     429\n",
       "              True     1957\n",
       "Name: value, dtype: int64"
      ]
     },
     "execution_count": 320,
     "metadata": {},
     "output_type": "execute_result"
    }
   ],
   "source": [
    "from upsetplot import generate_counts\n",
    "from upsetplot import UpSet\n",
    "from upsetplot import plot as plot_upset\n",
    "example = generate_counts()\n",
    "example"
   ]
  },
  {
   "cell_type": "code",
   "execution_count": 172,
   "id": "5eed7240-f4f7-4861-9280-cf22e81f45cd",
   "metadata": {},
   "outputs": [
    {
     "data": {
      "text/plain": [
       "{'decomp_energy': -0.1,\n",
       " 'cond_ion_frac': 0.3,\n",
       " 'reduction': -2,\n",
       " 'oxidation': -4,\n",
       " 'stability_window': 2}"
      ]
     },
     "execution_count": 172,
     "metadata": {},
     "output_type": "execute_result"
    }
   ],
   "source": [
    "rewarder = StructureRewardBattInterface(None)\n",
    "cutoffs = rewarder.reward_cutoffs\n",
    "cutoffs"
   ]
  },
  {
   "cell_type": "code",
   "execution_count": 173,
   "id": "22047358-79b4-4892-8770-d24ddcfb7476",
   "metadata": {},
   "outputs": [
    {
     "data": {
      "text/html": [
       "<div>\n",
       "<style scoped>\n",
       "    .dataframe tbody tr th:only-of-type {\n",
       "        vertical-align: middle;\n",
       "    }\n",
       "\n",
       "    .dataframe tbody tr th {\n",
       "        vertical-align: top;\n",
       "    }\n",
       "\n",
       "    .dataframe thead th {\n",
       "        text-align: right;\n",
       "    }\n",
       "</style>\n",
       "<table border=\"1\" class=\"dataframe\">\n",
       "  <thead>\n",
       "    <tr style=\"text-align: right;\">\n",
       "      <th></th>\n",
       "      <th>id</th>\n",
       "      <th>comp</th>\n",
       "      <th>reward</th>\n",
       "      <th>predicted_energy</th>\n",
       "      <th>decomp_energy</th>\n",
       "      <th>cond_ion_frac</th>\n",
       "      <th>reduction</th>\n",
       "      <th>oxidation</th>\n",
       "      <th>stability_window</th>\n",
       "    </tr>\n",
       "  </thead>\n",
       "  <tbody>\n",
       "    <tr>\n",
       "      <th>0</th>\n",
       "      <td>Li1Ti2Ge1Cl1N4_icsd_419182_4</td>\n",
       "      <td>Li1Ti2Ge1Cl1N4</td>\n",
       "      <td>0.015</td>\n",
       "      <td>0.299</td>\n",
       "      <td>7.325</td>\n",
       "      <td>0.111</td>\n",
       "      <td>NaN</td>\n",
       "      <td>NaN</td>\n",
       "      <td>NaN</td>\n",
       "    </tr>\n",
       "    <tr>\n",
       "      <th>1</th>\n",
       "      <td>Li1La1Sb1I3O3_icsd_171662_12</td>\n",
       "      <td>Li1La1Sb1I3O3</td>\n",
       "      <td>0.036</td>\n",
       "      <td>-0.391</td>\n",
       "      <td>4.621</td>\n",
       "      <td>0.111</td>\n",
       "      <td>NaN</td>\n",
       "      <td>NaN</td>\n",
       "      <td>NaN</td>\n",
       "    </tr>\n",
       "  </tbody>\n",
       "</table>\n",
       "</div>"
      ],
      "text/plain": [
       "                             id            comp  reward  predicted_energy  \\\n",
       "0  Li1Ti2Ge1Cl1N4_icsd_419182_4  Li1Ti2Ge1Cl1N4   0.015             0.299   \n",
       "1  Li1La1Sb1I3O3_icsd_171662_12   Li1La1Sb1I3O3   0.036            -0.391   \n",
       "\n",
       "   decomp_energy  cond_ion_frac  reduction  oxidation  stability_window  \n",
       "0          7.325          0.111        NaN        NaN               NaN  \n",
       "1          4.621          0.111        NaN        NaN               NaN  "
      ]
     },
     "execution_count": 173,
     "metadata": {},
     "output_type": "execute_result"
    }
   ],
   "source": [
    "df_merged.head(2)"
   ]
  },
  {
   "cell_type": "code",
   "execution_count": 379,
   "id": "48fe4681-e935-4777-a21a-643b5850eac6",
   "metadata": {},
   "outputs": [
    {
     "data": {
      "application/vnd.jupyter.widget-view+json": {
       "model_id": "cd230b44a9924a2ca6fde8df2f51d0a8",
       "version_major": 2,
       "version_minor": 0
      },
      "text/plain": [
       "  0%|          | 0/14277451 [00:00<?, ?it/s]"
      ]
     },
     "metadata": {},
     "output_type": "display_data"
    },
    {
     "name": "stderr",
     "output_type": "stream",
     "text": [
      "/tmp/ipykernel_28937/2806521132.py:4: SettingWithCopyWarning: \n",
      "A value is trying to be set on a copy of a slice from a DataFrame.\n",
      "Try using .loc[row_indexer,col_indexer] = value instead\n",
      "\n",
      "See the caveats in the documentation: https://pandas.pydata.org/pandas-docs/stable/user_guide/indexing.html#returning-a-view-versus-a-copy\n",
      "  df_cutoffs[col] = df_merged[col].progress_apply(lambda x: x <= cutoffs[col])\n"
     ]
    },
    {
     "data": {
      "application/vnd.jupyter.widget-view+json": {
       "model_id": "798b9eabc23e49b28599e75a52fa4751",
       "version_major": 2,
       "version_minor": 0
      },
      "text/plain": [
       "  0%|          | 0/14277451 [00:00<?, ?it/s]"
      ]
     },
     "metadata": {},
     "output_type": "display_data"
    },
    {
     "name": "stderr",
     "output_type": "stream",
     "text": [
      "/tmp/ipykernel_28937/2806521132.py:4: SettingWithCopyWarning: \n",
      "A value is trying to be set on a copy of a slice from a DataFrame.\n",
      "Try using .loc[row_indexer,col_indexer] = value instead\n",
      "\n",
      "See the caveats in the documentation: https://pandas.pydata.org/pandas-docs/stable/user_guide/indexing.html#returning-a-view-versus-a-copy\n",
      "  df_cutoffs[col] = df_merged[col].progress_apply(lambda x: x <= cutoffs[col])\n"
     ]
    },
    {
     "data": {
      "application/vnd.jupyter.widget-view+json": {
       "model_id": "55d75719e9404d88aec2fe8b04198c5c",
       "version_major": 2,
       "version_minor": 0
      },
      "text/plain": [
       "  0%|          | 0/14277451 [00:00<?, ?it/s]"
      ]
     },
     "metadata": {},
     "output_type": "display_data"
    },
    {
     "name": "stderr",
     "output_type": "stream",
     "text": [
      "/tmp/ipykernel_28937/2806521132.py:6: SettingWithCopyWarning: \n",
      "A value is trying to be set on a copy of a slice from a DataFrame.\n",
      "Try using .loc[row_indexer,col_indexer] = value instead\n",
      "\n",
      "See the caveats in the documentation: https://pandas.pydata.org/pandas-docs/stable/user_guide/indexing.html#returning-a-view-versus-a-copy\n",
      "  df_cutoffs[col] = df_merged[col].progress_apply(lambda x: x >= cutoffs[col])\n"
     ]
    },
    {
     "data": {
      "application/vnd.jupyter.widget-view+json": {
       "model_id": "c8e055ec649540a3ac01bd5288c60868",
       "version_major": 2,
       "version_minor": 0
      },
      "text/plain": [
       "  0%|          | 0/14277451 [00:00<?, ?it/s]"
      ]
     },
     "metadata": {},
     "output_type": "display_data"
    },
    {
     "name": "stderr",
     "output_type": "stream",
     "text": [
      "/tmp/ipykernel_28937/2806521132.py:6: SettingWithCopyWarning: \n",
      "A value is trying to be set on a copy of a slice from a DataFrame.\n",
      "Try using .loc[row_indexer,col_indexer] = value instead\n",
      "\n",
      "See the caveats in the documentation: https://pandas.pydata.org/pandas-docs/stable/user_guide/indexing.html#returning-a-view-versus-a-copy\n",
      "  df_cutoffs[col] = df_merged[col].progress_apply(lambda x: x >= cutoffs[col])\n"
     ]
    },
    {
     "data": {
      "application/vnd.jupyter.widget-view+json": {
       "model_id": "866d9e48102e46dbb10cddfc32acc8df",
       "version_major": 2,
       "version_minor": 0
      },
      "text/plain": [
       "  0%|          | 0/14277451 [00:00<?, ?it/s]"
      ]
     },
     "metadata": {},
     "output_type": "display_data"
    },
    {
     "name": "stderr",
     "output_type": "stream",
     "text": [
      "/tmp/ipykernel_28937/2806521132.py:6: SettingWithCopyWarning: \n",
      "A value is trying to be set on a copy of a slice from a DataFrame.\n",
      "Try using .loc[row_indexer,col_indexer] = value instead\n",
      "\n",
      "See the caveats in the documentation: https://pandas.pydata.org/pandas-docs/stable/user_guide/indexing.html#returning-a-view-versus-a-copy\n",
      "  df_cutoffs[col] = df_merged[col].progress_apply(lambda x: x >= cutoffs[col])\n"
     ]
    },
    {
     "data": {
      "text/html": [
       "<div>\n",
       "<style scoped>\n",
       "    .dataframe tbody tr th:only-of-type {\n",
       "        vertical-align: middle;\n",
       "    }\n",
       "\n",
       "    .dataframe tbody tr th {\n",
       "        vertical-align: top;\n",
       "    }\n",
       "\n",
       "    .dataframe thead th {\n",
       "        text-align: right;\n",
       "    }\n",
       "</style>\n",
       "<table border=\"1\" class=\"dataframe\">\n",
       "  <thead>\n",
       "    <tr style=\"text-align: right;\">\n",
       "      <th></th>\n",
       "      <th>id</th>\n",
       "      <th>comp</th>\n",
       "      <th>decomp_energy</th>\n",
       "      <th>oxidation</th>\n",
       "      <th>cond_ion_frac</th>\n",
       "      <th>reduction</th>\n",
       "      <th>stability_window</th>\n",
       "    </tr>\n",
       "  </thead>\n",
       "  <tbody>\n",
       "    <tr>\n",
       "      <th>0</th>\n",
       "      <td>Li1Ti2Ge1Cl1N4_icsd_419182_4</td>\n",
       "      <td>Li1Ti2Ge1Cl1N4</td>\n",
       "      <td>False</td>\n",
       "      <td>False</td>\n",
       "      <td>False</td>\n",
       "      <td>False</td>\n",
       "      <td>False</td>\n",
       "    </tr>\n",
       "    <tr>\n",
       "      <th>1</th>\n",
       "      <td>Li1La1Sb1I3O3_icsd_171662_12</td>\n",
       "      <td>Li1La1Sb1I3O3</td>\n",
       "      <td>False</td>\n",
       "      <td>False</td>\n",
       "      <td>False</td>\n",
       "      <td>False</td>\n",
       "      <td>False</td>\n",
       "    </tr>\n",
       "    <tr>\n",
       "      <th>2</th>\n",
       "      <td>K1Hg1Al1F4O1_icsd_051463_2</td>\n",
       "      <td>K1Hg1Al1F4O1</td>\n",
       "      <td>False</td>\n",
       "      <td>False</td>\n",
       "      <td>False</td>\n",
       "      <td>False</td>\n",
       "      <td>False</td>\n",
       "    </tr>\n",
       "    <tr>\n",
       "      <th>3</th>\n",
       "      <td>Li3Al1F2S2_icsd_250396_2</td>\n",
       "      <td>Li3Al1F2S2</td>\n",
       "      <td>False</td>\n",
       "      <td>False</td>\n",
       "      <td>True</td>\n",
       "      <td>False</td>\n",
       "      <td>False</td>\n",
       "    </tr>\n",
       "    <tr>\n",
       "      <th>4</th>\n",
       "      <td>Li2Si1Sb1Br1S5_icsd_010176_5</td>\n",
       "      <td>Li2Si1Sb1Br1S5</td>\n",
       "      <td>False</td>\n",
       "      <td>False</td>\n",
       "      <td>False</td>\n",
       "      <td>False</td>\n",
       "      <td>False</td>\n",
       "    </tr>\n",
       "    <tr>\n",
       "      <th>...</th>\n",
       "      <td>...</td>\n",
       "      <td>...</td>\n",
       "      <td>...</td>\n",
       "      <td>...</td>\n",
       "      <td>...</td>\n",
       "      <td>...</td>\n",
       "      <td>...</td>\n",
       "    </tr>\n",
       "    <tr>\n",
       "      <th>4108670</th>\n",
       "      <td>Li1Hf4Al1S4P4_icsd_280039_2</td>\n",
       "      <td>Li1Hf4Al1S4P4</td>\n",
       "      <td>False</td>\n",
       "      <td>False</td>\n",
       "      <td>False</td>\n",
       "      <td>False</td>\n",
       "      <td>False</td>\n",
       "    </tr>\n",
       "    <tr>\n",
       "      <th>3989794</th>\n",
       "      <td>Li1La1Hf4S4P4_icsd_171416_4</td>\n",
       "      <td>Li1La1Hf4S4P4</td>\n",
       "      <td>False</td>\n",
       "      <td>False</td>\n",
       "      <td>False</td>\n",
       "      <td>False</td>\n",
       "      <td>False</td>\n",
       "    </tr>\n",
       "    <tr>\n",
       "      <th>834678</th>\n",
       "      <td>K1Hf4B1S4N4_icsd_171416_4</td>\n",
       "      <td>K1Hf4B1S4N4</td>\n",
       "      <td>False</td>\n",
       "      <td>False</td>\n",
       "      <td>False</td>\n",
       "      <td>False</td>\n",
       "      <td>False</td>\n",
       "    </tr>\n",
       "    <tr>\n",
       "      <th>2922469</th>\n",
       "      <td>K1La1Sb4N4P4_icsd_171416_4</td>\n",
       "      <td>K1La1Sb4N4P4</td>\n",
       "      <td>False</td>\n",
       "      <td>False</td>\n",
       "      <td>False</td>\n",
       "      <td>False</td>\n",
       "      <td>False</td>\n",
       "    </tr>\n",
       "    <tr>\n",
       "      <th>2699809</th>\n",
       "      <td>K1Y4Al1O4S4_icsd_280039_4</td>\n",
       "      <td>K1Y4Al1O4S4</td>\n",
       "      <td>False</td>\n",
       "      <td>False</td>\n",
       "      <td>False</td>\n",
       "      <td>False</td>\n",
       "      <td>False</td>\n",
       "    </tr>\n",
       "  </tbody>\n",
       "</table>\n",
       "<p>14277451 rows × 7 columns</p>\n",
       "</div>"
      ],
      "text/plain": [
       "                                   id            comp  decomp_energy  \\\n",
       "0        Li1Ti2Ge1Cl1N4_icsd_419182_4  Li1Ti2Ge1Cl1N4          False   \n",
       "1        Li1La1Sb1I3O3_icsd_171662_12   Li1La1Sb1I3O3          False   \n",
       "2          K1Hg1Al1F4O1_icsd_051463_2    K1Hg1Al1F4O1          False   \n",
       "3            Li3Al1F2S2_icsd_250396_2      Li3Al1F2S2          False   \n",
       "4        Li2Si1Sb1Br1S5_icsd_010176_5  Li2Si1Sb1Br1S5          False   \n",
       "...                               ...             ...            ...   \n",
       "4108670   Li1Hf4Al1S4P4_icsd_280039_2   Li1Hf4Al1S4P4          False   \n",
       "3989794   Li1La1Hf4S4P4_icsd_171416_4   Li1La1Hf4S4P4          False   \n",
       "834678      K1Hf4B1S4N4_icsd_171416_4     K1Hf4B1S4N4          False   \n",
       "2922469    K1La1Sb4N4P4_icsd_171416_4    K1La1Sb4N4P4          False   \n",
       "2699809     K1Y4Al1O4S4_icsd_280039_4     K1Y4Al1O4S4          False   \n",
       "\n",
       "         oxidation  cond_ion_frac  reduction  stability_window  \n",
       "0            False          False      False             False  \n",
       "1            False          False      False             False  \n",
       "2            False          False      False             False  \n",
       "3            False           True      False             False  \n",
       "4            False          False      False             False  \n",
       "...            ...            ...        ...               ...  \n",
       "4108670      False          False      False             False  \n",
       "3989794      False          False      False             False  \n",
       "834678       False          False      False             False  \n",
       "2922469      False          False      False             False  \n",
       "2699809      False          False      False             False  \n",
       "\n",
       "[14277451 rows x 7 columns]"
      ]
     },
     "execution_count": 379,
     "metadata": {},
     "output_type": "execute_result"
    }
   ],
   "source": [
    "col = 'decomp_energy'\n",
    "df_cutoffs = df_merged[['id', 'comp']]\n",
    "for col in ['decomp_energy', 'oxidation']:\n",
    "    df_cutoffs[col] = df_merged[col].progress_apply(lambda x: x <= cutoffs[col])\n",
    "for col in ['cond_ion_frac', 'reduction', 'stability_window']:\n",
    "    df_cutoffs[col] = df_merged[col].progress_apply(lambda x: x >= cutoffs[col])\n",
    "    \n",
    "df_cutoffs"
   ]
  },
  {
   "cell_type": "code",
   "execution_count": 343,
   "id": "53d2a4cb-08c1-4a74-8c33-aa7c1e4bd611",
   "metadata": {},
   "outputs": [
    {
     "data": {
      "application/vnd.jupyter.widget-view+json": {
       "model_id": "1e6de00e7afc4e8598e2e59e1c7dae88",
       "version_major": 2,
       "version_minor": 0
      },
      "text/plain": [
       "  0%|          | 0/14277451 [00:00<?, ?it/s]"
      ]
     },
     "metadata": {},
     "output_type": "display_data"
    },
    {
     "name": "stderr",
     "output_type": "stream",
     "text": [
      "/tmp/ipykernel_28937/2483156594.py:9: SettingWithCopyWarning: \n",
      "A value is trying to be set on a copy of a slice from a DataFrame.\n",
      "Try using .loc[row_indexer,col_indexer] = value instead\n",
      "\n",
      "See the caveats in the documentation: https://pandas.pydata.org/pandas-docs/stable/user_guide/indexing.html#returning-a-view-versus-a-copy\n",
      "  df_cutoffs['cond_ion'] = df_cutoffs.comp.progress_apply(get_cond_ion)\n"
     ]
    },
    {
     "data": {
      "text/html": [
       "<div>\n",
       "<style scoped>\n",
       "    .dataframe tbody tr th:only-of-type {\n",
       "        vertical-align: middle;\n",
       "    }\n",
       "\n",
       "    .dataframe tbody tr th {\n",
       "        vertical-align: top;\n",
       "    }\n",
       "\n",
       "    .dataframe thead th {\n",
       "        text-align: right;\n",
       "    }\n",
       "</style>\n",
       "<table border=\"1\" class=\"dataframe\">\n",
       "  <thead>\n",
       "    <tr style=\"text-align: right;\">\n",
       "      <th></th>\n",
       "      <th>id</th>\n",
       "      <th>comp</th>\n",
       "      <th>decomp_energy</th>\n",
       "      <th>oxidation</th>\n",
       "      <th>cond_ion_frac</th>\n",
       "      <th>reduction</th>\n",
       "      <th>stability_window</th>\n",
       "      <th>cond_ion</th>\n",
       "    </tr>\n",
       "  </thead>\n",
       "  <tbody>\n",
       "    <tr>\n",
       "      <th>0</th>\n",
       "      <td>Li1Ti2Ge1Cl1N4_icsd_419182_4</td>\n",
       "      <td>Li1Ti2Ge1Cl1N4</td>\n",
       "      <td>False</td>\n",
       "      <td>False</td>\n",
       "      <td>False</td>\n",
       "      <td>False</td>\n",
       "      <td>False</td>\n",
       "      <td>Li</td>\n",
       "    </tr>\n",
       "    <tr>\n",
       "      <th>1</th>\n",
       "      <td>Li1La1Sb1I3O3_icsd_171662_12</td>\n",
       "      <td>Li1La1Sb1I3O3</td>\n",
       "      <td>False</td>\n",
       "      <td>False</td>\n",
       "      <td>False</td>\n",
       "      <td>False</td>\n",
       "      <td>False</td>\n",
       "      <td>Li</td>\n",
       "    </tr>\n",
       "  </tbody>\n",
       "</table>\n",
       "</div>"
      ],
      "text/plain": [
       "                             id            comp  decomp_energy  oxidation  \\\n",
       "0  Li1Ti2Ge1Cl1N4_icsd_419182_4  Li1Ti2Ge1Cl1N4          False      False   \n",
       "1  Li1La1Sb1I3O3_icsd_171662_12   Li1La1Sb1I3O3          False      False   \n",
       "\n",
       "   cond_ion_frac  reduction  stability_window cond_ion  \n",
       "0          False      False             False       Li  \n",
       "1          False      False             False       Li  "
      ]
     },
     "execution_count": 343,
     "metadata": {},
     "output_type": "execute_result"
    }
   ],
   "source": [
    "# add the conducting ion\n",
    "# for cond_ion in ['Li', 'K', 'Na']:\n",
    "    # df_cutoffs[cond_ion] = df_cutoffs.comp.progress_apply(lambda x: cond_ion in x)\n",
    "def get_cond_ion(comp):\n",
    "    for cond_ion in ['Li', 'K', 'Na']:\n",
    "        if cond_ion in comp:\n",
    "            return cond_ion\n",
    "        \n",
    "df_cutoffs['cond_ion'] = df_cutoffs.comp.progress_apply(get_cond_ion)\n",
    "df_cutoffs.head(2)"
   ]
  },
  {
   "cell_type": "code",
   "execution_count": 344,
   "id": "a22cc3e4-2a39-4f64-8f22-b13e592e59f6",
   "metadata": {},
   "outputs": [],
   "source": [
    "df_cutoffs = df_cutoffs.drop(columns=['id', 'comp'])"
   ]
  },
  {
   "cell_type": "code",
   "execution_count": 378,
   "id": "49164022-f1c6-4508-9779-b719de3a1d69",
   "metadata": {},
   "outputs": [
    {
     "data": {
      "text/html": [
       "<div>\n",
       "<style scoped>\n",
       "    .dataframe tbody tr th:only-of-type {\n",
       "        vertical-align: middle;\n",
       "    }\n",
       "\n",
       "    .dataframe tbody tr th {\n",
       "        vertical-align: top;\n",
       "    }\n",
       "\n",
       "    .dataframe thead th {\n",
       "        text-align: right;\n",
       "    }\n",
       "</style>\n",
       "<table border=\"1\" class=\"dataframe\">\n",
       "  <thead>\n",
       "    <tr style=\"text-align: right;\">\n",
       "      <th></th>\n",
       "      <th>decomp_energy</th>\n",
       "      <th>oxidation</th>\n",
       "      <th>cond_ion_frac</th>\n",
       "      <th>reduction</th>\n",
       "      <th>stability_window</th>\n",
       "      <th>cond_ion</th>\n",
       "    </tr>\n",
       "  </thead>\n",
       "  <tbody>\n",
       "    <tr>\n",
       "      <th>0</th>\n",
       "      <td>False</td>\n",
       "      <td>False</td>\n",
       "      <td>False</td>\n",
       "      <td>False</td>\n",
       "      <td>False</td>\n",
       "      <td>Li</td>\n",
       "    </tr>\n",
       "    <tr>\n",
       "      <th>1</th>\n",
       "      <td>False</td>\n",
       "      <td>False</td>\n",
       "      <td>False</td>\n",
       "      <td>False</td>\n",
       "      <td>False</td>\n",
       "      <td>Li</td>\n",
       "    </tr>\n",
       "  </tbody>\n",
       "</table>\n",
       "</div>"
      ],
      "text/plain": [
       "   decomp_energy  oxidation  cond_ion_frac  reduction  stability_window  \\\n",
       "0          False      False          False      False             False   \n",
       "1          False      False          False      False             False   \n",
       "\n",
       "  cond_ion  \n",
       "0       Li  \n",
       "1       Li  "
      ]
     },
     "execution_count": 378,
     "metadata": {},
     "output_type": "execute_result"
    }
   ],
   "source": [
    "df_cutoffs.head(2)"
   ]
  },
  {
   "cell_type": "code",
   "execution_count": 235,
   "id": "d78f1011-9697-4628-8f78-f8e682bdeba3",
   "metadata": {},
   "outputs": [
    {
     "data": {
      "text/html": [
       "<div>\n",
       "<style scoped>\n",
       "    .dataframe tbody tr th:only-of-type {\n",
       "        vertical-align: middle;\n",
       "    }\n",
       "\n",
       "    .dataframe tbody tr th {\n",
       "        vertical-align: top;\n",
       "    }\n",
       "\n",
       "    .dataframe thead th {\n",
       "        text-align: right;\n",
       "    }\n",
       "</style>\n",
       "<table border=\"1\" class=\"dataframe\">\n",
       "  <thead>\n",
       "    <tr style=\"text-align: right;\">\n",
       "      <th></th>\n",
       "      <th>Stability Window &gt;   2</th>\n",
       "      <th>Reduction &gt;   -2</th>\n",
       "      <th>Oxidation &lt;   -4</th>\n",
       "      <th>Conducting Ion % &gt;  30</th>\n",
       "      <th>Decomp. Energy &lt; -0.1</th>\n",
       "    </tr>\n",
       "  </thead>\n",
       "  <tbody>\n",
       "    <tr>\n",
       "      <th>0</th>\n",
       "      <td>False</td>\n",
       "      <td>False</td>\n",
       "      <td>False</td>\n",
       "      <td>False</td>\n",
       "      <td>False</td>\n",
       "    </tr>\n",
       "    <tr>\n",
       "      <th>1</th>\n",
       "      <td>False</td>\n",
       "      <td>False</td>\n",
       "      <td>False</td>\n",
       "      <td>False</td>\n",
       "      <td>False</td>\n",
       "    </tr>\n",
       "  </tbody>\n",
       "</table>\n",
       "</div>"
      ],
      "text/plain": [
       "   Stability Window >   2  Reduction >   -2  Oxidation <   -4  \\\n",
       "0                   False             False             False   \n",
       "1                   False             False             False   \n",
       "\n",
       "   Conducting Ion % >  30  Decomp. Energy < -0.1  \n",
       "0                   False                  False  \n",
       "1                   False                  False  "
      ]
     },
     "execution_count": 235,
     "metadata": {},
     "output_type": "execute_result"
    }
   ],
   "source": [
    "# df_cutoffs = df_cutoffs.drop(columns=['id', 'comp'])\n",
    "# df_cutoffs = df_cutoffs[['stability_window', 'reduction', 'oxidation', 'cond_ion_frac', 'decomp_energy']]\n",
    "# # only count oxidation, reduction, and stability window if decomp_energy is True\n",
    "# df_cutoffs.loc[(df_cutoffs['oxidation']) & ~(df_cutoffs['decomp_energy'])] = False\n",
    "# df_cutoffs.loc[(df_cutoffs['reduction']) & ~(df_cutoffs['decomp_energy'])] = False\n",
    "# df_cutoffs.loc[(df_cutoffs['stability_window']) & ~(df_cutoffs['decomp_energy'])] = False\n",
    "\n",
    "df_cutoffs.columns = ['Stability Window >   2', 'Reduction >   -2', 'Oxidation <   -4', 'Conducting Ion % >  30', 'Decomp. Energy < -0.1']\n",
    "df_cutoffs.head(2)"
   ]
  },
  {
   "cell_type": "code",
   "execution_count": 236,
   "id": "a7efac0e-e169-4afc-830f-6104d2afddc0",
   "metadata": {},
   "outputs": [
    {
     "data": {
      "text/plain": [
       "Stability Window >   2  Reduction >   -2  Oxidation <   -4  Conducting Ion % >  30  Decomp. Energy < -0.1\n",
       "False                   False             False             False                   False                    12121459\n",
       "                                                            True                    False                     2089355\n",
       "True                    False             True              False                   True                        28174\n",
       "False                   False             True              False                   True                        24167\n",
       "True                    True              True              False                   True                        11529\n",
       "                                                            True                    True                          494\n",
       "                                          False             False                   True                          469\n",
       "False                   False             False             False                   True                          445\n",
       "                        True              False             True                    True                          387\n",
       "True                    False             True              True                    True                          305\n",
       "False                   False             True              True                    True                          280\n",
       "                        True              False             False                   True                          170\n",
       "True                    True              False             True                    True                          120\n",
       "False                   False             False             True                    True                           97\n",
       "dtype: int64"
      ]
     },
     "execution_count": 236,
     "metadata": {},
     "output_type": "execute_result"
    }
   ],
   "source": [
    "counts = df_cutoffs.value_counts()\n",
    "counts"
   ]
  },
  {
   "cell_type": "code",
   "execution_count": 278,
   "id": "c761dfa7-ea50-40ba-b9b9-d92f532499bf",
   "metadata": {},
   "outputs": [
    {
     "name": "stdout",
     "output_type": "stream",
     "text": [
      "/projects/rlmolecule/jlaw/crystal_outputs/2022-07-05/viz/pass_cutoffs_upset_plot.svg\n"
     ]
    },
    {
     "data": {
      "image/png": "[encoded data removed]",
      "text/plain": [
       "<Figure size 504x360 with 4 Axes>"
      ]
     },
     "metadata": {
      "needs_background": "light"
     },
     "output_type": "display_data"
    }
   ],
   "source": [
    "fig = plt.figure(figsize=(7, 5))\n",
    "plot_upset(counts, \n",
    "           fig=fig, element_size=None,\n",
    "           totals_plot_elements=1,\n",
    "           intersection_plot_elements=7,\n",
    "           facecolor=\"#4e1a8a\",\n",
    "           # show_counts=True,\n",
    "           # show_percentages=True,\n",
    "           min_subset_size=400, \n",
    "           # max_subset_size=10000,\n",
    "           sort_categories_by=None)\n",
    "plt.yscale('log')\n",
    "# plt.xscale('log')\n",
    "out_file = \"/projects/rlmolecule/jlaw/crystal_outputs/2022-07-05/viz/pass_cutoffs_upset_plot.svg\"\n",
    "print(out_file)\n",
    "plt.savefig(out_file, bbox_inches='tight')\n",
    "plt.savefig(out_file.replace('.svg', '.png'), bbox_inches='tight')"
   ]
  },
  {
   "cell_type": "code",
   "execution_count": 285,
   "id": "9f7fbc90-1638-4a53-872b-74bb3d7f9a6b",
   "metadata": {},
   "outputs": [
    {
     "data": {
      "text/plain": [
       "Stability Window >   2  Reduction >   -2  Oxidation <   -4  Conducting Ion % >  30  Decomp. Energy < -0.1\n",
       "True                    False             True              False                   True                     28174\n",
       "False                   False             True              False                   True                     24167\n",
       "True                    True              True              False                   True                     11529\n",
       "                                                            True                    True                       494\n",
       "                                          False             False                   True                       469\n",
       "False                   False             False             False                   True                       445\n",
       "                        True              False             True                    True                       387\n",
       "True                    False             True              True                    True                       305\n",
       "False                   False             True              True                    True                       280\n",
       "                        True              False             False                   True                       170\n",
       "True                    True              False             True                    True                       120\n",
       "False                   False             False             True                    True                        97\n",
       "dtype: int64"
      ]
     },
     "execution_count": 285,
     "metadata": {},
     "output_type": "execute_result"
    }
   ],
   "source": [
    "counts.iloc[2:]"
   ]
  },
  {
   "cell_type": "code",
   "execution_count": 317,
   "id": "8058b435-181b-4d1c-98a4-ce5407ee77fc",
   "metadata": {},
   "outputs": [
    {
     "name": "stdout",
     "output_type": "stream",
     "text": [
      "/projects/rlmolecule/jlaw/crystal_outputs/2022-07-05/viz/pass_cutoffs_upset_plot.svg\n"
     ]
    },
    {
     "data": {
      "image/png": "[encoded data removed]",
      "text/plain": [
       "<Figure size 504x360 with 4 Axes>"
      ]
     },
     "metadata": {
      "needs_background": "light"
     },
     "output_type": "display_data"
    }
   ],
   "source": [
    "fig = plt.figure(figsize=(7, 5))\n",
    "plot_upset(counts.iloc[2:],\n",
    "           fig=fig, element_size=None,\n",
    "           totals_plot_elements=1,\n",
    "           intersection_plot_elements=7,\n",
    "           facecolor=\"#4e1a8a\",\n",
    "           # show_counts=True,\n",
    "           show_percentages=\"%0.1f%%\",\n",
    "           min_subset_size=300, \n",
    "           # max_subset_size=100000,\n",
    "           # sort_categories_by=None\n",
    "          )\n",
    "# plt.yscale('log')\n",
    "out_file = \"/projects/rlmolecule/jlaw/crystal_outputs/2022-07-05/viz/pass_cutoffs_upset_plot.svg\"\n",
    "print(out_file)\n",
    "plt.savefig(out_file, bbox_inches='tight')\n",
    "plt.savefig(out_file.replace('.svg', '.png'), bbox_inches='tight')"
   ]
  },
  {
   "cell_type": "code",
   "execution_count": 319,
   "id": "1aa70758-91ac-4a2f-a931-62af8929dde3",
   "metadata": {},
   "outputs": [
    {
     "data": {
      "text/plain": [
       "{'matrix': <AxesSubplot:>,\n",
       " 'shading': <AxesSubplot:>,\n",
       " 'totals': <AxesSubplot:>,\n",
       " 'intersections': <AxesSubplot:ylabel='Intersection size'>}"
      ]
     },
     "execution_count": 319,
     "metadata": {},
     "output_type": "execute_result"
    },
    {
     "data": {
      "image/png": "[encoded data removed]",
      "text/plain": [
       "<Figure size 504x360 with 4 Axes>"
      ]
     },
     "metadata": {
      "needs_background": "light"
     },
     "output_type": "display_data"
    }
   ],
   "source": [
    "fig = plt.figure(figsize=(7, 5))\n",
    "plot_upset(counts.iloc[2:],\n",
    "           fig=fig, element_size=None,\n",
    "           totals_plot_elements=1,\n",
    "           intersection_plot_elements=7,\n",
    "           facecolor=\"#4e1a8a\",\n",
    "           show_counts=True,\n",
    "           # show_percentages=\"%0.1f%%\",\n",
    "           min_subset_size=300, \n",
    "           # max_subset_size=100000,\n",
    "           # sort_categories_by=None\n",
    "          )"
   ]
  },
  {
   "cell_type": "code",
   "execution_count": 335,
   "id": "e09e541a-24ed-4662-9e49-534a619c85e1",
   "metadata": {},
   "outputs": [
    {
     "data": {
      "text/plain": [
       "{'matrix': <AxesSubplot:>,\n",
       " 'shading': <AxesSubplot:>,\n",
       " 'totals': <AxesSubplot:>,\n",
       " 'intersections': <AxesSubplot:ylabel='Intersection size'>}"
      ]
     },
     "execution_count": 335,
     "metadata": {},
     "output_type": "execute_result"
    },
    {
     "data": {
      "image/png": "[encoded data removed]",
      "text/plain": [
       "<Figure size 432x360 with 4 Axes>"
      ]
     },
     "metadata": {
      "needs_background": "light"
     },
     "output_type": "display_data"
    }
   ],
   "source": [
    "fig = plt.figure(figsize=(6, 5))\n",
    "upset = UpSet(counts.iloc[2:],\n",
    "           # fig=fig, \n",
    "              element_size=None,\n",
    "           totals_plot_elements=1,\n",
    "           intersection_plot_elements=7,\n",
    "           facecolor=\"#4e1a8a\",\n",
    "           show_counts=True,\n",
    "           # show_percentages=\"%0.1f%%\",\n",
    "           min_subset_size=300, \n",
    "           max_subset_size=10000,\n",
    "           # sort_categories_by=None\n",
    "          )\n",
    "# upset = UpSet(df,\n",
    "#               intersection_plot_elements=0)  # disable the default bar chart\n",
    "upset.add_stacked_bars(by=\"Sex\", colors=cm.Pastel1,\n",
    "                       title=\"Count by gender\", elements=10)\n",
    "upset.plot(fig=fig)"
   ]
  },
  {
   "cell_type": "code",
   "execution_count": 346,
   "id": "787ab5eb-ee24-41fa-9a25-5965a3fd023e",
   "metadata": {},
   "outputs": [
    {
     "data": {
      "text/html": [
       "<div>\n",
       "<style scoped>\n",
       "    .dataframe tbody tr th:only-of-type {\n",
       "        vertical-align: middle;\n",
       "    }\n",
       "\n",
       "    .dataframe tbody tr th {\n",
       "        vertical-align: top;\n",
       "    }\n",
       "\n",
       "    .dataframe thead th {\n",
       "        text-align: right;\n",
       "    }\n",
       "</style>\n",
       "<table border=\"1\" class=\"dataframe\">\n",
       "  <thead>\n",
       "    <tr style=\"text-align: right;\">\n",
       "      <th></th>\n",
       "      <th></th>\n",
       "      <th></th>\n",
       "      <th></th>\n",
       "      <th></th>\n",
       "      <th>cond_ion</th>\n",
       "    </tr>\n",
       "    <tr>\n",
       "      <th>decomp_energy</th>\n",
       "      <th>oxidation</th>\n",
       "      <th>cond_ion_frac</th>\n",
       "      <th>reduction</th>\n",
       "      <th>stability_window</th>\n",
       "      <th></th>\n",
       "    </tr>\n",
       "  </thead>\n",
       "  <tbody>\n",
       "    <tr>\n",
       "      <th rowspan=\"2\" valign=\"top\">True</th>\n",
       "      <th rowspan=\"2\" valign=\"top\">True</th>\n",
       "      <th rowspan=\"2\" valign=\"top\">False</th>\n",
       "      <th rowspan=\"2\" valign=\"top\">False</th>\n",
       "      <th>True</th>\n",
       "      <td>K</td>\n",
       "    </tr>\n",
       "    <tr>\n",
       "      <th>True</th>\n",
       "      <td>K</td>\n",
       "    </tr>\n",
       "  </tbody>\n",
       "</table>\n",
       "</div>"
      ],
      "text/plain": [
       "                                                                 cond_ion\n",
       "decomp_energy oxidation cond_ion_frac reduction stability_window         \n",
       "True          True      False         False     True                    K\n",
       "                                                True                    K"
      ]
     },
     "execution_count": 346,
     "metadata": {},
     "output_type": "execute_result"
    }
   ],
   "source": [
    "df2 = df_cutoffs[df_cutoffs['decomp_energy']]\n",
    "df2 = df2.set_index(['decomp_energy', 'oxidation', 'cond_ion_frac', 'reduction', 'stability_window'])\n",
    "df2.head(2)"
   ]
  },
  {
   "cell_type": "code",
   "execution_count": 375,
   "id": "69137c5f-9a5c-478f-b1a7-b4e99874db34",
   "metadata": {},
   "outputs": [
    {
     "data": {
      "text/plain": [
       "{'matrix': <AxesSubplot:>,\n",
       " 'shading': <AxesSubplot:>,\n",
       " 'totals': <AxesSubplot:>,\n",
       " 'extra0': <AxesSubplot:ylabel='Intersection Size'>}"
      ]
     },
     "execution_count": 375,
     "metadata": {},
     "output_type": "execute_result"
    },
    {
     "data": {
      "image/png": "[encoded data removed]",
      "text/plain": [
       "<Figure size 432x360 with 4 Axes>"
      ]
     },
     "metadata": {
      "needs_background": "light"
     },
     "output_type": "display_data"
    }
   ],
   "source": [
    "fig = plt.figure(figsize=(6, 5))\n",
    "upset = UpSet(df2,\n",
    "           # fig=fig, \n",
    "              element_size=None,\n",
    "           totals_plot_elements=1,\n",
    "           intersection_plot_elements=0,\n",
    "           # intersection_plot_elements=7,\n",
    "           # facecolor=\"#4e1a8a\",  # dark purple\n",
    "           facecolor=\"darkblue\",\n",
    "           show_counts=True,\n",
    "           # show_percentages=\"%0.1f%%\",\n",
    "           min_subset_size=300, \n",
    "           max_subset_size=10000,\n",
    "           # sort_categories_by=None\n",
    "          )\n",
    "# upset = UpSet(df,\n",
    "#               intersection_plot_elements=0)  # disable the default bar chart\n",
    "upset.add_stacked_bars(by=\"cond_ion\", colors=sns.color_palette(n_colors=5),\n",
    "                       elements=7,\n",
    "                       title=\"Intersection Size\") #elements=10)\n",
    "upset.plot(fig=fig)"
   ]
  },
  {
   "cell_type": "code",
   "execution_count": 377,
   "id": "9a31eb97-c088-447b-953d-24fdad8c2b5e",
   "metadata": {},
   "outputs": [
    {
     "data": {
      "text/plain": [
       "{'matrix': <AxesSubplot:>,\n",
       " 'shading': <AxesSubplot:>,\n",
       " 'totals': <AxesSubplot:>,\n",
       " 'extra0': <AxesSubplot:ylabel='Intersection Size'>}"
      ]
     },
     "execution_count": 377,
     "metadata": {},
     "output_type": "execute_result"
    },
    {
     "data": {
      "image/png": "[encoded data removed]",
      "text/plain": [
       "<Figure size 432x360 with 4 Axes>"
      ]
     },
     "metadata": {
      "needs_background": "light"
     },
     "output_type": "display_data"
    }
   ],
   "source": [
    "fig = plt.figure(figsize=(6, 5))\n",
    "upset = UpSet(df2,\n",
    "           # fig=fig, \n",
    "              element_size=None,\n",
    "           totals_plot_elements=1,\n",
    "           intersection_plot_elements=0,\n",
    "           # intersection_plot_elements=7,\n",
    "           # facecolor=\"#4e1a8a\",  # dark purple\n",
    "           facecolor=\"darkblue\",\n",
    "           show_counts=True,\n",
    "           # show_percentages=\"%0.1f%%\",\n",
    "           min_subset_size=300, \n",
    "           # max_subset_size=10000,\n",
    "           # sort_categories_by=None\n",
    "          )\n",
    "# upset = UpSet(df,\n",
    "#               intersection_plot_elements=0)  # disable the default bar chart\n",
    "upset.add_stacked_bars(by=\"cond_ion\", colors=sns.color_palette(n_colors=5),\n",
    "                       elements=7,\n",
    "                       title=\"Intersection Size\") #elements=10)\n",
    "upset.plot(fig=fig)"
   ]
  },
  {
   "cell_type": "code",
   "execution_count": 319,
   "id": "090bec2f-543f-49be-9105-c8e7886ecb78",
   "metadata": {},
   "outputs": [
    {
     "data": {
      "text/plain": [
       "{'matrix': <AxesSubplot:>,\n",
       " 'shading': <AxesSubplot:>,\n",
       " 'totals': <AxesSubplot:>,\n",
       " 'intersections': <AxesSubplot:ylabel='Intersection size'>}"
      ]
     },
     "execution_count": 319,
     "metadata": {},
     "output_type": "execute_result"
    },
    {
     "data": {
      "image/png": "[encoded data removed]",
      "text/plain": [
       "<Figure size 504x360 with 4 Axes>"
      ]
     },
     "metadata": {
      "needs_background": "light"
     },
     "output_type": "display_data"
    }
   ],
   "source": [
    "fig = plt.figure(figsize=(7, 5))\n",
    "plot_upset(counts.iloc[2:],\n",
    "           fig=fig, element_size=None,\n",
    "           totals_plot_elements=1,\n",
    "           intersection_plot_elements=7,\n",
    "           facecolor=\"#4e1a8a\",\n",
    "           show_counts=True,\n",
    "           # show_percentages=\"%0.1f%%\",\n",
    "           min_subset_size=300, \n",
    "           # max_subset_size=100000,\n",
    "           # sort_categories_by=None\n",
    "          )"
   ]
  },
  {
   "cell_type": "code",
   "execution_count": 297,
   "id": "c4e89a5c-0ce3-4c63-a769-14bf169a7983",
   "metadata": {},
   "outputs": [
    {
     "name": "stdout",
     "output_type": "stream",
     "text": [
      "cond_ion_frac 1683\n",
      "oxidation 64949\n",
      "reduction 13169\n",
      "stability_window 41091\n"
     ]
    }
   ],
   "source": [
    "for col in ['cond_ion_frac', 'oxidation', 'reduction', 'stability_window']:\n",
    "    print(col, len(df_cutoffs[(df_cutoffs[col]) & (df_cutoffs.decomp_energy)]))"
   ]
  },
  {
   "cell_type": "code",
   "execution_count": 293,
   "id": "c2ee5902-1184-4f5c-8d89-dbd92341681b",
   "metadata": {},
   "outputs": [
    {
     "data": {
      "text/plain": [
       "66637"
      ]
     },
     "execution_count": 293,
     "metadata": {},
     "output_type": "execute_result"
    }
   ],
   "source": [
    "counts.iloc[2:].sum()"
   ]
  },
  {
   "cell_type": "markdown",
   "id": "bae031a1-d02e-4114-b8ee-8298e53f49ab",
   "metadata": {},
   "source": [
    "### Examine the element types among the high-reward structures"
   ]
  },
  {
   "cell_type": "code",
   "execution_count": null,
   "id": "144ce5be-bc69-4492-ad4e-e2ae61084ad1",
   "metadata": {},
   "outputs": [],
   "source": [
    "from pymatgen.core import Composition"
   ]
  },
  {
   "cell_type": "code",
   "execution_count": 425,
   "id": "223172a3-eef9-4723-a5c8-68dbe5e49dc8",
   "metadata": {},
   "outputs": [
    {
     "data": {
      "text/html": [
       "<div>\n",
       "<style scoped>\n",
       "    .dataframe tbody tr th:only-of-type {\n",
       "        vertical-align: middle;\n",
       "    }\n",
       "\n",
       "    .dataframe tbody tr th {\n",
       "        vertical-align: top;\n",
       "    }\n",
       "\n",
       "    .dataframe thead th {\n",
       "        text-align: right;\n",
       "    }\n",
       "</style>\n",
       "<table border=\"1\" class=\"dataframe\">\n",
       "  <thead>\n",
       "    <tr style=\"text-align: right;\">\n",
       "      <th></th>\n",
       "      <th>id</th>\n",
       "      <th>comp</th>\n",
       "      <th>Halides</th>\n",
       "      <th>Oxides</th>\n",
       "      <th>Chalcogenides</th>\n",
       "      <th>Tetrels</th>\n",
       "      <th>Pnictogens</th>\n",
       "      <th>Sc, Y</th>\n",
       "      <th>Ti, Zr, Hf</th>\n",
       "      <th>Zn, Cd, Hg</th>\n",
       "      <th>B, Al</th>\n",
       "    </tr>\n",
       "  </thead>\n",
       "  <tbody>\n",
       "    <tr>\n",
       "      <th>394</th>\n",
       "      <td>K1Hf1Cl1Br4_icsd_097456_6</td>\n",
       "      <td>K1Hf1Cl1Br4</td>\n",
       "      <td>True</td>\n",
       "      <td>False</td>\n",
       "      <td>False</td>\n",
       "      <td>False</td>\n",
       "      <td>False</td>\n",
       "      <td>False</td>\n",
       "      <td>True</td>\n",
       "      <td>False</td>\n",
       "      <td>False</td>\n",
       "    </tr>\n",
       "    <tr>\n",
       "      <th>418</th>\n",
       "      <td>K2Sc1Br4I1_icsd_092429_1</td>\n",
       "      <td>K2Sc1Br4I1</td>\n",
       "      <td>True</td>\n",
       "      <td>False</td>\n",
       "      <td>False</td>\n",
       "      <td>False</td>\n",
       "      <td>False</td>\n",
       "      <td>True</td>\n",
       "      <td>False</td>\n",
       "      <td>False</td>\n",
       "      <td>False</td>\n",
       "    </tr>\n",
       "  </tbody>\n",
       "</table>\n",
       "</div>"
      ],
      "text/plain": [
       "                            id         comp  Halides  Oxides  Chalcogenides  \\\n",
       "394  K1Hf1Cl1Br4_icsd_097456_6  K1Hf1Cl1Br4     True   False          False   \n",
       "418   K2Sc1Br4I1_icsd_092429_1   K2Sc1Br4I1     True   False          False   \n",
       "\n",
       "     Tetrels  Pnictogens  Sc, Y  Ti, Zr, Hf  Zn, Cd, Hg  B, Al  \n",
       "394    False       False  False        True       False  False  \n",
       "418    False       False   True       False       False  False  "
      ]
     },
     "execution_count": 425,
     "metadata": {},
     "output_type": "execute_result"
    }
   ],
   "source": [
    "col = 'decomp_energy'\n",
    "df_ele_types = df_merged[df_merged.decomp_energy <= -.1][['id', 'comp']]\n",
    "ele_groups = {\n",
    "    # F, Cl, Br, I\n",
    "    'Halides': [9, 17, 35, 53],\n",
    "    'Oxides': [8],\n",
    "    # S, Se, Te\n",
    "    'Chalcogenides': [16, 34, 52, 84],\n",
    "    # C, Si, Ge, Sn, Pb\n",
    "    'Tetrels': [6, 14, 32, 50, 82],\n",
    "    # N, P, As, Sb, Bi\n",
    "    'Pnictogens': [7, 15, 33, 51, 83],\n",
    "    # La?\n",
    "    'Sc, Y': [21, 39],\n",
    "    'Ti, Zr, Hf': [22, 40, 72],\n",
    "    'Zn, Cd, Hg': [30, 48, 80],\n",
    "    'B, Al': [5, 13],\n",
    "    # W (tungsten)\n",
    "    # 'W': [74],\n",
    "}\n",
    "\n",
    "def has_ele_type(comp, group=None):\n",
    "    comp = Composition(comp)\n",
    "    return any(e.Z in ele_groups[group] for e in comp.elements)\n",
    "\n",
    "\n",
    "for group in ele_groups:\n",
    "    df_ele_types[group] = df_ele_types.comp.apply(has_ele_type, group=group)\n",
    "    \n",
    "df_ele_types.head(2)"
   ]
  },
  {
   "cell_type": "code",
   "execution_count": 426,
   "id": "3af526c9-8c1c-44ed-a728-ff237f3138f4",
   "metadata": {},
   "outputs": [
    {
     "data": {
      "text/plain": [
       "Halides  Oxides  Chalcogenides  Tetrels  Pnictogens  Sc, Y  Ti, Zr, Hf  Zn, Cd, Hg  B, Al\n",
       "True     False   False          False    False       True   False       False       False    33191\n",
       "                                                                        True        False     8705\n",
       "                                                     False  True        False       False     7025\n",
       "                                                            False       False       True      6577\n",
       "                                                     True   False       False       True      2678\n",
       "                                                                                             ...  \n",
       "False    False   True           True     False       False  True        False       False        1\n",
       "         True    False          False    True        False  True        False       False        1\n",
       "True     True    False          False    False       False  True        True        False        1\n",
       "False    False   False          False    True        False  True        True        False        1\n",
       "         True    False          True     True        False  False       False       False        1\n",
       "Length: 74, dtype: int64"
      ]
     },
     "execution_count": 426,
     "metadata": {},
     "output_type": "execute_result"
    }
   ],
   "source": [
    "counts = df_ele_types.drop(columns=['id', 'comp']).value_counts()\n",
    "counts"
   ]
  },
  {
   "cell_type": "code",
   "execution_count": 427,
   "id": "511b6380-a233-4bda-95a2-a3653f1c8f9d",
   "metadata": {},
   "outputs": [
    {
     "data": {
      "image/png": "[encoded data removed]",
      "text/plain": [
       "<Figure size 704x480 with 4 Axes>"
      ]
     },
     "metadata": {
      "needs_background": "light"
     },
     "output_type": "display_data"
    }
   ],
   "source": [
    "fig = plt.figure(figsize=(7, 5))\n",
    "upset = UpSet(counts,\n",
    "           # fig=fig, \n",
    "              # element_size=None,\n",
    "               # totals_plot_elements=1,\n",
    "               # intersection_plot_elements=7,\n",
    "               # facecolor=\"#4e1a8a\",  # dark purple\n",
    "               facecolor=\"darkblue\",\n",
    "               # show_counts=True,\n",
    "               show_percentages=\"%0.1f\",\n",
    "               min_subset_size=200, \n",
    "              sort_by=\"cardinality\",\n",
    "              \n",
    "           # max_subset_size=10000,\n",
    "           # sort_categories_by=None\n",
    "          )\n",
    "# upset.add_stacked_bars(by=\"cond_ion\", colors=sns.color_palette(n_colors=5),\n",
    "#                        elements=7,\n",
    "#                        title=\"Intersection size\")\n",
    "upset.plot(fig=fig)\n",
    "plt.yscale('log')"
   ]
  },
  {
   "cell_type": "code",
   "execution_count": 420,
   "id": "6944be4d-a69e-47a8-a77d-c3e9adc4afcf",
   "metadata": {},
   "outputs": [
    {
     "data": {
      "text/plain": [
       "<module 'upsetplot.plotting' from '/home/jlaw/.conda-envs/crystals_nfp0_3/lib/python3.8/site-packages/upsetplot/plotting.py'>"
      ]
     },
     "execution_count": 420,
     "metadata": {},
     "output_type": "execute_result"
    }
   ],
   "source": [
    "from importlib import reload\n",
    "import upsetplot\n",
    "reload(upsetplot)\n",
    "from upsetplot import plotting\n",
    "reload(plotting)"
   ]
  },
  {
   "cell_type": "code",
   "execution_count": 436,
   "id": "ffe2e476-c355-414e-bc7e-3cb2308b7557",
   "metadata": {},
   "outputs": [
    {
     "name": "stdout",
     "output_type": "stream",
     "text": [
      "/projects/rlmolecule/jlaw/crystal_outputs/2022-07-05/viz/ele_types_upset_plot.svg\n"
     ]
    },
    {
     "data": {
      "image/png": "[encoded data removed]",
      "text/plain": [
       "<Figure size 576x576 with 4 Axes>"
      ]
     },
     "metadata": {
      "needs_background": "light"
     },
     "output_type": "display_data"
    }
   ],
   "source": [
    "fig = plt.figure(figsize=(8, 8))\n",
    "upset = upsetplot.UpSet(counts,\n",
    "           # fig=fig, \n",
    "              element_size=None,\n",
    "               # totals_plot_elements=1,\n",
    "               intersection_plot_elements=8,\n",
    "               # facecolor=\"#4e1a8a\",  # dark purple\n",
    "               facecolor=\"darkblue\",\n",
    "               # show_counts=True,\n",
    "               show_percentages=\"%0.1f%%\",\n",
    "               min_subset_size=300, \n",
    "              sort_by=\"cardinality\",\n",
    "              sort_categories_by=\"cardinality_r\",\n",
    "              \n",
    "           # max_subset_size=10000,\n",
    "           # sort_categories_by=None\n",
    "          )\n",
    "# upset.add_stacked_bars(by=\"cond_ion\", colors=sns.color_palette(n_colors=5),\n",
    "#                        elements=7,\n",
    "#                        title=\"Intersection size\")\n",
    "upset.plot(fig=fig)\n",
    "plt.yscale('log')\n",
    "out_file = \"/projects/rlmolecule/jlaw/crystal_outputs/2022-07-05/viz/ele_types_upset_plot.svg\"\n",
    "print(out_file)\n",
    "plt.savefig(out_file, bbox_inches='tight')\n",
    "plt.savefig(out_file.replace('.svg', '.png'), bbox_inches='tight')"
   ]
  },
  {
   "cell_type": "code",
   "execution_count": 438,
   "id": "9c3602c9-fc0d-4172-b093-9b72cff8ae44",
   "metadata": {},
   "outputs": [
    {
     "data": {
      "text/html": [
       "<div>\n",
       "<style scoped>\n",
       "    .dataframe tbody tr th:only-of-type {\n",
       "        vertical-align: middle;\n",
       "    }\n",
       "\n",
       "    .dataframe tbody tr th {\n",
       "        vertical-align: top;\n",
       "    }\n",
       "\n",
       "    .dataframe thead th {\n",
       "        text-align: right;\n",
       "    }\n",
       "</style>\n",
       "<table border=\"1\" class=\"dataframe\">\n",
       "  <thead>\n",
       "    <tr style=\"text-align: right;\">\n",
       "      <th></th>\n",
       "      <th>id</th>\n",
       "      <th>comp</th>\n",
       "      <th>Halides</th>\n",
       "      <th>Oxides</th>\n",
       "      <th>Chalcogenides</th>\n",
       "      <th>Tetrels</th>\n",
       "      <th>Pnictogens</th>\n",
       "      <th>Sc, Y</th>\n",
       "      <th>Ti, Zr, Hf</th>\n",
       "      <th>Zn, Cd, Hg</th>\n",
       "      <th>B, Al</th>\n",
       "      <th>cond_ion</th>\n",
       "    </tr>\n",
       "  </thead>\n",
       "  <tbody>\n",
       "    <tr>\n",
       "      <th>394</th>\n",
       "      <td>K1Hf1Cl1Br4_icsd_097456_6</td>\n",
       "      <td>K1Hf1Cl1Br4</td>\n",
       "      <td>True</td>\n",
       "      <td>False</td>\n",
       "      <td>False</td>\n",
       "      <td>False</td>\n",
       "      <td>False</td>\n",
       "      <td>False</td>\n",
       "      <td>True</td>\n",
       "      <td>False</td>\n",
       "      <td>False</td>\n",
       "      <td>K</td>\n",
       "    </tr>\n",
       "    <tr>\n",
       "      <th>418</th>\n",
       "      <td>K2Sc1Br4I1_icsd_092429_1</td>\n",
       "      <td>K2Sc1Br4I1</td>\n",
       "      <td>True</td>\n",
       "      <td>False</td>\n",
       "      <td>False</td>\n",
       "      <td>False</td>\n",
       "      <td>False</td>\n",
       "      <td>True</td>\n",
       "      <td>False</td>\n",
       "      <td>False</td>\n",
       "      <td>False</td>\n",
       "      <td>K</td>\n",
       "    </tr>\n",
       "  </tbody>\n",
       "</table>\n",
       "</div>"
      ],
      "text/plain": [
       "                            id         comp  Halides  Oxides  Chalcogenides  \\\n",
       "394  K1Hf1Cl1Br4_icsd_097456_6  K1Hf1Cl1Br4     True   False          False   \n",
       "418   K2Sc1Br4I1_icsd_092429_1   K2Sc1Br4I1     True   False          False   \n",
       "\n",
       "     Tetrels  Pnictogens  Sc, Y  Ti, Zr, Hf  Zn, Cd, Hg  B, Al cond_ion  \n",
       "394    False       False  False        True       False  False        K  \n",
       "418    False       False   True       False       False  False        K  "
      ]
     },
     "execution_count": 438,
     "metadata": {},
     "output_type": "execute_result"
    }
   ],
   "source": [
    "# add the conducting ion\n",
    "# for cond_ion in ['Li', 'K', 'Na']:\n",
    "    # df_cutoffs[cond_ion] = df_cutoffs.comp.progress_apply(lambda x: cond_ion in x)\n",
    "def get_cond_ion(comp):\n",
    "    for cond_ion in ['Li', 'K', 'Na']:\n",
    "        if cond_ion in comp:\n",
    "            return cond_ion\n",
    "        \n",
    "df_ele_types['cond_ion'] = df_ele_types.comp.apply(get_cond_ion)\n",
    "df_ele_types.head(2)"
   ]
  },
  {
   "cell_type": "code",
   "execution_count": 441,
   "id": "baf53ba2-2eec-4cd8-8d47-731e060f6e5a",
   "metadata": {},
   "outputs": [],
   "source": [
    "df_ele_types = df_ele_types.drop(columns=['id', 'comp']).set_index(['Halides', 'Oxides', 'Chalcogenides', 'Tetrels', 'Pnictogens', 'Sc, Y', 'Ti, Zr, Hf', 'Zn, Cd, Hg', 'B, Al'])"
   ]
  },
  {
   "cell_type": "code",
   "execution_count": 444,
   "id": "ebc97e15-d98c-4b1e-a42f-bd93ac834795",
   "metadata": {},
   "outputs": [
    {
     "data": {
      "image/png": "[encoded data removed]",
      "text/plain": [
       "<Figure size 576x576 with 4 Axes>"
      ]
     },
     "metadata": {
      "needs_background": "light"
     },
     "output_type": "display_data"
    }
   ],
   "source": [
    "fig = plt.figure(figsize=(8, 8))\n",
    "upset = upsetplot.UpSet(df_ele_types,\n",
    "           # fig=fig, \n",
    "              element_size=None,\n",
    "               # totals_plot_elements=1,\n",
    "               intersection_plot_elements=0,\n",
    "               # facecolor=\"#4e1a8a\",  # dark purple\n",
    "               facecolor=\"darkblue\",\n",
    "               # show_counts=True,\n",
    "               show_percentages=\"%0.1f%%\",\n",
    "               min_subset_size=300, \n",
    "              sort_by=\"cardinality\",\n",
    "              sort_categories_by=\"cardinality_r\",\n",
    "              \n",
    "           # max_subset_size=10000,\n",
    "           # sort_categories_by=None\n",
    "          )\n",
    "upset.add_stacked_bars(by=\"cond_ion\", colors=sns.color_palette(n_colors=5),\n",
    "                       elements=8,\n",
    "                       title=\"Intersection size\")\n",
    "upset.plot(fig=fig)\n",
    "# plt.yscale('log')\n",
    "out_file = \"/projects/rlmolecule/jlaw/crystal_outputs/2022-07-05/viz/ele_types_upset_plot.svg\"\n",
    "# print(out_file)\n",
    "# plt.savefig(out_file, bbox_inches='tight')\n",
    "# plt.savefig(out_file.replace('.svg', '.png'), bbox_inches='tight')"
   ]
  },
  {
   "cell_type": "code",
   "execution_count": 394,
   "id": "cf11f024-ee0a-4b11-8f2f-c6ded13fd300",
   "metadata": {},
   "outputs": [
    {
     "data": {
      "text/plain": [
       "{'matrix': <AxesSubplot:>,\n",
       " 'shading': <AxesSubplot:>,\n",
       " 'totals': <AxesSubplot:>,\n",
       " 'extra0': <AxesSubplot:ylabel='Intersection size'>}"
      ]
     },
     "execution_count": 394,
     "metadata": {},
     "output_type": "execute_result"
    },
    {
     "data": {
      "image/png": "[encoded data removed]",
      "text/plain": [
       "<Figure size 504x360 with 4 Axes>"
      ]
     },
     "metadata": {
      "needs_background": "light"
     },
     "output_type": "display_data"
    }
   ],
   "source": [
    "fig = plt.figure(figsize=(7, 5))\n",
    "upset = UpSet(df_ele_types,\n",
    "           # fig=fig, \n",
    "              element_size=None,\n",
    "           totals_plot_elements=1,\n",
    "           intersection_plot_elements=0,\n",
    "           # facecolor=\"#4e1a8a\",  # dark purple\n",
    "           facecolor=\"darkblue\",\n",
    "           # show_counts=True,\n",
    "           # show_percentages=\"%0.1f%%\",\n",
    "           min_subset_size=300, \n",
    "           # max_subset_size=10000,\n",
    "           # sort_categories_by=None\n",
    "          )\n",
    "upset.add_stacked_bars(by=\"cond_ion\", colors=sns.color_palette(n_colors=5),\n",
    "                       elements=7,\n",
    "                       title=\"Intersection size\")\n",
    "upset.plot(fig=fig)\n",
    "# plt.yscale('log')"
   ]
  },
  {
   "cell_type": "code",
   "execution_count": 395,
   "id": "f0405592-c57b-405b-a1be-d02c78cef070",
   "metadata": {},
   "outputs": [
    {
     "data": {
      "text/plain": [
       "{'matrix': <AxesSubplot:>,\n",
       " 'shading': <AxesSubplot:>,\n",
       " 'totals': <AxesSubplot:>,\n",
       " 'extra0': <AxesSubplot:ylabel='Intersection size'>}"
      ]
     },
     "execution_count": 395,
     "metadata": {},
     "output_type": "execute_result"
    },
    {
     "data": {
      "image/png": "[encoded data removed]",
      "text/plain": [
       "<Figure size 504x360 with 4 Axes>"
      ]
     },
     "metadata": {
      "needs_background": "light"
     },
     "output_type": "display_data"
    }
   ],
   "source": [
    "fig = plt.figure(figsize=(7, 5))\n",
    "upset = UpSet(df_ele_types,\n",
    "           # fig=fig, \n",
    "              element_size=None,\n",
    "           totals_plot_elements=1,\n",
    "           intersection_plot_elements=0,\n",
    "           # facecolor=\"#4e1a8a\",  # dark purple\n",
    "           facecolor=\"darkblue\",\n",
    "           # show_counts=True,\n",
    "           # show_percentages=\"%0.1f%%\",\n",
    "           min_subset_size=300, \n",
    "           max_subset_size=10000,\n",
    "           # sort_categories_by=None\n",
    "          )\n",
    "upset.add_stacked_bars(by=\"cond_ion\", colors=sns.color_palette(n_colors=5),\n",
    "                       elements=7,\n",
    "                       title=\"Intersection size\")\n",
    "upset.plot(fig=fig)\n",
    "# plt.yscale('log')"
   ]
  },
  {
   "cell_type": "markdown",
   "id": "3878bf1f-ea23-444c-92c3-98499ee44451",
   "metadata": {},
   "source": [
    "### Extract the high-reward structures"
   ]
  },
  {
   "cell_type": "code",
   "execution_count": 48,
   "id": "4b2da407-43ac-4e89-9f4f-fb7d03dd269d",
   "metadata": {},
   "outputs": [
    {
     "name": "stdout",
     "output_type": "stream",
     "text": [
      "66571 14277451 0.004662667026488132\n"
     ]
    }
   ],
   "source": [
    "df_top = df_merged[df_merged.reward > 0.6]\n",
    "print(len(df_top), len(df_merged), len(df_top) / len(df_merged))"
   ]
  },
  {
   "cell_type": "code",
   "execution_count": 124,
   "id": "f2d2fbd6-0bd2-45a9-ba1b-12df21146fb3",
   "metadata": {},
   "outputs": [
    {
     "data": {
      "text/html": [
       "<div>\n",
       "<style scoped>\n",
       "    .dataframe tbody tr th:only-of-type {\n",
       "        vertical-align: middle;\n",
       "    }\n",
       "\n",
       "    .dataframe tbody tr th {\n",
       "        vertical-align: top;\n",
       "    }\n",
       "\n",
       "    .dataframe thead th {\n",
       "        text-align: right;\n",
       "    }\n",
       "</style>\n",
       "<table border=\"1\" class=\"dataframe\">\n",
       "  <thead>\n",
       "    <tr style=\"text-align: right;\">\n",
       "      <th></th>\n",
       "      <th>id</th>\n",
       "    </tr>\n",
       "    <tr>\n",
       "      <th>comp</th>\n",
       "      <th></th>\n",
       "    </tr>\n",
       "  </thead>\n",
       "  <tbody>\n",
       "    <tr>\n",
       "      <th>Li4Y1Br7</th>\n",
       "      <td>Li4Y1Br7_icsd_001322_1</td>\n",
       "    </tr>\n",
       "  </tbody>\n",
       "</table>\n",
       "</div>"
      ],
      "text/plain": [
       "                              id\n",
       "comp                            \n",
       "Li4Y1Br7  Li4Y1Br7_icsd_001322_1"
      ]
     },
     "execution_count": 124,
     "metadata": {},
     "output_type": "execute_result"
    }
   ],
   "source": []
  },
  {
   "cell_type": "code",
   "execution_count": 132,
   "id": "0db2c011-5578-440b-ad17-eefcf63da577",
   "metadata": {},
   "outputs": [],
   "source": [
    "# rather than use the reward directly,\n",
    "# keep the structure with the lowest predicted total energy\n",
    "# df_comp = df_top.sort_values('reward', ascending=False).groupby('comp').agg({'id': 'first'})\n",
    "df_comp = df_top.sort_values('predicted_energy').groupby('comp').agg({'id': 'first'})"
   ]
  },
  {
   "cell_type": "code",
   "execution_count": 127,
   "id": "e52685ef-5c00-4634-b223-ccd9053a413c",
   "metadata": {},
   "outputs": [
    {
     "name": "stdout",
     "output_type": "stream",
     "text": [
      "2003 220824 0.009070572039271094\n"
     ]
    }
   ],
   "source": [
    "num_comps = df_merged.comp.nunique()\n",
    "print(len(df_comp), num_comps, len(df_comp) / num_comps)"
   ]
  },
  {
   "cell_type": "code",
   "execution_count": 133,
   "id": "02cc0e0d-1f91-44c7-946b-a1daf0637687",
   "metadata": {},
   "outputs": [
    {
     "data": {
      "text/plain": [
       "2003"
      ]
     },
     "execution_count": 133,
     "metadata": {},
     "output_type": "execute_result"
    }
   ],
   "source": [
    "df_best = df_top[df_top.id.isin(df_comp.id)]\n",
    "len(df_best)"
   ]
  },
  {
   "cell_type": "code",
   "execution_count": 129,
   "id": "6c297d56-e641-4e2e-b756-f0a5edb35257",
   "metadata": {},
   "outputs": [
    {
     "data": {
      "text/html": [
       "<div>\n",
       "<style scoped>\n",
       "    .dataframe tbody tr th:only-of-type {\n",
       "        vertical-align: middle;\n",
       "    }\n",
       "\n",
       "    .dataframe tbody tr th {\n",
       "        vertical-align: top;\n",
       "    }\n",
       "\n",
       "    .dataframe thead th {\n",
       "        text-align: right;\n",
       "    }\n",
       "</style>\n",
       "<table border=\"1\" class=\"dataframe\">\n",
       "  <thead>\n",
       "    <tr style=\"text-align: right;\">\n",
       "      <th></th>\n",
       "      <th>id</th>\n",
       "      <th>comp</th>\n",
       "      <th>reward</th>\n",
       "      <th>predicted_energy</th>\n",
       "      <th>decomp_energy</th>\n",
       "      <th>cond_ion_frac</th>\n",
       "      <th>reduction</th>\n",
       "      <th>oxidation</th>\n",
       "      <th>stability_window</th>\n",
       "    </tr>\n",
       "  </thead>\n",
       "  <tbody>\n",
       "    <tr>\n",
       "      <th>13938</th>\n",
       "      <td>Na2Hf1F1Br5_icsd_043729_1</td>\n",
       "      <td>Na2Hf1F1Br5</td>\n",
       "      <td>0.744</td>\n",
       "      <td>-3.937</td>\n",
       "      <td>-0.482</td>\n",
       "      <td>0.222</td>\n",
       "      <td>-2.108</td>\n",
       "      <td>-5.0</td>\n",
       "      <td>2.892</td>\n",
       "    </tr>\n",
       "    <tr>\n",
       "      <th>19013</th>\n",
       "      <td>Li1Sc2Hg1Br7S1_icsd_166998_4</td>\n",
       "      <td>Li1Sc2Hg1Br7S1</td>\n",
       "      <td>0.702</td>\n",
       "      <td>-3.252</td>\n",
       "      <td>-0.339</td>\n",
       "      <td>0.083</td>\n",
       "      <td>-2.531</td>\n",
       "      <td>-5.0</td>\n",
       "      <td>2.469</td>\n",
       "    </tr>\n",
       "  </tbody>\n",
       "</table>\n",
       "</div>"
      ],
      "text/plain": [
       "                                 id            comp  reward  predicted_energy  \\\n",
       "13938     Na2Hf1F1Br5_icsd_043729_1     Na2Hf1F1Br5   0.744            -3.937   \n",
       "19013  Li1Sc2Hg1Br7S1_icsd_166998_4  Li1Sc2Hg1Br7S1   0.702            -3.252   \n",
       "\n",
       "       decomp_energy  cond_ion_frac  reduction  oxidation  stability_window  \n",
       "13938         -0.482          0.222     -2.108       -5.0             2.892  \n",
       "19013         -0.339          0.083     -2.531       -5.0             2.469  "
      ]
     },
     "execution_count": 129,
     "metadata": {},
     "output_type": "execute_result"
    }
   ],
   "source": [
    "df_best.head(2)"
   ]
  },
  {
   "cell_type": "code",
   "execution_count": 130,
   "id": "2fc7b19c-504d-4d64-822a-403434ec4d88",
   "metadata": {},
   "outputs": [
    {
     "data": {
      "text/html": [
       "<div>\n",
       "<style scoped>\n",
       "    .dataframe tbody tr th:only-of-type {\n",
       "        vertical-align: middle;\n",
       "    }\n",
       "\n",
       "    .dataframe tbody tr th {\n",
       "        vertical-align: top;\n",
       "    }\n",
       "\n",
       "    .dataframe thead th {\n",
       "        text-align: right;\n",
       "    }\n",
       "</style>\n",
       "<table border=\"1\" class=\"dataframe\">\n",
       "  <thead>\n",
       "    <tr style=\"text-align: right;\">\n",
       "      <th></th>\n",
       "      <th>id</th>\n",
       "      <th>comp</th>\n",
       "      <th>reward</th>\n",
       "      <th>predicted_energy</th>\n",
       "      <th>decomp_energy</th>\n",
       "      <th>cond_ion_frac</th>\n",
       "      <th>reduction</th>\n",
       "      <th>oxidation</th>\n",
       "      <th>stability_window</th>\n",
       "    </tr>\n",
       "  </thead>\n",
       "  <tbody>\n",
       "    <tr>\n",
       "      <th>769706</th>\n",
       "      <td>Li3Y1Br6_icsd_053533_1</td>\n",
       "      <td>Li3Y1Br6</td>\n",
       "      <td>1.135173</td>\n",
       "      <td>-3.798492</td>\n",
       "      <td>-0.8512</td>\n",
       "      <td>0.3000</td>\n",
       "      <td>-0.6734</td>\n",
       "      <td>-5.0</td>\n",
       "      <td>4.3266</td>\n",
       "    </tr>\n",
       "    <tr>\n",
       "      <th>7954</th>\n",
       "      <td>Li4Y1Br7_icsd_001322_1</td>\n",
       "      <td>Li4Y1Br7</td>\n",
       "      <td>1.132112</td>\n",
       "      <td>-3.735198</td>\n",
       "      <td>-0.7266</td>\n",
       "      <td>0.3333</td>\n",
       "      <td>-0.6045</td>\n",
       "      <td>-5.0</td>\n",
       "      <td>4.3955</td>\n",
       "    </tr>\n",
       "  </tbody>\n",
       "</table>\n",
       "</div>"
      ],
      "text/plain": [
       "                            id      comp    reward  predicted_energy  \\\n",
       "769706  Li3Y1Br6_icsd_053533_1  Li3Y1Br6  1.135173         -3.798492   \n",
       "7954    Li4Y1Br7_icsd_001322_1  Li4Y1Br7  1.132112         -3.735198   \n",
       "\n",
       "        decomp_energy  cond_ion_frac  reduction  oxidation  stability_window  \n",
       "769706        -0.8512         0.3000    -0.6734       -5.0            4.3266  \n",
       "7954          -0.7266         0.3333    -0.6045       -5.0            4.3955  "
      ]
     },
     "execution_count": 130,
     "metadata": {},
     "output_type": "execute_result"
    }
   ],
   "source": [
    "df_best = df_best.sort_values('reward', ascending=False)\n",
    "df_best.head(2)"
   ]
  },
  {
   "cell_type": "code",
   "execution_count": 135,
   "id": "4d389272-df78-492c-8971-65b99d7c8671",
   "metadata": {},
   "outputs": [],
   "source": [
    "out_dir = \"/projects/rlmolecule/jlaw/crystal_outputs/2022-07-05\"\n",
    "out_file = f\"{out_dir}/best_decor_rewards.csv.gz\"\n",
    "df_best.to_csv(out_file, index=False)"
   ]
  },
  {
   "cell_type": "markdown",
   "id": "c4b1b557-12bd-40b4-9ab2-e95a8d6d921b",
   "metadata": {},
   "source": [
    "## Now write the best structures to file"
   ]
  },
  {
   "cell_type": "code",
   "execution_count": 136,
   "id": "32ef8271-6913-440a-8168-f39df07094dc",
   "metadata": {},
   "outputs": [],
   "source": [
    "import gzip, json\n",
    "from pymatgen.core import Structure\n",
    "def read_structures_file(structures_file):\n",
    "    print(f\"reading {structures_file}\")\n",
    "    with gzip.open(structures_file, 'r') as f:\n",
    "        structures_dict = json.loads(f.read().decode())\n",
    "    structures = {}\n",
    "    for key, structure_dict in structures_dict.items():\n",
    "        structures[key] = Structure.from_dict(structure_dict)\n",
    "    print(f\"\\t{len(structures)} structures read\")\n",
    "    return structures"
   ]
  },
  {
   "cell_type": "code",
   "execution_count": 76,
   "id": "2e21db05-7805-421a-8889-6735dadd8052",
   "metadata": {},
   "outputs": [
    {
     "name": "stdout",
     "output_type": "stream",
     "text": [
      "reading ../../rlmolecule/crystal/inputs/icsd_train_and_proto_max_comp_atoms15/KLiNa_add_clust0_01_min10prototypes.json.gz\n",
      "\t14494 structures read\n"
     ]
    }
   ],
   "source": [
    "# load the icsd prototype structures\n",
    "from pymatgen.transformations.standard_transformations import OxidationStateRemovalTransformation\n",
    "oxidation_remover = OxidationStateRemovalTransformation()\n",
    "icsd_prototypes_file = \"../../rlmolecule/crystal/inputs/icsd_train_and_proto_max_comp_atoms15/KLiNa_add_clust0_01_min10prototypes.json.gz\"\n",
    "proto_structures = read_structures_file(icsd_prototypes_file)\n",
    "proto_structures = {s_id: oxidation_remover.apply_transformation(s)\n",
    "                    for s_id, s in proto_structures.items()}"
   ]
  },
  {
   "cell_type": "code",
   "execution_count": 60,
   "id": "90bf8906-f02c-4d17-9153-c86181d621f2",
   "metadata": {},
   "outputs": [],
   "source": [
    "def decorate_structure(decorated_str, prototypes=None, vol_pred_site_bias=None):\n",
    "    # Now create the decoration of this composition onto this prototype structure\n",
    "    # the 'action_node' string has the following format at this point:\n",
    "    # comp_type|prototype_structure|decoration_idx\n",
    "    # we just need 'comp_type|prototype_structure' to get the icsd structure\n",
    "    composition = decorated_str.split('|')[0]\n",
    "    structure_key = '|'.join(decorated_str.split('|')[1:-1])\n",
    "    icsd_prototype = prototypes[structure_key]\n",
    "    decoration_idx = int(decorated_str.split('|')[-1]) - 1\n",
    "    # print(decorated_str, composition, structure_key)\n",
    "    try:\n",
    "        decorated_structure, comp = CrystalState.decorate_prototype_structure(\n",
    "            icsd_prototype, composition, decoration_idx=decoration_idx)\n",
    "        # also predict the volume\n",
    "        if vol_pred_site_bias is not None:\n",
    "            decorated_structure = scale_by_pred_vol(decorated_structure, \n",
    "                                                    vol_pred_site_bias,\n",
    "                                                    dls_vol_predictor,\n",
    "                                                   )\n",
    "        #decorations[descriptor] = decorated_structure.as_dict()\n",
    "    except AssertionError as e:\n",
    "        print(f\"AssertionError: {e}\")\n",
    "        return\n",
    "        #volume_stats[descriptor] = (-1, -1, 0, comp_type)\n",
    "        #return 0.0, {'terminal': True, 'state_repr': repr(state)}\n",
    "    \n",
    "    return decorated_structure"
   ]
  },
  {
   "cell_type": "code",
   "execution_count": 107,
   "id": "8d2567f8-2245-40d7-a2bd-debfb7a67830",
   "metadata": {},
   "outputs": [],
   "source": [
    "proto_to_crystal_sys = {proto_id.split('|')[-1]: proto_id.split('|')[1] \n",
    "                        for proto_id in proto_structures.keys()}"
   ]
  },
  {
   "cell_type": "code",
   "execution_count": 67,
   "id": "eed13e8a-ead1-44e9-ad1c-e41bd1fc6331",
   "metadata": {},
   "outputs": [],
   "source": [
    "import re\n",
    "def split_comp_to_eles_and_type(comp: str):\n",
    "    \"\"\"\n",
    "    Extract the elements and composition type from a given composition\n",
    "    e.g., _1_1_4 from Li1Sc1F4\n",
    "    \"\"\"\n",
    "    # this splits by the digits\n",
    "    # e.g., for \"Li1Sc1F4\": ['Li', '1', 'Sc', '1', 'F', '4', '']\n",
    "    comp = comp.replace(' ','')\n",
    "    split = np.asarray(re.split('(\\d+)', comp))\n",
    "    elements = tuple(sorted(split[range(0, len(split) - 1, 2)]))\n",
    "    stoich = split[range(1, len(split), 2)]\n",
    "    # sort the stoichiometry to get the correct order of the comp type\n",
    "    comp_type = '_' + '_'.join(map(str, sorted(map(int, stoich))))\n",
    "    return elements, comp_type"
   ]
  },
  {
   "cell_type": "code",
   "execution_count": 137,
   "id": "6d1046bd-528b-426b-a52a-ad98d9835a26",
   "metadata": {},
   "outputs": [],
   "source": [
    "df_best['comp_type'] = df_best.comp.apply(lambda x: split_comp_to_eles_and_type(x)[1])"
   ]
  },
  {
   "cell_type": "code",
   "execution_count": 138,
   "id": "6da12aed-08bc-43e8-9e82-ce8e10c1ecaa",
   "metadata": {},
   "outputs": [
    {
     "data": {
      "text/html": [
       "<div>\n",
       "<style scoped>\n",
       "    .dataframe tbody tr th:only-of-type {\n",
       "        vertical-align: middle;\n",
       "    }\n",
       "\n",
       "    .dataframe tbody tr th {\n",
       "        vertical-align: top;\n",
       "    }\n",
       "\n",
       "    .dataframe thead th {\n",
       "        text-align: right;\n",
       "    }\n",
       "</style>\n",
       "<table border=\"1\" class=\"dataframe\">\n",
       "  <thead>\n",
       "    <tr style=\"text-align: right;\">\n",
       "      <th></th>\n",
       "      <th>id</th>\n",
       "      <th>comp</th>\n",
       "      <th>reward</th>\n",
       "      <th>predicted_energy</th>\n",
       "      <th>decomp_energy</th>\n",
       "      <th>cond_ion_frac</th>\n",
       "      <th>reduction</th>\n",
       "      <th>oxidation</th>\n",
       "      <th>stability_window</th>\n",
       "      <th>comp_type</th>\n",
       "    </tr>\n",
       "  </thead>\n",
       "  <tbody>\n",
       "    <tr>\n",
       "      <th>769706</th>\n",
       "      <td>Li3Y1Br6_icsd_053533_1</td>\n",
       "      <td>Li3Y1Br6</td>\n",
       "      <td>1.135173</td>\n",
       "      <td>-3.798492</td>\n",
       "      <td>-0.8512</td>\n",
       "      <td>0.3000</td>\n",
       "      <td>-0.6734</td>\n",
       "      <td>-5.0</td>\n",
       "      <td>4.3266</td>\n",
       "      <td>_1_3_6</td>\n",
       "    </tr>\n",
       "    <tr>\n",
       "      <th>7954</th>\n",
       "      <td>Li4Y1Br7_icsd_001322_1</td>\n",
       "      <td>Li4Y1Br7</td>\n",
       "      <td>1.132112</td>\n",
       "      <td>-3.735198</td>\n",
       "      <td>-0.7266</td>\n",
       "      <td>0.3333</td>\n",
       "      <td>-0.6045</td>\n",
       "      <td>-5.0</td>\n",
       "      <td>4.3955</td>\n",
       "      <td>_1_4_7</td>\n",
       "    </tr>\n",
       "  </tbody>\n",
       "</table>\n",
       "</div>"
      ],
      "text/plain": [
       "                            id      comp    reward  predicted_energy  \\\n",
       "769706  Li3Y1Br6_icsd_053533_1  Li3Y1Br6  1.135173         -3.798492   \n",
       "7954    Li4Y1Br7_icsd_001322_1  Li4Y1Br7  1.132112         -3.735198   \n",
       "\n",
       "        decomp_energy  cond_ion_frac  reduction  oxidation  stability_window  \\\n",
       "769706        -0.8512         0.3000    -0.6734       -5.0            4.3266   \n",
       "7954          -0.7266         0.3333    -0.6045       -5.0            4.3955   \n",
       "\n",
       "       comp_type  \n",
       "769706    _1_3_6  \n",
       "7954      _1_4_7  "
      ]
     },
     "execution_count": 138,
     "metadata": {},
     "output_type": "execute_result"
    }
   ],
   "source": [
    "df_best.head(2)"
   ]
  },
  {
   "cell_type": "code",
   "execution_count": 85,
   "id": "abe24992-a702-4313-9ed1-0b72f4ff2f40",
   "metadata": {},
   "outputs": [],
   "source": [
    "def get_decor_id(strc_id):\n",
    "    strc_id = strc_id.split(\"_\")\n",
    "    comp = strc_id[0]\n",
    "    comp_type = split_comp_to_eles_and_type(comp)[1]\n",
    "    proto_id = \"_\".join(strc_id[1:-1])\n",
    "    # proto_id = \"icsd_\" + strc_id.split(\"_\")[2]\n",
    "    crystal_sys = proto_to_crystal_sys[proto_id]\n",
    "    decor = strc_id[-1]\n",
    "    decor_id = \"|\".join([comp, comp_type, crystal_sys, proto_id, decor])\n",
    "    return decor_id"
   ]
  },
  {
   "cell_type": "code",
   "execution_count": 139,
   "id": "799a1438-1a60-4aa3-a367-cc530567de1d",
   "metadata": {},
   "outputs": [
    {
     "data": {
      "text/html": [
       "<div>\n",
       "<style scoped>\n",
       "    .dataframe tbody tr th:only-of-type {\n",
       "        vertical-align: middle;\n",
       "    }\n",
       "\n",
       "    .dataframe tbody tr th {\n",
       "        vertical-align: top;\n",
       "    }\n",
       "\n",
       "    .dataframe thead th {\n",
       "        text-align: right;\n",
       "    }\n",
       "</style>\n",
       "<table border=\"1\" class=\"dataframe\">\n",
       "  <thead>\n",
       "    <tr style=\"text-align: right;\">\n",
       "      <th></th>\n",
       "      <th>id</th>\n",
       "      <th>comp</th>\n",
       "      <th>reward</th>\n",
       "      <th>predicted_energy</th>\n",
       "      <th>decomp_energy</th>\n",
       "      <th>cond_ion_frac</th>\n",
       "      <th>reduction</th>\n",
       "      <th>oxidation</th>\n",
       "      <th>stability_window</th>\n",
       "      <th>comp_type</th>\n",
       "      <th>decor_id</th>\n",
       "    </tr>\n",
       "  </thead>\n",
       "  <tbody>\n",
       "    <tr>\n",
       "      <th>769706</th>\n",
       "      <td>Li3Y1Br6_icsd_053533_1</td>\n",
       "      <td>Li3Y1Br6</td>\n",
       "      <td>1.135173</td>\n",
       "      <td>-3.798492</td>\n",
       "      <td>-0.8512</td>\n",
       "      <td>0.3000</td>\n",
       "      <td>-0.6734</td>\n",
       "      <td>-5.0</td>\n",
       "      <td>4.3266</td>\n",
       "      <td>_1_3_6</td>\n",
       "      <td>Li3Y1Br6|_1_3_6|trigonal|icsd_053533|1</td>\n",
       "    </tr>\n",
       "    <tr>\n",
       "      <th>7954</th>\n",
       "      <td>Li4Y1Br7_icsd_001322_1</td>\n",
       "      <td>Li4Y1Br7</td>\n",
       "      <td>1.132112</td>\n",
       "      <td>-3.735198</td>\n",
       "      <td>-0.7266</td>\n",
       "      <td>0.3333</td>\n",
       "      <td>-0.6045</td>\n",
       "      <td>-5.0</td>\n",
       "      <td>4.3955</td>\n",
       "      <td>_1_4_7</td>\n",
       "      <td>Li4Y1Br7|_1_4_7|cubic|icsd_001322|1</td>\n",
       "    </tr>\n",
       "  </tbody>\n",
       "</table>\n",
       "</div>"
      ],
      "text/plain": [
       "                            id      comp    reward  predicted_energy  \\\n",
       "769706  Li3Y1Br6_icsd_053533_1  Li3Y1Br6  1.135173         -3.798492   \n",
       "7954    Li4Y1Br7_icsd_001322_1  Li4Y1Br7  1.132112         -3.735198   \n",
       "\n",
       "        decomp_energy  cond_ion_frac  reduction  oxidation  stability_window  \\\n",
       "769706        -0.8512         0.3000    -0.6734       -5.0            4.3266   \n",
       "7954          -0.7266         0.3333    -0.6045       -5.0            4.3955   \n",
       "\n",
       "       comp_type                                decor_id  \n",
       "769706    _1_3_6  Li3Y1Br6|_1_3_6|trigonal|icsd_053533|1  \n",
       "7954      _1_4_7     Li4Y1Br7|_1_4_7|cubic|icsd_001322|1  "
      ]
     },
     "execution_count": 139,
     "metadata": {},
     "output_type": "execute_result"
    }
   ],
   "source": [
    "df_best['decor_id'] = df_best.id.apply(get_decor_id)\n",
    "df_best.head(2)"
   ]
  },
  {
   "cell_type": "code",
   "execution_count": 140,
   "id": "8705bac3-917f-42ce-9809-5791c170f076",
   "metadata": {},
   "outputs": [
    {
     "data": {
      "application/vnd.jupyter.widget-view+json": {
       "model_id": "73f887a7426d468287eaf7e1476e693e",
       "version_major": 2,
       "version_minor": 0
      },
      "text/plain": [
       "  0%|          | 0/2003 [00:00<?, ?it/s]"
      ]
     },
     "metadata": {},
     "output_type": "display_data"
    }
   ],
   "source": [
    "df_best['structure'] = df_best.decor_id.progress_apply(decorate_structure,\n",
    "                                                     prototypes=proto_structures,\n",
    "                                                     # vol_pred_site_bias=site_bias,\n",
    "                                                     )\n",
    "# df_all['volume'] = df_all.structure.apply(lambda x: x.volume)\n",
    "# df_all['dls_volume'] = df_all.structure.apply(lambda x: x.volume)\n",
    "df_best.to_pickle(f\"{out_dir}/best_decorations.p\")"
   ]
  },
  {
   "cell_type": "code",
   "execution_count": 89,
   "id": "55a0cd2a-696d-436d-82a5-25cab9abe8da",
   "metadata": {},
   "outputs": [],
   "source": [
    "def write_structure(row, out_dir):\n",
    "    out_file = f\"{out_dir}/best_decorations/POSCAR_{row.id}\"\n",
    "    row.structure.to(filename=out_file)"
   ]
  },
  {
   "cell_type": "code",
   "execution_count": 141,
   "id": "77a17aa4-4be2-47d4-b650-10aa4621d241",
   "metadata": {},
   "outputs": [
    {
     "data": {
      "application/vnd.jupyter.widget-view+json": {
       "model_id": "7f278b0f2b914f519ee62856d23d3136",
       "version_major": 2,
       "version_minor": 0
      },
      "text/plain": [
       "  0%|          | 0/2003 [00:00<?, ?it/s]"
      ]
     },
     "metadata": {},
     "output_type": "display_data"
    },
    {
     "data": {
      "text/plain": [
       "769706     None\n",
       "7954       None\n",
       "913341     None\n",
       "902942     None\n",
       "382639     None\n",
       "           ... \n",
       "3931257    None\n",
       "472112     None\n",
       "4616722    None\n",
       "4778209    None\n",
       "4371793    None\n",
       "Length: 2003, dtype: object"
      ]
     },
     "execution_count": 141,
     "metadata": {},
     "output_type": "execute_result"
    }
   ],
   "source": [
    "os.makedirs(f\"{out_dir}/best_decorations\", exist_ok=True)\n",
    "df_best.progress_apply(write_structure, out_dir=out_dir, axis=1)"
   ]
  },
  {
   "cell_type": "code",
   "execution_count": 144,
   "id": "e7adcce0-46e4-4824-b591-80dc43efd038",
   "metadata": {},
   "outputs": [
    {
     "name": "stderr",
     "output_type": "stream",
     "text": [
      "WARNING:matplotlib.axes._axes:*c* argument looks like a single numeric RGB or RGBA sequence, which should be avoided as value-mapping will have precedence in case its length matches with *x* & *y*.  Please use the *color* keyword-argument or provide a 2D array with a single row if you intend to specify the same RGB or RGBA value for all points.\n"
     ]
    },
    {
     "data": {
      "text/plain": [
       "<AxesSubplot:xlabel='decomp_energy', ylabel='stability_window'>"
      ]
     },
     "execution_count": 144,
     "metadata": {},
     "output_type": "execute_result"
    },
    {
     "data": {
      "image/png": "[encoded data removed]",
      "text/plain": [
       "<Figure size 432x288 with 1 Axes>"
      ]
     },
     "metadata": {
      "needs_background": "light"
     },
     "output_type": "display_data"
    }
   ],
   "source": [
    "df_top[df_top.comp == \"K3Sc1Br4I2\"].plot.scatter(x=\"decomp_energy\", y='stability_window')"
   ]
  },
  {
   "cell_type": "code",
   "execution_count": 161,
   "id": "ddaec25d-0235-4a26-8a75-33cf4e6a82a9",
   "metadata": {},
   "outputs": [
    {
     "name": "stderr",
     "output_type": "stream",
     "text": [
      "/tmp/ipykernel_28937/1586870522.py:1: SettingWithCopyWarning: \n",
      "A value is trying to be set on a copy of a slice from a DataFrame\n",
      "\n",
      "See the caveats in the documentation: https://pandas.pydata.org/pandas-docs/stable/user_guide/indexing.html#returning-a-view-versus-a-copy\n",
      "  df_top.sort_values(\"predicted_energy\", inplace=True)\n"
     ]
    }
   ],
   "source": [
    "df_top.sort_values(\"predicted_energy\", inplace=True)"
   ]
  },
  {
   "cell_type": "code",
   "execution_count": null,
   "id": "1f56d38a-fd53-4c7e-a456-e1c55cc1a579",
   "metadata": {},
   "outputs": [],
   "source": [
    "df_top[df_top.comp == \"K1Hg1F3\"]"
   ]
  },
  {
   "cell_type": "code",
   "execution_count": 163,
   "id": "dfca1443-9392-4a19-8dd9-cd5c83d46400",
   "metadata": {},
   "outputs": [],
   "source": [
    "df_top.to_csv(f\"{out_dir}/decor_rewards_gt0_6.csv.gz\", index=False)"
   ]
  },
  {
   "cell_type": "code",
   "execution_count": null,
   "id": "8f516d30-3d70-41e1-ab61-9d559f8575cb",
   "metadata": {},
   "outputs": [],
   "source": []
  }
 ],
 "metadata": {
  "kernelspec": {
   "display_name": "Python 3 (ipykernel)",
   "language": "python",
   "name": "python3"
  },
  "language_info": {
   "codemirror_mode": {
    "name": "ipython",
    "version": 3
   },
   "file_extension": ".py",
   "mimetype": "text/x-python",
   "name": "python",
   "nbconvert_exporter": "python",
   "pygments_lexer": "ipython3",
   "version": "3.8.13"
  }
 },
 "nbformat": 4,
 "nbformat_minor": 5
}
