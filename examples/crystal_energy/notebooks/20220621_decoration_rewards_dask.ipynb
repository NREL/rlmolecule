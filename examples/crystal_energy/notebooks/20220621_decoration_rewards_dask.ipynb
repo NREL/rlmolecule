{
 "cells": [
  {
   "cell_type": "code",
   "execution_count": 30,
   "id": "3a3d0284-e356-4fc9-adc2-92de622ae1ec",
   "metadata": {},
   "outputs": [],
   "source": [
    "import glob\n",
    "import logging\n",
    "from contextlib import contextmanager\n",
    "from pathlib import Path\n",
    "\n",
    "import dask.dataframe as dd\n",
    "import numpy as np\n",
    "import pandas as pd\n",
    "from dask.distributed import Client\n",
    "from dask_jobqueue import SLURMCluster\n",
    "from pymatgen.core import Structure\n",
    "from tqdm.notebook import tqdm\n",
    "\n",
    "import tensorflow as tf\n",
    "\n",
    "tqdm.pandas()\n",
    "logger = logging.getLogger()"
   ]
  },
  {
   "cell_type": "code",
   "execution_count": 5,
   "id": "6d7b1f36-d29f-4073-a3be-458c29192d45",
   "metadata": {},
   "outputs": [
    {
     "data": {
      "text/plain": [
       "'/home/jlaw/projects/arpa-e/crystals/rlmolecule/examples/crystal_energy'"
      ]
     },
     "execution_count": 5,
     "metadata": {},
     "output_type": "execute_result"
    }
   ],
   "source": [
    "import os\n",
    "os.chdir('../')\n",
    "os.getcwd()"
   ]
  },
  {
   "cell_type": "code",
   "execution_count": 8,
   "id": "3b66feba-082a-4ee8-981d-ed5d739d17fc",
   "metadata": {},
   "outputs": [],
   "source": [
    "import sys\n",
    "sys.path.insert(0, \"../../\")"
   ]
  },
  {
   "cell_type": "code",
   "execution_count": 12,
   "id": "b1361e18-b571-49dd-83ea-d756915d89a0",
   "metadata": {},
   "outputs": [],
   "source": [
    "from rlmolecule.sql.run_config import RunConfig\n",
    "from scripts import compute_reward_decors as rew_decors"
   ]
  },
  {
   "cell_type": "code",
   "execution_count": 59,
   "id": "2032bf95-e808-4c69-862b-4444910ecb48",
   "metadata": {},
   "outputs": [
    {
     "data": {
      "text/plain": [
       "<module 'scripts.compute_reward_decors' from '/home/jlaw/projects/arpa-e/crystals/rlmolecule/examples/crystal_energy/scripts/compute_reward_decors.py'>"
      ]
     },
     "execution_count": 59,
     "metadata": {},
     "output_type": "execute_result"
    }
   ],
   "source": [
    "# load changes made to the script\n",
    "from importlib import reload\n",
    "reload(rew_decors)"
   ]
  },
  {
   "cell_type": "code",
   "execution_count": 24,
   "id": "0bed1139-a3b0-4817-ad10-85df7273b921",
   "metadata": {},
   "outputs": [
    {
     "name": "stdout",
     "output_type": "stream",
     "text": [
      "24 actions_to_ignore\n"
     ]
    }
   ],
   "source": [
    "config_file = \"config/20220617_lt15stoich_battclust0_01/r_90.yaml\"\n",
    "energy_model_file = \"/projects/rlmolecule/pstjohn/models/20220607_icsd_and_battery/best_model.hdf5\"\n",
    "\n",
    "run_config = RunConfig(config_file)"
   ]
  },
  {
   "cell_type": "code",
   "execution_count": 27,
   "id": "906f58ea-1eac-4b1c-8d69-9057fbe639db",
   "metadata": {},
   "outputs": [
    {
     "name": "stdout",
     "output_type": "stream",
     "text": [
      "4197573 states read from /projects/rlmolecule/jlaw/logs/crystal_energy/20220617-batt-icsd-vol-r90-2/states_seen.csv.gz\n",
      "4177129 states read from /projects/rlmolecule/jlaw/logs/crystal_energy/20220617-batt-icsd-vol-r90-no-cond-ion-2/states_seen.csv.gz\n",
      "3381483 states read from /projects/rlmolecule/jlaw/logs/crystal_energy/20220617-batt-icsd-vol-r90-no-halides-2/states_seen.csv.gz\n",
      "6578563 total\n"
     ]
    }
   ],
   "source": [
    "# load the decoration IDs that have already been computed\n",
    "strc_ids_files = [\"/projects/rlmolecule/jlaw/logs/crystal_energy/20220617-batt-icsd-vol-r90-2/states_seen.csv.gz\",\n",
    "                  \"/projects/rlmolecule/jlaw/logs/crystal_energy/20220617-batt-icsd-vol-r90-no-cond-ion-2/states_seen.csv.gz\",\n",
    "                  \"/projects/rlmolecule/jlaw/logs/crystal_energy/20220617-batt-icsd-vol-r90-no-halides-2/states_seen.csv.gz\"\n",
    "                 ]\n",
    "\n",
    "states_seen = set()\n",
    "for strc_ids_file in strc_ids_files:\n",
    "    states = set(pd.read_csv(strc_ids_file)['states'])\n",
    "    states_seen.update(states)\n",
    "    print(f\"{len(states)} states read from {strc_ids_file}\")\n",
    "print(f\"{len(states_seen)} total\")"
   ]
  },
  {
   "cell_type": "code",
   "execution_count": 25,
   "id": "8761a7cb-a006-4051-84b7-155825787077",
   "metadata": {},
   "outputs": [
    {
     "name": "stdout",
     "output_type": "stream",
     "text": [
      "\t12682 lines\n",
      "  sortedformula   icsdnum  energyperatom reduced_composition\n",
      "0    Ag10Br3Te4  173116.0      -1.718985          Ag10Br3Te4\n",
      "1   Ag11K1O16V4  391344.0      -4.797702         Ag11K1O16V4\n"
     ]
    },
    {
     "name": "stderr",
     "output_type": "stream",
     "text": [
      "INFO:scripts.compute_reward_decors:reading ../../rlmolecule/crystal/inputs/icsd_train_and_proto_max_comp_atoms15/KLiNa_add_clust0_01_min10prototypes.json.gz\n"
     ]
    },
    {
     "name": "stdout",
     "output_type": "stream",
     "text": [
      "\t12682 entries\n"
     ]
    },
    {
     "name": "stderr",
     "output_type": "stream",
     "text": [
      "INFO:scripts.compute_reward_decors:\t14494 structures read\n"
     ]
    },
    {
     "name": "stdout",
     "output_type": "stream",
     "text": [
      "Reading inputs/models/2022_06_07_pruned_outliers/icsd_and_battery_scaled/best_model.hdf5\n",
      "Reading inputs/models/2022_06_07_pruned_outliers/icsd_and_battery_scaled/best_model.hdf5\n"
     ]
    },
    {
     "name": "stderr",
     "output_type": "stream",
     "text": [
      "2022-06-21 15:22:09.386137: W tensorflow/stream_executor/platform/default/dso_loader.cc:64] Could not load dynamic library 'libcudart.so.11.0'; dlerror: libcudart.so.11.0: cannot open shared object file: No such file or directory; LD_LIBRARY_PATH: /nopt/slurm/current/lib:\n",
      "2022-06-21 15:22:09.386443: W tensorflow/stream_executor/platform/default/dso_loader.cc:64] Could not load dynamic library 'libcublas.so.11'; dlerror: libcublas.so.11: cannot open shared object file: No such file or directory; LD_LIBRARY_PATH: /nopt/slurm/current/lib:\n",
      "2022-06-21 15:22:09.386885: W tensorflow/stream_executor/platform/default/dso_loader.cc:64] Could not load dynamic library 'libcublasLt.so.11'; dlerror: libcublasLt.so.11: cannot open shared object file: No such file or directory; LD_LIBRARY_PATH: /nopt/slurm/current/lib:\n",
      "2022-06-21 15:22:09.387348: W tensorflow/stream_executor/platform/default/dso_loader.cc:64] Could not load dynamic library 'libcufft.so.10'; dlerror: libcufft.so.10: cannot open shared object file: No such file or directory; LD_LIBRARY_PATH: /nopt/slurm/current/lib:\n",
      "2022-06-21 15:22:09.387822: W tensorflow/stream_executor/platform/default/dso_loader.cc:64] Could not load dynamic library 'libcurand.so.10'; dlerror: libcurand.so.10: cannot open shared object file: No such file or directory; LD_LIBRARY_PATH: /nopt/slurm/current/lib:\n",
      "2022-06-21 15:22:09.388445: W tensorflow/stream_executor/platform/default/dso_loader.cc:64] Could not load dynamic library 'libcusolver.so.11'; dlerror: libcusolver.so.11: cannot open shared object file: No such file or directory; LD_LIBRARY_PATH: /nopt/slurm/current/lib:\n",
      "2022-06-21 15:22:09.389000: W tensorflow/stream_executor/platform/default/dso_loader.cc:64] Could not load dynamic library 'libcusparse.so.11'; dlerror: libcusparse.so.11: cannot open shared object file: No such file or directory; LD_LIBRARY_PATH: /nopt/slurm/current/lib:\n",
      "2022-06-21 15:22:09.389631: W tensorflow/stream_executor/platform/default/dso_loader.cc:64] Could not load dynamic library 'libcudnn.so.8'; dlerror: libcudnn.so.8: cannot open shared object file: No such file or directory; LD_LIBRARY_PATH: /nopt/slurm/current/lib:\n",
      "2022-06-21 15:22:09.389658: W tensorflow/core/common_runtime/gpu/gpu_device.cc:1850] Cannot dlopen some GPU libraries. Please make sure the missing libraries mentioned above are installed properly if you would like to use GPU. Follow the guide at https://www.tensorflow.org/install/gpu for how to download and setup the required libraries for your platform.\n",
      "Skipping registering GPU devices...\n",
      "2022-06-21 15:22:09.389999: I tensorflow/core/platform/cpu_feature_guard.cc:151] This TensorFlow binary is optimized with oneAPI Deep Neural Network Library (oneDNN) to use the following CPU instructions in performance-critical operations:  AVX2 AVX512F FMA\n",
      "To enable them in other operations, rebuild TensorFlow with the appropriate compiler flags.\n"
     ]
    }
   ],
   "source": [
    "competing_phases = rew_decors.load_competing_phases(\"inputs/competing_phases.csv\")\n",
    "\n",
    "# load the icsd prototype structures\n",
    "prob_config = run_config.problem_config\n",
    "prototypes_file = prob_config['prototypes_file']\n",
    "prototype_structures = rew_decors.read_structures_file(prototypes_file)\n",
    "# make sure the prototype structures don't have oxidation states\n",
    "from pymatgen.transformations.standard_transformations import OxidationStateRemovalTransformation\n",
    "oxidation_remover = OxidationStateRemovalTransformation()\n",
    "prototype_structures = {s_id: oxidation_remover.apply_transformation(s)\n",
    "                        for s_id, s in prototype_structures.items()}\n",
    "\n",
    "preprocessor = rew_decors.AtomicNumberPreprocessor()\n",
    "energy_model = rew_decors.load_model(energy_model_file)"
   ]
  },
  {
   "cell_type": "markdown",
   "id": "0cc7fbbc-3354-4a02-8b12-7e88bcb636ce",
   "metadata": {},
   "source": [
    "### Generate all possible decoration IDs"
   ]
  },
  {
   "cell_type": "code",
   "execution_count": 31,
   "id": "f8aa5d46-8338-4721-9a03-a4592b4a79e5",
   "metadata": {},
   "outputs": [
    {
     "name": "stderr",
     "output_type": "stream",
     "text": [
      "  0%|                                                                                              | 139/15000000 [01:30<2712:11:10,  1.54it/s]\n"
     ]
    },
    {
     "name": "stdout",
     "output_type": "stream",
     "text": [
      "Read G1: ../../rlmolecule/crystal/inputs/icsd_train_and_proto_max_comp_atoms15/KLiNa_add_clust0_01_min10eles_to_comps.edgelist.gz (236167 nodes, 250002 edges)\n",
      "Read G2: ../../rlmolecule/crystal/inputs/icsd_train_and_proto_max_comp_atoms15/KLiNa_add_clust0_01_min10comp_type_to_decors.edgelist.gz (49108 nodes, 48931 edges)\n",
      "24 and 0 actions to ignore in G and G2, respectively\n"
     ]
    },
    {
     "name": "stderr",
     "output_type": "stream",
     "text": [
      " 95%|██████████████████████████████████████████████████████████████████████████████████████▌    | 14277525/15000000 [01:48<00:07, 99762.82it/s]"
     ]
    }
   ],
   "source": [
    "rewarder = rew_decors.CrystalStateReward(competing_phases,\n",
    "                                         prototype_structures,\n",
    "                                         energy_model,\n",
    "                                         preprocessor)\n",
    "\n",
    "# generate all the decoration IDs\n",
    "prob_config = run_config.problem_config\n",
    "builder = rew_decors.CrystalBuilder(G=prob_config.get('action_graph1'),\n",
    "                                    G2=prob_config.get('action_graph2'),\n",
    "                                    actions_to_ignore=prob_config.get('actions_to_ignore'))\n",
    "\n",
    "gen_decors = rew_decors.GenerateDecorations(builder)\n",
    "decor_ids = gen_decors.generate_all_decorations()\n",
    "decor_ids = set(decor_ids)"
   ]
  },
  {
   "cell_type": "code",
   "execution_count": 32,
   "id": "1e815dbb-8183-4094-997e-76ad9d72eef1",
   "metadata": {},
   "outputs": [
    {
     "name": "stdout",
     "output_type": "stream",
     "text": [
      "7704569 new decorations\n"
     ]
    },
    {
     "name": "stderr",
     "output_type": "stream",
     "text": [
      " 95%|██████████████████████████████████████████████████████████████████████████████████████▋    | 14283132/15000000 [02:03<00:07, 99762.82it/s]"
     ]
    }
   ],
   "source": [
    "new_decors = decor_ids - states_seen\n",
    "print(f\"{len(new_decors)} new decorations\")"
   ]
  },
  {
   "cell_type": "markdown",
   "id": "79ba6257-99fa-4c75-9946-19f4facbdf21",
   "metadata": {},
   "source": [
    "## Compute the reward for each decoration"
   ]
  },
  {
   "cell_type": "markdown",
   "id": "d6ba4eb9-20de-4018-b042-eb0ccbafbce3",
   "metadata": {},
   "source": [
    "### Example for a few structures"
   ]
  },
  {
   "cell_type": "code",
   "execution_count": 66,
   "id": "1e1dcbaa-90d1-4d61-8ddb-46872657c56c",
   "metadata": {},
   "outputs": [
    {
     "name": "stdout",
     "output_type": "stream",
     "text": [
      "                                          decor_id\n",
      "0  Na2Sc2W1S1P4|_1_1_2_2_4|triclinic|icsd_173455|1\n",
      "1   Li1Si1Cl1Br4|_1_1_1_4|monoclinic|icsd_183878|4\n"
     ]
    },
    {
     "data": {
      "application/vnd.jupyter.widget-view+json": {
       "model_id": "f84aafb32ecc4cd68ecbdd801d498930",
       "version_major": 2,
       "version_minor": 0
      },
      "text/plain": [
       "  0%|          | 0/20 [00:00<?, ?it/s]"
      ]
     },
     "metadata": {},
     "output_type": "display_data"
    },
    {
     "name": "stdout",
     "output_type": "stream",
     "text": [
      "[('Na2Sc2W1S1P4|_1_1_2_2_4|triclinic|icsd_173455|1', 0.028, -0.067, 5.777, 0.2)\n",
      " ('Li1Si1Cl1Br4|_1_1_1_4|monoclinic|icsd_183878|4', 0.219, -1.934, 1.423, 0.143)]\n"
     ]
    },
    {
     "data": {
      "text/html": [
       "<div>\n",
       "<style scoped>\n",
       "    .dataframe tbody tr th:only-of-type {\n",
       "        vertical-align: middle;\n",
       "    }\n",
       "\n",
       "    .dataframe tbody tr th {\n",
       "        vertical-align: top;\n",
       "    }\n",
       "\n",
       "    .dataframe thead th {\n",
       "        text-align: right;\n",
       "    }\n",
       "</style>\n",
       "<table border=\"1\" class=\"dataframe\">\n",
       "  <thead>\n",
       "    <tr style=\"text-align: right;\">\n",
       "      <th></th>\n",
       "      <th>decor_id</th>\n",
       "      <th>id</th>\n",
       "      <th>reward</th>\n",
       "      <th>predicted_energy</th>\n",
       "      <th>decomp_energy</th>\n",
       "      <th>cond_ion_frac</th>\n",
       "      <th>reduction</th>\n",
       "      <th>oxidation</th>\n",
       "      <th>stability_window</th>\n",
       "    </tr>\n",
       "  </thead>\n",
       "  <tbody>\n",
       "    <tr>\n",
       "      <th>0</th>\n",
       "      <td>Na2Sc2W1S1P4|_1_1_2_2_4|triclinic|icsd_173455|1</td>\n",
       "      <td>Na2Sc2W1S1P4|_1_1_2_2_4|triclinic|icsd_173455|1</td>\n",
       "      <td>0.028</td>\n",
       "      <td>-0.067</td>\n",
       "      <td>5.777</td>\n",
       "      <td>0.200</td>\n",
       "      <td>NaN</td>\n",
       "      <td>NaN</td>\n",
       "      <td>NaN</td>\n",
       "    </tr>\n",
       "    <tr>\n",
       "      <th>1</th>\n",
       "      <td>Li1Si1Cl1Br4|_1_1_1_4|monoclinic|icsd_183878|4</td>\n",
       "      <td>Li1Si1Cl1Br4|_1_1_1_4|monoclinic|icsd_183878|4</td>\n",
       "      <td>0.219</td>\n",
       "      <td>-1.934</td>\n",
       "      <td>1.423</td>\n",
       "      <td>0.143</td>\n",
       "      <td>NaN</td>\n",
       "      <td>NaN</td>\n",
       "      <td>NaN</td>\n",
       "    </tr>\n",
       "  </tbody>\n",
       "</table>\n",
       "</div>"
      ],
      "text/plain": [
       "                                          decor_id  \\\n",
       "0  Na2Sc2W1S1P4|_1_1_2_2_4|triclinic|icsd_173455|1   \n",
       "1   Li1Si1Cl1Br4|_1_1_1_4|monoclinic|icsd_183878|4   \n",
       "\n",
       "                                                id  reward  predicted_energy  \\\n",
       "0  Na2Sc2W1S1P4|_1_1_2_2_4|triclinic|icsd_173455|1   0.028            -0.067   \n",
       "1   Li1Si1Cl1Br4|_1_1_1_4|monoclinic|icsd_183878|4   0.219            -1.934   \n",
       "\n",
       "   decomp_energy  cond_ion_frac  reduction  oxidation  stability_window  \n",
       "0          5.777          0.200        NaN        NaN               NaN  \n",
       "1          1.423          0.143        NaN        NaN               NaN  "
      ]
     },
     "execution_count": 66,
     "metadata": {},
     "output_type": "execute_result"
    }
   ],
   "source": [
    "# code to compute the reward for each decoration\n",
    "info_to_keep = ['predicted_energy',\n",
    "                'decomp_energy',\n",
    "                'cond_ion_frac',\n",
    "                'reduction',\n",
    "                'oxidation',\n",
    "                'stability_window',\n",
    "                ]\n",
    "# test on a couple decoration ids\n",
    "# decoration_rewards = rew_decors.compute_rewards(list(decor_ids)[:10], rewarder, info_to_keep=info_to_keep)\n",
    "df_ids = pd.DataFrame(list(decor_ids)[:20], columns=[\"decor_id\"])\n",
    "print(df_ids.head(2))\n",
    "decoration_rewards = df_ids.decor_id.progress_apply(\n",
    "    lambda x: rew_decors.compute_reward(x,\n",
    "                                        rewarder, \n",
    "                                        info_to_keep=info_to_keep))\n",
    "print(decoration_rewards.head(2).values)\n",
    "cols = [\"id\", \"reward\"] + info_to_keep\n",
    "for i, col in enumerate(cols):\n",
    "    df_ids[col] = decoration_rewards.map(lambda x: x[i] if i < len(x) else np.nan)\n",
    "df_ids.head(2)"
   ]
  },
  {
   "cell_type": "markdown",
   "id": "e02ffc2c-8f44-4098-a514-b863d0c9edf1",
   "metadata": {},
   "source": [
    "### Use Dask to parallelize the computation"
   ]
  },
  {
   "cell_type": "code",
   "execution_count": 70,
   "id": "440c7aef-90a6-453f-8e89-f0105153e4fa",
   "metadata": {},
   "outputs": [],
   "source": [
    "@contextmanager\n",
    "def dask_cluster(n_nodes=2, n_processes=36, debug=False):\n",
    "    ###cluster objects\n",
    "#     n_processes = 36  # number of processes to run on each node\n",
    "    memory = 90000  # to fit on a standard node; ask for 184,000 for a bigmem node\n",
    "    walltime = '30' if debug else '180'\n",
    "    queue = 'debug' if debug else None\n",
    "\n",
    "    cluster = SLURMCluster(\n",
    "        project='rlmolecule',\n",
    "        walltime='30' if debug else '180',  # 30 minutes to fit in the debug queue; 180 to fit in short\n",
    "        job_mem=str(memory),\n",
    "        job_cpu=36,\n",
    "        interface='ib0',\n",
    "        local_directory='/tmp/scratch/dask-worker-space',\n",
    "        cores=36,\n",
    "        processes=n_processes,\n",
    "        memory='{}MB'.format(memory),\n",
    "        extra=['--lifetime-stagger', '60m'],\n",
    "        queue='debug' if debug else None  # 'debug' is limited to a single job -- comment this out for larger runs\n",
    "    )\n",
    "\n",
    "    print(cluster.job_script())\n",
    "\n",
    "    #create a client\n",
    "    client = Client(cluster)\n",
    "\n",
    "    # scale cluster\n",
    "    n_nodes = 1 if debug else n_nodes\n",
    "    cluster.scale(n_processes * n_nodes)\n",
    "    \n",
    "    try:\n",
    "        yield client, cluster\n",
    "\n",
    "    finally:\n",
    "        cluster.close()\n",
    "        client.close()"
   ]
  },
  {
   "cell_type": "code",
   "execution_count": 72,
   "id": "1ae10183-4a46-4ab5-9576-88896f0773c6",
   "metadata": {},
   "outputs": [],
   "source": [
    "def load_rewarder():\n",
    "    competing_phases = rew_decors.load_competing_phases(\"inputs/competing_phases.csv\")\n",
    "\n",
    "    # load the icsd prototype structures\n",
    "    prob_config = run_config.problem_config\n",
    "    prototypes_file = prob_config['prototypes_file']\n",
    "    prototype_structures = rew_decors.read_structures_file(prototypes_file)\n",
    "    # make sure the prototype structures don't have oxidation states\n",
    "    from pymatgen.transformations.standard_transformations import OxidationStateRemovalTransformation\n",
    "    oxidation_remover = OxidationStateRemovalTransformation()\n",
    "    prototype_structures = {s_id: oxidation_remover.apply_transformation(s)\n",
    "                            for s_id, s in prototype_structures.items()}\n",
    "\n",
    "    preprocessor = rew_decors.AtomicNumberPreprocessor()\n",
    "    energy_model = rew_decors.load_model(energy_model_file)\n",
    "    \n",
    "    rewarder = rew_decors.CrystalStateReward(competing_phases,\n",
    "                                             prototype_structures,\n",
    "                                             energy_model,\n",
    "                                             preprocessor)\n",
    "    return rewarder"
   ]
  },
  {
   "cell_type": "code",
   "execution_count": 74,
   "id": "49f656a5-32d7-46c5-83b4-3a01160149e4",
   "metadata": {},
   "outputs": [],
   "source": []
  },
  {
   "cell_type": "code",
   "execution_count": null,
   "id": "b8d531da-3154-4473-9d36-9bc847fb20e0",
   "metadata": {},
   "outputs": [],
   "source": [
    "# import dask\n",
    "# dask_rewarder = dask.delayed(load_rewarder)()"
   ]
  },
  {
   "cell_type": "code",
   "execution_count": 80,
   "id": "e5245b15-9ef5-4f64-944b-120af120839a",
   "metadata": {},
   "outputs": [
    {
     "name": "stderr",
     "output_type": "stream",
     "text": [
      "WARNING:absl:Found untraced functions such as gather_layer_call_fn, gather_layer_call_and_return_conditional_losses, concat_dense_layer_call_fn, concat_dense_layer_call_and_return_conditional_losses, gather_layer_call_fn while saving (showing 5 of 390). These functions will not be directly callable after loading.\n"
     ]
    },
    {
     "name": "stdout",
     "output_type": "stream",
     "text": [
      "INFO:tensorflow:Assets written to: ram://f9407099-6580-4eb1-b176-b43195d7d0de/assets\n"
     ]
    },
    {
     "name": "stderr",
     "output_type": "stream",
     "text": [
      "INFO:tensorflow:Assets written to: ram://f9407099-6580-4eb1-b176-b43195d7d0de/assets\n",
      "/home/jlaw/.conda-envs/crystals_nfp0_3/lib/python3.8/site-packages/keras/engine/functional.py:1410: CustomMaskWarning: Custom mask layers require a config and must override get_config. When loading, the custom mask layer must be passed to the custom_objects argument.\n",
      "  layer_config = serialize_layer_fn(layer)\n",
      "/home/jlaw/.conda-envs/crystals_nfp0_3/lib/python3.8/site-packages/keras/saving/saved_model/layer_serialization.py:112: CustomMaskWarning: Custom mask layers require a config and must override get_config. When loading, the custom mask layer must be passed to the custom_objects argument.\n",
      "  return generic_utils.serialize_keras_object(obj)\n",
      "/home/jlaw/.conda-envs/crystals_nfp0_3/lib/python3.8/site-packages/distributed/node.py:177: UserWarning: Port 8787 is already in use.\n",
      "Perhaps you already have a cluster running?\n",
      "Hosting the HTTP server on port 44163 instead\n",
      "  warnings.warn(\n"
     ]
    },
    {
     "name": "stdout",
     "output_type": "stream",
     "text": [
      "#!/usr/bin/env bash\n",
      "\n",
      "#SBATCH -J dask-worker\n",
      "#SBATCH -p debug\n",
      "#SBATCH -A rlmolecule\n",
      "#SBATCH -n 1\n",
      "#SBATCH --cpus-per-task=36\n",
      "#SBATCH --mem=90000\n",
      "#SBATCH -t 30\n",
      "\n",
      "/home/jlaw/.conda-envs/crystals_nfp0_3/bin/python -m distributed.cli.dask_worker tcp://10.148.8.97:36380 --nthreads 1 --nprocs 36 --memory-limit 2.33GiB --name dummy-name --nanny --death-timeout 60 --local-directory /tmp/scratch/dask-worker-space --lifetime-stagger 60m --interface ib0 --protocol tcp://\n",
      "\n"
     ]
    },
    {
     "name": "stderr",
     "output_type": "stream",
     "text": [
      "WARNING:absl:Found untraced functions such as gather_layer_call_fn, gather_layer_call_and_return_conditional_losses, concat_dense_layer_call_fn, concat_dense_layer_call_and_return_conditional_losses, gather_layer_call_fn while saving (showing 5 of 390). These functions will not be directly callable after loading.\n"
     ]
    },
    {
     "name": "stdout",
     "output_type": "stream",
     "text": [
      "INFO:tensorflow:Assets written to: ram://a720d637-2ed5-407e-95d6-1752909f63ba/assets\n"
     ]
    },
    {
     "name": "stderr",
     "output_type": "stream",
     "text": [
      "INFO:tensorflow:Assets written to: ram://a720d637-2ed5-407e-95d6-1752909f63ba/assets\n",
      "/home/jlaw/.conda-envs/crystals_nfp0_3/lib/python3.8/site-packages/keras/engine/functional.py:1410: CustomMaskWarning: Custom mask layers require a config and must override get_config. When loading, the custom mask layer must be passed to the custom_objects argument.\n",
      "  layer_config = serialize_layer_fn(layer)\n",
      "/home/jlaw/.conda-envs/crystals_nfp0_3/lib/python3.8/site-packages/keras/saving/saved_model/layer_serialization.py:112: CustomMaskWarning: Custom mask layers require a config and must override get_config. When loading, the custom mask layer must be passed to the custom_objects argument.\n",
      "  return generic_utils.serialize_keras_object(obj)\n",
      "ERROR:asyncio.events:\n",
      "Traceback (most recent call last):\n",
      "  File \"/home/jlaw/.conda-envs/crystals_nfp0_3/lib/python3.8/site-packages/distributed/utils.py\", line 761, in wrapper\n",
      "    return await func(*args, **kwargs)\n",
      "  File \"/home/jlaw/.conda-envs/crystals_nfp0_3/lib/python3.8/site-packages/distributed/client.py\", line 1225, in _reconnect\n",
      "    await self._ensure_connected(timeout=timeout)\n",
      "  File \"/home/jlaw/.conda-envs/crystals_nfp0_3/lib/python3.8/site-packages/distributed/client.py\", line 1255, in _ensure_connected\n",
      "    comm = await connect(\n",
      "  File \"/home/jlaw/.conda-envs/crystals_nfp0_3/lib/python3.8/site-packages/distributed/comm/core.py\", line 313, in connect\n",
      "    await asyncio.sleep(backoff)\n",
      "  File \"/home/jlaw/.conda-envs/crystals_nfp0_3/lib/python3.8/asyncio/tasks.py\", line 659, in sleep\n",
      "    return await future\n",
      "asyncio.exceptions.CancelledError\n",
      "ERROR:asyncio.events:\n",
      "Traceback (most recent call last):\n",
      "  File \"/home/jlaw/.conda-envs/crystals_nfp0_3/lib/python3.8/site-packages/distributed/utils.py\", line 761, in wrapper\n",
      "    return await func(*args, **kwargs)\n",
      "  File \"/home/jlaw/.conda-envs/crystals_nfp0_3/lib/python3.8/site-packages/distributed/client.py\", line 1414, in _handle_report\n",
      "    await self._reconnect()\n",
      "  File \"/home/jlaw/.conda-envs/crystals_nfp0_3/lib/python3.8/site-packages/distributed/utils.py\", line 761, in wrapper\n",
      "    return await func(*args, **kwargs)\n",
      "  File \"/home/jlaw/.conda-envs/crystals_nfp0_3/lib/python3.8/site-packages/distributed/client.py\", line 1225, in _reconnect\n",
      "    await self._ensure_connected(timeout=timeout)\n",
      "  File \"/home/jlaw/.conda-envs/crystals_nfp0_3/lib/python3.8/site-packages/distributed/client.py\", line 1255, in _ensure_connected\n",
      "    comm = await connect(\n",
      "  File \"/home/jlaw/.conda-envs/crystals_nfp0_3/lib/python3.8/site-packages/distributed/comm/core.py\", line 313, in connect\n",
      "    await asyncio.sleep(backoff)\n",
      "  File \"/home/jlaw/.conda-envs/crystals_nfp0_3/lib/python3.8/asyncio/tasks.py\", line 659, in sleep\n",
      "    return await future\n",
      "asyncio.exceptions.CancelledError\n"
     ]
    },
    {
     "ename": "ValueError",
     "evalue": "Exception encountered when calling layer \"edge_update\" (type EdgeUpdate).\n\nCould not find matching concrete function to call loaded from the SavedModel. Got:\n  Positional arguments (2 total):\n    * [<tf.Tensor 'inputs:0' shape=(None, None, 256) dtype=float32>, <tf.Tensor 'inputs_1:0' shape=(None, None, 256) dtype=float32>, <tf.Tensor 'inputs_2:0' shape=(None, None, 2) dtype=int64>]\n    * [<tf.Tensor 'mask:0' shape=(None, None) dtype=bool>, None, None]\n  Keyword arguments: {'training': False}\n\n Expected these arguments to match one of the following 2 option(s):\n\nOption 1:\n  Positional arguments (2 total):\n    * [TensorSpec(shape=(None, None, 256), dtype=tf.float32, name='inputs/0'), TensorSpec(shape=(None, None, 256), dtype=tf.float32, name='inputs/1'), TensorSpec(shape=(None, None, 2), dtype=tf.int64, name='inputs/2')]\n    * [TensorSpec(shape=(None, None), dtype=tf.bool, name='mask/0'), TensorSpec(shape=(None, None), dtype=tf.bool, name='mask/1'), None]\n  Keyword arguments: {'training': False}\n\nOption 2:\n  Positional arguments (2 total):\n    * [TensorSpec(shape=(None, None, 256), dtype=tf.float32, name='inputs/0'), TensorSpec(shape=(None, None, 256), dtype=tf.float32, name='inputs/1'), TensorSpec(shape=(None, None, 2), dtype=tf.int64, name='inputs/2')]\n    * [TensorSpec(shape=(None, None), dtype=tf.bool, name='mask/0'), TensorSpec(shape=(None, None), dtype=tf.bool, name='mask/1'), None]\n  Keyword arguments: {'training': True}\n\nCall arguments received:\n  • args=(['tf.Tensor(shape=(None, None, 256), dtype=float32)', 'tf.Tensor(shape=(None, None, 256), dtype=float32)', 'tf.Tensor(shape=(None, None, 2), dtype=int64)'],)\n  • kwargs={'mask': ['tf.Tensor(shape=(None, None), dtype=bool)', 'None', 'None'], 'training': 'None'}",
     "output_type": "error",
     "traceback": [
      "\u001b[0;31m---------------------------------------------------------------------------\u001b[0m",
      "\u001b[0;31mValueError\u001b[0m                                Traceback (most recent call last)",
      "Input \u001b[0;32mIn [80]\u001b[0m, in \u001b[0;36m<cell line: 10>\u001b[0;34m()\u001b[0m\n\u001b[1;32m      4\u001b[0m results \u001b[38;5;241m=\u001b[39m df_dask\u001b[38;5;241m.\u001b[39mdecor_id\u001b[38;5;241m.\u001b[39mmap_partitions(\n\u001b[1;32m      5\u001b[0m     \u001b[38;5;28;01mlambda\u001b[39;00m row: row\u001b[38;5;241m.\u001b[39mapply(\n\u001b[1;32m      6\u001b[0m         \u001b[38;5;28;01mlambda\u001b[39;00m x: rew_decors\u001b[38;5;241m.\u001b[39mcompute_reward(x, rewarder, info_to_keep)), \n\u001b[1;32m      7\u001b[0m     meta\u001b[38;5;241m=\u001b[39mpd\u001b[38;5;241m.\u001b[39mSeries(\u001b[38;5;28mtuple\u001b[39m(np\u001b[38;5;241m.\u001b[39mzeros(\u001b[38;5;241m5\u001b[39m)))\n\u001b[1;32m      8\u001b[0m )\n\u001b[1;32m     10\u001b[0m \u001b[38;5;28;01mwith\u001b[39;00m dask_cluster(debug\u001b[38;5;241m=\u001b[39m\u001b[38;5;28;01mTrue\u001b[39;00m):\n\u001b[0;32m---> 11\u001b[0m     finished \u001b[38;5;241m=\u001b[39m \u001b[43mresults\u001b[49m\u001b[38;5;241;43m.\u001b[39;49m\u001b[43mcompute\u001b[49m\u001b[43m(\u001b[49m\u001b[43m)\u001b[49m\n",
      "File \u001b[0;32m~/.conda-envs/crystals_nfp0_3/lib/python3.8/site-packages/dask/base.py:312\u001b[0m, in \u001b[0;36mDaskMethodsMixin.compute\u001b[0;34m(self, **kwargs)\u001b[0m\n\u001b[1;32m    288\u001b[0m \u001b[38;5;28;01mdef\u001b[39;00m \u001b[38;5;21mcompute\u001b[39m(\u001b[38;5;28mself\u001b[39m, \u001b[38;5;241m*\u001b[39m\u001b[38;5;241m*\u001b[39mkwargs):\n\u001b[1;32m    289\u001b[0m     \u001b[38;5;124;03m\"\"\"Compute this dask collection\u001b[39;00m\n\u001b[1;32m    290\u001b[0m \n\u001b[1;32m    291\u001b[0m \u001b[38;5;124;03m    This turns a lazy Dask collection into its in-memory equivalent.\u001b[39;00m\n\u001b[0;32m   (...)\u001b[0m\n\u001b[1;32m    310\u001b[0m \u001b[38;5;124;03m    dask.base.compute\u001b[39;00m\n\u001b[1;32m    311\u001b[0m \u001b[38;5;124;03m    \"\"\"\u001b[39;00m\n\u001b[0;32m--> 312\u001b[0m     (result,) \u001b[38;5;241m=\u001b[39m \u001b[43mcompute\u001b[49m\u001b[43m(\u001b[49m\u001b[38;5;28;43mself\u001b[39;49m\u001b[43m,\u001b[49m\u001b[43m \u001b[49m\u001b[43mtraverse\u001b[49m\u001b[38;5;241;43m=\u001b[39;49m\u001b[38;5;28;43;01mFalse\u001b[39;49;00m\u001b[43m,\u001b[49m\u001b[43m \u001b[49m\u001b[38;5;241;43m*\u001b[39;49m\u001b[38;5;241;43m*\u001b[39;49m\u001b[43mkwargs\u001b[49m\u001b[43m)\u001b[49m\n\u001b[1;32m    313\u001b[0m     \u001b[38;5;28;01mreturn\u001b[39;00m result\n",
      "File \u001b[0;32m~/.conda-envs/crystals_nfp0_3/lib/python3.8/site-packages/dask/base.py:600\u001b[0m, in \u001b[0;36mcompute\u001b[0;34m(traverse, optimize_graph, scheduler, get, *args, **kwargs)\u001b[0m\n\u001b[1;32m    597\u001b[0m     keys\u001b[38;5;241m.\u001b[39mappend(x\u001b[38;5;241m.\u001b[39m__dask_keys__())\n\u001b[1;32m    598\u001b[0m     postcomputes\u001b[38;5;241m.\u001b[39mappend(x\u001b[38;5;241m.\u001b[39m__dask_postcompute__())\n\u001b[0;32m--> 600\u001b[0m results \u001b[38;5;241m=\u001b[39m \u001b[43mschedule\u001b[49m\u001b[43m(\u001b[49m\u001b[43mdsk\u001b[49m\u001b[43m,\u001b[49m\u001b[43m \u001b[49m\u001b[43mkeys\u001b[49m\u001b[43m,\u001b[49m\u001b[43m \u001b[49m\u001b[38;5;241;43m*\u001b[39;49m\u001b[38;5;241;43m*\u001b[39;49m\u001b[43mkwargs\u001b[49m\u001b[43m)\u001b[49m\n\u001b[1;32m    601\u001b[0m \u001b[38;5;28;01mreturn\u001b[39;00m repack([f(r, \u001b[38;5;241m*\u001b[39ma) \u001b[38;5;28;01mfor\u001b[39;00m r, (f, a) \u001b[38;5;129;01min\u001b[39;00m \u001b[38;5;28mzip\u001b[39m(results, postcomputes)])\n",
      "File \u001b[0;32m~/.conda-envs/crystals_nfp0_3/lib/python3.8/site-packages/distributed/client.py:3014\u001b[0m, in \u001b[0;36mClient.get\u001b[0;34m(self, dsk, keys, workers, allow_other_workers, resources, sync, asynchronous, direct, retries, priority, fifo_timeout, actors, **kwargs)\u001b[0m\n\u001b[1;32m   3012\u001b[0m         should_rejoin \u001b[38;5;241m=\u001b[39m \u001b[38;5;28;01mFalse\u001b[39;00m\n\u001b[1;32m   3013\u001b[0m \u001b[38;5;28;01mtry\u001b[39;00m:\n\u001b[0;32m-> 3014\u001b[0m     results \u001b[38;5;241m=\u001b[39m \u001b[38;5;28;43mself\u001b[39;49m\u001b[38;5;241;43m.\u001b[39;49m\u001b[43mgather\u001b[49m\u001b[43m(\u001b[49m\u001b[43mpacked\u001b[49m\u001b[43m,\u001b[49m\u001b[43m \u001b[49m\u001b[43masynchronous\u001b[49m\u001b[38;5;241;43m=\u001b[39;49m\u001b[43masynchronous\u001b[49m\u001b[43m,\u001b[49m\u001b[43m \u001b[49m\u001b[43mdirect\u001b[49m\u001b[38;5;241;43m=\u001b[39;49m\u001b[43mdirect\u001b[49m\u001b[43m)\u001b[49m\n\u001b[1;32m   3015\u001b[0m \u001b[38;5;28;01mfinally\u001b[39;00m:\n\u001b[1;32m   3016\u001b[0m     \u001b[38;5;28;01mfor\u001b[39;00m f \u001b[38;5;129;01min\u001b[39;00m futures\u001b[38;5;241m.\u001b[39mvalues():\n",
      "File \u001b[0;32m~/.conda-envs/crystals_nfp0_3/lib/python3.8/site-packages/distributed/client.py:2188\u001b[0m, in \u001b[0;36mClient.gather\u001b[0;34m(self, futures, errors, direct, asynchronous)\u001b[0m\n\u001b[1;32m   2186\u001b[0m \u001b[38;5;28;01melse\u001b[39;00m:\n\u001b[1;32m   2187\u001b[0m     local_worker \u001b[38;5;241m=\u001b[39m \u001b[38;5;28;01mNone\u001b[39;00m\n\u001b[0;32m-> 2188\u001b[0m \u001b[38;5;28;01mreturn\u001b[39;00m \u001b[38;5;28;43mself\u001b[39;49m\u001b[38;5;241;43m.\u001b[39;49m\u001b[43msync\u001b[49m\u001b[43m(\u001b[49m\n\u001b[1;32m   2189\u001b[0m \u001b[43m    \u001b[49m\u001b[38;5;28;43mself\u001b[39;49m\u001b[38;5;241;43m.\u001b[39;49m\u001b[43m_gather\u001b[49m\u001b[43m,\u001b[49m\n\u001b[1;32m   2190\u001b[0m \u001b[43m    \u001b[49m\u001b[43mfutures\u001b[49m\u001b[43m,\u001b[49m\n\u001b[1;32m   2191\u001b[0m \u001b[43m    \u001b[49m\u001b[43merrors\u001b[49m\u001b[38;5;241;43m=\u001b[39;49m\u001b[43merrors\u001b[49m\u001b[43m,\u001b[49m\n\u001b[1;32m   2192\u001b[0m \u001b[43m    \u001b[49m\u001b[43mdirect\u001b[49m\u001b[38;5;241;43m=\u001b[39;49m\u001b[43mdirect\u001b[49m\u001b[43m,\u001b[49m\n\u001b[1;32m   2193\u001b[0m \u001b[43m    \u001b[49m\u001b[43mlocal_worker\u001b[49m\u001b[38;5;241;43m=\u001b[39;49m\u001b[43mlocal_worker\u001b[49m\u001b[43m,\u001b[49m\n\u001b[1;32m   2194\u001b[0m \u001b[43m    \u001b[49m\u001b[43masynchronous\u001b[49m\u001b[38;5;241;43m=\u001b[39;49m\u001b[43masynchronous\u001b[49m\u001b[43m,\u001b[49m\n\u001b[1;32m   2195\u001b[0m \u001b[43m\u001b[49m\u001b[43m)\u001b[49m\n",
      "File \u001b[0;32m~/.conda-envs/crystals_nfp0_3/lib/python3.8/site-packages/distributed/utils.py:320\u001b[0m, in \u001b[0;36mSyncMethodMixin.sync\u001b[0;34m(self, func, asynchronous, callback_timeout, *args, **kwargs)\u001b[0m\n\u001b[1;32m    318\u001b[0m     \u001b[38;5;28;01mreturn\u001b[39;00m future\n\u001b[1;32m    319\u001b[0m \u001b[38;5;28;01melse\u001b[39;00m:\n\u001b[0;32m--> 320\u001b[0m     \u001b[38;5;28;01mreturn\u001b[39;00m \u001b[43msync\u001b[49m\u001b[43m(\u001b[49m\n\u001b[1;32m    321\u001b[0m \u001b[43m        \u001b[49m\u001b[38;5;28;43mself\u001b[39;49m\u001b[38;5;241;43m.\u001b[39;49m\u001b[43mloop\u001b[49m\u001b[43m,\u001b[49m\u001b[43m \u001b[49m\u001b[43mfunc\u001b[49m\u001b[43m,\u001b[49m\u001b[43m \u001b[49m\u001b[38;5;241;43m*\u001b[39;49m\u001b[43margs\u001b[49m\u001b[43m,\u001b[49m\u001b[43m \u001b[49m\u001b[43mcallback_timeout\u001b[49m\u001b[38;5;241;43m=\u001b[39;49m\u001b[43mcallback_timeout\u001b[49m\u001b[43m,\u001b[49m\u001b[43m \u001b[49m\u001b[38;5;241;43m*\u001b[39;49m\u001b[38;5;241;43m*\u001b[39;49m\u001b[43mkwargs\u001b[49m\n\u001b[1;32m    322\u001b[0m \u001b[43m    \u001b[49m\u001b[43m)\u001b[49m\n",
      "File \u001b[0;32m~/.conda-envs/crystals_nfp0_3/lib/python3.8/site-packages/distributed/utils.py:387\u001b[0m, in \u001b[0;36msync\u001b[0;34m(loop, func, callback_timeout, *args, **kwargs)\u001b[0m\n\u001b[1;32m    385\u001b[0m \u001b[38;5;28;01mif\u001b[39;00m error:\n\u001b[1;32m    386\u001b[0m     typ, exc, tb \u001b[38;5;241m=\u001b[39m error\n\u001b[0;32m--> 387\u001b[0m     \u001b[38;5;28;01mraise\u001b[39;00m exc\u001b[38;5;241m.\u001b[39mwith_traceback(tb)\n\u001b[1;32m    388\u001b[0m \u001b[38;5;28;01melse\u001b[39;00m:\n\u001b[1;32m    389\u001b[0m     \u001b[38;5;28;01mreturn\u001b[39;00m result\n",
      "File \u001b[0;32m~/.conda-envs/crystals_nfp0_3/lib/python3.8/site-packages/distributed/utils.py:360\u001b[0m, in \u001b[0;36msync.<locals>.f\u001b[0;34m()\u001b[0m\n\u001b[1;32m    358\u001b[0m         future \u001b[38;5;241m=\u001b[39m asyncio\u001b[38;5;241m.\u001b[39mwait_for(future, callback_timeout)\n\u001b[1;32m    359\u001b[0m     future \u001b[38;5;241m=\u001b[39m asyncio\u001b[38;5;241m.\u001b[39mensure_future(future)\n\u001b[0;32m--> 360\u001b[0m     result \u001b[38;5;241m=\u001b[39m \u001b[38;5;28;01myield\u001b[39;00m future\n\u001b[1;32m    361\u001b[0m \u001b[38;5;28;01mexcept\u001b[39;00m \u001b[38;5;167;01mException\u001b[39;00m:\n\u001b[1;32m    362\u001b[0m     error \u001b[38;5;241m=\u001b[39m sys\u001b[38;5;241m.\u001b[39mexc_info()\n",
      "File \u001b[0;32m~/.conda-envs/crystals_nfp0_3/lib/python3.8/site-packages/tornado/gen.py:762\u001b[0m, in \u001b[0;36mRunner.run\u001b[0;34m(self)\u001b[0m\n\u001b[1;32m    759\u001b[0m exc_info \u001b[38;5;241m=\u001b[39m \u001b[38;5;28;01mNone\u001b[39;00m\n\u001b[1;32m    761\u001b[0m \u001b[38;5;28;01mtry\u001b[39;00m:\n\u001b[0;32m--> 762\u001b[0m     value \u001b[38;5;241m=\u001b[39m \u001b[43mfuture\u001b[49m\u001b[38;5;241;43m.\u001b[39;49m\u001b[43mresult\u001b[49m\u001b[43m(\u001b[49m\u001b[43m)\u001b[49m\n\u001b[1;32m    763\u001b[0m \u001b[38;5;28;01mexcept\u001b[39;00m \u001b[38;5;167;01mException\u001b[39;00m:\n\u001b[1;32m    764\u001b[0m     exc_info \u001b[38;5;241m=\u001b[39m sys\u001b[38;5;241m.\u001b[39mexc_info()\n",
      "File \u001b[0;32m~/.conda-envs/crystals_nfp0_3/lib/python3.8/site-packages/distributed/client.py:2051\u001b[0m, in \u001b[0;36mClient._gather\u001b[0;34m(self, futures, errors, direct, local_worker)\u001b[0m\n\u001b[1;32m   2049\u001b[0m         exc \u001b[38;5;241m=\u001b[39m CancelledError(key)\n\u001b[1;32m   2050\u001b[0m     \u001b[38;5;28;01melse\u001b[39;00m:\n\u001b[0;32m-> 2051\u001b[0m         \u001b[38;5;28;01mraise\u001b[39;00m exception\u001b[38;5;241m.\u001b[39mwith_traceback(traceback)\n\u001b[1;32m   2052\u001b[0m     \u001b[38;5;28;01mraise\u001b[39;00m exc\n\u001b[1;32m   2053\u001b[0m \u001b[38;5;28;01mif\u001b[39;00m errors \u001b[38;5;241m==\u001b[39m \u001b[38;5;124m\"\u001b[39m\u001b[38;5;124mskip\u001b[39m\u001b[38;5;124m\"\u001b[39m:\n",
      "File \u001b[0;32m~/.conda-envs/crystals_nfp0_3/lib/python3.8/site-packages/distributed/utils.py:1428\u001b[0m, in \u001b[0;36moffload\u001b[0;34m()\u001b[0m\n\u001b[1;32m   1426\u001b[0m \u001b[38;5;66;03m# Retain context vars while deserializing; see https://bugs.python.org/issue34014\u001b[39;00m\n\u001b[1;32m   1427\u001b[0m context \u001b[38;5;241m=\u001b[39m contextvars\u001b[38;5;241m.\u001b[39mcopy_context()\n\u001b[0;32m-> 1428\u001b[0m \u001b[38;5;28;01mreturn\u001b[39;00m \u001b[38;5;28;01mawait\u001b[39;00m loop\u001b[38;5;241m.\u001b[39mrun_in_executor(\n\u001b[1;32m   1429\u001b[0m     _offload_executor, \u001b[38;5;28;01mlambda\u001b[39;00m: context\u001b[38;5;241m.\u001b[39mrun(fn, \u001b[38;5;241m*\u001b[39margs, \u001b[38;5;241m*\u001b[39m\u001b[38;5;241m*\u001b[39mkwargs)\n\u001b[1;32m   1430\u001b[0m )\n",
      "File \u001b[0;32m~/.conda-envs/crystals_nfp0_3/lib/python3.8/concurrent/futures/thread.py:57\u001b[0m, in \u001b[0;36mrun\u001b[0;34m()\u001b[0m\n\u001b[1;32m     54\u001b[0m     \u001b[38;5;28;01mreturn\u001b[39;00m\n\u001b[1;32m     56\u001b[0m \u001b[38;5;28;01mtry\u001b[39;00m:\n\u001b[0;32m---> 57\u001b[0m     result \u001b[38;5;241m=\u001b[39m \u001b[38;5;28mself\u001b[39m\u001b[38;5;241m.\u001b[39mfn(\u001b[38;5;241m*\u001b[39m\u001b[38;5;28mself\u001b[39m\u001b[38;5;241m.\u001b[39margs, \u001b[38;5;241m*\u001b[39m\u001b[38;5;241m*\u001b[39m\u001b[38;5;28mself\u001b[39m\u001b[38;5;241m.\u001b[39mkwargs)\n\u001b[1;32m     58\u001b[0m \u001b[38;5;28;01mexcept\u001b[39;00m \u001b[38;5;167;01mBaseException\u001b[39;00m \u001b[38;5;28;01mas\u001b[39;00m exc:\n\u001b[1;32m     59\u001b[0m     \u001b[38;5;28mself\u001b[39m\u001b[38;5;241m.\u001b[39mfuture\u001b[38;5;241m.\u001b[39mset_exception(exc)\n",
      "File \u001b[0;32m~/.conda-envs/crystals_nfp0_3/lib/python3.8/site-packages/distributed/utils.py:1429\u001b[0m, in \u001b[0;36moffload.<locals>.<lambda>\u001b[0;34m()\u001b[0m\n\u001b[1;32m   1426\u001b[0m \u001b[38;5;66;03m# Retain context vars while deserializing; see https://bugs.python.org/issue34014\u001b[39;00m\n\u001b[1;32m   1427\u001b[0m context \u001b[38;5;241m=\u001b[39m contextvars\u001b[38;5;241m.\u001b[39mcopy_context()\n\u001b[1;32m   1428\u001b[0m \u001b[38;5;28;01mreturn\u001b[39;00m \u001b[38;5;28;01mawait\u001b[39;00m loop\u001b[38;5;241m.\u001b[39mrun_in_executor(\n\u001b[0;32m-> 1429\u001b[0m     _offload_executor, \u001b[38;5;28;01mlambda\u001b[39;00m: context\u001b[38;5;241m.\u001b[39mrun(fn, \u001b[38;5;241m*\u001b[39margs, \u001b[38;5;241m*\u001b[39m\u001b[38;5;241m*\u001b[39mkwargs)\n\u001b[1;32m   1430\u001b[0m )\n",
      "File \u001b[0;32m~/.conda-envs/crystals_nfp0_3/lib/python3.8/site-packages/distributed/worker.py:4617\u001b[0m, in \u001b[0;36m_deserialize\u001b[0;34m()\u001b[0m\n\u001b[1;32m   4615\u001b[0m \u001b[38;5;124;03m\"\"\"Deserialize task inputs and regularize to func, args, kwargs\"\"\"\u001b[39;00m\n\u001b[1;32m   4616\u001b[0m \u001b[38;5;28;01mif\u001b[39;00m function \u001b[38;5;129;01mis\u001b[39;00m \u001b[38;5;129;01mnot\u001b[39;00m \u001b[38;5;28;01mNone\u001b[39;00m:\n\u001b[0;32m-> 4617\u001b[0m     function \u001b[38;5;241m=\u001b[39m loads_function(function)\n\u001b[1;32m   4618\u001b[0m \u001b[38;5;28;01mif\u001b[39;00m args \u001b[38;5;129;01mand\u001b[39;00m \u001b[38;5;28misinstance\u001b[39m(args, \u001b[38;5;28mbytes\u001b[39m):\n\u001b[1;32m   4619\u001b[0m     args \u001b[38;5;241m=\u001b[39m pickle\u001b[38;5;241m.\u001b[39mloads(args)\n",
      "File \u001b[0;32m~/.conda-envs/crystals_nfp0_3/lib/python3.8/site-packages/distributed/worker.py:4611\u001b[0m, in \u001b[0;36mloads_function\u001b[0;34m()\u001b[0m\n\u001b[1;32m   4609\u001b[0m         cache_loads[bytes_object] \u001b[38;5;241m=\u001b[39m result\n\u001b[1;32m   4610\u001b[0m     \u001b[38;5;28;01mreturn\u001b[39;00m result\n\u001b[0;32m-> 4611\u001b[0m \u001b[38;5;28;01mreturn\u001b[39;00m pickle\u001b[38;5;241m.\u001b[39mloads(bytes_object)\n",
      "File \u001b[0;32m~/.conda-envs/crystals_nfp0_3/lib/python3.8/site-packages/distributed/protocol/pickle.py:66\u001b[0m, in \u001b[0;36mloads\u001b[0;34m()\u001b[0m\n\u001b[1;32m     64\u001b[0m         \u001b[38;5;28;01mreturn\u001b[39;00m pickle\u001b[38;5;241m.\u001b[39mloads(x, buffers\u001b[38;5;241m=\u001b[39mbuffers)\n\u001b[1;32m     65\u001b[0m     \u001b[38;5;28;01melse\u001b[39;00m:\n\u001b[0;32m---> 66\u001b[0m         \u001b[38;5;28;01mreturn\u001b[39;00m pickle\u001b[38;5;241m.\u001b[39mloads(x)\n\u001b[1;32m     67\u001b[0m \u001b[38;5;28;01mexcept\u001b[39;00m \u001b[38;5;167;01mException\u001b[39;00m:\n\u001b[1;32m     68\u001b[0m     logger\u001b[38;5;241m.\u001b[39minfo(\u001b[38;5;124m\"\u001b[39m\u001b[38;5;124mFailed to deserialize \u001b[39m\u001b[38;5;132;01m%s\u001b[39;00m\u001b[38;5;124m\"\u001b[39m, x[:\u001b[38;5;241m10000\u001b[39m], exc_info\u001b[38;5;241m=\u001b[39m\u001b[38;5;28;01mTrue\u001b[39;00m)\n",
      "File \u001b[0;32m~/.conda-envs/crystals_nfp0_3/lib/python3.8/site-packages/keras/saving/pickle_utils.py:48\u001b[0m, in \u001b[0;36mdeserialize_model_from_bytecode\u001b[0;34m()\u001b[0m\n\u001b[1;32m     46\u001b[0m       \u001b[38;5;28;01mwith\u001b[39;00m tf\u001b[38;5;241m.\u001b[39mio\u001b[38;5;241m.\u001b[39mgfile\u001b[38;5;241m.\u001b[39mGFile(dest_path, \u001b[38;5;124m\"\u001b[39m\u001b[38;5;124mwb\u001b[39m\u001b[38;5;124m\"\u001b[39m) \u001b[38;5;28;01mas\u001b[39;00m f:\n\u001b[1;32m     47\u001b[0m         f\u001b[38;5;241m.\u001b[39mwrite(archive\u001b[38;5;241m.\u001b[39mextractfile(name)\u001b[38;5;241m.\u001b[39mread())\n\u001b[0;32m---> 48\u001b[0m model \u001b[38;5;241m=\u001b[39m save_module\u001b[38;5;241m.\u001b[39mload_model(temp_dir)\n\u001b[1;32m     49\u001b[0m tf\u001b[38;5;241m.\u001b[39mio\u001b[38;5;241m.\u001b[39mgfile\u001b[38;5;241m.\u001b[39mrmtree(temp_dir)\n\u001b[1;32m     50\u001b[0m \u001b[38;5;28;01mreturn\u001b[39;00m model\n",
      "File \u001b[0;32m~/.conda-envs/crystals_nfp0_3/lib/python3.8/site-packages/keras/utils/traceback_utils.py:67\u001b[0m, in \u001b[0;36merror_handler\u001b[0;34m()\u001b[0m\n\u001b[1;32m     65\u001b[0m \u001b[38;5;28;01mexcept\u001b[39;00m \u001b[38;5;167;01mException\u001b[39;00m \u001b[38;5;28;01mas\u001b[39;00m e:  \u001b[38;5;66;03m# pylint: disable=broad-except\u001b[39;00m\n\u001b[1;32m     66\u001b[0m   filtered_tb \u001b[38;5;241m=\u001b[39m _process_traceback_frames(e\u001b[38;5;241m.\u001b[39m__traceback__)\n\u001b[0;32m---> 67\u001b[0m   \u001b[38;5;28;01mraise\u001b[39;00m e\u001b[38;5;241m.\u001b[39mwith_traceback(filtered_tb) \u001b[38;5;28;01mfrom\u001b[39;00m \u001b[38;5;28mNone\u001b[39m\n\u001b[1;32m     68\u001b[0m \u001b[38;5;28;01mfinally\u001b[39;00m:\n\u001b[1;32m     69\u001b[0m   \u001b[38;5;28;01mdel\u001b[39;00m filtered_tb\n",
      "File \u001b[0;32m~/.conda-envs/crystals_nfp0_3/lib/python3.8/site-packages/tensorflow/python/saved_model/function_deserialization.py:289\u001b[0m, in \u001b[0;36mrestored_function_body\u001b[0;34m()\u001b[0m\n\u001b[1;32m    285\u001b[0m   positional, keyword \u001b[38;5;241m=\u001b[39m concrete_function\u001b[38;5;241m.\u001b[39mstructured_input_signature\n\u001b[1;32m    286\u001b[0m   signature_descriptions\u001b[38;5;241m.\u001b[39mappend(\n\u001b[1;32m    287\u001b[0m       \u001b[38;5;124m\"\u001b[39m\u001b[38;5;124mOption \u001b[39m\u001b[38;5;132;01m{}\u001b[39;00m\u001b[38;5;124m:\u001b[39m\u001b[38;5;130;01m\\n\u001b[39;00m\u001b[38;5;124m  \u001b[39m\u001b[38;5;132;01m{}\u001b[39;00m\u001b[38;5;130;01m\\n\u001b[39;00m\u001b[38;5;124m  Keyword arguments: \u001b[39m\u001b[38;5;132;01m{}\u001b[39;00m\u001b[38;5;124m\"\u001b[39m\n\u001b[1;32m    288\u001b[0m       \u001b[38;5;241m.\u001b[39mformat(index \u001b[38;5;241m+\u001b[39m \u001b[38;5;241m1\u001b[39m, _pretty_format_positional(positional), keyword))\n\u001b[0;32m--> 289\u001b[0m \u001b[38;5;28;01mraise\u001b[39;00m \u001b[38;5;167;01mValueError\u001b[39;00m(\n\u001b[1;32m    290\u001b[0m     \u001b[38;5;124m\"\u001b[39m\u001b[38;5;124mCould not find matching concrete function to call loaded from the \u001b[39m\u001b[38;5;124m\"\u001b[39m\n\u001b[1;32m    291\u001b[0m     \u001b[38;5;124mf\u001b[39m\u001b[38;5;124m\"\u001b[39m\u001b[38;5;124mSavedModel. Got:\u001b[39m\u001b[38;5;130;01m\\n\u001b[39;00m\u001b[38;5;124m  \u001b[39m\u001b[38;5;132;01m{\u001b[39;00m_pretty_format_positional(args)\u001b[38;5;132;01m}\u001b[39;00m\u001b[38;5;130;01m\\n\u001b[39;00m\u001b[38;5;124m  Keyword \u001b[39m\u001b[38;5;124m\"\u001b[39m\n\u001b[1;32m    292\u001b[0m     \u001b[38;5;124mf\u001b[39m\u001b[38;5;124m\"\u001b[39m\u001b[38;5;124marguments: \u001b[39m\u001b[38;5;132;01m{\u001b[39;00mkwargs\u001b[38;5;132;01m}\u001b[39;00m\u001b[38;5;130;01m\\n\u001b[39;00m\u001b[38;5;130;01m\\n\u001b[39;00m\u001b[38;5;124m Expected these arguments to match one of the \u001b[39m\u001b[38;5;124m\"\u001b[39m\n\u001b[1;32m    293\u001b[0m     \u001b[38;5;124mf\u001b[39m\u001b[38;5;124m\"\u001b[39m\u001b[38;5;124mfollowing \u001b[39m\u001b[38;5;132;01m{\u001b[39;00m\u001b[38;5;28mlen\u001b[39m(saved_function\u001b[38;5;241m.\u001b[39mconcrete_functions)\u001b[38;5;132;01m}\u001b[39;00m\u001b[38;5;124m option(s):\u001b[39m\u001b[38;5;130;01m\\n\u001b[39;00m\u001b[38;5;130;01m\\n\u001b[39;00m\u001b[38;5;124m\"\u001b[39m\n\u001b[1;32m    294\u001b[0m     \u001b[38;5;124mf\u001b[39m\u001b[38;5;124m\"\u001b[39m\u001b[38;5;132;01m{\u001b[39;00m(\u001b[38;5;28mchr\u001b[39m(\u001b[38;5;241m10\u001b[39m)\u001b[38;5;241m+\u001b[39m\u001b[38;5;28mchr\u001b[39m(\u001b[38;5;241m10\u001b[39m))\u001b[38;5;241m.\u001b[39mjoin(signature_descriptions)\u001b[38;5;132;01m}\u001b[39;00m\u001b[38;5;124m\"\u001b[39m)\n",
      "\u001b[0;31mValueError\u001b[0m: Exception encountered when calling layer \"edge_update\" (type EdgeUpdate).\n\nCould not find matching concrete function to call loaded from the SavedModel. Got:\n  Positional arguments (2 total):\n    * [<tf.Tensor 'inputs:0' shape=(None, None, 256) dtype=float32>, <tf.Tensor 'inputs_1:0' shape=(None, None, 256) dtype=float32>, <tf.Tensor 'inputs_2:0' shape=(None, None, 2) dtype=int64>]\n    * [<tf.Tensor 'mask:0' shape=(None, None) dtype=bool>, None, None]\n  Keyword arguments: {'training': False}\n\n Expected these arguments to match one of the following 2 option(s):\n\nOption 1:\n  Positional arguments (2 total):\n    * [TensorSpec(shape=(None, None, 256), dtype=tf.float32, name='inputs/0'), TensorSpec(shape=(None, None, 256), dtype=tf.float32, name='inputs/1'), TensorSpec(shape=(None, None, 2), dtype=tf.int64, name='inputs/2')]\n    * [TensorSpec(shape=(None, None), dtype=tf.bool, name='mask/0'), TensorSpec(shape=(None, None), dtype=tf.bool, name='mask/1'), None]\n  Keyword arguments: {'training': False}\n\nOption 2:\n  Positional arguments (2 total):\n    * [TensorSpec(shape=(None, None, 256), dtype=tf.float32, name='inputs/0'), TensorSpec(shape=(None, None, 256), dtype=tf.float32, name='inputs/1'), TensorSpec(shape=(None, None, 2), dtype=tf.int64, name='inputs/2')]\n    * [TensorSpec(shape=(None, None), dtype=tf.bool, name='mask/0'), TensorSpec(shape=(None, None), dtype=tf.bool, name='mask/1'), None]\n  Keyword arguments: {'training': True}\n\nCall arguments received:\n  • args=(['tf.Tensor(shape=(None, None, 256), dtype=float32)', 'tf.Tensor(shape=(None, None, 256), dtype=float32)', 'tf.Tensor(shape=(None, None, 2), dtype=int64)'],)\n  • kwargs={'mask': ['tf.Tensor(shape=(None, None), dtype=bool)', 'None', 'None'], 'training': 'None'}"
     ]
    }
   ],
   "source": [
    "# convert data to dask format\n",
    "df_dask = dd.from_pandas(df_ids, chunksize=10)\n",
    "\n",
    "results = df_dask.decor_id.map_partitions(\n",
    "    lambda row: row.apply(\n",
    "        lambda x: rew_decors.compute_reward(x, rewarder, info_to_keep)), \n",
    "    meta=pd.Series(tuple(np.zeros(5)))\n",
    ")\n",
    "\n",
    "with dask_cluster(debug=True):\n",
    "    finished = results.compute()"
   ]
  },
  {
   "cell_type": "code",
   "execution_count": null,
   "id": "d185f12e-e6c4-4b7c-ac10-ba5d5b1c6fc1",
   "metadata": {},
   "outputs": [],
   "source": []
  }
 ],
 "metadata": {
  "kernelspec": {
   "display_name": "Python 3 (ipykernel)",
   "language": "python",
   "name": "python3"
  },
  "language_info": {
   "codemirror_mode": {
    "name": "ipython",
    "version": 3
   },
   "file_extension": ".py",
   "mimetype": "text/x-python",
   "name": "python",
   "nbconvert_exporter": "python",
   "pygments_lexer": "ipython3",
   "version": "3.8.13"
  }
 },
 "nbformat": 4,
 "nbformat_minor": 5
}
