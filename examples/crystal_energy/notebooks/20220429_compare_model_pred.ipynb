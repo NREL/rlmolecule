{
 "cells": [
  {
   "cell_type": "code",
   "execution_count": 97,
   "id": "6117c777-09de-4485-9fb9-d3eb8ad7f7d6",
   "metadata": {},
   "outputs": [],
   "source": [
    "import os\n",
    "import sys\n",
    "from pathlib import Path\n",
    "import json\n",
    "import gzip\n",
    "from glob import glob\n",
    "import tarfile\n",
    "import re\n",
    "import numpy as np\n",
    "# import psycopg2\n",
    "import sqlalchemy\n",
    "from tqdm.notebook import tqdm\n",
    "tqdm.pandas()\n",
    "import pandas as pd\n",
    "from collections import defaultdict\n",
    "from collections import Counter\n",
    "from pymatgen.core import Structure\n",
    "\n",
    "import matplotlib.pyplot as plt\n",
    "import seaborn as sns\n",
    "sns.set(\n",
    "    context='paper',\n",
    "    font_scale=8/8.8,\n",
    "#     context=\"talk\",\n",
    "    style='ticks',\n",
    "    color_codes=True,\n",
    "    rc={'legend.frameon': False})\n",
    "\n",
    "plt.rcParams['svg.fonttype'] = 'none'\n",
    "\n",
    "%matplotlib inline"
   ]
  },
  {
   "cell_type": "code",
   "execution_count": 2,
   "id": "15ff4bde-e5cb-42c0-a7b7-118aa4891f7e",
   "metadata": {},
   "outputs": [],
   "source": [
    "import datashader as ds\n",
    "from datashader.mpl_ext import dsshow\n",
    "import datashader.transfer_functions as dstf"
   ]
  },
  {
   "cell_type": "code",
   "execution_count": 3,
   "id": "48b6813d-1685-4912-b454-633c4731c0c7",
   "metadata": {},
   "outputs": [
    {
     "name": "stdout",
     "output_type": "stream",
     "text": [
      "1.22.1\n",
      "1.3.5\n"
     ]
    }
   ],
   "source": [
    "print(np.__version__)\n",
    "print(pd.__version__)"
   ]
  },
  {
   "cell_type": "code",
   "execution_count": 4,
   "id": "fe4495e2-b894-44be-a44c-8021d7f2dc72",
   "metadata": {},
   "outputs": [
    {
     "name": "stderr",
     "output_type": "stream",
     "text": [
      "2022-05-10 11:01:37.493516: W tensorflow/stream_executor/platform/default/dso_loader.cc:64] Could not load dynamic library 'libcudart.so.11.0'; dlerror: libcudart.so.11.0: cannot open shared object file: No such file or directory; LD_LIBRARY_PATH: /nopt/slurm/current/lib:\n",
      "2022-05-10 11:01:37.493549: I tensorflow/stream_executor/cuda/cudart_stub.cc:29] Ignore above cudart dlerror if you do not have a GPU set up on your machine.\n"
     ]
    },
    {
     "name": "stdout",
     "output_type": "stream",
     "text": [
      "0.3.6\n"
     ]
    }
   ],
   "source": [
    "import nfp\n",
    "print(nfp.__version__)\n",
    "from nfp import custom_objects\n",
    "from nfp.layers import RBFExpansion\n",
    "from nfp.preprocessing.crystal_preprocessor import PymatgenPreprocessor"
   ]
  },
  {
   "cell_type": "code",
   "execution_count": 5,
   "id": "2d4e417c-b64c-4a0e-bad6-8f0661cb2eb7",
   "metadata": {},
   "outputs": [
    {
     "name": "stdout",
     "output_type": "stream",
     "text": [
      "2.7.0\n"
     ]
    }
   ],
   "source": [
    "import tensorflow as tf\n",
    "print(tf.__version__)\n",
    "import tensorflow_addons as tfa"
   ]
  },
  {
   "cell_type": "code",
   "execution_count": 6,
   "id": "4ecaff33-48a0-419e-ab93-82290e6a8ff9",
   "metadata": {},
   "outputs": [],
   "source": [
    "os.chdir('../')"
   ]
  },
  {
   "cell_type": "code",
   "execution_count": 58,
   "id": "ae15860d-7c9e-49b5-a46d-6e76ee4c3f60",
   "metadata": {},
   "outputs": [],
   "source": [
    "import os\n",
    "# os.chdir('../')\n",
    "base_dir = \"/projects/rlmolecule/jlaw/projects/crystal-gnn-nfp-0.3-fork\"\n",
    "os.chdir(\"/projects/rlmolecule/jlaw/projects/crystal-gnn-nfp-0.3-fork\")\n",
    "from src import utils\n",
    "import eval_test"
   ]
  },
  {
   "cell_type": "markdown",
   "id": "0626f2b3-2a1a-45f4-b9f8-d10627027ea0",
   "metadata": {},
   "source": [
    "### Load the unrelaxed and relaxed structures from the MCTS runs"
   ]
  },
  {
   "cell_type": "code",
   "execution_count": 114,
   "id": "656f91d6-01a4-47bd-be24-57ab7d8729cb",
   "metadata": {},
   "outputs": [],
   "source": [
    "mcts_outputs = [\n",
    "    {\"run_id\": \"20220504/batt-icsd-volpred-KLiNa\",\n",
    "     \"unrelaxed_strcs\": \"/projects/rlmolecule/jlaw/crystal_outputs/2022-05-04/batt-icsd-volpred-KLiNa/best_decorations.p\", \n",
    "     \"decomp_energy_file\": \"/projects/rlmolecule/jlaw/crystal_outputs/2022-05-04/batt-icsd-volpred-KLiNa/decomp_energy.csv\",\n",
    "     # \"relaxed_strcs\": \"/projects/rlmolecule/jlaw/crystal_outputs/2022-05-04/batt-icsd-volpred-KLiNa/best_decorations.p\",\n",
    "     \"relaxed_strcs_dir\": \"/projects/rlmolecule/pgorai/mcts_validation_05122022/relaxed_structures_2/\",\n",
    "    },\n",
    "    {\"run_id\": \"20220504/batt-volpred-KLiNa\",\n",
    "     \"unrelaxed_strcs\": \"/projects/rlmolecule/jlaw/crystal_outputs/2022-05-04/volpred-KLiNa/best_decorations.p\", \n",
    "     \"decomp_energy_file\": \"/projects/rlmolecule/jlaw/crystal_outputs/2022-05-04/volpred-KLiNa/decomp_energy.csv\",\n",
    "     \"relaxed_strcs_dir\": \"/projects/rlmolecule/pgorai/mcts_validation_05122022/relaxed_structures_3/\",\n",
    "    },\n",
    "    {\"run_id\": \"20220509-rel-energy-cos-dist0.1-eles3-Li\",\n",
    "     \"unrelaxed_strcs\": \"/projects/rlmolecule/jlaw/crystal_outputs/2022-05-09-batt-icsd-cos-dist-Li/best_decorations.p\", \n",
    "     \"decomp_energy_file\": \"/projects/rlmolecule/jlaw/crystal_outputs/2022-05-09-batt-icsd-cos-dist-Li/decomp_energy.csv\",\n",
    "     \"relaxed_strcs_dir\": \"/projects/rlmolecule/pgorai/mcts_validation_05122022/relaxed_structures_1/\",\n",
    "    },\n",
    "    # 20220422-batt-icsd-volpred-combined\n",
    "    {\"run_id\": \"2022-04-27-batt-icsd-vol-combined\",\n",
    "     \"unrelaxed_strcs\": \"/projects/rlmolecule/jlaw/crystal_outputs/2022-04-27-batt-icsd-vol-combined/best_decorations.p\", \n",
    "     \"decomp_energy_file\": \"/projects/rlmolecule/jlaw/crystal_outputs/2022-04-27-batt-icsd-vol-combined/viz/pred_vs_dft.csv\",\n",
    "     \"relaxed_strcs_dir\": \"/projects/rlmolecule/pgorai/mcts_validation_04282022/relaxed_structures.tar.gz\",\n",
    "    },\n",
    "    # 20220422-batt-icsd-vol-2 - combined\n",
    "    {\"run_id\": \"2022-04-26-batt-icsd-vol-combined\",\n",
    "     \"unrelaxed_strcs\": \"/projects/rlmolecule/jlaw/crystal_outputs/2022-04-26-batt-icsd-vol-combined/best_decorations\", \n",
    "     \"decomp_energy_file\": \"/projects/rlmolecule/jlaw/crystal_outputs/2022-04-26-batt-icsd-vol-combined/viz/pred_vs_dft.csv\",\n",
    "     \"relaxed_strcs_dir\": \"/projects/rlmolecule/pgorai/mcts_validation_04262022/relaxed_structures.tar.gz\",\n",
    "    },\n",
    "    # 2022-01-25-run4\n",
    "    {\"run_id\": \"2022-01-25-run4\",\n",
    "     \"unrelaxed_strcs\": \"/projects/rlmolecule/jlaw/crystal_outputs/2022-01-25-run4/all\", \n",
    "     \"decomp_energy_file\": \"/projects/rlmolecule/jlaw/crystal_outputs/2022-01-25-run4/viz/pred_vs_dft.csv\",\n",
    "     \"relaxed_strcs_dir\": \"/projects/rlmolecule/pgorai/mcts_validation/relaxed4-structure\",\n",
    "    },\n",
    "    # 2022-01-21-run2-3\n",
    "    {\"run_id\": \"2022-01-21-run2-3\",\n",
    "     \"unrelaxed_strcs\": \"/projects/rlmolecule/jlaw/crystal_outputs/2022-01-21-run2-3/all\", \n",
    "     \"decomp_energy_file\": \"/projects/rlmolecule/jlaw/crystal_outputs/2022-01-21-run2-3/viz/pred_vs_dft.csv\",\n",
    "     \"relaxed_strcs_dir\": \"/projects/rlmolecule/pgorai/mcts_validation/relaxed2-structure\",\n",
    "    },\n",
    "    # 2022-01-18-run1\n",
    "    {\"run_id\": \"2022-01-18-run1\",\n",
    "     \"unrelaxed_strcs\": \"/projects/rlmolecule/jlaw/crystal_outputs/2022-01-18-run1/rel-energy-cos-dist0.1-eles3-combined-rew1\", \n",
    "     \"decomp_energy_file\": \"/projects/rlmolecule/jlaw/crystal_outputs/2022-01-18-run1/viz/pred_vs_dft.csv\",\n",
    "     \"relaxed_strcs_dir\": \"/projects/rlmolecule/pgorai/mcts_validation/relaxed-structure\",\n",
    "    },\n",
    "]\n"
   ]
  },
  {
   "cell_type": "code",
   "execution_count": 106,
   "id": "f91b4fc6-55d7-4241-8806-1103c5dec255",
   "metadata": {},
   "outputs": [],
   "source": [
    "def extract_strc_from_tar(tar, filename):\n",
    "    f = tar.extractfile(filename)\n",
    "    contents = f.read().decode()\n",
    "    strc = Structure.from_str(contents, fmt='poscar')\n",
    "    return strc"
   ]
  },
  {
   "cell_type": "code",
   "execution_count": 171,
   "id": "1270567d-d4aa-42bc-8ee2-063ad199d7c6",
   "metadata": {},
   "outputs": [
    {
     "name": "stdout",
     "output_type": "stream",
     "text": [
      "20220504/batt-icsd-volpred-KLiNa\n"
     ]
    },
    {
     "data": {
      "application/vnd.jupyter.widget-view+json": {
       "model_id": "78e6fc21df6b43b18e7de6780694d50b",
       "version_major": 2,
       "version_minor": 0
      },
      "text/plain": [
       "  0%|          | 0/37 [00:00<?, ?it/s]"
      ]
     },
     "metadata": {},
     "output_type": "display_data"
    },
    {
     "name": "stdout",
     "output_type": "stream",
     "text": [
      "Li1Sc1F4_sg13_icsd_082364_1    [[2.40109714 2.05559953 1.36646387] Li, [2.361...\n",
      "K1Sc1Br4_sg63_icsd_060615_1    [[ 5.46534134 10.87846906  2.59923626] K, [5.4...\n",
      "dtype: object\n",
      "20220504/batt-volpred-KLiNa\n"
     ]
    },
    {
     "data": {
      "application/vnd.jupyter.widget-view+json": {
       "model_id": "b7bd79a566c848ae9f9528da65764ba8",
       "version_major": 2,
       "version_minor": 0
      },
      "text/plain": [
       "  0%|          | 0/27 [00:00<?, ?it/s]"
      ]
     },
     "metadata": {},
     "output_type": "display_data"
    },
    {
     "name": "stdout",
     "output_type": "stream",
     "text": [
      "K2Y1Br5_sg166_icsd_084763_1    [[2.60108470e+00 4.50521157e+00 1.06315370e-07...\n",
      "Li1Sc1F4_sg65_icsd_016492_2    [[5.08638221 2.55256789 2.5639804 ] Sc, [2.543...\n",
      "dtype: object\n",
      "20220509-rel-energy-cos-dist0.1-eles3-Li\n"
     ]
    },
    {
     "data": {
      "application/vnd.jupyter.widget-view+json": {
       "model_id": "76f9d7fb2bbd4a5785105c2fc363eb21",
       "version_major": 2,
       "version_minor": 0
      },
      "text/plain": [
       "  0%|          | 0/13 [00:00<?, ?it/s]"
      ]
     },
     "metadata": {},
     "output_type": "display_data"
    },
    {
     "name": "stdout",
     "output_type": "stream",
     "text": [
      "Li1Sc1F4_sg82_icsd_044801_1        [[ 2.55732632e+00 -2.10689158e-05  4.10320904e...\n",
      "Li1Sc2Br6I1_sg225_icsd_033621_1    [[5.29254802 5.29254769 5.29254782] I, [ 5.292...\n",
      "dtype: object\n",
      "2022-04-27-batt-icsd-vol-combined\n",
      "Na1Cd1Cl1Br2_sg140_icsd_411137_3    [[4.10904090e+00 1.54345452e-07 2.33230702e+00...\n",
      "Li2F1Cl1_sg180_icsd_090403_1        [[1.51283716 2.62030625 5.53769908] F, [ 3.025...\n",
      "dtype: object\n",
      "2022-04-26-batt-icsd-vol-combined\n"
     ]
    },
    {
     "data": {
      "application/vnd.jupyter.widget-view+json": {
       "model_id": "fd393d9c9c3d429b97f37d987f648dd5",
       "version_major": 2,
       "version_minor": 0
      },
      "text/plain": [
       "  0%|          | 0/378 [00:00<?, ?it/s]"
      ]
     },
     "metadata": {},
     "output_type": "display_data"
    },
    {
     "name": "stdout",
     "output_type": "stream",
     "text": [
      "Na5Cl1I4_sg81_icsd_407646_1     [[1.89749185 6.20028484 3.7026767 ] Cl, [8.679...\n",
      "Li2F1Cl1_sg198_icsd_166256_2    [[1.87325965 4.12151583 4.00667123] Cl, [4.954...\n",
      "dtype: object\n",
      "2022-01-25-run4\n"
     ]
    },
    {
     "data": {
      "application/vnd.jupyter.widget-view+json": {
       "model_id": "62173260a0b54fc49ebd5fa43c357a8b",
       "version_major": 2,
       "version_minor": 0
      },
      "text/plain": [
       "  0%|          | 0/80 [00:00<?, ?it/s]"
      ]
     },
     "metadata": {},
     "output_type": "display_data"
    },
    {
     "data": {
      "application/vnd.jupyter.widget-view+json": {
       "model_id": "e1cdca691e7442478f413ca11dcc2e84",
       "version_major": 2,
       "version_minor": 0
      },
      "text/plain": [
       "  0%|          | 0/38 [00:00<?, ?it/s]"
      ]
     },
     "metadata": {},
     "output_type": "display_data"
    },
    {
     "name": "stdout",
     "output_type": "stream",
     "text": [
      "Mg1P1Sb1O5S1_sg62_icsd_281591_16    [[8.30045734 2.50599134 5.1990762 ] Mg, [4.086...\n",
      "Mg1P1Sb1O5S1_sg62_icsd_281591_8     [[3.26140598 1.87762498 3.98081059] P, [9.7099...\n",
      "dtype: object\n",
      "2022-01-21-run2-3\n"
     ]
    },
    {
     "data": {
      "application/vnd.jupyter.widget-view+json": {
       "model_id": "6759d8147c2d47cfa1cff2ac542ca029",
       "version_major": 2,
       "version_minor": 0
      },
      "text/plain": [
       "  0%|          | 0/191 [00:00<?, ?it/s]"
      ]
     },
     "metadata": {},
     "output_type": "display_data"
    },
    {
     "data": {
      "application/vnd.jupyter.widget-view+json": {
       "model_id": "a4c4142e9003498dbf7f82eb39c7700a",
       "version_major": 2,
       "version_minor": 0
      },
      "text/plain": [
       "  0%|          | 0/166 [00:00<?, ?it/s]"
      ]
     },
     "metadata": {},
     "output_type": "display_data"
    },
    {
     "name": "stdout",
     "output_type": "stream",
     "text": [
      "Li1Sc1F4_sg141_icsd_020383_2    [[6.65152483 3.32576112 4.77256248] Li, [6.651...\n",
      "Li1Sc1F4_sg59_icsd_054122_2     [[3.14834647 4.83330749 4.79082002] Li, [6.296...\n",
      "dtype: object\n",
      "2022-01-18-run1\n"
     ]
    },
    {
     "data": {
      "application/vnd.jupyter.widget-view+json": {
       "model_id": "99ec94a3719041bd85bc98dd691bba64",
       "version_major": 2,
       "version_minor": 0
      },
      "text/plain": [
       "  0%|          | 0/306 [00:00<?, ?it/s]"
      ]
     },
     "metadata": {},
     "output_type": "display_data"
    },
    {
     "data": {
      "application/vnd.jupyter.widget-view+json": {
       "model_id": "b2822b86dc664d5c81637f543caa3686",
       "version_major": 2,
       "version_minor": 0
      },
      "text/plain": [
       "  0%|          | 0/216 [00:00<?, ?it/s]"
      ]
     },
     "metadata": {},
     "output_type": "display_data"
    },
    {
     "name": "stdout",
     "output_type": "stream",
     "text": [
      "Li1Sc1F4_sg119_icsd_162670_1    [[2.42186886 0.27909996 7.42731144] Sc, [0.347...\n",
      "Li1Sc1F4_sg216_icsd_002457_1    [[2.09511943 2.09511979 6.28535932] Li, [2.095...\n",
      "dtype: object\n"
     ]
    },
    {
     "data": {
      "text/html": [
       "<div>\n",
       "<style scoped>\n",
       "    .dataframe tbody tr th:only-of-type {\n",
       "        vertical-align: middle;\n",
       "    }\n",
       "\n",
       "    .dataframe tbody tr th {\n",
       "        vertical-align: top;\n",
       "    }\n",
       "\n",
       "    .dataframe thead th {\n",
       "        text-align: right;\n",
       "    }\n",
       "</style>\n",
       "<table border=\"1\" class=\"dataframe\">\n",
       "  <thead>\n",
       "    <tr style=\"text-align: right;\">\n",
       "      <th></th>\n",
       "      <th>decor_id</th>\n",
       "      <th>reward</th>\n",
       "      <th>pred_decomp_energy</th>\n",
       "      <th>pred_energyperatom</th>\n",
       "      <th>comp</th>\n",
       "      <th>unrel_structure</th>\n",
       "      <th>dls_volume</th>\n",
       "      <th>energyperatom</th>\n",
       "      <th>decomp_energy</th>\n",
       "      <th>rel_structure</th>\n",
       "      <th>...</th>\n",
       "      <th>volume</th>\n",
       "      <th>decoration</th>\n",
       "      <th>numatoms</th>\n",
       "      <th>relaxedvolume</th>\n",
       "      <th>comp_y</th>\n",
       "      <th>pred_energyperatom_y</th>\n",
       "      <th>pred_decomp_energy_y</th>\n",
       "      <th>ediff</th>\n",
       "      <th>cos_dist</th>\n",
       "      <th>Cosine Dist.</th>\n",
       "    </tr>\n",
       "    <tr>\n",
       "      <th>id</th>\n",
       "      <th></th>\n",
       "      <th></th>\n",
       "      <th></th>\n",
       "      <th></th>\n",
       "      <th></th>\n",
       "      <th></th>\n",
       "      <th></th>\n",
       "      <th></th>\n",
       "      <th></th>\n",
       "      <th></th>\n",
       "      <th></th>\n",
       "      <th></th>\n",
       "      <th></th>\n",
       "      <th></th>\n",
       "      <th></th>\n",
       "      <th></th>\n",
       "      <th></th>\n",
       "      <th></th>\n",
       "      <th></th>\n",
       "      <th></th>\n",
       "      <th></th>\n",
       "    </tr>\n",
       "  </thead>\n",
       "  <tbody>\n",
       "    <tr>\n",
       "      <th>Zn1Sc1F4I1_sg216_icsd_020805_6</th>\n",
       "      <td>NaN</td>\n",
       "      <td>NaN</td>\n",
       "      <td>-1.253</td>\n",
       "      <td>-4.861718</td>\n",
       "      <td>NaN</td>\n",
       "      <td>[[0. 0. 0.] I, [0.    4.159 4.159] I, [4.159 0...</td>\n",
       "      <td>NaN</td>\n",
       "      <td>-4.768521</td>\n",
       "      <td>-1.159</td>\n",
       "      <td>[[8.98567524 8.9856744  8.98567361] I, [8.9856...</td>\n",
       "      <td>...</td>\n",
       "      <td>NaN</td>\n",
       "      <td>NaN</td>\n",
       "      <td>NaN</td>\n",
       "      <td>NaN</td>\n",
       "      <td>NaN</td>\n",
       "      <td>NaN</td>\n",
       "      <td>NaN</td>\n",
       "      <td>NaN</td>\n",
       "      <td>0.000036</td>\n",
       "      <td>&lt;= .1</td>\n",
       "    </tr>\n",
       "    <tr>\n",
       "      <th>Na1Y2Br7_sg225_icsd_260147_1</th>\n",
       "      <td>NaN</td>\n",
       "      <td>NaN</td>\n",
       "      <td>-1.083</td>\n",
       "      <td>-3.890865</td>\n",
       "      <td>NaN</td>\n",
       "      <td>[[0. 0. 0.] Na, [0.    4.115 4.115] Na, [4.115...</td>\n",
       "      <td>NaN</td>\n",
       "      <td>-3.820848</td>\n",
       "      <td>-1.013</td>\n",
       "      <td>[[1.41675389e-06 2.34991617e-06 5.90017262e-06...</td>\n",
       "      <td>...</td>\n",
       "      <td>NaN</td>\n",
       "      <td>NaN</td>\n",
       "      <td>NaN</td>\n",
       "      <td>NaN</td>\n",
       "      <td>NaN</td>\n",
       "      <td>NaN</td>\n",
       "      <td>NaN</td>\n",
       "      <td>NaN</td>\n",
       "      <td>0.304213</td>\n",
       "      <td>&gt; .1</td>\n",
       "    </tr>\n",
       "  </tbody>\n",
       "</table>\n",
       "<p>2 rows × 21 columns</p>\n",
       "</div>"
      ],
      "text/plain": [
       "                               decor_id  reward  pred_decomp_energy  \\\n",
       "id                                                                    \n",
       "Zn1Sc1F4I1_sg216_icsd_020805_6      NaN     NaN              -1.253   \n",
       "Na1Y2Br7_sg225_icsd_260147_1        NaN     NaN              -1.083   \n",
       "\n",
       "                                pred_energyperatom comp  \\\n",
       "id                                                        \n",
       "Zn1Sc1F4I1_sg216_icsd_020805_6           -4.861718  NaN   \n",
       "Na1Y2Br7_sg225_icsd_260147_1             -3.890865  NaN   \n",
       "\n",
       "                                                                  unrel_structure  \\\n",
       "id                                                                                  \n",
       "Zn1Sc1F4I1_sg216_icsd_020805_6  [[0. 0. 0.] I, [0.    4.159 4.159] I, [4.159 0...   \n",
       "Na1Y2Br7_sg225_icsd_260147_1    [[0. 0. 0.] Na, [0.    4.115 4.115] Na, [4.115...   \n",
       "\n",
       "                                dls_volume  energyperatom  decomp_energy  \\\n",
       "id                                                                         \n",
       "Zn1Sc1F4I1_sg216_icsd_020805_6         NaN      -4.768521         -1.159   \n",
       "Na1Y2Br7_sg225_icsd_260147_1           NaN      -3.820848         -1.013   \n",
       "\n",
       "                                                                    rel_structure  \\\n",
       "id                                                                                  \n",
       "Zn1Sc1F4I1_sg216_icsd_020805_6  [[8.98567524 8.9856744  8.98567361] I, [8.9856...   \n",
       "Na1Y2Br7_sg225_icsd_260147_1    [[1.41675389e-06 2.34991617e-06 5.90017262e-06...   \n",
       "\n",
       "                                ... volume  decoration numatoms  \\\n",
       "id                              ...                               \n",
       "Zn1Sc1F4I1_sg216_icsd_020805_6  ...    NaN         NaN      NaN   \n",
       "Na1Y2Br7_sg225_icsd_260147_1    ...    NaN         NaN      NaN   \n",
       "\n",
       "                                relaxedvolume  comp_y pred_energyperatom_y  \\\n",
       "id                                                                           \n",
       "Zn1Sc1F4I1_sg216_icsd_020805_6            NaN     NaN                  NaN   \n",
       "Na1Y2Br7_sg225_icsd_260147_1              NaN     NaN                  NaN   \n",
       "\n",
       "                                pred_decomp_energy_y  ediff  cos_dist  \\\n",
       "id                                                                      \n",
       "Zn1Sc1F4I1_sg216_icsd_020805_6                   NaN    NaN  0.000036   \n",
       "Na1Y2Br7_sg225_icsd_260147_1                     NaN    NaN  0.304213   \n",
       "\n",
       "                                Cosine Dist.  \n",
       "id                                            \n",
       "Zn1Sc1F4I1_sg216_icsd_020805_6         <= .1  \n",
       "Na1Y2Br7_sg225_icsd_260147_1            > .1  \n",
       "\n",
       "[2 rows x 21 columns]"
      ]
     },
     "execution_count": 171,
     "metadata": {},
     "output_type": "execute_result"
    }
   ],
   "source": [
    "# load the structures from each MCTS run\n",
    "run_data = pd.DataFrame()\n",
    "for i, run in enumerate(mcts_outputs):\n",
    "    print(run['run_id'])\n",
    "    if run['unrelaxed_strcs'].endswith('.p'):\n",
    "        unrelaxed_strcs = pd.read_pickle(run['unrelaxed_strcs'])\n",
    "        unrelaxed_strcs.rename(columns={\"structure\": \"unrel_structure\"}, inplace=True)\n",
    "    # must be a directory, so load each structure\n",
    "    else:\n",
    "        unrelaxed_strcs = {}\n",
    "        for f in tqdm(glob(f\"{run['unrelaxed_strcs']}/POSCAR*\")):\n",
    "            strc = Structure.from_file(f, primitive=True)\n",
    "            strc_id = os.path.basename(f).replace(\"POSCAR_\", \"\")\n",
    "            unrelaxed_strcs[strc_id] = strc\n",
    "        unrelaxed_strcs = pd.Series(unrelaxed_strcs)\n",
    "    \n",
    "    energy_data = pd.read_csv(run['decomp_energy_file'], index_col=0)\n",
    "    if 'id' not in energy_data.columns:\n",
    "        energy_data = energy_data.reset_index().rename(columns={\"index\": 'id'})\n",
    "    # print(energy_data.head(2))\n",
    "    # data = pd.merge(unrelaxed_strcs.set_index(unrelaxed_strcs.columns[0])\n",
    "    if run['unrelaxed_strcs'].endswith('.p'):\n",
    "        data = pd.merge(unrelaxed_strcs, energy_data, left_on='id', right_on='id', suffixes=('', '_y'))\n",
    "        data.set_index('id', inplace=True)\n",
    "    else:\n",
    "        data = energy_data.set_index('id')\n",
    "        data['unrel_structure'] = unrelaxed_strcs\n",
    "    \n",
    "    # now load the relaxed structures\n",
    "    if 'relaxed_strcs_dir' in run:\n",
    "        relaxed_strcs = {}\n",
    "        failed = set()\n",
    "        if run['relaxed_strcs_dir'].endswith('.tar.gz'):\n",
    "            with tarfile.open(run['relaxed_strcs_dir'], \"r:gz\") as tar:\n",
    "                for tarinfo in tar:\n",
    "                    # print(f\"{tarinfo.name} is {tarinfo.size} bytes in size and is: \")\n",
    "                    if len(tarinfo.name.split('/')) == 3:\n",
    "                        strc_id = tarinfo.name.split('/')[-1]\n",
    "                        # print(strc_id)\n",
    "                    if str(tarinfo.name).endswith(\"POSCAR\"):\n",
    "                        try:\n",
    "                            strc = extract_strc_from_tar(tar, tarinfo.name)\n",
    "                            relaxed_strcs[strc_id] = strc\n",
    "                        except ValueError:\n",
    "                            failed.add(strc_id)\n",
    "                    if str(tarinfo.name).endswith(\"CONTCAR\"):\n",
    "                        raise ValueError(\"Was not expecting CONTCAR\")\n",
    "                    # TODO check for \"distance between some ions is very small\"\n",
    "        else:\n",
    "            strc_files = list(glob(f\"{run['relaxed_strcs_dir']}/*/*/POSCAR\"))\n",
    "            if len(strc_files) == 0:\n",
    "                strc_files = list(glob(f\"{run['relaxed_strcs_dir']}/*/*/CONTCAR\"))\n",
    "                \n",
    "            for f in tqdm(strc_files):\n",
    "                strc = Structure.from_file(f, primitive=True)\n",
    "                strc_id = f.split('/')[-2]\n",
    "                relaxed_strcs[strc_id] = strc\n",
    "        relaxed_strcs = pd.Series(relaxed_strcs)\n",
    "        print(relaxed_strcs.head(2))\n",
    "        data['rel_structure'] = relaxed_strcs\n",
    "    \n",
    "    data['run_id'] = run['run_id']\n",
    "    \n",
    "    run_data = pd.concat([run_data, data])\n",
    "    # break\n",
    "    \n",
    "run_data.tail(2)"
   ]
  },
  {
   "cell_type": "code",
   "execution_count": 172,
   "id": "c0dfa607-a3a0-4318-9edb-27e185e42fd0",
   "metadata": {},
   "outputs": [
    {
     "data": {
      "text/plain": [
       "Index(['decor_id', 'reward', 'pred_decomp_energy', 'pred_energyperatom',\n",
       "       'comp', 'unrel_structure', 'dls_volume', 'energyperatom',\n",
       "       'decomp_energy', 'rel_structure', 'run_id', 'volume', 'decoration',\n",
       "       'numatoms', 'relaxedvolume', 'comp_y', 'pred_energyperatom_y',\n",
       "       'pred_decomp_energy_y', 'ediff', 'cos_dist', 'Cosine Dist.'],\n",
       "      dtype='object')"
      ]
     },
     "execution_count": 172,
     "metadata": {},
     "output_type": "execute_result"
    }
   ],
   "source": [
    "run_data.columns"
   ]
  },
  {
   "cell_type": "code",
   "execution_count": 173,
   "id": "7578125e-708d-47c8-8e62-85e2c69d7793",
   "metadata": {},
   "outputs": [
    {
     "data": {
      "text/html": [
       "<div>\n",
       "<style scoped>\n",
       "    .dataframe tbody tr th:only-of-type {\n",
       "        vertical-align: middle;\n",
       "    }\n",
       "\n",
       "    .dataframe tbody tr th {\n",
       "        vertical-align: top;\n",
       "    }\n",
       "\n",
       "    .dataframe thead th {\n",
       "        text-align: right;\n",
       "    }\n",
       "</style>\n",
       "<table border=\"1\" class=\"dataframe\">\n",
       "  <thead>\n",
       "    <tr style=\"text-align: right;\">\n",
       "      <th></th>\n",
       "      <th>run_id</th>\n",
       "      <th>comp</th>\n",
       "      <th>energyperatom</th>\n",
       "      <th>decomp_energy</th>\n",
       "      <th>reward</th>\n",
       "      <th>unrel_structure</th>\n",
       "      <th>rel_structure</th>\n",
       "    </tr>\n",
       "    <tr>\n",
       "      <th>id</th>\n",
       "      <th></th>\n",
       "      <th></th>\n",
       "      <th></th>\n",
       "      <th></th>\n",
       "      <th></th>\n",
       "      <th></th>\n",
       "      <th></th>\n",
       "    </tr>\n",
       "  </thead>\n",
       "  <tbody>\n",
       "    <tr>\n",
       "      <th>K1Al2Br7_sg14_icsd_200871_1</th>\n",
       "      <td>20220504/batt-icsd-volpred-KLiNa</td>\n",
       "      <td>K1Al2Br7</td>\n",
       "      <td>-3.291</td>\n",
       "      <td>-1.087</td>\n",
       "      <td>1.045</td>\n",
       "      <td>[[ 4.02869029  8.40396858 11.17619603] Al, [ 1...</td>\n",
       "      <td>[[ 4.12377755  8.73829064 10.7814738 ] Al, [ 1...</td>\n",
       "    </tr>\n",
       "    <tr>\n",
       "      <th>K1Hf1Br5_sg62_icsd_418675_1</th>\n",
       "      <td>20220504/batt-icsd-volpred-KLiNa</td>\n",
       "      <td>K1Hf1Br5</td>\n",
       "      <td>-4.008</td>\n",
       "      <td>-1.179</td>\n",
       "      <td>1.141</td>\n",
       "      <td>[[10.45793139  5.98740196  9.68849231] K, [2.8...</td>\n",
       "      <td>[[11.61457197  5.78901635  8.17100474] K, [3.5...</td>\n",
       "    </tr>\n",
       "  </tbody>\n",
       "</table>\n",
       "</div>"
      ],
      "text/plain": [
       "                                                       run_id      comp  \\\n",
       "id                                                                        \n",
       "K1Al2Br7_sg14_icsd_200871_1  20220504/batt-icsd-volpred-KLiNa  K1Al2Br7   \n",
       "K1Hf1Br5_sg62_icsd_418675_1  20220504/batt-icsd-volpred-KLiNa  K1Hf1Br5   \n",
       "\n",
       "                             energyperatom  decomp_energy  reward  \\\n",
       "id                                                                  \n",
       "K1Al2Br7_sg14_icsd_200871_1         -3.291         -1.087   1.045   \n",
       "K1Hf1Br5_sg62_icsd_418675_1         -4.008         -1.179   1.141   \n",
       "\n",
       "                                                               unrel_structure  \\\n",
       "id                                                                               \n",
       "K1Al2Br7_sg14_icsd_200871_1  [[ 4.02869029  8.40396858 11.17619603] Al, [ 1...   \n",
       "K1Hf1Br5_sg62_icsd_418675_1  [[10.45793139  5.98740196  9.68849231] K, [2.8...   \n",
       "\n",
       "                                                                 rel_structure  \n",
       "id                                                                              \n",
       "K1Al2Br7_sg14_icsd_200871_1  [[ 4.12377755  8.73829064 10.7814738 ] Al, [ 1...  \n",
       "K1Hf1Br5_sg62_icsd_418675_1  [[11.61457197  5.78901635  8.17100474] K, [3.5...  "
      ]
     },
     "execution_count": 173,
     "metadata": {},
     "output_type": "execute_result"
    }
   ],
   "source": [
    "cols_to_keep = ['run_id', 'comp', 'energyperatom', 'decomp_energy', 'reward', 'unrel_structure', 'rel_structure']\n",
    "run_data = run_data[cols_to_keep]\n",
    "run_data.head(2)"
   ]
  },
  {
   "cell_type": "code",
   "execution_count": 175,
   "id": "a149e8b1-a298-4016-b80b-8ce09efcabac",
   "metadata": {},
   "outputs": [
    {
     "name": "stdout",
     "output_type": "stream",
     "text": [
      "1296 1296\n"
     ]
    }
   ],
   "source": [
    "print(len(run_data), len(run_data.dropna(subset=[\"unrel_structure\", \"energyperatom\", \"decomp_energy\"])))"
   ]
  },
  {
   "cell_type": "code",
   "execution_count": 176,
   "id": "2b7664e3-bd6d-41fa-b683-769aad9644ef",
   "metadata": {},
   "outputs": [
    {
     "data": {
      "application/vnd.jupyter.widget-view+json": {
       "model_id": "329ca62ca89f4993bcc9823d05c50501",
       "version_major": 2,
       "version_minor": 0
      },
      "text/plain": [
       "  0%|          | 0/142 [00:00<?, ?it/s]"
      ]
     },
     "metadata": {},
     "output_type": "display_data"
    },
    {
     "data": {
      "application/vnd.jupyter.widget-view+json": {
       "model_id": "b38585cf1eaf4140b5a4b2a70cc8390d",
       "version_major": 2,
       "version_minor": 0
      },
      "text/plain": [
       "  0%|          | 0/125 [00:00<?, ?it/s]"
      ]
     },
     "metadata": {},
     "output_type": "display_data"
    },
    {
     "data": {
      "text/html": [
       "<div>\n",
       "<style scoped>\n",
       "    .dataframe tbody tr th:only-of-type {\n",
       "        vertical-align: middle;\n",
       "    }\n",
       "\n",
       "    .dataframe tbody tr th {\n",
       "        vertical-align: top;\n",
       "    }\n",
       "\n",
       "    .dataframe thead th {\n",
       "        text-align: right;\n",
       "    }\n",
       "</style>\n",
       "<table border=\"1\" class=\"dataframe\">\n",
       "  <thead>\n",
       "    <tr style=\"text-align: right;\">\n",
       "      <th></th>\n",
       "      <th>total_energy</th>\n",
       "      <th>number of atoms in the structure</th>\n",
       "      <th>energyperatom</th>\n",
       "      <th>unrel_structure</th>\n",
       "      <th>rel_structure</th>\n",
       "      <th>comp</th>\n",
       "    </tr>\n",
       "    <tr>\n",
       "      <th>id</th>\n",
       "      <th></th>\n",
       "      <th></th>\n",
       "      <th></th>\n",
       "      <th></th>\n",
       "      <th></th>\n",
       "      <th></th>\n",
       "    </tr>\n",
       "  </thead>\n",
       "  <tbody>\n",
       "    <tr>\n",
       "      <th>Zn4Sn1P4_sg1_icsd_079005_2</th>\n",
       "      <td>-31.157697</td>\n",
       "      <td>9</td>\n",
       "      <td>-3.461966</td>\n",
       "      <td>[[4.09526316 2.06657517 0.66288569] Zn, [3.731...</td>\n",
       "      <td>[[4.55645676 3.55017525 1.40334204] Zn, [5.402...</td>\n",
       "      <td>Zn4Sn1P4</td>\n",
       "    </tr>\n",
       "    <tr>\n",
       "      <th>Li1Y1Zn4P4_sg4_icsd_075430_3</th>\n",
       "      <td>-75.979688</td>\n",
       "      <td>20</td>\n",
       "      <td>-3.798984</td>\n",
       "      <td>[[4.19441415 6.2399376  1.27151265] Y, [0.2086...</td>\n",
       "      <td>[[3.90191404 6.35150696 0.81608624] Y, [0.1068...</td>\n",
       "      <td>Li1Y1Zn4P4</td>\n",
       "    </tr>\n",
       "  </tbody>\n",
       "</table>\n",
       "</div>"
      ],
      "text/plain": [
       "                              total_energy  number of atoms in the structure  \\\n",
       "id                                                                             \n",
       "Zn4Sn1P4_sg1_icsd_079005_2      -31.157697                                 9   \n",
       "Li1Y1Zn4P4_sg4_icsd_075430_3    -75.979688                                20   \n",
       "\n",
       "                              energyperatom  \\\n",
       "id                                            \n",
       "Zn4Sn1P4_sg1_icsd_079005_2        -3.461966   \n",
       "Li1Y1Zn4P4_sg4_icsd_075430_3      -3.798984   \n",
       "\n",
       "                                                                unrel_structure  \\\n",
       "id                                                                                \n",
       "Zn4Sn1P4_sg1_icsd_079005_2    [[4.09526316 2.06657517 0.66288569] Zn, [3.731...   \n",
       "Li1Y1Zn4P4_sg4_icsd_075430_3  [[4.19441415 6.2399376  1.27151265] Y, [0.2086...   \n",
       "\n",
       "                                                                  rel_structure  \\\n",
       "id                                                                                \n",
       "Zn4Sn1P4_sg1_icsd_079005_2    [[4.55645676 3.55017525 1.40334204] Zn, [5.402...   \n",
       "Li1Y1Zn4P4_sg4_icsd_075430_3  [[3.90191404 6.35150696 0.81608624] Y, [0.1068...   \n",
       "\n",
       "                                    comp  \n",
       "id                                        \n",
       "Zn4Sn1P4_sg1_icsd_079005_2      Zn4Sn1P4  \n",
       "Li1Y1Zn4P4_sg4_icsd_075430_3  Li1Y1Zn4P4  "
      ]
     },
     "execution_count": 176,
     "metadata": {},
     "output_type": "execute_result"
    }
   ],
   "source": [
    "# one more previous run to load\n",
    "run_id = \"20211021-icsd-batt-unrel\"\n",
    "energy_df = pd.read_csv(\"/projects/rlmolecule/jlaw/logs/crystal_energy/hull_energy_batt_origlatt/relaxation_energy_Oct25.csv\", index_col=0)\n",
    "unrelaxed_strcs = {}\n",
    "for f in tqdm(glob(f\"/projects/rlmolecule/jlaw/logs/crystal_energy/hull_energy_batt_origlatt/best_decor_per_comp_rew2/POSCAR*\")):\n",
    "    strc = Structure.from_file(f, primitive=True)\n",
    "    strc_id = os.path.basename(f).replace(\"POSCAR_\", \"\")\n",
    "    unrelaxed_strcs[strc_id] = strc\n",
    "unrelaxed_strcs = pd.Series(unrelaxed_strcs)\n",
    "\n",
    "# now load the relaxed structures\n",
    "relaxed_strcs = {}\n",
    "for f in tqdm(glob(f\"/scratch/jiaxing/RL/relaxation/relaxed/POSCAR*/CONTCAR\")):\n",
    "    strc = Structure.from_file(f, primitive=True)\n",
    "    strc_id = os.path.basename(os.path.dirname(f)).replace(\"POSCAR_\", \"\")\n",
    "    relaxed_strcs[strc_id] = strc\n",
    "relaxed_strcs = pd.Series(relaxed_strcs)\n",
    "\n",
    "energy_df['unrel_structure'] = unrelaxed_strcs\n",
    "energy_df['rel_structure'] = relaxed_strcs\n",
    "energy_df['comp'] = energy_df.index.map(lambda x: x.split('_')[0])\n",
    "energy_df.head(2)"
   ]
  },
  {
   "cell_type": "code",
   "execution_count": 188,
   "id": "51d581e0-901e-4c32-a240-cfcfde7c58ff",
   "metadata": {},
   "outputs": [
    {
     "name": "stdout",
     "output_type": "stream",
     "text": [
      "125\n",
      "125\n"
     ]
    }
   ],
   "source": [
    "print(len(energy_df))\n",
    "print(len(energy_df.replace({np.nan, None}).dropna()))"
   ]
  },
  {
   "cell_type": "code",
   "execution_count": 127,
   "id": "db73834d-d37d-4d12-b68b-2c56247d93c5",
   "metadata": {},
   "outputs": [],
   "source": [
    "# now compute the decomposition energies"
   ]
  },
  {
   "cell_type": "code",
   "execution_count": 128,
   "id": "7e02910b-1189-4495-86a6-57b5e956198a",
   "metadata": {},
   "outputs": [],
   "source": [
    "def compute_decomp_energy(row):\n",
    "    comp, energyperatom = row.comp, row.energyperatom\n",
    "    # update: if the composition is in the competing phases,\n",
    "    # then just compare the predicted energy to the energy of the competing phase\n",
    "    if comp in df_competing_phases['reduced_composition']:\n",
    "        competing_energy = df_competing_phases.set_index(\n",
    "            'reduced_composition').loc[comp].energyperatom\n",
    "        decomp_energy = energyperatom - competing_energy\n",
    "    else:\n",
    "        decomp_energy = ehull.convex_hull_stability(comp,\n",
    "                                                    energyperatom,\n",
    "                                                    df_competing_phases)\n",
    "    return decomp_energy"
   ]
  },
  {
   "cell_type": "code",
   "execution_count": 177,
   "id": "e3bda3de-f489-49b8-a408-286306a7389d",
   "metadata": {},
   "outputs": [
    {
     "name": "stdout",
     "output_type": "stream",
     "text": [
      "Reading /home/jlaw/projects/arpa-e/crystals/rlmolecule/examples/crystal_energy/inputs/competing_phases.csv\n",
      "\t12682 lines\n",
      "  sortedformula   icsdnum  energyperatom reduced_composition\n",
      "0    Ag10Br3Te4  173116.0      -1.718985          Ag10Br3Te4\n",
      "1   Ag11K1O16V4  391344.0      -4.797702         Ag11K1O16V4\n"
     ]
    }
   ],
   "source": [
    "# Dataframe containing competing phases from NRELMatDB\n",
    "competing_phases_file = \"/home/jlaw/projects/arpa-e/crystals/rlmolecule/examples/crystal_energy/inputs/competing_phases.csv\"\n",
    "print(f\"Reading {competing_phases_file}\")\n",
    "df_competing_phases = pd.read_csv(competing_phases_file)\n",
    "print(f\"\\t{len(df_competing_phases)} lines\")\n",
    "print(df_competing_phases.head(2))"
   ]
  },
  {
   "cell_type": "code",
   "execution_count": 178,
   "id": "bb6afc9a-db53-4493-a65b-567137bde8d1",
   "metadata": {},
   "outputs": [
    {
     "data": {
      "application/vnd.jupyter.widget-view+json": {
       "model_id": "8d56caf7a0da477f9cdd74ff8b9240f2",
       "version_major": 2,
       "version_minor": 0
      },
      "text/plain": [
       "  0%|          | 0/125 [00:00<?, ?it/s]"
      ]
     },
     "metadata": {},
     "output_type": "display_data"
    },
    {
     "data": {
      "text/html": [
       "<div>\n",
       "<style scoped>\n",
       "    .dataframe tbody tr th:only-of-type {\n",
       "        vertical-align: middle;\n",
       "    }\n",
       "\n",
       "    .dataframe tbody tr th {\n",
       "        vertical-align: top;\n",
       "    }\n",
       "\n",
       "    .dataframe thead th {\n",
       "        text-align: right;\n",
       "    }\n",
       "</style>\n",
       "<table border=\"1\" class=\"dataframe\">\n",
       "  <thead>\n",
       "    <tr style=\"text-align: right;\">\n",
       "      <th></th>\n",
       "      <th>total_energy</th>\n",
       "      <th>number of atoms in the structure</th>\n",
       "      <th>energyperatom</th>\n",
       "      <th>unrel_structure</th>\n",
       "      <th>rel_structure</th>\n",
       "      <th>comp</th>\n",
       "      <th>decomp_energy</th>\n",
       "    </tr>\n",
       "    <tr>\n",
       "      <th>id</th>\n",
       "      <th></th>\n",
       "      <th></th>\n",
       "      <th></th>\n",
       "      <th></th>\n",
       "      <th></th>\n",
       "      <th></th>\n",
       "      <th></th>\n",
       "    </tr>\n",
       "  </thead>\n",
       "  <tbody>\n",
       "    <tr>\n",
       "      <th>Zn4Sn1P4_sg1_icsd_079005_2</th>\n",
       "      <td>-31.157697</td>\n",
       "      <td>9</td>\n",
       "      <td>-3.461966</td>\n",
       "      <td>[[4.09526316 2.06657517 0.66288569] Zn, [3.731...</td>\n",
       "      <td>[[4.55645676 3.55017525 1.40334204] Zn, [5.402...</td>\n",
       "      <td>Zn4Sn1P4</td>\n",
       "      <td>0.127</td>\n",
       "    </tr>\n",
       "    <tr>\n",
       "      <th>Li1Y1Zn4P4_sg4_icsd_075430_3</th>\n",
       "      <td>-75.979688</td>\n",
       "      <td>20</td>\n",
       "      <td>-3.798984</td>\n",
       "      <td>[[4.19441415 6.2399376  1.27151265] Y, [0.2086...</td>\n",
       "      <td>[[3.90191404 6.35150696 0.81608624] Y, [0.1068...</td>\n",
       "      <td>Li1Y1Zn4P4</td>\n",
       "      <td>0.137</td>\n",
       "    </tr>\n",
       "  </tbody>\n",
       "</table>\n",
       "</div>"
      ],
      "text/plain": [
       "                              total_energy  number of atoms in the structure  \\\n",
       "id                                                                             \n",
       "Zn4Sn1P4_sg1_icsd_079005_2      -31.157697                                 9   \n",
       "Li1Y1Zn4P4_sg4_icsd_075430_3    -75.979688                                20   \n",
       "\n",
       "                              energyperatom  \\\n",
       "id                                            \n",
       "Zn4Sn1P4_sg1_icsd_079005_2        -3.461966   \n",
       "Li1Y1Zn4P4_sg4_icsd_075430_3      -3.798984   \n",
       "\n",
       "                                                                unrel_structure  \\\n",
       "id                                                                                \n",
       "Zn4Sn1P4_sg1_icsd_079005_2    [[4.09526316 2.06657517 0.66288569] Zn, [3.731...   \n",
       "Li1Y1Zn4P4_sg4_icsd_075430_3  [[4.19441415 6.2399376  1.27151265] Y, [0.2086...   \n",
       "\n",
       "                                                                  rel_structure  \\\n",
       "id                                                                                \n",
       "Zn4Sn1P4_sg1_icsd_079005_2    [[4.55645676 3.55017525 1.40334204] Zn, [5.402...   \n",
       "Li1Y1Zn4P4_sg4_icsd_075430_3  [[3.90191404 6.35150696 0.81608624] Y, [0.1068...   \n",
       "\n",
       "                                    comp  decomp_energy  \n",
       "id                                                       \n",
       "Zn4Sn1P4_sg1_icsd_079005_2      Zn4Sn1P4          0.127  \n",
       "Li1Y1Zn4P4_sg4_icsd_075430_3  Li1Y1Zn4P4          0.137  "
      ]
     },
     "execution_count": 178,
     "metadata": {},
     "output_type": "execute_result"
    }
   ],
   "source": [
    "energy_df['decomp_energy'] = energy_df.progress_apply(compute_decomp_energy, axis=1)\n",
    "energy_df.head(2)"
   ]
  },
  {
   "cell_type": "code",
   "execution_count": 179,
   "id": "4a854f98-7f3e-4738-a198-547be528706b",
   "metadata": {},
   "outputs": [],
   "source": [
    "run_data = pd.concat([run_data, energy_df[['energyperatom', 'unrel_structure', 'rel_structure', 'comp', 'decomp_energy']]])"
   ]
  },
  {
   "cell_type": "code",
   "execution_count": 198,
   "id": "24310f73-89ca-46c6-a5ee-6033d5a0a9a7",
   "metadata": {},
   "outputs": [
    {
     "name": "stdout",
     "output_type": "stream",
     "text": [
      "1421 1406\n"
     ]
    }
   ],
   "source": [
    "important_cols = [\"unrel_structure\", \"rel_structure\", \"energyperatom\", \"decomp_energy\"]\n",
    "print(len(run_data), len(run_data.dropna(subset=important_cols)))\n",
    "run_data = run_data.dropna(subset=important_cols)"
   ]
  },
  {
   "cell_type": "code",
   "execution_count": 199,
   "id": "4df71ea0-2bb6-47b5-bf98-3c35769781bf",
   "metadata": {},
   "outputs": [
    {
     "data": {
      "text/html": [
       "<div>\n",
       "<style scoped>\n",
       "    .dataframe tbody tr th:only-of-type {\n",
       "        vertical-align: middle;\n",
       "    }\n",
       "\n",
       "    .dataframe tbody tr th {\n",
       "        vertical-align: top;\n",
       "    }\n",
       "\n",
       "    .dataframe thead th {\n",
       "        text-align: right;\n",
       "    }\n",
       "</style>\n",
       "<table border=\"1\" class=\"dataframe\">\n",
       "  <thead>\n",
       "    <tr style=\"text-align: right;\">\n",
       "      <th></th>\n",
       "      <th>run_id</th>\n",
       "      <th>comp</th>\n",
       "      <th>energyperatom</th>\n",
       "      <th>decomp_energy</th>\n",
       "      <th>reward</th>\n",
       "      <th>unrel_structure</th>\n",
       "      <th>rel_structure</th>\n",
       "      <th>num_sites</th>\n",
       "      <th>volume</th>\n",
       "      <th>unrel_volume</th>\n",
       "      <th>proto_id</th>\n",
       "    </tr>\n",
       "    <tr>\n",
       "      <th>id</th>\n",
       "      <th></th>\n",
       "      <th></th>\n",
       "      <th></th>\n",
       "      <th></th>\n",
       "      <th></th>\n",
       "      <th></th>\n",
       "      <th></th>\n",
       "      <th></th>\n",
       "      <th></th>\n",
       "      <th></th>\n",
       "      <th></th>\n",
       "    </tr>\n",
       "  </thead>\n",
       "  <tbody>\n",
       "    <tr>\n",
       "      <th>K1Al2Br7_sg14_icsd_200871_1</th>\n",
       "      <td>20220504/batt-icsd-volpred-KLiNa</td>\n",
       "      <td>K1Al2Br7</td>\n",
       "      <td>-3.291</td>\n",
       "      <td>-1.087</td>\n",
       "      <td>1.045</td>\n",
       "      <td>[[ 4.02869029  8.40396858 11.17619603] Al, [ 1...</td>\n",
       "      <td>[[ 4.12377755  8.73829064 10.7814738 ] Al, [ 1...</td>\n",
       "      <td>40</td>\n",
       "      <td>1844.334991</td>\n",
       "      <td>1884.372704</td>\n",
       "      <td>icsd_200871</td>\n",
       "    </tr>\n",
       "    <tr>\n",
       "      <th>K1Hf1Br5_sg62_icsd_418675_1</th>\n",
       "      <td>20220504/batt-icsd-volpred-KLiNa</td>\n",
       "      <td>K1Hf1Br5</td>\n",
       "      <td>-4.008</td>\n",
       "      <td>-1.179</td>\n",
       "      <td>1.141</td>\n",
       "      <td>[[10.45793139  5.98740196  9.68849231] K, [2.8...</td>\n",
       "      <td>[[11.61457197  5.78901635  8.17100474] K, [3.5...</td>\n",
       "      <td>28</td>\n",
       "      <td>1150.927561</td>\n",
       "      <td>1372.259840</td>\n",
       "      <td>icsd_418675</td>\n",
       "    </tr>\n",
       "  </tbody>\n",
       "</table>\n",
       "</div>"
      ],
      "text/plain": [
       "                                                       run_id      comp  \\\n",
       "id                                                                        \n",
       "K1Al2Br7_sg14_icsd_200871_1  20220504/batt-icsd-volpred-KLiNa  K1Al2Br7   \n",
       "K1Hf1Br5_sg62_icsd_418675_1  20220504/batt-icsd-volpred-KLiNa  K1Hf1Br5   \n",
       "\n",
       "                             energyperatom  decomp_energy  reward  \\\n",
       "id                                                                  \n",
       "K1Al2Br7_sg14_icsd_200871_1         -3.291         -1.087   1.045   \n",
       "K1Hf1Br5_sg62_icsd_418675_1         -4.008         -1.179   1.141   \n",
       "\n",
       "                                                               unrel_structure  \\\n",
       "id                                                                               \n",
       "K1Al2Br7_sg14_icsd_200871_1  [[ 4.02869029  8.40396858 11.17619603] Al, [ 1...   \n",
       "K1Hf1Br5_sg62_icsd_418675_1  [[10.45793139  5.98740196  9.68849231] K, [2.8...   \n",
       "\n",
       "                                                                 rel_structure  \\\n",
       "id                                                                               \n",
       "K1Al2Br7_sg14_icsd_200871_1  [[ 4.12377755  8.73829064 10.7814738 ] Al, [ 1...   \n",
       "K1Hf1Br5_sg62_icsd_418675_1  [[11.61457197  5.78901635  8.17100474] K, [3.5...   \n",
       "\n",
       "                             num_sites       volume  unrel_volume     proto_id  \n",
       "id                                                                              \n",
       "K1Al2Br7_sg14_icsd_200871_1         40  1844.334991   1884.372704  icsd_200871  \n",
       "K1Hf1Br5_sg62_icsd_418675_1         28  1150.927561   1372.259840  icsd_418675  "
      ]
     },
     "execution_count": 199,
     "metadata": {},
     "output_type": "execute_result"
    }
   ],
   "source": [
    "# make sure other relevant info is present\n",
    "run_data['num_sites'] = run_data.rel_structure.apply(lambda x: len(x.sites))\n",
    "run_data['volume'] = run_data.rel_structure.apply(lambda x: x.volume)\n",
    "run_data['unrel_volume'] = run_data.unrel_structure.apply(lambda x: x.volume)\n",
    "run_data['comp'] = run_data.index.map(lambda x: x.split('_')[0])\n",
    "run_data['proto_id'] = run_data.index.map(lambda x: f\"icsd_{x.split('_')[-2]}\")\n",
    "run_data.head(2)"
   ]
  },
  {
   "cell_type": "code",
   "execution_count": 202,
   "id": "b7176f2d-f68e-4cb4-8647-871dbd6da156",
   "metadata": {},
   "outputs": [],
   "source": [
    "# now compute the cosine distance between the relaxed and unrelaxed\n",
    "# from sklearn.metrics.pairwise import paired_cosine_distances\n",
    "from sklearn.metrics.pairwise import cosine_similarity\n",
    "from matminer.featurizers.structure.sites import SiteStatsFingerprint\n",
    "feat = SiteStatsFingerprint.from_preset(\"CrystalNNFingerprint_ops\")"
   ]
  },
  {
   "cell_type": "code",
   "execution_count": 201,
   "id": "4104eaab-c6db-44ec-b525-dde6dd8f2e8a",
   "metadata": {},
   "outputs": [
    {
     "data": {
      "application/vnd.jupyter.widget-view+json": {
       "model_id": "b95401fc15f040139a98ce50214d9ecb",
       "version_major": 2,
       "version_minor": 0
      },
      "text/plain": [
       "  0%|          | 0/1406 [00:00<?, ?it/s]"
      ]
     },
     "metadata": {},
     "output_type": "display_data"
    },
    {
     "name": "stderr",
     "output_type": "stream",
     "text": [
      "/lustre/eaglefs/projects/rlmolecule/jlaw/envs/crystals_nfp0_3/lib/python3.8/site-packages/pymatgen/analysis/local_env.py:4132: UserWarning: No oxidation states specified on sites! For better results, set the site oxidation states in the structure.\n",
      "  warnings.warn(\n",
      "/lustre/eaglefs/projects/rlmolecule/jlaw/envs/crystals_nfp0_3/lib/python3.8/site-packages/pymatgen/analysis/local_env.py:3935: UserWarning: CrystalNN: cannot locate an appropriate radius, covalent or atomic radii will be used, this can lead to non-optimal results.\n",
      "  warnings.warn(\n"
     ]
    },
    {
     "data": {
      "application/vnd.jupyter.widget-view+json": {
       "model_id": "1ddb35f5e9964e10bb5b014aaed2f573",
       "version_major": 2,
       "version_minor": 0
      },
      "text/plain": [
       "  0%|          | 0/1406 [00:00<?, ?it/s]"
      ]
     },
     "metadata": {},
     "output_type": "display_data"
    }
   ],
   "source": [
    "run_data['unrel_feats'] = run_data.unrel_structure.progress_apply(feat.featurize)\n",
    "run_data['rel_feats'] = run_data.rel_structure.progress_apply(feat.featurize)"
   ]
  },
  {
   "cell_type": "code",
   "execution_count": 217,
   "id": "04891caa-3195-4f1c-9162-e00dc6f574e5",
   "metadata": {},
   "outputs": [
    {
     "data": {
      "text/plain": [
       "run_id                              20220504/batt-icsd-volpred-KLiNa\n",
       "comp                                                        K1Al2Br7\n",
       "energyperatom                                                 -3.291\n",
       "decomp_energy                                                 -1.087\n",
       "reward                                                         1.045\n",
       "unrel_structure    [[ 4.02869029  8.40396858 11.17619603] Al, [ 1...\n",
       "rel_structure      [[ 4.12377755  8.73829064 10.7814738 ] Al, [ 1...\n",
       "num_sites                                                         40\n",
       "volume                                                   1844.334991\n",
       "unrel_volume                                             1884.372704\n",
       "proto_id                                                 icsd_200871\n",
       "unrel_feats        [0.08897724107874165, 0.07112465599077786, 0.0...\n",
       "rel_feats          [0.1891294245126535, 0.15550724036692107, 0.18...\n",
       "unrel_rel_dist                                                  -0.0\n",
       "Name: K1Al2Br7_sg14_icsd_200871_1, dtype: object"
      ]
     },
     "execution_count": 217,
     "metadata": {},
     "output_type": "execute_result"
    }
   ],
   "source": [
    "row"
   ]
  },
  {
   "cell_type": "code",
   "execution_count": 219,
   "id": "8dcf48e1-dd56-4d2b-a2d5-66bd2845723a",
   "metadata": {},
   "outputs": [
    {
     "data": {
      "text/plain": [
       "array([[0.94702123]])"
      ]
     },
     "execution_count": 219,
     "metadata": {},
     "output_type": "execute_result"
    }
   ],
   "source": [
    "row = run_data.iloc[0]\n",
    "cosine_similarity([row.unrel_feats], [row.rel_feats])"
   ]
  },
  {
   "cell_type": "code",
   "execution_count": 220,
   "id": "385b33d8-1636-43fc-96ca-f0baea2be641",
   "metadata": {},
   "outputs": [
    {
     "data": {
      "application/vnd.jupyter.widget-view+json": {
       "model_id": "4b4bde7817bf45d5b1d5a20ff518518a",
       "version_major": 2,
       "version_minor": 0
      },
      "text/plain": [
       "  0%|          | 0/1406 [00:00<?, ?it/s]"
      ]
     },
     "metadata": {},
     "output_type": "display_data"
    }
   ],
   "source": [
    "def compute_cos_dist(row):\n",
    "    cos_sim = cosine_similarity([row.unrel_feats], [row.rel_feats])[0][0]\n",
    "    return 1 - cos_sim\n",
    "\n",
    "run_data['unrel_rel_cos_dist'] = run_data.progress_apply(compute_cos_dist, axis=1)"
   ]
  },
  {
   "cell_type": "code",
   "execution_count": 256,
   "id": "8393d5b4-00ff-4742-a700-f34cce2f5b6a",
   "metadata": {},
   "outputs": [
    {
     "data": {
      "text/plain": [
       "Text(0.5, 1.0, 'MCTS structures (1406)')"
      ]
     },
     "execution_count": 256,
     "metadata": {},
     "output_type": "execute_result"
    },
    {
     "data": {
      "image/png": "[encoded data removed]",
      "text/plain": [
       "<Figure size 432x288 with 1 Axes>"
      ]
     },
     "metadata": {
      "needs_background": "light"
     },
     "output_type": "display_data"
    }
   ],
   "source": [
    "run_data.unrel_rel_cos_dist.hist(bins=50)\n",
    "plt.xlabel(\"Cosine Distance: Unrelaxed - Relaxed\")\n",
    "plt.title(f\"MCTS structures ({len(run_data)})\")"
   ]
  },
  {
   "cell_type": "code",
   "execution_count": 257,
   "id": "484f23d2-1c89-435c-84c7-9b6ecc5d77c5",
   "metadata": {},
   "outputs": [],
   "source": [
    "out_file = \"/projects/rlmolecule/jlaw/crystal_outputs/2022_05_17_combined.p\"\n",
    "run_data.to_pickle(out_file)"
   ]
  },
  {
   "cell_type": "code",
   "execution_count": null,
   "id": "692e87e8-5106-48ed-bba3-4241320bc884",
   "metadata": {},
   "outputs": [],
   "source": [
    "# create the inputs for these structures"
   ]
  },
  {
   "cell_type": "code",
   "execution_count": 13,
   "id": "fc68b84d-fc83-4d86-8fa9-27ec86069726",
   "metadata": {},
   "outputs": [],
   "source": [
    "def build_dataset(model_inputs, batch_size):\n",
    "    dataset = tf.data.Dataset.from_generator(\n",
    "        lambda: (s for s in model_inputs),\n",
    "        output_signature=(preprocessor.output_signature),\n",
    "        ).padded_batch(\n",
    "            batch_size=batch_size,\n",
    "            padding_values=(preprocessor.padding_values),\n",
    "        )\n",
    "    return dataset"
   ]
  },
  {
   "cell_type": "code",
   "execution_count": 139,
   "id": "aeac26bb-7173-453a-a356-b0469a2c601f",
   "metadata": {},
   "outputs": [],
   "source": [
    "from pymatgen.analysis.structure_prediction.volume_predictor import DLSVolumePredictor\n",
    "from collections import Counter\n",
    "\n",
    "def scale_by_pred_vol(structure):\n",
    "    # first predict the volume using the average volume per element (from ICSD)\n",
    "    try:\n",
    "        site_counts = pd.Series(Counter(\n",
    "            str(site.specie) for site in structure.sites)).fillna(0)\n",
    "    except AttributeError:\n",
    "        print(structure)\n",
    "    curr_site_bias = site_bias[\n",
    "        site_bias.index.isin(site_counts.index)]\n",
    "    linear_pred = site_counts @ curr_site_bias\n",
    "    structure.scale_lattice(linear_pred)\n",
    "\n",
    "    # then apply Pymatgen's DLS predictor\n",
    "    pred_volume = dls_vol_predictor.predict(structure)\n",
    "    structure.scale_lattice(pred_volume)\n",
    "    return structure\n",
    "\n",
    "dls_vol_predictor = DLSVolumePredictor()\n",
    "vol_pred_site_bias_file = \"/projects/rlmolecule/pstjohn/crystal_inputs/site_volumes_from_icsd.csv\"\n",
    "site_bias = pd.read_csv(vol_pred_site_bias_file,\n",
    "                        index_col=0, squeeze=True)"
   ]
  },
  {
   "cell_type": "code",
   "execution_count": 230,
   "id": "0d19c5c2-a571-4173-a9a1-1a392c65659b",
   "metadata": {},
   "outputs": [
    {
     "data": {
      "application/vnd.jupyter.widget-view+json": {
       "model_id": "8994efa669e14b49ae910c94b895f2da",
       "version_major": 2,
       "version_minor": 0
      },
      "text/plain": [
       "  0%|          | 0/1406 [00:00<?, ?it/s]"
      ]
     },
     "metadata": {},
     "output_type": "display_data"
    }
   ],
   "source": [
    "# apply the linear + DLS predicted volume to these structure\n",
    "run_data['unrel_strc_predvol'] = run_data['unrel_structure'].progress_apply(scale_by_pred_vol)"
   ]
  },
  {
   "cell_type": "code",
   "execution_count": 231,
   "id": "a29bae77-f661-4fef-83da-9db509f00995",
   "metadata": {},
   "outputs": [
    {
     "data": {
      "application/vnd.jupyter.widget-view+json": {
       "model_id": "a5345a14a89f4135bb07a3e72f336fe7",
       "version_major": 2,
       "version_minor": 0
      },
      "text/plain": [
       "  0%|          | 0/1406 [00:00<?, ?it/s]"
      ]
     },
     "metadata": {},
     "output_type": "display_data"
    }
   ],
   "source": [
    "# the structures already have the linear+DLS predicted volume, so just need to make the prediction now\n",
    "run_data['inputs'] = run_data.unrel_strc_predvol.progress_apply(preprocessor)\n",
    "# dataset = build_dataset(run_data.inputs, 8)\n",
    "# predicted_energy = energy_model.predict(dataset)\n",
    "# df['vol_model_pred'] = predicted_energy"
   ]
  },
  {
   "cell_type": "code",
   "execution_count": 252,
   "id": "1ae65878-0abf-48eb-9044-eea11c979232",
   "metadata": {},
   "outputs": [
    {
     "data": {
      "text/plain": [
       "'_1_11_17'"
      ]
     },
     "execution_count": 252,
     "metadata": {},
     "output_type": "execute_result"
    }
   ],
   "source": [
    "def split_comp_to_eles_and_type(comp: str):\n",
    "    \"\"\"\n",
    "    Extract the elements and composition type from a given composition\n",
    "    e.g., _1_1_4 from Li1Sc1F4\n",
    "    \"\"\"\n",
    "    # this splits by the digits\n",
    "    # e.g., for \"Li1Sc1F4\": ['Li', '1', 'Sc', '1', 'F', '4', '']\n",
    "    comp = comp.replace(' ','')\n",
    "    split = np.asarray(re.split('(\\d+)', comp))\n",
    "    elements = tuple(sorted(split[range(0, len(split) - 1, 2)]))\n",
    "    stoich = split[range(1, len(split), 2)]\n",
    "    # sort the stoichiometry to get the correct order of the comp type\n",
    "    comp_type = '_' + '_'.join(map(str, sorted(map(int, stoich))))\n",
    "    return elements, comp_type\n",
    "\n",
    "\n",
    "def get_comp_type(comp):\n",
    "    \"\"\" Extract the composition type from the composition_id\n",
    "    e.g., Ac1 Al11 Mg17 would be _1_11_17\n",
    "    \"\"\"\n",
    "    elements, comp_type = split_comp_to_eles_and_type(comp)\n",
    "    return comp_type\n",
    "\n",
    "get_comp_type(\"Ac1 Mg17 Al11\")"
   ]
  },
  {
   "cell_type": "code",
   "execution_count": 253,
   "id": "70ef1e87-a9f5-43a8-a4fb-7cc35eb7f765",
   "metadata": {},
   "outputs": [
    {
     "data": {
      "text/html": [
       "<div>\n",
       "<style scoped>\n",
       "    .dataframe tbody tr th:only-of-type {\n",
       "        vertical-align: middle;\n",
       "    }\n",
       "\n",
       "    .dataframe tbody tr th {\n",
       "        vertical-align: top;\n",
       "    }\n",
       "\n",
       "    .dataframe thead th {\n",
       "        text-align: right;\n",
       "    }\n",
       "</style>\n",
       "<table border=\"1\" class=\"dataframe\">\n",
       "  <thead>\n",
       "    <tr style=\"text-align: right;\">\n",
       "      <th></th>\n",
       "      <th>run_id</th>\n",
       "      <th>comp</th>\n",
       "      <th>energyperatom</th>\n",
       "      <th>decomp_energy</th>\n",
       "      <th>reward</th>\n",
       "      <th>unrel_structure</th>\n",
       "      <th>rel_structure</th>\n",
       "      <th>num_sites</th>\n",
       "      <th>volume</th>\n",
       "      <th>unrel_volume</th>\n",
       "      <th>proto_id</th>\n",
       "      <th>unrel_feats</th>\n",
       "      <th>rel_feats</th>\n",
       "      <th>unrel_rel_cos_dist</th>\n",
       "      <th>unrel_strc_predvol</th>\n",
       "      <th>inputs</th>\n",
       "      <th>pred_energyperatom</th>\n",
       "      <th>dls_volume</th>\n",
       "      <th>comptype</th>\n",
       "    </tr>\n",
       "    <tr>\n",
       "      <th>id</th>\n",
       "      <th></th>\n",
       "      <th></th>\n",
       "      <th></th>\n",
       "      <th></th>\n",
       "      <th></th>\n",
       "      <th></th>\n",
       "      <th></th>\n",
       "      <th></th>\n",
       "      <th></th>\n",
       "      <th></th>\n",
       "      <th></th>\n",
       "      <th></th>\n",
       "      <th></th>\n",
       "      <th></th>\n",
       "      <th></th>\n",
       "      <th></th>\n",
       "      <th></th>\n",
       "      <th></th>\n",
       "      <th></th>\n",
       "    </tr>\n",
       "  </thead>\n",
       "  <tbody>\n",
       "    <tr>\n",
       "      <th>K1Al2Br7_sg14_icsd_200871_1</th>\n",
       "      <td>20220504/batt-icsd-volpred-KLiNa</td>\n",
       "      <td>K1Al2Br7</td>\n",
       "      <td>-3.291</td>\n",
       "      <td>-1.087</td>\n",
       "      <td>1.045</td>\n",
       "      <td>[[ 4.02869029  8.40396858 11.17619603] Al, [ 1...</td>\n",
       "      <td>[[ 4.12377755  8.73829064 10.7814738 ] Al, [ 1...</td>\n",
       "      <td>40</td>\n",
       "      <td>1844.334991</td>\n",
       "      <td>1884.372704</td>\n",
       "      <td>icsd_200871</td>\n",
       "      <td>[0.08897724107874165, 0.07112465599077786, 0.0...</td>\n",
       "      <td>[0.1891294245126535, 0.15550724036692107, 0.18...</td>\n",
       "      <td>0.052979</td>\n",
       "      <td>[[ 4.02869029  8.40396858 11.17619603] Al, [ 1...</td>\n",
       "      <td>{'site': [27, 27, 27, 27, 27, 27, 27, 27, 30, ...</td>\n",
       "      <td>-3.248333</td>\n",
       "      <td>1884.372704</td>\n",
       "      <td>_1_2_7</td>\n",
       "    </tr>\n",
       "    <tr>\n",
       "      <th>K1Hf1Br5_sg62_icsd_418675_1</th>\n",
       "      <td>20220504/batt-icsd-volpred-KLiNa</td>\n",
       "      <td>K1Hf1Br5</td>\n",
       "      <td>-4.008</td>\n",
       "      <td>-1.179</td>\n",
       "      <td>1.141</td>\n",
       "      <td>[[10.45793139  5.98740196  9.68849231] K, [2.8...</td>\n",
       "      <td>[[11.61457197  5.78901635  8.17100474] K, [3.5...</td>\n",
       "      <td>28</td>\n",
       "      <td>1150.927561</td>\n",
       "      <td>1372.259840</td>\n",
       "      <td>icsd_418675</td>\n",
       "      <td>[0.5716260895566027, 0.4946437690506922, 0.571...</td>\n",
       "      <td>[0.30475313061080306, 0.3322921837528992, 0.30...</td>\n",
       "      <td>0.187984</td>\n",
       "      <td>[[10.45793139  5.98740196  9.68849231] K, [2.8...</td>\n",
       "      <td>{'site': [30, 30, 30, 30, 2, 2, 2, 2, 52, 52, ...</td>\n",
       "      <td>-3.968992</td>\n",
       "      <td>1372.259840</td>\n",
       "      <td>_1_1_5</td>\n",
       "    </tr>\n",
       "  </tbody>\n",
       "</table>\n",
       "</div>"
      ],
      "text/plain": [
       "                                                       run_id      comp  \\\n",
       "id                                                                        \n",
       "K1Al2Br7_sg14_icsd_200871_1  20220504/batt-icsd-volpred-KLiNa  K1Al2Br7   \n",
       "K1Hf1Br5_sg62_icsd_418675_1  20220504/batt-icsd-volpred-KLiNa  K1Hf1Br5   \n",
       "\n",
       "                             energyperatom  decomp_energy  reward  \\\n",
       "id                                                                  \n",
       "K1Al2Br7_sg14_icsd_200871_1         -3.291         -1.087   1.045   \n",
       "K1Hf1Br5_sg62_icsd_418675_1         -4.008         -1.179   1.141   \n",
       "\n",
       "                                                               unrel_structure  \\\n",
       "id                                                                               \n",
       "K1Al2Br7_sg14_icsd_200871_1  [[ 4.02869029  8.40396858 11.17619603] Al, [ 1...   \n",
       "K1Hf1Br5_sg62_icsd_418675_1  [[10.45793139  5.98740196  9.68849231] K, [2.8...   \n",
       "\n",
       "                                                                 rel_structure  \\\n",
       "id                                                                               \n",
       "K1Al2Br7_sg14_icsd_200871_1  [[ 4.12377755  8.73829064 10.7814738 ] Al, [ 1...   \n",
       "K1Hf1Br5_sg62_icsd_418675_1  [[11.61457197  5.78901635  8.17100474] K, [3.5...   \n",
       "\n",
       "                             num_sites       volume  unrel_volume  \\\n",
       "id                                                                  \n",
       "K1Al2Br7_sg14_icsd_200871_1         40  1844.334991   1884.372704   \n",
       "K1Hf1Br5_sg62_icsd_418675_1         28  1150.927561   1372.259840   \n",
       "\n",
       "                                proto_id  \\\n",
       "id                                         \n",
       "K1Al2Br7_sg14_icsd_200871_1  icsd_200871   \n",
       "K1Hf1Br5_sg62_icsd_418675_1  icsd_418675   \n",
       "\n",
       "                                                                   unrel_feats  \\\n",
       "id                                                                               \n",
       "K1Al2Br7_sg14_icsd_200871_1  [0.08897724107874165, 0.07112465599077786, 0.0...   \n",
       "K1Hf1Br5_sg62_icsd_418675_1  [0.5716260895566027, 0.4946437690506922, 0.571...   \n",
       "\n",
       "                                                                     rel_feats  \\\n",
       "id                                                                               \n",
       "K1Al2Br7_sg14_icsd_200871_1  [0.1891294245126535, 0.15550724036692107, 0.18...   \n",
       "K1Hf1Br5_sg62_icsd_418675_1  [0.30475313061080306, 0.3322921837528992, 0.30...   \n",
       "\n",
       "                             unrel_rel_cos_dist  \\\n",
       "id                                                \n",
       "K1Al2Br7_sg14_icsd_200871_1            0.052979   \n",
       "K1Hf1Br5_sg62_icsd_418675_1            0.187984   \n",
       "\n",
       "                                                            unrel_strc_predvol  \\\n",
       "id                                                                               \n",
       "K1Al2Br7_sg14_icsd_200871_1  [[ 4.02869029  8.40396858 11.17619603] Al, [ 1...   \n",
       "K1Hf1Br5_sg62_icsd_418675_1  [[10.45793139  5.98740196  9.68849231] K, [2.8...   \n",
       "\n",
       "                                                                        inputs  \\\n",
       "id                                                                               \n",
       "K1Al2Br7_sg14_icsd_200871_1  {'site': [27, 27, 27, 27, 27, 27, 27, 27, 30, ...   \n",
       "K1Hf1Br5_sg62_icsd_418675_1  {'site': [30, 30, 30, 30, 2, 2, 2, 2, 52, 52, ...   \n",
       "\n",
       "                             pred_energyperatom   dls_volume comptype  \n",
       "id                                                                     \n",
       "K1Al2Br7_sg14_icsd_200871_1           -3.248333  1884.372704   _1_2_7  \n",
       "K1Hf1Br5_sg62_icsd_418675_1           -3.968992  1372.259840   _1_1_5  "
      ]
     },
     "execution_count": 253,
     "metadata": {},
     "output_type": "execute_result"
    }
   ],
   "source": [
    "run_data['dls_volume'] = run_data.unrel_strc_predvol.apply(lambda x: x.volume)\n",
    "run_data['comptype'] = run_data.comp.apply(get_comp_type)\n",
    "run_data.head(2)"
   ]
  },
  {
   "cell_type": "code",
   "execution_count": 269,
   "id": "a061b4ff-4ee5-4ad7-a1ce-88ab2f876e55",
   "metadata": {},
   "outputs": [
    {
     "data": {
      "text/plain": [
       "1266"
      ]
     },
     "execution_count": 269,
     "metadata": {},
     "output_type": "execute_result"
    }
   ],
   "source": [
    "print(len(run_data.index.drop_duplicates(keep=\"first\")))\n",
    "print(len(run_data.index.drop_duplicates(keep=\"first\")))"
   ]
  },
  {
   "cell_type": "code",
   "execution_count": 254,
   "id": "cd67eef2-95ec-46ec-b0c7-d2d29429fed8",
   "metadata": {},
   "outputs": [],
   "source": [
    "out_file = \"/projects/rlmolecule/jlaw/crystal_outputs/2022_05_17_combined_dls_vol.p\"\n",
    "run_data.to_pickle(out_file)"
   ]
  },
  {
   "cell_type": "markdown",
   "id": "e0b93ddf-4400-44f5-aeca-53e40f7cb5c9",
   "metadata": {},
   "source": [
    "### Compare what the predicted energy would have been for the GNN trained on volume-relaxed structures only"
   ]
  },
  {
   "cell_type": "code",
   "execution_count": 232,
   "id": "ccff79c4-83dc-4a9f-babb-576a9a05ea9c",
   "metadata": {},
   "outputs": [
    {
     "name": "stdout",
     "output_type": "stream",
     "text": [
      "Loading config file 'config/20220504/icsd_batt_vol/icsd_batt_vol.yaml'\n",
      "config/20220504/icsd_batt_vol/icsd_batt_vol.yaml outputs/2022_05_04/icsd_battrel_vol_pred_vol/randsub0_05_randsub0_05_holdout_match_seed1\n",
      "reading outputs/2022_05_04/icsd_battrel_vol_pred_vol/preprocessor.json\n",
      "Reading /projects/rlmolecule/jlaw/projects/crystal-gnn-nfp-0.3-fork/outputs/2022_05_04/icsd_battrel_vol_pred_vol/randsub0_05_randsub0_05_holdout_match_seed1/best_model.hdf5\n"
     ]
    }
   ],
   "source": [
    "base_dir = \"/projects/rlmolecule/jlaw/projects/crystal-gnn-nfp-0.3-fork\"\n",
    "config_files = [\n",
    "    # \"config/batt_volunrel/battery-volunrelaxed-volperatom.yaml\",\n",
    "    # \"config/batt_volunrel/battery-volunrelaxed.yaml\",\n",
    "    # \"config/batt_volunrel/battery-volunrelaxed-dls1.5.yaml\",\n",
    "    # \"config/batt_volunrel/no_2xbound_volperatom.yaml\",\n",
    "    # \"config/batt_volunrel/no_2xbound.yaml\",\n",
    "    # \"config/20220504-batt-volunrel/no_2xbound_volperatom.yaml\",\n",
    "    # \"config/icsd_batt_vol/icsd_batt_vol.yaml\",\n",
    "    # \"config/icsd_batt_vol/icsd_batt_vol_volpred.yaml\",\n",
    "    \"config/20220504/icsd_batt_vol/icsd_batt_vol.yaml\",\n",
    "]\n",
    "\n",
    "results = []\n",
    "for config_file in config_files:\n",
    "    config_map = utils.load_config_file(config_file)\n",
    "    experiments = utils.get_experiments(config_map['experiments'])\n",
    "    out_dir = utils.get_out_dir(config_map, experiments[0])\n",
    "    print(config_file, out_dir)\n",
    "    \n",
    "    inputs_dir = Path(out_dir).parents[0]\n",
    "    preprocessor = PymatgenPreprocessor()\n",
    "    preprocessor_file = inputs_dir / \"preprocessor.json\"\n",
    "    print(f\"reading {preprocessor_file}\")\n",
    "    preprocessor.from_json(preprocessor_file)\n",
    "    # results += eval_test.main(config_map)\n",
    "    model_file = Path(model_dir, \"best_model.hdf5\")\n",
    "    print(f\"Reading {model_file}\")\n",
    "    model = tf.keras.models.load_model(\n",
    "        model_file,\n",
    "        custom_objects={\n",
    "            **custom_objects,\n",
    "            **{'RBFExpansion': RBFExpansion},\n",
    "            })\n",
    "\n",
    "    batch_size = 64\n",
    "    test_dataset = build_dataset(run_data.inputs, batch_size)\n",
    "\n",
    "    predictions = model.predict(test_dataset)\n",
    "    data_col = 'energyperatom'\n",
    "    pred_col = f'pred_{data_col}'\n",
    "    run_data[pred_col] = predictions\n",
    "    "
   ]
  },
  {
   "cell_type": "code",
   "execution_count": 168,
   "id": "2987a061-a044-4712-a729-c43b4fc1b49d",
   "metadata": {},
   "outputs": [
    {
     "data": {
      "text/plain": [
       "<matplotlib.legend.Legend at 0x7f4885075f40>"
      ]
     },
     "execution_count": 168,
     "metadata": {},
     "output_type": "execute_result"
    },
    {
     "data": {
      "image/png": "[encoded data removed]",
      "text/plain": [
       "<Figure size 432x432 with 1 Axes>"
      ]
     },
     "metadata": {
      "needs_background": "light"
     },
     "output_type": "display_data"
    }
   ],
   "source": [
    "f, ax = plt.subplots(figsize=(6,6))\n",
    "sns.scatterplot(data=run_data, x=data_col, y=pred_col, ax=ax,\n",
    "                hue=\"run_id\", alpha=0.7, linewidth=0, s=15)\n",
    "plt.legend(bbox_to_anchor=(1.05, 1), loc=2, borderaxespad=0.)"
   ]
  },
  {
   "cell_type": "code",
   "execution_count": 262,
   "id": "21be870c-2982-4734-8c89-a16f2cf0b8d9",
   "metadata": {},
   "outputs": [
    {
     "data": {
      "text/plain": [
       "Text(0.5, 1.0, 'MCTS structures (1406)')"
      ]
     },
     "execution_count": 262,
     "metadata": {},
     "output_type": "execute_result"
    },
    {
     "data": {
      "image/png": "[encoded data removed]",
      "text/plain": [
       "<Figure size 360x360 with 1 Axes>"
      ]
     },
     "metadata": {
      "needs_background": "light"
     },
     "output_type": "display_data"
    }
   ],
   "source": [
    "df = run_data.copy()\n",
    "df['Cosine Dist.'] = [\"> .01\" if x == 1 else \"<= .01\" for x in np.digitize(df['unrel_rel_cos_dist'].values, [0.01])]\n",
    "df = df.sort_values('Cosine Dist.', ascending=False)\n",
    "\n",
    "f, ax = plt.subplots(figsize=(5,5))\n",
    "g = sns.scatterplot(data=df, x=data_col, y=pred_col, ax=ax,\n",
    "                    hue=\"Cosine Dist.\", hue_order=[\"> .01\", \"<= .01\"],\n",
    "                    alpha=0.6, linewidth=0, s=15)\n",
    "\n",
    "plt.title(f\"MCTS structures ({len(df)})\")"
   ]
  },
  {
   "cell_type": "code",
   "execution_count": 275,
   "id": "44b312ec-1550-426b-b7e4-7dfafeaae3bf",
   "metadata": {},
   "outputs": [
    {
     "data": {
      "text/plain": [
       "Index(['run_id', 'comp', 'energyperatom', 'decomp_energy', 'reward',\n",
       "       'unrel_structure', 'rel_structure', 'num_sites', 'volume',\n",
       "       'unrel_volume', 'proto_id', 'unrel_feats', 'rel_feats',\n",
       "       'unrel_rel_cos_dist', 'unrel_strc_predvol', 'inputs',\n",
       "       'pred_energyperatom', 'dls_volume', 'comptype', 'Cosine Dist.'],\n",
       "      dtype='object')"
      ]
     },
     "execution_count": 275,
     "metadata": {},
     "output_type": "execute_result"
    }
   ],
   "source": [
    "df.columns"
   ]
  },
  {
   "cell_type": "code",
   "execution_count": 281,
   "id": "08b8ed7a-aed8-4197-ac1c-d64af2312cf7",
   "metadata": {},
   "outputs": [],
   "source": [
    "sns.set_style(\"whitegrid\")"
   ]
  },
  {
   "cell_type": "code",
   "execution_count": 284,
   "id": "6cb9e69c-2029-4377-aa28-230862e9b8cc",
   "metadata": {},
   "outputs": [
    {
     "data": {
      "text/plain": [
       "Text(0.5, 1.0, 'MCTS structures (36)')"
      ]
     },
     "execution_count": 284,
     "metadata": {},
     "output_type": "execute_result"
    },
    {
     "data": {
      "image/png": "[encoded data removed]",
      "text/plain": [
       "<Figure size 360x360 with 1 Axes>"
      ]
     },
     "metadata": {},
     "output_type": "display_data"
    }
   ],
   "source": [
    "df = run_data.copy()\n",
    "df = df[df['run_id'] == \"20220504/batt-icsd-volpred-KLiNa\"]\n",
    "df['Cosine Dist.'] = [\"> .05\" if x == 1 else \"<= .05\" for x in np.digitize(df['unrel_rel_cos_dist'].values, [0.05])]\n",
    "df = df.sort_values('Cosine Dist.', ascending=False)\n",
    "\n",
    "f, ax = plt.subplots(figsize=(5,5))\n",
    "g = sns.scatterplot(data=df, x=data_col, y=pred_col, ax=ax,\n",
    "                    hue=\"Cosine Dist.\", hue_order=[\"> .05\", \"<= .05\"],\n",
    "                    alpha=0.6, linewidth=0, s=15)\n",
    "# plt.ylim(-4.5, -3)\n",
    "# plt.xlim(-4.5, -3)\n",
    "plt.plot(plt.xlim(), plt.ylim())\n",
    "\n",
    "plt.title(f\"MCTS structures ({len(df)})\")"
   ]
  },
  {
   "cell_type": "code",
   "execution_count": 48,
   "id": "f175a1e7-c6e9-4c20-93ea-52160b17609c",
   "metadata": {},
   "outputs": [
    {
     "name": "stderr",
     "output_type": "stream",
     "text": [
      "*c* argument looks like a single numeric RGB or RGBA sequence, which should be avoided as value-mapping will have precedence in case its length matches with *x* & *y*.  Please use the *color* keyword-argument or provide a 2D array with a single row if you intend to specify the same RGB or RGBA value for all points.\n",
      "*c* argument looks like a single numeric RGB or RGBA sequence, which should be avoided as value-mapping will have precedence in case its length matches with *x* & *y*.  Please use the *color* keyword-argument or provide a 2D array with a single row if you intend to specify the same RGB or RGBA value for all points.\n"
     ]
    },
    {
     "data": {
      "image/png": "[encoded data removed]",
      "text/plain": [
       "<Figure size 576x288 with 2 Axes>"
      ]
     },
     "metadata": {
      "needs_background": "light"
     },
     "output_type": "display_data"
    }
   ],
   "source": [
    "f, (ax1, ax2) = plt.subplots(ncols=2, figsize=(8,4))\n",
    "\n",
    "ax = ax1\n",
    "pred_col = \"vol_model_pred\"\n",
    "df.plot.scatter(x=\"energyperatom\", y=pred_col, ax=ax,\n",
    "                alpha=0.8,\n",
    "               )\n",
    "ax.plot([-5.5,-3], [-5.5,-3], ls='--', c='gray')\n",
    "ax.set_xlabel(\"DFT total energy (eV/atom)\")\n",
    "ax.set_ylabel(\"Volume-only GNN Pred. eV/atom\")\n",
    "mae = (df['energyperatom'] - df[pred_col]).abs().mean()\n",
    "ax.text(1, 0.025, f'MAE: {mae:.3f} eV/atom',\n",
    "        ha='right', va='bottom', transform=ax.transAxes, fontsize=10)\n",
    "\n",
    "ax = ax2\n",
    "df.plot.scatter(x=\"decomp_energy\", y=\"volpred_decomp_energy\", ax=ax,\n",
    "                alpha=0.8,\n",
    "               )\n",
    "ax.plot([-1,2], [-1,2], ls='--', c='gray')\n",
    "ax.set_xlabel(\"DFT decomposition energy (eV/atom)\")\n",
    "ax.set_ylabel(\"Volume-only GNN Pred. decomp energy\")\n",
    "mae = (df['decomp_energy'] - df[\"volpred_decomp_energy\"]).abs().mean()\n",
    "ax.text(1, 0.025, f'MAE: {mae:.3f} eV/atom',\n",
    "        ha='right', va='bottom', transform=ax.transAxes, fontsize=10)\n",
    "\n",
    "plt.show()\n",
    "plt.close()"
   ]
  },
  {
   "cell_type": "code",
   "execution_count": 55,
   "id": "bd2656b6-7639-49ed-b7ee-8f8c25af39b3",
   "metadata": {},
   "outputs": [
    {
     "name": "stdout",
     "output_type": "stream",
     "text": [
      "loading /projects/rlmolecule/jlaw/projects/crystal-gnn-nfp-0.3-fork/outputs/2022_05_04/icsd_battrel_vol_pred_vol/randsub0_05_randsub0_05_holdout_match_seed1/best_model.hdf5\n"
     ]
    }
   ],
   "source": [
    "# make sure to load the preprocessor that was used for \n",
    "preprocessor = PymatgenPreprocessor()\n",
    "#preprocessor.from_json(Path(inputs_dir, \"preprocessor.json\"))\n",
    "# TODO preprocessor should match the data files\n",
    "# preprocessor should be in the same dir as the data files\n",
    "preprocessor.from_json(Path(model_dir, \"../preprocessor.json\"))\n",
    "\n",
    "energy_model_file = Path(model_dir, \"best_model.hdf5\")\n",
    "print(f\"loading {energy_model_file}\")\n",
    "energy_model = tf.keras.models.load_model(energy_model_file,\n",
    "                                          custom_objects={**custom_objects,\n",
    "                                                          **{'RBFExpansion': RBFExpansion}})"
   ]
  },
  {
   "cell_type": "code",
   "execution_count": 56,
   "id": "98107970-c88f-478d-8c53-e0503de93f50",
   "metadata": {},
   "outputs": [
    {
     "data": {
      "text/html": [
       "<div>\n",
       "<style scoped>\n",
       "    .dataframe tbody tr th:only-of-type {\n",
       "        vertical-align: middle;\n",
       "    }\n",
       "\n",
       "    .dataframe tbody tr th {\n",
       "        vertical-align: top;\n",
       "    }\n",
       "\n",
       "    .dataframe thead th {\n",
       "        text-align: right;\n",
       "    }\n",
       "</style>\n",
       "<table border=\"1\" class=\"dataframe\">\n",
       "  <thead>\n",
       "    <tr style=\"text-align: right;\">\n",
       "      <th></th>\n",
       "      <th>decoration</th>\n",
       "      <th>numatoms</th>\n",
       "      <th>relaxedvolume</th>\n",
       "      <th>energyperatom</th>\n",
       "      <th>comp</th>\n",
       "      <th>id</th>\n",
       "      <th>decomp_energy</th>\n",
       "      <th>pred_energyperatom</th>\n",
       "      <th>pred_decomp_energy</th>\n",
       "      <th>ediff</th>\n",
       "    </tr>\n",
       "  </thead>\n",
       "  <tbody>\n",
       "    <tr>\n",
       "      <th>0</th>\n",
       "      <td>Na1Cd1Cl1Br2/Na1Cd1Cl1Br2_sg140_icsd_411137_3</td>\n",
       "      <td>20</td>\n",
       "      <td>630.07</td>\n",
       "      <td>-2.383</td>\n",
       "      <td>Na1Cd1Cl1Br2</td>\n",
       "      <td>Na1Cd1Cl1Br2_sg140_icsd_411137_3</td>\n",
       "      <td>0.339</td>\n",
       "      <td>-5.307761</td>\n",
       "      <td>-2.587</td>\n",
       "      <td>2.924761</td>\n",
       "    </tr>\n",
       "    <tr>\n",
       "      <th>1</th>\n",
       "      <td>Li2F1Cl1/Li2F1Cl1_sg180_icsd_090403_1</td>\n",
       "      <td>12</td>\n",
       "      <td>210.74</td>\n",
       "      <td>-4.183</td>\n",
       "      <td>Li2F1Cl1</td>\n",
       "      <td>Li2F1Cl1_sg180_icsd_090403_1</td>\n",
       "      <td>0.085</td>\n",
       "      <td>-6.786662</td>\n",
       "      <td>-2.521</td>\n",
       "      <td>2.603662</td>\n",
       "    </tr>\n",
       "    <tr>\n",
       "      <th>2</th>\n",
       "      <td>Na5Al1S4/Na5Al1S4_sg36_icsd_016987_1</td>\n",
       "      <td>40</td>\n",
       "      <td>1040.90</td>\n",
       "      <td>-3.734</td>\n",
       "      <td>Na5Al1S4</td>\n",
       "      <td>Na5Al1S4_sg36_icsd_016987_1</td>\n",
       "      <td>0.109</td>\n",
       "      <td>-6.322466</td>\n",
       "      <td>-2.481</td>\n",
       "      <td>2.588466</td>\n",
       "    </tr>\n",
       "    <tr>\n",
       "      <th>3</th>\n",
       "      <td>Mg1Zr1Cl4S1/Mg1Zr1Cl4S1_sg8_icsd_086792_2</td>\n",
       "      <td>14</td>\n",
       "      <td>401.21</td>\n",
       "      <td>-4.495</td>\n",
       "      <td>Mg1Zr1Cl4S1</td>\n",
       "      <td>Mg1Zr1Cl4S1_sg8_icsd_086792_2</td>\n",
       "      <td>0.107</td>\n",
       "      <td>-6.883161</td>\n",
       "      <td>-2.283</td>\n",
       "      <td>2.388161</td>\n",
       "    </tr>\n",
       "    <tr>\n",
       "      <th>4</th>\n",
       "      <td>Na1Cd1Cl2Br1/Na1Cd1Cl2Br1_sg12_icsd_172782_1</td>\n",
       "      <td>20</td>\n",
       "      <td>610.00</td>\n",
       "      <td>-2.784</td>\n",
       "      <td>Na1Cd1Cl2Br1</td>\n",
       "      <td>Na1Cd1Cl2Br1_sg12_icsd_172782_1</td>\n",
       "      <td>0.047</td>\n",
       "      <td>-6.187317</td>\n",
       "      <td>-3.359</td>\n",
       "      <td>3.403317</td>\n",
       "    </tr>\n",
       "  </tbody>\n",
       "</table>\n",
       "</div>"
      ],
      "text/plain": [
       "                                      decoration  numatoms  relaxedvolume  \\\n",
       "0  Na1Cd1Cl1Br2/Na1Cd1Cl1Br2_sg140_icsd_411137_3        20         630.07   \n",
       "1          Li2F1Cl1/Li2F1Cl1_sg180_icsd_090403_1        12         210.74   \n",
       "2           Na5Al1S4/Na5Al1S4_sg36_icsd_016987_1        40        1040.90   \n",
       "3      Mg1Zr1Cl4S1/Mg1Zr1Cl4S1_sg8_icsd_086792_2        14         401.21   \n",
       "4   Na1Cd1Cl2Br1/Na1Cd1Cl2Br1_sg12_icsd_172782_1        20         610.00   \n",
       "\n",
       "   energyperatom          comp                                id  \\\n",
       "0         -2.383  Na1Cd1Cl1Br2  Na1Cd1Cl1Br2_sg140_icsd_411137_3   \n",
       "1         -4.183      Li2F1Cl1      Li2F1Cl1_sg180_icsd_090403_1   \n",
       "2         -3.734      Na5Al1S4       Na5Al1S4_sg36_icsd_016987_1   \n",
       "3         -4.495   Mg1Zr1Cl4S1     Mg1Zr1Cl4S1_sg8_icsd_086792_2   \n",
       "4         -2.784  Na1Cd1Cl2Br1   Na1Cd1Cl2Br1_sg12_icsd_172782_1   \n",
       "\n",
       "   decomp_energy  pred_energyperatom  pred_decomp_energy     ediff  \n",
       "0          0.339           -5.307761              -2.587  2.924761  \n",
       "1          0.085           -6.786662              -2.521  2.603662  \n",
       "2          0.109           -6.322466              -2.481  2.588466  \n",
       "3          0.107           -6.883161              -2.283  2.388161  \n",
       "4          0.047           -6.187317              -3.359  3.403317  "
      ]
     },
     "execution_count": 56,
     "metadata": {},
     "output_type": "execute_result"
    }
   ],
   "source": [
    "out_dir = \"/projects/rlmolecule/jlaw/crystal_outputs/2022-04-27-batt-icsd-vol-combined\"\n",
    "pred_file = Path(out_dir, \"viz/pred_vs_dft.csv\")\n",
    "df = pd.read_csv(pred_file, index_col=0)\n",
    "df.head()"
   ]
  },
  {
   "cell_type": "code",
   "execution_count": 57,
   "id": "3dfad001-ab9d-4606-aed7-c5fcc4df8072",
   "metadata": {},
   "outputs": [
    {
     "data": {
      "application/vnd.jupyter.widget-view+json": {
       "model_id": "bc3f0b0686a543638b9ec5de3cdcd257",
       "version_major": 2,
       "version_minor": 0
      },
      "text/plain": [
       "  0%|          | 0/534 [00:00<?, ?it/s]"
      ]
     },
     "metadata": {},
     "output_type": "display_data"
    },
    {
     "data": {
      "text/html": [
       "<div>\n",
       "<style scoped>\n",
       "    .dataframe tbody tr th:only-of-type {\n",
       "        vertical-align: middle;\n",
       "    }\n",
       "\n",
       "    .dataframe tbody tr th {\n",
       "        vertical-align: top;\n",
       "    }\n",
       "\n",
       "    .dataframe thead th {\n",
       "        text-align: right;\n",
       "    }\n",
       "</style>\n",
       "<table border=\"1\" class=\"dataframe\">\n",
       "  <thead>\n",
       "    <tr style=\"text-align: right;\">\n",
       "      <th></th>\n",
       "      <th>decoration</th>\n",
       "      <th>numatoms</th>\n",
       "      <th>relaxedvolume</th>\n",
       "      <th>energyperatom</th>\n",
       "      <th>comp</th>\n",
       "      <th>id</th>\n",
       "      <th>decomp_energy</th>\n",
       "      <th>pred_energyperatom</th>\n",
       "      <th>pred_decomp_energy</th>\n",
       "      <th>ediff</th>\n",
       "      <th>structure</th>\n",
       "    </tr>\n",
       "  </thead>\n",
       "  <tbody>\n",
       "    <tr>\n",
       "      <th>0</th>\n",
       "      <td>Na1Cd1Cl1Br2/Na1Cd1Cl1Br2_sg140_icsd_411137_3</td>\n",
       "      <td>20</td>\n",
       "      <td>630.07</td>\n",
       "      <td>-2.383</td>\n",
       "      <td>Na1Cd1Cl1Br2</td>\n",
       "      <td>Na1Cd1Cl1Br2_sg140_icsd_411137_3</td>\n",
       "      <td>0.339</td>\n",
       "      <td>-5.307761</td>\n",
       "      <td>-2.587</td>\n",
       "      <td>2.924761</td>\n",
       "      <td>[[3.937038 0.       2.777679] Cd, [3.937038 0....</td>\n",
       "    </tr>\n",
       "    <tr>\n",
       "      <th>1</th>\n",
       "      <td>Li2F1Cl1/Li2F1Cl1_sg180_icsd_090403_1</td>\n",
       "      <td>12</td>\n",
       "      <td>210.74</td>\n",
       "      <td>-4.183</td>\n",
       "      <td>Li2F1Cl1</td>\n",
       "      <td>Li2F1Cl1_sg180_icsd_090403_1</td>\n",
       "      <td>0.085</td>\n",
       "      <td>-6.786662</td>\n",
       "      <td>-2.521</td>\n",
       "      <td>2.603662</td>\n",
       "      <td>[[1.1532705  1.997523   5.52217279] F, [2.3065...</td>\n",
       "    </tr>\n",
       "  </tbody>\n",
       "</table>\n",
       "</div>"
      ],
      "text/plain": [
       "                                      decoration  numatoms  relaxedvolume  \\\n",
       "0  Na1Cd1Cl1Br2/Na1Cd1Cl1Br2_sg140_icsd_411137_3        20         630.07   \n",
       "1          Li2F1Cl1/Li2F1Cl1_sg180_icsd_090403_1        12         210.74   \n",
       "\n",
       "   energyperatom          comp                                id  \\\n",
       "0         -2.383  Na1Cd1Cl1Br2  Na1Cd1Cl1Br2_sg140_icsd_411137_3   \n",
       "1         -4.183      Li2F1Cl1      Li2F1Cl1_sg180_icsd_090403_1   \n",
       "\n",
       "   decomp_energy  pred_energyperatom  pred_decomp_energy     ediff  \\\n",
       "0          0.339           -5.307761              -2.587  2.924761   \n",
       "1          0.085           -6.786662              -2.521  2.603662   \n",
       "\n",
       "                                           structure  \n",
       "0  [[3.937038 0.       2.777679] Cd, [3.937038 0....  \n",
       "1  [[1.1532705  1.997523   5.52217279] F, [2.3065...  "
      ]
     },
     "execution_count": 57,
     "metadata": {},
     "output_type": "execute_result"
    }
   ],
   "source": [
    "# load the structures\n",
    "strc_dir = Path(out_dir, \"best_decorations\")\n",
    "def load_structure(strc_id):\n",
    "# for strc_id in df.id:\n",
    "    strc_file = Path(strc_dir, \"POSCAR_\" + strc_id)\n",
    "    strc = None\n",
    "    if strc_file.is_file():\n",
    "        strc = Structure.from_file(strc_file, primitive=True)\n",
    "    return strc\n",
    "\n",
    "df['structure'] = df.id.progress_apply(load_structure)\n",
    "df.head(2)"
   ]
  },
  {
   "cell_type": "code",
   "execution_count": 13,
   "id": "3fa0d925-3912-413a-b47d-c3dc214855ef",
   "metadata": {},
   "outputs": [],
   "source": [
    "def build_dataset(model_inputs, batch_size):\n",
    "    dataset = tf.data.Dataset.from_generator(\n",
    "        lambda: (s for s in model_inputs),\n",
    "        output_signature=(preprocessor.output_signature),\n",
    "        ).padded_batch(\n",
    "            batch_size=batch_size,\n",
    "            padding_values=(preprocessor.padding_values),\n",
    "        )\n",
    "    return dataset"
   ]
  },
  {
   "cell_type": "code",
   "execution_count": 14,
   "id": "5f0fd632-ab62-4373-b46d-1cc59304fc2d",
   "metadata": {},
   "outputs": [
    {
     "data": {
      "application/vnd.jupyter.widget-view+json": {
       "model_id": "dc687d6746b74a7da52ab6da64b7631c",
       "version_major": 2,
       "version_minor": 0
      },
      "text/plain": [
       "  0%|          | 0/534 [00:00<?, ?it/s]"
      ]
     },
     "metadata": {},
     "output_type": "display_data"
    }
   ],
   "source": [
    "# the structures already have the linear+DLS predicted volume, so just need to make the prediction now\n",
    "df['inputs'] = df.structure.progress_apply(preprocessor)\n",
    "\n",
    "dataset = build_dataset(df.inputs, 8)\n",
    "predicted_energy = energy_model.predict(dataset)\n",
    "df['vol_model_pred'] = predicted_energy"
   ]
  },
  {
   "cell_type": "code",
   "execution_count": 17,
   "id": "064084f3-4514-4b09-85f1-46e118b337c4",
   "metadata": {},
   "outputs": [
    {
     "name": "stdout",
     "output_type": "stream",
     "text": [
      "\t12682 lines\n",
      "  sortedformula   icsdnum  energyperatom reduced_composition\n",
      "0    Ag10Br3Te4  173116.0      -1.718985          Ag10Br3Te4\n",
      "1   Ag11K1O16V4  391344.0      -4.797702         Ag11K1O16V4\n"
     ]
    }
   ],
   "source": [
    "from scripts import ehull\n",
    "\n",
    "def compute_decomp_energy(structure, predicted_energy, df_competing_phases):\n",
    "    comp = structure.composition.reduced_composition.alphabetical_formula.replace(' ', '')\n",
    "    # update: if the composition is in the competing phases,\n",
    "    # then just compare the predicted energy to the energy of the competing phase\n",
    "    if comp in df_competing_phases['reduced_composition']:\n",
    "        competing_energy = df_competing_phases.set_index(\n",
    "            'reduced_composition').loc[comp].energyperatom\n",
    "        decomp_energy = predicted_energy - competing_energy\n",
    "    else:\n",
    "        decomp_energy = ehull.convex_hull_stability(comp,\n",
    "                                                    predicted_energy,\n",
    "                                                    df_competing_phases)\n",
    "    return decomp_energy\n",
    "\n",
    "df_competing_phases = pd.read_csv('inputs/competing_phases.csv')\n",
    "print(f\"\\t{len(df_competing_phases)} lines\")\n",
    "print(df_competing_phases.head(2))"
   ]
  },
  {
   "cell_type": "code",
   "execution_count": 18,
   "id": "fc467a4b-5580-4fbb-87f0-2b526ab79826",
   "metadata": {},
   "outputs": [
    {
     "data": {
      "application/vnd.jupyter.widget-view+json": {
       "model_id": "4447bb741ba1435ebc654253a6569096",
       "version_major": 2,
       "version_minor": 0
      },
      "text/plain": [
       "  0%|          | 0/534 [00:00<?, ?it/s]"
      ]
     },
     "metadata": {},
     "output_type": "display_data"
    },
    {
     "name": "stdout",
     "output_type": "stream",
     "text": [
      "exception '_cdd.error' not a BaseException subclass\n",
      "Failed at stability.run_stability for Cl2N2Na4Si1 (pred_energy: -1.6001025438308716). Skipping\n",
      "\n",
      "exception '_cdd.error' not a BaseException subclass\n",
      "Failed at stability.run_stability for Cl4N1Na3Si1 (pred_energy: -1.7361335754394531). Skipping\n",
      "\n"
     ]
    }
   ],
   "source": [
    "# also compute what the decomposition energy would be\n",
    "df['volpred_decomp_energy'] = df.progress_apply(\n",
    "    lambda row: compute_decomp_energy(row.structure,\n",
    "                                      row.vol_model_pred,\n",
    "                                      df_competing_phases),\n",
    "    axis=1)"
   ]
  },
  {
   "cell_type": "code",
   "execution_count": 15,
   "id": "5f8424a2-fb5f-4c58-8eeb-36c2b8aed733",
   "metadata": {},
   "outputs": [
    {
     "data": {
      "text/html": [
       "<div>\n",
       "<style scoped>\n",
       "    .dataframe tbody tr th:only-of-type {\n",
       "        vertical-align: middle;\n",
       "    }\n",
       "\n",
       "    .dataframe tbody tr th {\n",
       "        vertical-align: top;\n",
       "    }\n",
       "\n",
       "    .dataframe thead th {\n",
       "        text-align: right;\n",
       "    }\n",
       "</style>\n",
       "<table border=\"1\" class=\"dataframe\">\n",
       "  <thead>\n",
       "    <tr style=\"text-align: right;\">\n",
       "      <th></th>\n",
       "      <th>decoration</th>\n",
       "      <th>numatoms</th>\n",
       "      <th>relaxedvolume</th>\n",
       "      <th>energyperatom</th>\n",
       "      <th>comp</th>\n",
       "      <th>id</th>\n",
       "      <th>decomp_energy</th>\n",
       "      <th>pred_energyperatom</th>\n",
       "      <th>pred_decomp_energy</th>\n",
       "      <th>ediff</th>\n",
       "      <th>structure</th>\n",
       "      <th>inputs</th>\n",
       "      <th>vol_model_pred</th>\n",
       "    </tr>\n",
       "  </thead>\n",
       "  <tbody>\n",
       "    <tr>\n",
       "      <th>0</th>\n",
       "      <td>Na1Cd1Cl1Br2/Na1Cd1Cl1Br2_sg140_icsd_411137_3</td>\n",
       "      <td>20</td>\n",
       "      <td>630.07</td>\n",
       "      <td>-2.383</td>\n",
       "      <td>Na1Cd1Cl1Br2</td>\n",
       "      <td>Na1Cd1Cl1Br2_sg140_icsd_411137_3</td>\n",
       "      <td>0.339</td>\n",
       "      <td>-5.307761</td>\n",
       "      <td>-2.587</td>\n",
       "      <td>2.924761</td>\n",
       "      <td>[[3.937038 0.       2.777679] Cd, [3.937038 0....</td>\n",
       "      <td>{'site': [18, 18, 18, 18, 10, 10, 10, 10, 4, 4...</td>\n",
       "      <td>0.209111</td>\n",
       "    </tr>\n",
       "    <tr>\n",
       "      <th>1</th>\n",
       "      <td>Li2F1Cl1/Li2F1Cl1_sg180_icsd_090403_1</td>\n",
       "      <td>12</td>\n",
       "      <td>210.74</td>\n",
       "      <td>-4.183</td>\n",
       "      <td>Li2F1Cl1</td>\n",
       "      <td>Li2F1Cl1_sg180_icsd_090403_1</td>\n",
       "      <td>0.085</td>\n",
       "      <td>-6.786662</td>\n",
       "      <td>-2.521</td>\n",
       "      <td>2.603662</td>\n",
       "      <td>[[1.1532705  1.997523   5.52217279] F, [2.3065...</td>\n",
       "      <td>{'site': [11, 11, 11, 2, 2, 2, 8, 8, 8, 8, 8, ...</td>\n",
       "      <td>-3.418234</td>\n",
       "    </tr>\n",
       "  </tbody>\n",
       "</table>\n",
       "</div>"
      ],
      "text/plain": [
       "                                      decoration  numatoms  relaxedvolume  \\\n",
       "0  Na1Cd1Cl1Br2/Na1Cd1Cl1Br2_sg140_icsd_411137_3        20         630.07   \n",
       "1          Li2F1Cl1/Li2F1Cl1_sg180_icsd_090403_1        12         210.74   \n",
       "\n",
       "   energyperatom          comp                                id  \\\n",
       "0         -2.383  Na1Cd1Cl1Br2  Na1Cd1Cl1Br2_sg140_icsd_411137_3   \n",
       "1         -4.183      Li2F1Cl1      Li2F1Cl1_sg180_icsd_090403_1   \n",
       "\n",
       "   decomp_energy  pred_energyperatom  pred_decomp_energy     ediff  \\\n",
       "0          0.339           -5.307761              -2.587  2.924761   \n",
       "1          0.085           -6.786662              -2.521  2.603662   \n",
       "\n",
       "                                           structure  \\\n",
       "0  [[3.937038 0.       2.777679] Cd, [3.937038 0....   \n",
       "1  [[1.1532705  1.997523   5.52217279] F, [2.3065...   \n",
       "\n",
       "                                              inputs  vol_model_pred  \n",
       "0  {'site': [18, 18, 18, 18, 10, 10, 10, 10, 4, 4...        0.209111  \n",
       "1  {'site': [11, 11, 11, 2, 2, 2, 8, 8, 8, 8, 8, ...       -3.418234  "
      ]
     },
     "execution_count": 15,
     "metadata": {},
     "output_type": "execute_result"
    }
   ],
   "source": [
    "df.head(2)"
   ]
  },
  {
   "cell_type": "code",
   "execution_count": 48,
   "id": "54e88ec7-739d-42b5-a528-2c6931d16d5b",
   "metadata": {},
   "outputs": [
    {
     "name": "stderr",
     "output_type": "stream",
     "text": [
      "*c* argument looks like a single numeric RGB or RGBA sequence, which should be avoided as value-mapping will have precedence in case its length matches with *x* & *y*.  Please use the *color* keyword-argument or provide a 2D array with a single row if you intend to specify the same RGB or RGBA value for all points.\n",
      "*c* argument looks like a single numeric RGB or RGBA sequence, which should be avoided as value-mapping will have precedence in case its length matches with *x* & *y*.  Please use the *color* keyword-argument or provide a 2D array with a single row if you intend to specify the same RGB or RGBA value for all points.\n"
     ]
    },
    {
     "data": {
      "image/png": "[encoded data removed]",
      "text/plain": [
       "<Figure size 576x288 with 2 Axes>"
      ]
     },
     "metadata": {
      "needs_background": "light"
     },
     "output_type": "display_data"
    }
   ],
   "source": [
    "f, (ax1, ax2) = plt.subplots(ncols=2, figsize=(8,4))\n",
    "\n",
    "ax = ax1\n",
    "pred_col = \"vol_model_pred\"\n",
    "df.plot.scatter(x=\"energyperatom\", y=pred_col, ax=ax,\n",
    "                alpha=0.8,\n",
    "               )\n",
    "ax.plot([-5.5,-3], [-5.5,-3], ls='--', c='gray')\n",
    "ax.set_xlabel(\"DFT total energy (eV/atom)\")\n",
    "ax.set_ylabel(\"Volume-only GNN Pred. eV/atom\")\n",
    "mae = (df['energyperatom'] - df[pred_col]).abs().mean()\n",
    "ax.text(1, 0.025, f'MAE: {mae:.3f} eV/atom',\n",
    "        ha='right', va='bottom', transform=ax.transAxes, fontsize=10)\n",
    "\n",
    "ax = ax2\n",
    "df.plot.scatter(x=\"decomp_energy\", y=\"volpred_decomp_energy\", ax=ax,\n",
    "                alpha=0.8,\n",
    "               )\n",
    "ax.plot([-1,2], [-1,2], ls='--', c='gray')\n",
    "ax.set_xlabel(\"DFT decomposition energy (eV/atom)\")\n",
    "ax.set_ylabel(\"Volume-only GNN Pred. decomp energy\")\n",
    "mae = (df['decomp_energy'] - df[\"volpred_decomp_energy\"]).abs().mean()\n",
    "ax.text(1, 0.025, f'MAE: {mae:.3f} eV/atom',\n",
    "        ha='right', va='bottom', transform=ax.transAxes, fontsize=10)\n",
    "\n",
    "plt.show()\n",
    "plt.close()"
   ]
  },
  {
   "cell_type": "markdown",
   "id": "5623ddb5-c84e-42b9-9335-696c19fb2a3a",
   "metadata": {},
   "source": [
    "## Repeat for the icsd + relaxed + vol-relaxed model"
   ]
  },
  {
   "cell_type": "code",
   "execution_count": 19,
   "id": "2c8ce690-1fc6-4a89-8389-89b71713c877",
   "metadata": {},
   "outputs": [],
   "source": [
    "base_dir = \"/projects/rlmolecule/jlaw/projects/crystal-gnn-nfp-0.3-fork\"\n",
    "model_dir = Path(base_dir, \"outputs/20220422_batt_icsd_and_volunrelax-2\")\n",
    "# model_dir = "
   ]
  },
  {
   "cell_type": "code",
   "execution_count": 20,
   "id": "b64a659e-31cb-41ce-9447-7aca86f6af55",
   "metadata": {},
   "outputs": [
    {
     "name": "stdout",
     "output_type": "stream",
     "text": [
      "loading /projects/rlmolecule/jlaw/projects/crystal-gnn-nfp-0.3-fork/outputs/20220422_batt_icsd_and_volunrelax-2/best_model.hdf5\n"
     ]
    }
   ],
   "source": [
    "# make sure to load the preprocessor that was used for \n",
    "preprocessor = PymatgenPreprocessor()\n",
    "#preprocessor.from_json(Path(inputs_dir, \"preprocessor.json\"))\n",
    "# TODO preprocessor should match the data files\n",
    "# preprocessor should be in the same dir as the data files\n",
    "preprocessor.from_json(Path(model_dir, \"preprocessor.json\"))\n",
    "\n",
    "energy_model_file = Path(model_dir, \"best_model.hdf5\")\n",
    "print(f\"loading {energy_model_file}\")\n",
    "energy_model = tf.keras.models.load_model(energy_model_file,\n",
    "                                          custom_objects={**custom_objects,\n",
    "                                                          **{'RBFExpansion': RBFExpansion}})"
   ]
  },
  {
   "cell_type": "code",
   "execution_count": 21,
   "id": "8be70971-031e-4678-8189-a0ffed60af10",
   "metadata": {},
   "outputs": [],
   "source": [
    "# the structures already have the linear+DLS predicted volume, so just need to make the prediction now\n",
    "predicted_energy = energy_model.predict(dataset)\n",
    "df['fixed_pred_epa'] = predicted_energy"
   ]
  },
  {
   "cell_type": "code",
   "execution_count": 22,
   "id": "4d12e68c-ca41-42c4-86a8-be7caa0e18b7",
   "metadata": {},
   "outputs": [
    {
     "data": {
      "application/vnd.jupyter.widget-view+json": {
       "model_id": "bebe023c65734fad899582b61e6197cc",
       "version_major": 2,
       "version_minor": 0
      },
      "text/plain": [
       "  0%|          | 0/534 [00:00<?, ?it/s]"
      ]
     },
     "metadata": {},
     "output_type": "display_data"
    },
    {
     "name": "stdout",
     "output_type": "stream",
     "text": [
      "exception '_cdd.error' not a BaseException subclass\n",
      "Failed at stability.run_stability for Cl2N2Na4Si1 (pred_energy: -2.12191104888916). Skipping\n",
      "\n",
      "exception '_cdd.error' not a BaseException subclass\n",
      "Failed at stability.run_stability for Cl4N1Na3Si1 (pred_energy: -2.635756492614746). Skipping\n",
      "\n"
     ]
    }
   ],
   "source": [
    "# also compute what the decomposition energy would be\n",
    "df['fixed_pred_decomp_energy'] = df.progress_apply(\n",
    "    lambda row: compute_decomp_energy(row.structure,\n",
    "                                      row.fixed_pred_epa,\n",
    "                                      df_competing_phases),\n",
    "    axis=1)"
   ]
  },
  {
   "cell_type": "code",
   "execution_count": 23,
   "id": "266327ea-5317-4718-a07e-229260d97d79",
   "metadata": {},
   "outputs": [
    {
     "data": {
      "text/html": [
       "<div>\n",
       "<style scoped>\n",
       "    .dataframe tbody tr th:only-of-type {\n",
       "        vertical-align: middle;\n",
       "    }\n",
       "\n",
       "    .dataframe tbody tr th {\n",
       "        vertical-align: top;\n",
       "    }\n",
       "\n",
       "    .dataframe thead th {\n",
       "        text-align: right;\n",
       "    }\n",
       "</style>\n",
       "<table border=\"1\" class=\"dataframe\">\n",
       "  <thead>\n",
       "    <tr style=\"text-align: right;\">\n",
       "      <th></th>\n",
       "      <th>decoration</th>\n",
       "      <th>numatoms</th>\n",
       "      <th>relaxedvolume</th>\n",
       "      <th>energyperatom</th>\n",
       "      <th>comp</th>\n",
       "      <th>id</th>\n",
       "      <th>decomp_energy</th>\n",
       "      <th>pred_energyperatom</th>\n",
       "      <th>pred_decomp_energy</th>\n",
       "      <th>ediff</th>\n",
       "      <th>structure</th>\n",
       "      <th>inputs</th>\n",
       "      <th>vol_model_pred</th>\n",
       "      <th>volpred_decomp_energy</th>\n",
       "      <th>fixed_pred_epa</th>\n",
       "      <th>fixed_pred_decomp_energy</th>\n",
       "    </tr>\n",
       "  </thead>\n",
       "  <tbody>\n",
       "    <tr>\n",
       "      <th>0</th>\n",
       "      <td>Na1Cd1Cl1Br2/Na1Cd1Cl1Br2_sg140_icsd_411137_3</td>\n",
       "      <td>20</td>\n",
       "      <td>630.07</td>\n",
       "      <td>-2.383</td>\n",
       "      <td>Na1Cd1Cl1Br2</td>\n",
       "      <td>Na1Cd1Cl1Br2_sg140_icsd_411137_3</td>\n",
       "      <td>0.339</td>\n",
       "      <td>-5.307761</td>\n",
       "      <td>-2.587</td>\n",
       "      <td>2.924761</td>\n",
       "      <td>[[3.937038 0.       2.777679] Cd, [3.937038 0....</td>\n",
       "      <td>{'site': [18, 18, 18, 18, 10, 10, 10, 10, 4, 4...</td>\n",
       "      <td>0.209111</td>\n",
       "      <td>1.705</td>\n",
       "      <td>-1.999254</td>\n",
       "      <td>0.723</td>\n",
       "    </tr>\n",
       "    <tr>\n",
       "      <th>1</th>\n",
       "      <td>Li2F1Cl1/Li2F1Cl1_sg180_icsd_090403_1</td>\n",
       "      <td>12</td>\n",
       "      <td>210.74</td>\n",
       "      <td>-4.183</td>\n",
       "      <td>Li2F1Cl1</td>\n",
       "      <td>Li2F1Cl1_sg180_icsd_090403_1</td>\n",
       "      <td>0.085</td>\n",
       "      <td>-6.786662</td>\n",
       "      <td>-2.521</td>\n",
       "      <td>2.603662</td>\n",
       "      <td>[[1.1532705  1.997523   5.52217279] F, [2.3065...</td>\n",
       "      <td>{'site': [11, 11, 11, 2, 2, 2, 8, 8, 8, 8, 8, ...</td>\n",
       "      <td>-3.418234</td>\n",
       "      <td>0.849</td>\n",
       "      <td>-3.806172</td>\n",
       "      <td>0.461</td>\n",
       "    </tr>\n",
       "  </tbody>\n",
       "</table>\n",
       "</div>"
      ],
      "text/plain": [
       "                                      decoration  numatoms  relaxedvolume  \\\n",
       "0  Na1Cd1Cl1Br2/Na1Cd1Cl1Br2_sg140_icsd_411137_3        20         630.07   \n",
       "1          Li2F1Cl1/Li2F1Cl1_sg180_icsd_090403_1        12         210.74   \n",
       "\n",
       "   energyperatom          comp                                id  \\\n",
       "0         -2.383  Na1Cd1Cl1Br2  Na1Cd1Cl1Br2_sg140_icsd_411137_3   \n",
       "1         -4.183      Li2F1Cl1      Li2F1Cl1_sg180_icsd_090403_1   \n",
       "\n",
       "   decomp_energy  pred_energyperatom  pred_decomp_energy     ediff  \\\n",
       "0          0.339           -5.307761              -2.587  2.924761   \n",
       "1          0.085           -6.786662              -2.521  2.603662   \n",
       "\n",
       "                                           structure  \\\n",
       "0  [[3.937038 0.       2.777679] Cd, [3.937038 0....   \n",
       "1  [[1.1532705  1.997523   5.52217279] F, [2.3065...   \n",
       "\n",
       "                                              inputs  vol_model_pred  \\\n",
       "0  {'site': [18, 18, 18, 18, 10, 10, 10, 10, 4, 4...        0.209111   \n",
       "1  {'site': [11, 11, 11, 2, 2, 2, 8, 8, 8, 8, 8, ...       -3.418234   \n",
       "\n",
       "   volpred_decomp_energy  fixed_pred_epa  fixed_pred_decomp_energy  \n",
       "0                  1.705       -1.999254                     0.723  \n",
       "1                  0.849       -3.806172                     0.461  "
      ]
     },
     "execution_count": 23,
     "metadata": {},
     "output_type": "execute_result"
    }
   ],
   "source": [
    "df.head(2)"
   ]
  },
  {
   "cell_type": "code",
   "execution_count": 47,
   "id": "9ec4ea60-2f1f-4f0c-bf0c-825c959c160c",
   "metadata": {},
   "outputs": [
    {
     "name": "stderr",
     "output_type": "stream",
     "text": [
      "*c* argument looks like a single numeric RGB or RGBA sequence, which should be avoided as value-mapping will have precedence in case its length matches with *x* & *y*.  Please use the *color* keyword-argument or provide a 2D array with a single row if you intend to specify the same RGB or RGBA value for all points.\n",
      "*c* argument looks like a single numeric RGB or RGBA sequence, which should be avoided as value-mapping will have precedence in case its length matches with *x* & *y*.  Please use the *color* keyword-argument or provide a 2D array with a single row if you intend to specify the same RGB or RGBA value for all points.\n"
     ]
    },
    {
     "data": {
      "image/png": "[encoded data removed]",
      "text/plain": [
       "<Figure size 576x288 with 2 Axes>"
      ]
     },
     "metadata": {
      "needs_background": "light"
     },
     "output_type": "display_data"
    }
   ],
   "source": [
    "f, (ax1, ax2) = plt.subplots(ncols=2, figsize=(8,4))\n",
    "\n",
    "ax = ax1\n",
    "df.plot.scatter(x=\"energyperatom\", y=\"fixed_pred_epa\", ax=ax,\n",
    "                alpha=0.8,\n",
    "               )\n",
    "ax.plot([-5.5,-3], [-5.5,-3], ls='--', c='gray')\n",
    "ax.set_xlabel(\"DFT total energy (eV/atom)\")\n",
    "ax.set_ylabel(\"GNN Pred. total energy\")\n",
    "mae = (df['energyperatom'] - df[\"fixed_pred_epa\"]).abs().mean()\n",
    "ax.text(1, 0.025, f'MAE: {mae:.3f} eV/atom',\n",
    "        ha='right', va='bottom', transform=ax.transAxes, fontsize=10)\n",
    "\n",
    "ax = ax2\n",
    "df.plot.scatter(x=\"decomp_energy\", y=\"fixed_pred_decomp_energy\", ax=ax,\n",
    "                alpha=0.8,\n",
    "               )\n",
    "ax.plot([-2,2], [-2,2], ls='--', c='gray')\n",
    "ax.set_xlabel(\"DFT decomposition energy (eV/atom)\")\n",
    "ax.set_ylabel(\"GNN Pred. decomp energy\")\n",
    "mae = (df['decomp_energy'] - df[\"fixed_pred_decomp_energy\"]).abs().mean()\n",
    "ax.text(1, 0.025, f'MAE: {mae:.3f} eV/atom',\n",
    "        ha='right', va='bottom', transform=ax.transAxes, fontsize=10)\n",
    "\n",
    "plt.suptitle(\"ICSD + Batt + Vol with Linear + DLS (1.5) volpred\")\n",
    "\n",
    "plt.show()\n",
    "plt.close()"
   ]
  },
  {
   "cell_type": "markdown",
   "id": "d266fd9d-7e90-43f9-8a68-d7c5891c1f61",
   "metadata": {},
   "source": [
    "## Repeat again for normalized input structures"
   ]
  },
  {
   "cell_type": "code",
   "execution_count": 32,
   "id": "fd4ebcf2-e99c-49ef-9c60-c5e61f44d42e",
   "metadata": {},
   "outputs": [],
   "source": [
    "base_dir = \"/projects/rlmolecule/jlaw/projects/crystal-gnn-nfp-0.3-fork\"\n",
    "model_dir = Path(base_dir, \"outputs/20220422_batt_icsd_and_volunrelax_norm\")"
   ]
  },
  {
   "cell_type": "code",
   "execution_count": 33,
   "id": "81efbfea-54bb-4b99-95ce-1b485806aafe",
   "metadata": {},
   "outputs": [
    {
     "name": "stdout",
     "output_type": "stream",
     "text": [
      "loading /projects/rlmolecule/jlaw/projects/crystal-gnn-nfp-0.3-fork/outputs/20220422_batt_icsd_and_volunrelax_norm/best_model.hdf5\n"
     ]
    }
   ],
   "source": [
    "# make sure to load the preprocessor that was used for \n",
    "preprocessor = PymatgenPreprocessor()\n",
    "#preprocessor.from_json(Path(inputs_dir, \"preprocessor.json\"))\n",
    "# TODO preprocessor should match the data files\n",
    "# preprocessor should be in the same dir as the data files\n",
    "preprocessor.from_json(Path(model_dir, \"preprocessor.json\"))\n",
    "\n",
    "energy_model_file = Path(model_dir, \"best_model.hdf5\")\n",
    "print(f\"loading {energy_model_file}\")\n",
    "energy_model = tf.keras.models.load_model(energy_model_file,\n",
    "                                          custom_objects={**custom_objects,\n",
    "                                                          **{'RBFExpansion': RBFExpansion}})"
   ]
  },
  {
   "cell_type": "code",
   "execution_count": 39,
   "id": "67a0e0d4-26d4-4484-a123-53de265ebacf",
   "metadata": {},
   "outputs": [],
   "source": [
    "def scale_to_min_dist(inputs):\n",
    "    inputs[\"distance\"] /= inputs[\"distance\"].min()\n",
    "    return inputs"
   ]
  },
  {
   "cell_type": "code",
   "execution_count": 41,
   "id": "5056d39e-3195-4efa-840d-0c75800dcfc3",
   "metadata": {},
   "outputs": [],
   "source": [
    "df['inputs_norm'] = df.inputs.copy().apply(scale_to_min_dist)\n",
    "\n",
    "dataset_norm = build_dataset(df.inputs_norm, 8)\n",
    "predicted_energy = energy_model.predict(dataset_norm)\n",
    "pred_col = 'norm_pred_epa'\n",
    "df[pred_col] = predicted_energy"
   ]
  },
  {
   "cell_type": "code",
   "execution_count": 49,
   "id": "e4aac6cd-4a2d-4893-a3dc-9ae4afe04ad3",
   "metadata": {},
   "outputs": [
    {
     "data": {
      "application/vnd.jupyter.widget-view+json": {
       "model_id": "1415bc263a534a7ab96a720be0021aac",
       "version_major": 2,
       "version_minor": 0
      },
      "text/plain": [
       "  0%|          | 0/534 [00:00<?, ?it/s]"
      ]
     },
     "metadata": {},
     "output_type": "display_data"
    },
    {
     "name": "stdout",
     "output_type": "stream",
     "text": [
      "exception '_cdd.error' not a BaseException subclass\n",
      "Failed at stability.run_stability for Cl2N2Na4Si1 (pred_energy: -1.6001025438308716). Skipping\n",
      "\n",
      "exception '_cdd.error' not a BaseException subclass\n",
      "Failed at stability.run_stability for Cl4N1Na3Si1 (pred_energy: -1.7361335754394531). Skipping\n",
      "\n"
     ]
    }
   ],
   "source": [
    "# also compute what the decomposition energy would be\n",
    "df['norm_pred_decomp_energy'] = df.progress_apply(\n",
    "    lambda row: compute_decomp_energy(row.structure,\n",
    "                                      row[pred_col],\n",
    "                                      df_competing_phases),\n",
    "    axis=1)"
   ]
  },
  {
   "cell_type": "code",
   "execution_count": 51,
   "id": "dac3bc27-952d-44cf-85b5-d409120fe020",
   "metadata": {},
   "outputs": [
    {
     "data": {
      "text/html": [
       "<div>\n",
       "<style scoped>\n",
       "    .dataframe tbody tr th:only-of-type {\n",
       "        vertical-align: middle;\n",
       "    }\n",
       "\n",
       "    .dataframe tbody tr th {\n",
       "        vertical-align: top;\n",
       "    }\n",
       "\n",
       "    .dataframe thead th {\n",
       "        text-align: right;\n",
       "    }\n",
       "</style>\n",
       "<table border=\"1\" class=\"dataframe\">\n",
       "  <thead>\n",
       "    <tr style=\"text-align: right;\">\n",
       "      <th></th>\n",
       "      <th>decoration</th>\n",
       "      <th>numatoms</th>\n",
       "      <th>relaxedvolume</th>\n",
       "      <th>energyperatom</th>\n",
       "      <th>comp</th>\n",
       "      <th>id</th>\n",
       "      <th>decomp_energy</th>\n",
       "      <th>pred_energyperatom</th>\n",
       "      <th>pred_decomp_energy</th>\n",
       "      <th>ediff</th>\n",
       "      <th>structure</th>\n",
       "      <th>inputs</th>\n",
       "      <th>vol_model_pred</th>\n",
       "      <th>volpred_decomp_energy</th>\n",
       "      <th>fixed_pred_epa</th>\n",
       "      <th>fixed_pred_decomp_energy</th>\n",
       "      <th>norm_pred_epa</th>\n",
       "      <th>norm_pred_decomp_energy</th>\n",
       "      <th>inputs_norm</th>\n",
       "    </tr>\n",
       "  </thead>\n",
       "  <tbody>\n",
       "    <tr>\n",
       "      <th>0</th>\n",
       "      <td>Na1Cd1Cl1Br2/Na1Cd1Cl1Br2_sg140_icsd_411137_3</td>\n",
       "      <td>20</td>\n",
       "      <td>630.07</td>\n",
       "      <td>-2.383</td>\n",
       "      <td>Na1Cd1Cl1Br2</td>\n",
       "      <td>Na1Cd1Cl1Br2_sg140_icsd_411137_3</td>\n",
       "      <td>0.339</td>\n",
       "      <td>-5.307761</td>\n",
       "      <td>-2.587</td>\n",
       "      <td>2.924761</td>\n",
       "      <td>[[3.937038 0.       2.777679] Cd, [3.937038 0....</td>\n",
       "      <td>{'site': [18, 18, 18, 18, 10, 10, 10, 10, 4, 4...</td>\n",
       "      <td>0.209111</td>\n",
       "      <td>1.705</td>\n",
       "      <td>-1.999254</td>\n",
       "      <td>0.723</td>\n",
       "      <td>-1.977171</td>\n",
       "      <td>1.705</td>\n",
       "      <td>{'site': [18, 18, 18, 18, 10, 10, 10, 10, 4, 4...</td>\n",
       "    </tr>\n",
       "    <tr>\n",
       "      <th>1</th>\n",
       "      <td>Li2F1Cl1/Li2F1Cl1_sg180_icsd_090403_1</td>\n",
       "      <td>12</td>\n",
       "      <td>210.74</td>\n",
       "      <td>-4.183</td>\n",
       "      <td>Li2F1Cl1</td>\n",
       "      <td>Li2F1Cl1_sg180_icsd_090403_1</td>\n",
       "      <td>0.085</td>\n",
       "      <td>-6.786662</td>\n",
       "      <td>-2.521</td>\n",
       "      <td>2.603662</td>\n",
       "      <td>[[1.1532705  1.997523   5.52217279] F, [2.3065...</td>\n",
       "      <td>{'site': [11, 11, 11, 2, 2, 2, 8, 8, 8, 8, 8, ...</td>\n",
       "      <td>-3.418234</td>\n",
       "      <td>0.849</td>\n",
       "      <td>-3.806172</td>\n",
       "      <td>0.461</td>\n",
       "      <td>-3.806314</td>\n",
       "      <td>0.849</td>\n",
       "      <td>{'site': [11, 11, 11, 2, 2, 2, 8, 8, 8, 8, 8, ...</td>\n",
       "    </tr>\n",
       "  </tbody>\n",
       "</table>\n",
       "</div>"
      ],
      "text/plain": [
       "                                      decoration  numatoms  relaxedvolume  \\\n",
       "0  Na1Cd1Cl1Br2/Na1Cd1Cl1Br2_sg140_icsd_411137_3        20         630.07   \n",
       "1          Li2F1Cl1/Li2F1Cl1_sg180_icsd_090403_1        12         210.74   \n",
       "\n",
       "   energyperatom          comp                                id  \\\n",
       "0         -2.383  Na1Cd1Cl1Br2  Na1Cd1Cl1Br2_sg140_icsd_411137_3   \n",
       "1         -4.183      Li2F1Cl1      Li2F1Cl1_sg180_icsd_090403_1   \n",
       "\n",
       "   decomp_energy  pred_energyperatom  pred_decomp_energy     ediff  \\\n",
       "0          0.339           -5.307761              -2.587  2.924761   \n",
       "1          0.085           -6.786662              -2.521  2.603662   \n",
       "\n",
       "                                           structure  \\\n",
       "0  [[3.937038 0.       2.777679] Cd, [3.937038 0....   \n",
       "1  [[1.1532705  1.997523   5.52217279] F, [2.3065...   \n",
       "\n",
       "                                              inputs  vol_model_pred  \\\n",
       "0  {'site': [18, 18, 18, 18, 10, 10, 10, 10, 4, 4...        0.209111   \n",
       "1  {'site': [11, 11, 11, 2, 2, 2, 8, 8, 8, 8, 8, ...       -3.418234   \n",
       "\n",
       "   volpred_decomp_energy  fixed_pred_epa  fixed_pred_decomp_energy  \\\n",
       "0                  1.705       -1.999254                     0.723   \n",
       "1                  0.849       -3.806172                     0.461   \n",
       "\n",
       "   norm_pred_epa  norm_pred_decomp_energy  \\\n",
       "0      -1.977171                    1.705   \n",
       "1      -3.806314                    0.849   \n",
       "\n",
       "                                         inputs_norm  \n",
       "0  {'site': [18, 18, 18, 18, 10, 10, 10, 10, 4, 4...  \n",
       "1  {'site': [11, 11, 11, 2, 2, 2, 8, 8, 8, 8, 8, ...  "
      ]
     },
     "execution_count": 51,
     "metadata": {},
     "output_type": "execute_result"
    }
   ],
   "source": [
    "df.head(2)"
   ]
  },
  {
   "cell_type": "code",
   "execution_count": 52,
   "id": "8d878a23-3420-46ba-8484-875a37a2303d",
   "metadata": {},
   "outputs": [
    {
     "name": "stderr",
     "output_type": "stream",
     "text": [
      "*c* argument looks like a single numeric RGB or RGBA sequence, which should be avoided as value-mapping will have precedence in case its length matches with *x* & *y*.  Please use the *color* keyword-argument or provide a 2D array with a single row if you intend to specify the same RGB or RGBA value for all points.\n",
      "*c* argument looks like a single numeric RGB or RGBA sequence, which should be avoided as value-mapping will have precedence in case its length matches with *x* & *y*.  Please use the *color* keyword-argument or provide a 2D array with a single row if you intend to specify the same RGB or RGBA value for all points.\n"
     ]
    },
    {
     "data": {
      "image/png": "[encoded data removed]",
      "text/plain": [
       "<Figure size 576x288 with 2 Axes>"
      ]
     },
     "metadata": {
      "needs_background": "light"
     },
     "output_type": "display_data"
    }
   ],
   "source": [
    "f, (ax1, ax2) = plt.subplots(ncols=2, figsize=(8,4))\n",
    "\n",
    "ax = ax1\n",
    "df.plot.scatter(x=\"energyperatom\", y=pred_col, ax=ax,\n",
    "                alpha=0.8,)\n",
    "ax.plot([-5.5,-3], [-5.5,-3], ls='--', c='gray')\n",
    "ax.set_xlabel(\"DFT total energy (eV/atom)\")\n",
    "ax.set_ylabel(\"GNN Pred. total energy\")\n",
    "mae = (df['energyperatom'] - df[pred_col]).abs().mean()\n",
    "ax.text(1, 0.025, f'MAE: {mae:.3f} eV/atom',\n",
    "        ha='right', va='bottom', transform=ax.transAxes, fontsize=10)\n",
    "\n",
    "ax = ax2\n",
    "df.plot.scatter(x=\"decomp_energy\", y=\"norm_pred_decomp_energy\", ax=ax,\n",
    "                alpha=0.8,)\n",
    "ax.plot([-2,2], [-2,2], ls='--', c='gray')\n",
    "ax.set_xlabel(\"DFT decomposition energy (eV/atom)\")\n",
    "ax.set_ylabel(\"GNN Pred. decomp energy\")\n",
    "mae = (df['decomp_energy'] - df[\"norm_pred_decomp_energy\"]).abs().mean()\n",
    "ax.text(1, 0.025, f'MAE: {mae:.3f} eV/atom',\n",
    "        ha='right', va='bottom', transform=ax.transAxes, fontsize=10)\n",
    "\n",
    "plt.suptitle(\"ICSD + Batt + Vol scaled to mindist=1\")\n",
    "\n",
    "plt.show()\n",
    "plt.close()"
   ]
  },
  {
   "cell_type": "code",
   "execution_count": null,
   "id": "815876e4-2d80-42f5-a085-9a03f42adf97",
   "metadata": {},
   "outputs": [],
   "source": []
  }
 ],
 "metadata": {
  "kernelspec": {
   "display_name": "Python 3 (ipykernel)",
   "language": "python",
   "name": "python3"
  },
  "language_info": {
   "codemirror_mode": {
    "name": "ipython",
    "version": 3
   },
   "file_extension": ".py",
   "mimetype": "text/x-python",
   "name": "python",
   "nbconvert_exporter": "python",
   "pygments_lexer": "ipython3",
   "version": "3.8.12"
  }
 },
 "nbformat": 4,
 "nbformat_minor": 5
}
