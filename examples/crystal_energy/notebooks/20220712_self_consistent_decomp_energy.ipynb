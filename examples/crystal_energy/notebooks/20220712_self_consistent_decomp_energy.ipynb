{
 "cells": [
  {
   "cell_type": "code",
   "execution_count": null,
   "id": "0a4aa494-580b-49e7-8f0e-3cb46f12c79e",
   "metadata": {},
   "outputs": [],
   "source": [
    "import os\n",
    "import sys\n",
    "import numpy as np\n",
    "# import psycopg2\n",
    "import sqlalchemy\n",
    "from tqdm.notebook import tqdm\n",
    "tqdm.pandas()\n",
    "import pandas as pd\n",
    "from collections import defaultdict\n",
    "from collections import Counter\n",
    "\n",
    "import matplotlib.pyplot as plt\n",
    "import seaborn as sns\n",
    "sns.set(\n",
    "    context='paper',\n",
    "    font_scale=8/8.8,\n",
    "#     context=\"talk\",\n",
    "    style='ticks',\n",
    "    color_codes=True,\n",
    "    rc={'legend.frameon': False})\n",
    "\n",
    "plt.rcParams['svg.fonttype'] = 'none'\n",
    "\n",
    "%matplotlib inline"
   ]
  },
  {
   "cell_type": "code",
   "execution_count": null,
   "id": "dc4607be-a5d1-4900-b466-ebf7f925ae2b",
   "metadata": {},
   "outputs": [],
   "source": [
    "print(np.__version__)\n",
    "print(pd.__version__)"
   ]
  },
  {
   "cell_type": "code",
   "execution_count": null,
   "id": "621f83b0-b79c-4aa3-a092-e2c9a0e7a3b7",
   "metadata": {},
   "outputs": [],
   "source": [
    "from pymatgen.core import Composition\n",
    "from pymatgen.analysis.phase_diagram import PhaseDiagram, PDEntry"
   ]
  },
  {
   "cell_type": "code",
   "execution_count": null,
   "id": "7e55e47c-29fc-420d-9f0f-e2053e0e69aa",
   "metadata": {},
   "outputs": [],
   "source": [
    "os.chdir('../')"
   ]
  },
  {
   "cell_type": "code",
   "execution_count": null,
   "id": "630c5514-9aca-4c65-9f59-0df708837968",
   "metadata": {},
   "outputs": [],
   "source": [
    "print(os.getcwd())\n",
    "sys.path.append('../../')\n",
    "import rlmolecule\n",
    "from rlmolecule.sql.run_config import RunConfig\n",
    "from rlmolecule.sql import Base, Session\n",
    "from rlmolecule.sql.tables import GameStore, RewardStore, StateStore\n",
    "from rlmolecule.crystal.crystal_state import CrystalState\n",
    "from rlmolecule.crystal import ehull\n",
    "from rlmolecule.crystal.ehull import fere_entries"
   ]
  },
  {
   "cell_type": "code",
   "execution_count": null,
   "id": "4ca15c0b-3227-4664-8772-b5ecb9235a57",
   "metadata": {},
   "outputs": [],
   "source": [
    "rewards_file = \"/projects/rlmolecule/jlaw/crystal_outputs/2022-07-05/self_consistent_decomp_energies.csv\"\n",
    "df = pd.read_csv(rewards_file)\n",
    "print(len(df))\n",
    "df.head(2)"
   ]
  },
  {
   "cell_type": "code",
   "execution_count": null,
   "id": "5626a3ef-dbc3-46bf-a5fe-c26a17b1aa03",
   "metadata": {},
   "outputs": [],
   "source": [
    "len(df[df.decomp_energy < -.1])"
   ]
  },
  {
   "cell_type": "code",
   "execution_count": null,
   "id": "3871c40c-ff3a-46d5-a21f-1f13314b852c",
   "metadata": {},
   "outputs": [],
   "source": [
    "ax = df[(df.decomp_energy > -.5) & (df.decomp_energy < .5)].decomp_energy.hist(bins=50)\n",
    "ax.set_xticks(np.arange(-.5, .6, .1))\n",
    "plt.show()"
   ]
  },
  {
   "cell_type": "code",
   "execution_count": null,
   "id": "345e3061-565e-4c14-9466-60b509f3d4a3",
   "metadata": {},
   "outputs": [],
   "source": [
    "df.decomp_energy.hist(bins=30)"
   ]
  },
  {
   "cell_type": "markdown",
   "id": "24c38bd6-b8d3-40a8-a9f5-ba6c936bbcba",
   "metadata": {},
   "source": [
    "## Double check the decomposition for some structures"
   ]
  },
  {
   "cell_type": "code",
   "execution_count": null,
   "id": "8c32ba15-5384-4b70-ab6f-438eafae0147",
   "metadata": {},
   "outputs": [],
   "source": [
    "def setup_competing_phases(competing_phases_files):\n",
    "    if not isinstance(competing_phases_files, list):\n",
    "        competing_phases_files = [competing_phases_files]\n",
    "    all_competing_phases = [load_competing_phases(f) for f in competing_phases_files]\n",
    "\n",
    "    # also add the individual elements\n",
    "    competing_phases = pd.concat([pd.Series(fere_entries)] + all_competing_phases).reset_index()[0]\n",
    "    return competing_phases\n",
    "\n",
    "\n",
    "def load_competing_phases(competing_phases_file):\n",
    "    print(f\"Reading {competing_phases_file}\")\n",
    "    df = pd.read_csv(competing_phases_file)\n",
    "    print(f\"\\t{len(df)} lines\")\n",
    "    print(df.head(2))\n",
    "\n",
    "    assert ('sortedformula' in df.columns or 'comp' in df.columns) \\\n",
    "        and ('energyperatom' in df.columns or 'predicted_energy' in df.columns)\n",
    "    if 'sortedformula' not in df.columns:\n",
    "        df.rename(columns={'comp': 'sortedformula'}, inplace=True)\n",
    "    if 'energyperatom' not in df.columns:\n",
    "        df.rename(columns={'predicted_energy': 'energyperatom'}, inplace=True)\n",
    "    print(\"columns after renaming:\", df.columns)\n",
    "\n",
    "    df['energy'] = (\n",
    "        df.energyperatom *\n",
    "        df.sortedformula.apply(lambda x: Composition(x).num_atoms)\n",
    "    )\n",
    "    # convert the dataframe to a list of PDEntries used to create the convex hull\n",
    "    pd_entries = df.apply(\n",
    "        lambda row: PDEntry(Composition(row.sortedformula),\n",
    "                            row.energy),\n",
    "        axis=1\n",
    "    )\n",
    "    print(f\"\\t{len(pd_entries)} entries\")\n",
    "    return pd_entries"
   ]
  },
  {
   "cell_type": "code",
   "execution_count": null,
   "id": "cfaee69d-0933-430b-a5f9-33ddb098971a",
   "metadata": {},
   "outputs": [],
   "source": [
    "competing_phases_files = [\n",
    "    \"/projects/rlmolecule/jlaw/rlmolecule/examples/crystal_energy/inputs/competing_phases.csv\",\n",
    "    \"/projects/rlmolecule/jlaw/crystal_outputs/2022-07-05/best_decor_rewards.csv.gz\",\n",
    "]"
   ]
  },
  {
   "cell_type": "code",
   "execution_count": null,
   "id": "479daa76-4715-420a-a078-37a05556bf42",
   "metadata": {},
   "outputs": [],
   "source": [
    "competing_phases = setup_competing_phases(competing_phases_files)"
   ]
  },
  {
   "cell_type": "code",
   "execution_count": null,
   "id": "e6aa4cb3-0a4f-4aa7-b52b-02c4bbf81d10",
   "metadata": {},
   "outputs": [],
   "source": [
    "df[df.decor_id == \"Li1Ge1O1N1|_1_1_1_1|orthorhombic|icsd_183047|2\"]"
   ]
  },
  {
   "cell_type": "code",
   "execution_count": null,
   "id": "b95dfe9c-7a9d-4ce6-b88d-c04e6db80408",
   "metadata": {},
   "outputs": [],
   "source": [
    "comp = Composition(\"Li1Ge1O1N1\")\n",
    "entry = PDEntry(comp, -24.524)\n",
    "entry"
   ]
  },
  {
   "cell_type": "code",
   "execution_count": null,
   "id": "e5bd138f-9244-4d49-a109-d2870e00b681",
   "metadata": {},
   "outputs": [],
   "source": [
    "elements = set(comp.elements)\n",
    "curr_entries = [e for e in competing_phases if len(set(e.composition.elements) - elements) == 0\n",
    "                             and e != entry]\n",
    "curr_entries"
   ]
  },
  {
   "cell_type": "code",
   "execution_count": null,
   "id": "7ae7b1da-9620-44df-aa92-27aae3f040a7",
   "metadata": {},
   "outputs": [],
   "source": [
    "phase_diagram = PhaseDiagram(curr_entries, elements=elements)"
   ]
  },
  {
   "cell_type": "code",
   "execution_count": null,
   "id": "af4a4f43-5c48-4628-a014-0d2fca33492c",
   "metadata": {},
   "outputs": [],
   "source": [
    "decomp, decomp_energy = phase_diagram.get_decomp_and_e_above_hull(\n",
    "    entry,\n",
    "    allow_negative=True,\n",
    "    # docs say: \"if you have a huge proportion of unstable entries,\n",
    "    # then this check can slow things down.\"\n",
    "    check_stable=False)"
   ]
  },
  {
   "cell_type": "code",
   "execution_count": null,
   "id": "a63c7f72-c4f8-4d1b-8d08-27239ec86ead",
   "metadata": {},
   "outputs": [],
   "source": [
    "print(comp, decomp_energy)\n",
    "decomp"
   ]
  },
  {
   "cell_type": "code",
   "execution_count": null,
   "id": "d6b3a2b6-c653-424e-baa1-2770f9371f29",
   "metadata": {},
   "outputs": [],
   "source": []
  }
 ],
 "metadata": {
  "kernelspec": {
   "display_name": "Python 3 (ipykernel)",
   "language": "python",
   "name": "python3"
  },
  "language_info": {
   "codemirror_mode": {
    "name": "ipython",
    "version": 3
   },
   "file_extension": ".py",
   "mimetype": "text/x-python",
   "name": "python",
   "nbconvert_exporter": "python",
   "pygments_lexer": "ipython3",
   "version": "3.8.13"
  }
 },
 "nbformat": 4,
 "nbformat_minor": 5
}
