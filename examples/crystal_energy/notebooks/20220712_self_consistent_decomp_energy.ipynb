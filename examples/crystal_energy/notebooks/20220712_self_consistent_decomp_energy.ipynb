{
 "cells": [
  {
   "cell_type": "code",
   "execution_count": 1,
   "id": "0a4aa494-580b-49e7-8f0e-3cb46f12c79e",
   "metadata": {},
   "outputs": [],
   "source": [
    "import os\n",
    "import sys\n",
    "import numpy as np\n",
    "# import psycopg2\n",
    "import sqlalchemy\n",
    "from tqdm.notebook import tqdm\n",
    "tqdm.pandas()\n",
    "import pandas as pd\n",
    "from collections import defaultdict\n",
    "from collections import Counter\n",
    "\n",
    "import matplotlib.pyplot as plt\n",
    "import seaborn as sns\n",
    "sns.set(\n",
    "    context='paper',\n",
    "    font_scale=8/8.8,\n",
    "#     context=\"talk\",\n",
    "    style='ticks',\n",
    "    color_codes=True,\n",
    "    rc={'legend.frameon': False})\n",
    "\n",
    "plt.rcParams['svg.fonttype'] = 'none'\n",
    "\n",
    "%matplotlib inline"
   ]
  },
  {
   "cell_type": "code",
   "execution_count": 2,
   "id": "dc4607be-a5d1-4900-b466-ebf7f925ae2b",
   "metadata": {},
   "outputs": [
    {
     "name": "stdout",
     "output_type": "stream",
     "text": [
      "1.22.3\n",
      "1.4.2\n"
     ]
    }
   ],
   "source": [
    "print(np.__version__)\n",
    "print(pd.__version__)"
   ]
  },
  {
   "cell_type": "code",
   "execution_count": 3,
   "id": "621f83b0-b79c-4aa3-a092-e2c9a0e7a3b7",
   "metadata": {},
   "outputs": [],
   "source": [
    "from pymatgen.core import Composition\n",
    "from pymatgen.analysis.phase_diagram import PhaseDiagram, PDEntry"
   ]
  },
  {
   "cell_type": "code",
   "execution_count": 4,
   "id": "7e55e47c-29fc-420d-9f0f-e2053e0e69aa",
   "metadata": {},
   "outputs": [],
   "source": [
    "os.chdir('../')"
   ]
  },
  {
   "cell_type": "code",
   "execution_count": 5,
   "id": "630c5514-9aca-4c65-9f59-0df708837968",
   "metadata": {},
   "outputs": [
    {
     "name": "stdout",
     "output_type": "stream",
     "text": [
      "/home/jlaw/projects/arpa-e/crystals/rlmolecule/examples/crystal_energy\n"
     ]
    }
   ],
   "source": [
    "print(os.getcwd())\n",
    "sys.path.append('../../')\n",
    "import rlmolecule\n",
    "from rlmolecule.sql.run_config import RunConfig\n",
    "from rlmolecule.sql import Base, Session\n",
    "from rlmolecule.sql.tables import GameStore, RewardStore, StateStore\n",
    "from rlmolecule.crystal.crystal_state import CrystalState\n",
    "from rlmolecule.crystal import ehull\n",
    "from rlmolecule.crystal.ehull import fere_entries"
   ]
  },
  {
   "cell_type": "code",
   "execution_count": 6,
   "id": "4ca15c0b-3227-4664-8772-b5ecb9235a57",
   "metadata": {},
   "outputs": [
    {
     "name": "stdout",
     "output_type": "stream",
     "text": [
      "2003\n"
     ]
    },
    {
     "data": {
      "text/html": [
       "<div>\n",
       "<style scoped>\n",
       "    .dataframe tbody tr th:only-of-type {\n",
       "        vertical-align: middle;\n",
       "    }\n",
       "\n",
       "    .dataframe tbody tr th {\n",
       "        vertical-align: top;\n",
       "    }\n",
       "\n",
       "    .dataframe thead th {\n",
       "        text-align: right;\n",
       "    }\n",
       "</style>\n",
       "<table border=\"1\" class=\"dataframe\">\n",
       "  <thead>\n",
       "    <tr style=\"text-align: right;\">\n",
       "      <th></th>\n",
       "      <th>decor_id</th>\n",
       "      <th>reward</th>\n",
       "      <th>predicted_energy</th>\n",
       "      <th>decomp_energy</th>\n",
       "      <th>cond_ion_frac</th>\n",
       "      <th>reduction</th>\n",
       "      <th>oxidation</th>\n",
       "      <th>stability_window</th>\n",
       "    </tr>\n",
       "  </thead>\n",
       "  <tbody>\n",
       "    <tr>\n",
       "      <th>0</th>\n",
       "      <td>K3Y1Al1Br9|_1_1_3_9|hexagonal|icsd_039809|2</td>\n",
       "      <td>0.298</td>\n",
       "      <td>-3.460</td>\n",
       "      <td>0.171</td>\n",
       "      <td>0.214</td>\n",
       "      <td>NaN</td>\n",
       "      <td>NaN</td>\n",
       "      <td>NaN</td>\n",
       "    </tr>\n",
       "    <tr>\n",
       "      <th>1</th>\n",
       "      <td>Li1Sc3F8Br2|_1_2_3_8|tetragonal|icsd_067711|1</td>\n",
       "      <td>0.344</td>\n",
       "      <td>-5.484</td>\n",
       "      <td>-0.015</td>\n",
       "      <td>0.071</td>\n",
       "      <td>-5.0</td>\n",
       "      <td>-5.0</td>\n",
       "      <td>0.0</td>\n",
       "    </tr>\n",
       "  </tbody>\n",
       "</table>\n",
       "</div>"
      ],
      "text/plain": [
       "                                        decor_id  reward  predicted_energy  \\\n",
       "0    K3Y1Al1Br9|_1_1_3_9|hexagonal|icsd_039809|2   0.298            -3.460   \n",
       "1  Li1Sc3F8Br2|_1_2_3_8|tetragonal|icsd_067711|1   0.344            -5.484   \n",
       "\n",
       "   decomp_energy  cond_ion_frac  reduction  oxidation  stability_window  \n",
       "0          0.171          0.214        NaN        NaN               NaN  \n",
       "1         -0.015          0.071       -5.0       -5.0               0.0  "
      ]
     },
     "execution_count": 6,
     "metadata": {},
     "output_type": "execute_result"
    }
   ],
   "source": [
    "rewards_file = \"/projects/rlmolecule/jlaw/crystal_outputs/2022-07-05/self_consistent_decomp_energies.csv\"\n",
    "df = pd.read_csv(rewards_file)\n",
    "print(len(df))\n",
    "df.head(2)"
   ]
  },
  {
   "cell_type": "code",
   "execution_count": 7,
   "id": "5626a3ef-dbc3-46bf-a5fe-c26a17b1aa03",
   "metadata": {},
   "outputs": [
    {
     "data": {
      "text/plain": [
       "101"
      ]
     },
     "execution_count": 7,
     "metadata": {},
     "output_type": "execute_result"
    }
   ],
   "source": [
    "len(df[df.decomp_energy < -.1])"
   ]
  },
  {
   "cell_type": "code",
   "execution_count": 8,
   "id": "3871c40c-ff3a-46d5-a21f-1f13314b852c",
   "metadata": {},
   "outputs": [
    {
     "data": {
      "image/png": "[encoded data removed]",
      "text/plain": [
       "<Figure size 432x288 with 1 Axes>"
      ]
     },
     "metadata": {
      "needs_background": "light"
     },
     "output_type": "display_data"
    }
   ],
   "source": [
    "ax = df[(df.decomp_energy > -.5) & (df.decomp_energy < .5)].decomp_energy.hist(bins=50)\n",
    "ax.set_xticks(np.arange(-.5, .6, .1))\n",
    "plt.show()"
   ]
  },
  {
   "cell_type": "code",
   "execution_count": 9,
   "id": "345e3061-565e-4c14-9466-60b509f3d4a3",
   "metadata": {},
   "outputs": [
    {
     "data": {
      "text/plain": [
       "<AxesSubplot:>"
      ]
     },
     "execution_count": 9,
     "metadata": {},
     "output_type": "execute_result"
    },
    {
     "data": {
      "image/png": "[encoded data removed]",
      "text/plain": [
       "<Figure size 432x288 with 1 Axes>"
      ]
     },
     "metadata": {
      "needs_background": "light"
     },
     "output_type": "display_data"
    }
   ],
   "source": [
    "df.decomp_energy.hist(bins=30)"
   ]
  },
  {
   "cell_type": "markdown",
   "id": "24c38bd6-b8d3-40a8-a9f5-ba6c936bbcba",
   "metadata": {},
   "source": [
    "## Double check the decomposition for some structures"
   ]
  },
  {
   "cell_type": "code",
   "execution_count": 10,
   "id": "8c32ba15-5384-4b70-ab6f-438eafae0147",
   "metadata": {},
   "outputs": [],
   "source": [
    "def setup_competing_phases(competing_phases_files):\n",
    "    if not isinstance(competing_phases_files, list):\n",
    "        competing_phases_files = [competing_phases_files]\n",
    "    all_competing_phases = [load_competing_phases(f) for f in competing_phases_files]\n",
    "\n",
    "    # also add the individual elements\n",
    "    competing_phases = pd.concat([pd.Series(fere_entries)] + all_competing_phases).reset_index()[0]\n",
    "    return competing_phases\n",
    "\n",
    "\n",
    "def load_competing_phases(competing_phases_file):\n",
    "    print(f\"Reading {competing_phases_file}\")\n",
    "    df = pd.read_csv(competing_phases_file)\n",
    "    print(f\"\\t{len(df)} lines\")\n",
    "    print(df.head(2))\n",
    "\n",
    "    assert ('sortedformula' in df.columns or 'comp' in df.columns) \\\n",
    "        and ('energyperatom' in df.columns or 'predicted_energy' in df.columns)\n",
    "    if 'sortedformula' not in df.columns:\n",
    "        df.rename(columns={'comp': 'sortedformula'}, inplace=True)\n",
    "    if 'energyperatom' not in df.columns:\n",
    "        df.rename(columns={'predicted_energy': 'energyperatom'}, inplace=True)\n",
    "    print(\"columns after renaming:\", df.columns)\n",
    "\n",
    "    df['energy'] = (\n",
    "        df.energyperatom *\n",
    "        df.sortedformula.apply(lambda x: Composition(x).num_atoms)\n",
    "    )\n",
    "    # convert the dataframe to a list of PDEntries used to create the convex hull\n",
    "    pd_entries = df.apply(\n",
    "        lambda row: PDEntry(Composition(row.sortedformula),\n",
    "                            row.energy),\n",
    "        axis=1\n",
    "    )\n",
    "    print(f\"\\t{len(pd_entries)} entries\")\n",
    "    return pd_entries"
   ]
  },
  {
   "cell_type": "code",
   "execution_count": 11,
   "id": "cfaee69d-0933-430b-a5f9-33ddb098971a",
   "metadata": {},
   "outputs": [],
   "source": [
    "competing_phases_files = [\n",
    "    \"/projects/rlmolecule/jlaw/rlmolecule/examples/crystal_energy/inputs/competing_phases.csv\",\n",
    "    \"/projects/rlmolecule/jlaw/crystal_outputs/2022-07-05/best_decor_rewards.csv.gz\",\n",
    "]"
   ]
  },
  {
   "cell_type": "code",
   "execution_count": 12,
   "id": "479daa76-4715-420a-a078-37a05556bf42",
   "metadata": {},
   "outputs": [
    {
     "name": "stdout",
     "output_type": "stream",
     "text": [
      "Reading /projects/rlmolecule/jlaw/rlmolecule/examples/crystal_energy/inputs/competing_phases.csv\n",
      "\t12682 lines\n",
      "  sortedformula   icsdnum  energyperatom reduced_composition\n",
      "0    Ag10Br3Te4  173116.0      -1.718985          Ag10Br3Te4\n",
      "1   Ag11K1O16V4  391344.0      -4.797702         Ag11K1O16V4\n",
      "columns after renaming: Index(['sortedformula', 'icsdnum', 'energyperatom', 'reduced_composition'], dtype='object')\n",
      "\t12682 entries\n",
      "Reading /projects/rlmolecule/jlaw/crystal_outputs/2022-07-05/best_decor_rewards.csv.gz\n",
      "\t2003 lines\n",
      "                       id      comp    reward  predicted_energy  \\\n",
      "0  Li3Y1Br6_icsd_053533_1  Li3Y1Br6  1.135173         -3.798492   \n",
      "1  Li4Y1Br7_icsd_001322_1  Li4Y1Br7  1.132112         -3.735198   \n",
      "\n",
      "   decomp_energy  cond_ion_frac  reduction  oxidation  stability_window  \n",
      "0        -0.8512         0.3000    -0.6734       -5.0            4.3266  \n",
      "1        -0.7266         0.3333    -0.6045       -5.0            4.3955  \n",
      "columns after renaming: Index(['id', 'sortedformula', 'reward', 'energyperatom', 'decomp_energy',\n",
      "       'cond_ion_frac', 'reduction', 'oxidation', 'stability_window'],\n",
      "      dtype='object')\n",
      "\t2003 entries\n"
     ]
    }
   ],
   "source": [
    "competing_phases = setup_competing_phases(competing_phases_files)"
   ]
  },
  {
   "cell_type": "code",
   "execution_count": 13,
   "id": "e6aa4cb3-0a4f-4aa7-b52b-02c4bbf81d10",
   "metadata": {},
   "outputs": [
    {
     "data": {
      "text/html": [
       "<div>\n",
       "<style scoped>\n",
       "    .dataframe tbody tr th:only-of-type {\n",
       "        vertical-align: middle;\n",
       "    }\n",
       "\n",
       "    .dataframe tbody tr th {\n",
       "        vertical-align: top;\n",
       "    }\n",
       "\n",
       "    .dataframe thead th {\n",
       "        text-align: right;\n",
       "    }\n",
       "</style>\n",
       "<table border=\"1\" class=\"dataframe\">\n",
       "  <thead>\n",
       "    <tr style=\"text-align: right;\">\n",
       "      <th></th>\n",
       "      <th>decor_id</th>\n",
       "      <th>reward</th>\n",
       "      <th>predicted_energy</th>\n",
       "      <th>decomp_energy</th>\n",
       "      <th>cond_ion_frac</th>\n",
       "      <th>reduction</th>\n",
       "      <th>oxidation</th>\n",
       "      <th>stability_window</th>\n",
       "    </tr>\n",
       "  </thead>\n",
       "  <tbody>\n",
       "    <tr>\n",
       "      <th>787</th>\n",
       "      <td>Li1Ge1O1N1|_1_1_1_1|orthorhombic|icsd_183047|2</td>\n",
       "      <td>0.312</td>\n",
       "      <td>-6.131</td>\n",
       "      <td>0.0</td>\n",
       "      <td>0.25</td>\n",
       "      <td>NaN</td>\n",
       "      <td>NaN</td>\n",
       "      <td>NaN</td>\n",
       "    </tr>\n",
       "  </tbody>\n",
       "</table>\n",
       "</div>"
      ],
      "text/plain": [
       "                                           decor_id  reward  predicted_energy  \\\n",
       "787  Li1Ge1O1N1|_1_1_1_1|orthorhombic|icsd_183047|2   0.312            -6.131   \n",
       "\n",
       "     decomp_energy  cond_ion_frac  reduction  oxidation  stability_window  \n",
       "787            0.0           0.25        NaN        NaN               NaN  "
      ]
     },
     "execution_count": 13,
     "metadata": {},
     "output_type": "execute_result"
    }
   ],
   "source": [
    "df[df.decor_id == \"Li1Ge1O1N1|_1_1_1_1|orthorhombic|icsd_183047|2\"]"
   ]
  },
  {
   "cell_type": "code",
   "execution_count": 14,
   "id": "b95dfe9c-7a9d-4ce6-b88d-c04e6db80408",
   "metadata": {},
   "outputs": [
    {
     "data": {
      "text/plain": [
       "PDEntry : Li1 Ge1 O1 N1 with energy = -24.5240"
      ]
     },
     "execution_count": 14,
     "metadata": {},
     "output_type": "execute_result"
    }
   ],
   "source": [
    "comp = Composition(\"Li1Ge1O1N1\")\n",
    "entry = PDEntry(comp, -24.524)\n",
    "entry"
   ]
  },
  {
   "cell_type": "code",
   "execution_count": 15,
   "id": "e5bd138f-9244-4d49-a109-d2870e00b681",
   "metadata": {},
   "outputs": [
    {
     "data": {
      "text/plain": [
       "[PDEntry : Ge1 with energy = -4.3400,\n",
       " PDEntry : Li1 with energy = -1.5800,\n",
       " PDEntry : N1 with energy = -8.4600,\n",
       " PDEntry : O1 with energy = -4.8000,\n",
       " PDEntry : Ge1 Li1 with energy = -7.0905,\n",
       " PDEntry : Ge1 O2 with energy = -19.4096,\n",
       " PDEntry : Ge2 Li7 with energy = -25.4758,\n",
       " PDEntry : Ge3 N4 with energy = -47.5349,\n",
       " PDEntry : Ge4 Li15 with energy = -53.3199,\n",
       " PDEntry : Ge4 Li9 with energy = -40.0625,\n",
       " PDEntry : Ge6 Li11 with energy = -54.2760,\n",
       " PDEntry : Li1 N1 with energy = -10.8040,\n",
       " PDEntry : Li3 N1 with energy = -15.5342,\n",
       " PDEntry : Ge2 N2 O1 with energy = -33.5677,\n",
       " PDEntry : Li1 N1 O3 with energy = -29.1773,\n",
       " PDEntry : N2 O4 with energy = -35.9692,\n",
       " PDEntry : N2 O1 with energy = -16.1545,\n",
       " PDEntry : N2 O3 with energy = -30.1289,\n",
       " PDEntry : N2 O5 with energy = -40.6163,\n",
       " PDEntry : Li2 O1 with energy = -14.3010,\n",
       " PDEntry : Li4 Ge1 O4 with energy = -50.3342,\n",
       " PDEntry : Li5 Ge1 N3 with energy = -43.3063,\n",
       " PDEntry : Li2 Ge1 O3 with energy = -35.2300,\n",
       " PDEntry : Li6 Ge2 O7 with energy = -83.5834,\n",
       " PDEntry : Li2 Ge1 N2 with energy = -27.2552,\n",
       " PDEntry : Li2 Ge2 O5 with energy = -54.6597,\n",
       " PDEntry : Li1 Ge2 N3 with energy = -38.3358]"
      ]
     },
     "execution_count": 15,
     "metadata": {},
     "output_type": "execute_result"
    }
   ],
   "source": [
    "elements = set(comp.elements)\n",
    "curr_entries = [e for e in competing_phases if len(set(e.composition.elements) - elements) == 0\n",
    "                             and e != entry]\n",
    "curr_entries"
   ]
  },
  {
   "cell_type": "code",
   "execution_count": 16,
   "id": "7ae7b1da-9620-44df-aa92-27aae3f040a7",
   "metadata": {},
   "outputs": [],
   "source": [
    "phase_diagram = PhaseDiagram(curr_entries, elements=elements)"
   ]
  },
  {
   "cell_type": "code",
   "execution_count": 17,
   "id": "af4a4f43-5c48-4628-a014-0d2fca33492c",
   "metadata": {},
   "outputs": [],
   "source": [
    "decomp, decomp_energy = phase_diagram.get_decomp_and_e_above_hull(\n",
    "    entry,\n",
    "    allow_negative=True,\n",
    "    # docs say: \"if you have a huge proportion of unstable entries,\n",
    "    # then this check can slow things down.\"\n",
    "    check_stable=False)"
   ]
  },
  {
   "cell_type": "code",
   "execution_count": 18,
   "id": "a63c7f72-c4f8-4d1b-8d08-27239ec86ead",
   "metadata": {},
   "outputs": [
    {
     "name": "stdout",
     "output_type": "stream",
     "text": [
      "Li1 Ge1 O1 N1 -0.0005213794708254227\n"
     ]
    },
    {
     "data": {
      "text/plain": [
       "{PDEntry : Li2 Ge1 O3 with energy = -35.2300: 0.5,\n",
       " PDEntry : Li1 Ge2 N3 with energy = -38.3358: 0.5}"
      ]
     },
     "execution_count": 18,
     "metadata": {},
     "output_type": "execute_result"
    }
   ],
   "source": [
    "print(comp, decomp_energy)\n",
    "decomp"
   ]
  },
  {
   "cell_type": "code",
   "execution_count": null,
   "id": "d6b3a2b6-c653-424e-baa1-2770f9371f29",
   "metadata": {},
   "outputs": [],
   "source": []
  }
 ],
 "metadata": {
  "kernelspec": {
   "display_name": "Python 3 (ipykernel)",
   "language": "python",
   "name": "python3"
  },
  "language_info": {
   "codemirror_mode": {
    "name": "ipython",
    "version": 3
   },
   "file_extension": ".py",
   "mimetype": "text/x-python",
   "name": "python",
   "nbconvert_exporter": "python",
   "pygments_lexer": "ipython3",
   "version": "3.8.13"
  }
 },
 "nbformat": 4,
 "nbformat_minor": 5
}
