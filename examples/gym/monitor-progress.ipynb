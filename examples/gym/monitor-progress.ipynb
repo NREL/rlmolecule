{
 "cells": [
  {
   "cell_type": "code",
   "execution_count": 37,
   "metadata": {},
   "outputs": [],
   "source": [
    "import numpy as np\n",
    "import pandas as pd\n",
    "\n",
    "import matplotlib.pyplot as plt\n",
    "import seaborn as sns\n",
    "sns.set(context='talk', style='ticks',\n",
    "        color_codes=True, rc={'legend.frameon': False})\n",
    "\n",
    "from sqlalchemy import create_engine\n",
    "from sqlalchemy import inspect\n",
    "from sqlalchemy import MetaData\n",
    "\n",
    "%matplotlib inline"
   ]
  },
  {
   "cell_type": "code",
   "execution_count": 38,
   "metadata": {},
   "outputs": [],
   "source": [
    "engine = create_engine(f'sqlite:///gridworld_data.db',\n",
    "                       connect_args={'check_same_thread': False},\n",
    "                       execution_options = {\"isolation_level\": \"AUTOCOMMIT\"})"
   ]
  },
  {
   "cell_type": "code",
   "execution_count": 39,
   "metadata": {},
   "outputs": [
    {
     "name": "stdout",
     "output_type": "stream",
     "text": [
      "Game columns\n",
      "[{'name': 'id', 'type': VARCHAR(length=64), 'nullable': False, 'default': None, 'autoincrement': 'auto', 'primary_key': 1}, {'name': 'run_id', 'type': VARCHAR(length=255), 'nullable': True, 'default': None, 'autoincrement': 'auto', 'primary_key': 0}, {'name': 'time', 'type': DATETIME(), 'nullable': True, 'default': 'CURRENT_TIMESTAMP', 'autoincrement': 'auto', 'primary_key': 0}, {'name': 'raw_reward', 'type': FLOAT(), 'nullable': True, 'default': None, 'autoincrement': 'auto', 'primary_key': 0}, {'name': 'scaled_reward', 'type': FLOAT(), 'nullable': True, 'default': None, 'autoincrement': 'auto', 'primary_key': 0}, {'name': 'search_statistics', 'type': JSON(), 'nullable': True, 'default': None, 'autoincrement': 'auto', 'primary_key': 0}]\n",
      "\n",
      "Reward columns\n",
      "[{'name': 'digest', 'type': VARCHAR(length=128), 'nullable': False, 'default': None, 'autoincrement': 'auto', 'primary_key': 1}, {'name': 'hash', 'type': BIGINT(), 'nullable': False, 'default': None, 'autoincrement': 'auto', 'primary_key': 2}, {'name': 'run_id', 'type': VARCHAR(length=255), 'nullable': False, 'default': None, 'autoincrement': 'auto', 'primary_key': 3}, {'name': 'time', 'type': DATETIME(), 'nullable': True, 'default': 'CURRENT_TIMESTAMP', 'autoincrement': 'auto', 'primary_key': 0}, {'name': 'reward', 'type': FLOAT(), 'nullable': True, 'default': None, 'autoincrement': 'auto', 'primary_key': 0}, {'name': 'data', 'type': JSON(), 'nullable': True, 'default': None, 'autoincrement': 'auto', 'primary_key': 0}]\n",
      "\n",
      "State columns\n",
      "[{'name': 'digest', 'type': VARCHAR(length=128), 'nullable': False, 'default': None, 'autoincrement': 'auto', 'primary_key': 1}, {'name': 'hash', 'type': BIGINT(), 'nullable': False, 'default': None, 'autoincrement': 'auto', 'primary_key': 2}, {'name': 'run_id', 'type': VARCHAR(length=255), 'nullable': False, 'default': None, 'autoincrement': 'auto', 'primary_key': 3}, {'name': 'state', 'type': BLOB(), 'nullable': True, 'default': None, 'autoincrement': 'auto', 'primary_key': 0}, {'name': 'policy_inputs', 'type': BLOB(), 'nullable': True, 'default': None, 'autoincrement': 'auto', 'primary_key': 0}]\n",
      "\n"
     ]
    }
   ],
   "source": [
    "inspector = inspect(engine)\n",
    "\n",
    "# Get table information\n",
    "for table in inspector.get_table_names():\n",
    "    print(table, \"columns\")\n",
    "    print(inspector.get_columns(table))\n",
    "    print()"
   ]
  },
  {
   "cell_type": "code",
   "execution_count": 44,
   "metadata": {},
   "outputs": [
    {
     "name": "stdout",
     "output_type": "stream",
     "text": [
      "112\n"
     ]
    }
   ],
   "source": [
    "with engine.connect() as connection:\n",
    "    result = connection.execute(\"select raw_reward from Game\")\n",
    "    raw_reward = [r[0] for r in result]\n",
    "print(len(raw_reward))"
   ]
  },
  {
   "cell_type": "code",
   "execution_count": 45,
   "metadata": {},
   "outputs": [
    {
     "data": {
      "image/png": "[encoded data removed]",
      "text/plain": [
       "<Figure size 432x288 with 1 Axes>"
      ]
     },
     "metadata": {
      "needs_background": "light"
     },
     "output_type": "display_data"
    }
   ],
   "source": [
    "fig, ax = plt.subplots()\n",
    "df = pd.DataFrame(raw_reward, columns=[\"raw reward\"])\n",
    "df[\"max reward\"] = -2. * np.ones(df.shape[0])\n",
    "_ = df[\"raw reward\"].plot(ax=ax, legend=True, marker=\".\")\n",
    "_ = df[\"max reward\"].plot(ax=ax, linestyle=\"--\", legend=True)\n",
    "# ax.set_xlim((0, 80))\n",
    "#mean_df = pd.DataFrame(df[\"raw reward\"].rolling(5).mean(), columns=[\"raw reward mean\"])\n",
    "#_ = mean_df.plot(ax=ax, linestyle=\"--\", legend=True)"
   ]
  },
  {
   "cell_type": "code",
   "execution_count": 17,
   "metadata": {},
   "outputs": [],
   "source": [
    "# df2 = pd.read_csv(\"_rewards.csv\", header=None) # you have to futz with the run script to generate this\n",
    "# df2.columns = [\"MCTS raw reward\"]\n",
    "# # _= df2.hist(bins=20)\n",
    "# _ = df2.plot(ylim=(-32, -15))"
   ]
  },
  {
   "cell_type": "code",
   "execution_count": null,
   "metadata": {},
   "outputs": [],
   "source": []
  },
  {
   "cell_type": "code",
   "execution_count": null,
   "metadata": {},
   "outputs": [],
   "source": []
  }
 ],
 "metadata": {
  "kernelspec": {
   "display_name": "Python 3",
   "language": "python",
   "name": "python3"
  },
  "language_info": {
   "codemirror_mode": {
    "name": "ipython",
    "version": 3
   },
   "file_extension": ".py",
   "mimetype": "text/x-python",
   "name": "python",
   "nbconvert_exporter": "python",
   "pygments_lexer": "ipython3",
   "version": "3.7.9"
  }
 },
 "nbformat": 4,
 "nbformat_minor": 4
}
