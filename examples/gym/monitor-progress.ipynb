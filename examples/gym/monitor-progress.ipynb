{
 "cells": [
  {
   "cell_type": "code",
   "execution_count": 1,
   "metadata": {},
   "outputs": [],
   "source": [
    "import numpy as np\n",
    "import pandas as pd\n",
    "\n",
    "import matplotlib.pyplot as plt\n",
    "import seaborn as sns\n",
    "sns.set(context='talk', style='ticks',\n",
    "        color_codes=True, rc={'legend.frameon': False})\n",
    "\n",
    "from sqlalchemy import create_engine\n",
    "from sqlalchemy import inspect\n",
    "from sqlalchemy import MetaData\n",
    "\n",
    "from rlmolecule.sql import Base, Session\n",
    "from rlmolecule.sql.tables import GameStore, RewardStore, StateStore\n",
    "\n",
    "%matplotlib inline"
   ]
  },
  {
   "cell_type": "code",
   "execution_count": 2,
   "metadata": {},
   "outputs": [],
   "source": [
    "run_id = \"gridworld_16\"\n",
    "\n",
    "dbname = \"bde\"\n",
    "port = \"5432\"\n",
    "host = \"yuma.hpc.nrel.gov\"\n",
    "user = \"rlops\"\n",
    "passwd_file = '/projects/rlmolecule/rlops_pass'\n",
    "with open(passwd_file, 'r') as f:\n",
    "    passwd = f.read().strip()\n",
    "drivername = \"postgresql+psycopg2\"\n",
    "engine_str = f'{drivername}://{user}:{passwd}@{host}:{port}/{dbname}'\n",
    "        \n",
    "engine = create_engine(engine_str, execution_options={\"isolation_level\": \"AUTOCOMMIT\"})\n",
    "\n",
    "# load the games played\n",
    "Session.configure(bind=engine)\n",
    "session = Session()"
   ]
  },
  {
   "cell_type": "code",
   "execution_count": 3,
   "metadata": {},
   "outputs": [
    {
     "data": {
      "text/html": [
       "<div>\n",
       "<style scoped>\n",
       "    .dataframe tbody tr th:only-of-type {\n",
       "        vertical-align: middle;\n",
       "    }\n",
       "\n",
       "    .dataframe tbody tr th {\n",
       "        vertical-align: top;\n",
       "    }\n",
       "\n",
       "    .dataframe thead th {\n",
       "        text-align: right;\n",
       "    }\n",
       "</style>\n",
       "<table border=\"1\" class=\"dataframe\">\n",
       "  <thead>\n",
       "    <tr style=\"text-align: right;\">\n",
       "      <th></th>\n",
       "      <th>id</th>\n",
       "      <th>run_id</th>\n",
       "      <th>time</th>\n",
       "      <th>raw_reward</th>\n",
       "      <th>scaled_reward</th>\n",
       "      <th>search_statistics</th>\n",
       "      <th>time_hours</th>\n",
       "    </tr>\n",
       "  </thead>\n",
       "  <tbody>\n",
       "    <tr>\n",
       "      <th>0</th>\n",
       "      <td>ad1d196f-694e-448a-91d3-de21b1e17c4c</td>\n",
       "      <td>gridworld_16</td>\n",
       "      <td>2021-04-28 10:21:45.086107</td>\n",
       "      <td>-52.0</td>\n",
       "      <td>0.133333</td>\n",
       "      <td>[[5f020ff03dcbe5ede13f1b7d3165545320c40d890522...</td>\n",
       "      <td>0.000000e+00</td>\n",
       "    </tr>\n",
       "    <tr>\n",
       "      <th>1</th>\n",
       "      <td>6b4e85a8-a154-4b16-b966-c33ba4c5ec94</td>\n",
       "      <td>gridworld_16</td>\n",
       "      <td>2021-04-28 10:21:45.087271</td>\n",
       "      <td>-52.0</td>\n",
       "      <td>0.133333</td>\n",
       "      <td>[[5f020ff03dcbe5ede13f1b7d3165545320c40d890522...</td>\n",
       "      <td>3.233333e-07</td>\n",
       "    </tr>\n",
       "    <tr>\n",
       "      <th>2</th>\n",
       "      <td>5cf5cdd1-51d2-454d-8193-546b6f6ab2a6</td>\n",
       "      <td>gridworld_16</td>\n",
       "      <td>2021-04-28 10:21:45.087430</td>\n",
       "      <td>-53.0</td>\n",
       "      <td>0.116667</td>\n",
       "      <td>[[5f020ff03dcbe5ede13f1b7d3165545320c40d890522...</td>\n",
       "      <td>3.675000e-07</td>\n",
       "    </tr>\n",
       "    <tr>\n",
       "      <th>3</th>\n",
       "      <td>158e409f-158e-4edf-b5a8-46402c926abc</td>\n",
       "      <td>gridworld_16</td>\n",
       "      <td>2021-04-28 10:21:45.088328</td>\n",
       "      <td>-56.0</td>\n",
       "      <td>0.066667</td>\n",
       "      <td>[[5f020ff03dcbe5ede13f1b7d3165545320c40d890522...</td>\n",
       "      <td>6.169444e-07</td>\n",
       "    </tr>\n",
       "    <tr>\n",
       "      <th>4</th>\n",
       "      <td>2d233f07-9fd4-4011-af89-705f90c746f7</td>\n",
       "      <td>gridworld_16</td>\n",
       "      <td>2021-04-28 10:21:45.088757</td>\n",
       "      <td>-54.0</td>\n",
       "      <td>0.100000</td>\n",
       "      <td>[[5f020ff03dcbe5ede13f1b7d3165545320c40d890522...</td>\n",
       "      <td>7.361111e-07</td>\n",
       "    </tr>\n",
       "  </tbody>\n",
       "</table>\n",
       "</div>"
      ],
      "text/plain": [
       "                                     id        run_id  \\\n",
       "0  ad1d196f-694e-448a-91d3-de21b1e17c4c  gridworld_16   \n",
       "1  6b4e85a8-a154-4b16-b966-c33ba4c5ec94  gridworld_16   \n",
       "2  5cf5cdd1-51d2-454d-8193-546b6f6ab2a6  gridworld_16   \n",
       "3  158e409f-158e-4edf-b5a8-46402c926abc  gridworld_16   \n",
       "4  2d233f07-9fd4-4011-af89-705f90c746f7  gridworld_16   \n",
       "\n",
       "                        time  raw_reward  scaled_reward  \\\n",
       "0 2021-04-28 10:21:45.086107       -52.0       0.133333   \n",
       "1 2021-04-28 10:21:45.087271       -52.0       0.133333   \n",
       "2 2021-04-28 10:21:45.087430       -53.0       0.116667   \n",
       "3 2021-04-28 10:21:45.088328       -56.0       0.066667   \n",
       "4 2021-04-28 10:21:45.088757       -54.0       0.100000   \n",
       "\n",
       "                                   search_statistics    time_hours  \n",
       "0  [[5f020ff03dcbe5ede13f1b7d3165545320c40d890522...  0.000000e+00  \n",
       "1  [[5f020ff03dcbe5ede13f1b7d3165545320c40d890522...  3.233333e-07  \n",
       "2  [[5f020ff03dcbe5ede13f1b7d3165545320c40d890522...  3.675000e-07  \n",
       "3  [[5f020ff03dcbe5ede13f1b7d3165545320c40d890522...  6.169444e-07  \n",
       "4  [[5f020ff03dcbe5ede13f1b7d3165545320c40d890522...  7.361111e-07  "
      ]
     },
     "execution_count": 3,
     "metadata": {},
     "output_type": "execute_result"
    }
   ],
   "source": [
    "df = pd.read_sql(session.query(GameStore).filter_by(run_id=run_id).statement, session.bind)\n",
    "\n",
    "df['time_hours'] = (df.time - df.time.min()).apply(lambda x: x.total_seconds() / 3600)\n",
    "df = df.sort_values('time_hours')\n",
    "df_games = df\n",
    "df_games.reset_index(drop=True, inplace=True)\n",
    "df_games.head()"
   ]
  },
  {
   "cell_type": "code",
   "execution_count": 4,
   "metadata": {},
   "outputs": [
    {
     "data": {
      "text/plain": [
       "<AxesSubplot:>"
      ]
     },
     "execution_count": 4,
     "metadata": {},
     "output_type": "execute_result"
    },
    {
     "data": {
      "image/png": "[encoded data removed]",
      "text/plain": [
       "<Figure size 432x288 with 1 Axes>"
      ]
     },
     "metadata": {
      "needs_background": "light"
     },
     "output_type": "display_data"
    }
   ],
   "source": [
    "df[\"scaled_reward\"].rolling(16).mean().plot(ylim=(0, 1.1))"
   ]
  },
  {
   "cell_type": "code",
   "execution_count": 12,
   "metadata": {},
   "outputs": [
    {
     "data": {
      "text/plain": [
       "['5f020ff03dcbe5ede13f1b7d3165545320c40d8905222140f92e50a25f43d29d',\n",
       " [['af87f4e624e471198a93b051ed002210ba6eb2522cf4b104ec9405df65d53bdd',\n",
       "   0.3225806451612903],\n",
       "  ['32af5f68b9529d7e5a00fd06590039dc8e71def5ef93be1a331695380e535561',\n",
       "   0.3225806451612903],\n",
       "  ['5f020ff03dcbe5ede13f1b7d3165545320c40d8905222140f92e50a25f43d29d',\n",
       "   0.3548387096774194]]]"
      ]
     },
     "execution_count": 12,
     "metadata": {},
     "output_type": "execute_result"
    }
   ],
   "source": [
    "df_games[\"search_statistics\"].shape\n",
    "game = df_games[\"search_statistics\"][128]\n",
    "game[0]"
   ]
  },
  {
   "cell_type": "code",
   "execution_count": 14,
   "metadata": {},
   "outputs": [
    {
     "name": "stdout",
     "output_type": "stream",
     "text": [
      "1.0\n",
      "1.0\n",
      "1.0\n",
      "1.0\n",
      "1.0\n",
      "1.0\n",
      "1.0\n",
      "1.0\n",
      "1.0\n",
      "1.0\n",
      "1.0\n",
      "1.0\n",
      "1.0\n",
      "1.0\n",
      "1.0\n",
      "1.0\n",
      "1.0\n",
      "0.9999999999999999\n",
      "1.0\n",
      "1.0\n",
      "1.0\n",
      "1.0\n",
      "1.0\n",
      "1.0\n",
      "1.0\n",
      "1.0\n",
      "1.0\n",
      "1.0\n",
      "1.0\n",
      "1.0\n",
      "0.9999999999999999\n",
      "1.0\n",
      "1.0\n",
      "1.0\n",
      "1.0\n",
      "1.0\n",
      "1.0\n",
      "0.9999999999999999\n",
      "1.0\n",
      "1.0\n",
      "1.0\n",
      "1.0\n",
      "1.0\n",
      "1.0\n",
      "1.0\n",
      "0.9999999999999999\n",
      "1.0\n",
      "1.0\n",
      "1.0\n",
      "1.0\n",
      "1.0\n",
      "1.0\n",
      "1.0\n",
      "1.0\n",
      "1.0\n",
      "0.9999999999999999\n",
      "1.0\n",
      "0.9999999999999999\n",
      "1.0\n",
      "1.0\n"
     ]
    }
   ],
   "source": [
    "for g in game:\n",
    "    print(sum([x[1] for x in g[1]]))"
   ]
  },
  {
   "cell_type": "code",
   "execution_count": null,
   "metadata": {},
   "outputs": [],
   "source": []
  },
  {
   "cell_type": "code",
   "execution_count": 15,
   "metadata": {},
   "outputs": [
    {
     "data": {
      "text/html": [
       "<div>\n",
       "<style scoped>\n",
       "    .dataframe tbody tr th:only-of-type {\n",
       "        vertical-align: middle;\n",
       "    }\n",
       "\n",
       "    .dataframe tbody tr th {\n",
       "        vertical-align: top;\n",
       "    }\n",
       "\n",
       "    .dataframe thead th {\n",
       "        text-align: right;\n",
       "    }\n",
       "</style>\n",
       "<table border=\"1\" class=\"dataframe\">\n",
       "  <thead>\n",
       "    <tr style=\"text-align: right;\">\n",
       "      <th></th>\n",
       "      <th>digest</th>\n",
       "      <th>hash</th>\n",
       "      <th>run_id</th>\n",
       "      <th>state</th>\n",
       "      <th>policy_inputs</th>\n",
       "    </tr>\n",
       "  </thead>\n",
       "  <tbody>\n",
       "    <tr>\n",
       "      <th>0</th>\n",
       "      <td>5f020ff03dcbe5ede13f1b7d3165545320c40d89052221...</td>\n",
       "      <td>-197667723924049093</td>\n",
       "      <td>gridworld_16</td>\n",
       "      <td>b'x\\x9c\\xed\\x9bk\\x93\\xdb4\\x14\\x86\\x9df[Z\\xf7\\x...</td>\n",
       "      <td>b'PK\\x03\\x04\\x14\\x00\\x00\\x00\\x08\\x00\\x00\\x00!\\...</td>\n",
       "    </tr>\n",
       "    <tr>\n",
       "      <th>1</th>\n",
       "      <td>5f020ff03dcbe5ede13f1b7d3165545320c40d89052221...</td>\n",
       "      <td>-197667723922966568</td>\n",
       "      <td>gridworld_16</td>\n",
       "      <td>b'x\\x9c\\xed\\x9bk\\x93\\xdb4\\x14\\x86\\x9df[Z\\xf7\\x...</td>\n",
       "      <td>b'PK\\x03\\x04\\x14\\x00\\x00\\x00\\x08\\x00\\x00\\x00!\\...</td>\n",
       "    </tr>\n",
       "    <tr>\n",
       "      <th>2</th>\n",
       "      <td>5f020ff03dcbe5ede13f1b7d3165545320c40d89052221...</td>\n",
       "      <td>-197667723921884043</td>\n",
       "      <td>gridworld_16</td>\n",
       "      <td>b'x\\x9c\\xed\\x9bks\\xdbD\\x14\\x86\\xe5:\\xbd\\xa9\\x9...</td>\n",
       "      <td>b'PK\\x03\\x04\\x14\\x00\\x00\\x00\\x08\\x00\\x00\\x00!\\...</td>\n",
       "    </tr>\n",
       "    <tr>\n",
       "      <th>3</th>\n",
       "      <td>5f020ff03dcbe5ede13f1b7d3165545320c40d89052221...</td>\n",
       "      <td>-197667723920801518</td>\n",
       "      <td>gridworld_16</td>\n",
       "      <td>b'x\\x9c\\xed\\x9bk\\x93\\xdb4\\x14\\x86\\x9df[Z\\xf7\\x...</td>\n",
       "      <td>b'PK\\x03\\x04\\x14\\x00\\x00\\x00\\x08\\x00\\x00\\x00!\\...</td>\n",
       "    </tr>\n",
       "    <tr>\n",
       "      <th>4</th>\n",
       "      <td>5f020ff03dcbe5ede13f1b7d3165545320c40d89052221...</td>\n",
       "      <td>-197667723919718993</td>\n",
       "      <td>gridworld_16</td>\n",
       "      <td>b'x\\x9c\\xed\\x9bk\\x93\\xdb4\\x14\\x86\\x9df[Z\\xf7\\x...</td>\n",
       "      <td>b'PK\\x03\\x04\\x14\\x00\\x00\\x00\\x08\\x00\\x00\\x00!\\...</td>\n",
       "    </tr>\n",
       "    <tr>\n",
       "      <th>...</th>\n",
       "      <td>...</td>\n",
       "      <td>...</td>\n",
       "      <td>...</td>\n",
       "      <td>...</td>\n",
       "      <td>...</td>\n",
       "    </tr>\n",
       "    <tr>\n",
       "      <th>117</th>\n",
       "      <td>5f020ff03dcbe5ede13f1b7d3165545320c40d89052221...</td>\n",
       "      <td>318639130148155370</td>\n",
       "      <td>gridworld_16</td>\n",
       "      <td>b'x\\x9c\\xed\\x9bk\\x93\\xdb4\\x14\\x86\\x9df[Z\\xf7\\x...</td>\n",
       "      <td>b'PK\\x03\\x04\\x14\\x00\\x00\\x00\\x08\\x00\\x00\\x00!\\...</td>\n",
       "    </tr>\n",
       "    <tr>\n",
       "      <th>118</th>\n",
       "      <td>5f020ff03dcbe5ede13f1b7d3165545320c40d89052221...</td>\n",
       "      <td>318639130149237895</td>\n",
       "      <td>gridworld_16</td>\n",
       "      <td>b'x\\x9c\\xed\\x9bks\\xdbD\\x14\\x86\\xe5:-\\xadzIB\\xb...</td>\n",
       "      <td>b'PK\\x03\\x04\\x14\\x00\\x00\\x00\\x08\\x00\\x00\\x00!\\...</td>\n",
       "    </tr>\n",
       "    <tr>\n",
       "      <th>119</th>\n",
       "      <td>5f020ff03dcbe5ede13f1b7d3165545320c40d89052221...</td>\n",
       "      <td>318639130150320420</td>\n",
       "      <td>gridworld_16</td>\n",
       "      <td>b'x\\x9c\\xed\\x9bk\\x97\\xd3D\\x18\\xc7S\\xba \\x84\\xc...</td>\n",
       "      <td>b'PK\\x03\\x04\\x14\\x00\\x00\\x00\\x08\\x00\\x00\\x00!\\...</td>\n",
       "    </tr>\n",
       "    <tr>\n",
       "      <th>120</th>\n",
       "      <td>5f020ff03dcbe5ede13f1b7d3165545320c40d89052221...</td>\n",
       "      <td>318639130151402945</td>\n",
       "      <td>gridworld_16</td>\n",
       "      <td>b'x\\x9c\\xed\\x9bk\\x97\\xd3D\\x18\\xc7S\\xba \\x84\\xc...</td>\n",
       "      <td>b'PK\\x03\\x04\\x14\\x00\\x00\\x00\\x08\\x00\\x00\\x00!\\...</td>\n",
       "    </tr>\n",
       "    <tr>\n",
       "      <th>121</th>\n",
       "      <td>5f020ff03dcbe5ede13f1b7d3165545320c40d89052221...</td>\n",
       "      <td>318639130152485470</td>\n",
       "      <td>gridworld_16</td>\n",
       "      <td>b'x\\x9c\\xed\\x9bk\\x93\\xdb4\\x14\\x86\\x9df[Z\\xf7\\x...</td>\n",
       "      <td>b'PK\\x03\\x04\\x14\\x00\\x00\\x00\\x08\\x00\\x00\\x00!\\...</td>\n",
       "    </tr>\n",
       "  </tbody>\n",
       "</table>\n",
       "<p>122 rows × 5 columns</p>\n",
       "</div>"
      ],
      "text/plain": [
       "                                                digest                hash  \\\n",
       "0    5f020ff03dcbe5ede13f1b7d3165545320c40d89052221... -197667723924049093   \n",
       "1    5f020ff03dcbe5ede13f1b7d3165545320c40d89052221... -197667723922966568   \n",
       "2    5f020ff03dcbe5ede13f1b7d3165545320c40d89052221... -197667723921884043   \n",
       "3    5f020ff03dcbe5ede13f1b7d3165545320c40d89052221... -197667723920801518   \n",
       "4    5f020ff03dcbe5ede13f1b7d3165545320c40d89052221... -197667723919718993   \n",
       "..                                                 ...                 ...   \n",
       "117  5f020ff03dcbe5ede13f1b7d3165545320c40d89052221...  318639130148155370   \n",
       "118  5f020ff03dcbe5ede13f1b7d3165545320c40d89052221...  318639130149237895   \n",
       "119  5f020ff03dcbe5ede13f1b7d3165545320c40d89052221...  318639130150320420   \n",
       "120  5f020ff03dcbe5ede13f1b7d3165545320c40d89052221...  318639130151402945   \n",
       "121  5f020ff03dcbe5ede13f1b7d3165545320c40d89052221...  318639130152485470   \n",
       "\n",
       "           run_id                                              state  \\\n",
       "0    gridworld_16  b'x\\x9c\\xed\\x9bk\\x93\\xdb4\\x14\\x86\\x9df[Z\\xf7\\x...   \n",
       "1    gridworld_16  b'x\\x9c\\xed\\x9bk\\x93\\xdb4\\x14\\x86\\x9df[Z\\xf7\\x...   \n",
       "2    gridworld_16  b'x\\x9c\\xed\\x9bks\\xdbD\\x14\\x86\\xe5:\\xbd\\xa9\\x9...   \n",
       "3    gridworld_16  b'x\\x9c\\xed\\x9bk\\x93\\xdb4\\x14\\x86\\x9df[Z\\xf7\\x...   \n",
       "4    gridworld_16  b'x\\x9c\\xed\\x9bk\\x93\\xdb4\\x14\\x86\\x9df[Z\\xf7\\x...   \n",
       "..            ...                                                ...   \n",
       "117  gridworld_16  b'x\\x9c\\xed\\x9bk\\x93\\xdb4\\x14\\x86\\x9df[Z\\xf7\\x...   \n",
       "118  gridworld_16  b'x\\x9c\\xed\\x9bks\\xdbD\\x14\\x86\\xe5:-\\xadzIB\\xb...   \n",
       "119  gridworld_16  b'x\\x9c\\xed\\x9bk\\x97\\xd3D\\x18\\xc7S\\xba \\x84\\xc...   \n",
       "120  gridworld_16  b'x\\x9c\\xed\\x9bk\\x97\\xd3D\\x18\\xc7S\\xba \\x84\\xc...   \n",
       "121  gridworld_16  b'x\\x9c\\xed\\x9bk\\x93\\xdb4\\x14\\x86\\x9df[Z\\xf7\\x...   \n",
       "\n",
       "                                         policy_inputs  \n",
       "0    b'PK\\x03\\x04\\x14\\x00\\x00\\x00\\x08\\x00\\x00\\x00!\\...  \n",
       "1    b'PK\\x03\\x04\\x14\\x00\\x00\\x00\\x08\\x00\\x00\\x00!\\...  \n",
       "2    b'PK\\x03\\x04\\x14\\x00\\x00\\x00\\x08\\x00\\x00\\x00!\\...  \n",
       "3    b'PK\\x03\\x04\\x14\\x00\\x00\\x00\\x08\\x00\\x00\\x00!\\...  \n",
       "4    b'PK\\x03\\x04\\x14\\x00\\x00\\x00\\x08\\x00\\x00\\x00!\\...  \n",
       "..                                                 ...  \n",
       "117  b'PK\\x03\\x04\\x14\\x00\\x00\\x00\\x08\\x00\\x00\\x00!\\...  \n",
       "118  b'PK\\x03\\x04\\x14\\x00\\x00\\x00\\x08\\x00\\x00\\x00!\\...  \n",
       "119  b'PK\\x03\\x04\\x14\\x00\\x00\\x00\\x08\\x00\\x00\\x00!\\...  \n",
       "120  b'PK\\x03\\x04\\x14\\x00\\x00\\x00\\x08\\x00\\x00\\x00!\\...  \n",
       "121  b'PK\\x03\\x04\\x14\\x00\\x00\\x00\\x08\\x00\\x00\\x00!\\...  \n",
       "\n",
       "[122 rows x 5 columns]"
      ]
     },
     "execution_count": 15,
     "metadata": {},
     "output_type": "execute_result"
    }
   ],
   "source": [
    "df2 = pd.read_sql(session.query(StateStore).filter_by(run_id=run_id, digest=game[0][0]).statement, session.bind)\n",
    "df2"
   ]
  },
  {
   "cell_type": "code",
   "execution_count": null,
   "metadata": {},
   "outputs": [],
   "source": []
  },
  {
   "cell_type": "code",
   "execution_count": 6,
   "metadata": {},
   "outputs": [],
   "source": [
    "# engine =  create_engine('sqlite:///hallway_data.db',\n",
    "#                          connect_args={'check_same_thread': False},\n",
    "#                          execution_options = {\"isolation_level\": \"AUTOCOMMIT\"})\n",
    "\n",
    "# dbname = \"bde\"\n",
    "# port = \"5432\"\n",
    "# host = \"yuma.hpc.nrel.gov\"\n",
    "# user = \"rlops\"\n",
    "# passwd_file = '/projects/rlmolecule/rlops_pass'\n",
    "# with open(passwd_file, 'r') as f:\n",
    "#     passwd = f.read().strip()\n",
    "# drivername = \"postgresql+psycopg2\"\n",
    "# engine_str = f'{drivername}://{user}:{passwd}@{host}:{port}/{dbname}'\n",
    "        \n",
    "# engine = create_engine(engine_str, execution_options={\"isolation_level\": \"AUTOCOMMIT\"})"
   ]
  },
  {
   "cell_type": "code",
   "execution_count": null,
   "metadata": {},
   "outputs": [],
   "source": []
  },
  {
   "cell_type": "code",
   "execution_count": 16,
   "metadata": {},
   "outputs": [
    {
     "data": {
      "text/plain": [
       "5.405813266666667"
      ]
     },
     "execution_count": 16,
     "metadata": {},
     "output_type": "execute_result"
    }
   ],
   "source": [
    "float(df[\"time\"].values[-1] - df[\"time\"].values[0])/1e9/60"
   ]
  },
  {
   "cell_type": "markdown",
   "metadata": {},
   "source": [
    "# 5x5 gridworld "
   ]
  },
  {
   "cell_type": "code",
   "execution_count": 38,
   "metadata": {},
   "outputs": [],
   "source": [
    "# engine = create_engine(f'sqlite:///gridworld_data.db',\n",
    "#                        connect_args={'check_same_thread': False},\n",
    "#                        execution_options = {\"isolation_level\": \"AUTOCOMMIT\"})"
   ]
  },
  {
   "cell_type": "markdown",
   "metadata": {},
   "source": [
    "# Scratch"
   ]
  },
  {
   "cell_type": "code",
   "execution_count": 3,
   "metadata": {},
   "outputs": [
    {
     "ename": "ImportError",
     "evalue": "cannot import name 'GridWorldProblem' from 'gridworld_env' (/lustre/eaglefs/projects/rlmolecule/dbiagion/rlmolecule/examples/gym/gridworld_env.py)",
     "output_type": "error",
     "traceback": [
      "\u001b[0;31m---------------------------------------------------------------------------\u001b[0m",
      "\u001b[0;31mImportError\u001b[0m                               Traceback (most recent call last)",
      "\u001b[0;32m<ipython-input-3-20db57d97123>\u001b[0m in \u001b[0;36m<module>\u001b[0;34m\u001b[0m\n\u001b[1;32m      3\u001b[0m \u001b[0;32mfrom\u001b[0m \u001b[0mgridworld_env\u001b[0m \u001b[0;32mimport\u001b[0m \u001b[0mGridWorldEnv\u001b[0m \u001b[0;32mas\u001b[0m \u001b[0mGridEnv\u001b[0m\u001b[0;34m\u001b[0m\u001b[0;34m\u001b[0m\u001b[0m\n\u001b[1;32m      4\u001b[0m \u001b[0;32mfrom\u001b[0m \u001b[0mgridworld_env\u001b[0m \u001b[0;32mimport\u001b[0m \u001b[0mmake_empty_grid\u001b[0m\u001b[0;34m\u001b[0m\u001b[0;34m\u001b[0m\u001b[0m\n\u001b[0;32m----> 5\u001b[0;31m \u001b[0;32mfrom\u001b[0m \u001b[0mgridworld_env\u001b[0m \u001b[0;32mimport\u001b[0m \u001b[0mGridWorldProblem\u001b[0m\u001b[0;34m\u001b[0m\u001b[0;34m\u001b[0m\u001b[0m\n\u001b[0m",
      "\u001b[0;31mImportError\u001b[0m: cannot import name 'GridWorldProblem' from 'gridworld_env' (/lustre/eaglefs/projects/rlmolecule/dbiagion/rlmolecule/examples/gym/gridworld_env.py)"
     ]
    }
   ],
   "source": [
    "from rlmolecule.tree_search.reward import LinearBoundedRewardFactory\n",
    "from rlmolecule.gym.gym_state import GymEnvState\n",
    "from gridworld_env import GridWorldEnv as GridEnv\n",
    "from gridworld_env import make_empty_grid\n",
    "from solve_gridworld import con\n"
   ]
  },
  {
   "cell_type": "code",
   "execution_count": 8,
   "metadata": {},
   "outputs": [],
   "source": [
    "grid = make_empty_grid(16)\n",
    "env = GridEnv(grid, use_scalar_obs=True)\n",
    "_ = env.reset()"
   ]
  },
  {
   "cell_type": "code",
   "execution_count": 9,
   "metadata": {},
   "outputs": [
    {
     "data": {
      "text/plain": [
       "5395833287013825878"
      ]
     },
     "execution_count": 9,
     "metadata": {},
     "output_type": "execute_result"
    }
   ],
   "source": [
    "e = GymEnvState(env, 0, 0, 0, False)\n",
    "e.hash()"
   ]
  },
  {
   "cell_type": "code",
   "execution_count": 13,
   "metadata": {},
   "outputs": [
    {
     "data": {
      "text/plain": [
       "[(array([0]), 1), (array([1]), 1), (array([16]), 1)]"
      ]
     },
     "execution_count": 13,
     "metadata": {},
     "output_type": "execute_result"
    }
   ],
   "source": [
    "n = e.get_next_actions()\n",
    "list(set(n))"
   ]
  },
  {
   "cell_type": "code",
   "execution_count": 15,
   "metadata": {},
   "outputs": [
    {
     "ename": "NameError",
     "evalue": "name 'GridWorldProblem' is not defined",
     "output_type": "error",
     "traceback": [
      "\u001b[0;31m---------------------------------------------------------------------------\u001b[0m",
      "\u001b[0;31mNameError\u001b[0m                                 Traceback (most recent call last)",
      "\u001b[0;32m<ipython-input-15-1af7c3550cbc>\u001b[0m in \u001b[0;36m<module>\u001b[0;34m\u001b[0m\n\u001b[0;32m----> 1\u001b[0;31m problem = GridWorldProblem(\n\u001b[0m\u001b[1;32m      2\u001b[0m     \u001b[0menv\u001b[0m\u001b[0;34m=\u001b[0m\u001b[0menv\u001b[0m\u001b[0;34m,\u001b[0m\u001b[0;34m\u001b[0m\u001b[0;34m\u001b[0m\u001b[0m\n\u001b[1;32m      3\u001b[0m     \u001b[0mengine\u001b[0m\u001b[0;34m=\u001b[0m\u001b[0mengine\u001b[0m\u001b[0;34m,\u001b[0m\u001b[0;34m\u001b[0m\u001b[0;34m\u001b[0m\u001b[0m\n\u001b[1;32m      4\u001b[0m )\n",
      "\u001b[0;31mNameError\u001b[0m: name 'GridWorldProblem' is not defined"
     ]
    }
   ],
   "source": [
    "problem = GridWorldProblem(\n",
    "    env=env,\n",
    "    engine=engine,\n",
    ")"
   ]
  },
  {
   "cell_type": "code",
   "execution_count": null,
   "metadata": {},
   "outputs": [],
   "source": []
  },
  {
   "cell_type": "code",
   "execution_count": null,
   "metadata": {},
   "outputs": [],
   "source": []
  },
  {
   "cell_type": "code",
   "execution_count": null,
   "metadata": {},
   "outputs": [],
   "source": []
  }
 ],
 "metadata": {
  "kernelspec": {
   "display_name": "Python 3",
   "language": "python",
   "name": "python3"
  },
  "language_info": {
   "codemirror_mode": {
    "name": "ipython",
    "version": 3
   },
   "file_extension": ".py",
   "mimetype": "text/x-python",
   "name": "python",
   "nbconvert_exporter": "python",
   "pygments_lexer": "ipython3",
   "version": "3.7.9"
  }
 },
 "nbformat": 4,
 "nbformat_minor": 4
}
