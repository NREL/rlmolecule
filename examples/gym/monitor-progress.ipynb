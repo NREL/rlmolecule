{
 "cells": [
  {
   "cell_type": "code",
   "execution_count": 1,
   "metadata": {},
   "outputs": [],
   "source": [
    "import numpy as np\n",
    "import pandas as pd\n",
    "\n",
    "import matplotlib.pyplot as plt\n",
    "import seaborn as sns\n",
    "sns.set(context='talk', style='ticks',\n",
    "        color_codes=True, rc={'legend.frameon': False})\n",
    "\n",
    "from sqlalchemy import create_engine\n",
    "from sqlalchemy import inspect\n",
    "from sqlalchemy import MetaData\n",
    "\n",
    "from rlmolecule.sql import Base, Session\n",
    "from rlmolecule.sql.tables import GameStore, RewardStore, StateStore\n",
    "\n",
    "%matplotlib inline"
   ]
  },
  {
   "cell_type": "code",
   "execution_count": 2,
   "metadata": {},
   "outputs": [],
   "source": [
    "run_id = \"gridworld_32\"\n",
    "\n",
    "dbname = \"bde\"\n",
    "port = \"5432\"\n",
    "host = \"yuma.hpc.nrel.gov\"\n",
    "user = \"rlops\"\n",
    "passwd_file = '/projects/rlmolecule/rlops_pass'\n",
    "with open(passwd_file, 'r') as f:\n",
    "    passwd = f.read().strip()\n",
    "drivername = \"postgresql+psycopg2\"\n",
    "engine_str = f'{drivername}://{user}:{passwd}@{host}:{port}/{dbname}'\n",
    "        \n",
    "engine = create_engine(engine_str, execution_options={\"isolation_level\": \"AUTOCOMMIT\"})\n",
    "\n",
    "# load the games played\n",
    "Session.configure(bind=engine)\n",
    "session = Session()"
   ]
  },
  {
   "cell_type": "code",
   "execution_count": 3,
   "metadata": {},
   "outputs": [
    {
     "data": {
      "text/html": [
       "<div>\n",
       "<style scoped>\n",
       "    .dataframe tbody tr th:only-of-type {\n",
       "        vertical-align: middle;\n",
       "    }\n",
       "\n",
       "    .dataframe tbody tr th {\n",
       "        vertical-align: top;\n",
       "    }\n",
       "\n",
       "    .dataframe thead th {\n",
       "        text-align: right;\n",
       "    }\n",
       "</style>\n",
       "<table border=\"1\" class=\"dataframe\">\n",
       "  <thead>\n",
       "    <tr style=\"text-align: right;\">\n",
       "      <th></th>\n",
       "      <th>id</th>\n",
       "      <th>run_id</th>\n",
       "      <th>time</th>\n",
       "      <th>raw_reward</th>\n",
       "      <th>scaled_reward</th>\n",
       "      <th>search_statistics</th>\n",
       "      <th>time_hours</th>\n",
       "    </tr>\n",
       "  </thead>\n",
       "  <tbody>\n",
       "    <tr>\n",
       "      <th>0</th>\n",
       "      <td>cef299ca-a935-4f7d-8497-5cde2c544d13</td>\n",
       "      <td>gridworld_32</td>\n",
       "      <td>2021-04-24 14:59:56.714817</td>\n",
       "      <td>-0.876344</td>\n",
       "      <td>1.0</td>\n",
       "      <td>[[3d75d35ff6b29f444420770f31d3a3f89ca7f71bceae...</td>\n",
       "      <td>0.000000e+00</td>\n",
       "    </tr>\n",
       "    <tr>\n",
       "      <th>1</th>\n",
       "      <td>e78b78f1-88af-4027-8149-6e9e39153e46</td>\n",
       "      <td>gridworld_32</td>\n",
       "      <td>2021-04-24 14:59:56.714888</td>\n",
       "      <td>-0.876344</td>\n",
       "      <td>1.0</td>\n",
       "      <td>[[3d75d35ff6b29f444420770f31d3a3f89ca7f71bceae...</td>\n",
       "      <td>1.972222e-08</td>\n",
       "    </tr>\n",
       "    <tr>\n",
       "      <th>2</th>\n",
       "      <td>0dc26b24-a386-4b6b-bc66-e9dd0a421b9b</td>\n",
       "      <td>gridworld_32</td>\n",
       "      <td>2021-04-24 14:59:56.715319</td>\n",
       "      <td>-0.876344</td>\n",
       "      <td>1.0</td>\n",
       "      <td>[[3d75d35ff6b29f444420770f31d3a3f89ca7f71bceae...</td>\n",
       "      <td>1.394444e-07</td>\n",
       "    </tr>\n",
       "    <tr>\n",
       "      <th>3</th>\n",
       "      <td>62842770-784f-4d97-9965-67203f73debc</td>\n",
       "      <td>gridworld_32</td>\n",
       "      <td>2021-04-24 14:59:56.716119</td>\n",
       "      <td>-0.876344</td>\n",
       "      <td>1.0</td>\n",
       "      <td>[[3d75d35ff6b29f444420770f31d3a3f89ca7f71bceae...</td>\n",
       "      <td>3.616667e-07</td>\n",
       "    </tr>\n",
       "    <tr>\n",
       "      <th>4</th>\n",
       "      <td>49927b26-1b58-46d5-bf09-3c158136a1c0</td>\n",
       "      <td>gridworld_32</td>\n",
       "      <td>2021-04-24 14:59:56.716143</td>\n",
       "      <td>-0.876344</td>\n",
       "      <td>1.0</td>\n",
       "      <td>[[3d75d35ff6b29f444420770f31d3a3f89ca7f71bceae...</td>\n",
       "      <td>3.683333e-07</td>\n",
       "    </tr>\n",
       "  </tbody>\n",
       "</table>\n",
       "</div>"
      ],
      "text/plain": [
       "                                     id        run_id  \\\n",
       "0  cef299ca-a935-4f7d-8497-5cde2c544d13  gridworld_32   \n",
       "1  e78b78f1-88af-4027-8149-6e9e39153e46  gridworld_32   \n",
       "2  0dc26b24-a386-4b6b-bc66-e9dd0a421b9b  gridworld_32   \n",
       "3  62842770-784f-4d97-9965-67203f73debc  gridworld_32   \n",
       "4  49927b26-1b58-46d5-bf09-3c158136a1c0  gridworld_32   \n",
       "\n",
       "                        time  raw_reward  scaled_reward  \\\n",
       "0 2021-04-24 14:59:56.714817   -0.876344            1.0   \n",
       "1 2021-04-24 14:59:56.714888   -0.876344            1.0   \n",
       "2 2021-04-24 14:59:56.715319   -0.876344            1.0   \n",
       "3 2021-04-24 14:59:56.716119   -0.876344            1.0   \n",
       "4 2021-04-24 14:59:56.716143   -0.876344            1.0   \n",
       "\n",
       "                                   search_statistics    time_hours  \n",
       "0  [[3d75d35ff6b29f444420770f31d3a3f89ca7f71bceae...  0.000000e+00  \n",
       "1  [[3d75d35ff6b29f444420770f31d3a3f89ca7f71bceae...  1.972222e-08  \n",
       "2  [[3d75d35ff6b29f444420770f31d3a3f89ca7f71bceae...  1.394444e-07  \n",
       "3  [[3d75d35ff6b29f444420770f31d3a3f89ca7f71bceae...  3.616667e-07  \n",
       "4  [[3d75d35ff6b29f444420770f31d3a3f89ca7f71bceae...  3.683333e-07  "
      ]
     },
     "execution_count": 3,
     "metadata": {},
     "output_type": "execute_result"
    }
   ],
   "source": [
    "df = pd.read_sql(session.query(GameStore).filter_by(run_id=run_id).statement, session.bind)\n",
    "\n",
    "df['time_hours'] = (df.time - df.time.min()).apply(lambda x: x.total_seconds() / 3600)\n",
    "df = df.sort_values('time_hours')\n",
    "df_games = df\n",
    "df_games.reset_index(drop=True, inplace=True)\n",
    "df_games.head()"
   ]
  },
  {
   "cell_type": "code",
   "execution_count": 4,
   "metadata": {},
   "outputs": [
    {
     "data": {
      "text/plain": [
       "<AxesSubplot:>"
      ]
     },
     "execution_count": 4,
     "metadata": {},
     "output_type": "execute_result"
    },
    {
     "data": {
      "image/png": "[encoded data removed]",
      "text/plain": [
       "<Figure size 432x288 with 1 Axes>"
      ]
     },
     "metadata": {
      "needs_background": "light"
     },
     "output_type": "display_data"
    }
   ],
   "source": [
    "df[\"raw_reward\"].plot(ylim=(-1.1, 1.1))"
   ]
  },
  {
   "cell_type": "code",
   "execution_count": null,
   "metadata": {},
   "outputs": [],
   "source": []
  },
  {
   "cell_type": "code",
   "execution_count": null,
   "metadata": {},
   "outputs": [],
   "source": []
  },
  {
   "cell_type": "code",
   "execution_count": 6,
   "metadata": {},
   "outputs": [],
   "source": [
    "# engine =  create_engine('sqlite:///hallway_data.db',\n",
    "#                          connect_args={'check_same_thread': False},\n",
    "#                          execution_options = {\"isolation_level\": \"AUTOCOMMIT\"})\n",
    "\n",
    "# dbname = \"bde\"\n",
    "# port = \"5432\"\n",
    "# host = \"yuma.hpc.nrel.gov\"\n",
    "# user = \"rlops\"\n",
    "# passwd_file = '/projects/rlmolecule/rlops_pass'\n",
    "# with open(passwd_file, 'r') as f:\n",
    "#     passwd = f.read().strip()\n",
    "# drivername = \"postgresql+psycopg2\"\n",
    "# engine_str = f'{drivername}://{user}:{passwd}@{host}:{port}/{dbname}'\n",
    "        \n",
    "# engine = create_engine(engine_str, execution_options={\"isolation_level\": \"AUTOCOMMIT\"})"
   ]
  },
  {
   "cell_type": "code",
   "execution_count": null,
   "metadata": {},
   "outputs": [],
   "source": []
  },
  {
   "cell_type": "code",
   "execution_count": 16,
   "metadata": {},
   "outputs": [
    {
     "data": {
      "text/plain": [
       "5.405813266666667"
      ]
     },
     "execution_count": 16,
     "metadata": {},
     "output_type": "execute_result"
    }
   ],
   "source": [
    "float(df[\"time\"].values[-1] - df[\"time\"].values[0])/1e9/60"
   ]
  },
  {
   "cell_type": "markdown",
   "metadata": {},
   "source": [
    "# 5x5 gridworld "
   ]
  },
  {
   "cell_type": "code",
   "execution_count": 38,
   "metadata": {},
   "outputs": [],
   "source": [
    "engine = create_engine(f'sqlite:///gridworld_data.db',\n",
    "                       connect_args={'check_same_thread': False},\n",
    "                       execution_options = {\"isolation_level\": \"AUTOCOMMIT\"})"
   ]
  },
  {
   "cell_type": "code",
   "execution_count": 47,
   "metadata": {},
   "outputs": [],
   "source": [
    "_ = plot_reward(engine, -2)"
   ]
  },
  {
   "cell_type": "code",
   "execution_count": null,
   "metadata": {},
   "outputs": [],
   "source": []
  },
  {
   "cell_type": "code",
   "execution_count": null,
   "metadata": {},
   "outputs": [],
   "source": []
  },
  {
   "cell_type": "code",
   "execution_count": null,
   "metadata": {},
   "outputs": [],
   "source": []
  }
 ],
 "metadata": {
  "kernelspec": {
   "display_name": "Python 3",
   "language": "python",
   "name": "python3"
  },
  "language_info": {
   "codemirror_mode": {
    "name": "ipython",
    "version": 3
   },
   "file_extension": ".py",
   "mimetype": "text/x-python",
   "name": "python",
   "nbconvert_exporter": "python",
   "pygments_lexer": "ipython3",
   "version": "3.7.9"
  }
 },
 "nbformat": 4,
 "nbformat_minor": 4
}
