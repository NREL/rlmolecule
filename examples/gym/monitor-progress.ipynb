{
 "cells": [
  {
   "cell_type": "code",
   "execution_count": 7,
   "metadata": {},
   "outputs": [],
   "source": [
    "import numpy as np\n",
    "import pandas as pd\n",
    "\n",
    "import matplotlib.pyplot as plt\n",
    "import seaborn as sns\n",
    "sns.set(context='talk', style='ticks',\n",
    "        color_codes=True, rc={'legend.frameon': False})\n",
    "\n",
    "from sqlalchemy import create_engine\n",
    "from sqlalchemy import inspect\n",
    "from sqlalchemy import MetaData\n",
    "\n",
    "from rlmolecule.sql import Base, Session\n",
    "from rlmolecule.sql.tables import GameStore, RewardStore, StateStore\n",
    "\n",
    "%matplotlib inline"
   ]
  },
  {
   "cell_type": "code",
   "execution_count": 9,
   "metadata": {},
   "outputs": [],
   "source": [
    "run_id = \"gridworld_16\"\n",
    "\n",
    "dbname = \"bde\"\n",
    "port = \"5432\"\n",
    "host = \"yuma.hpc.nrel.gov\"\n",
    "user = \"rlops\"\n",
    "passwd_file = '/projects/rlmolecule/rlops_pass'\n",
    "with open(passwd_file, 'r') as f:\n",
    "    passwd = f.read().strip()\n",
    "drivername = \"postgresql+psycopg2\"\n",
    "engine_str = f'{drivername}://{user}:{passwd}@{host}:{port}/{dbname}'\n",
    "        \n",
    "engine = create_engine(engine_str, execution_options={\"isolation_level\": \"AUTOCOMMIT\"})\n",
    "\n",
    "# load the games played\n",
    "Session.configure(bind=engine)\n",
    "session = Session()"
   ]
  },
  {
   "cell_type": "code",
   "execution_count": 10,
   "metadata": {},
   "outputs": [
    {
     "data": {
      "text/html": [
       "<div>\n",
       "<style scoped>\n",
       "    .dataframe tbody tr th:only-of-type {\n",
       "        vertical-align: middle;\n",
       "    }\n",
       "\n",
       "    .dataframe tbody tr th {\n",
       "        vertical-align: top;\n",
       "    }\n",
       "\n",
       "    .dataframe thead th {\n",
       "        text-align: right;\n",
       "    }\n",
       "</style>\n",
       "<table border=\"1\" class=\"dataframe\">\n",
       "  <thead>\n",
       "    <tr style=\"text-align: right;\">\n",
       "      <th></th>\n",
       "      <th>id</th>\n",
       "      <th>run_id</th>\n",
       "      <th>time</th>\n",
       "      <th>raw_reward</th>\n",
       "      <th>scaled_reward</th>\n",
       "      <th>search_statistics</th>\n",
       "      <th>time_hours</th>\n",
       "    </tr>\n",
       "  </thead>\n",
       "  <tbody>\n",
       "    <tr>\n",
       "      <th>0</th>\n",
       "      <td>a76b2b54-47d7-4805-acdc-f8fa24d773a8</td>\n",
       "      <td>gridworld_16</td>\n",
       "      <td>2021-04-27 21:38:14.176688</td>\n",
       "      <td>-52.0</td>\n",
       "      <td>0.133333</td>\n",
       "      <td>[[5f020ff03dcbe5ede13f1b7d3165545320c40d890522...</td>\n",
       "      <td>0.000000e+00</td>\n",
       "    </tr>\n",
       "    <tr>\n",
       "      <th>1</th>\n",
       "      <td>cf8ee665-c1b4-4ee4-8ad0-8fe83b43ac6e</td>\n",
       "      <td>gridworld_16</td>\n",
       "      <td>2021-04-27 21:38:14.177055</td>\n",
       "      <td>-55.0</td>\n",
       "      <td>0.083333</td>\n",
       "      <td>[[5f020ff03dcbe5ede13f1b7d3165545320c40d890522...</td>\n",
       "      <td>1.019444e-07</td>\n",
       "    </tr>\n",
       "    <tr>\n",
       "      <th>2</th>\n",
       "      <td>b45659f0-d4f5-4505-b63e-82d981ec89cd</td>\n",
       "      <td>gridworld_16</td>\n",
       "      <td>2021-04-27 21:38:14.177376</td>\n",
       "      <td>-54.0</td>\n",
       "      <td>0.100000</td>\n",
       "      <td>[[5f020ff03dcbe5ede13f1b7d3165545320c40d890522...</td>\n",
       "      <td>1.911111e-07</td>\n",
       "    </tr>\n",
       "    <tr>\n",
       "      <th>3</th>\n",
       "      <td>0955d37f-82e4-49d4-9510-e10c2c5071d1</td>\n",
       "      <td>gridworld_16</td>\n",
       "      <td>2021-04-27 21:38:14.178290</td>\n",
       "      <td>-56.0</td>\n",
       "      <td>0.066667</td>\n",
       "      <td>[[5f020ff03dcbe5ede13f1b7d3165545320c40d890522...</td>\n",
       "      <td>4.450000e-07</td>\n",
       "    </tr>\n",
       "    <tr>\n",
       "      <th>4</th>\n",
       "      <td>26cdb6c5-2d9b-475b-9fb9-ff1f4421f4fb</td>\n",
       "      <td>gridworld_16</td>\n",
       "      <td>2021-04-27 21:38:14.179396</td>\n",
       "      <td>-59.0</td>\n",
       "      <td>0.016667</td>\n",
       "      <td>[[5f020ff03dcbe5ede13f1b7d3165545320c40d890522...</td>\n",
       "      <td>7.522222e-07</td>\n",
       "    </tr>\n",
       "  </tbody>\n",
       "</table>\n",
       "</div>"
      ],
      "text/plain": [
       "                                     id        run_id  \\\n",
       "0  a76b2b54-47d7-4805-acdc-f8fa24d773a8  gridworld_16   \n",
       "1  cf8ee665-c1b4-4ee4-8ad0-8fe83b43ac6e  gridworld_16   \n",
       "2  b45659f0-d4f5-4505-b63e-82d981ec89cd  gridworld_16   \n",
       "3  0955d37f-82e4-49d4-9510-e10c2c5071d1  gridworld_16   \n",
       "4  26cdb6c5-2d9b-475b-9fb9-ff1f4421f4fb  gridworld_16   \n",
       "\n",
       "                        time  raw_reward  scaled_reward  \\\n",
       "0 2021-04-27 21:38:14.176688       -52.0       0.133333   \n",
       "1 2021-04-27 21:38:14.177055       -55.0       0.083333   \n",
       "2 2021-04-27 21:38:14.177376       -54.0       0.100000   \n",
       "3 2021-04-27 21:38:14.178290       -56.0       0.066667   \n",
       "4 2021-04-27 21:38:14.179396       -59.0       0.016667   \n",
       "\n",
       "                                   search_statistics    time_hours  \n",
       "0  [[5f020ff03dcbe5ede13f1b7d3165545320c40d890522...  0.000000e+00  \n",
       "1  [[5f020ff03dcbe5ede13f1b7d3165545320c40d890522...  1.019444e-07  \n",
       "2  [[5f020ff03dcbe5ede13f1b7d3165545320c40d890522...  1.911111e-07  \n",
       "3  [[5f020ff03dcbe5ede13f1b7d3165545320c40d890522...  4.450000e-07  \n",
       "4  [[5f020ff03dcbe5ede13f1b7d3165545320c40d890522...  7.522222e-07  "
      ]
     },
     "execution_count": 10,
     "metadata": {},
     "output_type": "execute_result"
    }
   ],
   "source": [
    "df = pd.read_sql(session.query(GameStore).filter_by(run_id=run_id).statement, session.bind)\n",
    "\n",
    "df['time_hours'] = (df.time - df.time.min()).apply(lambda x: x.total_seconds() / 3600)\n",
    "df = df.sort_values('time_hours')\n",
    "df_games = df\n",
    "df_games.reset_index(drop=True, inplace=True)\n",
    "df_games.head()"
   ]
  },
  {
   "cell_type": "code",
   "execution_count": 11,
   "metadata": {},
   "outputs": [
    {
     "data": {
      "text/plain": [
       "<AxesSubplot:>"
      ]
     },
     "execution_count": 11,
     "metadata": {},
     "output_type": "execute_result"
    },
    {
     "data": {
      "image/png": "[encoded data removed]",
      "text/plain": [
       "<Figure size 432x288 with 1 Axes>"
      ]
     },
     "metadata": {
      "needs_background": "light"
     },
     "output_type": "display_data"
    }
   ],
   "source": [
    "df[\"scaled_reward\"].rolling(16).mean().plot(ylim=(0, 1.1))"
   ]
  },
  {
   "cell_type": "code",
   "execution_count": 15,
   "metadata": {},
   "outputs": [
    {
     "ename": "KeyError",
     "evalue": "128",
     "output_type": "error",
     "traceback": [
      "\u001b[0;31m---------------------------------------------------------------------------\u001b[0m",
      "\u001b[0;31mValueError\u001b[0m                                Traceback (most recent call last)",
      "\u001b[0;32m~/.conda-envs/tf2_cpu/lib/python3.7/site-packages/pandas/core/indexes/range.py\u001b[0m in \u001b[0;36mget_loc\u001b[0;34m(self, key, method, tolerance)\u001b[0m\n\u001b[1;32m    350\u001b[0m                 \u001b[0;32mtry\u001b[0m\u001b[0;34m:\u001b[0m\u001b[0;34m\u001b[0m\u001b[0;34m\u001b[0m\u001b[0m\n\u001b[0;32m--> 351\u001b[0;31m                     \u001b[0;32mreturn\u001b[0m \u001b[0mself\u001b[0m\u001b[0;34m.\u001b[0m\u001b[0m_range\u001b[0m\u001b[0;34m.\u001b[0m\u001b[0mindex\u001b[0m\u001b[0;34m(\u001b[0m\u001b[0mnew_key\u001b[0m\u001b[0;34m)\u001b[0m\u001b[0;34m\u001b[0m\u001b[0;34m\u001b[0m\u001b[0m\n\u001b[0m\u001b[1;32m    352\u001b[0m                 \u001b[0;32mexcept\u001b[0m \u001b[0mValueError\u001b[0m \u001b[0;32mas\u001b[0m \u001b[0merr\u001b[0m\u001b[0;34m:\u001b[0m\u001b[0;34m\u001b[0m\u001b[0;34m\u001b[0m\u001b[0m\n",
      "\u001b[0;31mValueError\u001b[0m: 128 is not in range",
      "\nThe above exception was the direct cause of the following exception:\n",
      "\u001b[0;31mKeyError\u001b[0m                                  Traceback (most recent call last)",
      "\u001b[0;32m<ipython-input-15-d112f836aa9b>\u001b[0m in \u001b[0;36m<module>\u001b[0;34m\u001b[0m\n\u001b[1;32m      1\u001b[0m \u001b[0mdf_games\u001b[0m\u001b[0;34m[\u001b[0m\u001b[0;34m\"search_statistics\"\u001b[0m\u001b[0;34m]\u001b[0m\u001b[0;34m.\u001b[0m\u001b[0mshape\u001b[0m\u001b[0;34m\u001b[0m\u001b[0;34m\u001b[0m\u001b[0m\n\u001b[0;32m----> 2\u001b[0;31m \u001b[0mgame\u001b[0m \u001b[0;34m=\u001b[0m \u001b[0mdf_games\u001b[0m\u001b[0;34m[\u001b[0m\u001b[0;34m\"search_statistics\"\u001b[0m\u001b[0;34m]\u001b[0m\u001b[0;34m[\u001b[0m\u001b[0;36m128\u001b[0m\u001b[0;34m]\u001b[0m\u001b[0;34m\u001b[0m\u001b[0;34m\u001b[0m\u001b[0m\n\u001b[0m",
      "\u001b[0;32m~/.conda-envs/tf2_cpu/lib/python3.7/site-packages/pandas/core/series.py\u001b[0m in \u001b[0;36m__getitem__\u001b[0;34m(self, key)\u001b[0m\n\u001b[1;32m    849\u001b[0m \u001b[0;34m\u001b[0m\u001b[0m\n\u001b[1;32m    850\u001b[0m         \u001b[0;32melif\u001b[0m \u001b[0mkey_is_scalar\u001b[0m\u001b[0;34m:\u001b[0m\u001b[0;34m\u001b[0m\u001b[0;34m\u001b[0m\u001b[0m\n\u001b[0;32m--> 851\u001b[0;31m             \u001b[0;32mreturn\u001b[0m \u001b[0mself\u001b[0m\u001b[0;34m.\u001b[0m\u001b[0m_get_value\u001b[0m\u001b[0;34m(\u001b[0m\u001b[0mkey\u001b[0m\u001b[0;34m)\u001b[0m\u001b[0;34m\u001b[0m\u001b[0;34m\u001b[0m\u001b[0m\n\u001b[0m\u001b[1;32m    852\u001b[0m \u001b[0;34m\u001b[0m\u001b[0m\n\u001b[1;32m    853\u001b[0m         \u001b[0;32mif\u001b[0m \u001b[0mis_hashable\u001b[0m\u001b[0;34m(\u001b[0m\u001b[0mkey\u001b[0m\u001b[0;34m)\u001b[0m\u001b[0;34m:\u001b[0m\u001b[0;34m\u001b[0m\u001b[0;34m\u001b[0m\u001b[0m\n",
      "\u001b[0;32m~/.conda-envs/tf2_cpu/lib/python3.7/site-packages/pandas/core/series.py\u001b[0m in \u001b[0;36m_get_value\u001b[0;34m(self, label, takeable)\u001b[0m\n\u001b[1;32m    957\u001b[0m \u001b[0;34m\u001b[0m\u001b[0m\n\u001b[1;32m    958\u001b[0m         \u001b[0;31m# Similar to Index.get_value, but we do not fall back to positional\u001b[0m\u001b[0;34m\u001b[0m\u001b[0;34m\u001b[0m\u001b[0;34m\u001b[0m\u001b[0m\n\u001b[0;32m--> 959\u001b[0;31m         \u001b[0mloc\u001b[0m \u001b[0;34m=\u001b[0m \u001b[0mself\u001b[0m\u001b[0;34m.\u001b[0m\u001b[0mindex\u001b[0m\u001b[0;34m.\u001b[0m\u001b[0mget_loc\u001b[0m\u001b[0;34m(\u001b[0m\u001b[0mlabel\u001b[0m\u001b[0;34m)\u001b[0m\u001b[0;34m\u001b[0m\u001b[0;34m\u001b[0m\u001b[0m\n\u001b[0m\u001b[1;32m    960\u001b[0m         \u001b[0;32mreturn\u001b[0m \u001b[0mself\u001b[0m\u001b[0;34m.\u001b[0m\u001b[0mindex\u001b[0m\u001b[0;34m.\u001b[0m\u001b[0m_get_values_for_loc\u001b[0m\u001b[0;34m(\u001b[0m\u001b[0mself\u001b[0m\u001b[0;34m,\u001b[0m \u001b[0mloc\u001b[0m\u001b[0;34m,\u001b[0m \u001b[0mlabel\u001b[0m\u001b[0;34m)\u001b[0m\u001b[0;34m\u001b[0m\u001b[0;34m\u001b[0m\u001b[0m\n\u001b[1;32m    961\u001b[0m \u001b[0;34m\u001b[0m\u001b[0m\n",
      "\u001b[0;32m~/.conda-envs/tf2_cpu/lib/python3.7/site-packages/pandas/core/indexes/range.py\u001b[0m in \u001b[0;36mget_loc\u001b[0;34m(self, key, method, tolerance)\u001b[0m\n\u001b[1;32m    351\u001b[0m                     \u001b[0;32mreturn\u001b[0m \u001b[0mself\u001b[0m\u001b[0;34m.\u001b[0m\u001b[0m_range\u001b[0m\u001b[0;34m.\u001b[0m\u001b[0mindex\u001b[0m\u001b[0;34m(\u001b[0m\u001b[0mnew_key\u001b[0m\u001b[0;34m)\u001b[0m\u001b[0;34m\u001b[0m\u001b[0;34m\u001b[0m\u001b[0m\n\u001b[1;32m    352\u001b[0m                 \u001b[0;32mexcept\u001b[0m \u001b[0mValueError\u001b[0m \u001b[0;32mas\u001b[0m \u001b[0merr\u001b[0m\u001b[0;34m:\u001b[0m\u001b[0;34m\u001b[0m\u001b[0;34m\u001b[0m\u001b[0m\n\u001b[0;32m--> 353\u001b[0;31m                     \u001b[0;32mraise\u001b[0m \u001b[0mKeyError\u001b[0m\u001b[0;34m(\u001b[0m\u001b[0mkey\u001b[0m\u001b[0;34m)\u001b[0m \u001b[0;32mfrom\u001b[0m \u001b[0merr\u001b[0m\u001b[0;34m\u001b[0m\u001b[0;34m\u001b[0m\u001b[0m\n\u001b[0m\u001b[1;32m    354\u001b[0m             \u001b[0;32mraise\u001b[0m \u001b[0mKeyError\u001b[0m\u001b[0;34m(\u001b[0m\u001b[0mkey\u001b[0m\u001b[0;34m)\u001b[0m\u001b[0;34m\u001b[0m\u001b[0;34m\u001b[0m\u001b[0m\n\u001b[1;32m    355\u001b[0m         \u001b[0;32mreturn\u001b[0m \u001b[0msuper\u001b[0m\u001b[0;34m(\u001b[0m\u001b[0;34m)\u001b[0m\u001b[0;34m.\u001b[0m\u001b[0mget_loc\u001b[0m\u001b[0;34m(\u001b[0m\u001b[0mkey\u001b[0m\u001b[0;34m,\u001b[0m \u001b[0mmethod\u001b[0m\u001b[0;34m=\u001b[0m\u001b[0mmethod\u001b[0m\u001b[0;34m,\u001b[0m \u001b[0mtolerance\u001b[0m\u001b[0;34m=\u001b[0m\u001b[0mtolerance\u001b[0m\u001b[0;34m)\u001b[0m\u001b[0;34m\u001b[0m\u001b[0;34m\u001b[0m\u001b[0m\n",
      "\u001b[0;31mKeyError\u001b[0m: 128"
     ]
    }
   ],
   "source": [
    "df_games[\"search_statistics\"].shape\n",
    "game = df_games[\"search_statistics\"][128]"
   ]
  },
  {
   "cell_type": "code",
   "execution_count": 16,
   "metadata": {},
   "outputs": [
    {
     "data": {
      "text/plain": [
       "[['5f020ff03dcbe5ede13f1b7d3165545320c40d8905222140f92e50a25f43d29d',\n",
       "  [['af87f4e624e471198a93b051ed002210ba6eb2522cf4b104ec9405df65d53bdd',\n",
       "    0.3333333333333333],\n",
       "   ['32af5f68b9529d7e5a00fd06590039dc8e71def5ef93be1a331695380e535561',\n",
       "    0.3333333333333333],\n",
       "   ['5f020ff03dcbe5ede13f1b7d3165545320c40d8905222140f92e50a25f43d29d',\n",
       "    0.3333333333333333]]],\n",
       " ['af87f4e624e471198a93b051ed002210ba6eb2522cf4b104ec9405df65d53bdd',\n",
       "  [['ac42683fa82b5daf83a12f1775f446c0b924601c7c96bb8d694d5d049acb9a37', 0.25],\n",
       "   ['80d69fd522556c00f2c98960d79a05a35b89a7c727ea4d933f48d7a6ea588b46', 0.25],\n",
       "   ['5f020ff03dcbe5ede13f1b7d3165545320c40d8905222140f92e50a25f43d29d', 0.25],\n",
       "   ['af87f4e624e471198a93b051ed002210ba6eb2522cf4b104ec9405df65d53bdd',\n",
       "    0.25]]],\n",
       " ['af87f4e624e471198a93b051ed002210ba6eb2522cf4b104ec9405df65d53bdd',\n",
       "  [['ac42683fa82b5daf83a12f1775f446c0b924601c7c96bb8d694d5d049acb9a37', 0.25],\n",
       "   ['80d69fd522556c00f2c98960d79a05a35b89a7c727ea4d933f48d7a6ea588b46', 0.25],\n",
       "   ['5f020ff03dcbe5ede13f1b7d3165545320c40d8905222140f92e50a25f43d29d', 0.25],\n",
       "   ['af87f4e624e471198a93b051ed002210ba6eb2522cf4b104ec9405df65d53bdd',\n",
       "    0.25]]],\n",
       " ['ac42683fa82b5daf83a12f1775f446c0b924601c7c96bb8d694d5d049acb9a37',\n",
       "  [['abfcd24e0b34a404fd92f6770cd449bfbb44705938796b6705cf8ca29c499323',\n",
       "    0.25806451612903225],\n",
       "   ['221163077790c4b67e1dfc1cca65bf60c9fe35d12a9e6883435b31c2de68da94',\n",
       "    0.25806451612903225],\n",
       "   ['af87f4e624e471198a93b051ed002210ba6eb2522cf4b104ec9405df65d53bdd',\n",
       "    0.22580645161290322],\n",
       "   ['ac42683fa82b5daf83a12f1775f446c0b924601c7c96bb8d694d5d049acb9a37',\n",
       "    0.25806451612903225]]],\n",
       " ['ac42683fa82b5daf83a12f1775f446c0b924601c7c96bb8d694d5d049acb9a37',\n",
       "  [['abfcd24e0b34a404fd92f6770cd449bfbb44705938796b6705cf8ca29c499323',\n",
       "    0.26666666666666666],\n",
       "   ['221163077790c4b67e1dfc1cca65bf60c9fe35d12a9e6883435b31c2de68da94',\n",
       "    0.23333333333333334],\n",
       "   ['af87f4e624e471198a93b051ed002210ba6eb2522cf4b104ec9405df65d53bdd',\n",
       "    0.23333333333333334],\n",
       "   ['ac42683fa82b5daf83a12f1775f446c0b924601c7c96bb8d694d5d049acb9a37',\n",
       "    0.26666666666666666]]],\n",
       " ['221163077790c4b67e1dfc1cca65bf60c9fe35d12a9e6883435b31c2de68da94',\n",
       "  [['2c2418cccef4b87aa5749ecd97956786135c8ddcf431f4cdb85e162ee08f6eb0', 0.25],\n",
       "   ['80fb902d24c49d417d1f9de1d5cfa932db69b93ed459d197fa2642c5be8f85b9', 0.25],\n",
       "   ['80d69fd522556c00f2c98960d79a05a35b89a7c727ea4d933f48d7a6ea588b46', 0.25],\n",
       "   ['ac42683fa82b5daf83a12f1775f446c0b924601c7c96bb8d694d5d049acb9a37',\n",
       "    0.25]]],\n",
       " ['80d69fd522556c00f2c98960d79a05a35b89a7c727ea4d933f48d7a6ea588b46',\n",
       "  [['221163077790c4b67e1dfc1cca65bf60c9fe35d12a9e6883435b31c2de68da94',\n",
       "    0.25806451612903225],\n",
       "   ['318a68ea452cf49092c44c9cc6e45ee3da98975cef82d9bb123ba53730de72e6',\n",
       "    0.25806451612903225],\n",
       "   ['32af5f68b9529d7e5a00fd06590039dc8e71def5ef93be1a331695380e535561',\n",
       "    0.22580645161290322],\n",
       "   ['af87f4e624e471198a93b051ed002210ba6eb2522cf4b104ec9405df65d53bdd',\n",
       "    0.25806451612903225]]],\n",
       " ['af87f4e624e471198a93b051ed002210ba6eb2522cf4b104ec9405df65d53bdd',\n",
       "  [['ac42683fa82b5daf83a12f1775f446c0b924601c7c96bb8d694d5d049acb9a37',\n",
       "    0.25806451612903225],\n",
       "   ['80d69fd522556c00f2c98960d79a05a35b89a7c727ea4d933f48d7a6ea588b46',\n",
       "    0.25806451612903225],\n",
       "   ['5f020ff03dcbe5ede13f1b7d3165545320c40d8905222140f92e50a25f43d29d',\n",
       "    0.22580645161290322],\n",
       "   ['af87f4e624e471198a93b051ed002210ba6eb2522cf4b104ec9405df65d53bdd',\n",
       "    0.25806451612903225]]],\n",
       " ['80d69fd522556c00f2c98960d79a05a35b89a7c727ea4d933f48d7a6ea588b46',\n",
       "  [['221163077790c4b67e1dfc1cca65bf60c9fe35d12a9e6883435b31c2de68da94',\n",
       "    0.24242424242424243],\n",
       "   ['318a68ea452cf49092c44c9cc6e45ee3da98975cef82d9bb123ba53730de72e6',\n",
       "    0.2727272727272727],\n",
       "   ['32af5f68b9529d7e5a00fd06590039dc8e71def5ef93be1a331695380e535561',\n",
       "    0.24242424242424243],\n",
       "   ['af87f4e624e471198a93b051ed002210ba6eb2522cf4b104ec9405df65d53bdd',\n",
       "    0.24242424242424243]]],\n",
       " ['318a68ea452cf49092c44c9cc6e45ee3da98975cef82d9bb123ba53730de72e6',\n",
       "  [['80fb902d24c49d417d1f9de1d5cfa932db69b93ed459d197fa2642c5be8f85b9',\n",
       "    0.2727272727272727],\n",
       "   ['9da9e302c4ff990b54ec246351734813137d3fa81fdd30b67aeb9d0b4f7f9111',\n",
       "    0.24242424242424243],\n",
       "   ['5928c8dffe0a494af78eb27e5ea5940a49a9194f89b42fd179eb6dd39be6c8b9',\n",
       "    0.24242424242424243],\n",
       "   ['80d69fd522556c00f2c98960d79a05a35b89a7c727ea4d933f48d7a6ea588b46',\n",
       "    0.24242424242424243]]]]"
      ]
     },
     "execution_count": 16,
     "metadata": {},
     "output_type": "execute_result"
    }
   ],
   "source": [
    "game[:10]"
   ]
  },
  {
   "cell_type": "code",
   "execution_count": null,
   "metadata": {},
   "outputs": [],
   "source": []
  },
  {
   "cell_type": "code",
   "execution_count": 17,
   "metadata": {},
   "outputs": [
    {
     "data": {
      "text/html": [
       "<div>\n",
       "<style scoped>\n",
       "    .dataframe tbody tr th:only-of-type {\n",
       "        vertical-align: middle;\n",
       "    }\n",
       "\n",
       "    .dataframe tbody tr th {\n",
       "        vertical-align: top;\n",
       "    }\n",
       "\n",
       "    .dataframe thead th {\n",
       "        text-align: right;\n",
       "    }\n",
       "</style>\n",
       "<table border=\"1\" class=\"dataframe\">\n",
       "  <thead>\n",
       "    <tr style=\"text-align: right;\">\n",
       "      <th></th>\n",
       "      <th>digest</th>\n",
       "      <th>hash</th>\n",
       "      <th>run_id</th>\n",
       "      <th>state</th>\n",
       "      <th>policy_inputs</th>\n",
       "    </tr>\n",
       "  </thead>\n",
       "  <tbody>\n",
       "    <tr>\n",
       "      <th>0</th>\n",
       "      <td>5f020ff03dcbe5ede13f1b7d3165545320c40d89052221...</td>\n",
       "      <td>-6798317064969179397</td>\n",
       "      <td>gridworld_16</td>\n",
       "      <td>b'x\\x9c\\xed\\x9bi\\x93\\xdbD\\x10\\x86\\xe5x\\x13\\x12...</td>\n",
       "      <td>b'PK\\x03\\x04\\x14\\x00\\x00\\x00\\x08\\x00\\x00\\x00!\\...</td>\n",
       "    </tr>\n",
       "    <tr>\n",
       "      <th>1</th>\n",
       "      <td>5f020ff03dcbe5ede13f1b7d3165545320c40d89052221...</td>\n",
       "      <td>-6798317064968096872</td>\n",
       "      <td>gridworld_16</td>\n",
       "      <td>b'x\\x9c\\xed\\x9bi\\x93\\xdbD\\x10\\x86\\xe5x\\x13\\x12...</td>\n",
       "      <td>b'PK\\x03\\x04\\x14\\x00\\x00\\x00\\x08\\x00\\x00\\x00!\\...</td>\n",
       "    </tr>\n",
       "    <tr>\n",
       "      <th>2</th>\n",
       "      <td>5f020ff03dcbe5ede13f1b7d3165545320c40d89052221...</td>\n",
       "      <td>-6798317064967014347</td>\n",
       "      <td>gridworld_16</td>\n",
       "      <td>b'x\\x9c\\xed\\x9bk\\x93\\x13E\\x14\\x86\\'dA\\x18.\\xbb...</td>\n",
       "      <td>b'PK\\x03\\x04\\x14\\x00\\x00\\x00\\x08\\x00\\x00\\x00!\\...</td>\n",
       "    </tr>\n",
       "    <tr>\n",
       "      <th>3</th>\n",
       "      <td>5f020ff03dcbe5ede13f1b7d3165545320c40d89052221...</td>\n",
       "      <td>-6798317064965931822</td>\n",
       "      <td>gridworld_16</td>\n",
       "      <td>b'x\\x9c\\xed\\x9bk\\x93\\x13E\\x14\\x86\\'dA\\x18.\\xbb...</td>\n",
       "      <td>b'PK\\x03\\x04\\x14\\x00\\x00\\x00\\x08\\x00\\x00\\x00!\\...</td>\n",
       "    </tr>\n",
       "    <tr>\n",
       "      <th>4</th>\n",
       "      <td>5f020ff03dcbe5ede13f1b7d3165545320c40d89052221...</td>\n",
       "      <td>-6798317064964849297</td>\n",
       "      <td>gridworld_16</td>\n",
       "      <td>b'x\\x9c\\xed\\x9bk\\x93\\x13E\\x14\\x86\\'dA\\x18.\\xbb...</td>\n",
       "      <td>b'PK\\x03\\x04\\x14\\x00\\x00\\x00\\x08\\x00\\x00\\x00!\\...</td>\n",
       "    </tr>\n",
       "    <tr>\n",
       "      <th>...</th>\n",
       "      <td>...</td>\n",
       "      <td>...</td>\n",
       "      <td>...</td>\n",
       "      <td>...</td>\n",
       "      <td>...</td>\n",
       "    </tr>\n",
       "    <tr>\n",
       "      <th>56</th>\n",
       "      <td>5f020ff03dcbe5ede13f1b7d3165545320c40d89052221...</td>\n",
       "      <td>-6798317064905310422</td>\n",
       "      <td>gridworld_16</td>\n",
       "      <td>b'x\\x9c\\xed\\x9bk\\x93\\x13E\\x14\\x86\\'dA\\x18.Y\\\\/...</td>\n",
       "      <td>b'PK\\x03\\x04\\x14\\x00\\x00\\x00\\x08\\x00\\x00\\x00!\\...</td>\n",
       "    </tr>\n",
       "    <tr>\n",
       "      <th>57</th>\n",
       "      <td>5f020ff03dcbe5ede13f1b7d3165545320c40d89052221...</td>\n",
       "      <td>-6798317064904227897</td>\n",
       "      <td>gridworld_16</td>\n",
       "      <td>b'x\\x9c\\xed\\x9bk\\x93\\x13E\\x14\\x86\\'d\\xc1e\\xb8\\...</td>\n",
       "      <td>b'PK\\x03\\x04\\x14\\x00\\x00\\x00\\x08\\x00\\x00\\x00!\\...</td>\n",
       "    </tr>\n",
       "    <tr>\n",
       "      <th>58</th>\n",
       "      <td>5f020ff03dcbe5ede13f1b7d3165545320c40d89052221...</td>\n",
       "      <td>-6798317064903145372</td>\n",
       "      <td>gridworld_16</td>\n",
       "      <td>b'x\\x9c\\xed\\x9bk\\x93\\x13E\\x14\\x86\\'dAv\\xb8\\xec...</td>\n",
       "      <td>b'PK\\x03\\x04\\x14\\x00\\x00\\x00\\x08\\x00\\x00\\x00!\\...</td>\n",
       "    </tr>\n",
       "    <tr>\n",
       "      <th>59</th>\n",
       "      <td>5f020ff03dcbe5ede13f1b7d3165545320c40d89052221...</td>\n",
       "      <td>-6798317064902062847</td>\n",
       "      <td>gridworld_16</td>\n",
       "      <td>b'x\\x9c\\xed\\x9bk\\x93\\xdb4\\x14\\x86\\x9df[Z\\xf7\\x...</td>\n",
       "      <td>b'PK\\x03\\x04\\x14\\x00\\x00\\x00\\x08\\x00\\x00\\x00!\\...</td>\n",
       "    </tr>\n",
       "    <tr>\n",
       "      <th>60</th>\n",
       "      <td>5f020ff03dcbe5ede13f1b7d3165545320c40d89052221...</td>\n",
       "      <td>-6798317064900980322</td>\n",
       "      <td>gridworld_16</td>\n",
       "      <td>b'x\\x9c\\xed\\x9bk\\x93\\x13E\\x14\\x86\\'dA\\x98\\x05v...</td>\n",
       "      <td>b'PK\\x03\\x04\\x14\\x00\\x00\\x00\\x08\\x00\\x00\\x00!\\...</td>\n",
       "    </tr>\n",
       "  </tbody>\n",
       "</table>\n",
       "<p>61 rows × 5 columns</p>\n",
       "</div>"
      ],
      "text/plain": [
       "                                               digest                 hash  \\\n",
       "0   5f020ff03dcbe5ede13f1b7d3165545320c40d89052221... -6798317064969179397   \n",
       "1   5f020ff03dcbe5ede13f1b7d3165545320c40d89052221... -6798317064968096872   \n",
       "2   5f020ff03dcbe5ede13f1b7d3165545320c40d89052221... -6798317064967014347   \n",
       "3   5f020ff03dcbe5ede13f1b7d3165545320c40d89052221... -6798317064965931822   \n",
       "4   5f020ff03dcbe5ede13f1b7d3165545320c40d89052221... -6798317064964849297   \n",
       "..                                                ...                  ...   \n",
       "56  5f020ff03dcbe5ede13f1b7d3165545320c40d89052221... -6798317064905310422   \n",
       "57  5f020ff03dcbe5ede13f1b7d3165545320c40d89052221... -6798317064904227897   \n",
       "58  5f020ff03dcbe5ede13f1b7d3165545320c40d89052221... -6798317064903145372   \n",
       "59  5f020ff03dcbe5ede13f1b7d3165545320c40d89052221... -6798317064902062847   \n",
       "60  5f020ff03dcbe5ede13f1b7d3165545320c40d89052221... -6798317064900980322   \n",
       "\n",
       "          run_id                                              state  \\\n",
       "0   gridworld_16  b'x\\x9c\\xed\\x9bi\\x93\\xdbD\\x10\\x86\\xe5x\\x13\\x12...   \n",
       "1   gridworld_16  b'x\\x9c\\xed\\x9bi\\x93\\xdbD\\x10\\x86\\xe5x\\x13\\x12...   \n",
       "2   gridworld_16  b'x\\x9c\\xed\\x9bk\\x93\\x13E\\x14\\x86\\'dA\\x18.\\xbb...   \n",
       "3   gridworld_16  b'x\\x9c\\xed\\x9bk\\x93\\x13E\\x14\\x86\\'dA\\x18.\\xbb...   \n",
       "4   gridworld_16  b'x\\x9c\\xed\\x9bk\\x93\\x13E\\x14\\x86\\'dA\\x18.\\xbb...   \n",
       "..           ...                                                ...   \n",
       "56  gridworld_16  b'x\\x9c\\xed\\x9bk\\x93\\x13E\\x14\\x86\\'dA\\x18.Y\\\\/...   \n",
       "57  gridworld_16  b'x\\x9c\\xed\\x9bk\\x93\\x13E\\x14\\x86\\'d\\xc1e\\xb8\\...   \n",
       "58  gridworld_16  b'x\\x9c\\xed\\x9bk\\x93\\x13E\\x14\\x86\\'dAv\\xb8\\xec...   \n",
       "59  gridworld_16  b'x\\x9c\\xed\\x9bk\\x93\\xdb4\\x14\\x86\\x9df[Z\\xf7\\x...   \n",
       "60  gridworld_16  b'x\\x9c\\xed\\x9bk\\x93\\x13E\\x14\\x86\\'dA\\x98\\x05v...   \n",
       "\n",
       "                                        policy_inputs  \n",
       "0   b'PK\\x03\\x04\\x14\\x00\\x00\\x00\\x08\\x00\\x00\\x00!\\...  \n",
       "1   b'PK\\x03\\x04\\x14\\x00\\x00\\x00\\x08\\x00\\x00\\x00!\\...  \n",
       "2   b'PK\\x03\\x04\\x14\\x00\\x00\\x00\\x08\\x00\\x00\\x00!\\...  \n",
       "3   b'PK\\x03\\x04\\x14\\x00\\x00\\x00\\x08\\x00\\x00\\x00!\\...  \n",
       "4   b'PK\\x03\\x04\\x14\\x00\\x00\\x00\\x08\\x00\\x00\\x00!\\...  \n",
       "..                                                ...  \n",
       "56  b'PK\\x03\\x04\\x14\\x00\\x00\\x00\\x08\\x00\\x00\\x00!\\...  \n",
       "57  b'PK\\x03\\x04\\x14\\x00\\x00\\x00\\x08\\x00\\x00\\x00!\\...  \n",
       "58  b'PK\\x03\\x04\\x14\\x00\\x00\\x00\\x08\\x00\\x00\\x00!\\...  \n",
       "59  b'PK\\x03\\x04\\x14\\x00\\x00\\x00\\x08\\x00\\x00\\x00!\\...  \n",
       "60  b'PK\\x03\\x04\\x14\\x00\\x00\\x00\\x08\\x00\\x00\\x00!\\...  \n",
       "\n",
       "[61 rows x 5 columns]"
      ]
     },
     "execution_count": 17,
     "metadata": {},
     "output_type": "execute_result"
    }
   ],
   "source": [
    "df2 = pd.read_sql(session.query(StateStore).filter_by(run_id=run_id, digest=game[0][0]).statement, session.bind)\n",
    "df2"
   ]
  },
  {
   "cell_type": "code",
   "execution_count": null,
   "metadata": {},
   "outputs": [],
   "source": []
  },
  {
   "cell_type": "code",
   "execution_count": 6,
   "metadata": {},
   "outputs": [],
   "source": [
    "# engine =  create_engine('sqlite:///hallway_data.db',\n",
    "#                          connect_args={'check_same_thread': False},\n",
    "#                          execution_options = {\"isolation_level\": \"AUTOCOMMIT\"})\n",
    "\n",
    "# dbname = \"bde\"\n",
    "# port = \"5432\"\n",
    "# host = \"yuma.hpc.nrel.gov\"\n",
    "# user = \"rlops\"\n",
    "# passwd_file = '/projects/rlmolecule/rlops_pass'\n",
    "# with open(passwd_file, 'r') as f:\n",
    "#     passwd = f.read().strip()\n",
    "# drivername = \"postgresql+psycopg2\"\n",
    "# engine_str = f'{drivername}://{user}:{passwd}@{host}:{port}/{dbname}'\n",
    "        \n",
    "# engine = create_engine(engine_str, execution_options={\"isolation_level\": \"AUTOCOMMIT\"})"
   ]
  },
  {
   "cell_type": "code",
   "execution_count": null,
   "metadata": {},
   "outputs": [],
   "source": []
  },
  {
   "cell_type": "code",
   "execution_count": 16,
   "metadata": {},
   "outputs": [
    {
     "data": {
      "text/plain": [
       "5.405813266666667"
      ]
     },
     "execution_count": 16,
     "metadata": {},
     "output_type": "execute_result"
    }
   ],
   "source": [
    "float(df[\"time\"].values[-1] - df[\"time\"].values[0])/1e9/60"
   ]
  },
  {
   "cell_type": "markdown",
   "metadata": {},
   "source": [
    "# 5x5 gridworld "
   ]
  },
  {
   "cell_type": "code",
   "execution_count": 38,
   "metadata": {},
   "outputs": [],
   "source": [
    "engine = create_engine(f'sqlite:///gridworld_data.db',\n",
    "                       connect_args={'check_same_thread': False},\n",
    "                       execution_options = {\"isolation_level\": \"AUTOCOMMIT\"})"
   ]
  },
  {
   "cell_type": "code",
   "execution_count": 47,
   "metadata": {},
   "outputs": [],
   "source": [
    "_ = plot_reward(engine, -2)"
   ]
  },
  {
   "cell_type": "code",
   "execution_count": null,
   "metadata": {},
   "outputs": [],
   "source": []
  },
  {
   "cell_type": "markdown",
   "metadata": {},
   "source": [
    "# Scratch"
   ]
  },
  {
   "cell_type": "code",
   "execution_count": 3,
   "metadata": {},
   "outputs": [
    {
     "ename": "ImportError",
     "evalue": "cannot import name 'GridWorldProblem' from 'gridworld_env' (/lustre/eaglefs/projects/rlmolecule/dbiagion/rlmolecule/examples/gym/gridworld_env.py)",
     "output_type": "error",
     "traceback": [
      "\u001b[0;31m---------------------------------------------------------------------------\u001b[0m",
      "\u001b[0;31mImportError\u001b[0m                               Traceback (most recent call last)",
      "\u001b[0;32m<ipython-input-3-20db57d97123>\u001b[0m in \u001b[0;36m<module>\u001b[0;34m\u001b[0m\n\u001b[1;32m      3\u001b[0m \u001b[0;32mfrom\u001b[0m \u001b[0mgridworld_env\u001b[0m \u001b[0;32mimport\u001b[0m \u001b[0mGridWorldEnv\u001b[0m \u001b[0;32mas\u001b[0m \u001b[0mGridEnv\u001b[0m\u001b[0;34m\u001b[0m\u001b[0;34m\u001b[0m\u001b[0m\n\u001b[1;32m      4\u001b[0m \u001b[0;32mfrom\u001b[0m \u001b[0mgridworld_env\u001b[0m \u001b[0;32mimport\u001b[0m \u001b[0mmake_empty_grid\u001b[0m\u001b[0;34m\u001b[0m\u001b[0;34m\u001b[0m\u001b[0m\n\u001b[0;32m----> 5\u001b[0;31m \u001b[0;32mfrom\u001b[0m \u001b[0mgridworld_env\u001b[0m \u001b[0;32mimport\u001b[0m \u001b[0mGridWorldProblem\u001b[0m\u001b[0;34m\u001b[0m\u001b[0;34m\u001b[0m\u001b[0m\n\u001b[0m",
      "\u001b[0;31mImportError\u001b[0m: cannot import name 'GridWorldProblem' from 'gridworld_env' (/lustre/eaglefs/projects/rlmolecule/dbiagion/rlmolecule/examples/gym/gridworld_env.py)"
     ]
    }
   ],
   "source": [
    "from rlmolecule.tree_search.reward import LinearBoundedRewardFactory\n",
    "from rlmolecule.gym.gym_state import GymEnvState\n",
    "from gridworld_env import GridWorldEnv as GridEnv\n",
    "from gridworld_env import make_empty_grid\n",
    "from solve_gridworld import con\n"
   ]
  },
  {
   "cell_type": "code",
   "execution_count": 8,
   "metadata": {},
   "outputs": [],
   "source": [
    "grid = make_empty_grid(16)\n",
    "env = GridEnv(grid, use_scalar_obs=True)\n",
    "_ = env.reset()"
   ]
  },
  {
   "cell_type": "code",
   "execution_count": 9,
   "metadata": {},
   "outputs": [
    {
     "data": {
      "text/plain": [
       "5395833287013825878"
      ]
     },
     "execution_count": 9,
     "metadata": {},
     "output_type": "execute_result"
    }
   ],
   "source": [
    "e = GymEnvState(env, 0, 0, 0, False)\n",
    "e.hash()"
   ]
  },
  {
   "cell_type": "code",
   "execution_count": 13,
   "metadata": {},
   "outputs": [
    {
     "data": {
      "text/plain": [
       "[(array([0]), 1), (array([1]), 1), (array([16]), 1)]"
      ]
     },
     "execution_count": 13,
     "metadata": {},
     "output_type": "execute_result"
    }
   ],
   "source": [
    "n = e.get_next_actions()\n",
    "list(set(n))"
   ]
  },
  {
   "cell_type": "code",
   "execution_count": 15,
   "metadata": {},
   "outputs": [
    {
     "ename": "NameError",
     "evalue": "name 'GridWorldProblem' is not defined",
     "output_type": "error",
     "traceback": [
      "\u001b[0;31m---------------------------------------------------------------------------\u001b[0m",
      "\u001b[0;31mNameError\u001b[0m                                 Traceback (most recent call last)",
      "\u001b[0;32m<ipython-input-15-1af7c3550cbc>\u001b[0m in \u001b[0;36m<module>\u001b[0;34m\u001b[0m\n\u001b[0;32m----> 1\u001b[0;31m problem = GridWorldProblem(\n\u001b[0m\u001b[1;32m      2\u001b[0m     \u001b[0menv\u001b[0m\u001b[0;34m=\u001b[0m\u001b[0menv\u001b[0m\u001b[0;34m,\u001b[0m\u001b[0;34m\u001b[0m\u001b[0;34m\u001b[0m\u001b[0m\n\u001b[1;32m      3\u001b[0m     \u001b[0mengine\u001b[0m\u001b[0;34m=\u001b[0m\u001b[0mengine\u001b[0m\u001b[0;34m,\u001b[0m\u001b[0;34m\u001b[0m\u001b[0;34m\u001b[0m\u001b[0m\n\u001b[1;32m      4\u001b[0m )\n",
      "\u001b[0;31mNameError\u001b[0m: name 'GridWorldProblem' is not defined"
     ]
    }
   ],
   "source": [
    "problem = GridWorldProblem(\n",
    "    env=env,\n",
    "    engine=engine,\n",
    ")"
   ]
  },
  {
   "cell_type": "code",
   "execution_count": null,
   "metadata": {},
   "outputs": [],
   "source": []
  },
  {
   "cell_type": "code",
   "execution_count": null,
   "metadata": {},
   "outputs": [],
   "source": []
  },
  {
   "cell_type": "code",
   "execution_count": null,
   "metadata": {},
   "outputs": [],
   "source": []
  }
 ],
 "metadata": {
  "kernelspec": {
   "display_name": "Python 3",
   "language": "python",
   "name": "python3"
  },
  "language_info": {
   "codemirror_mode": {
    "name": "ipython",
    "version": 3
   },
   "file_extension": ".py",
   "mimetype": "text/x-python",
   "name": "python",
   "nbconvert_exporter": "python",
   "pygments_lexer": "ipython3",
   "version": "3.7.9"
  }
 },
 "nbformat": 4,
 "nbformat_minor": 4
}
