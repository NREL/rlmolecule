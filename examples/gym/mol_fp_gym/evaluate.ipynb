{
 "cells": [
  {
   "cell_type": "code",
   "execution_count": 1,
   "id": "fa7582f0",
   "metadata": {},
   "outputs": [],
   "source": [
    "import argparse\n",
    "import glob\n",
    "import os\n",
    "import pickle\n",
    "import time\n",
    "\n",
    "import numpy as np\n",
    "import pandas as pd\n",
    "from tqdm import tqdm\n",
    "\n",
    "import ray\n",
    "from ray.tune.registry import register_env\n",
    "from ray.tune import Analysis\n",
    "import ray.rllib.agents.ppo as ppo\n",
    "from ray.rllib.models import ModelCatalog"
   ]
  },
  {
   "cell_type": "code",
   "execution_count": 3,
   "id": "507bfa44",
   "metadata": {},
   "outputs": [],
   "source": [
    "PCA_EMBED_SIZE = 1000\n",
    "\n",
    "def env_creator(_):\n",
    "    import tensorflow as tf\n",
    "\n",
    "    gpus = tf.config.list_physical_devices('GPU')\n",
    "    if gpus:\n",
    "        for gpu in gpus:\n",
    "            tf.config.experimental.set_memory_growth(gpu, True)\n",
    "\n",
    "    from examples.gym.mol_fp_gym.molecule_graph_problem import MoleculeGraphProblem\n",
    "    from rlmolecule.graph_gym.graph_gym_env import GraphGymEnv\n",
    "    from rlmolecule.molecule.builder.builder import MoleculeBuilder\n",
    "\n",
    "    # Load the PCA model for embedding\n",
    "    import pickle\n",
    "    with open(os.path.join(\"pca-{}.p\".format(PCA_EMBED_SIZE)), \"rb\") as f:\n",
    "        pca = pickle.load(f)\n",
    "\n",
    "    result = GraphGymEnv(\n",
    "        MoleculeGraphProblem(\n",
    "            MoleculeBuilder(max_atoms=6, min_atoms=1),\n",
    "            pca\n",
    "        )\n",
    "    )\n",
    "    return result\n",
    "\n",
    "from rlmolecule.graph_gym.graph_gym_model import GraphGymModel\n",
    "\n",
    "class ThisModel(GraphGymModel):\n",
    "    def __init__(self,\n",
    "                    obs_space,\n",
    "                    action_space,\n",
    "                    num_outputs,\n",
    "                    model_config,\n",
    "                    name,\n",
    "                    **kwargs):\n",
    "        \n",
    "        import tensorflow as tf\n",
    "        gpus = tf.config.list_physical_devices('GPU')\n",
    "        if gpus:\n",
    "            for gpu in gpus:\n",
    "                tf.config.experimental.set_memory_growth(gpu, True)\n",
    "\n",
    "        from examples.gym.mol_fp_gym.policy import policy_model\n",
    "\n",
    "        super(ThisModel, self).__init__(\n",
    "            obs_space, action_space, num_outputs, model_config, name,\n",
    "            policy_model,\n",
    "            **kwargs)"
   ]
  },
  {
   "cell_type": "code",
   "execution_count": 4,
   "id": "b3dae49c",
   "metadata": {},
   "outputs": [
    {
     "name": "stderr",
     "output_type": "stream",
     "text": [
      "/home/dbiagion/conda-envs/rlmol/lib/python3.7/site-packages/ray/_private/services.py:238: UserWarning: Not all Ray Dashboard dependencies were found. To use the dashboard please install Ray using `pip install ray[default]`. To disable this message, set RAY_DISABLE_IMPORT_WARNING env var to '1'.\n",
      "  warnings.warn(warning_message)\n"
     ]
    }
   ],
   "source": [
    "ray.init(_node_ip_address=\"127.0.0.1\", num_cpus=1)\n",
    "\n",
    "# values that get used more than once\n",
    "restore_dir = '../log/PPO/PPO_mol_fp_pca=1000_c1d28_00000_0_lr=0.0001,num_sgd_iter=10_2021-09-30_14-26-56/'\n",
    "chkpt = '000357'\n",
    "\n",
    "a = Analysis(restore_dir)\n",
    "config = a.get_best_config(\"episode_reward_mean\", mode=\"max\")\n",
    "config[\"num_workers\"] = 1\n",
    "config[\"num_gpus\"] = 0\n",
    "\n",
    "env_name = 'mol_fp_pca={}'.format(PCA_EMBED_SIZE)\n",
    "_ = register_env(env_name, env_creator)\n",
    "\n",
    "ModelCatalog.register_custom_model('molecule_graph_problem_model', ThisModel)"
   ]
  },
  {
   "cell_type": "code",
   "execution_count": null,
   "id": "6fa1c31c",
   "metadata": {},
   "outputs": [
    {
     "name": "stderr",
     "output_type": "stream",
     "text": [
      "2021-10-01 16:36:38,830\tWARNING worker.py:1215 -- The actor or task with ID fffffffffffffffffb7796aa3c23c44e234d515f01000000 cannot be scheduled right now. You can ignore this message if this Ray cluster is expected to auto-scale or if you specified a runtime_env for this actor or task, which may take time to install.  Otherwise, this is likely due to all cluster resources being claimed by actors. To resolve the issue, consider creating fewer actors or increasing the resources available to this Ray cluster.\n",
      "Required resources for this actor or task: {CPU: 1.000000}\n",
      "Available resources on this node: {0.000000/1.000000 CPU, 383.523247 GiB/383.523247 GiB memory, 1.000000/1.000000 GPU, 168.358488 GiB/168.358488 GiB object_store_memory, 1.000000/1.000000 node:10.60.1.122, 1.000000/1.000000 accelerator_type:GV100}\n",
      "In total there are 0 pending tasks and 1 pending actors on this node.\n"
     ]
    }
   ],
   "source": [
    "for reload_try in range(1):\n",
    "    trainer = ppo.PPOTrainer(env=env_name, config=config)\n",
    "    checkpoint = os.path.join(\n",
    "        restore_dir, \n",
    "        \"checkpoint_{}/checkpoint-{}\".format(\n",
    "            chkpt, int(chkpt)))\n",
    "    trainer.restore(checkpoint)\n",
    "    policy = trainer.get_policy()"
   ]
  },
  {
   "cell_type": "code",
   "execution_count": null,
   "id": "9d01abd3",
   "metadata": {},
   "outputs": [],
   "source": [
    "trainer.get_weights()"
   ]
  },
  {
   "cell_type": "code",
   "execution_count": null,
   "id": "76726e64",
   "metadata": {},
   "outputs": [],
   "source": []
  }
 ],
 "metadata": {
  "kernelspec": {
   "display_name": "Python 3 (ipykernel)",
   "language": "python",
   "name": "python3"
  },
  "language_info": {
   "codemirror_mode": {
    "name": "ipython",
    "version": 3
   },
   "file_extension": ".py",
   "mimetype": "text/x-python",
   "name": "python",
   "nbconvert_exporter": "python",
   "pygments_lexer": "ipython3",
   "version": "3.7.11"
  }
 },
 "nbformat": 4,
 "nbformat_minor": 5
}
