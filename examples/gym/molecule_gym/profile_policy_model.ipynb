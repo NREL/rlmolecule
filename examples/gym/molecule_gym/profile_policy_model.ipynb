{
 "cells": [
  {
   "cell_type": "code",
   "execution_count": 1,
   "id": "0109686c-af70-40a2-b104-dfef4fe92e2d",
   "metadata": {},
   "outputs": [],
   "source": [
    "import os\n",
    "os.environ[\"CUDA_VISIBLE_DEVICES\"] = \"-1\"\n",
    "\n",
    "import tensorflow as tf\n",
    "gpus = tf.config.list_physical_devices('GPU')\n",
    "if gpus:\n",
    "    for gpu in gpus:\n",
    "        tf.config.experimental.set_memory_growth(gpu, True)"
   ]
  },
  {
   "cell_type": "code",
   "execution_count": 2,
   "id": "77a0784e-f6a0-4b22-9ba5-7fa24ef40674",
   "metadata": {},
   "outputs": [],
   "source": [
    "import numpy as np\n",
    "import pandas as pd\n",
    "\n",
    "import matplotlib.pyplot as plt\n",
    "import seaborn as sns\n",
    "sns.set(context='talk', style='ticks',\n",
    "        color_codes=True, rc={'legend.frameon': False})\n",
    "\n",
    "%matplotlib inline"
   ]
  },
  {
   "cell_type": "code",
   "execution_count": 3,
   "id": "f02364b7-1f33-4870-b4e0-bc0a6595d5f4",
   "metadata": {},
   "outputs": [
    {
     "name": "stderr",
     "output_type": "stream",
     "text": [
      "INFO:rdkit:Enabling RDKit 2021.03.3 jupyter extensions\n"
     ]
    },
    {
     "name": "stdout",
     "output_type": "stream",
     "text": [
      "WARNING:tensorflow:From /home/pstjohn/mambaforge/envs/rlmol/lib/python3.8/site-packages/tensorflow/python/ops/array_ops.py:5043: calling gather (from tensorflow.python.ops.array_ops) with validate_indices is deprecated and will be removed in a future version.\n",
      "Instructions for updating:\n",
      "The `validate_indices` argument has no effect. Indices are always validated on CPU and never validated on GPU.\n"
     ]
    },
    {
     "name": "stderr",
     "output_type": "stream",
     "text": [
      "WARNING:tensorflow:From /home/pstjohn/mambaforge/envs/rlmol/lib/python3.8/site-packages/tensorflow/python/ops/array_ops.py:5043: calling gather (from tensorflow.python.ops.array_ops) with validate_indices is deprecated and will be removed in a future version.\n",
      "Instructions for updating:\n",
      "The `validate_indices` argument has no effect. Indices are always validated on CPU and never validated on GPU.\n"
     ]
    }
   ],
   "source": [
    "from rlmolecule.molecule.policy.model import policy_model\n",
    "from rlmolecule.molecule.policy.preprocessor import load_preprocessor\n",
    "\n",
    "prepreprocessor = load_preprocessor()\n",
    "model = policy_model()\n",
    "\n",
    "from rlmolecule.molecule.builder.builder import MoleculeBuilder\n",
    "from rlmolecule.molecule.molecule_state import MoleculeState\n",
    "\n",
    "import rdkit"
   ]
  },
  {
   "cell_type": "code",
   "execution_count": 4,
   "id": "51989060-af30-44bc-8341-a095b57a1de8",
   "metadata": {},
   "outputs": [],
   "source": [
    "import itertools\n",
    "import random\n",
    "\n",
    "builder = MoleculeBuilder()\n",
    "start = MoleculeState(rdkit.Chem.MolFromSmiles('C'), builder)\n",
    "\n",
    "def iter_states(start):\n",
    "    next_states = start.get_next_actions()\n",
    "    random.shuffle(next_states)\n",
    "    \n",
    "    for next_state in next_states:\n",
    "        if next_state.forced_terminal:\n",
    "            yield next_state\n",
    "        else:\n",
    "            yield from iter_states(next_state)"
   ]
  },
  {
   "cell_type": "code",
   "execution_count": 5,
   "id": "11d4da44-1365-44f2-993e-33a934c60115",
   "metadata": {},
   "outputs": [],
   "source": [
    "random.seed(1)\n",
    "mols = list(itertools.islice(iter_states(start), 2050))\n",
    "random.shuffle(mols)"
   ]
  },
  {
   "cell_type": "code",
   "execution_count": 6,
   "id": "6901bbda-e3e1-4440-8cd2-cafd6e9aaa05",
   "metadata": {},
   "outputs": [],
   "source": [
    "from timeit import timeit"
   ]
  },
  {
   "cell_type": "code",
   "execution_count": 7,
   "id": "d78bfa53-8392-4a9c-a549-26ae77959131",
   "metadata": {},
   "outputs": [],
   "source": [
    "def calc_batch_time(model, batch_size):\n",
    "    \n",
    "    batch_of_mols = mols[:batch_size]\n",
    "    \n",
    "    list_of_inputs = [prepreprocessor.construct_feature_matrices(\n",
    "        mol.molecule, max_num_atoms=10, max_num_bonds=60) for mol in batch_of_mols]\n",
    "    \n",
    "    batched_inputs = {key: np.stack([elem[key] for elem in list_of_inputs])\n",
    "                      for key in ['atom', 'bond', 'connectivity']}\n",
    "    \n",
    "    return timeit('model(batched_inputs)', globals=locals(), number=10) / 10"
   ]
  },
  {
   "cell_type": "code",
   "execution_count": 8,
   "id": "a8f04a7a-b2f1-49ea-84a3-821ebcb00cfb",
   "metadata": {},
   "outputs": [
    {
     "data": {
      "text/plain": [
       "0.05785873178392649"
      ]
     },
     "execution_count": 8,
     "metadata": {},
     "output_type": "execute_result"
    }
   ],
   "source": [
    "calc_batch_time(model, 32)  # initialize"
   ]
  },
  {
   "cell_type": "code",
   "execution_count": 9,
   "id": "e8a0dfb5-3715-4407-be6d-e2d28bfd8c63",
   "metadata": {},
   "outputs": [],
   "source": [
    "sizes = np.logspace(0, 12, base=2, dtype=int, num=12, endpoint=False)"
   ]
  },
  {
   "cell_type": "code",
   "execution_count": 11,
   "id": "0186c0a5-4cb2-47c1-8875-93247e3fcf17",
   "metadata": {},
   "outputs": [],
   "source": [
    "times = [calc_batch_time(model, size) for size in sizes]"
   ]
  },
  {
   "cell_type": "code",
   "execution_count": 13,
   "id": "a3592c16-3274-42bd-8001-b7f2f9e4bbd3",
   "metadata": {},
   "outputs": [],
   "source": [
    "# pd.Series(times, index=sizes).to_csv('gpu.csv')"
   ]
  },
  {
   "cell_type": "code",
   "execution_count": 35,
   "id": "0c1f9fc5-36c2-4466-9f6a-73a89e111125",
   "metadata": {},
   "outputs": [
    {
     "data": {
      "text/plain": [
       "Text(0, 0.5, 'Time per sample (s)')"
      ]
     },
     "execution_count": 35,
     "metadata": {},
     "output_type": "execute_result"
    },
    {
     "data": {
      "image/png": "[encoded data removed]",
      "text/plain": [
       "<Figure size 432x288 with 1 Axes>"
      ]
     },
     "metadata": {
      "needs_background": "light"
     },
     "output_type": "display_data"
    }
   ],
   "source": [
    "gpu = pd.read_csv('gpu.csv', index_col=0)\n",
    "plt.loglog(sizes, times / sizes, '-', label='cpu')\n",
    "plt.loglog(gpu.divide(gpu.index, axis=0), label='gpu')\n",
    "plt.xlabel('Batch size')\n",
    "plt.legend()\n",
    "plt.ylabel('Time per sample (s)')"
   ]
  },
  {
   "cell_type": "code",
   "execution_count": 40,
   "id": "4d826c36-9c8e-4c71-a2d9-85069fc6c9bd",
   "metadata": {},
   "outputs": [
    {
     "data": {
      "text/plain": [
       "Text(0, 0.5, 'Time per batch (s)')"
      ]
     },
     "execution_count": 40,
     "metadata": {},
     "output_type": "execute_result"
    },
    {
     "data": {
      "image/png": "[encoded data removed]",
      "text/plain": [
       "<Figure size 432x288 with 1 Axes>"
      ]
     },
     "metadata": {
      "needs_background": "light"
     },
     "output_type": "display_data"
    }
   ],
   "source": [
    "plt.loglog(sizes, times, '-', label='cpu')\n",
    "plt.loglog(gpu, label='gpu')\n",
    "plt.xlabel('Batch size')\n",
    "plt.legend()\n",
    "plt.ylabel('Time per batch (s)')"
   ]
  },
  {
   "cell_type": "code",
   "execution_count": 44,
   "id": "9c0038fd-4819-4819-8668-d690d0be5cfb",
   "metadata": {},
   "outputs": [
    {
     "data": {
      "text/plain": [
       "0.03699773559346795"
      ]
     },
     "execution_count": 44,
     "metadata": {},
     "output_type": "execute_result"
    }
   ],
   "source": [
    "times[0]"
   ]
  }
 ],
 "metadata": {
  "kernelspec": {
   "display_name": "Python 3",
   "language": "python",
   "name": "python3"
  },
  "language_info": {
   "codemirror_mode": {
    "name": "ipython",
    "version": 3
   },
   "file_extension": ".py",
   "mimetype": "text/x-python",
   "name": "python",
   "nbconvert_exporter": "python",
   "pygments_lexer": "ipython3",
   "version": "3.8.10"
  }
 },
 "nbformat": 4,
 "nbformat_minor": 5
}
