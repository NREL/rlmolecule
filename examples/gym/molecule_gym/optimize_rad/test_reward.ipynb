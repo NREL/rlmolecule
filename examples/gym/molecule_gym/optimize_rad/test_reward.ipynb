{
 "cells": [
  {
   "cell_type": "code",
   "execution_count": 1,
   "id": "29273be0-7c48-4560-8b68-b2af820d76b3",
   "metadata": {},
   "outputs": [
    {
     "name": "stdout",
     "output_type": "stream",
     "text": [
      "WARNING:tensorflow:No training configuration found in save file, so the model was *not* compiled. Compile it manually.\n"
     ]
    }
   ],
   "source": [
    "from rad_reward import RadGraphProblem\n",
    "from rlmolecule.molecule.builder.builder import MoleculeBuilder"
   ]
  },
  {
   "cell_type": "code",
   "execution_count": 2,
   "id": "decedde6-01ab-4466-a447-714b7f45a926",
   "metadata": {},
   "outputs": [
    {
     "name": "stdout",
     "output_type": "stream",
     "text": [
      "WARNING:tensorflow:SavedModel saved prior to TF 2.5 detected when loading Keras model. Please ensure that you are saving the model with model.save() or tf.keras.models.save_model(), *NOT* tf.saved_model.save(). To confirm, there should be a file named \"keras_metadata.pb\" in the SavedModel directory.\n"
     ]
    },
    {
     "name": "stderr",
     "output_type": "stream",
     "text": [
      "WARNING:tensorflow:SavedModel saved prior to TF 2.5 detected when loading Keras model. Please ensure that you are saving the model with model.save() or tf.keras.models.save_model(), *NOT* tf.saved_model.save(). To confirm, there should be a file named \"keras_metadata.pb\" in the SavedModel directory.\n"
     ]
    }
   ],
   "source": [
    "builder = MoleculeBuilder()\n",
    "\n",
    "prob = RadGraphProblem(\n",
    "    builder,\n",
    "    max_num_bonds=50,\n",
    "    max_num_actions=10)"
   ]
  },
  {
   "cell_type": "code",
   "execution_count": 3,
   "id": "cd21b53f-24b5-49b4-928d-fdf2f997dab9",
   "metadata": {},
   "outputs": [],
   "source": [
    "from rlmolecule.molecule.molecule_state import MoleculeState\n",
    "from rdkit.Chem import MolFromSmiles"
   ]
  },
  {
   "cell_type": "code",
   "execution_count": 4,
   "id": "c62b056a-55fa-43e9-914b-8c4c7c2875d1",
   "metadata": {},
   "outputs": [],
   "source": [
    "state = MoleculeState(MolFromSmiles('[O]C1=CC=C(C(C)(C)C)S1'), builder)"
   ]
  },
  {
   "cell_type": "code",
   "execution_count": 5,
   "id": "065f391f-28ef-4fb9-b120-afbd49768ceb",
   "metadata": {},
   "outputs": [
    {
     "data": {
      "text/plain": [
       "194.1116282429014"
      ]
     },
     "execution_count": 5,
     "metadata": {},
     "output_type": "execute_result"
    }
   ],
   "source": [
    "prob.reward(state)"
   ]
  },
  {
   "cell_type": "code",
   "execution_count": 6,
   "id": "b6ba108b-065b-4a6b-be45-7091f68a99d0",
   "metadata": {},
   "outputs": [
    {
     "data": {
      "text/plain": [
       "10"
      ]
     },
     "execution_count": 6,
     "metadata": {},
     "output_type": "execute_result"
    }
   ],
   "source": [
    "MolFromSmiles('[O]C1=CC=C(C(C)(C)C)S1').GetNumBonds()"
   ]
  }
 ],
 "metadata": {
  "kernelspec": {
   "display_name": "Python 3.8 (rlmol)",
   "language": "python",
   "name": "rlmol"
  },
  "language_info": {
   "codemirror_mode": {
    "name": "ipython",
    "version": 3
   },
   "file_extension": ".py",
   "mimetype": "text/x-python",
   "name": "python",
   "nbconvert_exporter": "python",
   "pygments_lexer": "ipython3",
   "version": "3.8.10"
  }
 },
 "nbformat": 4,
 "nbformat_minor": 5
}
