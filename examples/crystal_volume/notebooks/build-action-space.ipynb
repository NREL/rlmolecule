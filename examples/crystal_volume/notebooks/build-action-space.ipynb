{
 "cells": [
  {
   "cell_type": "code",
   "execution_count": 1,
   "id": "99203d96-9005-4e1f-984a-feb570f32f44",
   "metadata": {},
   "outputs": [],
   "source": [
    "# modules for structure decoration\n",
    "import pandas as pd\n",
    "import os\n",
    "import itertools\n",
    "from tqdm.notebook import tqdm\n",
    "import networkx as nx\n",
    "import glob\n",
    "from glob import iglob\n",
    "from copy import deepcopy\n",
    "from collections import defaultdict\n",
    "\n",
    "from pymatgen.core import Composition, Structure\n",
    "from pymatgen.analysis import local_env"
   ]
  },
  {
   "cell_type": "code",
   "execution_count": 2,
   "id": "9ba594ef-e0fd-4f49-9e7e-e731c3d69628",
   "metadata": {},
   "outputs": [
    {
     "name": "stderr",
     "output_type": "stream",
     "text": [
      "WARNING: pip is being invoked by an old script wrapper. This will fail in a future version of pip.\n",
      "Please see https://github.com/pypa/pip/issues/5599 for advice on fixing the underlying issue.\n",
      "To avoid this problem you can invoke Python with '-m pip' instead of running pip directly.\n"
     ]
    },
    {
     "name": "stdout",
     "output_type": "stream",
     "text": [
      "Name: pymatgen\n",
      "Version: 2022.0.8\n",
      "Summary: Python Materials Genomics is a robust materials analysis code that defines core object representations for structures and molecules with support for many electronic structure codes. It is currently the core analysis code powering the Materials Project (https://www.materialsproject.org).\n",
      "Home-page: http://www.pymatgen.org\n",
      "Author: Pymatgen Development Team\n",
      "Author-email: ongsp@eng.ucsd.edu\n",
      "License: MIT\n",
      "Location: /home/jlaw/.conda/envs/crystals/lib/python3.8/site-packages\n",
      "Requires: ruamel.yaml, pandas, uncertainties, networkx, monty, sympy, scipy, matplotlib, palettable, tabulate, plotly, numpy, spglib, requests\n",
      "Required-by: pyxtal\n"
     ]
    },
    {
     "data": {
      "text/plain": [
       "0"
      ]
     },
     "execution_count": 2,
     "metadata": {},
     "output_type": "execute_result"
    }
   ],
   "source": [
    "# print(f\"pymatgen version: {pymatgen.__version__}\")\n",
    "import pip\n",
    "pip.main([\"show\",\"pymatgen\"])"
   ]
  },
  {
   "cell_type": "code",
   "execution_count": 3,
   "id": "273dfcfd-c388-4ebb-8f36-cdf495552774",
   "metadata": {},
   "outputs": [
    {
     "data": {
      "text/plain": [
       "'/home/jlaw/projects/arpa-e/crystals/rlmolecule/examples/crystal_volume'"
      ]
     },
     "execution_count": 3,
     "metadata": {},
     "output_type": "execute_result"
    }
   ],
   "source": [
    "os.chdir('..')\n",
    "os.getcwd()"
   ]
  },
  {
   "cell_type": "markdown",
   "id": "06540d84-b32b-4626-84a7-18a96513cac5",
   "metadata": {},
   "source": [
    "## Find the crystal structure with the maximum volume around the conducting ions\n",
    "\n",
    "Action space:\n",
    "1. Choose the elements desired for the battery material i.e., conducting ion, framework cation(s), and anion(s)\n",
    "2. For a given combination of elements, randomly select a composition from one of the valence-balanced compounds available as a lookup table (see 3.1).\n",
    "3. For the selected composition type, a number of prototype structures are available, which will be classified by their crystal system (cubic, hexagonal, ...). Choose a crystal system randomly.\n",
    "4. For a chosen crystal system, consider all the prototypes and construct hypothetical decorated structures.\n",
    "5. Compute the volume around the conducting ions"
   ]
  },
  {
   "cell_type": "markdown",
   "id": "d5541007-01a8-4a4c-bc16-1febce333a1f",
   "metadata": {},
   "source": [
    "### Compositions\n",
    "Elements commonly found in battery materials:\n",
    "- Conducting ion (C): Li+, Na+, K+, Mg2+, Zn2+\n",
    "- Anion (A): F-, Cl-, Br-, I-, O2-, S2-, N3-, P3-\n",
    "- Framework cation (F): Sc3+, Y3+, La3+, Ti4+, Zr4+, Hf4+, W6+, Zn2+, Cd2+, Hg2+, B3+, Al3+, Si4+, Ge4+, Sn4+, P5+, Sb5+\n",
    "\n",
    "Hypothetical compositions using combinations of C, F, and A are of the following forms:\n",
    "1. Cx Az\n",
    "2. Cx A1z1 A2z2\n",
    "3. Cx Fy Az\n",
    "4. Cx Fy A1z1 A2z2\n",
    "5. Cx F1y1 F2y2 Az\n",
    "6. Cx F1y1 F2y2 A1z1 A2z2 \n",
    "\n",
    "The following constraints are employed in generating the compositions:\n",
    "1. A composition may contain only one C ion, up to two (0-2) F ions and at least one and up to two (1-2) A ions.\n",
    "2. The sum of stoichiometric coefficients of the ions is less than or equal to ten, i.e., x + y1 + y2 + z1 + z2 ≤ 10 .\n",
    "3. The generated compositions are valence-balanced, i.e., stoichiometric sum of oxidation states of ions equals to 0."
   ]
  },
  {
   "cell_type": "markdown",
   "id": "0f637384-7bd6-47e4-8b40-7941c475aeab",
   "metadata": {},
   "source": [
    "### Build Action space graph\n",
    "We are going to build a networkx graph of all the possible actions, split into two parts. Actions 1-2, and actions 3-5."
   ]
  },
  {
   "cell_type": "code",
   "execution_count": 4,
   "id": "9ebe5b00-ebeb-4509-a153-1fdfee4baec3",
   "metadata": {},
   "outputs": [
    {
     "name": "stdout",
     "output_type": "stream",
     "text": [
      "['Sb', 'Cl', 'Zn', 'Na', 'Mg', 'Li', 'Br', 'Al', 'Ge', 'La', 'Cd', 'Zr', 'Si', 'Hg', 'Sc', 'Sn', 'Ti', 'Hf', 'N', 'O', 'B', 'S', 'F', 'Y', 'I', 'K', 'W', 'P']\n"
     ]
    }
   ],
   "source": [
    "# want to maximize the volume around only the conducting ions\n",
    "conducting_ions = set(['Li', 'Na', 'K', 'Mg', 'Zn'])\n",
    "anions = set(['F', 'Cl', 'Br', 'I', 'O', 'S', 'N', 'P'])\n",
    "framework_cations = set(['Sc', 'Y', 'La', 'Ti', 'Zr', 'Hf', 'W', 'Zn', 'Cd', 'Hg', 'B', 'Al', 'Si', 'Ge', 'Sn', 'P', 'Sb'])\n",
    "elements = conducting_ions | anions | framework_cations\n",
    "# sort by the length of the string, so that multiple letter elements come first\n",
    "elements = sorted(elements, key=len, reverse=True)\n",
    "print(elements)"
   ]
  },
  {
   "cell_type": "code",
   "execution_count": 5,
   "id": "e2ec1e74-38f3-45c3-9e90-089235ff68cf",
   "metadata": {},
   "outputs": [
    {
     "data": {
      "text/plain": [
       "{'P'}"
      ]
     },
     "execution_count": 5,
     "metadata": {},
     "output_type": "execute_result"
    }
   ],
   "source": [
    "anions & framework_cations"
   ]
  },
  {
   "cell_type": "code",
   "execution_count": 6,
   "id": "a10a6232-b227-4b0a-84d2-1b5e4b1ba0dc",
   "metadata": {},
   "outputs": [
    {
     "data": {
      "text/plain": [
       "{'Zn'}"
      ]
     },
     "execution_count": 6,
     "metadata": {},
     "output_type": "execute_result"
    }
   ],
   "source": [
    "conducting_ions & framework_cations"
   ]
  },
  {
   "cell_type": "code",
   "execution_count": 7,
   "id": "d9f33ade-a986-4a64-a9e3-7c70aeccd08d",
   "metadata": {},
   "outputs": [],
   "source": [
    "G = nx.DiGraph()\n",
    "# the first state will just be the string 'root'\n",
    "root_node = \"root\"\n",
    "for c in conducting_ions:\n",
    "    G.add_edge(root_node, c)"
   ]
  },
  {
   "cell_type": "markdown",
   "id": "b26e4ed1-bfc6-49da-b13b-51f0fc56945e",
   "metadata": {},
   "source": [
    "For the reinforcement learning to better distinguish between the combination of elements, adding an element will be a specific action\n",
    "\n",
    "For example:\n",
    "1. Choose a conducting ion\n",
    "2. Choose an anion\n",
    "3. Possibly add a framework cation\n",
    "4. Possibly add another anion\n",
    "5. Possibly add another framework cation"
   ]
  },
  {
   "cell_type": "code",
   "execution_count": 8,
   "id": "49b41cd3-9d4f-4463-950c-1cf0fd88916e",
   "metadata": {},
   "outputs": [
    {
     "name": "stdout",
     "output_type": "stream",
     "text": [
      "25854 nodes, 49265 edges\n"
     ]
    }
   ],
   "source": [
    "def build_element_combination_actions(G):\n",
    "    \"\"\"\n",
    "    *G*: networkx DiGraph of crystal structure actions\n",
    "    \"\"\"    \n",
    "\n",
    "    for c in conducting_ions:\n",
    "    # 1. Cx Az\n",
    "        for a1 in anions - {c}:\n",
    "            # since the ordering of the elements doesn't matter, \n",
    "            # only store the sorted version of the elements\n",
    "            c_a1 = tuple(sorted(set((c, a1))))\n",
    "            # add edge from c to (c a1)\n",
    "            G.add_edge(c, c_a1)\n",
    "                \n",
    "    # 2. Cx A1z1 A2z2\n",
    "            for a2 in anions - set(c_a1):\n",
    "                c_a1_a2 = tuple(sorted(set((c, a1, a2))))\n",
    "                G.add_edge(c_a1, c_a1_a2)\n",
    "\n",
    "    # 4. Cx Fy A1z1 A2z2\n",
    "                for f1 in framework_cations - set(c_a1_a2):\n",
    "                    c_f1_a1_a2 = tuple(sorted(set((c, f1, a1, a2))))\n",
    "                    G.add_edge(c_a1_a2, c_f1_a1_a2)\n",
    "\n",
    "    # 6. Cx F1y1 F2y2 A1z1 A2z2 \n",
    "                    for f2 in framework_cations - set(c_f1_a1_a2):\n",
    "                        c_f1_f2_a1_a2 = tuple(sorted(set((c, f1, f2, a1, a2))))\n",
    "                        G.add_edge(c_f1_a1_a2, c_f1_f2_a1_a2)\n",
    "\n",
    "    # 3. Cx Fy Az                \n",
    "            for f1 in framework_cations - set(c_a1):\n",
    "                c_f1_a1 = tuple(sorted(set((c, f1, a1))))\n",
    "                G.add_edge(c_a1, c_f1_a1)\n",
    "\n",
    "    # 5. Cx F1y1 F2y2 Az\n",
    "                for f2 in framework_cations - set(c_f1_a1):\n",
    "                    c_f1_f2_a1 = tuple(sorted(set((c, f1, f2, a1))))\n",
    "                    G.add_edge(c_f1_a1, c_f1_f2_a1)\n",
    "\n",
    "build_element_combination_actions(G)\n",
    "print(f'{G.number_of_nodes()} nodes, {G.number_of_edges()} edges')"
   ]
  },
  {
   "cell_type": "code",
   "execution_count": 9,
   "id": "ad5f25c4-da62-4da6-8485-bb663f2dbeff",
   "metadata": {},
   "outputs": [],
   "source": [
    "# working_dir = \"/projects/rlmolecule/shubham/file_transfer/decorations/jupyter_demo\"\n",
    "working_dir = \"../../rlmolecule/crystal/inputs\""
   ]
  },
  {
   "cell_type": "code",
   "execution_count": 10,
   "id": "89252422-7ae8-4270-9bb3-56e635aea23f",
   "metadata": {},
   "outputs": [
    {
     "data": {
      "text/html": [
       "<div>\n",
       "<style scoped>\n",
       "    .dataframe tbody tr th:only-of-type {\n",
       "        vertical-align: middle;\n",
       "    }\n",
       "\n",
       "    .dataframe tbody tr th {\n",
       "        vertical-align: top;\n",
       "    }\n",
       "\n",
       "    .dataframe thead th {\n",
       "        text-align: right;\n",
       "    }\n",
       "</style>\n",
       "<table border=\"1\" class=\"dataframe\">\n",
       "  <thead>\n",
       "    <tr style=\"text-align: right;\">\n",
       "      <th></th>\n",
       "      <th>composition</th>\n",
       "      <th>stoichiometry</th>\n",
       "      <th>comp_type</th>\n",
       "    </tr>\n",
       "  </thead>\n",
       "  <tbody>\n",
       "    <tr>\n",
       "      <th>0</th>\n",
       "      <td>Li1Sc1F4</td>\n",
       "      <td>114</td>\n",
       "      <td>_1_1_4</td>\n",
       "    </tr>\n",
       "    <tr>\n",
       "      <th>1</th>\n",
       "      <td>Li1Sc1Cl4</td>\n",
       "      <td>114</td>\n",
       "      <td>_1_1_4</td>\n",
       "    </tr>\n",
       "    <tr>\n",
       "      <th>2</th>\n",
       "      <td>Li1Sc1Br4</td>\n",
       "      <td>114</td>\n",
       "      <td>_1_1_4</td>\n",
       "    </tr>\n",
       "    <tr>\n",
       "      <th>3</th>\n",
       "      <td>Li1Sc1I4</td>\n",
       "      <td>114</td>\n",
       "      <td>_1_1_4</td>\n",
       "    </tr>\n",
       "    <tr>\n",
       "      <th>4</th>\n",
       "      <td>Li1Sc1O2</td>\n",
       "      <td>112</td>\n",
       "      <td>_1_1_2</td>\n",
       "    </tr>\n",
       "    <tr>\n",
       "      <th>...</th>\n",
       "      <td>...</td>\n",
       "      <td>...</td>\n",
       "      <td>...</td>\n",
       "    </tr>\n",
       "    <tr>\n",
       "      <th>138771</th>\n",
       "      <td>Zn5O2P2</td>\n",
       "      <td>522</td>\n",
       "      <td>_2_2_5</td>\n",
       "    </tr>\n",
       "    <tr>\n",
       "      <th>138772</th>\n",
       "      <td>Zn5S2N2</td>\n",
       "      <td>522</td>\n",
       "      <td>_2_2_5</td>\n",
       "    </tr>\n",
       "    <tr>\n",
       "      <th>138773</th>\n",
       "      <td>Zn5S2P2</td>\n",
       "      <td>522</td>\n",
       "      <td>_2_2_5</td>\n",
       "    </tr>\n",
       "    <tr>\n",
       "      <th>138774</th>\n",
       "      <td>Zn6N1P3</td>\n",
       "      <td>613</td>\n",
       "      <td>_1_3_6</td>\n",
       "    </tr>\n",
       "    <tr>\n",
       "      <th>138775</th>\n",
       "      <td>Zn6N3P1</td>\n",
       "      <td>631</td>\n",
       "      <td>_1_3_6</td>\n",
       "    </tr>\n",
       "  </tbody>\n",
       "</table>\n",
       "<p>138776 rows × 3 columns</p>\n",
       "</div>"
      ],
      "text/plain": [
       "       composition  stoichiometry comp_type\n",
       "0         Li1Sc1F4            114    _1_1_4\n",
       "1        Li1Sc1Cl4            114    _1_1_4\n",
       "2        Li1Sc1Br4            114    _1_1_4\n",
       "3         Li1Sc1I4            114    _1_1_4\n",
       "4         Li1Sc1O2            112    _1_1_2\n",
       "...            ...            ...       ...\n",
       "138771     Zn5O2P2            522    _2_2_5\n",
       "138772     Zn5S2N2            522    _2_2_5\n",
       "138773     Zn5S2P2            522    _2_2_5\n",
       "138774     Zn6N1P3            613    _1_3_6\n",
       "138775     Zn6N3P1            631    _1_3_6\n",
       "\n",
       "[138776 rows x 3 columns]"
      ]
     },
     "execution_count": 10,
     "metadata": {},
     "output_type": "execute_result"
    }
   ],
   "source": [
    "# read-in the dataframe containing all compositions to decorate\n",
    "df_comp = pd.read_csv(f'{working_dir}/compositions.csv.gz')\n",
    "df_comp"
   ]
  },
  {
   "cell_type": "code",
   "execution_count": 11,
   "id": "b361b24b-5c8e-47b9-a847-73f8dd4f715e",
   "metadata": {},
   "outputs": [],
   "source": [
    "compositions = df_comp['composition'].to_list()\n",
    "comp_types = set(df_comp['comp_type'].to_list())\n",
    "comp_to_comp_type = dict(zip(df_comp['composition'], df_comp['comp_type']))"
   ]
  },
  {
   "cell_type": "code",
   "execution_count": 12,
   "id": "6335bd1f-d9d0-4b50-a2b2-3997262525ac",
   "metadata": {},
   "outputs": [
    {
     "data": {
      "text/plain": [
       "3"
      ]
     },
     "execution_count": 12,
     "metadata": {},
     "output_type": "execute_result"
    }
   ],
   "source": [
    "len(str(df_comp['stoichiometry'][0]))"
   ]
  },
  {
   "cell_type": "code",
   "execution_count": 13,
   "id": "ef25e68b-8313-495f-a979-17a48c02c76d",
   "metadata": {},
   "outputs": [
    {
     "name": "stdout",
     "output_type": "stream",
     "text": [
      "21088\n"
     ]
    }
   ],
   "source": [
    "# strip the compositions to just the atoms\n",
    "comp_elements = defaultdict(set)\n",
    "for c in compositions:\n",
    "    orig_c = c\n",
    "    ele_in_comp = []\n",
    "    # these elements are sorted such that the double letter elements come after single letter ones\n",
    "    for e in elements:\n",
    "        if e in c:\n",
    "            ele_in_comp.append(e)\n",
    "            # make sure a single letter element doesn't also match (e.g., Si vs S)\n",
    "            c = c.replace(e,'')\n",
    "    comp_elements[tuple(sorted(ele_in_comp))].add(orig_c)\n",
    "#     print(ele_in_comp)\n",
    "#     print(orig_c)\n",
    "print(len(comp_elements))"
   ]
  },
  {
   "cell_type": "code",
   "execution_count": 14,
   "id": "501fbed0-842a-42d2-9fd5-63c1956e7b7d",
   "metadata": {},
   "outputs": [
    {
     "name": "stdout",
     "output_type": "stream",
     "text": [
      "21088 out of 25848 have a corresponding composition\n",
      "21094 nodes remaining\n"
     ]
    }
   ],
   "source": [
    "# not all of the generated compositions are valence-balanced, i.e., stoichiometric sum of oxidation states of ions equals 0.\n",
    "# Shubham already computed which combinations are valid, so limit those here\n",
    "ele_combo_with_comp = set()\n",
    "ele_combo_without_comp = set()\n",
    "# the nodes that are element combinations are tuples\n",
    "graph_ele_combos = [n for n in G.nodes() if isinstance(n, tuple)]\n",
    "for ele_combo in graph_ele_combos:\n",
    "    if ele_combo in comp_elements:\n",
    "        ele_combo_with_comp.add(ele_combo)\n",
    "    else:\n",
    "        ele_combo_without_comp.add(ele_combo)\n",
    "            \n",
    "print(f\"{len(ele_combo_with_comp)} out of {len(graph_ele_combos)} have a corresponding composition\")\n",
    "# delete the non-valid element combinations from the graph\n",
    "G.remove_nodes_from(ele_combo_without_comp)\n",
    "print(f\"{len(G.nodes())} nodes remaining\")"
   ]
  },
  {
   "cell_type": "code",
   "execution_count": 15,
   "id": "d3a6de15-ce30-4893-8376-a31cca762f7d",
   "metadata": {},
   "outputs": [
    {
     "name": "stdout",
     "output_type": "stream",
     "text": [
      "[29, 29, 29, 29, 29, 29, 29, 29, 29, 22, 22, 22, 22, 18, 18, 18, 18, 18, 18, 18]\n"
     ]
    }
   ],
   "source": [
    "# Step 2: For a given combination of elements, randomly select a composition from one of the valence-balanced compounds available as a lookup table\n",
    "# As a sanity check, see how many compositions there are for a given combination of elements (top 20):\n",
    "print(sorted([len(vals) for vals in comp_elements.values()], reverse=True)[:20])"
   ]
  },
  {
   "cell_type": "code",
   "execution_count": 16,
   "id": "51f30042-0911-42eb-801d-f484ef7d22b1",
   "metadata": {},
   "outputs": [
    {
     "name": "stdout",
     "output_type": "stream",
     "text": [
      "('F', 'Li', 'Sc') {'Li1Sc2F7', 'Li3Sc1F6', 'Li1Sc1F4', 'Li2Sc1F5'}\n"
     ]
    }
   ],
   "source": [
    "for eles, comps in comp_elements.items():\n",
    "    break\n",
    "print(eles, comps)"
   ]
  },
  {
   "cell_type": "code",
   "execution_count": 17,
   "id": "a7bd0ee5-3813-4469-a7cf-5b25a469c66e",
   "metadata": {},
   "outputs": [
    {
     "name": "stdout",
     "output_type": "stream",
     "text": [
      "159870 nodes, 178521 edges\n"
     ]
    }
   ],
   "source": [
    "# add the edges from the element combinations to the compositions\n",
    "for ele_combo, comps in comp_elements.items():\n",
    "    for comp in comps:\n",
    "        G.add_edge(ele_combo, comp)\n",
    "    \n",
    "print(f'{G.number_of_nodes()} nodes, {G.number_of_edges()} edges')"
   ]
  },
  {
   "cell_type": "code",
   "execution_count": 34,
   "id": "d19208d9-11ed-4245-961c-ea9e98a9f547",
   "metadata": {},
   "outputs": [
    {
     "name": "stdout",
     "output_type": "stream",
     "text": [
      "writing graph to ../../rlmolecule/crystal/inputs/elements_to_compositions.edgelist.gz\n"
     ]
    }
   ],
   "source": [
    "# write this network as the action tree\n",
    "out_file = f\"{working_dir}/elements_to_compositions.edgelist.gz\"\n",
    "print(f\"writing graph to {out_file}\")\n",
    "nx.write_edgelist(G, out_file, delimiter='\\t', data=False)"
   ]
  },
  {
   "cell_type": "code",
   "execution_count": 19,
   "id": "ee3831f0-1fc8-4996-ab63-9d7bdcd00944",
   "metadata": {},
   "outputs": [
    {
     "name": "stdout",
     "output_type": "stream",
     "text": [
      "Zn4S1N2\n",
      "_1_2_4\n"
     ]
    }
   ],
   "source": [
    "# lets select the first one as an example:\n",
    "curr_comp = next(iter(comps))\n",
    "print(comp)\n",
    "\n",
    "# get the comp_type for this comp\n",
    "curr_comp_type = comp_to_comp_type[comp]\n",
    "print(curr_comp_type)"
   ]
  },
  {
   "cell_type": "markdown",
   "id": "bea94bf0-b5ba-431b-a9c0-7b9a102e09d9",
   "metadata": {},
   "source": [
    "## Second half of graph structure\n",
    "- For the secod half of the search space, start from the composition type, and map out to the decorations.\n",
    "- We will be able to use this graph to get to the final state after the composition (first graph) has been decided"
   ]
  },
  {
   "cell_type": "markdown",
   "id": "8d1273bb-b314-4220-bfb9-6aaf62565a4c",
   "metadata": {},
   "source": [
    "### Step 3: \n",
    "For the selected composition type, a number of prototype structures are available, which will be classified by their crystal system (e.g., cubic, hexagonal, ...). Select a crystal system.\n",
    "\n",
    "\n",
    "The crystal systems are determined by \"spacegroup numbers\", which represents symmetry of a structure. There are 230 spacegroups (1-230).\n",
    "\n",
    "Following is the classification of the 7 crystal systems by spacegroups (sg):\n",
    "1. Triclinic: sg 1-2\n",
    "2. Monoclinic: sg 3-15\n",
    "3. Orthorhombic: sg 16-74\n",
    "4. Tetragonal: 75-142\n",
    "5. Trigonal: sg 143-167\n",
    "6. Hexagonal: 168-194\n",
    "7. Cubic: sg 195-230.\n",
    "\n",
    "The spacegroup of a prototype structure is present in the structure id: sg33, sg225 etc.\n",
    "For example, spacegroup of prototype structure \"POSCAR_sg33_icsd_065132\" is 33.\n"
   ]
  },
  {
   "cell_type": "code",
   "execution_count": 20,
   "id": "7b7adcb7-d8d9-4948-8220-046ed8c0ef29",
   "metadata": {},
   "outputs": [],
   "source": [
    "crystal_systems = {'triclinic': set([1,2]),\n",
    "                   'monoclinic': set(range(3,16)),\n",
    "                   'orthorhombic': set(range(16,75)),\n",
    "                   'tetragonal': set(range(75,143)),\n",
    "                   'trigonal': set(range(143,168)),\n",
    "                   'hexagonal': set(range(168,195)),  \n",
    "                   'cubic': set(range(195,231)),\n",
    "                  }\n",
    "sg_num_to_crystal_sys = {n: crystal_sys for crystal_sys, nums in crystal_systems.items() for n in nums}"
   ]
  },
  {
   "cell_type": "code",
   "execution_count": 21,
   "id": "bc07c343-a0ff-429f-856c-b3a6333f1126",
   "metadata": {},
   "outputs": [
    {
     "name": "stdout",
     "output_type": "stream",
     "text": [
      "[('_1_1_1_2_3', {'POSCAR_sg62_icsd_174512', 'POSCAR_sg70_icsd_079945', 'POSCAR_sg15_icsd_109946', 'POSCAR_sg57_icsd_015324', 'POSCAR_sg12_icsd_095291', 'POSCAR_sg56_icsd_162428', 'POSCAR_sg9_icsd_000809', 'POSCAR_sg62_icsd_180845', 'POSCAR_sg29_icsd_092876', 'POSCAR_sg61_icsd_409421', 'POSCAR_sg19_icsd_030888', 'POSCAR_sg129_icsd_169993', 'POSCAR_sg4_icsd_152108', 'POSCAR_sg14_icsd_180844', 'POSCAR_sg174_icsd_409663', 'POSCAR_sg64_icsd_412556', 'POSCAR_sg8_icsd_075217', 'POSCAR_sg176_icsd_095740', 'POSCAR_sg190_icsd_421141'}), ('_1_1_8', {'POSCAR_sg2_icsd_063129', 'POSCAR_sg14_icsd_081677', 'POSCAR_sg74_icsd_062236', 'POSCAR_sg76_icsd_026509', 'POSCAR_sg113_icsd_063311', 'POSCAR_sg163_icsd_071037', 'POSCAR_sg54_icsd_039501', 'POSCAR_sg33_icsd_035403', 'POSCAR_sg129_icsd_410829', 'POSCAR_sg57_icsd_022232', 'POSCAR_sg2_icsd_009899', 'POSCAR_sg15_icsd_023775', 'POSCAR_sg11_icsd_009920', 'POSCAR_sg63_icsd_062029', 'POSCAR_sg54_icsd_009886', 'POSCAR_sg29_icsd_405497', 'POSCAR_sg2_icsd_039555', 'POSCAR_sg74_icsd_060420'})]\n"
     ]
    }
   ],
   "source": [
    "# how do I get the prototype structure?\n",
    "# Check how many prototype structures there are for each \n",
    "prototype_folder = '/projects/rlmolecule/shubham/icsd_prototypes_poscars/DB/'\n",
    "comp_prototypes = defaultdict(set)\n",
    "for comp_type in comp_types:\n",
    "    for poscar_file in glob.glob(f\"{prototype_folder}/{comp_type}/*\"):\n",
    "        file_name = os.path.basename(poscar_file)\n",
    "        comp_prototypes[comp_type].add(file_name)\n",
    "        \n",
    "print(list(comp_prototypes.items())[:2])"
   ]
  },
  {
   "cell_type": "code",
   "execution_count": 22,
   "id": "f39975b7-48d1-47ab-9bf0-63d808f1c64f",
   "metadata": {},
   "outputs": [
    {
     "name": "stdout",
     "output_type": "stream",
     "text": [
      "[418, 218, 211, 204, 194, 172, 161, 153, 138, 130, 122, 110, 107, 93, 84, 83, 80, 68, 67, 66]\n",
      "[1, 2, 2, 3, 4, 5, 5, 6, 7, 8, 8, 9, 10, 10, 11, 12, 12, 12, 15, 16]\n"
     ]
    }
   ],
   "source": [
    "# head and tail of number of prototypes available to choose from per composition type\n",
    "print(sorted([len(vals) for vals in comp_prototypes.values()], reverse=True)[:20])\n",
    "print(sorted([len(vals) for vals in comp_prototypes.values()])[:20])"
   ]
  },
  {
   "cell_type": "code",
   "execution_count": 23,
   "id": "788fe757-db1b-4042-9f74-b7de8d76c34d",
   "metadata": {},
   "outputs": [
    {
     "name": "stdout",
     "output_type": "stream",
     "text": [
      "4170\n",
      "4170 prototype files\n"
     ]
    }
   ],
   "source": [
    "# total number of prototypes for these compositions\n",
    "print(sum([len(vals) for vals in comp_prototypes.values()]))\n",
    "\n",
    "# total number of unique prototypes\n",
    "prototype_files = set(p for vals in comp_prototypes.values() for p in vals)\n",
    "print(f'{len(prototype_files)} prototype files')"
   ]
  },
  {
   "cell_type": "code",
   "execution_count": 24,
   "id": "27029328-08eb-4f12-bb82-01e1a7bf4327",
   "metadata": {},
   "outputs": [
    {
     "name": "stdout",
     "output_type": "stream",
     "text": [
      "monoclinic 820\n",
      "tetragonal 741\n",
      "hexagonal 351\n",
      "orthorhombic 1421\n",
      "triclinic 153\n",
      "trigonal 414\n",
      "cubic 270\n"
     ]
    }
   ],
   "source": [
    "# map the poscar files to their crystal system\n",
    "prototype_to_crystal_sys = {}\n",
    "for poscar_file in prototype_files:\n",
    "    sg_num = poscar_file.split('_')[1].replace('sg','')\n",
    "    system = sg_num_to_crystal_sys[int(sg_num)]\n",
    "    prototype_to_crystal_sys[poscar_file] = system\n",
    "    \n",
    "crystal_sys_prototypes = defaultdict(set)\n",
    "for p, c in prototype_to_crystal_sys.items():\n",
    "    crystal_sys_prototypes[c].add(p)\n",
    "\n",
    "for c, p in crystal_sys_prototypes.items():\n",
    "    print(c, len(p))"
   ]
  },
  {
   "cell_type": "code",
   "execution_count": 25,
   "id": "41792425-c123-4769-ae9f-d40ebb716816",
   "metadata": {},
   "outputs": [
    {
     "name": "stdout",
     "output_type": "stream",
     "text": [
      "[('POSCAR_sg14_icsd_083588', 'monoclinic'), ('POSCAR_sg129_icsd_050988', 'tetragonal'), ('POSCAR_sg191_icsd_027082', 'hexagonal')]\n"
     ]
    }
   ],
   "source": [
    "print(list(prototype_to_crystal_sys.items())[:3])"
   ]
  },
  {
   "cell_type": "code",
   "execution_count": 26,
   "id": "10f5fe35-cbd7-4263-be5e-86f80e997068",
   "metadata": {},
   "outputs": [
    {
     "name": "stdout",
     "output_type": "stream",
     "text": [
      "[('_1_1_1_2_3', {'monoclinic', 'orthorhombic', 'tetragonal', 'hexagonal'}), ('_1_1_8', {'triclinic', 'trigonal', 'monoclinic', 'tetragonal', 'orthorhombic'}), ('_1_1_3_4', {'cubic', 'triclinic', 'trigonal', 'monoclinic', 'tetragonal', 'orthorhombic', 'hexagonal'})]\n",
      "histogram of number of crystal structures per comp_type (out of 72 total):\n",
      "2 comp_types have 1 crystal_systems\n",
      "1 comp_types have 2 crystal_systems\n",
      "5 comp_types have 3 crystal_systems\n",
      "13 comp_types have 4 crystal_systems\n",
      "9 comp_types have 5 crystal_systems\n",
      "11 comp_types have 6 crystal_systems\n",
      "31 comp_types have 7 crystal_systems\n"
     ]
    }
   ],
   "source": [
    "# how many crystal systems are available for each comp_type?\n",
    "comp_type_to_crystal_sys = defaultdict(set)\n",
    "for comp_type, prototypes in comp_prototypes.items():\n",
    "    for p in prototypes:\n",
    "        comp_type_to_crystal_sys[comp_type].add(prototype_to_crystal_sys[p])\n",
    "print(list(comp_type_to_crystal_sys.items())[:3])\n",
    "    \n",
    "print(f\"histogram of number of crystal structures per comp_type (out of {len(comp_type_to_crystal_sys)} total):\")\n",
    "for i in range(1,8):\n",
    "    num_matching = len([x for x in comp_type_to_crystal_sys.values() if len(x) == i])\n",
    "    print(f\"{num_matching} comp_types have {i} crystal_systems\")"
   ]
  },
  {
   "cell_type": "code",
   "execution_count": 27,
   "id": "06405b49-25f8-4ea8-98d0-00cf50aed730",
   "metadata": {},
   "outputs": [],
   "source": [
    "# # add the crystal system to the graph\n",
    "# for comp in compositions:\n",
    "#     comp_type = comp_to_comp_type[comp]\n",
    "#     crystal_systems = comp_type_to_crystal_sys[comp_type]\n",
    "#     for crystal_sys in crystal_systems:\n",
    "#         G2.add_edge(comp, comp + '|' + crystal_sys)\n",
    "\n",
    "# print(f'{G2.number_of_nodes()} nodes, {G2.number_of_edges()} edges')"
   ]
  },
  {
   "cell_type": "code",
   "execution_count": 28,
   "id": "76b178e6-00fd-4cf3-b702-dba8c3b36b9a",
   "metadata": {},
   "outputs": [],
   "source": [
    "curr_comp_type = comp_type"
   ]
  },
  {
   "cell_type": "code",
   "execution_count": 29,
   "id": "e292510a-395a-41b1-b6df-9bcae08c506c",
   "metadata": {},
   "outputs": [
    {
     "name": "stdout",
     "output_type": "stream",
     "text": [
      "_2_2_2_3 {'monoclinic', 'triclinic', 'orthorhombic', 'tetragonal'}\n",
      "monoclinic\n"
     ]
    }
   ],
   "source": [
    "# choose a crystal system\n",
    "print(curr_comp_type, comp_type_to_crystal_sys[curr_comp_type])\n",
    "curr_crystal_sys = next(iter(comp_type_to_crystal_sys[curr_comp_type]))\n",
    "print(curr_crystal_sys)"
   ]
  },
  {
   "cell_type": "code",
   "execution_count": 30,
   "id": "971be693-06da-4723-af96-e7a728d1a37b",
   "metadata": {},
   "outputs": [
    {
     "name": "stdout",
     "output_type": "stream",
     "text": [
      "1 prototypes are monoclinic out of 5 possible for _2_2_2_3:\n",
      "{'POSCAR_sg12_icsd_421736'}\n",
      "POSCAR_sg12_icsd_421736\n"
     ]
    }
   ],
   "source": [
    "# now choose a prototype structure\n",
    "# for comp_type, prototypes in comp_prototypes.items():\n",
    "avail_prototypes = set()\n",
    "for p in comp_prototypes[curr_comp_type]:\n",
    "    crystal_sys = prototype_to_crystal_sys[p]\n",
    "    if crystal_sys == curr_crystal_sys:\n",
    "        avail_prototypes.add(p)\n",
    "print(f'{len(avail_prototypes)} prototypes are {curr_crystal_sys} out of {len(comp_prototypes[curr_comp_type])} possible for {curr_comp_type}:')\n",
    "print(avail_prototypes)\n",
    "curr_prototype = next(iter(avail_prototypes))\n",
    "print(curr_prototype)"
   ]
  },
  {
   "cell_type": "code",
   "execution_count": 31,
   "id": "725362ed-b899-4eaf-a045-270f89f627df",
   "metadata": {},
   "outputs": [],
   "source": [
    "G2 = nx.DiGraph()"
   ]
  },
  {
   "cell_type": "code",
   "execution_count": 32,
   "id": "07a7cd97-6589-4d26-a46a-ac3d50368621",
   "metadata": {},
   "outputs": [
    {
     "name": "stdout",
     "output_type": "stream",
     "text": [
      "16388 nodes, 16316 edges\n"
     ]
    }
   ],
   "source": [
    "# For the selected composition type, a number of prototype structures are available, \n",
    "# which will be classified by their crystal system (e.g., cubic, hexagonal, ...). Select a crystal system.\n",
    "# 4. For a chosen crystal system, consider all the prototypes and construct hypothetical decorated structures.\n",
    "for comp_type in comp_types:\n",
    "#     crystal_systems = comp_type_to_crystal_sys[comp_type]\n",
    "#     for crystal_sys in crystal_systems:\n",
    "    for proto in comp_prototypes[comp_type]:\n",
    "        crystal_sys = prototype_to_crystal_sys[proto]\n",
    "        n1 = comp_type\n",
    "        n2 = n1 + '|' + crystal_sys\n",
    "        n3 = n2 + '|' + proto\n",
    "        G2.add_edge(n1, n2)\n",
    "        G2.add_edge(n2, n3)\n",
    "\n",
    "        # also add the # decorations.\n",
    "        # Once we have the composition, we will generate the real decorations. \n",
    "        # For now, just use an integer placeholder for the decoration number.\n",
    "        comp_type_stoic = tuple([int(x) for x in comp_type.split('_')[1:]])\n",
    "        comp_type_permutations = list(itertools.permutations(comp_type_stoic))\n",
    "        num_decor = len([permu for permu in comp_type_permutations if permu == comp_type_stoic])\n",
    "        for i in range(1,num_decor+1):\n",
    "            n4 = n3 + '|' + str(i)\n",
    "            G2.add_edge(n3, n4)\n",
    "\n",
    "print(f'{G2.number_of_nodes()} nodes, {G2.number_of_edges()} edges')"
   ]
  },
  {
   "cell_type": "code",
   "execution_count": 35,
   "id": "f52852c6-606a-4b78-b1a0-1c96f6e20c31",
   "metadata": {},
   "outputs": [
    {
     "name": "stdout",
     "output_type": "stream",
     "text": [
      "writing graph to ../../rlmolecule/crystal/inputs/comp_type_to_decorations.edgelist.gz\n"
     ]
    }
   ],
   "source": [
    "# write this network as the action tree\n",
    "out_file = f\"{working_dir}/comp_type_to_decorations.edgelist.gz\"\n",
    "print(f\"writing graph to {out_file}\")\n",
    "nx.write_edgelist(G2, out_file, delimiter='\\t', data=False)"
   ]
  },
  {
   "cell_type": "code",
   "execution_count": 36,
   "id": "4ce59bfa-e8b5-472a-963b-9547b911e33e",
   "metadata": {},
   "outputs": [
    {
     "data": {
      "application/vnd.jupyter.widget-view+json": {
       "model_id": "5643a0cf117c4af18f061b7926bb2acf",
       "version_major": 2,
       "version_minor": 0
      },
      "text/plain": [
       "  0%|          | 0/72 [00:00<?, ?it/s]"
      ]
     },
     "metadata": {},
     "output_type": "display_data"
    }
   ],
   "source": [
    "# Also load all the prototypes and write those to a file\n",
    "structures = {}\n",
    "for comp_type, poscar_files in tqdm(comp_prototypes.items()):\n",
    "    for file_name in poscar_files:\n",
    "        prototype_file = f\"{prototype_folder}/{comp_type}/{file_name}\"\n",
    "        strc = Structure.from_file(prototype_file, primitive=False)\n",
    "        \n",
    "        crystal_sys = prototype_to_crystal_sys[file_name]\n",
    "        # for the key, use the same str as the node would use in the action graph\n",
    "        action_node_key = '|'.join([comp_type, crystal_sys, file_name])\n",
    "        structures[action_node_key] = strc.as_dict()"
   ]
  },
  {
   "cell_type": "code",
   "execution_count": 38,
   "id": "2080e866-0d01-4108-b90d-dd88c7af730e",
   "metadata": {},
   "outputs": [],
   "source": [
    "# now store them in a single file\n",
    "import json\n",
    "import gzip\n",
    "\n",
    "# https://pymatgen.org/usage.html#side-note-as-dict-from-dict\n",
    "out_file = f\"{working_dir}/icsd_prototypes.json.gz\"\n",
    "with gzip.open(out_file, 'w') as out:\n",
    "    out.write(json.dumps(structures, indent=2).encode())"
   ]
  },
  {
   "cell_type": "code",
   "execution_count": 35,
   "id": "370a5506-2cf8-42ef-b549-94c0e9a1249e",
   "metadata": {},
   "outputs": [],
   "source": [
    "# read them back\n",
    "with gzip.open(out_file, 'r') as f:\n",
    "    structures_dict = json.loads(f.read().decode())\n",
    "\n",
    "new_structures = {}\n",
    "for key, structure_dict in structures_dict.items():\n",
    "    new_structures[key] = Structure.from_dict(structure_dict)"
   ]
  },
  {
   "cell_type": "markdown",
   "id": "02fa1daa-fd5e-4953-b3eb-91568971504a",
   "metadata": {},
   "source": [
    "### Below is how Shubam generated the decorations"
   ]
  },
  {
   "cell_type": "code",
   "execution_count": 88,
   "id": "ce9e01e5-32f2-4746-ae0d-5ed4f85af750",
   "metadata": {},
   "outputs": [
    {
     "data": {
      "application/vnd.jupyter.widget-view+json": {
       "model_id": "66df3c289046462ea2a3b0c4deedb4d7",
       "version_major": 2,
       "version_minor": 0
      },
      "text/plain": [
       "  0%|          | 0/138776 [00:00<?, ?it/s]"
      ]
     },
     "metadata": {},
     "output_type": "display_data"
    },
    {
     "name": "stdout",
     "output_type": "stream",
     "text": [
      "19081381 nodes, 19099993 edges\n"
     ]
    }
   ],
   "source": [
    "# 4. For a chosen crystal system, consider all the prototypes and construct hypothetical decorated structures.\n",
    "# structures = {}\n",
    "for comp_type in tqdm(comp_types):\n",
    "    crystal_systems = comp_type_to_crystal_sys[comp_type]\n",
    "    \n",
    "    # create permutations of order of elements within a composition\n",
    "    comp_type_permutations = list(itertools.permutations(int(x) for x in comp_type.split('_')[1:]))\n",
    "\n",
    "    # second loop over all prototypes for a given composition type\n",
    "    for proto in comp_prototypes[comp_type]:\n",
    "        crystal_sys = prototype_to_crystal_sys[proto]\n",
    "#         G2.add_edge(comp, comp + '|' + crystal_sys)\n",
    "#         G2.add_edge(comp + '|' + crystal_sys, comp + '|' + proto)\n",
    "        \n",
    "        if proto in structures:\n",
    "            strc = structures[proto]\n",
    "        else:\n",
    "            fname = proto.replace('POSCAR_','')\n",
    "            strc_file = f\"{prototype_folder}/{comp_to_comp_type[comp]}/{proto}\"\n",
    "            strc = Structure.from_file(strc_file, primitive=False)\n",
    "            structures[proto] = strc\n",
    "        comp_proto = Composition(strc.formula).reduced_composition\n",
    "        proto_stoic = (int(p) for p in comp_proto.formula if p.isdigit())\n",
    "        \n",
    "        c = 0\n",
    "        # third loop over all permutations of order of elements for a composition, created in the first loop\n",
    "        # that also match the stoichiometry of the given prototype structure\n",
    "        \n",
    "        for permu in comp_type_permutations:\n",
    "            if permu \n",
    "#             strc_subs = deepcopy(strc)\n",
    "            separator = ' '\n",
    "            comp_permu = separator.join(list(permu))\n",
    "            comp_stoic = [int(p) for p in comp_permu if p.isdigit()]\n",
    "\n",
    "            # check if stoichiometric coefficients of the composition to decorate match with those of prototype structure\n",
    "            if comp_stoic == proto_stoic:\n",
    "                c += 1\n",
    "                # TODO rather than create a new structures file for every possible decoration, \n",
    "                # store them all in a single json file \n",
    "#                 # define lists of elements for elemental substitution\n",
    "#                 original_ele = ''.join(i for i in comp_proto.formula if not i.isdigit()).split(' ')\n",
    "#                 replacement_ele = ''.join(i for i in comp_permu if not i.isdigit()).split(' ')\n",
    "\n",
    "#                 # dictionary containing original elements as keys and new elements as values\n",
    "#                 replacement = {original_ele[i]: replacement_ele[i] for i in range(len(original_ele))}\n",
    "                \n",
    "#                 # 'replace_species' function from pymatgen to replace original elements with new elements\n",
    "#                 strc_subs.replace_species(replacement)\n",
    "#                 new_strc_file = 'POSCAR' + '_' + comp + '_' + fname + '_' + str(c)\n",
    "# #                 strc_subs.to(filename= dir + '/' + )\n",
    "                G2.add_edge(comp + '|' + proto, comp + '|' + proto + '|' + str(c))\n",
    "#                 print(new_strc_file)\n",
    "        \n",
    "print(f'{G2.number_of_nodes()} nodes, {G2.number_of_edges()} edges')"
   ]
  },
  {
   "cell_type": "code",
   "execution_count": 89,
   "id": "c7eaf710-88d0-419a-b261-7f1fff34587d",
   "metadata": {},
   "outputs": [
    {
     "name": "stdout",
     "output_type": "stream",
     "text": [
      "writing graph to inputs/all_actions.edgelist\n"
     ]
    }
   ],
   "source": [
    "# write this network as the action tree\n",
    "out_file = \"inputs/all_actions.edgelist\"\n",
    "print(f\"writing graph to {out_file}\")\n",
    "nx.write_edgelist(G2, out_file, delimiter='\\t', data=False)"
   ]
  }
 ],
 "metadata": {
  "kernelspec": {
   "display_name": "Python 3",
   "language": "python",
   "name": "python3"
  },
  "language_info": {
   "codemirror_mode": {
    "name": "ipython",
    "version": 3
   },
   "file_extension": ".py",
   "mimetype": "text/x-python",
   "name": "python",
   "nbconvert_exporter": "python",
   "pygments_lexer": "ipython3",
   "version": "3.8.10"
  }
 },
 "nbformat": 4,
 "nbformat_minor": 5
}
