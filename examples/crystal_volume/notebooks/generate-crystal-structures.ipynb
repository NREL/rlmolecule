{
 "cells": [
  {
   "cell_type": "code",
   "execution_count": 1,
   "id": "cc41c1d3-cd8e-47cf-b35d-2122b87fe79b",
   "metadata": {},
   "outputs": [],
   "source": [
    "# modules for structure decoration\n",
    "import pandas as pd\n",
    "import os\n",
    "import itertools\n",
    "from tqdm.notebook import tqdm\n",
    "import networkx as nx\n",
    "import glob\n",
    "from glob import iglob\n",
    "from copy import deepcopy\n",
    "from collections import defaultdict\n",
    "\n",
    "from pymatgen.core import Composition, Structure\n",
    "from pymatgen.analysis import local_env"
   ]
  },
  {
   "cell_type": "code",
   "execution_count": 2,
   "id": "b630dff1-52d6-471e-9e3c-e62827dc0247",
   "metadata": {},
   "outputs": [
    {
     "name": "stderr",
     "output_type": "stream",
     "text": [
      "WARNING: pip is being invoked by an old script wrapper. This will fail in a future version of pip.\n",
      "Please see https://github.com/pypa/pip/issues/5599 for advice on fixing the underlying issue.\n",
      "To avoid this problem you can invoke Python with '-m pip' instead of running pip directly.\n"
     ]
    },
    {
     "name": "stdout",
     "output_type": "stream",
     "text": [
      "Name: pymatgen\n",
      "Version: 2022.0.8\n",
      "Summary: Python Materials Genomics is a robust materials analysis code that defines core object representations for structures and molecules with support for many electronic structure codes. It is currently the core analysis code powering the Materials Project (https://www.materialsproject.org).\n",
      "Home-page: http://www.pymatgen.org\n",
      "Author: Pymatgen Development Team\n",
      "Author-email: ongsp@eng.ucsd.edu\n",
      "License: MIT\n",
      "Location: /home/jlaw/.conda/envs/crystals/lib/python3.8/site-packages\n",
      "Requires: monty, scipy, numpy, tabulate, spglib, ruamel.yaml, pandas, plotly, requests, uncertainties, palettable, sympy, networkx, matplotlib\n",
      "Required-by: \n"
     ]
    },
    {
     "data": {
      "text/plain": [
       "0"
      ]
     },
     "execution_count": 2,
     "metadata": {},
     "output_type": "execute_result"
    }
   ],
   "source": [
    "# print(f\"pymatgen version: {pymatgen.__version__}\")\n",
    "import pip\n",
    "pip.main([\"show\",\"pymatgen\"])"
   ]
  },
  {
   "cell_type": "code",
   "execution_count": 8,
   "id": "d34e52bb-d667-4a74-b107-cf00c99c61a9",
   "metadata": {},
   "outputs": [
    {
     "name": "stdout",
     "output_type": "stream",
     "text": [
      "['Ge', 'Hg', 'Na', 'La', 'Br', 'Cd', 'Zr', 'Al', 'Si', 'Sb', 'Cl', 'Zn', 'Li', 'Mg', 'Hf', 'Sc', 'Sn', 'Ti', 'O', 'K', 'N', 'B', 'Y', 'W', 'F', 'S', 'P', 'I']\n"
     ]
    }
   ],
   "source": [
    "# want to maximize the volume around only the conducting ions\n",
    "conducting_ions = set(['Li', 'Na', 'K', 'Mg', 'Zn'])\n",
    "anions = set(['F', 'Cl', 'Br', 'I', 'O', 'S', 'N', 'P'])\n",
    "framework_cations = set(['Sc', 'Y', 'La', 'Ti', 'Zr', 'Hf', 'W', 'Zn', 'Cd', 'Hg', 'B', 'Al', 'Si', 'Ge', 'Sn', 'P', 'Sb'])\n",
    "elements = conducting_ions | anions | framework_cations\n",
    "# sort by the length of the string, so that multiple letter elements come first\n",
    "elements = sorted(elements, key=len, reverse=True)\n",
    "print(elements)"
   ]
  },
  {
   "cell_type": "code",
   "execution_count": 45,
   "id": "3be87d65-3e35-419f-95d6-139879239d36",
   "metadata": {},
   "outputs": [
    {
     "name": "stdout",
     "output_type": "stream",
     "text": [
      "159870 nodes, 178521 edges\n",
      "16388 nodes, 16316 edges\n"
     ]
    }
   ],
   "source": [
    "G = nx.DiGraph()\n",
    "G2 = nx.DiGraph()\n",
    "\n",
    "G = nx.read_edgelist(\n",
    "    \"inputs/elements_to_compositions.edgelist.gz\", delimiter='\\t', data=False,\n",
    "    create_using=G,\n",
    ")\n",
    "print(f'{G.number_of_nodes()} nodes, {G.number_of_edges()} edges')\n",
    "\n",
    "G2 = nx.read_edgelist(\n",
    "    \"inputs/comp_type_to_decorations.edgelist.gz\", delimiter='\\t', data=False,\n",
    "    create_using=G2,\n",
    ")\n",
    "print(f'{G2.number_of_nodes()} nodes, {G2.number_of_edges()} edges')"
   ]
  },
  {
   "cell_type": "code",
   "execution_count": 46,
   "id": "cc3aa9d6-d476-465c-a03a-e30e72b0a035",
   "metadata": {},
   "outputs": [
    {
     "data": {
      "text/plain": [
       "True"
      ]
     },
     "execution_count": 46,
     "metadata": {},
     "output_type": "execute_result"
    }
   ],
   "source": [
    "G.has_node(\"root\")"
   ]
  },
  {
   "cell_type": "code",
   "execution_count": 41,
   "id": "0584d3db-aca3-4853-9c27-9205cb2c447e",
   "metadata": {},
   "outputs": [],
   "source": [
    "G.add_edge(\"\",\"Li\")"
   ]
  },
  {
   "cell_type": "code",
   "execution_count": 6,
   "id": "2f6b05a6-d4d2-49c5-83a2-966b7367c97b",
   "metadata": {},
   "outputs": [
    {
     "data": {
      "text/html": [
       "<div>\n",
       "<style scoped>\n",
       "    .dataframe tbody tr th:only-of-type {\n",
       "        vertical-align: middle;\n",
       "    }\n",
       "\n",
       "    .dataframe tbody tr th {\n",
       "        vertical-align: top;\n",
       "    }\n",
       "\n",
       "    .dataframe thead th {\n",
       "        text-align: right;\n",
       "    }\n",
       "</style>\n",
       "<table border=\"1\" class=\"dataframe\">\n",
       "  <thead>\n",
       "    <tr style=\"text-align: right;\">\n",
       "      <th></th>\n",
       "      <th>composition</th>\n",
       "      <th>stoichiometry</th>\n",
       "      <th>comp_type</th>\n",
       "    </tr>\n",
       "  </thead>\n",
       "  <tbody>\n",
       "    <tr>\n",
       "      <th>0</th>\n",
       "      <td>Li1Sc1F4</td>\n",
       "      <td>114</td>\n",
       "      <td>_1_1_4</td>\n",
       "    </tr>\n",
       "    <tr>\n",
       "      <th>1</th>\n",
       "      <td>Li1Sc1Cl4</td>\n",
       "      <td>114</td>\n",
       "      <td>_1_1_4</td>\n",
       "    </tr>\n",
       "    <tr>\n",
       "      <th>2</th>\n",
       "      <td>Li1Sc1Br4</td>\n",
       "      <td>114</td>\n",
       "      <td>_1_1_4</td>\n",
       "    </tr>\n",
       "    <tr>\n",
       "      <th>3</th>\n",
       "      <td>Li1Sc1I4</td>\n",
       "      <td>114</td>\n",
       "      <td>_1_1_4</td>\n",
       "    </tr>\n",
       "    <tr>\n",
       "      <th>4</th>\n",
       "      <td>Li1Sc1O2</td>\n",
       "      <td>112</td>\n",
       "      <td>_1_1_2</td>\n",
       "    </tr>\n",
       "    <tr>\n",
       "      <th>...</th>\n",
       "      <td>...</td>\n",
       "      <td>...</td>\n",
       "      <td>...</td>\n",
       "    </tr>\n",
       "    <tr>\n",
       "      <th>138771</th>\n",
       "      <td>Zn5O2P2</td>\n",
       "      <td>522</td>\n",
       "      <td>_2_2_5</td>\n",
       "    </tr>\n",
       "    <tr>\n",
       "      <th>138772</th>\n",
       "      <td>Zn5S2N2</td>\n",
       "      <td>522</td>\n",
       "      <td>_2_2_5</td>\n",
       "    </tr>\n",
       "    <tr>\n",
       "      <th>138773</th>\n",
       "      <td>Zn5S2P2</td>\n",
       "      <td>522</td>\n",
       "      <td>_2_2_5</td>\n",
       "    </tr>\n",
       "    <tr>\n",
       "      <th>138774</th>\n",
       "      <td>Zn6N1P3</td>\n",
       "      <td>613</td>\n",
       "      <td>_1_3_6</td>\n",
       "    </tr>\n",
       "    <tr>\n",
       "      <th>138775</th>\n",
       "      <td>Zn6N3P1</td>\n",
       "      <td>631</td>\n",
       "      <td>_1_3_6</td>\n",
       "    </tr>\n",
       "  </tbody>\n",
       "</table>\n",
       "<p>138776 rows × 3 columns</p>\n",
       "</div>"
      ],
      "text/plain": [
       "       composition  stoichiometry comp_type\n",
       "0         Li1Sc1F4            114    _1_1_4\n",
       "1        Li1Sc1Cl4            114    _1_1_4\n",
       "2        Li1Sc1Br4            114    _1_1_4\n",
       "3         Li1Sc1I4            114    _1_1_4\n",
       "4         Li1Sc1O2            112    _1_1_2\n",
       "...            ...            ...       ...\n",
       "138771     Zn5O2P2            522    _2_2_5\n",
       "138772     Zn5S2N2            522    _2_2_5\n",
       "138773     Zn5S2P2            522    _2_2_5\n",
       "138774     Zn6N1P3            613    _1_3_6\n",
       "138775     Zn6N3P1            631    _1_3_6\n",
       "\n",
       "[138776 rows x 3 columns]"
      ]
     },
     "execution_count": 6,
     "metadata": {},
     "output_type": "execute_result"
    }
   ],
   "source": [
    "# also load the mapping from composition to composition type\n",
    "working_dir = 'inputs'\n",
    "df_comp = pd.read_csv(f'{working_dir}/compositions.csv')\n",
    "df_comp"
   ]
  },
  {
   "cell_type": "code",
   "execution_count": 7,
   "id": "89c67c07-4ce9-4ebb-9891-6a710c3921ca",
   "metadata": {},
   "outputs": [],
   "source": [
    "compositions = df_comp['composition'].to_list()\n",
    "comp_types = set(df_comp['comp_type'].to_list())\n",
    "comp_to_comp_type = dict(zip(df_comp['composition'], df_comp['comp_type']))"
   ]
  },
  {
   "cell_type": "code",
   "execution_count": 20,
   "id": "fcc2a835-11cc-493f-85be-461a6694d2a4",
   "metadata": {},
   "outputs": [
    {
     "data": {
      "text/plain": [
       "['K1Cl1',\n",
       " 'K3F2Cl1',\n",
       " 'K5F2Cl3',\n",
       " 'K5F4Cl1',\n",
       " 'K4F3Cl1',\n",
       " 'K3F1Cl2',\n",
       " 'K5F3Cl2',\n",
       " 'K5F1Cl4',\n",
       " 'K4F1Cl3',\n",
       " 'K2F1Cl1']"
      ]
     },
     "execution_count": 20,
     "metadata": {},
     "output_type": "execute_result"
    }
   ],
   "source": [
    "leaf_nodes = [n for n in G.nodes() if G.out_degree(n) == 0]\n",
    "leaf_nodes[:10]"
   ]
  },
  {
   "cell_type": "code",
   "execution_count": null,
   "id": "7b408976-741f-4a8b-ab47-db3bb0508c49",
   "metadata": {},
   "outputs": [],
   "source": [
    "all_paths = []\n",
    "for c in conducting_ions:\n",
    "    for leaf in leaf_nodes:\n",
    "        simple_paths = nx.all_simple_paths(G, c, leaf)\n",
    "        all_paths += list(simple_paths)\n",
    "        \n",
    "print(len(all_paths))"
   ]
  },
  {
   "cell_type": "code",
   "execution_count": 14,
   "id": "3bf3b7f1-e520-4a05-93c8-ed0234b0b3b1",
   "metadata": {},
   "outputs": [
    {
     "name": "stdout",
     "output_type": "stream",
     "text": [
      "Zn ('Cl', 'Zn')\n"
     ]
    }
   ],
   "source": [
    "# now see if we can generate all of the possible decorations using these two graphs\n",
    "decorations = 0\n",
    "# perform a depth-first search over the tree\n",
    "for root in conducting_ions:\n",
    "    n = root\n",
    "    while True:\n",
    "        for n2 in G.neighbors(n):\n",
    "            print(n, n2)\n",
    "            break\n",
    "        break\n",
    "    break"
   ]
  },
  {
   "cell_type": "code",
   "execution_count": 25,
   "id": "34f4cc5f-5c5c-4a8d-8373-a5b7c2684238",
   "metadata": {},
   "outputs": [
    {
     "data": {
      "text/plain": [
       "True"
      ]
     },
     "execution_count": 25,
     "metadata": {},
     "output_type": "execute_result"
    }
   ],
   "source": [
    "G.has_node(n)"
   ]
  },
  {
   "cell_type": "code",
   "execution_count": 40,
   "id": "e3be69ab-1274-4a1c-b05f-0173de904b9e",
   "metadata": {},
   "outputs": [
    {
     "name": "stdout",
     "output_type": "stream",
     "text": [
      "['K', 'Na', 'Li', 'Mg', 'Zn']\n"
     ]
    }
   ],
   "source": [
    "path = []\n",
    "root_nodes = [n for n in G.nodes() if G.in_degree(n) == 0]\n",
    "print(root_nodes)"
   ]
  },
  {
   "cell_type": "code",
   "execution_count": 28,
   "id": "5c1f9b1a-76d3-4a87-ab05-8169e1ed63b3",
   "metadata": {},
   "outputs": [
    {
     "data": {
      "text/plain": [
       "['_1_3_6|POSCAR_sg167_icsd_423672|1',\n",
       " '_1_3_6|POSCAR_sg205_icsd_065968|1',\n",
       " '_1_3_6|POSCAR_sg203_icsd_019068|1',\n",
       " '_1_3_6|POSCAR_sg2_icsd_411500|1',\n",
       " '_1_3_6|POSCAR_sg162_icsd_062027|1',\n",
       " '_1_3_6|POSCAR_sg63_icsd_030712|1',\n",
       " '_1_3_6|POSCAR_sg182_icsd_632802|1',\n",
       " '_1_3_6|POSCAR_sg87_icsd_262076|1',\n",
       " '_1_3_6|POSCAR_sg15_icsd_409384|1',\n",
       " '_1_3_6|POSCAR_sg2_icsd_300275|1']"
      ]
     },
     "execution_count": 28,
     "metadata": {},
     "output_type": "execute_result"
    }
   ],
   "source": [
    "leaf_nodes2 = [n for n in G2.nodes() if G2.out_degree(n) == 0]\n",
    "leaf_nodes2[:10]"
   ]
  },
  {
   "cell_type": "code",
   "execution_count": 35,
   "id": "ac0a6209-e4d6-4c5d-9b81-97566041c0ba",
   "metadata": {},
   "outputs": [
    {
     "name": "stdout",
     "output_type": "stream",
     "text": [
      "['Zn', \"('Cl', 'Zn')\"]\n",
      "['Zn', \"('Cl', 'Zn')\", \"('Cl', 'F', 'Zn')\"]\n",
      "['Zn', \"('Cl', 'Zn')\", \"('Cl', 'F', 'Zn')\", \"('Al', 'Cl', 'F', 'Zn')\"]\n",
      "['Zn', \"('Cl', 'Zn')\", \"('Cl', 'F', 'Zn')\", \"('Al', 'Cl', 'F', 'Zn')\", \"('Al', 'Cl', 'F', 'Hg', 'Zn')\"]\n",
      "['Zn', \"('Cl', 'Zn')\", \"('Cl', 'F', 'Zn')\", \"('Al', 'Cl', 'F', 'Zn')\", \"('Al', 'Cl', 'F', 'Hg', 'Zn')\", 'Zn1Hg1Al1F1Cl6']\n",
      "_1_1_1_1_6\n",
      "['Zn', \"('Cl', 'Zn')\", \"('Cl', 'F', 'Zn')\", \"('Al', 'Cl', 'F', 'Zn')\", \"('Al', 'Cl', 'F', 'Hg', 'Zn')\", 'Zn1Hg1Al1F1Cl6', '_1_1_1_1_6|monoclinic']\n",
      "['Zn', \"('Cl', 'Zn')\", \"('Cl', 'F', 'Zn')\", \"('Al', 'Cl', 'F', 'Zn')\", \"('Al', 'Cl', 'F', 'Hg', 'Zn')\", 'Zn1Hg1Al1F1Cl6', '_1_1_1_1_6|monoclinic', '_1_1_1_1_6|POSCAR_sg11_icsd_084411']\n",
      "['Zn', \"('Cl', 'Zn')\", \"('Cl', 'F', 'Zn')\", \"('Al', 'Cl', 'F', 'Zn')\", \"('Al', 'Cl', 'F', 'Hg', 'Zn')\", 'Zn1Hg1Al1F1Cl6', '_1_1_1_1_6|monoclinic', '_1_1_1_1_6|POSCAR_sg11_icsd_084411', '_1_1_1_1_6|POSCAR_sg11_icsd_084411|1']\n"
     ]
    }
   ],
   "source": [
    "# generate a random cyrstal by choosing a random action (first action) at each step\n",
    "n = list(root_nodes)[0]\n",
    "path = [n]\n",
    "while n not in leaf_nodes:\n",
    "    n = list(G.neighbors(n))[0]\n",
    "    path.append(n)\n",
    "    print(path)\n",
    "    \n",
    "# now loop through the second graph\n",
    "comp_type = comp_to_comp_type[n]\n",
    "print(comp_type)\n",
    "n = comp_type\n",
    "while n not in leaf_nodes2:\n",
    "    n = list(G2.neighbors(n))[0]\n",
    "    path.append(n)\n",
    "    print(path)"
   ]
  },
  {
   "cell_type": "code",
   "execution_count": 48,
   "id": "6c650d37-0222-4d05-85f7-85f88e697f58",
   "metadata": {},
   "outputs": [
    {
     "name": "stdout",
     "output_type": "stream",
     "text": [
      "43\n"
     ]
    }
   ],
   "source": [
    "# Check to see what the biggest out degrees are\n",
    "out_degrees = {G.out_degree(n) for n in G.nodes()]\n",
    "print(max(out_degrees))"
   ]
  },
  {
   "cell_type": "code",
   "execution_count": 52,
   "id": "b94e0410-142d-4d91-a670-8daca26c202b",
   "metadata": {},
   "outputs": [],
   "source": [
    "out_degrees = dict(G.out_degree())"
   ]
  },
  {
   "cell_type": "code",
   "execution_count": 55,
   "id": "cf57ff79-7f08-49fd-8d81-ff0894874b4b",
   "metadata": {},
   "outputs": [
    {
     "data": {
      "text/plain": [
       "root    5\n",
       "K       8\n",
       "Li      8\n",
       "Na      8\n",
       "Mg      8\n",
       "dtype: int64"
      ]
     },
     "execution_count": 55,
     "metadata": {},
     "output_type": "execute_result"
    }
   ],
   "source": [
    "S = pd.Series(out_degrees)\n",
    "S.head()"
   ]
  },
  {
   "cell_type": "code",
   "execution_count": 60,
   "id": "2299a6ce-c16c-4f52-92d4-5463f75774fb",
   "metadata": {},
   "outputs": [
    {
     "name": "stdout",
     "output_type": "stream",
     "text": [
      "('Cd', 'Mg', 'O', 'S') 43 [\"('Cd', 'Mg', 'O', 'S', 'W')\", \"('Cd', 'Mg', 'O', 'S', 'Zr')\", \"('Cd', 'Hf', 'Mg', 'O', 'S')\", \"('Cd', 'Mg', 'O', 'S', 'Sc')\", \"('Cd', 'Hg', 'Mg', 'O', 'S')\", \"('Cd', 'Mg', 'O', 'S', 'Si')\", \"('Al', 'Cd', 'Mg', 'O', 'S')\", \"('Cd', 'Mg', 'O', 'S', 'Sn')\", \"('Cd', 'La', 'Mg', 'O', 'S')\", \"('Cd', 'Ge', 'Mg', 'O', 'S')\", \"('Cd', 'Mg', 'O', 'S', 'Ti')\", \"('B', 'Cd', 'Mg', 'O', 'S')\", \"('Cd', 'Mg', 'O', 'S', 'Y')\", \"('Cd', 'Mg', 'O', 'S', 'Zn')\", 'Mg2Cd1O2S1', 'Mg2Cd2O3S1', 'Mg3Cd2O1S4', 'Mg1Cd4O4S1', 'Mg1Cd3O2S2', 'Mg3Cd2O4S1', 'Mg1Cd4O3S2', 'Mg1Cd2O1S2', 'Mg2Cd3O4S1', 'Mg2Cd3O3S2', 'Mg1Cd3O3S1', 'Mg4Cd1O3S2', 'Mg3Cd1O1S3', 'Mg4Cd1O4S1', 'Mg1Cd3O1S3', 'Mg3Cd2O2S3', 'Mg2Cd3O2S3', 'Mg3Cd2O3S2', 'Mg1Cd4O2S3', 'Mg1Cd2O2S1', 'Mg4Cd1O2S3', 'Mg2Cd1O1S2', 'Mg2Cd3O1S4', 'Mg1Cd4O1S4', 'Mg4Cd1O1S4', 'Mg3Cd1O3S1', 'Mg2Cd2O1S3', 'Mg1Cd1O1S1', 'Mg3Cd1O2S2']\n"
     ]
    }
   ],
   "source": [
    "idxmax = S.idxmax()\n",
    "print(idxmax, S[idxmax], list(G.neighbors(idxmax)))"
   ]
  },
  {
   "cell_type": "code",
   "execution_count": 61,
   "id": "00b16e62-98b2-4cef-b008-eaa455fac6db",
   "metadata": {},
   "outputs": [
    {
     "data": {
      "text/plain": [
       "_1_3_6                  7\n",
       "_1_3_6|trigonal        14\n",
       "_1_3_6|cubic            6\n",
       "_1_3_6|triclinic        5\n",
       "_1_3_6|orthorhombic    18\n",
       "dtype: int64"
      ]
     },
     "execution_count": 61,
     "metadata": {},
     "output_type": "execute_result"
    }
   ],
   "source": [
    "S2 = pd.Series(dict(G2.out_degree()))\n",
    "S2.head()"
   ]
  },
  {
   "cell_type": "code",
   "execution_count": 73,
   "id": "cb4770c6-8033-48a5-ad4a-a6cf37c9d106",
   "metadata": {},
   "outputs": [
    {
     "data": {
      "text/plain": [
       "14"
      ]
     },
     "execution_count": 73,
     "metadata": {},
     "output_type": "execute_result"
    }
   ],
   "source": [
    "len(S2[S2 > 50])"
   ]
  },
  {
   "cell_type": "code",
   "execution_count": 74,
   "id": "1f23c85e-43ce-432a-9c31-ede10232e604",
   "metadata": {},
   "outputs": [
    {
     "name": "stdout",
     "output_type": "stream",
     "text": [
      "_1_2|orthorhombic\n"
     ]
    }
   ],
   "source": [
    "idxmax2 = S2.idxmax(10)\n",
    "print(idxmax2)\n",
    "# print(idxmax2, S2[idxmax2], list(G2.neighbors(idxmax2)))"
   ]
  },
  {
   "cell_type": "code",
   "execution_count": 76,
   "id": "32e4ad79-df80-454c-9e1b-78cd09257e12",
   "metadata": {},
   "outputs": [
    {
     "data": {
      "text/plain": [
       "_1_2|orthorhombic                     122\n",
       "_1_1_1_1_1|POSCAR_sg62_icsd_409579    120\n",
       "_1_1_1_1_1|POSCAR_sg11_icsd_094400    120\n",
       "_1_2|tetragonal                        89\n",
       "_1_1_2|orthorhombic                    72\n",
       "_1_2_4|orthorhombic                    69\n",
       "_1_1_3|orthorhombic                    67\n",
       "_1_2_3|orthorhombic                    62\n",
       "_1_1|orthorhombic                      60\n",
       "_1_2|hexagonal                         57\n",
       "_1_1_4|orthorhombic                    56\n",
       "_1_2_4|tetragonal                      54\n",
       "_1_2|cubic                             54\n",
       "_1_2_2|orthorhombic                    53\n",
       "dtype: int64"
      ]
     },
     "execution_count": 76,
     "metadata": {},
     "output_type": "execute_result"
    }
   ],
   "source": [
    "S2.nlargest(14)"
   ]
  },
  {
   "cell_type": "code",
   "execution_count": 68,
   "id": "bac5f016-56f4-487c-a350-c555ea722bf6",
   "metadata": {},
   "outputs": [],
   "source": [
    "import matplotlib.pyplot as plt"
   ]
  },
  {
   "cell_type": "code",
   "execution_count": 70,
   "id": "99567d3c-469b-471b-8209-1d50c2c8fb46",
   "metadata": {},
   "outputs": [
    {
     "data": {
      "image/png": "[encoded data removed]",
      "text/plain": [
       "<Figure size 432x288 with 1 Axes>"
      ]
     },
     "metadata": {
      "needs_background": "light"
     },
     "output_type": "display_data"
    }
   ],
   "source": [
    "S.hist()\n",
    "plt.xlabel(\"Node out degrees for 1st action graph (elements to compositions)\")\n",
    "plt.ylabel(\"Frequency\")\n",
    "plt.yscale('log')\n",
    "plt.show()"
   ]
  },
  {
   "cell_type": "code",
   "execution_count": 72,
   "id": "5b4419a7-372f-48a5-805a-06fd8070aab2",
   "metadata": {},
   "outputs": [
    {
     "data": {
      "image/png": "[encoded data removed]",
      "text/plain": [
       "<Figure size 432x288 with 1 Axes>"
      ]
     },
     "metadata": {
      "needs_background": "light"
     },
     "output_type": "display_data"
    }
   ],
   "source": [
    "S2.hist()\n",
    "plt.xlabel(\"Node out degrees for 2nd action graph (comp_type to decorations)\")\n",
    "plt.ylabel(\"Frequency\")\n",
    "plt.yscale('log')\n",
    "plt.show()"
   ]
  },
  {
   "cell_type": "code",
   "execution_count": 50,
   "id": "2a191a00-4388-4b24-b7e5-8829725c6766",
   "metadata": {},
   "outputs": [
    {
     "name": "stdout",
     "output_type": "stream",
     "text": [
      "122\n"
     ]
    }
   ],
   "source": [
    "# Check to see what the biggest out degrees are\n",
    "out_degrees = [G2.out_degree(n) for n in G2.nodes()]\n",
    "print(max(out_degrees))"
   ]
  },
  {
   "cell_type": "code",
   "execution_count": 114,
   "id": "ac4bc7e9-ae2e-4c8b-a32a-bf781d626614",
   "metadata": {},
   "outputs": [
    {
     "name": "stdout",
     "output_type": "stream",
     "text": [
      "['Li' '1' 'Sc' '1' 'F' '4' '']\n",
      "('Li', 'Sc', 'F')\n",
      "_1_1_4\n"
     ]
    }
   ],
   "source": [
    "import re\n",
    "import numpy as np\n",
    "comp = \"Li1Sc1F4\"\n",
    "split = np.asarray(re.split('(\\d+)',comp))\n",
    "print(split)\n",
    "elements = tuple(split[range(0, len(split)-1, 2)])\n",
    "print(elements)\n",
    "stoich = split[list(range(1,len(split),2))]\n",
    "# sort the stoichiometry to get the correct order of the comp type\n",
    "comp_type = '_' + '_'.join(map(str, sorted(map(int, stoich))))\n",
    "print(comp_type)"
   ]
  },
  {
   "cell_type": "code",
   "execution_count": null,
   "id": "7fe11369-ca35-4073-a066-76d6318f7298",
   "metadata": {},
   "outputs": [],
   "source": []
  },
  {
   "cell_type": "markdown",
   "id": "d43449d1-0997-42b7-89ec-c42b91aa8756",
   "metadata": {},
   "source": [
    "## Store the cyrstal structures\n",
    "Loading the crystal structure files and generating the new structures for each decoration take a significant amount of time.\n",
    "May be able to speed up the process by pre-performing those actions\n"
   ]
  },
  {
   "cell_type": "code",
   "execution_count": 77,
   "id": "797f089e-f3de-43df-ae2b-29478c85a1a6",
   "metadata": {},
   "outputs": [
    {
     "name": "stdout",
     "output_type": "stream",
     "text": [
      "4170 prototype files\n"
     ]
    }
   ],
   "source": [
    "# First, to estimate how big the file will be, load all the icsd crystal structures and store them in a single JSON file\n",
    "import pymatgen\n",
    "from pymatgen.core import Composition, Structure\n",
    "import glob\n",
    "\n",
    "prototype_folder = '/projects/rlmolecule/shubham/icsd_prototypes_poscars/DB/'\n",
    "comp_prototypes = defaultdict(set)\n",
    "prototype_files = set()\n",
    "for comp_type in comp_types:\n",
    "    for poscar_file in glob.glob(f\"{prototype_folder}/{comp_type}/*\"):\n",
    "        prototype_files.add(poscar_file)\n",
    "        file_name = os.path.basename(poscar_file)\n",
    "        comp_prototypes[comp_type].add(file_name)\n",
    "\n",
    "print(f\"{len(prototype_files)} prototype files\")"
   ]
  },
  {
   "cell_type": "code",
   "execution_count": 93,
   "id": "fbc69bb2-45b3-48f2-8336-0fcf059b7aa4",
   "metadata": {},
   "outputs": [
    {
     "data": {
      "application/vnd.jupyter.widget-view+json": {
       "model_id": "1eef2c55b981450598a56ff46a5885c0",
       "version_major": 2,
       "version_minor": 0
      },
      "text/plain": [
       "  0%|          | 0/72 [00:00<?, ?it/s]"
      ]
     },
     "metadata": {},
     "output_type": "display_data"
    }
   ],
   "source": [
    "structures = {}\n",
    "for comp_type, poscar_files in tqdm(comp_prototypes.items()):\n",
    "    for file_name in poscar_files:\n",
    "        prototype_file = f\"{prototype_folder}/{comp_type}/{file_name}\"\n",
    "        strc = Structure.from_file(prototype_file, primitive=False)\n",
    "\n",
    "        structures[comp_type + '|' + file_name] = strc.as_dict()\n",
    "#         break\n",
    "#     break\n",
    "# print(structures)\n",
    "# as_dict"
   ]
  },
  {
   "cell_type": "code",
   "execution_count": 83,
   "id": "4de27209-be1b-4fd6-b7c0-a1c860b8b6db",
   "metadata": {},
   "outputs": [],
   "source": [
    "# now store them in a single file\n",
    "import json\n",
    "import gzip\n",
    "\n",
    "# https://pymatgen.org/usage.html#side-note-as-dict-from-dict\n",
    "out_file = \"inputs/icsd_prototypes.json.gz\"\n",
    "with gzip.open(out_file, 'w') as out:\n",
    "    out.write(json.dumps(structures, indent=2).encode())"
   ]
  },
  {
   "cell_type": "code",
   "execution_count": 97,
   "id": "925793eb-22f6-4605-907d-e22a2c3907d1",
   "metadata": {},
   "outputs": [],
   "source": [
    "# read them back\n",
    "with gzip.open(out_file, 'r') as f:\n",
    "    structures_dict = json.loads(f.read().decode())\n",
    "\n",
    "new_structures = {}\n",
    "for key, structure_dict in structures_dict.items():\n",
    "    new_structures[key] = Structure.from_dict(structure_dict)"
   ]
  },
  {
   "cell_type": "code",
   "execution_count": 98,
   "id": "610a69a4-c37c-4395-a0f8-ae892d64c6d2",
   "metadata": {},
   "outputs": [
    {
     "data": {
      "text/plain": [
       "4170"
      ]
     },
     "execution_count": 98,
     "metadata": {},
     "output_type": "execute_result"
    }
   ],
   "source": [
    "len(new_structures)"
   ]
  },
  {
   "cell_type": "code",
   "execution_count": 99,
   "id": "744c1d33-86ec-4a26-9d5f-829cbc9aeff5",
   "metadata": {},
   "outputs": [
    {
     "data": {
      "text/plain": [
       "3597.122302158273"
      ]
     },
     "execution_count": 99,
     "metadata": {},
     "output_type": "execute_result"
    }
   ],
   "source": [
    "15000000 / 4170"
   ]
  },
  {
   "cell_type": "code",
   "execution_count": 100,
   "id": "696502bb-0a3c-40e6-81dc-a6dcfdc5a8ff",
   "metadata": {},
   "outputs": [
    {
     "data": {
      "text/plain": [
       "17.8"
      ]
     },
     "execution_count": 100,
     "metadata": {},
     "output_type": "execute_result"
    }
   ],
   "source": [
    "# estimated size of structures file: 18GB. That's too much to store everything in RAM. \n",
    "5 * 3560 / 1000"
   ]
  }
 ],
 "metadata": {
  "kernelspec": {
   "display_name": "Python 3",
   "language": "python",
   "name": "python3"
  },
  "language_info": {
   "codemirror_mode": {
    "name": "ipython",
    "version": 3
   },
   "file_extension": ".py",
   "mimetype": "text/x-python",
   "name": "python",
   "nbconvert_exporter": "python",
   "pygments_lexer": "ipython3",
   "version": "3.8.10"
  }
 },
 "nbformat": 4,
 "nbformat_minor": 5
}
