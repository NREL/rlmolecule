{
 "cells": [
  {
   "cell_type": "code",
   "execution_count": 56,
   "id": "99203d96-9005-4e1f-984a-feb570f32f44",
   "metadata": {},
   "outputs": [],
   "source": [
    "# modules for structure decoration\n",
    "import pandas as pd\n",
    "import os\n",
    "import itertools\n",
    "from tqdm.notebook import tqdm\n",
    "import networkx as nx\n",
    "import glob\n",
    "from glob import iglob\n",
    "from copy import deepcopy\n",
    "from collections import defaultdict\n",
    "\n",
    "from pymatgen.core import Composition, Structure\n",
    "from pymatgen.analysis import local_env"
   ]
  },
  {
   "cell_type": "code",
   "execution_count": 2,
   "id": "9ba594ef-e0fd-4f49-9e7e-e731c3d69628",
   "metadata": {},
   "outputs": [
    {
     "name": "stderr",
     "output_type": "stream",
     "text": [
      "WARNING: pip is being invoked by an old script wrapper. This will fail in a future version of pip.\n",
      "Please see https://github.com/pypa/pip/issues/5599 for advice on fixing the underlying issue.\n",
      "To avoid this problem you can invoke Python with '-m pip' instead of running pip directly.\n"
     ]
    },
    {
     "name": "stdout",
     "output_type": "stream",
     "text": [
      "Name: pymatgen\n",
      "Version: 2022.0.8\n",
      "Summary: Python Materials Genomics is a robust materials analysis code that defines core object representations for structures and molecules with support for many electronic structure codes. It is currently the core analysis code powering the Materials Project (https://www.materialsproject.org).\n",
      "Home-page: http://www.pymatgen.org\n",
      "Author: Pymatgen Development Team\n",
      "Author-email: ongsp@eng.ucsd.edu\n",
      "License: MIT\n",
      "Location: /home/jlaw/.conda/envs/crystals/lib/python3.8/site-packages\n",
      "Requires: scipy, monty, networkx, matplotlib, sympy, plotly, tabulate, numpy, spglib, palettable, requests, uncertainties, pandas, ruamel.yaml\n",
      "Required-by: \n"
     ]
    },
    {
     "data": {
      "text/plain": [
       "0"
      ]
     },
     "execution_count": 2,
     "metadata": {},
     "output_type": "execute_result"
    }
   ],
   "source": [
    "# print(f\"pymatgen version: {pymatgen.__version__}\")\n",
    "import pip\n",
    "pip.main([\"show\",\"pymatgen\"])"
   ]
  },
  {
   "cell_type": "markdown",
   "id": "06540d84-b32b-4626-84a7-18a96513cac5",
   "metadata": {},
   "source": [
    "## Find the crystal structure with the maximum volume around the conducting ions\n",
    "\n",
    "Action space:\n",
    "1. Choose the elements desired for the battery material i.e., conducting ion, framework cation(s), and anion(s)\n",
    "2. For a given combination of elements, randomly select a composition from one of the valence-balanced compounds available as a lookup table (see 3.1).\n",
    "3. For the selected composition type, a number of prototype structures are available, which will be classified by their crystal system (cubic, hexagonal, ...). Choose a crystal system randomly.\n",
    "4. For a chosen crystal system, consider all the prototypes and construct hypothetical decorated structures.\n",
    "5. Compute the volume around the conducting ions"
   ]
  },
  {
   "cell_type": "markdown",
   "id": "d5541007-01a8-4a4c-bc16-1febce333a1f",
   "metadata": {},
   "source": [
    "### Compositions\n",
    "Elements commonly found in battery materials:\n",
    "- Conducting ion (C): Li+, Na+, K+, Mg2+, Zn2+\n",
    "- Anion (A): F-, Cl-, Br-, I-, O2-, S2-, N3-, P3-\n",
    "- Framework cation (F): Sc3+, Y3+, La3+, Ti4+, Zr4+, Hf4+, W6+, Zn2+, Cd2+, Hg2+, B3+, Al3+, Si4+, Ge4+, Sn4+, P5+, Sb5+\n",
    "\n",
    "Hypothetical compositions using combinations of C, F, and A are of the following forms:\n",
    "1. Cx Az\n",
    "2. Cx A1z1 A2z2\n",
    "3. Cx Fy Az\n",
    "4. Cx Fy A1z1 A2z2\n",
    "5. Cx F1y1 F2y2 Az\n",
    "6. Cx F1y1 F2y2 A1z1 A2z2 \n",
    "\n",
    "The following constraints are employed in generating the compositions:\n",
    "1. A composition may contain only one C ion, up to two (0-2) F ions and at least one and up to two (1-2) A ions.\n",
    "2. The sum of stoichiometric coefficients of the ions is less than or equal to ten, i.e., x + y1 + y2 + z1 + z2 ≤ 10 .\n",
    "3. The generated compositions are valence-balanced, i.e., stoichiometric sum of oxidation states of ions equals to 0."
   ]
  },
  {
   "cell_type": "markdown",
   "id": "0f637384-7bd6-47e4-8b40-7941c475aeab",
   "metadata": {},
   "source": [
    "### Build Action space graph\n",
    "We are going to build a networkx graph of all the possible actions, split into two parts. Actions 1-2, and actions 3-5."
   ]
  },
  {
   "cell_type": "code",
   "execution_count": 8,
   "id": "4adeb813-61c8-43ba-9eb4-47d75920f033",
   "metadata": {},
   "outputs": [],
   "source": [
    "G = nx.DiGraph()"
   ]
  },
  {
   "cell_type": "code",
   "execution_count": 3,
   "id": "9ebe5b00-ebeb-4509-a153-1fdfee4baec3",
   "metadata": {},
   "outputs": [
    {
     "name": "stdout",
     "output_type": "stream",
     "text": [
      "['Cl', 'Al', 'Zn', 'Ge', 'Br', 'La', 'Cd', 'Hg', 'Si', 'Sb', 'Hf', 'Sc', 'Li', 'Mg', 'Ti', 'Zr', 'Na', 'Sn', 'K', 'F', 'N', 'S', 'I', 'W', 'P', 'Y', 'O', 'B']\n"
     ]
    }
   ],
   "source": [
    "# want to maximize the volume around only the conducting ions\n",
    "conducting_ions = set(['Li', 'Na', 'K', 'Mg', 'Zn'])\n",
    "anions = set(['F', 'Cl', 'Br', 'I', 'O', 'S', 'N', 'P'])\n",
    "framework_cations = set(['Sc', 'Y', 'La', 'Ti', 'Zr', 'Hf', 'W', 'Zn', 'Cd', 'Hg', 'B', 'Al', 'Si', 'Ge', 'Sn', 'P', 'Sb'])\n",
    "elements = conducting_ions | anions | framework_cations\n",
    "# sort by the length of the string, so that multiple letter elements come first\n",
    "elements = sorted(elements, key=len, reverse=True)\n",
    "print(elements)"
   ]
  },
  {
   "cell_type": "code",
   "execution_count": 4,
   "id": "e2ec1e74-38f3-45c3-9e90-089235ff68cf",
   "metadata": {},
   "outputs": [
    {
     "data": {
      "text/plain": [
       "{'P'}"
      ]
     },
     "execution_count": 4,
     "metadata": {},
     "output_type": "execute_result"
    }
   ],
   "source": [
    "anions & framework_cations"
   ]
  },
  {
   "cell_type": "code",
   "execution_count": 5,
   "id": "a10a6232-b227-4b0a-84d2-1b5e4b1ba0dc",
   "metadata": {},
   "outputs": [
    {
     "data": {
      "text/plain": [
       "{'Zn'}"
      ]
     },
     "execution_count": 5,
     "metadata": {},
     "output_type": "execute_result"
    }
   ],
   "source": [
    "conducting_ions & framework_cations"
   ]
  },
  {
   "cell_type": "code",
   "execution_count": 62,
   "id": "57b75d53-8a91-4d40-b95d-38002eb9d231",
   "metadata": {},
   "outputs": [
    {
     "name": "stdout",
     "output_type": "stream",
     "text": [
      "25939\n"
     ]
    }
   ],
   "source": [
    "# first, choose the elements for the battery material. Put all possible combinations as the actions\n",
    "def build_element_combinations():\n",
    "    element_combinations = set()\n",
    "    # 1. Cx Az\n",
    "    for c in conducting_ions:\n",
    "        for a in anions:\n",
    "            element_combinations.add((c, a))\n",
    "\n",
    "    # 2. Cx A1z1 A2z2\n",
    "        for a1, a2 in itertools.combinations(anions, 2):\n",
    "            element_combinations.add((c, a1, a2))\n",
    "\n",
    "    # 3. Cx Fy Az\n",
    "        for f in framework_cations:\n",
    "            for a in anions:\n",
    "                element_combinations.add((c, f, a))\n",
    "                \n",
    "    # 4. Cx Fy A1z1 A2z2\n",
    "        for f in framework_cations:\n",
    "            for a1, a2 in itertools.combinations(anions, 2):\n",
    "                element_combinations.add((c, f, a1, a2))\n",
    "\n",
    "    # 5. Cx F1y1 F2y2 Az\n",
    "        for f1, f2 in itertools.combinations(framework_cations, 2):\n",
    "            for a in anions:\n",
    "                element_combinations.add((c, f1, f2, a))\n",
    "\n",
    "    # 6. Cx F1y1 F2y2 A1z1 A2z2 \n",
    "        for f1, f2 in itertools.combinations(framework_cations, 2):\n",
    "            for a1, a2 in itertools.combinations(anions, 2):\n",
    "                element_combinations.add((c, f1, f2, a1, a2))\n",
    "                \n",
    "    # 'P' can be either in A or F, and Zinc can be either in C or F\n",
    "    # Make sure there are no duplicates here\n",
    "    element_combinations = set(tuple(set(e_c)) for e_c in element_combinations)\n",
    "    \n",
    "    return element_combinations\n",
    "\n",
    "element_combinations = build_element_combinations()\n",
    "print(len(element_combinations))"
   ]
  },
  {
   "cell_type": "code",
   "execution_count": 14,
   "id": "25e3c78d-12f4-4764-8a57-1e867d99165b",
   "metadata": {},
   "outputs": [
    {
     "data": {
      "text/plain": [
       "OutEdgeView([(0, 1), (1, 2), (2, 3), (2, 4)])"
      ]
     },
     "execution_count": 14,
     "metadata": {},
     "output_type": "execute_result"
    }
   ],
   "source": [
    "# G2 = nx.DiGraph()\n",
    "nx.add_path(G2, [0,1,2,4])\n",
    "G2.edges()"
   ]
  },
  {
   "cell_type": "markdown",
   "id": "b26e4ed1-bfc6-49da-b13b-51f0fc56945e",
   "metadata": {},
   "source": [
    "For the reinforcement learning to better distinguish between the combination of elements, adding an element will be a specific action\n",
    "\n",
    "For example:\n",
    "1. Choose a conducting ion\n",
    "2. Choose an anion\n",
    "3. Possibly add a framework cation\n",
    "4. Possibly add another anion\n",
    "5. Possibly add another framework cation"
   ]
  },
  {
   "cell_type": "code",
   "execution_count": 28,
   "id": "49b41cd3-9d4f-4463-950c-1cf0fd88916e",
   "metadata": {},
   "outputs": [
    {
     "name": "stdout",
     "output_type": "stream",
     "text": [
      "25853 nodes, 49260 edges\n"
     ]
    }
   ],
   "source": [
    "def build_element_combination_actions(G):\n",
    "    \"\"\"\n",
    "    *G*: networkx DiGraph of crystal structure actions\n",
    "    \"\"\"    \n",
    "\n",
    "    for c in conducting_ions:\n",
    "    # 1. Cx Az\n",
    "        for a1 in anions - {c}:\n",
    "            # since the ordering of the elements doesn't matter, \n",
    "            # only store the sorted version of the elements\n",
    "            c_a1 = tuple(sorted(set((c, a1))))\n",
    "            # add edge from c to (c a1)\n",
    "            G.add_edge(c, c_a1)\n",
    "                \n",
    "    # 2. Cx A1z1 A2z2\n",
    "            for a2 in anions - set(c_a1):\n",
    "                c_a1_a2 = tuple(sorted(set((c, a1, a2))))\n",
    "                G.add_edge(c_a1, c_a1_a2)\n",
    "\n",
    "    # 4. Cx Fy A1z1 A2z2\n",
    "                for f1 in framework_cations - set(c_a1_a2):\n",
    "                    c_f1_a1_a2 = tuple(sorted(set((c, f1, a1, a2))))\n",
    "                    G.add_edge(c_a1_a2, c_f1_a1_a2)\n",
    "\n",
    "    # 6. Cx F1y1 F2y2 A1z1 A2z2 \n",
    "                    for f2 in framework_cations - set(c_f1_a1_a2):\n",
    "                        c_f1_f2_a1_a2 = tuple(sorted(set((c, f1, f2, a1, a2))))\n",
    "                        G.add_edge(c_f1_a1_a2, c_f1_f2_a1_a2)\n",
    "\n",
    "    # 3. Cx Fy Az                \n",
    "            for f1 in framework_cations - set(c_a1):\n",
    "                c_f1_a1 = tuple(sorted(set((c, f1, a1))))\n",
    "                G.add_edge(c_a1, c_f1_a1)\n",
    "\n",
    "    # 5. Cx F1y1 F2y2 Az\n",
    "                for f2 in framework_cations - set(c_f1_a1):\n",
    "                    c_f1_f2_a1 = tuple(sorted(set((c, f1, f2, a1))))\n",
    "                    G.add_edge(c_f1_a1, c_f1_f2_a1)\n",
    "\n",
    "G = nx.DiGraph()\n",
    "build_element_combination_actions(G)\n",
    "print(f'{G.number_of_nodes()} nodes, {G.number_of_edges()} edges')"
   ]
  },
  {
   "cell_type": "code",
   "execution_count": 29,
   "id": "ad5f25c4-da62-4da6-8485-bb663f2dbeff",
   "metadata": {},
   "outputs": [],
   "source": [
    "working_dir = \"/projects/rlmolecule/shubham/file_transfer/decorations/jupyter_demo\""
   ]
  },
  {
   "cell_type": "code",
   "execution_count": 30,
   "id": "89252422-7ae8-4270-9bb3-56e635aea23f",
   "metadata": {},
   "outputs": [
    {
     "data": {
      "text/html": [
       "<div>\n",
       "<style scoped>\n",
       "    .dataframe tbody tr th:only-of-type {\n",
       "        vertical-align: middle;\n",
       "    }\n",
       "\n",
       "    .dataframe tbody tr th {\n",
       "        vertical-align: top;\n",
       "    }\n",
       "\n",
       "    .dataframe thead th {\n",
       "        text-align: right;\n",
       "    }\n",
       "</style>\n",
       "<table border=\"1\" class=\"dataframe\">\n",
       "  <thead>\n",
       "    <tr style=\"text-align: right;\">\n",
       "      <th></th>\n",
       "      <th>composition</th>\n",
       "      <th>stoichiometry</th>\n",
       "      <th>comp_type</th>\n",
       "    </tr>\n",
       "  </thead>\n",
       "  <tbody>\n",
       "    <tr>\n",
       "      <th>0</th>\n",
       "      <td>Li1Sc1F4</td>\n",
       "      <td>114</td>\n",
       "      <td>_1_1_4</td>\n",
       "    </tr>\n",
       "    <tr>\n",
       "      <th>1</th>\n",
       "      <td>Li1Sc1Cl4</td>\n",
       "      <td>114</td>\n",
       "      <td>_1_1_4</td>\n",
       "    </tr>\n",
       "    <tr>\n",
       "      <th>2</th>\n",
       "      <td>Li1Sc1Br4</td>\n",
       "      <td>114</td>\n",
       "      <td>_1_1_4</td>\n",
       "    </tr>\n",
       "    <tr>\n",
       "      <th>3</th>\n",
       "      <td>Li1Sc1I4</td>\n",
       "      <td>114</td>\n",
       "      <td>_1_1_4</td>\n",
       "    </tr>\n",
       "    <tr>\n",
       "      <th>4</th>\n",
       "      <td>Li1Sc1O2</td>\n",
       "      <td>112</td>\n",
       "      <td>_1_1_2</td>\n",
       "    </tr>\n",
       "    <tr>\n",
       "      <th>...</th>\n",
       "      <td>...</td>\n",
       "      <td>...</td>\n",
       "      <td>...</td>\n",
       "    </tr>\n",
       "    <tr>\n",
       "      <th>138771</th>\n",
       "      <td>Zn5O2P2</td>\n",
       "      <td>522</td>\n",
       "      <td>_2_2_5</td>\n",
       "    </tr>\n",
       "    <tr>\n",
       "      <th>138772</th>\n",
       "      <td>Zn5S2N2</td>\n",
       "      <td>522</td>\n",
       "      <td>_2_2_5</td>\n",
       "    </tr>\n",
       "    <tr>\n",
       "      <th>138773</th>\n",
       "      <td>Zn5S2P2</td>\n",
       "      <td>522</td>\n",
       "      <td>_2_2_5</td>\n",
       "    </tr>\n",
       "    <tr>\n",
       "      <th>138774</th>\n",
       "      <td>Zn6N1P3</td>\n",
       "      <td>613</td>\n",
       "      <td>_1_3_6</td>\n",
       "    </tr>\n",
       "    <tr>\n",
       "      <th>138775</th>\n",
       "      <td>Zn6N3P1</td>\n",
       "      <td>631</td>\n",
       "      <td>_1_3_6</td>\n",
       "    </tr>\n",
       "  </tbody>\n",
       "</table>\n",
       "<p>138776 rows × 3 columns</p>\n",
       "</div>"
      ],
      "text/plain": [
       "       composition  stoichiometry comp_type\n",
       "0         Li1Sc1F4            114    _1_1_4\n",
       "1        Li1Sc1Cl4            114    _1_1_4\n",
       "2        Li1Sc1Br4            114    _1_1_4\n",
       "3         Li1Sc1I4            114    _1_1_4\n",
       "4         Li1Sc1O2            112    _1_1_2\n",
       "...            ...            ...       ...\n",
       "138771     Zn5O2P2            522    _2_2_5\n",
       "138772     Zn5S2N2            522    _2_2_5\n",
       "138773     Zn5S2P2            522    _2_2_5\n",
       "138774     Zn6N1P3            613    _1_3_6\n",
       "138775     Zn6N3P1            631    _1_3_6\n",
       "\n",
       "[138776 rows x 3 columns]"
      ]
     },
     "execution_count": 30,
     "metadata": {},
     "output_type": "execute_result"
    }
   ],
   "source": [
    "# read-in the dataframe containing all compositions to decorate\n",
    "df_comp = pd.read_csv(f'{working_dir}/compositions.csv')\n",
    "df_comp"
   ]
  },
  {
   "cell_type": "code",
   "execution_count": 70,
   "id": "b361b24b-5c8e-47b9-a847-73f8dd4f715e",
   "metadata": {},
   "outputs": [],
   "source": [
    "compositions = df_comp['composition'].to_list()\n",
    "comp_types = set(df_comp['comp_type'].to_list())\n",
    "comp_to_comp_type = dict(zip(df_comp['composition'], df_comp['comp_type']))"
   ]
  },
  {
   "cell_type": "code",
   "execution_count": 32,
   "id": "6335bd1f-d9d0-4b50-a2b2-3997262525ac",
   "metadata": {},
   "outputs": [
    {
     "data": {
      "text/plain": [
       "3"
      ]
     },
     "execution_count": 32,
     "metadata": {},
     "output_type": "execute_result"
    }
   ],
   "source": [
    "len(str(df_comp['stoichiometry'][0]))"
   ]
  },
  {
   "cell_type": "code",
   "execution_count": 33,
   "id": "ef25e68b-8313-495f-a979-17a48c02c76d",
   "metadata": {},
   "outputs": [
    {
     "name": "stdout",
     "output_type": "stream",
     "text": [
      "21088\n"
     ]
    }
   ],
   "source": [
    "# strip the compositions to just the atoms\n",
    "comp_elements = defaultdict(set)\n",
    "for c in compositions:\n",
    "    orig_c = c\n",
    "    ele_in_comp = []\n",
    "    # these elements are sorted such that the double letter elements come after single letter ones\n",
    "    for e in elements:\n",
    "        if e in c:\n",
    "            ele_in_comp.append(e)\n",
    "            # make sure a single letter element doesn't also match (e.g., Si vs S)\n",
    "            c = c.replace(e,'')\n",
    "    comp_elements[tuple(sorted(ele_in_comp))].add(orig_c)\n",
    "#     print(ele_in_comp)\n",
    "#     print(orig_c)\n",
    "print(len(comp_elements))"
   ]
  },
  {
   "cell_type": "code",
   "execution_count": 37,
   "id": "501fbed0-842a-42d2-9fd5-63c1956e7b7d",
   "metadata": {},
   "outputs": [
    {
     "name": "stdout",
     "output_type": "stream",
     "text": [
      "21088 out of 25853 have a corresponding composition\n",
      "21088 nodes remaining\n"
     ]
    }
   ],
   "source": [
    "# not all of the generated compositions are valence-balanced, i.e., stoichiometric sum of oxidation states of ions equals 0.\n",
    "# Shubham already computed which combinations are valid, so limit those here\n",
    "ele_combo_with_comp = set()\n",
    "ele_combo_without_comp = set()\n",
    "for ele_combo in G.nodes():\n",
    "    if ele_combo in comp_elements:\n",
    "        ele_combo_with_comp.add(ele_combo)\n",
    "    else:\n",
    "        ele_combo_without_comp.add(ele_combo)\n",
    "            \n",
    "print(f\"{len(ele_combo_with_comp)} out of {len(G.nodes())} have a corresponding composition\")\n",
    "# delete the non-valid element combinations from the graph\n",
    "G.remove_nodes_from(ele_combo_without_comp)\n",
    "print(f\"{len(G.nodes())} nodes remaining\")"
   ]
  },
  {
   "cell_type": "code",
   "execution_count": 38,
   "id": "d3a6de15-ce30-4893-8376-a31cca762f7d",
   "metadata": {},
   "outputs": [
    {
     "name": "stdout",
     "output_type": "stream",
     "text": [
      "[29, 29, 29, 29, 29, 29, 29, 29, 29, 22, 22, 22, 22, 18, 18, 18, 18, 18, 18, 18]\n"
     ]
    }
   ],
   "source": [
    "# Step 2: For a given combination of elements, randomly select a composition from one of the valence-balanced compounds available as a lookup table\n",
    "# As a sanity check, see how many compositions there are for a given combination of elements (top 20):\n",
    "print(sorted([len(vals) for vals in comp_elements.values()], reverse=True)[:20])"
   ]
  },
  {
   "cell_type": "code",
   "execution_count": 39,
   "id": "51f30042-0911-42eb-801d-f484ef7d22b1",
   "metadata": {},
   "outputs": [
    {
     "name": "stdout",
     "output_type": "stream",
     "text": [
      "('F', 'Li', 'Sc') {'Li3Sc1F6', 'Li1Sc1F4', 'Li2Sc1F5', 'Li1Sc2F7'}\n"
     ]
    }
   ],
   "source": [
    "for eles, comps in comp_elements.items():\n",
    "    break\n",
    "print(eles, comps)"
   ]
  },
  {
   "cell_type": "code",
   "execution_count": 41,
   "id": "a7bd0ee5-3813-4469-a7cf-5b25a469c66e",
   "metadata": {},
   "outputs": [
    {
     "name": "stdout",
     "output_type": "stream",
     "text": [
      "159864 nodes, 178476 edges\n"
     ]
    }
   ],
   "source": [
    "# add the edges from the element combinations to the compositions\n",
    "for ele_combo, comps in comp_elements.items():\n",
    "    for comp in comps:\n",
    "        G.add_edge(ele_combo, comp)\n",
    "    \n",
    "print(f'{G.number_of_nodes()} nodes, {G.number_of_edges()} edges')"
   ]
  },
  {
   "cell_type": "code",
   "execution_count": 50,
   "id": "d19208d9-11ed-4245-961c-ea9e98a9f547",
   "metadata": {},
   "outputs": [
    {
     "name": "stdout",
     "output_type": "stream",
     "text": [
      "writing graph to inputs/elements_to_compositions.edgelist\n"
     ]
    }
   ],
   "source": [
    "# write this network as the action tree\n",
    "out_file = \"inputs/elements_to_compositions.edgelist\"\n",
    "print(f\"writing graph to {out_file}\")\n",
    "nx.write_edgelist(G, out_file, delimiter='\\t', data=False)"
   ]
  },
  {
   "cell_type": "code",
   "execution_count": 53,
   "id": "ee3831f0-1fc8-4996-ab63-9d7bdcd00944",
   "metadata": {},
   "outputs": [
    {
     "name": "stdout",
     "output_type": "stream",
     "text": [
      "Zn5S2N2\n",
      "_2_2_5\n"
     ]
    }
   ],
   "source": [
    "# lets select the first one as an example:\n",
    "curr_comp = next(iter(comps))\n",
    "print(comp)\n",
    "\n",
    "# get the comp_type for this comp\n",
    "curr_comp_type = comp_to_comp_type[comp]\n",
    "print(curr_comp_type)"
   ]
  },
  {
   "cell_type": "markdown",
   "id": "8d1273bb-b314-4220-bfb9-6aaf62565a4c",
   "metadata": {},
   "source": [
    "### Step 3: \n",
    "For the selected composition type, a number of prototype structures are available, which will be classified by their crystal system (e.g., cubic, hexagonal, ...). Select a crystal system.\n",
    "\n",
    "\n",
    "The crystal systems are determined by \"spacegroup numbers\", which represents symmetry of a structure. There are 230 spacegroups (1-230).\n",
    "\n",
    "Following is the classification of the 7 crystal systems by spacegroups (sg):\n",
    "1. Triclinic: sg 1-2\n",
    "2. Monoclinic: sg 3-15\n",
    "3. Orthorhombic: sg 16-74\n",
    "4. Tetragonal: 75-142\n",
    "5. Trigonal: sg 143-167\n",
    "6. Hexagonal: 168-194\n",
    "7. Cubic: sg 195-230.\n",
    "\n",
    "The spacegroup of a prototype structure is present in the structure id: sg33, sg225 etc.\n",
    "For example, spacegroup of prototype structure \"POSCAR_sg33_icsd_065132\" is 33.\n"
   ]
  },
  {
   "cell_type": "code",
   "execution_count": 54,
   "id": "7b7adcb7-d8d9-4948-8220-046ed8c0ef29",
   "metadata": {},
   "outputs": [],
   "source": [
    "crystal_systems = {'triclinic': set([1,2]),\n",
    "                   'monoclinic': set(range(3,16)),\n",
    "                   'orthorhombic': set(range(16,75)),\n",
    "                   'tetragonal': set(range(75,143)),\n",
    "                   'trigonal': set(range(143,168)),\n",
    "                   'hexagonal': set(range(168,195)),  \n",
    "                   'cubic': set(range(195,231)),\n",
    "                  }\n",
    "sg_num_to_crystal_sys = {n: crystal_sys for crystal_sys, nums in crystal_systems.items() for n in nums}"
   ]
  },
  {
   "cell_type": "code",
   "execution_count": 57,
   "id": "bc07c343-a0ff-429f-856c-b3a6333f1126",
   "metadata": {},
   "outputs": [
    {
     "name": "stdout",
     "output_type": "stream",
     "text": [
      "[('_1_3_6', {'POSCAR_sg167_icsd_423672', 'POSCAR_sg205_icsd_065968', 'POSCAR_sg203_icsd_019068', 'POSCAR_sg2_icsd_411500', 'POSCAR_sg162_icsd_062027', 'POSCAR_sg63_icsd_030712', 'POSCAR_sg182_icsd_632802', 'POSCAR_sg87_icsd_262076', 'POSCAR_sg15_icsd_409384', 'POSCAR_sg2_icsd_300275', 'POSCAR_sg14_icsd_152889', 'POSCAR_sg12_icsd_093226', 'POSCAR_sg163_icsd_154092', 'POSCAR_sg206_icsd_098672', 'POSCAR_sg88_icsd_260574', 'POSCAR_sg62_icsd_040575', 'POSCAR_sg148_icsd_026312', 'POSCAR_sg63_icsd_419133', 'POSCAR_sg1_icsd_173746', 'POSCAR_sg58_icsd_001106', 'POSCAR_sg146_icsd_240377', 'POSCAR_sg61_icsd_402279', 'POSCAR_sg14_icsd_096478', 'POSCAR_sg71_icsd_074211', 'POSCAR_sg71_icsd_089477', 'POSCAR_sg14_icsd_027070', 'POSCAR_sg9_icsd_247337', 'POSCAR_sg84_icsd_421317', 'POSCAR_sg163_icsd_062035', 'POSCAR_sg144_icsd_096753', 'POSCAR_sg163_icsd_154094', 'POSCAR_sg36_icsd_635286', 'POSCAR_sg2_icsd_063582', 'POSCAR_sg2_icsd_421175', 'POSCAR_sg152_icsd_024147', 'POSCAR_sg206_icsd_026990', 'POSCAR_sg62_icsd_002253', 'POSCAR_sg15_icsd_026403', 'POSCAR_sg18_icsd_630700', 'POSCAR_sg8_icsd_247270', 'POSCAR_sg230_icsd_030325', 'POSCAR_sg29_icsd_413903', 'POSCAR_sg57_icsd_153681', 'POSCAR_sg14_icsd_417537', 'POSCAR_sg15_icsd_020355', 'POSCAR_sg182_icsd_076073', 'POSCAR_sg148_icsd_280002', 'POSCAR_sg11_icsd_059893', 'POSCAR_sg58_icsd_249845', 'POSCAR_sg65_icsd_035337', 'POSCAR_sg33_icsd_034672', 'POSCAR_sg225_icsd_004403', 'POSCAR_sg62_icsd_068069', 'POSCAR_sg5_icsd_245897', 'POSCAR_sg58_icsd_249619', 'POSCAR_sg14_icsd_300228', 'POSCAR_sg4_icsd_020157', 'POSCAR_sg15_icsd_183804', 'POSCAR_sg140_icsd_062867', 'POSCAR_sg15_icsd_201982', 'POSCAR_sg12_icsd_089617', 'POSCAR_sg160_icsd_281587', 'POSCAR_sg148_icsd_099217', 'POSCAR_sg139_icsd_153683', 'POSCAR_sg165_icsd_415135', 'POSCAR_sg163_icsd_053533', 'POSCAR_sg73_icsd_083986', 'POSCAR_sg11_icsd_622077'}), ('_1_1_1_5', {'POSCAR_sg55_icsd_281038', 'POSCAR_sg12_icsd_081297', 'POSCAR_sg19_icsd_021012', 'POSCAR_sg176_icsd_081070', 'POSCAR_sg52_icsd_083413', 'POSCAR_sg62_icsd_413757', 'POSCAR_sg12_icsd_082262', 'POSCAR_sg62_icsd_031797', 'POSCAR_sg15_icsd_280993', 'POSCAR_sg51_icsd_079885', 'POSCAR_sg2_icsd_096819', 'POSCAR_sg2_icsd_080421', 'POSCAR_sg61_icsd_246138', 'POSCAR_sg15_icsd_036184', 'POSCAR_sg98_icsd_072875', 'POSCAR_sg144_icsd_404439', 'POSCAR_sg154_icsd_095116', 'POSCAR_sg60_icsd_063031', 'POSCAR_sg2_icsd_417874', 'POSCAR_sg57_icsd_063028', 'POSCAR_sg152_icsd_087894', 'POSCAR_sg11_icsd_281424', 'POSCAR_sg55_icsd_246075', 'POSCAR_sg31_icsd_029334', 'POSCAR_sg62_icsd_080613', 'POSCAR_sg74_icsd_074288', 'POSCAR_sg14_icsd_099001', 'POSCAR_sg122_icsd_004400', 'POSCAR_sg33_icsd_380491', 'POSCAR_sg1_icsd_060577', 'POSCAR_sg4_icsd_160167', 'POSCAR_sg62_icsd_064662', 'POSCAR_sg52_icsd_039791', 'POSCAR_sg194_icsd_015685', 'POSCAR_sg14_icsd_261286', 'POSCAR_sg11_icsd_062531', 'POSCAR_sg15_icsd_089769'})]\n"
     ]
    }
   ],
   "source": [
    "# how do I get the prototype structure?\n",
    "# Check how many prototype structures there are for each \n",
    "prototype_folder = '/projects/rlmolecule/shubham/icsd_prototypes_poscars/DB/'\n",
    "comp_prototypes = defaultdict(set)\n",
    "for comp_type in comp_types:\n",
    "    for poscar_file in glob.glob(f\"{prototype_folder}/{comp_type}/*\"):\n",
    "        file_name = os.path.basename(poscar_file)\n",
    "        comp_prototypes[comp_type].add(file_name)\n",
    "        \n",
    "print(list(comp_prototypes.items())[:2])"
   ]
  },
  {
   "cell_type": "code",
   "execution_count": 58,
   "id": "f39975b7-48d1-47ab-9bf0-63d808f1c64f",
   "metadata": {},
   "outputs": [
    {
     "name": "stdout",
     "output_type": "stream",
     "text": [
      "[418, 218, 211, 204, 194, 172, 161, 153, 138, 130, 122, 110, 107, 93, 84, 83, 80, 68, 67, 66]\n",
      "[1, 2, 2, 3, 4, 5, 5, 6, 7, 8, 8, 9, 10, 10, 11, 12, 12, 12, 15, 16]\n"
     ]
    }
   ],
   "source": [
    "# head and tail of number of prototypes available to choose from per composition type\n",
    "print(sorted([len(vals) for vals in comp_prototypes.values()], reverse=True)[:20])\n",
    "print(sorted([len(vals) for vals in comp_prototypes.values()])[:20])"
   ]
  },
  {
   "cell_type": "code",
   "execution_count": 59,
   "id": "788fe757-db1b-4042-9f74-b7de8d76c34d",
   "metadata": {},
   "outputs": [
    {
     "name": "stdout",
     "output_type": "stream",
     "text": [
      "4170\n",
      "4170 prototype files\n"
     ]
    }
   ],
   "source": [
    "# total number of prototypes for these compositions\n",
    "print(sum([len(vals) for vals in comp_prototypes.values()]))\n",
    "\n",
    "# total number of unique prototypes\n",
    "prototype_files = set(p for vals in comp_prototypes.values() for p in vals)\n",
    "print(f'{len(prototype_files)} prototype files')"
   ]
  },
  {
   "cell_type": "code",
   "execution_count": 60,
   "id": "27029328-08eb-4f12-bb82-01e1a7bf4327",
   "metadata": {},
   "outputs": [
    {
     "name": "stdout",
     "output_type": "stream",
     "text": [
      "cubic 270\n",
      "monoclinic 820\n",
      "orthorhombic 1421\n",
      "tetragonal 741\n",
      "trigonal 414\n",
      "hexagonal 351\n",
      "triclinic 153\n"
     ]
    }
   ],
   "source": [
    "# map the poscar files to their crystal system\n",
    "prototype_to_crystal_sys = {}\n",
    "for poscar_file in prototype_files:\n",
    "    sg_num = poscar_file.split('_')[1].replace('sg','')\n",
    "    system = sg_num_to_crystal_sys[int(sg_num)]\n",
    "    prototype_to_crystal_sys[poscar_file] = system\n",
    "    \n",
    "crystal_sys_prototypes = defaultdict(set)\n",
    "for p, c in prototype_to_crystal_sys.items():\n",
    "    crystal_sys_prototypes[c].add(p)\n",
    "\n",
    "for c, p in crystal_sys_prototypes.items():\n",
    "    print(c, len(p))"
   ]
  },
  {
   "cell_type": "code",
   "execution_count": 61,
   "id": "41792425-c123-4769-ae9f-d40ebb716816",
   "metadata": {},
   "outputs": [
    {
     "name": "stdout",
     "output_type": "stream",
     "text": [
      "[('POSCAR_sg199_icsd_033656', 'cubic'), ('POSCAR_sg14_icsd_262584', 'monoclinic'), ('POSCAR_sg14_icsd_107927', 'monoclinic')]\n"
     ]
    }
   ],
   "source": [
    "print(list(prototype_to_crystal_sys.items())[:3])"
   ]
  },
  {
   "cell_type": "code",
   "execution_count": 62,
   "id": "10f5fe35-cbd7-4263-be5e-86f80e997068",
   "metadata": {},
   "outputs": [
    {
     "name": "stdout",
     "output_type": "stream",
     "text": [
      "[('_1_3_6', {'orthorhombic', 'hexagonal', 'triclinic', 'trigonal', 'cubic', 'monoclinic', 'tetragonal'}), ('_1_1_1_5', {'orthorhombic', 'hexagonal', 'triclinic', 'trigonal', 'monoclinic', 'tetragonal'}), ('_1_2_2_2', {'orthorhombic', 'hexagonal', 'triclinic', 'trigonal', 'monoclinic', 'tetragonal'})]\n",
      "histogram of number of crystal structures per comp_type (out of 72 total):\n",
      "2 comp_types have 1 crystal_systems\n",
      "1 comp_types have 2 crystal_systems\n",
      "5 comp_types have 3 crystal_systems\n",
      "13 comp_types have 4 crystal_systems\n",
      "9 comp_types have 5 crystal_systems\n",
      "11 comp_types have 6 crystal_systems\n",
      "31 comp_types have 7 crystal_systems\n"
     ]
    }
   ],
   "source": [
    "# how many crystal systems are available for each comp_type?\n",
    "comp_type_to_crystal_sys = defaultdict(set)\n",
    "for comp_type, prototypes in comp_prototypes.items():\n",
    "    for p in prototypes:\n",
    "        comp_type_to_crystal_sys[comp_type].add(prototype_to_crystal_sys[p])\n",
    "print(list(comp_type_to_crystal_sys.items())[:3])\n",
    "    \n",
    "print(f\"histogram of number of crystal structures per comp_type (out of {len(comp_type_to_crystal_sys)} total):\")\n",
    "for i in range(1,8):\n",
    "    num_matching = len([x for x in comp_type_to_crystal_sys.values() if len(x) == i])\n",
    "    print(f\"{num_matching} comp_types have {i} crystal_systems\")"
   ]
  },
  {
   "cell_type": "code",
   "execution_count": 75,
   "id": "f959f66c-201c-46a1-bc92-305c590efb35",
   "metadata": {},
   "outputs": [],
   "source": [
    "G2 = G.copy()"
   ]
  },
  {
   "cell_type": "code",
   "execution_count": 76,
   "id": "06405b49-25f8-4ea8-98d0-00cf50aed730",
   "metadata": {},
   "outputs": [
    {
     "name": "stdout",
     "output_type": "stream",
     "text": [
      "805362 nodes, 823974 edges\n"
     ]
    }
   ],
   "source": [
    "# add the crystal system to the graph\n",
    "for comp in compositions:\n",
    "    comp_type = comp_to_comp_type[comp]\n",
    "    crystal_systems = comp_type_to_crystal_sys[comp_type]\n",
    "    for crystal_sys in crystal_systems:\n",
    "        G2.add_edge(comp, comp + '|' + crystal_sys)\n",
    "\n",
    "print(f'{G2.number_of_nodes()} nodes, {G2.number_of_edges()} edges')"
   ]
  },
  {
   "cell_type": "code",
   "execution_count": 73,
   "id": "e292510a-395a-41b1-b6df-9bcae08c506c",
   "metadata": {},
   "outputs": [
    {
     "name": "stdout",
     "output_type": "stream",
     "text": [
      "_2_2_5 {'orthorhombic', 'hexagonal', 'triclinic', 'trigonal', 'monoclinic', 'tetragonal'}\n",
      "orthorhombic\n"
     ]
    }
   ],
   "source": [
    "# choose a crystal system\n",
    "print(curr_comp_type, comp_type_to_crystal_sys[curr_comp_type])\n",
    "curr_crystal_sys = next(iter(comp_type_to_crystal_sys[curr_comp_type]))\n",
    "print(curr_crystal_sys)"
   ]
  },
  {
   "cell_type": "code",
   "execution_count": 74,
   "id": "971be693-06da-4723-af96-e7a728d1a37b",
   "metadata": {},
   "outputs": [
    {
     "name": "stdout",
     "output_type": "stream",
     "text": [
      "22 prototypes are orthorhombic out of 51 possible for _2_2_5:\n",
      "{'POSCAR_sg33_icsd_037173', 'POSCAR_sg58_icsd_090184', 'POSCAR_sg63_icsd_401723', 'POSCAR_sg61_icsd_067185', 'POSCAR_sg63_icsd_150370', 'POSCAR_sg60_icsd_069300', 'POSCAR_sg62_icsd_648455', 'POSCAR_sg65_icsd_023084', 'POSCAR_sg63_icsd_280533', 'POSCAR_sg62_icsd_161513', 'POSCAR_sg52_icsd_018301', 'POSCAR_sg56_icsd_026452', 'POSCAR_sg55_icsd_180494', 'POSCAR_sg63_icsd_025382', 'POSCAR_sg64_icsd_098943', 'POSCAR_sg36_icsd_001478', 'POSCAR_sg29_icsd_037334', 'POSCAR_sg55_icsd_417810', 'POSCAR_sg46_icsd_051319', 'POSCAR_sg55_icsd_414344', 'POSCAR_sg62_icsd_401724', 'POSCAR_sg37_icsd_280481'}\n",
      "POSCAR_sg33_icsd_037173\n"
     ]
    }
   ],
   "source": [
    "# now choose a prototype structure\n",
    "# for comp_type, prototypes in comp_prototypes.items():\n",
    "avail_prototypes = set()\n",
    "for p in comp_prototypes[curr_comp_type]:\n",
    "    crystal_sys = prototype_to_crystal_sys[p]\n",
    "    if crystal_sys == curr_crystal_sys:\n",
    "        avail_prototypes.add(p)\n",
    "print(f'{len(avail_prototypes)} prototypes are {curr_crystal_sys} out of {len(comp_prototypes[curr_comp_type])} possible for {curr_comp_type}:')\n",
    "print(avail_prototypes)\n",
    "curr_prototype = next(iter(avail_prototypes))\n",
    "print(curr_prototype)"
   ]
  },
  {
   "cell_type": "code",
   "execution_count": 88,
   "id": "ce9e01e5-32f2-4746-ae0d-5ed4f85af750",
   "metadata": {},
   "outputs": [
    {
     "data": {
      "application/vnd.jupyter.widget-view+json": {
       "model_id": "66df3c289046462ea2a3b0c4deedb4d7",
       "version_major": 2,
       "version_minor": 0
      },
      "text/plain": [
       "  0%|          | 0/138776 [00:00<?, ?it/s]"
      ]
     },
     "metadata": {},
     "output_type": "display_data"
    },
    {
     "name": "stdout",
     "output_type": "stream",
     "text": [
      "19081381 nodes, 19099993 edges\n"
     ]
    }
   ],
   "source": [
    "# 4. For a chosen crystal system, consider all the prototypes and construct hypothetical decorated structures.\n",
    "structures = {}\n",
    "for comp in tqdm(compositions):\n",
    "    comp_type = comp_to_comp_type[comp]\n",
    "    crystal_systems = comp_type_to_crystal_sys[comp_type]\n",
    "    \n",
    "    composition = Composition(comp)\n",
    "    # create permutations of order of elements within a composition\n",
    "    comp_permutations = list(itertools.permutations(composition.formula.split(' ')))\n",
    "\n",
    "    # second loop over all prototypes for a given composition type\n",
    "    for proto in comp_prototypes[comp_type]:\n",
    "        crystal_sys = prototype_to_crystal_sys[proto]\n",
    "#         G2.add_edge(comp, comp + '|' + crystal_sys)\n",
    "#         G2.add_edge(comp + '|' + crystal_sys, comp + '|' + proto)\n",
    "        \n",
    "        if proto in structures:\n",
    "            strc = structures[proto]\n",
    "        else:\n",
    "            fname = proto.replace('POSCAR_','')\n",
    "            strc_file = f\"{prototype_folder}/{comp_to_comp_type[comp]}/{proto}\"\n",
    "            strc = Structure.from_file(strc_file, primitive=False)\n",
    "            structures[proto] = strc\n",
    "        comp_proto = Composition(strc.formula).reduced_composition\n",
    "        proto_stoic = [int(p) for p in comp_proto.formula if p.isdigit()]\n",
    "        \n",
    "        c = 0\n",
    "        # third loop over all permutations of order of elements for a composition, created in the first loop\n",
    "        for permu in comp_permutations:\n",
    "#             strc_subs = deepcopy(strc)\n",
    "            separator = ' '\n",
    "            comp_permu = separator.join(list(permu))\n",
    "            comp_stoic = [int(p) for p in comp_permu if p.isdigit()]\n",
    "\n",
    "            # check if stoichiometric coefficients of the composition to decorate match with those of prototype structure\n",
    "            if comp_stoic == proto_stoic:\n",
    "                c += 1\n",
    "                # TODO rather than create a new structures file for every possible decoration, \n",
    "                # store them all in a single json file \n",
    "#                 # define lists of elements for elemental substitution\n",
    "#                 original_ele = ''.join(i for i in comp_proto.formula if not i.isdigit()).split(' ')\n",
    "#                 replacement_ele = ''.join(i for i in comp_permu if not i.isdigit()).split(' ')\n",
    "\n",
    "#                 # dictionary containing original elements as keys and new elements as values\n",
    "#                 replacement = {original_ele[i]: replacement_ele[i] for i in range(len(original_ele))}\n",
    "                \n",
    "#                 # 'replace_species' function from pymatgen to replace original elements with new elements\n",
    "#                 strc_subs.replace_species(replacement)\n",
    "#                 new_strc_file = 'POSCAR' + '_' + comp + '_' + fname + '_' + str(c)\n",
    "# #                 strc_subs.to(filename= dir + '/' + )\n",
    "                G2.add_edge(comp + '|' + proto, comp + '|' + proto + '|' + str(c))\n",
    "#                 print(new_strc_file)\n",
    "        \n",
    "print(f'{G2.number_of_nodes()} nodes, {G2.number_of_edges()} edges')"
   ]
  },
  {
   "cell_type": "code",
   "execution_count": 89,
   "id": "c7eaf710-88d0-419a-b261-7f1fff34587d",
   "metadata": {},
   "outputs": [
    {
     "name": "stdout",
     "output_type": "stream",
     "text": [
      "writing graph to inputs/all_actions.edgelist\n"
     ]
    }
   ],
   "source": [
    "# write this network as the action tree\n",
    "out_file = \"inputs/all_actions.edgelist\"\n",
    "print(f\"writing graph to {out_file}\")\n",
    "nx.write_edgelist(G2, out_file, delimiter='\\t', data=False)"
   ]
  },
  {
   "cell_type": "code",
   "execution_count": null,
   "id": "abef2c94-45b3-4394-9b46-99fda6b8247d",
   "metadata": {},
   "outputs": [],
   "source": [
    "# write this network as the action tree\n",
    "out_file = \"inputs/compositions_to_decorations.edgelist\"\n",
    "print(f\"writing graph to {out_file}\")\n",
    "nx.write_edgelist(G2, out_file, delimiter='\\t', data=False)"
   ]
  }
 ],
 "metadata": {
  "kernelspec": {
   "display_name": "Python 3",
   "language": "python",
   "name": "python3"
  },
  "language_info": {
   "codemirror_mode": {
    "name": "ipython",
    "version": 3
   },
   "file_extension": ".py",
   "mimetype": "text/x-python",
   "name": "python",
   "nbconvert_exporter": "python",
   "pygments_lexer": "ipython3",
   "version": "3.8.10"
  }
 },
 "nbformat": 4,
 "nbformat_minor": 5
}
