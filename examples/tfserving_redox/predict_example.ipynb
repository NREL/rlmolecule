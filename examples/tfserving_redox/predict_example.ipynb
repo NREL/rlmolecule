{
 "cells": [
  {
   "cell_type": "markdown",
   "metadata": {},
   "source": [
    "## Notebook for testing TFServing predictions (using wrapper class)"
   ]
  },
  {
   "cell_type": "code",
   "execution_count": 1,
   "metadata": {},
   "outputs": [],
   "source": [
    "import sys\n",
    "sys.path.append(\"../../rlmolecule/tfserving\")\n",
    "from tfserving_client import TFServingClient"
   ]
  },
  {
   "cell_type": "code",
   "execution_count": 2,
   "metadata": {},
   "outputs": [
    {
     "data": {
      "text/plain": [
       "0            NaN\n",
       "1            NaN\n",
       "2            NaN\n",
       "3       0.781466\n",
       "4       0.313277\n",
       "          ...   \n",
       "1275         NaN\n",
       "1276         NaN\n",
       "1277    1.416731\n",
       "1278    1.454662\n",
       "1279    1.467125\n",
       "Name: ionization energy, Length: 1280, dtype: float64"
      ]
     },
     "metadata": {},
     "output_type": "display_data"
    },
    {
     "data": {
      "text/plain": [
       "{'atom': array([2, 3, 4, 5, 5, 6, 7, 8, 8]),\n",
       " 'bond': array([2, 2, 3, 3, 4, 3, 4, 3, 3, 5, 6, 3, 3, 3, 3, 3]),\n",
       " 'connectivity': array([[0, 1],\n",
       "        [1, 0],\n",
       "        [1, 2],\n",
       "        [2, 1],\n",
       "        [2, 3],\n",
       "        [2, 6],\n",
       "        [3, 2],\n",
       "        [3, 4],\n",
       "        [4, 3],\n",
       "        [4, 5],\n",
       "        [5, 4],\n",
       "        [6, 2],\n",
       "        [6, 7],\n",
       "        [6, 8],\n",
       "        [7, 6],\n",
       "        [8, 6]])}"
      ]
     },
     "execution_count": 2,
     "metadata": {},
     "output_type": "execute_result"
    }
   ],
   "source": [
    "# Prepare dataset for testing\n",
    "\n",
    "import pandas as pd\n",
    "from rdkit import Chem\n",
    "import tensorflow as tf\n",
    "\n",
    "import sys\n",
    "sys.path.append('../../')\n",
    "# Old import: from alphazero.preprocessor import preprocessor\n",
    "from rlmolecule.molecule.policy.preprocessor import MolPreprocessor, load_preprocessor\n",
    "\n",
    "preprocessor = load_preprocessor()\n",
    "\n",
    "redox_df = pd.read_csv('/projects/rlmolecule/pstjohn/spin_gnn/redox_data.csv.gz').head(1280)\n",
    "display(redox_df[\"ionization energy\"])\n",
    "\n",
    "test_dataset = tf.data.Dataset.from_generator(\n",
    "    lambda: (preprocessor.construct_feature_matrices(Chem.MolFromSmiles(smiles), train=False) \n",
    "             for smiles in redox_df.smiles),\n",
    "output_types=preprocessor.output_types,\n",
    "output_shapes=preprocessor.output_shapes)\\\n",
    ".padded_batch(batch_size=128, padded_shapes=preprocessor.padded_shapes(),\n",
    "padding_values=preprocessor.padding_values)\n",
    "\n",
    "inputs = list(preprocessor.construct_feature_matrices(Chem.MolFromSmiles(smiles), train=False) \n",
    "              for smiles in redox_df.smiles)\n",
    "inputs[0]"
   ]
  },
  {
   "cell_type": "code",
   "execution_count": 3,
   "metadata": {},
   "outputs": [
    {
     "name": "stdout",
     "output_type": "stream",
     "text": [
      "Help on class TFServingClient in module tfserving_client:\n",
      "\n",
      "class TFServingClient(builtins.object)\n",
      " |  TFServingClient(endpoint, model_name, default_port=8500, signature_name='serving_default')\n",
      " |  \n",
      " |  This is a class for interacting with TFServing. \n",
      " |  \n",
      " |  This class allows establishing a chennel with a TFServing endpoint\n",
      " |  and using it for efficient predictions. \n",
      " |  \n",
      " |  Args:\n",
      " |      endpoint (str): TFServing's endpoint; should be in the form: '<hostname>:<port>';\n",
      " |                      if port isn't specified, default port will be used.\n",
      " |      model_name (str): Specific model being queried.\n",
      " |      default_port (int): gRPC endpoint runs on port 8500 by default.\n",
      " |      signature_name (str): optional.\n",
      " |  \n",
      " |  Methods defined here:\n",
      " |  \n",
      " |  __init__(self, endpoint, model_name, default_port=8500, signature_name='serving_default')\n",
      " |      Initialize self.  See help(type(self)) for accurate signature.\n",
      " |  \n",
      " |  predict(self, query_input, tensorize=True, timeout_s=10.0, layer_name='dense')\n",
      " |      Query tfserving endpoint with specific input.\n",
      " |      \n",
      " |      Args:\n",
      " |           query_input (str): input that will be sent to tfserving. \n",
      " |                              Assumes that input includes: 'atom', 'bond', 'connectivity'.\n",
      " |           tensorize (bool): flag for required tensorization/reshaping of components of input.\n",
      " |           timeout_s (int): request timeout in seconds.\n",
      " |           layer_name (str): name of the layer for which values will be returned.\n",
      " |  \n",
      " |  ----------------------------------------------------------------------\n",
      " |  Data descriptors defined here:\n",
      " |  \n",
      " |  __dict__\n",
      " |      dictionary for instance variables (if defined)\n",
      " |  \n",
      " |  __weakref__\n",
      " |      list of weak references to the object (if defined)\n",
      "\n"
     ]
    }
   ],
   "source": [
    "help(TFServingClient)"
   ]
  },
  {
   "cell_type": "code",
   "execution_count": 4,
   "metadata": {},
   "outputs": [],
   "source": [
    "# Establish a channel for using TFServing\n",
    "\n",
    "tfc = TFServingClient(\"r104u33\", \"reward\") # arguments: hostname for TFServing and name of model"
   ]
  },
  {
   "cell_type": "code",
   "execution_count": 5,
   "metadata": {},
   "outputs": [
    {
     "name": "stdout",
     "output_type": "stream",
     "text": [
      "dtype: DT_FLOAT\n",
      "tensor_shape {\n",
      "  dim {\n",
      "    size: 1\n",
      "  }\n",
      "  dim {\n",
      "    size: 2\n",
      "  }\n",
      "}\n",
      "float_val: 1.1218291521072388\n",
      "float_val: -0.05435870960354805\n",
      "\n"
     ]
    }
   ],
   "source": [
    "# Example of getting a single prediction from TFServing\n",
    "\n",
    "result = tfc.predict(inputs[0])\n",
    "print(result)\n",
    "\n",
    "# Expected predictions:  \n",
    "# float_val: 1.1218291521072388\n",
    "# float_val: -0.05435873568058014"
   ]
  },
  {
   "cell_type": "code",
   "execution_count": null,
   "metadata": {},
   "outputs": [],
   "source": []
  }
 ],
 "metadata": {
  "kernelspec": {
   "display_name": "Python 3",
   "language": "python",
   "name": "python3"
  },
  "language_info": {
   "codemirror_mode": {
    "name": "ipython",
    "version": 3
   },
   "file_extension": ".py",
   "mimetype": "text/x-python",
   "name": "python",
   "nbconvert_exporter": "python",
   "pygments_lexer": "ipython3",
   "version": "3.7.7"
  }
 },
 "nbformat": 4,
 "nbformat_minor": 4
}
