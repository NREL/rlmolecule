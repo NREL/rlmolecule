{
 "cells": [
  {
   "cell_type": "code",
   "execution_count": 1,
   "id": "cc41c1d3-cd8e-47cf-b35d-2122b87fe79b",
   "metadata": {},
   "outputs": [],
   "source": [
    "# modules for structure decoration\n",
    "import pandas as pd\n",
    "import os\n",
    "import itertools\n",
    "from tqdm.notebook import tqdm\n",
    "import networkx as nx\n",
    "import glob\n",
    "from glob import iglob\n",
    "from copy import deepcopy\n",
    "from collections import defaultdict\n",
    "\n",
    "from pymatgen.core import Composition, Structure\n",
    "from pymatgen.analysis import local_env"
   ]
  },
  {
   "cell_type": "code",
   "execution_count": 2,
   "id": "b630dff1-52d6-471e-9e3c-e62827dc0247",
   "metadata": {},
   "outputs": [
    {
     "name": "stderr",
     "output_type": "stream",
     "text": [
      "WARNING: pip is being invoked by an old script wrapper. This will fail in a future version of pip.\n",
      "Please see https://github.com/pypa/pip/issues/5599 for advice on fixing the underlying issue.\n",
      "To avoid this problem you can invoke Python with '-m pip' instead of running pip directly.\n"
     ]
    },
    {
     "name": "stdout",
     "output_type": "stream",
     "text": [
      "Name: pymatgen\n",
      "Version: 2022.0.8\n",
      "Summary: Python Materials Genomics is a robust materials analysis code that defines core object representations for structures and molecules with support for many electronic structure codes. It is currently the core analysis code powering the Materials Project (https://www.materialsproject.org).\n",
      "Home-page: http://www.pymatgen.org\n",
      "Author: Pymatgen Development Team\n",
      "Author-email: ongsp@eng.ucsd.edu\n",
      "License: MIT\n",
      "Location: /home/jlaw/.conda/envs/crystals/lib/python3.8/site-packages\n",
      "Requires: numpy, plotly, requests, palettable, tabulate, networkx, matplotlib, pandas, sympy, uncertainties, scipy, spglib, monty, ruamel.yaml\n",
      "Required-by: pyxtal\n"
     ]
    },
    {
     "data": {
      "text/plain": [
       "0"
      ]
     },
     "execution_count": 2,
     "metadata": {},
     "output_type": "execute_result"
    }
   ],
   "source": [
    "# print(f\"pymatgen version: {pymatgen.__version__}\")\n",
    "import pip\n",
    "pip.main([\"show\",\"pymatgen\"])"
   ]
  },
  {
   "cell_type": "code",
   "execution_count": 3,
   "id": "d34e52bb-d667-4a74-b107-cf00c99c61a9",
   "metadata": {},
   "outputs": [
    {
     "name": "stdout",
     "output_type": "stream",
     "text": [
      "['Ti', 'Hg', 'Br', 'La', 'Na', 'Cd', 'Sc', 'Li', 'Cl', 'Zr', 'Hf', 'Sn', 'Sb', 'Zn', 'Al', 'Ge', 'Mg', 'Si', 'S', 'Y', 'B', 'K', 'W', 'N', 'O', 'P', 'I', 'F']\n"
     ]
    }
   ],
   "source": [
    "# want to maximize the volume around only the conducting ions\n",
    "conducting_ions = set(['Li', 'Na', 'K', 'Mg', 'Zn'])\n",
    "anions = set(['F', 'Cl', 'Br', 'I', 'O', 'S', 'N', 'P'])\n",
    "framework_cations = set(['Sc', 'Y', 'La', 'Ti', 'Zr', 'Hf', 'W', 'Zn', 'Cd', 'Hg', 'B', 'Al', 'Si', 'Ge', 'Sn', 'P', 'Sb'])\n",
    "elements = conducting_ions | anions | framework_cations\n",
    "# sort by the length of the string, so that multiple letter elements come first\n",
    "elements = sorted(elements, key=len, reverse=True)\n",
    "print(elements)"
   ]
  },
  {
   "cell_type": "code",
   "execution_count": 5,
   "id": "3be87d65-3e35-419f-95d6-139879239d36",
   "metadata": {},
   "outputs": [
    {
     "name": "stdout",
     "output_type": "stream",
     "text": [
      "159870 nodes, 178521 edges\n",
      "16388 nodes, 16316 edges\n"
     ]
    }
   ],
   "source": [
    "G = nx.DiGraph()\n",
    "G2 = nx.DiGraph()\n",
    "\n",
    "G = nx.read_edgelist(\n",
    "    \"../../../rlmolecule/crystal/inputs/elements_to_compositions.edgelist.gz\", delimiter='\\t', data=False,\n",
    "    create_using=G,\n",
    ")\n",
    "print(f'{G.number_of_nodes()} nodes, {G.number_of_edges()} edges')\n",
    "\n",
    "G2 = nx.read_edgelist(\n",
    "    \"../../../rlmolecule/crystal/inputs/comp_type_to_decorations.edgelist.gz\", delimiter='\\t', data=False,\n",
    "    create_using=G2,\n",
    ")\n",
    "print(f'{G2.number_of_nodes()} nodes, {G2.number_of_edges()} edges')"
   ]
  },
  {
   "cell_type": "code",
   "execution_count": 6,
   "id": "cc3aa9d6-d476-465c-a03a-e30e72b0a035",
   "metadata": {},
   "outputs": [
    {
     "data": {
      "text/plain": [
       "True"
      ]
     },
     "execution_count": 6,
     "metadata": {},
     "output_type": "execute_result"
    }
   ],
   "source": [
    "G.has_node(\"root\")"
   ]
  },
  {
   "cell_type": "code",
   "execution_count": null,
   "id": "61c04e15-2f69-4579-acd9-a7ab00a3fc6a",
   "metadata": {},
   "outputs": [],
   "source": []
  },
  {
   "cell_type": "code",
   "execution_count": 8,
   "id": "9c301eeb-9dfd-4f43-ba5b-2204c687098e",
   "metadata": {},
   "outputs": [
    {
     "data": {
      "text/plain": [
       "['K3N1',\n",
       " 'K4I1N1',\n",
       " 'K5I2N1',\n",
       " 'K6I3N1',\n",
       " 'K7I1N2',\n",
       " 'K1Sb1I3N1',\n",
       " 'K2Sb1I4N1',\n",
       " 'K1Sb3I1N5',\n",
       " 'K3Sb1I2N2',\n",
       " 'K3Sb2I1N4']"
      ]
     },
     "execution_count": 8,
     "metadata": {},
     "output_type": "execute_result"
    }
   ],
   "source": [
    "# find all the compositions with only conducting ions and anions\n",
    "compositions = [n for n in G.nodes() if G.out_degree(n) == 0]\n",
    "compositions[:10]"
   ]
  },
  {
   "cell_type": "code",
   "execution_count": 14,
   "id": "f5c5033a-d0a7-4c4b-9213-4d95e4af2084",
   "metadata": {},
   "outputs": [
    {
     "data": {
      "text/plain": [
       "True"
      ]
     },
     "execution_count": 14,
     "metadata": {},
     "output_type": "execute_result"
    }
   ],
   "source": [
    "'Zn3N2' in compositions"
   ]
  },
  {
   "cell_type": "code",
   "execution_count": 15,
   "id": "ff372ab1-c0f4-499a-abf4-04b209d07818",
   "metadata": {},
   "outputs": [
    {
     "data": {
      "text/plain": [
       "True"
      ]
     },
     "execution_count": 15,
     "metadata": {},
     "output_type": "execute_result"
    }
   ],
   "source": [
    "'Zn3N2' in to_skip"
   ]
  },
  {
   "cell_type": "code",
   "execution_count": 17,
   "id": "8013ffa5-8674-4d86-b8e8-4092c1513511",
   "metadata": {},
   "outputs": [
    {
     "name": "stdout",
     "output_type": "stream",
     "text": [
      "'K1Br1', 'K1Cl1', 'K1F1', 'K1I1', 'K2Br1I1', 'K2Cl1Br1', 'K2Cl1I1', 'K2F1Br1', \n",
      "'K2F1Cl1', 'K2F1I1', 'K2O1', 'K2S1', 'K3Br1I2', 'K3Br1O1', 'K3Br1S1', 'K3Br2I1', \n",
      "'K3Cl1Br2', 'K3Cl1I2', 'K3Cl1O1', 'K3Cl1S1', 'K3Cl2Br1', 'K3Cl2I1', 'K3F1Br2', 'K3F1Cl2', \n",
      "'K3F1I2', 'K3F1O1', 'K3F1S1', 'K3F2Br1', 'K3F2Cl1', 'K3F2I1', 'K3I1O1', 'K3I1S1', \n",
      "'K3N1', 'K3P1', 'K4Br1I3', 'K4Br1N1', 'K4Br2O1', 'K4Br2S1', 'K4Br3I1', 'K4Cl1Br3', \n",
      "'K4Cl1I3', 'K4Cl1N1', 'K4Cl2O1', 'K4Cl2S1', 'K4Cl3Br1', 'K4Cl3I1', 'K4F1Br3', 'K4F1Cl3', \n",
      "'K4F1I3', 'K4F1N1', 'K4F2O1', 'K4F2S1', 'K4F3Br1', 'K4F3Cl1', 'K4F3I1', 'K4I1N1', \n",
      "'K4I2O1', 'K4I2S1', 'K4O1S1', 'K5Br1I4', 'K5Br1O2', 'K5Br1S2', 'K5Br2I3', 'K5Br2N1', \n",
      "'K5Br3I2', 'K5Br3O1', 'K5Br3S1', 'K5Br4I1', 'K5Cl1Br4', 'K5Cl1I4', 'K5Cl1O2', 'K5Cl1S2', \n",
      "'K5Cl2Br3', 'K5Cl2I3', 'K5Cl2N1', 'K5Cl3Br2', 'K5Cl3I2', 'K5Cl3O1', 'K5Cl3S1', 'K5Cl4Br1', \n",
      "'K5Cl4I1', 'K5F1Br4', 'K5F1Cl4', 'K5F1I4', 'K5F1O2', 'K5F1S2', 'K5F2Br3', 'K5F2Cl3', \n",
      "'K5F2I3', 'K5F2N1', 'K5F3Br2', 'K5F3Cl2', 'K5F3I2', 'K5F3O1', 'K5F3S1', 'K5F4Br1', \n",
      "'K5F4Cl1', 'K5F4I1', 'K5I1O2', 'K5I1S2', 'K5I2N1', 'K5I3O1', 'K5I3S1', 'K5O1N1', \n",
      "'K5S1N1', 'K6Br3N1', 'K6Cl3N1', 'K6F3N1', 'K6I3N1', 'K6O1S2', 'K6O2S1', 'K7Br1N2', \n",
      "'K7Cl1N2', 'K7F1N2', 'K7I1N2', 'K7O2N1', 'K7S2N1', 'Li1Br1', 'Li1Cl1', 'Li1F1', \n",
      "'Li1I1', 'Li2Br1I1', 'Li2Cl1Br1', 'Li2Cl1I1', 'Li2F1Br1', 'Li2F1Cl1', 'Li2F1I1', 'Li2O1', \n",
      "'Li2S1', 'Li3Br1I2', 'Li3Br1O1', 'Li3Br1S1', 'Li3Br2I1', 'Li3Cl1Br2', 'Li3Cl1I2', 'Li3Cl1O1', \n",
      "'Li3Cl1S1', 'Li3Cl2Br1', 'Li3Cl2I1', 'Li3F1Br2', 'Li3F1Cl2', 'Li3F1I2', 'Li3F1O1', 'Li3F1S1', \n",
      "'Li3F2Br1', 'Li3F2Cl1', 'Li3F2I1', 'Li3I1O1', 'Li3I1S1', 'Li3N1', 'Li3P1', 'Li4Br1I3', \n",
      "'Li4Br1N1', 'Li4Br2O1', 'Li4Br2S1', 'Li4Br3I1', 'Li4Cl1Br3', 'Li4Cl1I3', 'Li4Cl1N1', 'Li4Cl2O1', \n",
      "'Li4Cl2S1', 'Li4Cl3Br1', 'Li4Cl3I1', 'Li4F1Br3', 'Li4F1Cl3', 'Li4F1I3', 'Li4F1N1', 'Li4F2O1', \n",
      "'Li4F2S1', 'Li4F3Br1', 'Li4F3Cl1', 'Li4F3I1', 'Li4I1N1', 'Li4I2O1', 'Li4I2S1', 'Li4O1S1', \n",
      "'Li5Br1I4', 'Li5Br1O2', 'Li5Br1S2', 'Li5Br2I3', 'Li5Br2N1', 'Li5Br3I2', 'Li5Br3O1', 'Li5Br3S1', \n",
      "'Li5Br4I1', 'Li5Cl1Br4', 'Li5Cl1I4', 'Li5Cl1O2', 'Li5Cl1S2', 'Li5Cl2Br3', 'Li5Cl2I3', 'Li5Cl2N1', \n",
      "'Li5Cl3Br2', 'Li5Cl3I2', 'Li5Cl3O1', 'Li5Cl3S1', 'Li5Cl4Br1', 'Li5Cl4I1', 'Li5F1Br4', 'Li5F1Cl4', \n",
      "'Li5F1I4', 'Li5F1O2', 'Li5F1S2', 'Li5F2Br3', 'Li5F2Cl3', 'Li5F2I3', 'Li5F2N1', 'Li5F3Br2', \n",
      "'Li5F3Cl2', 'Li5F3I2', 'Li5F3O1', 'Li5F3S1', 'Li5F4Br1', 'Li5F4Cl1', 'Li5F4I1', 'Li5I1O2', \n",
      "'Li5I1S2', 'Li5I2N1', 'Li5I3O1', 'Li5I3S1', 'Li5O1N1', 'Li5S1N1', 'Li6Br3N1', 'Li6Cl3N1', \n",
      "'Li6F3N1', 'Li6I3N1', 'Li6O1S2', 'Li6O2S1', 'Li7Br1N2', 'Li7Cl1N2', 'Li7F1N2', 'Li7I1N2', \n",
      "'Li7O2N1', 'Li7S2N1', 'Mg1Br1I1', 'Mg1Br2', 'Mg1Cl1Br1', 'Mg1Cl1I1', 'Mg1Cl2', 'Mg1F1Br1', \n",
      "'Mg1F1Cl1', 'Mg1F1I1', 'Mg1F2', 'Mg1I2', 'Mg1O1', 'Mg1S1', 'Mg2Br1I3', 'Mg2Br1N1', \n",
      "'Mg2Br2O1', 'Mg2Br2S1', 'Mg2Br3I1', 'Mg2Cl1Br3', 'Mg2Cl1I3', 'Mg2Cl1N1', 'Mg2Cl2O1', 'Mg2Cl2S1', \n",
      "'Mg2Cl3Br1', 'Mg2Cl3I1', 'Mg2F1Br3', 'Mg2F1Cl3', 'Mg2F1I3', 'Mg2F1N1', 'Mg2F2O1', 'Mg2F2S1', \n",
      "'Mg2F3Br1', 'Mg2F3Cl1', 'Mg2F3I1', 'Mg2I1N1', 'Mg2I2O1', 'Mg2I2S1', 'Mg2O1S1', 'Mg3Br1I5', \n",
      "'Mg3Br2I4', 'Mg3Br2O2', 'Mg3Br2S2', 'Mg3Br3N1', 'Mg3Br4I2', 'Mg3Br4O1', 'Mg3Br4S1', 'Mg3Br5I1', \n",
      "'Mg3Cl1Br5', 'Mg3Cl1I5', 'Mg3Cl2Br4', 'Mg3Cl2I4', 'Mg3Cl2O2', 'Mg3Cl2S2', 'Mg3Cl3N1', 'Mg3Cl4Br2', \n",
      "'Mg3Cl4I2', 'Mg3Cl4O1', 'Mg3Cl4S1', 'Mg3Cl5Br1', 'Mg3Cl5I1', 'Mg3F1Br5', 'Mg3F1Cl5', 'Mg3F1I5', \n",
      "'Mg3F2Br4', 'Mg3F2Cl4', 'Mg3F2I4', 'Mg3F2O2', 'Mg3F2S2', 'Mg3F3N1', 'Mg3F4Br2', 'Mg3F4Cl2', \n",
      "'Mg3F4I2', 'Mg3F4O1', 'Mg3F4S1', 'Mg3F5Br1', 'Mg3F5Cl1', 'Mg3F5I1', 'Mg3I2O2', 'Mg3I2S2', \n",
      "'Mg3I3N1', 'Mg3I4O1', 'Mg3I4S1', 'Mg3N2', 'Mg3O1S2', 'Mg3O2S1', 'Mg3P2', 'Mg4Br2O3', \n",
      "'Mg4Br2S3', 'Mg4Br5N1', 'Mg4Cl2O3', 'Mg4Cl2S3', 'Mg4Cl5N1', 'Mg4F2O3', 'Mg4F2S3', 'Mg4F5N1', \n",
      "'Mg4I2O3', 'Mg4I2S3', 'Mg4I5N1', 'Mg4O1N2', 'Mg4O1S3', 'Mg4O3S1', 'Mg4S1N2', 'Mg5Br1N3', \n",
      "'Mg5Cl1N3', 'Mg5F1N3', 'Mg5I1N3', 'Mg5O1S4', 'Mg5O2N2', 'Mg5O2S3', 'Mg5O3S2', 'Mg5O4S1', \n",
      "'Mg5S2N2', 'Na1Br1', 'Na1Cl1', 'Na1F1', 'Na1I1', 'Na2Br1I1', 'Na2Cl1Br1', 'Na2Cl1I1', \n",
      "'Na2F1Br1', 'Na2F1Cl1', 'Na2F1I1', 'Na2O1', 'Na2S1', 'Na3Br1I2', 'Na3Br1O1', 'Na3Br1S1', \n",
      "'Na3Br2I1', 'Na3Cl1Br2', 'Na3Cl1I2', 'Na3Cl1O1', 'Na3Cl1S1', 'Na3Cl2Br1', 'Na3Cl2I1', 'Na3F1Br2', \n",
      "'Na3F1Cl2', 'Na3F1I2', 'Na3F1O1', 'Na3F1S1', 'Na3F2Br1', 'Na3F2Cl1', 'Na3F2I1', 'Na3I1O1', \n",
      "'Na3I1S1', 'Na3N1', 'Na3P1', 'Na4Br1I3', 'Na4Br1N1', 'Na4Br2O1', 'Na4Br2S1', 'Na4Br3I1', \n",
      "'Na4Cl1Br3', 'Na4Cl1I3', 'Na4Cl1N1', 'Na4Cl2O1', 'Na4Cl2S1', 'Na4Cl3Br1', 'Na4Cl3I1', 'Na4F1Br3', \n",
      "'Na4F1Cl3', 'Na4F1I3', 'Na4F1N1', 'Na4F2O1', 'Na4F2S1', 'Na4F3Br1', 'Na4F3Cl1', 'Na4F3I1', \n",
      "'Na4I1N1', 'Na4I2O1', 'Na4I2S1', 'Na4O1S1', 'Na5Br1I4', 'Na5Br1O2', 'Na5Br1S2', 'Na5Br2I3', \n",
      "'Na5Br2N1', 'Na5Br3I2', 'Na5Br3O1', 'Na5Br3S1', 'Na5Br4I1', 'Na5Cl1Br4', 'Na5Cl1I4', 'Na5Cl1O2', \n",
      "'Na5Cl1S2', 'Na5Cl2Br3', 'Na5Cl2I3', 'Na5Cl2N1', 'Na5Cl3Br2', 'Na5Cl3I2', 'Na5Cl3O1', 'Na5Cl3S1', \n",
      "'Na5Cl4Br1', 'Na5Cl4I1', 'Na5F1Br4', 'Na5F1Cl4', 'Na5F1I4', 'Na5F1O2', 'Na5F1S2', 'Na5F2Br3', \n",
      "'Na5F2Cl3', 'Na5F2I3', 'Na5F2N1', 'Na5F3Br2', 'Na5F3Cl2', 'Na5F3I2', 'Na5F3O1', 'Na5F3S1', \n",
      "'Na5F4Br1', 'Na5F4Cl1', 'Na5F4I1', 'Na5I1O2', 'Na5I1S2', 'Na5I2N1', 'Na5I3O1', 'Na5I3S1', \n",
      "'Na5O1N1', 'Na5S1N1', 'Na6Br3N1', 'Na6Cl3N1', 'Na6F3N1', 'Na6I3N1', 'Na6O1S2', 'Na6O2S1', \n",
      "'Na7Br1N2', 'Na7Cl1N2', 'Na7F1N2', 'Na7I1N2', 'Na7O2N1', 'Na7S2N1', 'Zn1Br2', 'Zn1Cl2', \n",
      "['Zn1F2', 'Zn1I2', 'Zn1O1', 'Zn1S1', 'Zn3N2', 'Zn3P2']\n"
     ]
    }
   ],
   "source": [
    "# we want at least 1 anion and 1 framework cation\n",
    "import sys\n",
    "sys.path.append('../../../')\n",
    "from rlmolecule.crystal.crystal_state import CrystalState\n",
    "to_skip = set()\n",
    "for c in compositions:\n",
    "    eles = CrystalState.get_eles_from_comp(c)\n",
    "    if len(framework_cations & set(eles)) == 0 or len(eles) == 2:\n",
    "        to_skip.add(c)\n",
    "to_skip = sorted(to_skip)\n",
    "out = []\n",
    "for i in range(0, len(to_skip)-8, 8):\n",
    "    print(\"'\" + \"', '\".join(to_skip[i:i+8]) + \"', \")\n",
    "print(to_skip[i+8:])\n",
    "# print(to_skip)"
   ]
  },
  {
   "cell_type": "code",
   "execution_count": 18,
   "id": "4fe24cc9-65e3-42dd-bb4a-12b978f07436",
   "metadata": {},
   "outputs": [
    {
     "name": "stdout",
     "output_type": "stream",
     "text": [
      "138306\n"
     ]
    }
   ],
   "source": [
    "to_keep = set(compositions) - set(to_skip)\n",
    "print(len(to_keep))"
   ]
  },
  {
   "cell_type": "code",
   "execution_count": 21,
   "id": "18eece05-dbc0-4bc6-a25c-181ffb78672f",
   "metadata": {},
   "outputs": [],
   "source": [
    "to_skip = set(to_skip)"
   ]
  },
  {
   "cell_type": "code",
   "execution_count": 20,
   "id": "3813861a-8af3-46d9-8aa9-cd3c6bc74376",
   "metadata": {},
   "outputs": [
    {
     "data": {
      "text/html": [
       "<div>\n",
       "<style scoped>\n",
       "    .dataframe tbody tr th:only-of-type {\n",
       "        vertical-align: middle;\n",
       "    }\n",
       "\n",
       "    .dataframe tbody tr th {\n",
       "        vertical-align: top;\n",
       "    }\n",
       "\n",
       "    .dataframe thead th {\n",
       "        text-align: right;\n",
       "    }\n",
       "</style>\n",
       "<table border=\"1\" class=\"dataframe\">\n",
       "  <thead>\n",
       "    <tr style=\"text-align: right;\">\n",
       "      <th></th>\n",
       "      <th>state</th>\n",
       "      <th>cond_ion_vol</th>\n",
       "      <th>total_vol</th>\n",
       "      <th>fraction</th>\n",
       "      <th>time_taken</th>\n",
       "    </tr>\n",
       "  </thead>\n",
       "  <tbody>\n",
       "    <tr>\n",
       "      <th>0</th>\n",
       "      <td>K1Cl1|_1_1|orthorhombic|POSCAR_sg38_icsd_183254|1</td>\n",
       "      <td>206.0859</td>\n",
       "      <td>388.1016</td>\n",
       "      <td>0.5310</td>\n",
       "      <td>0.1400</td>\n",
       "    </tr>\n",
       "    <tr>\n",
       "      <th>1</th>\n",
       "      <td>K1Cl1|_1_1|orthorhombic|POSCAR_sg38_icsd_183254|2</td>\n",
       "      <td>182.0157</td>\n",
       "      <td>388.1016</td>\n",
       "      <td>0.4690</td>\n",
       "      <td>0.1395</td>\n",
       "    </tr>\n",
       "    <tr>\n",
       "      <th>2</th>\n",
       "      <td>K1Cl1|_1_1|orthorhombic|POSCAR_sg25_icsd_043951|1</td>\n",
       "      <td>15.6924</td>\n",
       "      <td>31.3847</td>\n",
       "      <td>0.5000</td>\n",
       "      <td>0.0347</td>\n",
       "    </tr>\n",
       "    <tr>\n",
       "      <th>3</th>\n",
       "      <td>K1Cl1|_1_1|orthorhombic|POSCAR_sg25_icsd_043951|2</td>\n",
       "      <td>15.6924</td>\n",
       "      <td>31.3847</td>\n",
       "      <td>0.5000</td>\n",
       "      <td>0.0347</td>\n",
       "    </tr>\n",
       "    <tr>\n",
       "      <th>4</th>\n",
       "      <td>K1Cl1|_1_1|orthorhombic|POSCAR_sg39_icsd_068701|1</td>\n",
       "      <td>259.5733</td>\n",
       "      <td>402.7998</td>\n",
       "      <td>0.6444</td>\n",
       "      <td>0.0541</td>\n",
       "    </tr>\n",
       "  </tbody>\n",
       "</table>\n",
       "</div>"
      ],
      "text/plain": [
       "                                               state  cond_ion_vol  total_vol  \\\n",
       "0  K1Cl1|_1_1|orthorhombic|POSCAR_sg38_icsd_183254|1      206.0859   388.1016   \n",
       "1  K1Cl1|_1_1|orthorhombic|POSCAR_sg38_icsd_183254|2      182.0157   388.1016   \n",
       "2  K1Cl1|_1_1|orthorhombic|POSCAR_sg25_icsd_043951|1       15.6924    31.3847   \n",
       "3  K1Cl1|_1_1|orthorhombic|POSCAR_sg25_icsd_043951|2       15.6924    31.3847   \n",
       "4  K1Cl1|_1_1|orthorhombic|POSCAR_sg39_icsd_068701|1      259.5733   402.7998   \n",
       "\n",
       "   fraction  time_taken  \n",
       "0    0.5310      0.1400  \n",
       "1    0.4690      0.1395  \n",
       "2    0.5000      0.0347  \n",
       "3    0.5000      0.0347  \n",
       "4    0.6444      0.0541  "
      ]
     },
     "execution_count": 20,
     "metadata": {},
     "output_type": "execute_result"
    }
   ],
   "source": [
    "vol_stats_file = \"/home/jlaw/projects/arpa-e/crystals/rlmolecule/examples/crystal_volume/outputs/2021-07-16-all-decoration-vol-stats.tsv.gz\"\n",
    "df = pd.read_csv(vol_stats_file, sep='\\t', names=[\"state\", \"cond_ion_vol\", \"total_vol\", \"fraction\", \"time_taken\"])\n",
    "df.head()"
   ]
  },
  {
   "cell_type": "code",
   "execution_count": 22,
   "id": "b66afbca-e920-4ddf-a8c1-ba8f712eb786",
   "metadata": {},
   "outputs": [
    {
     "name": "stdout",
     "output_type": "stream",
     "text": [
      "15443011 states_to_keep\n"
     ]
    }
   ],
   "source": [
    "states_to_keep = set([s for s in df['state'] if s.split('|')[0] not in to_skip])\n",
    "print(f\"{len(states_to_keep)} states_to_keep\")"
   ]
  },
  {
   "cell_type": "code",
   "execution_count": 23,
   "id": "5c5c75f2-6e3d-4cf0-858f-8224b968cd1a",
   "metadata": {},
   "outputs": [
    {
     "name": "stdout",
     "output_type": "stream",
     "text": [
      "0.9349\n"
     ]
    }
   ],
   "source": [
    "df = df[df['state'].isin(states_to_keep)]\n",
    "print(df['fraction'].max())"
   ]
  },
  {
   "cell_type": "code",
   "execution_count": 46,
   "id": "55b1fa17-3417-49fb-9ce7-ef238e5ded4d",
   "metadata": {},
   "outputs": [
    {
     "name": "stdout",
     "output_type": "stream",
     "text": [
      "94\n"
     ]
    },
    {
     "data": {
      "text/html": [
       "<div>\n",
       "<style scoped>\n",
       "    .dataframe tbody tr th:only-of-type {\n",
       "        vertical-align: middle;\n",
       "    }\n",
       "\n",
       "    .dataframe tbody tr th {\n",
       "        vertical-align: top;\n",
       "    }\n",
       "\n",
       "    .dataframe thead th {\n",
       "        text-align: right;\n",
       "    }\n",
       "</style>\n",
       "<table border=\"1\" class=\"dataframe\">\n",
       "  <thead>\n",
       "    <tr style=\"text-align: right;\">\n",
       "      <th></th>\n",
       "      <th>state</th>\n",
       "      <th>cond_ion_vol</th>\n",
       "      <th>total_vol</th>\n",
       "      <th>fraction</th>\n",
       "      <th>time_taken</th>\n",
       "    </tr>\n",
       "  </thead>\n",
       "  <tbody>\n",
       "    <tr>\n",
       "      <th>500478</th>\n",
       "      <td>K2Sb1Cl7|_1_2_7|triclinic|POSCAR_sg1_icsd_1656...</td>\n",
       "      <td>608.8572</td>\n",
       "      <td>677.0664</td>\n",
       "      <td>0.8993</td>\n",
       "      <td>0.4144</td>\n",
       "    </tr>\n",
       "    <tr>\n",
       "      <th>507031</th>\n",
       "      <td>K2P1Cl7|_1_2_7|triclinic|POSCAR_sg1_icsd_165648|1</td>\n",
       "      <td>608.8572</td>\n",
       "      <td>677.0664</td>\n",
       "      <td>0.8993</td>\n",
       "      <td>0.4144</td>\n",
       "    </tr>\n",
       "    <tr>\n",
       "      <th>884558</th>\n",
       "      <td>K2P1F7|_1_2_7|triclinic|POSCAR_sg1_icsd_165648|1</td>\n",
       "      <td>608.8572</td>\n",
       "      <td>677.0664</td>\n",
       "      <td>0.8993</td>\n",
       "      <td>0.4144</td>\n",
       "    </tr>\n",
       "    <tr>\n",
       "      <th>1006822</th>\n",
       "      <td>K6N1P1|_1_1_6|orthorhombic|POSCAR_sg31_icsd_16...</td>\n",
       "      <td>119.4126</td>\n",
       "      <td>131.4577</td>\n",
       "      <td>0.9084</td>\n",
       "      <td>0.2785</td>\n",
       "    </tr>\n",
       "    <tr>\n",
       "      <th>1006823</th>\n",
       "      <td>K6N1P1|_1_1_6|orthorhombic|POSCAR_sg31_icsd_16...</td>\n",
       "      <td>119.4126</td>\n",
       "      <td>131.4577</td>\n",
       "      <td>0.9084</td>\n",
       "      <td>0.2785</td>\n",
       "    </tr>\n",
       "  </tbody>\n",
       "</table>\n",
       "</div>"
      ],
      "text/plain": [
       "                                                     state  cond_ion_vol  \\\n",
       "500478   K2Sb1Cl7|_1_2_7|triclinic|POSCAR_sg1_icsd_1656...      608.8572   \n",
       "507031   K2P1Cl7|_1_2_7|triclinic|POSCAR_sg1_icsd_165648|1      608.8572   \n",
       "884558    K2P1F7|_1_2_7|triclinic|POSCAR_sg1_icsd_165648|1      608.8572   \n",
       "1006822  K6N1P1|_1_1_6|orthorhombic|POSCAR_sg31_icsd_16...      119.4126   \n",
       "1006823  K6N1P1|_1_1_6|orthorhombic|POSCAR_sg31_icsd_16...      119.4126   \n",
       "\n",
       "         total_vol  fraction  time_taken  \n",
       "500478    677.0664    0.8993      0.4144  \n",
       "507031    677.0664    0.8993      0.4144  \n",
       "884558    677.0664    0.8993      0.4144  \n",
       "1006822   131.4577    0.9084      0.2785  \n",
       "1006823   131.4577    0.9084      0.2785  "
      ]
     },
     "execution_count": 46,
     "metadata": {},
     "output_type": "execute_result"
    }
   ],
   "source": [
    "df_top = df[df['fraction'] > 0.89]\n",
    "print(len(df_top))\n",
    "df_top.head()"
   ]
  },
  {
   "cell_type": "code",
   "execution_count": 40,
   "id": "2023bc6d-23ae-4421-8ed2-a700692eefb6",
   "metadata": {},
   "outputs": [
    {
     "name": "stdout",
     "output_type": "stream",
     "text": [
      "[[6.0885720e+02 6.7706640e+02 8.9930000e-01]\n",
      " [6.0885720e+02 6.7706640e+02 8.9930000e-01]\n",
      " [6.0885720e+02 6.7706640e+02 8.9930000e-01]\n",
      " [1.1941260e+02 1.3145770e+02 9.0840000e-01]\n",
      " [1.1941260e+02 1.3145770e+02 9.0840000e-01]\n",
      " [6.0885720e+02 6.7706640e+02 8.9930000e-01]\n",
      " [6.0885720e+02 6.7706640e+02 8.9930000e-01]\n",
      " [6.0885720e+02 6.7706640e+02 8.9930000e-01]\n",
      " [6.0885720e+02 6.7706640e+02 8.9930000e-01]\n",
      " [6.0885720e+02 6.7706640e+02 8.9930000e-01]\n",
      " [6.0885720e+02 6.7706640e+02 8.9930000e-01]\n",
      " [6.0885720e+02 6.7706640e+02 8.9930000e-01]\n",
      " [6.0885720e+02 6.7706640e+02 8.9930000e-01]\n",
      " [6.0885720e+02 6.7706640e+02 8.9930000e-01]\n",
      " [6.0885720e+02 6.7706640e+02 8.9930000e-01]\n",
      " [1.0667877e+03 1.1823781e+03 9.0220000e-01]\n",
      " [9.9618570e+02 1.1150266e+03 8.9340000e-01]\n",
      " [5.7318000e+02 6.1307190e+02 9.3490000e-01]\n",
      " [6.0885720e+02 6.7706640e+02 8.9930000e-01]\n",
      " [6.0885720e+02 6.7706640e+02 8.9930000e-01]\n",
      " [6.0885720e+02 6.7706640e+02 8.9930000e-01]\n",
      " [6.0885720e+02 6.7706640e+02 8.9930000e-01]\n",
      " [1.0667877e+03 1.1823781e+03 9.0220000e-01]\n",
      " [9.9618570e+02 1.1150266e+03 8.9340000e-01]\n",
      " [5.7318000e+02 6.1307190e+02 9.3490000e-01]\n",
      " [6.0885720e+02 6.7706640e+02 8.9930000e-01]\n",
      " [6.0885720e+02 6.7706640e+02 8.9930000e-01]\n",
      " [6.0885720e+02 6.7706640e+02 8.9930000e-01]\n",
      " [6.0885720e+02 6.7706640e+02 8.9930000e-01]\n",
      " [6.0885720e+02 6.7706640e+02 8.9930000e-01]\n",
      " [6.0885720e+02 6.7706640e+02 8.9930000e-01]\n",
      " [1.0667877e+03 1.1823781e+03 9.0220000e-01]\n",
      " [9.9618570e+02 1.1150266e+03 8.9340000e-01]\n",
      " [5.7318000e+02 6.1307190e+02 9.3490000e-01]\n",
      " [6.0885720e+02 6.7706640e+02 8.9930000e-01]\n",
      " [6.0885720e+02 6.7706640e+02 8.9930000e-01]\n",
      " [6.0885720e+02 6.7706640e+02 8.9930000e-01]\n",
      " [6.0885720e+02 6.7706640e+02 8.9930000e-01]\n",
      " [6.0885720e+02 6.7706640e+02 8.9930000e-01]\n",
      " [1.0667877e+03 1.1823781e+03 9.0220000e-01]\n",
      " [9.9618570e+02 1.1150266e+03 8.9340000e-01]\n",
      " [5.7318000e+02 6.1307190e+02 9.3490000e-01]\n",
      " [6.0885720e+02 6.7706640e+02 8.9930000e-01]\n",
      " [6.0885720e+02 6.7706640e+02 8.9930000e-01]\n",
      " [6.0885720e+02 6.7706640e+02 8.9930000e-01]\n",
      " [6.0885720e+02 6.7706640e+02 8.9930000e-01]\n",
      " [1.1941260e+02 1.3145770e+02 9.0840000e-01]\n",
      " [1.1941260e+02 1.3145770e+02 9.0840000e-01]\n",
      " [6.0885720e+02 6.7706640e+02 8.9930000e-01]\n",
      " [6.0885720e+02 6.7706640e+02 8.9930000e-01]\n",
      " [6.0885720e+02 6.7706640e+02 8.9930000e-01]\n",
      " [6.0885720e+02 6.7706640e+02 8.9930000e-01]\n",
      " [6.0885720e+02 6.7706640e+02 8.9930000e-01]\n",
      " [1.0667877e+03 1.1823781e+03 9.0220000e-01]\n",
      " [9.9618570e+02 1.1150266e+03 8.9340000e-01]\n",
      " [5.7318000e+02 6.1307190e+02 9.3490000e-01]\n",
      " [6.0885720e+02 6.7706640e+02 8.9930000e-01]\n",
      " [6.0885720e+02 6.7706640e+02 8.9930000e-01]\n",
      " [6.0885720e+02 6.7706640e+02 8.9930000e-01]\n",
      " [6.0885720e+02 6.7706640e+02 8.9930000e-01]\n",
      " [1.0667877e+03 1.1823781e+03 9.0220000e-01]\n",
      " [9.9618570e+02 1.1150266e+03 8.9340000e-01]\n",
      " [5.7318000e+02 6.1307190e+02 9.3490000e-01]\n",
      " [6.0885720e+02 6.7706640e+02 8.9930000e-01]\n",
      " [6.0885720e+02 6.7706640e+02 8.9930000e-01]\n",
      " [6.0885720e+02 6.7706640e+02 8.9930000e-01]\n",
      " [6.0885720e+02 6.7706640e+02 8.9930000e-01]\n",
      " [6.0885720e+02 6.7706640e+02 8.9930000e-01]\n",
      " [1.0667877e+03 1.1823781e+03 9.0220000e-01]\n",
      " [9.9618570e+02 1.1150266e+03 8.9340000e-01]\n",
      " [5.7318000e+02 6.1307190e+02 9.3490000e-01]\n",
      " [6.0885720e+02 6.7706640e+02 8.9930000e-01]\n",
      " [6.0885720e+02 6.7706640e+02 8.9930000e-01]\n",
      " [6.0885720e+02 6.7706640e+02 8.9930000e-01]\n",
      " [6.0885720e+02 6.7706640e+02 8.9930000e-01]\n",
      " [6.0885720e+02 6.7706640e+02 8.9930000e-01]\n",
      " [6.0885720e+02 6.7706640e+02 8.9930000e-01]\n",
      " [6.0885720e+02 6.7706640e+02 8.9930000e-01]\n",
      " [1.0667877e+03 1.1823781e+03 9.0220000e-01]\n",
      " [9.9618570e+02 1.1150266e+03 8.9340000e-01]\n",
      " [5.7318000e+02 6.1307190e+02 9.3490000e-01]\n",
      " [6.0885720e+02 6.7706640e+02 8.9930000e-01]\n",
      " [6.0885720e+02 6.7706640e+02 8.9930000e-01]\n",
      " [6.0885720e+02 6.7706640e+02 8.9930000e-01]\n",
      " [6.0885720e+02 6.7706640e+02 8.9930000e-01]\n",
      " [6.0885720e+02 6.7706640e+02 8.9930000e-01]\n",
      " [1.1941260e+02 1.3145770e+02 9.0840000e-01]\n",
      " [1.1941260e+02 1.3145770e+02 9.0840000e-01]\n",
      " [6.0885720e+02 6.7706640e+02 8.9930000e-01]\n",
      " [6.0885720e+02 6.7706640e+02 8.9930000e-01]\n",
      " [6.0885720e+02 6.7706640e+02 8.9930000e-01]\n",
      " [6.0885720e+02 6.7706640e+02 8.9930000e-01]\n",
      " [6.0885720e+02 6.7706640e+02 8.9930000e-01]\n",
      " [6.0885720e+02 6.7706640e+02 8.9930000e-01]]\n"
     ]
    }
   ],
   "source": [
    "print(df_top[['cond_ion_vol', 'total_vol', 'fraction']].values)"
   ]
  },
  {
   "cell_type": "code",
   "execution_count": 34,
   "id": "4025be72-7b70-4f29-ba08-3fd2c839a0c3",
   "metadata": {},
   "outputs": [],
   "source": [
    "import numpy as np"
   ]
  },
  {
   "cell_type": "code",
   "execution_count": 36,
   "id": "6e47790f-d6af-4677-8bf2-84af2ff27811",
   "metadata": {},
   "outputs": [
    {
     "name": "stdout",
     "output_type": "stream",
     "text": [
      "POSCAR_sg1_icsd_165648\n",
      "POSCAR_sg1_icsd_165648\n",
      "POSCAR_sg1_icsd_165648\n",
      "POSCAR_sg31_icsd_161309\n",
      "POSCAR_sg31_icsd_161309\n",
      "POSCAR_sg1_icsd_165648\n",
      "POSCAR_sg1_icsd_165648\n",
      "POSCAR_sg1_icsd_165648\n",
      "POSCAR_sg1_icsd_165648\n",
      "POSCAR_sg1_icsd_165648\n",
      "POSCAR_sg1_icsd_165648\n",
      "POSCAR_sg1_icsd_165648\n",
      "POSCAR_sg1_icsd_165648\n",
      "POSCAR_sg1_icsd_165648\n",
      "POSCAR_sg1_icsd_165648\n",
      "POSCAR_sg57_icsd_022232\n",
      "POSCAR_sg63_icsd_062029\n",
      "POSCAR_sg113_icsd_063311\n",
      "POSCAR_sg1_icsd_165648\n",
      "POSCAR_sg1_icsd_165648\n",
      "POSCAR_sg1_icsd_165648\n",
      "POSCAR_sg1_icsd_165648\n",
      "POSCAR_sg57_icsd_022232\n",
      "POSCAR_sg63_icsd_062029\n",
      "POSCAR_sg113_icsd_063311\n",
      "POSCAR_sg1_icsd_165648\n",
      "POSCAR_sg1_icsd_165648\n",
      "POSCAR_sg1_icsd_165648\n",
      "POSCAR_sg1_icsd_165648\n",
      "POSCAR_sg1_icsd_165648\n",
      "POSCAR_sg1_icsd_165648\n",
      "POSCAR_sg57_icsd_022232\n",
      "POSCAR_sg63_icsd_062029\n",
      "POSCAR_sg113_icsd_063311\n",
      "POSCAR_sg1_icsd_165648\n",
      "POSCAR_sg1_icsd_165648\n",
      "POSCAR_sg1_icsd_165648\n",
      "POSCAR_sg1_icsd_165648\n",
      "POSCAR_sg1_icsd_165648\n",
      "POSCAR_sg57_icsd_022232\n",
      "POSCAR_sg63_icsd_062029\n",
      "POSCAR_sg113_icsd_063311\n",
      "POSCAR_sg1_icsd_165648\n",
      "POSCAR_sg1_icsd_165648\n",
      "POSCAR_sg1_icsd_165648\n",
      "POSCAR_sg1_icsd_165648\n",
      "POSCAR_sg31_icsd_161309\n",
      "POSCAR_sg31_icsd_161309\n",
      "POSCAR_sg1_icsd_165648\n",
      "POSCAR_sg1_icsd_165648\n",
      "POSCAR_sg1_icsd_165648\n",
      "POSCAR_sg1_icsd_165648\n",
      "POSCAR_sg1_icsd_165648\n",
      "POSCAR_sg57_icsd_022232\n",
      "POSCAR_sg63_icsd_062029\n",
      "POSCAR_sg113_icsd_063311\n",
      "POSCAR_sg1_icsd_165648\n",
      "POSCAR_sg1_icsd_165648\n",
      "POSCAR_sg1_icsd_165648\n",
      "POSCAR_sg1_icsd_165648\n",
      "POSCAR_sg57_icsd_022232\n",
      "POSCAR_sg63_icsd_062029\n",
      "POSCAR_sg113_icsd_063311\n",
      "POSCAR_sg1_icsd_165648\n",
      "POSCAR_sg1_icsd_165648\n",
      "POSCAR_sg1_icsd_165648\n",
      "POSCAR_sg1_icsd_165648\n",
      "POSCAR_sg1_icsd_165648\n",
      "POSCAR_sg57_icsd_022232\n",
      "POSCAR_sg63_icsd_062029\n",
      "POSCAR_sg113_icsd_063311\n",
      "POSCAR_sg1_icsd_165648\n",
      "POSCAR_sg1_icsd_165648\n",
      "POSCAR_sg1_icsd_165648\n",
      "POSCAR_sg1_icsd_165648\n",
      "POSCAR_sg1_icsd_165648\n",
      "POSCAR_sg1_icsd_165648\n",
      "POSCAR_sg1_icsd_165648\n",
      "POSCAR_sg57_icsd_022232\n",
      "POSCAR_sg63_icsd_062029\n",
      "POSCAR_sg113_icsd_063311\n",
      "POSCAR_sg1_icsd_165648\n",
      "POSCAR_sg1_icsd_165648\n",
      "POSCAR_sg1_icsd_165648\n",
      "POSCAR_sg1_icsd_165648\n",
      "POSCAR_sg1_icsd_165648\n",
      "POSCAR_sg31_icsd_161309\n",
      "POSCAR_sg31_icsd_161309\n",
      "POSCAR_sg1_icsd_165648\n",
      "POSCAR_sg1_icsd_165648\n",
      "POSCAR_sg1_icsd_165648\n",
      "POSCAR_sg1_icsd_165648\n",
      "POSCAR_sg1_icsd_165648\n",
      "POSCAR_sg1_icsd_165648\n"
     ]
    }
   ],
   "source": [
    "icsd_structures = np.asarray([x.split('|')[-2] for x in df_top['state'].values])\n",
    "for s in icsd_structures:\n",
    "    print(s)"
   ]
  },
  {
   "cell_type": "code",
   "execution_count": 43,
   "id": "10c5e893-4fba-4dd7-bb4c-a317a42e86eb",
   "metadata": {},
   "outputs": [
    {
     "name": "stdout",
     "output_type": "stream",
     "text": [
      "reading ../../rlmolecule/crystal/inputs/icsd_prototypes.json.gz\n",
      "\t4170 structures read\n"
     ]
    }
   ],
   "source": [
    "os.chdir('../')\n",
    "sys.path.append('../../')\n",
    "from examples.crystal_volume import optimize_crystal_volume as ocv\n",
    "from rlmolecule.crystal.crystal_state import CrystalState\n",
    "from tqdm.notebook import tqdm"
   ]
  },
  {
   "cell_type": "code",
   "execution_count": 44,
   "id": "5c637760-a717-49a1-a1d4-ff8a5dadf671",
   "metadata": {},
   "outputs": [],
   "source": [
    "def write_decorated_structure(decorated_str, out_dir):\n",
    "    # Now create the decoration of this composition onto this prototype structure\n",
    "    # the 'action_node' string has the following format at this point:\n",
    "    # comp_type|prototype_structure|decoration_idx\n",
    "    # we just need 'comp_type|prototype_structure' to get the icsd structure\n",
    "    composition = decorated_str.split('|')[0]\n",
    "    structure_key = '|'.join(decorated_str.split('|')[1:-1])\n",
    "    icsd_prototype = ocv.structures[structure_key]\n",
    "    decoration_idx = int(decorated_str.split('|')[-1]) - 1\n",
    "    print(decorated_str, composition, structure_key)\n",
    "    try:\n",
    "        decorated_structure, comp = CrystalState.decorate_prototype_structure(\n",
    "            icsd_prototype, composition, decoration_idx=decoration_idx)\n",
    "        #decorations[descriptor] = decorated_structure.as_dict()\n",
    "    except AssertionError as e:\n",
    "        print(f\"AssertionError: {e}\")\n",
    "        return\n",
    "        #volume_stats[descriptor] = (-1, -1, 0, comp_type)\n",
    "        #return 0.0, {'terminal': True, 'state_repr': repr(state)}\n",
    "\n",
    "    # Compute the volume of the conducting ions.\n",
    "    conducting_ion_vol, total_vol = ocv.compute_structure_vol(decorated_structure)\n",
    "    frac_conducting_ion_vol = conducting_ion_vol / total_vol if total_vol != 0 else 0\n",
    "#     print(conducting_ion_vol, total_vol, frac_conducting_ion_vol)\n",
    "    out_file = f\"{out_dir}/POSCAR_{decorated_str.replace('|','-')}\"\n",
    "    print(f\"writing {out_file}\")\n",
    "    decorated_structure.to(filename=out_file)\n",
    "    \n",
    "    # also write the original poscar file for reference\n",
    "    out_file2 = f\"{out_dir}/icsd_structures/{decorated_str.split('|')[-2]}\"\n",
    "    os.makedirs(os.path.dirname(out_file2), exist_ok=True)\n",
    "    if not os.path.isfile(out_file2):\n",
    "        icsd_prototype.to(filename=out_file2)\n",
    "        \n",
    "    return [conducting_ion_vol, total_vol, frac_conducting_ion_vol]"
   ]
  },
  {
   "cell_type": "code",
   "execution_count": null,
   "id": "e2cd4df0-9a70-4aa5-aa12-9f290386bb6c",
   "metadata": {},
   "outputs": [],
   "source": []
  },
  {
   "cell_type": "code",
   "execution_count": 48,
   "id": "69f88384-24ca-48d2-870c-ab5891dfc5e0",
   "metadata": {},
   "outputs": [
    {
     "data": {
      "application/vnd.jupyter.widget-view+json": {
       "model_id": "9a1100c7a9a244eaab029ce7c79ba19e",
       "version_major": 2,
       "version_minor": 0
      },
      "text/plain": [
       "  0%|          | 0/94 [00:00<?, ?it/s]"
      ]
     },
     "metadata": {},
     "output_type": "display_data"
    },
    {
     "name": "stdout",
     "output_type": "stream",
     "text": [
      "K2Sb1Cl7|_1_2_7|triclinic|POSCAR_sg1_icsd_165648|1 K2Sb1Cl7 _1_2_7|triclinic|POSCAR_sg1_icsd_165648\n",
      "writing outputs/all_cvol-0_89/POSCAR_K2Sb1Cl7-_1_2_7-triclinic-POSCAR_sg1_icsd_165648-1\n",
      "K2P1Cl7|_1_2_7|triclinic|POSCAR_sg1_icsd_165648|1 K2P1Cl7 _1_2_7|triclinic|POSCAR_sg1_icsd_165648\n",
      "writing outputs/all_cvol-0_89/POSCAR_K2P1Cl7-_1_2_7-triclinic-POSCAR_sg1_icsd_165648-1\n",
      "K2P1F7|_1_2_7|triclinic|POSCAR_sg1_icsd_165648|1 K2P1F7 _1_2_7|triclinic|POSCAR_sg1_icsd_165648\n",
      "writing outputs/all_cvol-0_89/POSCAR_K2P1F7-_1_2_7-triclinic-POSCAR_sg1_icsd_165648-1\n",
      "K6N1P1|_1_1_6|orthorhombic|POSCAR_sg31_icsd_161309|1 K6N1P1 _1_1_6|orthorhombic|POSCAR_sg31_icsd_161309\n",
      "writing outputs/all_cvol-0_89/POSCAR_K6N1P1-_1_1_6-orthorhombic-POSCAR_sg31_icsd_161309-1\n",
      "K6N1P1|_1_1_6|orthorhombic|POSCAR_sg31_icsd_161309|2 K6N1P1 _1_1_6|orthorhombic|POSCAR_sg31_icsd_161309\n",
      "writing outputs/all_cvol-0_89/POSCAR_K6N1P1-_1_1_6-orthorhombic-POSCAR_sg31_icsd_161309-2\n",
      "K2P1I7|_1_2_7|triclinic|POSCAR_sg1_icsd_165648|1 K2P1I7 _1_2_7|triclinic|POSCAR_sg1_icsd_165648\n",
      "writing outputs/all_cvol-0_89/POSCAR_K2P1I7-_1_2_7-triclinic-POSCAR_sg1_icsd_165648-1\n",
      "K2P1Br7|_1_2_7|triclinic|POSCAR_sg1_icsd_165648|1 K2P1Br7 _1_2_7|triclinic|POSCAR_sg1_icsd_165648\n",
      "writing outputs/all_cvol-0_89/POSCAR_K2P1Br7-_1_2_7-triclinic-POSCAR_sg1_icsd_165648-1\n",
      "K2Sb1Br7|_1_2_7|triclinic|POSCAR_sg1_icsd_165648|1 K2Sb1Br7 _1_2_7|triclinic|POSCAR_sg1_icsd_165648\n",
      "writing outputs/all_cvol-0_89/POSCAR_K2Sb1Br7-_1_2_7-triclinic-POSCAR_sg1_icsd_165648-1\n",
      "K2Sb1F7|_1_2_7|triclinic|POSCAR_sg1_icsd_165648|1 K2Sb1F7 _1_2_7|triclinic|POSCAR_sg1_icsd_165648\n",
      "writing outputs/all_cvol-0_89/POSCAR_K2Sb1F7-_1_2_7-triclinic-POSCAR_sg1_icsd_165648-1\n",
      "K2Sb1I7|_1_2_7|triclinic|POSCAR_sg1_icsd_165648|1 K2Sb1I7 _1_2_7|triclinic|POSCAR_sg1_icsd_165648\n",
      "writing outputs/all_cvol-0_89/POSCAR_K2Sb1I7-_1_2_7-triclinic-POSCAR_sg1_icsd_165648-1\n",
      "Zn2La1Br7|_1_2_7|triclinic|POSCAR_sg1_icsd_165648|1 Zn2La1Br7 _1_2_7|triclinic|POSCAR_sg1_icsd_165648\n",
      "writing outputs/all_cvol-0_89/POSCAR_Zn2La1Br7-_1_2_7-triclinic-POSCAR_sg1_icsd_165648-1\n",
      "Zn2Y1Br7|_1_2_7|triclinic|POSCAR_sg1_icsd_165648|1 Zn2Y1Br7 _1_2_7|triclinic|POSCAR_sg1_icsd_165648\n",
      "writing outputs/all_cvol-0_89/POSCAR_Zn2Y1Br7-_1_2_7-triclinic-POSCAR_sg1_icsd_165648-1\n",
      "Zn2Al1Br7|_1_2_7|triclinic|POSCAR_sg1_icsd_165648|1 Zn2Al1Br7 _1_2_7|triclinic|POSCAR_sg1_icsd_165648\n",
      "writing outputs/all_cvol-0_89/POSCAR_Zn2Al1Br7-_1_2_7-triclinic-POSCAR_sg1_icsd_165648-1\n",
      "Zn2B1Br7|_1_2_7|triclinic|POSCAR_sg1_icsd_165648|1 Zn2B1Br7 _1_2_7|triclinic|POSCAR_sg1_icsd_165648\n",
      "writing outputs/all_cvol-0_89/POSCAR_Zn2B1Br7-_1_2_7-triclinic-POSCAR_sg1_icsd_165648-1\n",
      "Zn2Sc1Br7|_1_2_7|triclinic|POSCAR_sg1_icsd_165648|1 Zn2Sc1Br7 _1_2_7|triclinic|POSCAR_sg1_icsd_165648\n",
      "writing outputs/all_cvol-0_89/POSCAR_Zn2Sc1Br7-_1_2_7-triclinic-POSCAR_sg1_icsd_165648-1\n",
      "Zn1W1Br8|_1_1_8|orthorhombic|POSCAR_sg57_icsd_022232|1 Zn1W1Br8 _1_1_8|orthorhombic|POSCAR_sg57_icsd_022232\n",
      "writing outputs/all_cvol-0_89/POSCAR_Zn1W1Br8-_1_1_8-orthorhombic-POSCAR_sg57_icsd_022232-1\n",
      "Zn1W1Br8|_1_1_8|orthorhombic|POSCAR_sg63_icsd_062029|2 Zn1W1Br8 _1_1_8|orthorhombic|POSCAR_sg63_icsd_062029\n",
      "writing outputs/all_cvol-0_89/POSCAR_Zn1W1Br8-_1_1_8-orthorhombic-POSCAR_sg63_icsd_062029-2\n",
      "Zn1W1Br8|_1_1_8|tetragonal|POSCAR_sg113_icsd_063311|2 Zn1W1Br8 _1_1_8|tetragonal|POSCAR_sg113_icsd_063311\n",
      "writing outputs/all_cvol-0_89/POSCAR_Zn1W1Br8-_1_1_8-tetragonal-POSCAR_sg113_icsd_063311-2\n",
      "Zn2B1F7|_1_2_7|triclinic|POSCAR_sg1_icsd_165648|1 Zn2B1F7 _1_2_7|triclinic|POSCAR_sg1_icsd_165648\n",
      "writing outputs/all_cvol-0_89/POSCAR_Zn2B1F7-_1_2_7-triclinic-POSCAR_sg1_icsd_165648-1\n",
      "Zn2Sc1F7|_1_2_7|triclinic|POSCAR_sg1_icsd_165648|1 Zn2Sc1F7 _1_2_7|triclinic|POSCAR_sg1_icsd_165648\n",
      "writing outputs/all_cvol-0_89/POSCAR_Zn2Sc1F7-_1_2_7-triclinic-POSCAR_sg1_icsd_165648-1\n",
      "Zn2Y1F7|_1_2_7|triclinic|POSCAR_sg1_icsd_165648|1 Zn2Y1F7 _1_2_7|triclinic|POSCAR_sg1_icsd_165648\n",
      "writing outputs/all_cvol-0_89/POSCAR_Zn2Y1F7-_1_2_7-triclinic-POSCAR_sg1_icsd_165648-1\n",
      "Zn2Al1F7|_1_2_7|triclinic|POSCAR_sg1_icsd_165648|1 Zn2Al1F7 _1_2_7|triclinic|POSCAR_sg1_icsd_165648\n",
      "writing outputs/all_cvol-0_89/POSCAR_Zn2Al1F7-_1_2_7-triclinic-POSCAR_sg1_icsd_165648-1\n",
      "Zn1W1F8|_1_1_8|orthorhombic|POSCAR_sg57_icsd_022232|1 Zn1W1F8 _1_1_8|orthorhombic|POSCAR_sg57_icsd_022232\n",
      "writing outputs/all_cvol-0_89/POSCAR_Zn1W1F8-_1_1_8-orthorhombic-POSCAR_sg57_icsd_022232-1\n",
      "Zn1W1F8|_1_1_8|orthorhombic|POSCAR_sg63_icsd_062029|2 Zn1W1F8 _1_1_8|orthorhombic|POSCAR_sg63_icsd_062029\n",
      "writing outputs/all_cvol-0_89/POSCAR_Zn1W1F8-_1_1_8-orthorhombic-POSCAR_sg63_icsd_062029-2\n",
      "Zn1W1F8|_1_1_8|tetragonal|POSCAR_sg113_icsd_063311|2 Zn1W1F8 _1_1_8|tetragonal|POSCAR_sg113_icsd_063311\n",
      "writing outputs/all_cvol-0_89/POSCAR_Zn1W1F8-_1_1_8-tetragonal-POSCAR_sg113_icsd_063311-2\n",
      "Zn2La1F7|_1_2_7|triclinic|POSCAR_sg1_icsd_165648|1 Zn2La1F7 _1_2_7|triclinic|POSCAR_sg1_icsd_165648\n",
      "writing outputs/all_cvol-0_89/POSCAR_Zn2La1F7-_1_2_7-triclinic-POSCAR_sg1_icsd_165648-1\n",
      "Zn2Y1Cl7|_1_2_7|triclinic|POSCAR_sg1_icsd_165648|1 Zn2Y1Cl7 _1_2_7|triclinic|POSCAR_sg1_icsd_165648\n",
      "writing outputs/all_cvol-0_89/POSCAR_Zn2Y1Cl7-_1_2_7-triclinic-POSCAR_sg1_icsd_165648-1\n",
      "Zn2Al1Cl7|_1_2_7|triclinic|POSCAR_sg1_icsd_165648|1 Zn2Al1Cl7 _1_2_7|triclinic|POSCAR_sg1_icsd_165648\n",
      "writing outputs/all_cvol-0_89/POSCAR_Zn2Al1Cl7-_1_2_7-triclinic-POSCAR_sg1_icsd_165648-1\n",
      "Zn2La1Cl7|_1_2_7|triclinic|POSCAR_sg1_icsd_165648|1 Zn2La1Cl7 _1_2_7|triclinic|POSCAR_sg1_icsd_165648\n",
      "writing outputs/all_cvol-0_89/POSCAR_Zn2La1Cl7-_1_2_7-triclinic-POSCAR_sg1_icsd_165648-1\n",
      "Zn2B1Cl7|_1_2_7|triclinic|POSCAR_sg1_icsd_165648|1 Zn2B1Cl7 _1_2_7|triclinic|POSCAR_sg1_icsd_165648\n",
      "writing outputs/all_cvol-0_89/POSCAR_Zn2B1Cl7-_1_2_7-triclinic-POSCAR_sg1_icsd_165648-1\n",
      "Zn2Sc1Cl7|_1_2_7|triclinic|POSCAR_sg1_icsd_165648|1 Zn2Sc1Cl7 _1_2_7|triclinic|POSCAR_sg1_icsd_165648\n",
      "writing outputs/all_cvol-0_89/POSCAR_Zn2Sc1Cl7-_1_2_7-triclinic-POSCAR_sg1_icsd_165648-1\n",
      "Zn1W1Cl8|_1_1_8|orthorhombic|POSCAR_sg57_icsd_022232|1 Zn1W1Cl8 _1_1_8|orthorhombic|POSCAR_sg57_icsd_022232\n",
      "writing outputs/all_cvol-0_89/POSCAR_Zn1W1Cl8-_1_1_8-orthorhombic-POSCAR_sg57_icsd_022232-1\n",
      "Zn1W1Cl8|_1_1_8|orthorhombic|POSCAR_sg63_icsd_062029|2 Zn1W1Cl8 _1_1_8|orthorhombic|POSCAR_sg63_icsd_062029\n",
      "writing outputs/all_cvol-0_89/POSCAR_Zn1W1Cl8-_1_1_8-orthorhombic-POSCAR_sg63_icsd_062029-2\n",
      "Zn1W1Cl8|_1_1_8|tetragonal|POSCAR_sg113_icsd_063311|2 Zn1W1Cl8 _1_1_8|tetragonal|POSCAR_sg113_icsd_063311\n",
      "writing outputs/all_cvol-0_89/POSCAR_Zn1W1Cl8-_1_1_8-tetragonal-POSCAR_sg113_icsd_063311-2\n",
      "Zn2B1I7|_1_2_7|triclinic|POSCAR_sg1_icsd_165648|1 Zn2B1I7 _1_2_7|triclinic|POSCAR_sg1_icsd_165648\n",
      "writing outputs/all_cvol-0_89/POSCAR_Zn2B1I7-_1_2_7-triclinic-POSCAR_sg1_icsd_165648-1\n",
      "Zn2La1I7|_1_2_7|triclinic|POSCAR_sg1_icsd_165648|1 Zn2La1I7 _1_2_7|triclinic|POSCAR_sg1_icsd_165648\n",
      "writing outputs/all_cvol-0_89/POSCAR_Zn2La1I7-_1_2_7-triclinic-POSCAR_sg1_icsd_165648-1\n",
      "Zn2Al1I7|_1_2_7|triclinic|POSCAR_sg1_icsd_165648|1 Zn2Al1I7 _1_2_7|triclinic|POSCAR_sg1_icsd_165648\n",
      "writing outputs/all_cvol-0_89/POSCAR_Zn2Al1I7-_1_2_7-triclinic-POSCAR_sg1_icsd_165648-1\n",
      "Zn2Sc1I7|_1_2_7|triclinic|POSCAR_sg1_icsd_165648|1 Zn2Sc1I7 _1_2_7|triclinic|POSCAR_sg1_icsd_165648\n",
      "writing outputs/all_cvol-0_89/POSCAR_Zn2Sc1I7-_1_2_7-triclinic-POSCAR_sg1_icsd_165648-1\n",
      "Zn2Y1I7|_1_2_7|triclinic|POSCAR_sg1_icsd_165648|1 Zn2Y1I7 _1_2_7|triclinic|POSCAR_sg1_icsd_165648\n",
      "writing outputs/all_cvol-0_89/POSCAR_Zn2Y1I7-_1_2_7-triclinic-POSCAR_sg1_icsd_165648-1\n",
      "Zn1W1I8|_1_1_8|orthorhombic|POSCAR_sg57_icsd_022232|1 Zn1W1I8 _1_1_8|orthorhombic|POSCAR_sg57_icsd_022232\n",
      "writing outputs/all_cvol-0_89/POSCAR_Zn1W1I8-_1_1_8-orthorhombic-POSCAR_sg57_icsd_022232-1\n",
      "Zn1W1I8|_1_1_8|orthorhombic|POSCAR_sg63_icsd_062029|2 Zn1W1I8 _1_1_8|orthorhombic|POSCAR_sg63_icsd_062029\n",
      "writing outputs/all_cvol-0_89/POSCAR_Zn1W1I8-_1_1_8-orthorhombic-POSCAR_sg63_icsd_062029-2\n",
      "Zn1W1I8|_1_1_8|tetragonal|POSCAR_sg113_icsd_063311|2 Zn1W1I8 _1_1_8|tetragonal|POSCAR_sg113_icsd_063311\n",
      "writing outputs/all_cvol-0_89/POSCAR_Zn1W1I8-_1_1_8-tetragonal-POSCAR_sg113_icsd_063311-2\n",
      "Na2P1I7|_1_2_7|triclinic|POSCAR_sg1_icsd_165648|1 Na2P1I7 _1_2_7|triclinic|POSCAR_sg1_icsd_165648\n",
      "writing outputs/all_cvol-0_89/POSCAR_Na2P1I7-_1_2_7-triclinic-POSCAR_sg1_icsd_165648-1\n",
      "Na2Sb1I7|_1_2_7|triclinic|POSCAR_sg1_icsd_165648|1 Na2Sb1I7 _1_2_7|triclinic|POSCAR_sg1_icsd_165648\n",
      "writing outputs/all_cvol-0_89/POSCAR_Na2Sb1I7-_1_2_7-triclinic-POSCAR_sg1_icsd_165648-1\n",
      "Na2Sb1Br7|_1_2_7|triclinic|POSCAR_sg1_icsd_165648|1 Na2Sb1Br7 _1_2_7|triclinic|POSCAR_sg1_icsd_165648\n",
      "writing outputs/all_cvol-0_89/POSCAR_Na2Sb1Br7-_1_2_7-triclinic-POSCAR_sg1_icsd_165648-1\n",
      "Na2P1Br7|_1_2_7|triclinic|POSCAR_sg1_icsd_165648|1 Na2P1Br7 _1_2_7|triclinic|POSCAR_sg1_icsd_165648\n",
      "writing outputs/all_cvol-0_89/POSCAR_Na2P1Br7-_1_2_7-triclinic-POSCAR_sg1_icsd_165648-1\n",
      "Na6N1P1|_1_1_6|orthorhombic|POSCAR_sg31_icsd_161309|1 Na6N1P1 _1_1_6|orthorhombic|POSCAR_sg31_icsd_161309\n",
      "writing outputs/all_cvol-0_89/POSCAR_Na6N1P1-_1_1_6-orthorhombic-POSCAR_sg31_icsd_161309-1\n",
      "Na6N1P1|_1_1_6|orthorhombic|POSCAR_sg31_icsd_161309|2 Na6N1P1 _1_1_6|orthorhombic|POSCAR_sg31_icsd_161309\n",
      "writing outputs/all_cvol-0_89/POSCAR_Na6N1P1-_1_1_6-orthorhombic-POSCAR_sg31_icsd_161309-2\n",
      "Na2Sb1F7|_1_2_7|triclinic|POSCAR_sg1_icsd_165648|1 Na2Sb1F7 _1_2_7|triclinic|POSCAR_sg1_icsd_165648\n",
      "writing outputs/all_cvol-0_89/POSCAR_Na2Sb1F7-_1_2_7-triclinic-POSCAR_sg1_icsd_165648-1\n",
      "Na2P1F7|_1_2_7|triclinic|POSCAR_sg1_icsd_165648|1 Na2P1F7 _1_2_7|triclinic|POSCAR_sg1_icsd_165648\n",
      "writing outputs/all_cvol-0_89/POSCAR_Na2P1F7-_1_2_7-triclinic-POSCAR_sg1_icsd_165648-1\n",
      "Na2P1Cl7|_1_2_7|triclinic|POSCAR_sg1_icsd_165648|1 Na2P1Cl7 _1_2_7|triclinic|POSCAR_sg1_icsd_165648\n",
      "writing outputs/all_cvol-0_89/POSCAR_Na2P1Cl7-_1_2_7-triclinic-POSCAR_sg1_icsd_165648-1\n",
      "Na2Sb1Cl7|_1_2_7|triclinic|POSCAR_sg1_icsd_165648|1 Na2Sb1Cl7 _1_2_7|triclinic|POSCAR_sg1_icsd_165648\n",
      "writing outputs/all_cvol-0_89/POSCAR_Na2Sb1Cl7-_1_2_7-triclinic-POSCAR_sg1_icsd_165648-1\n",
      "Mg2Al1Cl7|_1_2_7|triclinic|POSCAR_sg1_icsd_165648|1 Mg2Al1Cl7 _1_2_7|triclinic|POSCAR_sg1_icsd_165648\n",
      "writing outputs/all_cvol-0_89/POSCAR_Mg2Al1Cl7-_1_2_7-triclinic-POSCAR_sg1_icsd_165648-1\n",
      "Mg1W1Cl8|_1_1_8|orthorhombic|POSCAR_sg57_icsd_022232|1 Mg1W1Cl8 _1_1_8|orthorhombic|POSCAR_sg57_icsd_022232\n",
      "writing outputs/all_cvol-0_89/POSCAR_Mg1W1Cl8-_1_1_8-orthorhombic-POSCAR_sg57_icsd_022232-1\n",
      "Mg1W1Cl8|_1_1_8|orthorhombic|POSCAR_sg63_icsd_062029|2 Mg1W1Cl8 _1_1_8|orthorhombic|POSCAR_sg63_icsd_062029\n",
      "writing outputs/all_cvol-0_89/POSCAR_Mg1W1Cl8-_1_1_8-orthorhombic-POSCAR_sg63_icsd_062029-2\n",
      "Mg1W1Cl8|_1_1_8|tetragonal|POSCAR_sg113_icsd_063311|2 Mg1W1Cl8 _1_1_8|tetragonal|POSCAR_sg113_icsd_063311\n",
      "writing outputs/all_cvol-0_89/POSCAR_Mg1W1Cl8-_1_1_8-tetragonal-POSCAR_sg113_icsd_063311-2\n",
      "Mg2B1Cl7|_1_2_7|triclinic|POSCAR_sg1_icsd_165648|1 Mg2B1Cl7 _1_2_7|triclinic|POSCAR_sg1_icsd_165648\n",
      "writing outputs/all_cvol-0_89/POSCAR_Mg2B1Cl7-_1_2_7-triclinic-POSCAR_sg1_icsd_165648-1\n",
      "Mg2La1Cl7|_1_2_7|triclinic|POSCAR_sg1_icsd_165648|1 Mg2La1Cl7 _1_2_7|triclinic|POSCAR_sg1_icsd_165648\n",
      "writing outputs/all_cvol-0_89/POSCAR_Mg2La1Cl7-_1_2_7-triclinic-POSCAR_sg1_icsd_165648-1\n",
      "Mg2Y1Cl7|_1_2_7|triclinic|POSCAR_sg1_icsd_165648|1 Mg2Y1Cl7 _1_2_7|triclinic|POSCAR_sg1_icsd_165648\n",
      "writing outputs/all_cvol-0_89/POSCAR_Mg2Y1Cl7-_1_2_7-triclinic-POSCAR_sg1_icsd_165648-1\n",
      "Mg2Sc1Cl7|_1_2_7|triclinic|POSCAR_sg1_icsd_165648|1 Mg2Sc1Cl7 _1_2_7|triclinic|POSCAR_sg1_icsd_165648\n",
      "writing outputs/all_cvol-0_89/POSCAR_Mg2Sc1Cl7-_1_2_7-triclinic-POSCAR_sg1_icsd_165648-1\n",
      "Mg1W1I8|_1_1_8|orthorhombic|POSCAR_sg57_icsd_022232|1 Mg1W1I8 _1_1_8|orthorhombic|POSCAR_sg57_icsd_022232\n",
      "writing outputs/all_cvol-0_89/POSCAR_Mg1W1I8-_1_1_8-orthorhombic-POSCAR_sg57_icsd_022232-1\n",
      "Mg1W1I8|_1_1_8|orthorhombic|POSCAR_sg63_icsd_062029|2 Mg1W1I8 _1_1_8|orthorhombic|POSCAR_sg63_icsd_062029\n",
      "writing outputs/all_cvol-0_89/POSCAR_Mg1W1I8-_1_1_8-orthorhombic-POSCAR_sg63_icsd_062029-2\n",
      "Mg1W1I8|_1_1_8|tetragonal|POSCAR_sg113_icsd_063311|2 Mg1W1I8 _1_1_8|tetragonal|POSCAR_sg113_icsd_063311\n",
      "writing outputs/all_cvol-0_89/POSCAR_Mg1W1I8-_1_1_8-tetragonal-POSCAR_sg113_icsd_063311-2\n",
      "Mg2Sc1I7|_1_2_7|triclinic|POSCAR_sg1_icsd_165648|1 Mg2Sc1I7 _1_2_7|triclinic|POSCAR_sg1_icsd_165648\n",
      "writing outputs/all_cvol-0_89/POSCAR_Mg2Sc1I7-_1_2_7-triclinic-POSCAR_sg1_icsd_165648-1\n",
      "Mg2B1I7|_1_2_7|triclinic|POSCAR_sg1_icsd_165648|1 Mg2B1I7 _1_2_7|triclinic|POSCAR_sg1_icsd_165648\n",
      "writing outputs/all_cvol-0_89/POSCAR_Mg2B1I7-_1_2_7-triclinic-POSCAR_sg1_icsd_165648-1\n",
      "Mg2Y1I7|_1_2_7|triclinic|POSCAR_sg1_icsd_165648|1 Mg2Y1I7 _1_2_7|triclinic|POSCAR_sg1_icsd_165648\n",
      "writing outputs/all_cvol-0_89/POSCAR_Mg2Y1I7-_1_2_7-triclinic-POSCAR_sg1_icsd_165648-1\n",
      "Mg2Al1I7|_1_2_7|triclinic|POSCAR_sg1_icsd_165648|1 Mg2Al1I7 _1_2_7|triclinic|POSCAR_sg1_icsd_165648\n",
      "writing outputs/all_cvol-0_89/POSCAR_Mg2Al1I7-_1_2_7-triclinic-POSCAR_sg1_icsd_165648-1\n",
      "Mg2La1I7|_1_2_7|triclinic|POSCAR_sg1_icsd_165648|1 Mg2La1I7 _1_2_7|triclinic|POSCAR_sg1_icsd_165648\n",
      "writing outputs/all_cvol-0_89/POSCAR_Mg2La1I7-_1_2_7-triclinic-POSCAR_sg1_icsd_165648-1\n",
      "Mg1W1Br8|_1_1_8|orthorhombic|POSCAR_sg57_icsd_022232|1 Mg1W1Br8 _1_1_8|orthorhombic|POSCAR_sg57_icsd_022232\n",
      "writing outputs/all_cvol-0_89/POSCAR_Mg1W1Br8-_1_1_8-orthorhombic-POSCAR_sg57_icsd_022232-1\n",
      "Mg1W1Br8|_1_1_8|orthorhombic|POSCAR_sg63_icsd_062029|2 Mg1W1Br8 _1_1_8|orthorhombic|POSCAR_sg63_icsd_062029\n",
      "writing outputs/all_cvol-0_89/POSCAR_Mg1W1Br8-_1_1_8-orthorhombic-POSCAR_sg63_icsd_062029-2\n",
      "Mg1W1Br8|_1_1_8|tetragonal|POSCAR_sg113_icsd_063311|2 Mg1W1Br8 _1_1_8|tetragonal|POSCAR_sg113_icsd_063311\n",
      "writing outputs/all_cvol-0_89/POSCAR_Mg1W1Br8-_1_1_8-tetragonal-POSCAR_sg113_icsd_063311-2\n",
      "Mg2La1Br7|_1_2_7|triclinic|POSCAR_sg1_icsd_165648|1 Mg2La1Br7 _1_2_7|triclinic|POSCAR_sg1_icsd_165648\n",
      "writing outputs/all_cvol-0_89/POSCAR_Mg2La1Br7-_1_2_7-triclinic-POSCAR_sg1_icsd_165648-1\n",
      "Mg2B1Br7|_1_2_7|triclinic|POSCAR_sg1_icsd_165648|1 Mg2B1Br7 _1_2_7|triclinic|POSCAR_sg1_icsd_165648\n",
      "writing outputs/all_cvol-0_89/POSCAR_Mg2B1Br7-_1_2_7-triclinic-POSCAR_sg1_icsd_165648-1\n",
      "Mg2Y1Br7|_1_2_7|triclinic|POSCAR_sg1_icsd_165648|1 Mg2Y1Br7 _1_2_7|triclinic|POSCAR_sg1_icsd_165648\n",
      "writing outputs/all_cvol-0_89/POSCAR_Mg2Y1Br7-_1_2_7-triclinic-POSCAR_sg1_icsd_165648-1\n",
      "Mg2Sc1Br7|_1_2_7|triclinic|POSCAR_sg1_icsd_165648|1 Mg2Sc1Br7 _1_2_7|triclinic|POSCAR_sg1_icsd_165648\n",
      "writing outputs/all_cvol-0_89/POSCAR_Mg2Sc1Br7-_1_2_7-triclinic-POSCAR_sg1_icsd_165648-1\n",
      "Mg2Al1Br7|_1_2_7|triclinic|POSCAR_sg1_icsd_165648|1 Mg2Al1Br7 _1_2_7|triclinic|POSCAR_sg1_icsd_165648\n",
      "writing outputs/all_cvol-0_89/POSCAR_Mg2Al1Br7-_1_2_7-triclinic-POSCAR_sg1_icsd_165648-1\n",
      "Mg2Sc1F7|_1_2_7|triclinic|POSCAR_sg1_icsd_165648|1 Mg2Sc1F7 _1_2_7|triclinic|POSCAR_sg1_icsd_165648\n",
      "writing outputs/all_cvol-0_89/POSCAR_Mg2Sc1F7-_1_2_7-triclinic-POSCAR_sg1_icsd_165648-1\n",
      "Mg2La1F7|_1_2_7|triclinic|POSCAR_sg1_icsd_165648|1 Mg2La1F7 _1_2_7|triclinic|POSCAR_sg1_icsd_165648\n",
      "writing outputs/all_cvol-0_89/POSCAR_Mg2La1F7-_1_2_7-triclinic-POSCAR_sg1_icsd_165648-1\n",
      "Mg1W1F8|_1_1_8|orthorhombic|POSCAR_sg57_icsd_022232|1 Mg1W1F8 _1_1_8|orthorhombic|POSCAR_sg57_icsd_022232\n",
      "writing outputs/all_cvol-0_89/POSCAR_Mg1W1F8-_1_1_8-orthorhombic-POSCAR_sg57_icsd_022232-1\n",
      "Mg1W1F8|_1_1_8|orthorhombic|POSCAR_sg63_icsd_062029|2 Mg1W1F8 _1_1_8|orthorhombic|POSCAR_sg63_icsd_062029\n",
      "writing outputs/all_cvol-0_89/POSCAR_Mg1W1F8-_1_1_8-orthorhombic-POSCAR_sg63_icsd_062029-2\n",
      "Mg1W1F8|_1_1_8|tetragonal|POSCAR_sg113_icsd_063311|2 Mg1W1F8 _1_1_8|tetragonal|POSCAR_sg113_icsd_063311\n",
      "writing outputs/all_cvol-0_89/POSCAR_Mg1W1F8-_1_1_8-tetragonal-POSCAR_sg113_icsd_063311-2\n",
      "Mg2Y1F7|_1_2_7|triclinic|POSCAR_sg1_icsd_165648|1 Mg2Y1F7 _1_2_7|triclinic|POSCAR_sg1_icsd_165648\n",
      "writing outputs/all_cvol-0_89/POSCAR_Mg2Y1F7-_1_2_7-triclinic-POSCAR_sg1_icsd_165648-1\n",
      "Mg2Al1F7|_1_2_7|triclinic|POSCAR_sg1_icsd_165648|1 Mg2Al1F7 _1_2_7|triclinic|POSCAR_sg1_icsd_165648\n",
      "writing outputs/all_cvol-0_89/POSCAR_Mg2Al1F7-_1_2_7-triclinic-POSCAR_sg1_icsd_165648-1\n",
      "Mg2B1F7|_1_2_7|triclinic|POSCAR_sg1_icsd_165648|1 Mg2B1F7 _1_2_7|triclinic|POSCAR_sg1_icsd_165648\n",
      "writing outputs/all_cvol-0_89/POSCAR_Mg2B1F7-_1_2_7-triclinic-POSCAR_sg1_icsd_165648-1\n",
      "Li2P1F7|_1_2_7|triclinic|POSCAR_sg1_icsd_165648|1 Li2P1F7 _1_2_7|triclinic|POSCAR_sg1_icsd_165648\n",
      "writing outputs/all_cvol-0_89/POSCAR_Li2P1F7-_1_2_7-triclinic-POSCAR_sg1_icsd_165648-1\n",
      "Li2Sb1F7|_1_2_7|triclinic|POSCAR_sg1_icsd_165648|1 Li2Sb1F7 _1_2_7|triclinic|POSCAR_sg1_icsd_165648\n",
      "writing outputs/all_cvol-0_89/POSCAR_Li2Sb1F7-_1_2_7-triclinic-POSCAR_sg1_icsd_165648-1\n",
      "Li6N1P1|_1_1_6|orthorhombic|POSCAR_sg31_icsd_161309|1 Li6N1P1 _1_1_6|orthorhombic|POSCAR_sg31_icsd_161309\n",
      "writing outputs/all_cvol-0_89/POSCAR_Li6N1P1-_1_1_6-orthorhombic-POSCAR_sg31_icsd_161309-1\n",
      "Li6N1P1|_1_1_6|orthorhombic|POSCAR_sg31_icsd_161309|2 Li6N1P1 _1_1_6|orthorhombic|POSCAR_sg31_icsd_161309\n",
      "writing outputs/all_cvol-0_89/POSCAR_Li6N1P1-_1_1_6-orthorhombic-POSCAR_sg31_icsd_161309-2\n",
      "Li2P1I7|_1_2_7|triclinic|POSCAR_sg1_icsd_165648|1 Li2P1I7 _1_2_7|triclinic|POSCAR_sg1_icsd_165648\n",
      "writing outputs/all_cvol-0_89/POSCAR_Li2P1I7-_1_2_7-triclinic-POSCAR_sg1_icsd_165648-1\n",
      "Li2P1Cl7|_1_2_7|triclinic|POSCAR_sg1_icsd_165648|1 Li2P1Cl7 _1_2_7|triclinic|POSCAR_sg1_icsd_165648\n",
      "writing outputs/all_cvol-0_89/POSCAR_Li2P1Cl7-_1_2_7-triclinic-POSCAR_sg1_icsd_165648-1\n",
      "Li2P1Br7|_1_2_7|triclinic|POSCAR_sg1_icsd_165648|1 Li2P1Br7 _1_2_7|triclinic|POSCAR_sg1_icsd_165648\n",
      "writing outputs/all_cvol-0_89/POSCAR_Li2P1Br7-_1_2_7-triclinic-POSCAR_sg1_icsd_165648-1\n",
      "Li2Sb1I7|_1_2_7|triclinic|POSCAR_sg1_icsd_165648|1 Li2Sb1I7 _1_2_7|triclinic|POSCAR_sg1_icsd_165648\n",
      "writing outputs/all_cvol-0_89/POSCAR_Li2Sb1I7-_1_2_7-triclinic-POSCAR_sg1_icsd_165648-1\n",
      "Li2Sb1Cl7|_1_2_7|triclinic|POSCAR_sg1_icsd_165648|1 Li2Sb1Cl7 _1_2_7|triclinic|POSCAR_sg1_icsd_165648\n",
      "writing outputs/all_cvol-0_89/POSCAR_Li2Sb1Cl7-_1_2_7-triclinic-POSCAR_sg1_icsd_165648-1\n",
      "Li2Sb1Br7|_1_2_7|triclinic|POSCAR_sg1_icsd_165648|1 Li2Sb1Br7 _1_2_7|triclinic|POSCAR_sg1_icsd_165648\n",
      "writing outputs/all_cvol-0_89/POSCAR_Li2Sb1Br7-_1_2_7-triclinic-POSCAR_sg1_icsd_165648-1\n"
     ]
    }
   ],
   "source": [
    "# now write each of these to a file\n",
    "out_dir = f\"outputs/all_cvol-0_89\"\n",
    "os.makedirs(out_dir, exist_ok=True)\n",
    "volume_stats = {}\n",
    "for decorated_str in tqdm(df_top['state']):\n",
    "    vol_stats = write_decorated_structure(decorated_str, out_dir)\n",
    "    volume_stats[decorated_str] = [decorated_str.split('|')[-2]] + vol_stats"
   ]
  },
  {
   "cell_type": "code",
   "execution_count": null,
   "id": "26d781d2-7b06-403d-8281-71f12aa30379",
   "metadata": {},
   "outputs": [],
   "source": []
  }
 ],
 "metadata": {
  "kernelspec": {
   "display_name": "Python 3",
   "language": "python",
   "name": "python3"
  },
  "language_info": {
   "codemirror_mode": {
    "name": "ipython",
    "version": 3
   },
   "file_extension": ".py",
   "mimetype": "text/x-python",
   "name": "python",
   "nbconvert_exporter": "python",
   "pygments_lexer": "ipython3",
   "version": "3.8.10"
  }
 },
 "nbformat": 4,
 "nbformat_minor": 5
}
