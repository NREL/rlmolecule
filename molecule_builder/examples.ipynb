{
 "cells": [
  {
   "cell_type": "code",
   "execution_count": 1,
   "metadata": {},
   "outputs": [],
   "source": [
    "%load_ext autoreload"
   ]
  },
  {
   "cell_type": "code",
   "execution_count": 2,
   "metadata": {},
   "outputs": [],
   "source": [
    "%autoreload 2"
   ]
  },
  {
   "cell_type": "code",
   "execution_count": 3,
   "metadata": {},
   "outputs": [],
   "source": [
    "import numpy as np\n",
    "\n",
    "import rdkit\n",
    "import rdkit.Chem.AllChem\n",
    "from rdkit import Chem\n",
    "\n",
    "from molecule_builder import build_molecules"
   ]
  },
  {
   "cell_type": "code",
   "execution_count": 4,
   "metadata": {},
   "outputs": [
    {
     "data": {
      "text/plain": [
       "['C1CC2=C(C1)C2',\n",
       " 'C1CC2=C1CC2',\n",
       " 'C1CC2CC2C1',\n",
       " 'C1CC2CCC12',\n",
       " 'C=C1CCCCC1',\n",
       " 'CC1CCCCC1',\n",
       " 'N=C1CCCCC1',\n",
       " 'NC1CCCCC1',\n",
       " 'O=C1CCCCC1',\n",
       " 'OC1CCCCC1']"
      ]
     },
     "execution_count": 4,
     "metadata": {},
     "output_type": "execute_result"
    }
   ],
   "source": [
    "# `build_molecules` returns an iterator that enumerates the action space\n",
    "# from a given starting molecule.\n",
    "\n",
    "start = Chem.MolFromSmiles('C1CCCCC1')\n",
    "sorted([Chem.MolToSmiles(mol) for mol in build_molecules(start)])"
   ]
  },
  {
   "cell_type": "code",
   "execution_count": 5,
   "metadata": {},
   "outputs": [],
   "source": [
    "def build_nested(mol, num):\n",
    "    \"\"\" Simulate tree search / RL by recursively calling build_molecules\n",
    "    on it's own output a desired number of times. Note, this is NOT the\n",
    "    most efficient way to iterate over sets of molecules at higher depths.\n",
    "    (For that, we should de-duplicate each iteration). This is fast for a\n",
    "    depth-first search, though.\n",
    "    \"\"\"\n",
    "    \n",
    "    for mol in build_molecules(mol):\n",
    "        if num == 1:\n",
    "            yield mol\n",
    "            \n",
    "        else:\n",
    "            yield from build_nested(mol, num=num-1)"
   ]
  },
  {
   "cell_type": "code",
   "execution_count": 6,
   "metadata": {},
   "outputs": [
    {
     "data": {
      "text/plain": [
       "'CN1N2C3=NN(O)N4OC56ON=NC78C9(OOC(=NC#N)C#CON9c9nn4o9)C49OC4%10OC4=NC7(C35N6N1C(=O)N29)C4%108'"
      ]
     },
     "execution_count": 6,
     "metadata": {},
     "output_type": "execute_result"
    }
   ],
   "source": [
    "# Generate a random molecule with desired depth\n",
    "Chem.MolToSmiles(next(build_nested(start, num=50)))"
   ]
  },
  {
   "cell_type": "code",
   "execution_count": 7,
   "metadata": {},
   "outputs": [
    {
     "name": "stdout",
     "output_type": "stream",
     "text": [
      "72.9 ms ± 6.64 ms per loop (mean ± std. dev. of 7 runs, 10 loops each)\n"
     ]
    }
   ],
   "source": [
    "%timeit Chem.MolToSmiles(next(build_nested(start, num=50)))"
   ]
  },
  {
   "cell_type": "code",
   "execution_count": 8,
   "metadata": {},
   "outputs": [
    {
     "name": "stdout",
     "output_type": "stream",
     "text": [
      " "
     ]
    },
    {
     "data": {
      "text/plain": [
       "         63206 function calls (63157 primitive calls) in 0.070 seconds\n",
       "\n",
       "   Ordered by: internal time\n",
       "\n",
       "   ncalls  tottime  percall  cumtime  percall filename:lineno(function)\n",
       "     4909    0.018    0.000    0.030    0.000 molecule_builder.py:50(get_valid_bonds)\n",
       "      100    0.012    0.000    0.070    0.001 molecule_builder.py:23(build_molecules)\n",
       "     9004    0.010    0.000    0.010    0.000 molecule_builder.py:18(get_free_valence)\n",
       "     5267    0.009    0.000    0.018    0.000 molecule_builder.py:12(shuffle)\n",
       "      308    0.005    0.000    0.007    0.000 molecule_builder.py:41(get_valid_partners)\n",
       "     5267    0.005    0.000    0.010    0.000 random.py:264(shuffle)\n",
       "     6049    0.003    0.000    0.004    0.000 random.py:224(_randbelow)\n",
       "     9818    0.002    0.000    0.002    0.000 {built-in method builtins.min}\n",
       "      308    0.001    0.000    0.001    0.000 {built-in method numpy.arange}\n",
       "       50    0.001    0.000    0.001    0.000 molecule_builder.py:61(add_bond)\n",
       "     9378    0.001    0.000    0.001    0.000 {method 'getrandbits' of '_random.Random' objects}\n",
       "     5575    0.001    0.000    0.001    0.000 {built-in method builtins.len}\n",
       "        1    0.001    0.001    0.070    0.070 <string>:1(<module>)\n",
       "     1020    0.000    0.000    0.000    0.000 molecule_builder.py:45(<genexpr>)\n",
       "     6049    0.000    0.000    0.000    0.000 {method 'bit_length' of 'int' objects}\n",
       "   100/51    0.000    0.000    0.070    0.001 <ipython-input-5-80749a632e6c>:1(build_nested)\n",
       "        1    0.000    0.000    0.070    0.070 {built-in method builtins.exec}\n",
       "        1    0.000    0.000    0.000    0.000 {method 'disable' of '_lsprof.Profiler' objects}\n",
       "        1    0.000    0.000    0.070    0.070 {built-in method builtins.next}"
      ]
     },
     "metadata": {},
     "output_type": "display_data"
    }
   ],
   "source": [
    "%prun Chem.MolToSmiles(next(build_nested(start, num=50)))"
   ]
  },
  {
   "cell_type": "code",
   "execution_count": 9,
   "metadata": {},
   "outputs": [
    {
     "data": {
      "text/plain": [
       "[10, 182, 2709, 37565]"
      ]
     },
     "execution_count": 9,
     "metadata": {},
     "output_type": "execute_result"
    }
   ],
   "source": [
    "# The tree size increases fast\n",
    "[len({Chem.MolToSmiles(m) for m in build_nested(start, num=i)}) for i in range(1, 5)]"
   ]
  },
  {
   "cell_type": "code",
   "execution_count": 10,
   "metadata": {},
   "outputs": [
    {
     "data": {
      "text/plain": [
       "array([1., 0., 0., 1., 1., 0., 0., 0., 0., 0., 1., 0., 0., 0., 0., 0., 0.,\n",
       "       1., 0., 0., 0., 0., 0., 0., 0., 0., 1., 0., 0., 0., 0., 0., 1., 0.,\n",
       "       1., 0., 1., 0., 0., 0., 0., 0., 0., 0., 0., 0., 0., 0., 0., 0., 0.,\n",
       "       0., 0., 0., 1., 0., 1., 1., 1., 0., 1., 0., 1., 0., 0., 1., 0., 0.,\n",
       "       0., 0., 0., 1., 0., 0., 0., 0., 0., 0., 1., 1., 0., 0., 0., 0., 1.,\n",
       "       1., 0., 0., 0., 1., 0., 0., 1., 0., 1., 0., 0., 0., 0., 0., 1., 0.,\n",
       "       0., 1., 1., 0., 0., 0., 0., 0., 0., 1., 0., 0., 0., 0., 0., 0., 0.,\n",
       "       0., 1., 0., 1., 1., 0., 0., 0., 0.])"
      ]
     },
     "execution_count": 10,
     "metadata": {},
     "output_type": "execute_result"
    }
   ],
   "source": [
    "def get_fingerprint(mol, radius=2, fp_length=128):\n",
    "    \"\"\" In case we want to work with fingerprints for development, this calculates a\n",
    "    Morgan fingerprint as a numpy array \"\"\"\n",
    "\n",
    "    fingerprint = rdkit.Chem.AllChem.GetMorganFingerprintAsBitVect(mol, radius, fp_length)\n",
    "    arr = np.zeros((fp_length,))\n",
    "    rdkit.DataStructs.ConvertToNumpyArray(fingerprint, arr)\n",
    "    return arr\n",
    "\n",
    "\n",
    "mol = next(build_nested(start, num=12))\n",
    "get_fingerprint(mol)"
   ]
  }
 ],
 "metadata": {
  "kernelspec": {
   "display_name": "Python 3",
   "language": "python",
   "name": "python3"
  },
  "language_info": {
   "codemirror_mode": {
    "name": "ipython",
    "version": 3
   },
   "file_extension": ".py",
   "mimetype": "text/x-python",
   "name": "python",
   "nbconvert_exporter": "python",
   "pygments_lexer": "ipython3",
   "version": "3.7.8"
  }
 },
 "nbformat": 4,
 "nbformat_minor": 4
}
