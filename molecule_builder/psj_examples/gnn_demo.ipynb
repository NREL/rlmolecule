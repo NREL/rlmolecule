{
 "cells": [
  {
   "cell_type": "code",
   "execution_count": 2,
   "metadata": {},
   "outputs": [],
   "source": [
    "%load_ext autoreload\n",
    "%autoreload 2"
   ]
  },
  {
   "cell_type": "code",
   "execution_count": 3,
   "metadata": {},
   "outputs": [
    {
     "name": "stdout",
     "output_type": "stream",
     "text": [
      "[PhysicalDevice(name='/physical_device:GPU:0', device_type='GPU')]\n"
     ]
    }
   ],
   "source": [
    "import tensorflow as tf\n",
    "gpus = tf.config.experimental.list_physical_devices('GPU')\n",
    "print(gpus)\n",
    "tf.config.experimental.set_memory_growth(gpus[0], True)\n",
    "import nfp"
   ]
  },
  {
   "cell_type": "code",
   "execution_count": 4,
   "metadata": {},
   "outputs": [
    {
     "name": "stdout",
     "output_type": "stream",
     "text": [
      "tensorflow 2.2.0\n",
      "nfp 0.1.2\n"
     ]
    }
   ],
   "source": [
    "print(f\"tensorflow {tf.__version__}\")\n",
    "print(f\"nfp {nfp.__version__}\")"
   ]
  },
  {
   "cell_type": "code",
   "execution_count": 5,
   "metadata": {},
   "outputs": [],
   "source": [
    "import numpy as np\n",
    "import pandas as pd\n",
    "\n",
    "import matplotlib.pyplot as plt\n",
    "import seaborn as sns\n",
    "sns.set(context='talk', style='ticks',\n",
    "        color_codes=True, rc={'legend.frameon': False})\n",
    "\n",
    "%matplotlib inline\n",
    "\n",
    "from tqdm import tqdm\n",
    "import itertools\n",
    "\n",
    "import rdkit\n",
    "import rdkit.Chem                                              \n",
    "\n",
    "from molecule_builder import build_molecules"
   ]
  },
  {
   "cell_type": "code",
   "execution_count": 6,
   "metadata": {},
   "outputs": [
    {
     "data": {
      "image/png": "[encoded data removed]",
      "text/plain": [
       "<rdkit.Chem.rdchem.RWMol at 0x7f02f41f5430>"
      ]
     },
     "execution_count": 6,
     "metadata": {},
     "output_type": "execute_result"
    }
   ],
   "source": [
    "rng = np.random.default_rng(1)\n",
    "\n",
    "def build(mol, num):\n",
    "    \"\"\" Just builds a large molecule \"\"\"\n",
    "    for mol in build_molecules(mol, stereoisomers=False):\n",
    "        if num == 1:\n",
    "            yield mol\n",
    "        else:\n",
    "            yield from build(mol, num=num-1)\n",
    "\n",
    "def build_random(low, high):\n",
    "    return next(build(rdkit.Chem.MolFromSmiles('C'),\n",
    "                      rng.integers(low=low, high=high, endpoint=True)))\n",
    "\n",
    "build_random(6, 10)"
   ]
  },
  {
   "cell_type": "markdown",
   "metadata": {},
   "source": [
    "## Initialize the preprocessor\n",
    "\n",
    "I convert rdkit.Atoms and rdkit.Bonds into integer 'classes' for the neural network. The preprocessor class remembers the atom and bond types it's previously encountered; and just assigns new classes to an 'unknown' class. I can initialize this class by just generating a bunch of molecules and calling `construct_feature_matrices`.\n",
    "\n",
    "We have to do this ahead of time, since we need to know how many rows to initialize in our embedding matrices when we create the neural network weights. This is a bit of a contrived example; typically I'll do all the preprocessing first, save the arrays as tfrecords files, and then run the GNN seperately. See [https://github.com/pstjohn/spin_gnn](https://github.com/pstjohn/spin_gnn) for an example of that approach"
   ]
  },
  {
   "cell_type": "code",
   "execution_count": 7,
   "metadata": {},
   "outputs": [
    {
     "name": "stderr",
     "output_type": "stream",
     "text": [
      "100%|██████████| 10000/10000 [00:13<00:00, 738.72it/s]\n"
     ]
    }
   ],
   "source": [
    "from gnn import preprocessor\n",
    "\n",
    "for _ in tqdm(range(10000)):\n",
    "    _ = preprocessor.construct_feature_matrices(build_random(6, 10), train=True)"
   ]
  },
  {
   "cell_type": "code",
   "execution_count": 8,
   "metadata": {},
   "outputs": [
    {
     "data": {
      "text/plain": [
       "(88, 114)"
      ]
     },
     "execution_count": 8,
     "metadata": {},
     "output_type": "execute_result"
    }
   ],
   "source": [
    "preprocessor.atom_classes, preprocessor.bond_classes"
   ]
  },
  {
   "cell_type": "markdown",
   "metadata": {},
   "source": [
    "We can save the mapping between rdkit objects and integers with the preprocessor.to_json / from_json methods\n",
    "\n",
    "*Preprocessor Output*:\n",
    "\n",
    "`atom`: a list of atom classes\n",
    "`bond`: a list of bond classes\n",
    "`connectivity`: an array describing the molecule's graph. the *i*th row *(j,k)* indicates `bond[i]` connects `atom[j]` to `atom[k]`"
   ]
  },
  {
   "cell_type": "code",
   "execution_count": 9,
   "metadata": {},
   "outputs": [
    {
     "data": {
      "text/plain": [
       "{'atom': array([10, 14, 55, 11, 11,  9,  3]),\n",
       " 'bond': array([25, 23, 13, 25, 22, 22, 24, 11, 14, 17, 10, 18]),\n",
       " 'connectivity': array([[0, 1],\n",
       "        [0, 3],\n",
       "        [0, 4],\n",
       "        [1, 0],\n",
       "        [1, 2],\n",
       "        [2, 1],\n",
       "        [3, 0],\n",
       "        [3, 5],\n",
       "        [4, 0],\n",
       "        [4, 6],\n",
       "        [5, 3],\n",
       "        [6, 4]])}"
      ]
     },
     "execution_count": 9,
     "metadata": {},
     "output_type": "execute_result"
    }
   ],
   "source": [
    "preprocessor.construct_feature_matrices(build_random(6, 10), train=False)"
   ]
  },
  {
   "cell_type": "code",
   "execution_count": 10,
   "metadata": {},
   "outputs": [],
   "source": [
    "from rdkit.Chem.Descriptors import qed\n",
    "\n",
    "def training_generator():\n",
    "    while True:\n",
    "        mol = build_random(6, 10)\n",
    "        yield preprocessor.construct_feature_matrices(mol, train=False), qed(mol)"
   ]
  },
  {
   "cell_type": "code",
   "execution_count": 11,
   "metadata": {},
   "outputs": [],
   "source": [
    "dataset = tf.data.Dataset.from_generator(\n",
    "    training_generator,\n",
    "    output_types=({'atom': tf.int64, 'bond': tf.int64, 'connectivity': tf.int64}, tf.float32),\n",
    "    output_shapes=({'atom': [None,], 'bond': [None,], 'connectivity': [None, 2]}, []))\\\n",
    "    .padded_batch(batch_size=64, \n",
    "                  padded_shapes=({'atom': [-1], 'bond': [-1], 'connectivity': [-1, 2]}, []),\n",
    "                  padding_values=({'atom': nfp.zero, 'bond': nfp.zero, 'connectivity': nfp.zero}, 0.))\\\n",
    "    .prefetch(tf.data.experimental.AUTOTUNE)"
   ]
  },
  {
   "cell_type": "code",
   "execution_count": 13,
   "metadata": {},
   "outputs": [],
   "source": [
    "from gnn import build_gnn_model"
   ]
  },
  {
   "cell_type": "code",
   "execution_count": 14,
   "metadata": {},
   "outputs": [],
   "source": [
    "model = build_gnn_model(preprocessor)"
   ]
  },
  {
   "cell_type": "code",
   "execution_count": 15,
   "metadata": {},
   "outputs": [
    {
     "name": "stdout",
     "output_type": "stream",
     "text": [
      "Epoch 1/10\n",
      "100/100 [==============================] - 17s 168ms/step - loss: 0.2228\n",
      "Epoch 2/10\n",
      "100/100 [==============================] - 17s 170ms/step - loss: 0.0870\n",
      "Epoch 3/10\n",
      "100/100 [==============================] - 17s 168ms/step - loss: 0.0667\n",
      "Epoch 4/10\n",
      "100/100 [==============================] - 17s 166ms/step - loss: 0.0544\n",
      "Epoch 5/10\n",
      "100/100 [==============================] - 17s 169ms/step - loss: 0.0510\n",
      "Epoch 6/10\n",
      "100/100 [==============================] - 17s 166ms/step - loss: 0.0470\n",
      "Epoch 7/10\n",
      "100/100 [==============================] - 17s 174ms/step - loss: 0.0456\n",
      "Epoch 8/10\n",
      "100/100 [==============================] - 17s 169ms/step - loss: 0.0484\n",
      "Epoch 9/10\n",
      "100/100 [==============================] - 17s 173ms/step - loss: 0.0422\n",
      "Epoch 10/10\n",
      "100/100 [==============================] - 17s 170ms/step - loss: 0.0417\n"
     ]
    },
    {
     "data": {
      "text/plain": [
       "<tensorflow.python.keras.callbacks.History at 0x7f02dd810250>"
      ]
     },
     "execution_count": 15,
     "metadata": {},
     "output_type": "execute_result"
    }
   ],
   "source": [
    "model.fit(dataset, steps_per_epoch=100, epochs=10)"
   ]
  },
  {
   "cell_type": "code",
   "execution_count": 16,
   "metadata": {},
   "outputs": [
    {
     "data": {
      "image/png": "[encoded data removed]",
      "text/plain": [
       "<rdkit.Chem.rdchem.RWMol at 0x7f02dcb839b0>"
      ]
     },
     "execution_count": 16,
     "metadata": {},
     "output_type": "execute_result"
    }
   ],
   "source": [
    "mol = build_random(6, 10)\n",
    "mol"
   ]
  },
  {
   "cell_type": "code",
   "execution_count": 19,
   "metadata": {},
   "outputs": [
    {
     "data": {
      "text/plain": [
       "<tf.Tensor: shape=(1, 1), dtype=float32, numpy=array([[0.32621443]], dtype=float32)>"
      ]
     },
     "execution_count": 19,
     "metadata": {},
     "output_type": "execute_result"
    }
   ],
   "source": [
    "# We can't directly call model() on the output of `construct_feature_matrices`,\n",
    "# since the model expects a batch dimension. We could go through the trouble of \n",
    "# creating the tf.dataset as shown above, or just fake it with expand_dims\n",
    "model({key: np.expand_dims(val, 0) for key, val in \n",
    "       preprocessor.construct_feature_matrices(mol, train=False).items()})"
   ]
  }
 ],
 "metadata": {
  "kernelspec": {
   "display_name": "Python 3",
   "language": "python",
   "name": "python3"
  },
  "language_info": {
   "codemirror_mode": {
    "name": "ipython",
    "version": 3
   },
   "file_extension": ".py",
   "mimetype": "text/x-python",
   "name": "python",
   "nbconvert_exporter": "python",
   "pygments_lexer": "ipython3",
   "version": "3.7.8"
  }
 },
 "nbformat": 4,
 "nbformat_minor": 4
}
