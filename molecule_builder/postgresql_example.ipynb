{
 "cells": [
  {
   "cell_type": "code",
   "execution_count": 3,
   "metadata": {},
   "outputs": [],
   "source": [
    "from rollout import play_game, Network"
   ]
  },
  {
   "cell_type": "code",
   "execution_count": 4,
   "metadata": {},
   "outputs": [],
   "source": [
    "network = Network('.')"
   ]
  },
  {
   "cell_type": "code",
   "execution_count": 7,
   "metadata": {},
   "outputs": [
    {
     "name": "stdout",
     "output_type": "stream",
     "text": [
      "1.65 s ± 159 ms per loop (mean ± std. dev. of 7 runs, 1 loop each)\n"
     ]
    }
   ],
   "source": [
    "%timeit game = play_game(network)"
   ]
  },
  {
   "cell_type": "code",
   "execution_count": 58,
   "metadata": {},
   "outputs": [],
   "source": [
    "data = game.get_data()"
   ]
  },
  {
   "cell_type": "markdown",
   "metadata": {},
   "source": [
    "Elementary operations to save / load the game dictionary"
   ]
  },
  {
   "cell_type": "code",
   "execution_count": 86,
   "metadata": {},
   "outputs": [
    {
     "data": {
      "text/plain": [
       "array(['C', 'C=O', 'O=C=O'], dtype='<U5')"
      ]
     },
     "execution_count": 86,
     "metadata": {},
     "output_type": "execute_result"
    }
   ],
   "source": [
    "import numpy as np\n",
    "import io\n",
    "from tqdm import tqdm\n",
    "\n",
    "# Save the data dict to a binary sequence\n",
    "with io.BytesIO() as f:\n",
    "    np.savez_compressed(f, **data)\n",
    "    binary_data = f.getvalue()\n",
    "    \n",
    "del data\n",
    "\n",
    "# Lead the data dict from a binary sequence\n",
    "with io.BytesIO(binary_data) as f:\n",
    "    data = dict(np.load(f, allow_pickle=True).items())\n",
    "\n",
    "data['mol_smiles']"
   ]
  },
  {
   "cell_type": "code",
   "execution_count": 66,
   "metadata": {},
   "outputs": [],
   "source": [
    "import psycopg2\n",
    "\n",
    "dbparams = {\n",
    "    'dbname': 'bde',\n",
    "    'port': 5432,\n",
    "    'host': 'yuma.hpc.nrel.gov',\n",
    "    'user': 'rlops',\n",
    "    'password': '********',\n",
    "    'options': f'-c search_path=rl',\n",
    "}\n",
    "\n",
    "    \n",
    "with psycopg2.connect(**dbparams) as conn:\n",
    "    with conn.cursor() as cur:\n",
    "        cur.execute(\"\"\"\n",
    "        DROP TABLE IF EXISTS TestReplay;\n",
    "        \n",
    "        CREATE TABLE TestReplay (\n",
    "            gameid serial PRIMARY KEY,\n",
    "            time timestamp DEFAULT CURRENT_TIMESTAMP,\n",
    "            data BYTEA);\n",
    "            \n",
    "        INSERT INTO TestReplay (data) VALUES (%s)\n",
    "        \"\"\", (binary_data,))"
   ]
  },
  {
   "cell_type": "markdown",
   "metadata": {},
   "source": [
    "We can use pandas to read out SQL queries as well"
   ]
  },
  {
   "cell_type": "code",
   "execution_count": 84,
   "metadata": {},
   "outputs": [
    {
     "data": {
      "text/html": [
       "<div>\n",
       "<style scoped>\n",
       "    .dataframe tbody tr th:only-of-type {\n",
       "        vertical-align: middle;\n",
       "    }\n",
       "\n",
       "    .dataframe tbody tr th {\n",
       "        vertical-align: top;\n",
       "    }\n",
       "\n",
       "    .dataframe thead th {\n",
       "        text-align: right;\n",
       "    }\n",
       "</style>\n",
       "<table border=\"1\" class=\"dataframe\">\n",
       "  <thead>\n",
       "    <tr style=\"text-align: right;\">\n",
       "      <th></th>\n",
       "      <th>gameid</th>\n",
       "      <th>time</th>\n",
       "      <th>data</th>\n",
       "    </tr>\n",
       "  </thead>\n",
       "  <tbody>\n",
       "    <tr>\n",
       "      <th>0</th>\n",
       "      <td>1</td>\n",
       "      <td>2020-08-31 05:41:17.018763</td>\n",
       "      <td>[b'P', b'K', b'\\x03', b'\\x04', b'\\x14', b'\\x00...</td>\n",
       "    </tr>\n",
       "  </tbody>\n",
       "</table>\n",
       "</div>"
      ],
      "text/plain": [
       "   gameid  ...                                               data\n",
       "0       1  ...  [b'P', b'K', b'\\x03', b'\\x04', b'\\x14', b'\\x00...\n",
       "\n",
       "[1 rows x 3 columns]"
      ]
     },
     "execution_count": 84,
     "metadata": {},
     "output_type": "execute_result"
    }
   ],
   "source": [
    "import pandas as pd\n",
    "\n",
    "with psycopg2.connect(**dbparams) as conn:\n",
    "    df = pd.read_sql_query(\"\"\"\n",
    "    SELECT * from TestReplay;\n",
    "    \"\"\", conn)\n",
    "    \n",
    "df"
   ]
  },
  {
   "cell_type": "code",
   "execution_count": 83,
   "metadata": {},
   "outputs": [
    {
     "data": {
      "text/plain": [
       "0    {'network_inputs': {'mol': [array([0., 0., 0.,...\n",
       "Name: data, dtype: object"
      ]
     },
     "execution_count": 83,
     "metadata": {},
     "output_type": "execute_result"
    }
   ],
   "source": [
    "def read_game_data(binary_data):\n",
    "    \"\"\"Parse our binary game format. We can use pandas.apply to map \n",
    "    this over an entire column if we want \"\"\"\n",
    "    with io.BytesIO(df.iloc[0].data) as f:\n",
    "        data = dict(np.load(f, allow_pickle=True).items())\n",
    "        \n",
    "    return data\n",
    "\n",
    "df.data.apply(read_game_data)"
   ]
  },
  {
   "cell_type": "code",
   "execution_count": 89,
   "metadata": {},
   "outputs": [],
   "source": [
    "def save_game_postgresql(game, conn):\n",
    "    \"\"\" Just combines a bunch of the last few functions together \"\"\"\n",
    "    \n",
    "    data = game.get_data()\n",
    "    \n",
    "    with io.BytesIO() as f:\n",
    "        np.savez_compressed(f, **data)\n",
    "        binary_data = f.getvalue()\n",
    "        \n",
    "    with conn:\n",
    "        with conn.cursor() as cur:\n",
    "            cur.execute(\"INSERT INTO TestReplay (data) VALUES (%s)\",\n",
    "                        (binary_data,))        "
   ]
  },
  {
   "cell_type": "code",
   "execution_count": 90,
   "metadata": {},
   "outputs": [
    {
     "name": "stderr",
     "output_type": "stream",
     "text": [
      "100%|██████████| 10/10 [00:22<00:00,  2.27s/it]\n"
     ]
    }
   ],
   "source": [
    "# I think it makes sense to keep this connection alive, \n",
    "# as long as the games are somewhat fast.. But we could certainly\n",
    "# close it and re-open even \n",
    "\n",
    "with psycopg2.connect(**dbparams) as conn:\n",
    "    for _ in tqdm(range(10)):\n",
    "        game = play_game(network)\n",
    "        save_game_postgresql(game, conn)"
   ]
  },
  {
   "cell_type": "code",
   "execution_count": 103,
   "metadata": {},
   "outputs": [
    {
     "data": {
      "text/html": [
       "<div>\n",
       "<style scoped>\n",
       "    .dataframe tbody tr th:only-of-type {\n",
       "        vertical-align: middle;\n",
       "    }\n",
       "\n",
       "    .dataframe tbody tr th {\n",
       "        vertical-align: top;\n",
       "    }\n",
       "\n",
       "    .dataframe thead th {\n",
       "        text-align: right;\n",
       "    }\n",
       "</style>\n",
       "<table border=\"1\" class=\"dataframe\">\n",
       "  <thead>\n",
       "    <tr style=\"text-align: right;\">\n",
       "      <th></th>\n",
       "      <th>gameid</th>\n",
       "      <th>time</th>\n",
       "      <th>data</th>\n",
       "    </tr>\n",
       "  </thead>\n",
       "  <tbody>\n",
       "    <tr>\n",
       "      <th>0</th>\n",
       "      <td>11</td>\n",
       "      <td>2020-08-31 05:56:14.722273</td>\n",
       "      <td>[b'P', b'K', b'\\x03', b'\\x04', b'\\x14', b'\\x00...</td>\n",
       "    </tr>\n",
       "    <tr>\n",
       "      <th>1</th>\n",
       "      <td>10</td>\n",
       "      <td>2020-08-31 05:56:13.052142</td>\n",
       "      <td>[b'P', b'K', b'\\x03', b'\\x04', b'\\x14', b'\\x00...</td>\n",
       "    </tr>\n",
       "    <tr>\n",
       "      <th>2</th>\n",
       "      <td>9</td>\n",
       "      <td>2020-08-31 05:56:11.396527</td>\n",
       "      <td>[b'P', b'K', b'\\x03', b'\\x04', b'\\x14', b'\\x00...</td>\n",
       "    </tr>\n",
       "    <tr>\n",
       "      <th>3</th>\n",
       "      <td>8</td>\n",
       "      <td>2020-08-31 05:56:09.286064</td>\n",
       "      <td>[b'P', b'K', b'\\x03', b'\\x04', b'\\x14', b'\\x00...</td>\n",
       "    </tr>\n",
       "  </tbody>\n",
       "</table>\n",
       "</div>"
      ],
      "text/plain": [
       "   gameid  ...                                               data\n",
       "0      11  ...  [b'P', b'K', b'\\x03', b'\\x04', b'\\x14', b'\\x00...\n",
       "1      10  ...  [b'P', b'K', b'\\x03', b'\\x04', b'\\x14', b'\\x00...\n",
       "2       9  ...  [b'P', b'K', b'\\x03', b'\\x04', b'\\x14', b'\\x00...\n",
       "3       8  ...  [b'P', b'K', b'\\x03', b'\\x04', b'\\x14', b'\\x00...\n",
       "\n",
       "[4 rows x 3 columns]"
      ]
     },
     "execution_count": 103,
     "metadata": {},
     "output_type": "execute_result"
    }
   ],
   "source": [
    "# Here's how we'd grab the most recent batch of games from the buffer\n",
    "\n",
    "with psycopg2.connect(**dbparams) as conn:\n",
    "    df = pd.read_sql_query(\"\"\"\n",
    "    SELECT * from TestReplay order by time desc limit 4;\n",
    "    \"\"\", conn)\n",
    "\n",
    "df"
   ]
  },
  {
   "cell_type": "markdown",
   "metadata": {},
   "source": [
    "This is a super basic version of how this might work, but we'd likely want to split out things like reward, final SMILES, etc as seperate columns perhaps. In case we wanted to use those later as selection criteria"
   ]
  },
  {
   "cell_type": "code",
   "execution_count": null,
   "metadata": {},
   "outputs": [],
   "source": []
  }
 ],
 "metadata": {
  "kernelspec": {
   "display_name": "Python 3",
   "language": "python",
   "name": "python3"
  },
  "language_info": {
   "codemirror_mode": {
    "name": "ipython",
    "version": 3
   },
   "file_extension": ".py",
   "mimetype": "text/x-python",
   "name": "python",
   "nbconvert_exporter": "python",
   "pygments_lexer": "ipython3",
   "version": "3.7.8"
  }
 },
 "nbformat": 4,
 "nbformat_minor": 4
}
