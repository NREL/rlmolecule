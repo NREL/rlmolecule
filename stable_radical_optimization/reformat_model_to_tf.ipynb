{
 "cells": [
  {
   "cell_type": "code",
   "execution_count": 1,
   "metadata": {},
   "outputs": [],
   "source": [
    "import numpy as np\n",
    "import pandas as pd\n",
    "\n",
    "import matplotlib.pyplot as plt\n",
    "import seaborn as sns\n",
    "sns.set(context='talk', style='ticks',\n",
    "        color_codes=True, rc={'legend.frameon': False})\n",
    "\n",
    "%matplotlib inline"
   ]
  },
  {
   "cell_type": "code",
   "execution_count": 2,
   "metadata": {},
   "outputs": [],
   "source": [
    "import tensorflow as tf\n",
    "gpus = tf.config.experimental.list_physical_devices('GPU')\n",
    "if gpus:\n",
    "    # Currently, memory growth needs to be the same across GPUs\n",
    "    for gpu in gpus:\n",
    "        tf.config.experimental.set_memory_growth(gpu, True)\n",
    "import nfp"
   ]
  },
  {
   "cell_type": "code",
   "execution_count": 3,
   "metadata": {},
   "outputs": [],
   "source": [
    "import sys\n",
    "sys.path.append('..')"
   ]
  },
  {
   "cell_type": "code",
   "execution_count": 4,
   "metadata": {},
   "outputs": [],
   "source": [
    "from alphazero.preprocessor import preprocessor"
   ]
  },
  {
   "cell_type": "code",
   "execution_count": 5,
   "metadata": {},
   "outputs": [],
   "source": [
    "import sys\n",
    "sys.path.append('/projects/rlmolecule/pstjohn/spin_gnn/20200901_combined_losses/')\n",
    "from loss import AtomInfMask, KLWithLogits"
   ]
  },
  {
   "cell_type": "code",
   "execution_count": 6,
   "metadata": {},
   "outputs": [],
   "source": [
    "from nfp import EdgeUpdate, NodeUpdate, GlobalUpdate\n",
    "import tensorflow_addons as tfa\n",
    "\n",
    "model = tf.keras.models.load_model(\n",
    "    '/projects/rlmolecule/svss/Project-Redox/water-model-tfrecords/20201013_stability_water_noh/best_model.hdf5',\n",
    "    custom_objects={**nfp.custom_objects,\n",
    "                    **{'AtomInfMask': AtomInfMask, 'KLWithLogits': KLWithLogits,\n",
    "                       'EdgeUpdate': EdgeUpdate,\n",
    "                       'NodeUpdate': NodeUpdate,\n",
    "                       'GlobalUpdate': GlobalUpdate}})"
   ]
  },
  {
   "cell_type": "code",
   "execution_count": 82,
   "metadata": {},
   "outputs": [],
   "source": [
    "new_model = tf.keras.Model(model.inputs[:3], [tf.nn.softmax(model.outputs[0]), model.outputs[1]])"
   ]
  },
  {
   "cell_type": "code",
   "execution_count": 98,
   "metadata": {},
   "outputs": [
    {
     "data": {
      "text/html": [
       "<div>\n",
       "<style scoped>\n",
       "    .dataframe tbody tr th:only-of-type {\n",
       "        vertical-align: middle;\n",
       "    }\n",
       "\n",
       "    .dataframe tbody tr th {\n",
       "        vertical-align: top;\n",
       "    }\n",
       "\n",
       "    .dataframe thead th {\n",
       "        text-align: right;\n",
       "    }\n",
       "</style>\n",
       "<table border=\"1\" class=\"dataframe\">\n",
       "  <thead>\n",
       "    <tr style=\"text-align: right;\">\n",
       "      <th></th>\n",
       "      <th>atom_index</th>\n",
       "      <th>buried_vol</th>\n",
       "      <th>smiles</th>\n",
       "    </tr>\n",
       "  </thead>\n",
       "  <tbody>\n",
       "    <tr>\n",
       "      <th>0</th>\n",
       "      <td>0</td>\n",
       "      <td>30.616607</td>\n",
       "      <td>CC[C@H]1[C]=CC[C@@H]1C</td>\n",
       "    </tr>\n",
       "    <tr>\n",
       "      <th>1</th>\n",
       "      <td>1</td>\n",
       "      <td>42.641684</td>\n",
       "      <td>CC[C@H]1[C]=CC[C@@H]1C</td>\n",
       "    </tr>\n",
       "    <tr>\n",
       "      <th>2</th>\n",
       "      <td>2</td>\n",
       "      <td>54.450699</td>\n",
       "      <td>CC[C@H]1[C]=CC[C@@H]1C</td>\n",
       "    </tr>\n",
       "    <tr>\n",
       "      <th>3</th>\n",
       "      <td>3</td>\n",
       "      <td>45.254120</td>\n",
       "      <td>CC[C@H]1[C]=CC[C@@H]1C</td>\n",
       "    </tr>\n",
       "    <tr>\n",
       "      <th>4</th>\n",
       "      <td>4</td>\n",
       "      <td>37.139451</td>\n",
       "      <td>CC[C@H]1[C]=CC[C@@H]1C</td>\n",
       "    </tr>\n",
       "  </tbody>\n",
       "</table>\n",
       "</div>"
      ],
      "text/plain": [
       "   atom_index  buried_vol                  smiles\n",
       "0           0   30.616607  CC[C@H]1[C]=CC[C@@H]1C\n",
       "1           1   42.641684  CC[C@H]1[C]=CC[C@@H]1C\n",
       "2           2   54.450699  CC[C@H]1[C]=CC[C@@H]1C\n",
       "3           3   45.254120  CC[C@H]1[C]=CC[C@@H]1C\n",
       "4           4   37.139451  CC[C@H]1[C]=CC[C@@H]1C"
      ]
     },
     "execution_count": 98,
     "metadata": {},
     "output_type": "execute_result"
    }
   ],
   "source": [
    "shrees_df = pd.read_csv('/projects/rlmolecule/svss/Project-Redox/water-model-tfrecords/csv-spin-bv/buried_volumes_all_water_calc_includ_set_2.csv.gz', index_col=0)\n",
    "shrees_spin = pd.read_csv('/projects/rlmolecule/svss/Project-Redox/water-model-tfrecords/csv-spin-bv/spins_water_calcs.csv')\n",
    "\n",
    "shrees_df.head()"
   ]
  },
  {
   "cell_type": "code",
   "execution_count": 100,
   "metadata": {},
   "outputs": [],
   "source": [
    "smiles = '[CH2]C1=COCC1'"
   ]
  },
  {
   "cell_type": "code",
   "execution_count": 101,
   "metadata": {},
   "outputs": [],
   "source": [
    "mol = rdkit.Chem.MolFromSmiles(smiles)"
   ]
  },
  {
   "cell_type": "code",
   "execution_count": 104,
   "metadata": {},
   "outputs": [
    {
     "data": {
      "text/plain": [
       "{'atom': array([ 9, 58, 60, 57, 32, 32]),\n",
       " 'bond': array([ 3,  3, 42, 17, 42, 39, 40, 40, 39, 17, 17, 17]),\n",
       " 'connectivity': array([[0, 1],\n",
       "        [1, 0],\n",
       "        [1, 2],\n",
       "        [1, 5],\n",
       "        [2, 1],\n",
       "        [2, 3],\n",
       "        [3, 2],\n",
       "        [3, 4],\n",
       "        [4, 3],\n",
       "        [4, 5],\n",
       "        [5, 4],\n",
       "        [5, 1]])}"
      ]
     },
     "execution_count": 104,
     "metadata": {},
     "output_type": "execute_result"
    }
   ],
   "source": [
    "preprocessor.construct_feature_matrices(mol, train=False)"
   ]
  },
  {
   "cell_type": "code",
   "execution_count": 106,
   "metadata": {},
   "outputs": [
    {
     "data": {
      "text/plain": [
       "[<tf.Tensor: shape=(1, 6), dtype=float32, numpy=\n",
       " array([[0.38121492, 0.13322979, 0.4150315 , 0.05832914, 0.00418409,\n",
       "         0.00801053]], dtype=float32)>,\n",
       " <tf.Tensor: shape=(1, 6, 1), dtype=float32, numpy=\n",
       " array([[[30.25468 ],\n",
       "         [41.854122],\n",
       "         [38.36191 ],\n",
       "         [33.7179  ],\n",
       "         [34.16185 ],\n",
       "         [39.28588 ]]], dtype=float32)>]"
      ]
     },
     "execution_count": 106,
     "metadata": {},
     "output_type": "execute_result"
    }
   ],
   "source": [
    "new_model({key: tf.constant(np.expand_dims(val, 0))\n",
    "       for key, val in preprocessor.construct_feature_matrices(mol, train=False).items()})"
   ]
  },
  {
   "cell_type": "code",
   "execution_count": 110,
   "metadata": {},
   "outputs": [
    {
     "data": {
      "text/html": [
       "<div>\n",
       "<style scoped>\n",
       "    .dataframe tbody tr th:only-of-type {\n",
       "        vertical-align: middle;\n",
       "    }\n",
       "\n",
       "    .dataframe tbody tr th {\n",
       "        vertical-align: top;\n",
       "    }\n",
       "\n",
       "    .dataframe thead th {\n",
       "        text-align: right;\n",
       "    }\n",
       "</style>\n",
       "<table border=\"1\" class=\"dataframe\">\n",
       "  <thead>\n",
       "    <tr style=\"text-align: right;\">\n",
       "      <th></th>\n",
       "      <th>atom_index</th>\n",
       "      <th>buried_vol</th>\n",
       "      <th>smiles</th>\n",
       "    </tr>\n",
       "  </thead>\n",
       "  <tbody>\n",
       "    <tr>\n",
       "      <th>651259</th>\n",
       "      <td>0</td>\n",
       "      <td>30.291542</td>\n",
       "      <td>[CH2]C1=COCC1</td>\n",
       "    </tr>\n",
       "    <tr>\n",
       "      <th>651260</th>\n",
       "      <td>1</td>\n",
       "      <td>41.879991</td>\n",
       "      <td>[CH2]C1=COCC1</td>\n",
       "    </tr>\n",
       "    <tr>\n",
       "      <th>651261</th>\n",
       "      <td>2</td>\n",
       "      <td>38.252099</td>\n",
       "      <td>[CH2]C1=COCC1</td>\n",
       "    </tr>\n",
       "    <tr>\n",
       "      <th>651262</th>\n",
       "      <td>3</td>\n",
       "      <td>33.700549</td>\n",
       "      <td>[CH2]C1=COCC1</td>\n",
       "    </tr>\n",
       "    <tr>\n",
       "      <th>651263</th>\n",
       "      <td>4</td>\n",
       "      <td>34.074425</td>\n",
       "      <td>[CH2]C1=COCC1</td>\n",
       "    </tr>\n",
       "    <tr>\n",
       "      <th>651264</th>\n",
       "      <td>5</td>\n",
       "      <td>39.204603</td>\n",
       "      <td>[CH2]C1=COCC1</td>\n",
       "    </tr>\n",
       "  </tbody>\n",
       "</table>\n",
       "</div>"
      ],
      "text/plain": [
       "        atom_index  buried_vol         smiles\n",
       "651259           0   30.291542  [CH2]C1=COCC1\n",
       "651260           1   41.879991  [CH2]C1=COCC1\n",
       "651261           2   38.252099  [CH2]C1=COCC1\n",
       "651262           3   33.700549  [CH2]C1=COCC1\n",
       "651263           4   34.074425  [CH2]C1=COCC1\n",
       "651264           5   39.204603  [CH2]C1=COCC1"
      ]
     },
     "execution_count": 110,
     "metadata": {},
     "output_type": "execute_result"
    }
   ],
   "source": [
    "shrees_df[shrees_df.smiles == smiles]"
   ]
  },
  {
   "cell_type": "code",
   "execution_count": 115,
   "metadata": {},
   "outputs": [],
   "source": [
    "spin = shrees_spin[(shrees_spin.smiles == smiles) & (shrees_spin.atom_type != 'H')].spin"
   ]
  },
  {
   "cell_type": "code",
   "execution_count": 116,
   "metadata": {},
   "outputs": [
    {
     "data": {
      "text/plain": [
       "0    0.405000\n",
       "1    0.124902\n",
       "2    0.393790\n",
       "3    0.066754\n",
       "4    0.001770\n",
       "5    0.007784\n",
       "Name: spin, dtype: float64"
      ]
     },
     "execution_count": 116,
     "metadata": {},
     "output_type": "execute_result"
    }
   ],
   "source": [
    "spin.abs() / spin.abs().sum()"
   ]
  },
  {
   "cell_type": "code",
   "execution_count": 89,
   "metadata": {},
   "outputs": [],
   "source": [
    "# import rdkit\n",
    "\n",
    "# valid_dataset = tf.data.Dataset.from_generator(\n",
    "#     lambda: (preprocessor.construct_feature_matrices(rdkit.Chem.MolFromSmiles(smiles), train=False) for smiles in valid),\n",
    "#     output_types={'atom': tf.int64, 'bond': tf.int64, 'connectivity': tf.int64},\n",
    "#     output_shapes={'atom': tf.TensorShape([None]), 'bond': tf.TensorShape([None]), 'connectivity': tf.TensorShape([None, 2])})\\\n",
    "#     .padded_batch(batch_size=100, padded_shapes={\n",
    "#     'atom': [-1],\n",
    "#     'bond': [-1],\n",
    "#     'connectivity': [-1, 2]},\n",
    "#     padding_values=nfp.zero)"
   ]
  },
  {
   "cell_type": "code",
   "execution_count": 92,
   "metadata": {},
   "outputs": [
    {
     "name": "stdout",
     "output_type": "stream",
     "text": [
      "50/50 [==============================] - 3s 56ms/step\n"
     ]
    }
   ],
   "source": [
    "predicted_spin_logits, predicted_bur_vol = model.predict(valid_dataset, verbose=1)"
   ]
  },
  {
   "cell_type": "code",
   "execution_count": null,
   "metadata": {},
   "outputs": [],
   "source": [
    "cdf_test_pivot_spins = cdf_test.pivot(index='smiles', columns='atom_index', values='fractional_spin')\n",
    "cdf_test_pivot_spins = cdf_test_pivot_spins.reindex(test)"
   ]
  },
  {
   "cell_type": "code",
   "execution_count": 117,
   "metadata": {},
   "outputs": [
    {
     "name": "stdout",
     "output_type": "stream",
     "text": [
      "WARNING:tensorflow:From /projects/rlmolecule/pstjohn/envs/tf2_gpu/lib/python3.7/site-packages/tensorflow/python/training/tracking/tracking.py:111: Model.state_updates (from tensorflow.python.keras.engine.training) is deprecated and will be removed in a future version.\n",
      "Instructions for updating:\n",
      "This property should not be used in TensorFlow 2.0, as updates are applied automatically.\n",
      "WARNING:tensorflow:From /projects/rlmolecule/pstjohn/envs/tf2_gpu/lib/python3.7/site-packages/tensorflow/python/training/tracking/tracking.py:111: Layer.updates (from tensorflow.python.keras.engine.base_layer) is deprecated and will be removed in a future version.\n",
      "Instructions for updating:\n",
      "This property should not be used in TensorFlow 2.0, as updates are applied automatically.\n",
      "INFO:tensorflow:Assets written to: /projects/rlmolecule/pstjohn/models/20201020_radical_stability_model/assets\n"
     ]
    }
   ],
   "source": [
    "new_model.save('/projects/rlmolecule/pstjohn/models/20201020_radical_stability_model/', include_optimizer=False)"
   ]
  },
  {
   "cell_type": "code",
   "execution_count": null,
   "metadata": {},
   "outputs": [],
   "source": [
    "# model.save('/projects/rlmolecule/pstjohn/spin_gnn/test_tf_save', include_optimizer=False)"
   ]
  },
  {
   "cell_type": "code",
   "execution_count": null,
   "metadata": {},
   "outputs": [],
   "source": []
  }
 ],
 "metadata": {
  "kernelspec": {
   "display_name": "Python 3",
   "language": "python",
   "name": "python3"
  },
  "language_info": {
   "codemirror_mode": {
    "name": "ipython",
    "version": 3
   },
   "file_extension": ".py",
   "mimetype": "text/x-python",
   "name": "python",
   "nbconvert_exporter": "python",
   "pygments_lexer": "ipython3",
   "version": "3.7.8"
  }
 },
 "nbformat": 4,
 "nbformat_minor": 4
}
