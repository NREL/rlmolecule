{
 "cells": [
  {
   "cell_type": "code",
   "execution_count": 2,
   "metadata": {},
   "outputs": [],
   "source": [
    "import numpy as np\n",
    "import pandas as pd\n",
    "\n",
    "import matplotlib.pyplot as plt\n",
    "import seaborn as sns\n",
    "sns.set(context='talk', style='ticks',\n",
    "        color_codes=True, rc={'legend.frameon': False})\n",
    "\n",
    "%matplotlib inline"
   ]
  },
  {
   "cell_type": "code",
   "execution_count": 4,
   "metadata": {},
   "outputs": [],
   "source": [
    "import tensorflow as tf\n",
    "gpus = tf.config.experimental.list_physical_devices('GPU')\n",
    "if gpus:\n",
    "    # Currently, memory growth needs to be the same across GPUs\n",
    "    for gpu in gpus:\n",
    "        tf.config.experimental.set_memory_growth(gpu, True)\n",
    "import nfp"
   ]
  },
  {
   "cell_type": "code",
   "execution_count": 14,
   "metadata": {},
   "outputs": [],
   "source": [
    "import sys\n",
    "sys.path.append('/projects/rlmolecule/pstjohn/models/20201031_bde/')\n",
    "from preprocess_inputs import preprocessor as bde_preprocessor\n",
    "bde_preprocessor.from_json('/projects/rlmolecule/pstjohn/models/20201031_bde/preprocessor.json')\n",
    "\n",
    "bde_model = tf.keras.models.load_model(\n",
    "    '/projects/rlmolecule/pstjohn/models/20201031_bde/',\n",
    "    compile=False)"
   ]
  },
  {
   "cell_type": "code",
   "execution_count": 17,
   "metadata": {},
   "outputs": [],
   "source": [
    "from rdkit import Chem\n",
    "\n",
    "def prepare_for_bde(smiles):\n",
    "\n",
    "    mol = Chem.MolFromSmiles(smiles)\n",
    "    radical_index = None\n",
    "    for i, atom in enumerate(mol.GetAtoms()):\n",
    "        if atom.GetNumRadicalElectrons() != 0:\n",
    "            assert radical_index == None\n",
    "            is_radical = True\n",
    "            radical_index = i\n",
    "\n",
    "            atom.SetNumExplicitHs(atom.GetNumExplicitHs() + 1)\n",
    "            atom.SetNumRadicalElectrons(0)\n",
    "            break\n",
    "\n",
    "    radical_rank = Chem.CanonicalRankAtoms(mol, includeChirality=True)[radical_index]\n",
    "\n",
    "    mol_smiles = Chem.MolToSmiles(mol)\n",
    "    mol = Chem.MolFromSmiles(mol_smiles)\n",
    "\n",
    "    radical_index_reordered = list(Chem.CanonicalRankAtoms(\n",
    "        mol, includeChirality=True)).index(radical_rank)\n",
    "\n",
    "    molH = Chem.AddHs(mol)\n",
    "    for bond in molH.GetAtomWithIdx(radical_index_reordered).GetBonds():\n",
    "        if 'H' in {bond.GetBeginAtom().GetSymbol(), bond.GetEndAtom().GetSymbol()}:\n",
    "            bond_index = bond.GetIdx()\n",
    "            break\n",
    "    else:\n",
    "        bond_index = None\n",
    "            \n",
    "    return pd.Series({\n",
    "        'mol_smiles': mol_smiles,\n",
    "        'radical_index_mol': radical_index_reordered,\n",
    "        'bond_index': bond_index\n",
    "    })\n",
    "\n",
    "@tf.function(experimental_relax_shapes=True)                \n",
    "def predict(model, inputs):\n",
    "    return model.predict_step(inputs)\n",
    "\n",
    "def bde_get_inputs(smiles):\n",
    "    inputs = bde_preprocessor.construct_feature_matrices(smiles, train=False)\n",
    "    assert not (inputs['atom'] == 1).any() | (inputs['bond'] == 1).any()\n",
    "    return {key: np.expand_dims(val, 0) for key, val in inputs.items()}\n",
    "\n",
    "def calc_bde(smiles):\n",
    "    bde_inputs = prepare_for_bde(smiles)\n",
    "    inputs = bde_get_inputs(bde_inputs.mol_smiles)\n",
    "    \n",
    "    return predict(bde_model, inputs)[0][0, bde_inputs.bond_index, 0].numpy()"
   ]
  },
  {
   "cell_type": "code",
   "execution_count": 18,
   "metadata": {},
   "outputs": [
    {
     "data": {
      "text/plain": [
       "80.136566"
      ]
     },
     "execution_count": 18,
     "metadata": {},
     "output_type": "execute_result"
    }
   ],
   "source": [
    "calc_bde('[CH2]C1=C(C(C)C)C=CCC1')"
   ]
  },
  {
   "cell_type": "code",
   "execution_count": 3,
   "metadata": {},
   "outputs": [
    {
     "data": {
      "text/plain": [
       "([<matplotlib.axis.XTick at 0x7fb188b0f290>,\n",
       "  <matplotlib.axis.XTick at 0x7fb188b0ff10>],\n",
       " [Text(0.25, 0, 'lb'), Text(0.75, 0, 'ub')])"
      ]
     },
     "execution_count": 3,
     "metadata": {},
     "output_type": "execute_result"
    },
    {
     "data": {
      "image/png": "[encoded data removed]",
      "text/plain": [
       "<Figure size 216x144 with 1 Axes>"
      ]
     },
     "metadata": {
      "needs_background": "light"
     },
     "output_type": "display_data"
    }
   ],
   "source": [
    "# def windowed_loss(target, desired_range):\n",
    "#     \"\"\" Returns 0 if the molecule is in the middle of the desired range,\n",
    "#     scaled loss otherwise. \"\"\"\n",
    "    \n",
    "#     span = desired_range[1] - desired_range[0]\n",
    "    \n",
    "#     lower_lim = desired_range[0] + span / 6\n",
    "#     upper_lim = desired_range[1] - span / 6\n",
    "    \n",
    "#     if target < lower_lim:\n",
    "#         return max(1 - 3*(abs(target - lower_lim) / span), 0)\n",
    "#     elif target > upper_lim:\n",
    "#         return max(1 - 3*(abs(target - upper_lim) / span), 0)\n",
    "#     else:\n",
    "#         return 1\n",
    "\n",
    "# lower_lim = .25 + .5 / 6\n",
    "# upper_lim = .75 - .5 / 6\n",
    "\n",
    "# plt.figure(figsize=(3,2))\n",
    "# xs = np.linspace(0, 1, num=100)\n",
    "\n",
    "# plt.plot(xs, [windowed_loss(x, (0.25, 0.75)) for x in xs])\n",
    "# plt.axvline(.25, ls='--', color='.7')\n",
    "# plt.axvline(.75, ls='--', color='.7')\n",
    "\n",
    "# plt.xticks([.25, .75], labels=['lb', 'ub'])"
   ]
  }
 ],
 "metadata": {
  "kernelspec": {
   "display_name": "Python 3",
   "language": "python",
   "name": "python3"
  },
  "language_info": {
   "codemirror_mode": {
    "name": "ipython",
    "version": 3
   },
   "file_extension": ".py",
   "mimetype": "text/x-python",
   "name": "python",
   "nbconvert_exporter": "python",
   "pygments_lexer": "ipython3",
   "version": "3.7.8"
  }
 },
 "nbformat": 4,
 "nbformat_minor": 4
}
