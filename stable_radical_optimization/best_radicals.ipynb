{
 "cells": [
  {
   "cell_type": "code",
   "execution_count": 1,
   "metadata": {},
   "outputs": [],
   "source": [
    "import numpy as np\n",
    "import psycopg2\n",
    "import pandas as pd\n",
    "\n",
    "import matplotlib.pyplot as plt\n",
    "import seaborn as sns\n",
    "sns.set(context='talk', style='ticks',\n",
    "        color_codes=True, rc={'legend.frameon': False})\n",
    "\n",
    "%matplotlib inline"
   ]
  },
  {
   "cell_type": "code",
   "execution_count": 2,
   "metadata": {},
   "outputs": [],
   "source": [
    "import os\n",
    "import sys\n",
    "sys.path.append('..')\n",
    "\n",
    "from alphazero import config\n",
    "import stable_rad_config"
   ]
  },
  {
   "cell_type": "code",
   "execution_count": null,
   "metadata": {},
   "outputs": [],
   "source": [
    "import tensorflow as tf\n",
    "gpus = tf.config.experimental.list_physical_devices('GPU')\n",
    "if gpus:\n",
    "    # Currently, memory growth needs to be the same across GPUs\n",
    "    for gpu in gpus:\n",
    "        tf.config.experimental.set_memory_growth(gpu, True)\n",
    "import nfp"
   ]
  },
  {
   "cell_type": "code",
   "execution_count": null,
   "metadata": {},
   "outputs": [],
   "source": [
    "import rdkit\n",
    "import networkx as nx\n",
    "from run_mcts import StabilityNode\n",
    "\n",
    "from reward import calc_reward_inner"
   ]
  },
  {
   "cell_type": "code",
   "execution_count": null,
   "metadata": {},
   "outputs": [],
   "source": [
    "node = StabilityNode(rdkit.Chem.MolFromSmiles('C(N)O'))"
   ]
  },
  {
   "cell_type": "code",
   "execution_count": 3,
   "metadata": {},
   "outputs": [
    {
     "name": "stderr",
     "output_type": "stream",
     "text": [
      "INFO:rdkit:Enabling RDKit 2020.09.4 jupyter extensions\n"
     ]
    }
   ],
   "source": [
    "from alphazero.molecule import build_molecules, EnumerateStereoisomers, StereoEnumerationOptions"
   ]
  },
  {
   "cell_type": "code",
   "execution_count": 6,
   "metadata": {},
   "outputs": [],
   "source": [
    "import rdkit\n",
    "from rdkit import Chem"
   ]
  },
  {
   "cell_type": "code",
   "execution_count": null,
   "metadata": {},
   "outputs": [],
   "source": [
    "mol = rdkit.Chem.MolFromSmiles('CC(N)O')\n",
    "Chem.SanitizeMol(mol)\n",
    "rdkit.Chem.rdmolops.AssignStereochemistry(mol)"
   ]
  },
  {
   "cell_type": "code",
   "execution_count": null,
   "metadata": {},
   "outputs": [],
   "source": [
    "opts = StereoEnumerationOptions(unique=True)\n",
    "[Chem.MolToSmiles(isomer) for isomer in EnumerateStereoisomers(mol, options=opts)]"
   ]
  },
  {
   "cell_type": "code",
   "execution_count": null,
   "metadata": {},
   "outputs": [],
   "source": [
    "Chem.MolToSmiles(Chem.MolFromSmiles('C[C@H](N)O'))"
   ]
  },
  {
   "cell_type": "code",
   "execution_count": 9,
   "metadata": {},
   "outputs": [
    {
     "data": {
      "text/plain": [
       "['C[C@H](N)O',\n",
       " 'C[C@@H](N)O',\n",
       " 'C=C(N)O',\n",
       " 'NC(N)O',\n",
       " 'N=C(N)O',\n",
       " 'NC(O)O',\n",
       " 'NC(=O)O',\n",
       " 'CNCO',\n",
       " 'COCN']"
      ]
     },
     "execution_count": 9,
     "metadata": {},
     "output_type": "execute_result"
    }
   ],
   "source": [
    "[rdkit.Chem.MolToSmiles(mol) for mol in build_molecules(rdkit.Chem.MolFromSmiles('C(N)O'))]"
   ]
  },
  {
   "cell_type": "code",
   "execution_count": null,
   "metadata": {},
   "outputs": [],
   "source": [
    "calc_reward_inner(StabilityNode(rdkit.Chem.MolFromSmiles('C(N)O')))"
   ]
  },
  {
   "cell_type": "code",
   "execution_count": null,
   "metadata": {},
   "outputs": [],
   "source": [
    "# Load the reward buffer to plot the optimal molecules\n",
    "with psycopg2.connect(**config.dbparams) as conn:\n",
    "    rew_df = pd.read_sql_query(\"select * from {}_reward\".format(config.sql_basename), conn)\n",
    "\n",
    "rew_df.shape"
   ]
  },
  {
   "cell_type": "code",
   "execution_count": null,
   "metadata": {},
   "outputs": [],
   "source": [
    "rew_df.sort_values('real_reward', ascending=False).head(10)"
   ]
  },
  {
   "cell_type": "code",
   "execution_count": null,
   "metadata": {},
   "outputs": [],
   "source": [
    "import rdkit\n",
    "\n",
    "from rdkit import Chem\n",
    "from rdkit.Chem import Draw\n",
    "from rdkit.Chem.Draw import rdMolDraw2D\n",
    "from rdkit.Chem.Draw import SimilarityMaps\n",
    "from rdkit.Chem import rdDepictor\n",
    "from IPython.display import SVG"
   ]
  },
  {
   "cell_type": "code",
   "execution_count": null,
   "metadata": {},
   "outputs": [],
   "source": [
    "from reward import predict, stability_model\n",
    "from alphazero.node import Node\n",
    "\n",
    "def pred_spins(mol):\n",
    "    spins, _ = predict(stability_model,\n",
    "        {key: tf.constant(np.expand_dims(val, 0))\n",
    "         for key, val in Node(mol).policy_inputs.items()})\n",
    "    \n",
    "    return spins.numpy().flatten()\n",
    "\n",
    "def pred_bv(mol):\n",
    "    _, bv = predict(stability_model,\n",
    "        {key: tf.constant(np.expand_dims(val, 0))\n",
    "         for key, val in Node(mol).policy_inputs.items()})\n",
    "    \n",
    "    return bv.numpy().flatten()\n",
    "\n",
    "redox_model = tf.keras.models.load_model(\n",
    "    '/projects/rlmolecule/pstjohn/models/20201030_redox_model/',\n",
    "    compile=False)\n",
    "\n",
    "@tf.function(experimental_relax_shapes=True)                \n",
    "def predict_redox_tf(inputs):\n",
    "    return redox_model.predict_step(inputs)\n",
    "\n",
    "def pred_redox(mol):\n",
    "    return predict_redox_tf(\n",
    "        {key: tf.constant(np.expand_dims(val, 0))\n",
    "         for key, val in Node(mol).policy_inputs.items()}).numpy().flatten()"
   ]
  },
  {
   "cell_type": "code",
   "execution_count": null,
   "metadata": {},
   "outputs": [],
   "source": [
    "mol = rdkit.Chem.MolFromSmiles('C=C(C(C)C)C(C([O])=O)(N(C)C)N(C)C')\n",
    "\n",
    "d = rdMolDraw2D.MolDraw2DSVG(400, 400)\n",
    "SimilarityMaps.GetSimilarityMapFromWeights(mol, [float(i) for i in pred_spins(mol)], draw2d=d)\n",
    "d.FinishDrawing()\n",
    "SVG(d.GetDrawingText())"
   ]
  },
  {
   "cell_type": "code",
   "execution_count": null,
   "metadata": {},
   "outputs": [],
   "source": [
    "high_reward = rew_df[rew_df.real_reward > 100].copy()"
   ]
  },
  {
   "cell_type": "code",
   "execution_count": null,
   "metadata": {},
   "outputs": [],
   "source": [
    "high_reward.head()"
   ]
  },
  {
   "cell_type": "code",
   "execution_count": null,
   "metadata": {},
   "outputs": [],
   "source": [
    "from alphazero.preprocessor import preprocessor\n",
    "\n",
    "redox_dataset = tf.data.Dataset.from_generator(\n",
    "    lambda: (preprocessor.construct_feature_matrices(Chem.MolFromSmiles(smiles), train=False) for smiles in high_reward.smiles),\n",
    "    output_types=preprocessor.output_types,\n",
    "    output_shapes=preprocessor.output_shapes)\\\n",
    "    .padded_batch(batch_size=128, padded_shapes=preprocessor.padded_shapes(),\n",
    "                  padding_values=preprocessor.padding_values)"
   ]
  },
  {
   "cell_type": "code",
   "execution_count": null,
   "metadata": {},
   "outputs": [],
   "source": [
    "predicted_redox = redox_model.predict(redox_dataset, verbose=1)\n",
    "high_reward['IE'] = predicted_redox[:, 0]\n",
    "high_reward['EA'] = predicted_redox[:, 1]"
   ]
  },
  {
   "cell_type": "code",
   "execution_count": null,
   "metadata": {},
   "outputs": [],
   "source": [
    "from matplotlib.patches import Polygon\n",
    "\n",
    "fig = plt.figure(figsize=(4,4))\n",
    "ax = fig.add_subplot(111, aspect='equal')\n",
    "\n",
    "ax.plot(high_reward['EA'], high_reward['IE'], '.', ms=1)\n",
    "ax.add_patch(Polygon(np.array([(-.5, 1.2), (-.5, 0.5), (.2, 1.2)]), facecolor='none', zorder=5, edgecolor='r', lw=3, ls='--'))\n",
    "ax.set_xlim([-1.5, 1.5])\n",
    "ax.set_ylim([-1, 2])\n",
    "\n",
    "ax.axvspan(-.5, .2, facecolor='.8', edgecolor='none')\n",
    "ax.axhspan(.5, 1.2, facecolor='.8', edgecolor='none')\n",
    "\n",
    "ax.set_xlabel(r'$E_{1/2}^o$, EA (V)')\n",
    "ax.set_ylabel(r'$E_{1/2}^o$, IE (V)')"
   ]
  },
  {
   "cell_type": "code",
   "execution_count": null,
   "metadata": {},
   "outputs": [],
   "source": [
    "from tqdm import tqdm\n",
    "tqdm.pandas()"
   ]
  },
  {
   "cell_type": "code",
   "execution_count": null,
   "metadata": {},
   "outputs": [],
   "source": [
    "def prepare_for_bde(smiles):\n",
    "\n",
    "    mol = Chem.MolFromSmiles(smiles)\n",
    "    radical_index = None\n",
    "    for i, atom in enumerate(mol.GetAtoms()):\n",
    "        if atom.GetNumRadicalElectrons() != 0:\n",
    "            assert radical_index == None\n",
    "            is_radical = True\n",
    "            radical_index = i\n",
    "\n",
    "            atom.SetNumExplicitHs(atom.GetNumExplicitHs() + 1)\n",
    "            atom.SetNumRadicalElectrons(0)\n",
    "            break\n",
    "\n",
    "    radical_rank = Chem.CanonicalRankAtoms(mol, includeChirality=True)[radical_index]\n",
    "\n",
    "    mol_smiles = Chem.MolToSmiles(mol)\n",
    "    mol = Chem.MolFromSmiles(mol_smiles)\n",
    "\n",
    "    radical_index_reordered = list(Chem.CanonicalRankAtoms(\n",
    "        mol, includeChirality=True)).index(radical_rank)\n",
    "\n",
    "    molH = Chem.AddHs(mol)\n",
    "    for bond in molH.GetAtomWithIdx(radical_index_reordered).GetBonds():\n",
    "        if 'H' in {bond.GetBeginAtom().GetSymbol(), bond.GetEndAtom().GetSymbol()}:\n",
    "            bond_index = bond.GetIdx()\n",
    "            break\n",
    "    else:\n",
    "        bond_index = None\n",
    "            \n",
    "    return pd.Series({\n",
    "        'mol_smiles': mol_smiles,\n",
    "        'radical_index_mol': radical_index_reordered,\n",
    "        'bond_index': bond_index\n",
    "    })\n",
    "\n",
    "\n",
    "radical_bonds = high_reward.smiles.progress_apply(prepare_for_bde)"
   ]
  },
  {
   "cell_type": "code",
   "execution_count": null,
   "metadata": {},
   "outputs": [],
   "source": [
    "sys.path.append('/projects/rlmolecule/pstjohn/models/20201031_bde/')\n",
    "from preprocess_inputs import preprocessor as bde_preprocessor\n",
    "bde_preprocessor.from_json('/projects/rlmolecule/pstjohn/models/20201031_bde/preprocessor.json')\n",
    "\n",
    "bde_model = tf.keras.models.load_model(\n",
    "    '/projects/rlmolecule/pstjohn/models/20201031_bde/',\n",
    "    compile=False)\n",
    "\n",
    "bde_dataset = tf.data.Dataset.from_generator(\n",
    "    lambda: (bde_preprocessor.construct_feature_matrices(smiles, train=False) for smiles in radical_bonds.mol_smiles),\n",
    "    output_types=bde_preprocessor.output_types,\n",
    "    output_shapes=bde_preprocessor.output_shapes)\\\n",
    "    .padded_batch(batch_size=128, padded_shapes=bde_preprocessor.padded_shapes(max_bonds=100),\n",
    "                  padding_values=bde_preprocessor.padding_values)\n",
    "\n",
    "def bde_check_valid(smiles):\n",
    "    inputs = bde_preprocessor.construct_feature_matrices(smiles, train=False)\n",
    "    return not (inputs['atom'] == 1).any() | (inputs['bond'] == 1).any()\n",
    "    \n",
    "is_valid = high_reward.smiles.progress_apply(bde_check_valid)\n",
    "radical_bonds['is_valid'] = is_valid"
   ]
  },
  {
   "cell_type": "code",
   "execution_count": null,
   "metadata": {},
   "outputs": [],
   "source": [
    "pred_bdes, pred_bdfes = bde_model.predict(bde_dataset, verbose=True)"
   ]
  },
  {
   "cell_type": "code",
   "execution_count": null,
   "metadata": {},
   "outputs": [],
   "source": [
    "high_reward['BDE'] = [pred_bdes[i, n][0] for i, n in enumerate(radical_bonds.bond_index)]\n",
    "high_reward['V_diff'] = high_reward['IE'] - high_reward['EA']\n",
    "valid_subset = high_reward[radical_bonds.is_valid & (high_reward.BDE < 80)]"
   ]
  },
  {
   "cell_type": "code",
   "execution_count": null,
   "metadata": {},
   "outputs": [],
   "source": [
    "from matplotlib.patches import Polygon\n",
    "\n",
    "fig = plt.figure(figsize=(4,4))\n",
    "ax = fig.add_subplot(111, aspect='equal')\n",
    "\n",
    "ax.plot(valid_subset['EA'], valid_subset['IE'], '.', ms=1)\n",
    "ax.add_patch(Polygon(np.array([(-.5, 1.2), (-.5, 0.5), (.2, 1.2)]), facecolor='none', zorder=5, edgecolor='r', lw=3, ls='--'))\n",
    "ax.set_xlim([-1.5, 1.5])\n",
    "ax.set_ylim([-1, 2])\n",
    "\n",
    "ax.axvspan(-.5, .2, facecolor='.8', edgecolor='none')\n",
    "ax.axhspan(.5, 1.2, facecolor='.8', edgecolor='none')\n",
    "\n",
    "ax.set_xlabel(r'$E_{1/2}^o$, EA (V)')\n",
    "ax.set_ylabel(r'$E_{1/2}^o$, IE (V)')"
   ]
  },
  {
   "cell_type": "code",
   "execution_count": null,
   "metadata": {},
   "outputs": [],
   "source": [
    "pass_gng = valid_subset[(valid_subset['EA'] > -.5) &\n",
    "                        (valid_subset['IE'] < 1.2) &\n",
    "                        (valid_subset['V_diff'] > 1)]"
   ]
  },
  {
   "cell_type": "code",
   "execution_count": null,
   "metadata": {},
   "outputs": [],
   "source": [
    "pass_gng.IE.min()"
   ]
  },
  {
   "cell_type": "code",
   "execution_count": null,
   "metadata": {},
   "outputs": [],
   "source": [
    "from matplotlib.patches import Polygon\n",
    "\n",
    "fig = plt.figure(figsize=(4,4))\n",
    "ax = fig.add_subplot(111, aspect='equal')\n",
    "\n",
    "ax.plot(pass_gng['EA'], pass_gng['IE'], '.', ms=1)\n",
    "ax.add_patch(Polygon(np.array([(-.5, 1.2), (-.5, 0.5), (.2, 1.2)]), facecolor='none', zorder=5, edgecolor='r', lw=3, ls='--'))\n",
    "ax.set_xlim([-1.5, 1.5])\n",
    "ax.set_ylim([-1, 2])\n",
    "\n",
    "# ax.axvspan(-.5, .2, facecolor='.8', edgecolor='none')\n",
    "# ax.axhspan(.5, 1.2, facecolor='.8', edgecolor='none')\n",
    "\n",
    "ax.set_xlabel(r'$E_{1/2}^o$, EA (V)')\n",
    "ax.set_ylabel(r'$E_{1/2}^o$, IE (V)')"
   ]
  },
  {
   "cell_type": "code",
   "execution_count": null,
   "metadata": {},
   "outputs": [],
   "source": [
    "pass_gng.sort_values('real_reward', ascending=False)"
   ]
  },
  {
   "cell_type": "code",
   "execution_count": null,
   "metadata": {},
   "outputs": [],
   "source": [
    "# pass_gng.to_csv('20201031_gng_radicals.csv')"
   ]
  },
  {
   "cell_type": "code",
   "execution_count": null,
   "metadata": {},
   "outputs": [],
   "source": [
    "to_plot = pass_gng.sample(64)\n",
    "d2d = rdMolDraw2D.MolDraw2DSVG(150*8, 150*8, 150, 150)\n",
    "opts = d2d.drawOptions()\n",
    "d2d.DrawMolecules([Chem.MolFromSmiles(row.smiles) for _, row in to_plot.iterrows()],\n",
    "                  highlightAtoms=[(int(row.atom_index),) for _, row in to_plot.iterrows()])\n",
    "d2d.FinishDrawing()\n",
    "SVG(d2d.GetDrawingText())"
   ]
  }
 ],
 "metadata": {
  "kernelspec": {
   "display_name": "Python 3",
   "language": "python",
   "name": "python3"
  },
  "language_info": {
   "codemirror_mode": {
    "name": "ipython",
    "version": 3
   },
   "file_extension": ".py",
   "mimetype": "text/x-python",
   "name": "python",
   "nbconvert_exporter": "python",
   "pygments_lexer": "ipython3",
   "version": "3.7.9"
  }
 },
 "nbformat": 4,
 "nbformat_minor": 4
}
