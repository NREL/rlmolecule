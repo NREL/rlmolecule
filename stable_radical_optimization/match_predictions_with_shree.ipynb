{
 "cells": [
  {
   "cell_type": "code",
   "execution_count": 1,
   "metadata": {},
   "outputs": [],
   "source": [
    "import numpy as np\n",
    "import tensorflow as tf\n",
    "gpus = tf.config.experimental.list_physical_devices('GPU')\n",
    "if gpus:\n",
    "    # Currently, memory growth needs to be the same across GPUs\n",
    "    for gpu in gpus:\n",
    "        tf.config.experimental.set_memory_growth(gpu, True)\n",
    "import nfp"
   ]
  },
  {
   "cell_type": "code",
   "execution_count": 2,
   "metadata": {},
   "outputs": [],
   "source": [
    "redox_model = tf.keras.models.load_model(\n",
    "    '/projects/rlmolecule/pstjohn/models/20210107_redox_model/',\n",
    "    compile=False)"
   ]
  },
  {
   "cell_type": "code",
   "execution_count": 3,
   "metadata": {},
   "outputs": [],
   "source": [
    "def atom_featurizer(atom):\n",
    "    \"\"\" Return an integer hash representing the atom type\n",
    "    \"\"\"\n",
    "\n",
    "    return str((\n",
    "        atom.GetSymbol(),\n",
    "        atom.GetNumRadicalElectrons(),\n",
    "        atom.GetFormalCharge(),\n",
    "        atom.GetChiralTag().name,\n",
    "        atom.GetIsAromatic(),\n",
    "        nfp.get_ring_size(atom, max_size=6),\n",
    "        atom.GetDegree(),\n",
    "        atom.GetTotalNumHs(includeNeighbors=True)\n",
    "    ))\n",
    "\n",
    "\n",
    "def bond_featurizer(bond, flipped=False):\n",
    "\n",
    "    if not flipped:\n",
    "        atoms = \"{}-{}\".format(\n",
    "            *tuple((bond.GetBeginAtom().GetSymbol(),\n",
    "                    bond.GetEndAtom().GetSymbol())))\n",
    "    else:\n",
    "        atoms = \"{}-{}\".format(\n",
    "            *tuple((bond.GetEndAtom().GetSymbol(),\n",
    "                    bond.GetBeginAtom().GetSymbol())))\n",
    "\n",
    "    bstereo = bond.GetStereo().name\n",
    "    btype = str(bond.GetBondType())\n",
    "    ring = 'R{}'.format(nfp.get_ring_size(bond, max_size=6)) if bond.IsInRing() else ''\n",
    "\n",
    "    return \" \".join([atoms, btype, ring, bstereo]).strip()\n",
    "\n",
    "\n",
    "preprocessor = nfp.SmilesPreprocessor(\n",
    "    atom_features=atom_featurizer, bond_features=bond_featurizer, explicit_hs=False)\n",
    "\n",
    "preprocessor.from_json('/projects/rlmolecule/pstjohn/models/20210107_redox_model/preprocessor.json')"
   ]
  },
  {
   "cell_type": "code",
   "execution_count": null,
   "metadata": {},
   "outputs": [],
   "source": [
    "preprocessor."
   ]
  },
  {
   "cell_type": "code",
   "execution_count": 4,
   "metadata": {},
   "outputs": [],
   "source": [
    "def pred_redox(smiles):\n",
    "    return redox_model.predict(\n",
    "        {key: tf.constant(np.expand_dims(val, 0))\n",
    "         for key, val in preprocessor.construct_feature_matrices(smiles, train=False).items()}).flatten()"
   ]
  },
  {
   "cell_type": "code",
   "execution_count": 8,
   "metadata": {},
   "outputs": [
    {
     "data": {
      "text/plain": [
       "{'n_atom': 12,\n",
       " 'n_bond': 12,\n",
       " 'bond_indices': array([ 0,  0,  1,  2,  1,  2,  3, 11,  3,  4,  5,  4,  5,  6,  6,  7,  7,\n",
       "         8,  8,  9, 10, 11,  9, 10]),\n",
       " 'atom': array([  8,   4, 107,  24,  24,   8,  27,  26,  26,  52,   8,   8]),\n",
       " 'bond': array([ 3,  3, 70,  3, 71,  3, 41, 14, 41,  3, 14,  3, 14, 14, 14, 14, 14,\n",
       "        14, 14,  3,  3, 14,  3,  3]),\n",
       " 'connectivity': array([[ 0,  1],\n",
       "        [ 1,  0],\n",
       "        [ 1,  2],\n",
       "        [ 1,  3],\n",
       "        [ 2,  1],\n",
       "        [ 3,  1],\n",
       "        [ 3,  4],\n",
       "        [ 3,  9],\n",
       "        [ 4,  3],\n",
       "        [ 4,  5],\n",
       "        [ 4,  6],\n",
       "        [ 5,  4],\n",
       "        [ 6,  4],\n",
       "        [ 6,  7],\n",
       "        [ 7,  6],\n",
       "        [ 7,  8],\n",
       "        [ 8,  7],\n",
       "        [ 8,  9],\n",
       "        [ 9,  8],\n",
       "        [ 9, 10],\n",
       "        [ 9, 11],\n",
       "        [ 9,  3],\n",
       "        [10,  9],\n",
       "        [11,  9]])}"
      ]
     },
     "execution_count": 8,
     "metadata": {},
     "output_type": "execute_result"
    }
   ],
   "source": [
    "preprocessor.construct_feature_matrices('CC(=S)C1=C(C)[CH]CCC1(C)C', train=False)"
   ]
  },
  {
   "cell_type": "code",
   "execution_count": 5,
   "metadata": {},
   "outputs": [
    {
     "name": "stderr",
     "output_type": "stream",
     "text": [
      "/projects/rlmolecule/pstjohn/envs/tf2_gpu/lib/python3.7/site-packages/tensorflow/python/keras/engine/functional.py:543: UserWarning: Input dict contained keys ['n_bond', 'bond_indices'] which did not match any model input. They will be ignored by the model.\n",
      "  [n for n in tensors.keys() if n not in ref_input_names])\n"
     ]
    },
    {
     "data": {
      "text/plain": [
       "array([ 0.71126366, -0.4947876 ], dtype=float32)"
      ]
     },
     "execution_count": 5,
     "metadata": {},
     "output_type": "execute_result"
    }
   ],
   "source": [
    "pred_redox('CC(=S)C1=C(C)[CH]CCC1(C)C')"
   ]
  },
  {
   "cell_type": "code",
   "execution_count": 6,
   "metadata": {},
   "outputs": [],
   "source": [
    "import pandas as pd\n",
    "gng = pd.read_csv('20210109_gng_radicals.csv.gz', index_col=0)"
   ]
  },
  {
   "cell_type": "code",
   "execution_count": 7,
   "metadata": {},
   "outputs": [
    {
     "data": {
      "text/html": [
       "<div>\n",
       "<style scoped>\n",
       "    .dataframe tbody tr th:only-of-type {\n",
       "        vertical-align: middle;\n",
       "    }\n",
       "\n",
       "    .dataframe tbody tr th {\n",
       "        vertical-align: top;\n",
       "    }\n",
       "\n",
       "    .dataframe thead th {\n",
       "        text-align: right;\n",
       "    }\n",
       "</style>\n",
       "<table border=\"1\" class=\"dataframe\">\n",
       "  <thead>\n",
       "    <tr style=\"text-align: right;\">\n",
       "      <th></th>\n",
       "      <th>smiles</th>\n",
       "      <th>time</th>\n",
       "      <th>real_reward</th>\n",
       "      <th>atom_type</th>\n",
       "      <th>buried_vol</th>\n",
       "      <th>max_spin</th>\n",
       "      <th>atom_index</th>\n",
       "      <th>ie</th>\n",
       "      <th>ea</th>\n",
       "      <th>bde</th>\n",
       "    </tr>\n",
       "  </thead>\n",
       "  <tbody>\n",
       "    <tr>\n",
       "      <th>823300</th>\n",
       "      <td>CC(=S)C1=C(C)[CH]CCC1(C)C</td>\n",
       "      <td>2021-01-08 21:20:03.435049</td>\n",
       "      <td>181.28307</td>\n",
       "      <td>C</td>\n",
       "      <td>71.99054</td>\n",
       "      <td>0.332517</td>\n",
       "      <td>3</td>\n",
       "      <td>0.711264</td>\n",
       "      <td>-0.494788</td>\n",
       "      <td>79.90403</td>\n",
       "    </tr>\n",
       "  </tbody>\n",
       "</table>\n",
       "</div>"
      ],
      "text/plain": [
       "                           smiles                        time  real_reward  \\\n",
       "823300  CC(=S)C1=C(C)[CH]CCC1(C)C  2021-01-08 21:20:03.435049    181.28307   \n",
       "\n",
       "       atom_type  buried_vol  max_spin  atom_index        ie        ea  \\\n",
       "823300         C    71.99054  0.332517           3  0.711264 -0.494788   \n",
       "\n",
       "             bde  \n",
       "823300  79.90403  "
      ]
     },
     "execution_count": 7,
     "metadata": {},
     "output_type": "execute_result"
    }
   ],
   "source": [
    "gng[gng.smiles == 'CC(=S)C1=C(C)[CH]CCC1(C)C']"
   ]
  }
 ],
 "metadata": {
  "kernelspec": {
   "display_name": "Python 3",
   "language": "python",
   "name": "python3"
  },
  "language_info": {
   "codemirror_mode": {
    "name": "ipython",
    "version": 3
   },
   "file_extension": ".py",
   "mimetype": "text/x-python",
   "name": "python",
   "nbconvert_exporter": "python",
   "pygments_lexer": "ipython3",
   "version": "3.7.8"
  }
 },
 "nbformat": 4,
 "nbformat_minor": 4
}
