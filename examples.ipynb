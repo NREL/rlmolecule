{
 "cells": [
  {
   "cell_type": "code",
   "execution_count": 1,
   "metadata": {},
   "outputs": [],
   "source": [
    "%load_ext autoreload"
   ]
  },
  {
   "cell_type": "code",
   "execution_count": 2,
   "metadata": {},
   "outputs": [],
   "source": [
    "%autoreload 2"
   ]
  },
  {
   "cell_type": "code",
   "execution_count": 3,
   "metadata": {},
   "outputs": [],
   "source": [
    "import numpy as np\n",
    "\n",
    "import rdkit\n",
    "import rdkit.Chem.AllChem\n",
    "from rdkit import Chem\n",
    "\n",
    "from molecule_builder import build_molecules"
   ]
  },
  {
   "cell_type": "code",
   "execution_count": 4,
   "metadata": {},
   "outputs": [
    {
     "data": {
      "text/plain": [
       "['C=O', 'CO', 'C=N', 'C#N', 'CN', 'C=C', 'C#C', 'CC']"
      ]
     },
     "execution_count": 4,
     "metadata": {},
     "output_type": "execute_result"
    }
   ],
   "source": [
    "# `build_molecules` returns an iterator that enumerates the action space\n",
    "# from a given starting molecule.\n",
    "\n",
    "start = Chem.MolFromSmiles('C')\n",
    "[Chem.MolToSmiles(mol) for mol in build_molecules(start)]"
   ]
  },
  {
   "cell_type": "code",
   "execution_count": 5,
   "metadata": {},
   "outputs": [],
   "source": [
    "def build_nested(mol, num):\n",
    "    \"\"\" Simulate tree search / RL by recursively calling build_molecules\n",
    "    on it's own output a desired number of times. Note, this is NOT the\n",
    "    most efficient way to iterate over sets of molecules at higher depths.\n",
    "    (For that, we should de-duplicate each iteration). This is fast for a\n",
    "    depth-first search, though.\n",
    "    \"\"\"\n",
    "    \n",
    "    for mol in build_molecules(mol):\n",
    "        if num == 1:\n",
    "            yield mol\n",
    "            \n",
    "        else:\n",
    "            yield from build_nested(mol, num=num-1)"
   ]
  },
  {
   "cell_type": "code",
   "execution_count": 6,
   "metadata": {},
   "outputs": [
    {
     "data": {
      "text/plain": [
       "'NOC=C1N=C(N=O)C(=O)N(OOOC2(OC(=O)OOC#CN(ON=O)OOOOOC(=O)N=NOC(N=O)=NN=O)OC(=O)N2N=O)O1'"
      ]
     },
     "execution_count": 6,
     "metadata": {},
     "output_type": "execute_result"
    }
   ],
   "source": [
    "# Generate a random molecule with desired depth\n",
    "Chem.MolToSmiles(next(build_nested(start, num=50)))"
   ]
  },
  {
   "cell_type": "code",
   "execution_count": 7,
   "metadata": {},
   "outputs": [
    {
     "name": "stdout",
     "output_type": "stream",
     "text": [
      "74 ms ± 3.55 ms per loop (mean ± std. dev. of 7 runs, 10 loops each)\n"
     ]
    }
   ],
   "source": [
    "%timeit Chem.MolToSmiles(next(build_nested(start, num=50)))"
   ]
  },
  {
   "cell_type": "code",
   "execution_count": 8,
   "metadata": {},
   "outputs": [
    {
     "name": "stdout",
     "output_type": "stream",
     "text": [
      " "
     ]
    },
    {
     "data": {
      "text/plain": [
       "         50221 function calls (50172 primitive calls) in 0.074 seconds\n",
       "\n",
       "   Ordered by: internal time\n",
       "\n",
       "   ncalls  tottime  percall  cumtime  percall filename:lineno(function)\n",
       "       50    0.017    0.000    0.017    0.000 EnumerateStereoisomers.py:79(_getFlippers)\n",
       "     3823    0.012    0.000    0.021    0.000 molecule_builder.py:50(get_valid_bonds)\n",
       "     6998    0.008    0.000    0.008    0.000 molecule_builder.py:18(get_free_valence)\n",
       "      100    0.007    0.000    0.024    0.000 EnumerateStereoisomers.py:164(EnumerateStereoisomers)\n",
       "     4176    0.007    0.000    0.015    0.000 molecule_builder.py:12(shuffle)\n",
       "      100    0.007    0.000    0.073    0.001 molecule_builder.py:23(build_molecules)\n",
       "      253    0.004    0.000    0.006    0.000 molecule_builder.py:41(get_valid_partners)\n",
       "     4176    0.004    0.000    0.008    0.000 random.py:264(shuffle)\n",
       "     4790    0.002    0.000    0.003    0.000 random.py:224(_randbelow)\n",
       "     7646    0.001    0.000    0.001    0.000 {built-in method builtins.min}\n",
       "       50    0.001    0.000    0.001    0.000 molecule_builder.py:61(add_bond)\n",
       "      253    0.001    0.000    0.001    0.000 {built-in method numpy.arange}\n",
       "     7474    0.001    0.000    0.001    0.000 {method 'getrandbits' of '_random.Random' objects}\n",
       "        1    0.001    0.001    0.074    0.074 <string>:1(<module>)\n",
       "     4479    0.000    0.000    0.000    0.000 {built-in method builtins.len}\n",
       "   100/51    0.000    0.000    0.074    0.001 <ipython-input-5-80749a632e6c>:1(build_nested)\n",
       "     4790    0.000    0.000    0.000    0.000 {method 'bit_length' of 'int' objects}\n",
       "      832    0.000    0.000    0.000    0.000 molecule_builder.py:45(<genexpr>)\n",
       "       50    0.000    0.000    0.024    0.000 molecule_builder.py:76(enumerate_stereoisomers)\n",
       "        1    0.000    0.000    0.074    0.074 {built-in method builtins.exec}\n",
       "       50    0.000    0.000    0.000    0.000 EnumerateStereoisomers.py:30(__init__)\n",
       "        6    0.000    0.000    0.000    0.000 EnumerateStereoisomers.py:45(flip)\n",
       "        9    0.000    0.000    0.000    0.000 EnumerateStereoisomers.py:110(__iter__)\n",
       "        3    0.000    0.000    0.000    0.000 {method 'add' of 'set' objects}\n",
       "        3    0.000    0.000    0.000    0.000 EnumerateStereoisomers.py:107(__init__)\n",
       "        3    0.000    0.000    0.000    0.000 EnumerateStereoisomers.py:42(__init__)\n",
       "        1    0.000    0.000    0.073    0.073 {built-in method builtins.next}\n",
       "        3    0.000    0.000    0.000    0.000 {method 'append' of 'list' objects}\n",
       "        1    0.000    0.000    0.000    0.000 {method 'disable' of '_lsprof.Profiler' objects}"
      ]
     },
     "metadata": {},
     "output_type": "display_data"
    }
   ],
   "source": [
    "%prun Chem.MolToSmiles(next(build_nested(start, num=50)))"
   ]
  },
  {
   "cell_type": "code",
   "execution_count": 10,
   "metadata": {},
   "outputs": [
    {
     "data": {
      "text/plain": [
       "[8, 38, 234, 1383]"
      ]
     },
     "execution_count": 10,
     "metadata": {},
     "output_type": "execute_result"
    }
   ],
   "source": [
    "# The tree size increases fast\n",
    "[len({Chem.MolToSmiles(m) for m in build_nested(start, num=i)}) for i in range(1, 5)]"
   ]
  },
  {
   "cell_type": "code",
   "execution_count": null,
   "metadata": {},
   "outputs": [],
   "source": [
    "def get_fingerprint(mol, radius=2, fp_length=128):\n",
    "    \"\"\" In case we want to work with fingerprints for development, this calculates a\n",
    "    Morgan fingerprint as a numpy array \"\"\"\n",
    "\n",
    "    fingerprint = rdkit.Chem.AllChem.GetMorganFingerprintAsBitVect(mol, radius, fp_length)\n",
    "    arr = np.zeros((fp_length,))\n",
    "    rdkit.DataStructs.ConvertToNumpyArray(fingerprint, arr)\n",
    "    return arr\n",
    "\n",
    "\n",
    "mol = next(build_nested(start, num=12))\n",
    "get_fingerprint(mol)"
   ]
  }
 ],
 "metadata": {
  "kernelspec": {
   "display_name": "Python 3",
   "language": "python",
   "name": "python3"
  },
  "language_info": {
   "codemirror_mode": {
    "name": "ipython",
    "version": 3
   },
   "file_extension": ".py",
   "mimetype": "text/x-python",
   "name": "python",
   "nbconvert_exporter": "python",
   "pygments_lexer": "ipython3",
   "version": "3.7.8"
  }
 },
 "nbformat": 4,
 "nbformat_minor": 4
}
