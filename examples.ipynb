{
 "cells": [
  {
   "cell_type": "code",
   "execution_count": 7,
   "metadata": {},
   "outputs": [],
   "source": [
    "import numpy as np\n",
    "\n",
    "import rdkit\n",
    "import rdkit.Chem.AllChem\n",
    "from rdkit import Chem\n",
    "\n",
    "from molecule_builder import build_molecules"
   ]
  },
  {
   "cell_type": "code",
   "execution_count": 8,
   "metadata": {},
   "outputs": [
    {
     "data": {
      "text/plain": [
       "['C#C', 'C=C', 'CC', 'C=O', 'CO', 'C=N', 'CN', 'C#N']"
      ]
     },
     "execution_count": 8,
     "metadata": {},
     "output_type": "execute_result"
    }
   ],
   "source": [
    "# `build_molecules` returns an iterator that enumerates the action space\n",
    "# from a given starting molecule.\n",
    "\n",
    "start = Chem.MolFromSmiles('C')\n",
    "[Chem.MolToSmiles(mol) for mol in build_molecules(start)]"
   ]
  },
  {
   "cell_type": "code",
   "execution_count": 9,
   "metadata": {},
   "outputs": [],
   "source": [
    "def build_nested(mol, num):\n",
    "    \"\"\" Simulate tree search / RL by recursively calling build_molecules\n",
    "    on it's own output a desired number of times. Note, this is NOT the\n",
    "    most efficient way to iterate over sets of molecules at higher depths.\n",
    "    (For that, we should de-duplicate each iteration). This is fast for a\n",
    "    depth-first search, though.\n",
    "    \"\"\"\n",
    "    \n",
    "    for mol in build_molecules(mol):\n",
    "        if num == 1:\n",
    "            yield mol\n",
    "            \n",
    "        else:\n",
    "            yield from build_nested(mol, num=num-1)"
   ]
  },
  {
   "cell_type": "code",
   "execution_count": 10,
   "metadata": {},
   "outputs": [
    {
     "data": {
      "text/plain": [
       "'C=NON(N=O)C(=O)OOOC#N'"
      ]
     },
     "execution_count": 10,
     "metadata": {},
     "output_type": "execute_result"
    }
   ],
   "source": [
    "# Generate a random molecule with desired depth\n",
    "Chem.MolToSmiles(next(build_nested(start, num=12)))"
   ]
  },
  {
   "cell_type": "code",
   "execution_count": 11,
   "metadata": {},
   "outputs": [
    {
     "data": {
      "text/plain": [
       "[8, 38, 234, 1383]"
      ]
     },
     "execution_count": 11,
     "metadata": {},
     "output_type": "execute_result"
    }
   ],
   "source": [
    "# The tree size increases fast\n",
    "[len({Chem.MolToSmiles(m) for m in build_nested(start, num=i)}) for i in range(1, 5)]"
   ]
  },
  {
   "cell_type": "code",
   "execution_count": 12,
   "metadata": {},
   "outputs": [
    {
     "data": {
      "text/plain": [
       "array([0., 1., 0., 0., 1., 0., 0., 0., 0., 1., 1., 0., 0., 0., 1., 0., 1.,\n",
       "       0., 0., 0., 0., 0., 0., 0., 0., 1., 0., 0., 0., 0., 0., 1., 0., 0.,\n",
       "       1., 0., 0., 0., 0., 1., 0., 0., 0., 0., 0., 0., 0., 0., 0., 0., 0.,\n",
       "       0., 0., 0., 0., 1., 0., 0., 0., 0., 0., 0., 0., 0., 0., 0., 0., 0.,\n",
       "       0., 0., 0., 0., 0., 0., 0., 0., 0., 0., 0., 0., 0., 1., 0., 0., 0.,\n",
       "       1., 0., 1., 0., 0., 1., 0., 0., 0., 0., 1., 0., 0., 0., 0., 0., 0.,\n",
       "       1., 0., 0., 1., 0., 0., 0., 1., 0., 0., 0., 1., 0., 0., 0., 0., 0.,\n",
       "       0., 1., 0., 0., 1., 0., 1., 1., 0.])"
      ]
     },
     "execution_count": 12,
     "metadata": {},
     "output_type": "execute_result"
    }
   ],
   "source": [
    "def get_fingerprint(mol, radius=2, fp_length=128):\n",
    "    \"\"\" In case we want to work with fingerprints for development, this calculates a\n",
    "    Morgan fingerprint as a numpy array \"\"\"\n",
    "\n",
    "    fingerprint = rdkit.Chem.AllChem.GetMorganFingerprintAsBitVect(mol, radius, fp_length)\n",
    "    arr = np.zeros((fp_length,))\n",
    "    rdkit.DataStructs.ConvertToNumpyArray(fingerprint, arr)\n",
    "    return arr\n",
    "\n",
    "\n",
    "mol = next(build_nested(start, num=12))\n",
    "get_fingerprint(mol)"
   ]
  }
 ],
 "metadata": {
  "kernelspec": {
   "display_name": "Python 3",
   "language": "python",
   "name": "python3"
  },
  "language_info": {
   "codemirror_mode": {
    "name": "ipython",
    "version": 3
   },
   "file_extension": ".py",
   "mimetype": "text/x-python",
   "name": "python",
   "nbconvert_exporter": "python",
   "pygments_lexer": "ipython3",
   "version": "3.7.6"
  }
 },
 "nbformat": 4,
 "nbformat_minor": 4
}
